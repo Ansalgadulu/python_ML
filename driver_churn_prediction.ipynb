{
  "nbformat": 4,
  "nbformat_minor": 0,
  "metadata": {
    "colab": {
      "provenance": [],
      "collapsed_sections": [
        "nSdN-CAWhalp",
        "EuQ-elBHhjbL",
        "0X8rUSI1ettY",
        "LD6rnXMnwdRW",
        "ImvEiUxgwits"
      ],
      "authorship_tag": "ABX9TyMl5M9MvW9Pb6uU2SoL300a",
      "include_colab_link": true
    },
    "kernelspec": {
      "name": "python3",
      "display_name": "Python 3"
    },
    "language_info": {
      "name": "python"
    }
  },
  "cells": [
    {
      "cell_type": "markdown",
      "metadata": {
        "id": "view-in-github",
        "colab_type": "text"
      },
      "source": [
        "<a href=\"https://colab.research.google.com/github/Ansalgadulu/python_ML/blob/main/driver_churn_prediction.ipynb\" target=\"_parent\"><img src=\"https://colab.research.google.com/assets/colab-badge.svg\" alt=\"Open In Colab\"/></a>"
      ]
    },
    {
      "cell_type": "code",
      "source": [
        "!pip install matplotlib_inline"
      ],
      "metadata": {
        "colab": {
          "base_uri": "https://localhost:8080/"
        },
        "id": "CZcNVUWlVNhG",
        "outputId": "df0eed32-ca33-4a95-beb0-1bacbba7ad9d"
      },
      "execution_count": null,
      "outputs": [
        {
          "output_type": "stream",
          "name": "stdout",
          "text": [
            "Requirement already satisfied: matplotlib_inline in /usr/local/lib/python3.10/dist-packages (0.1.6)\n",
            "Requirement already satisfied: traitlets in /usr/local/lib/python3.10/dist-packages (from matplotlib_inline) (5.7.1)\n"
          ]
        }
      ]
    },
    {
      "cell_type": "code",
      "execution_count": null,
      "metadata": {
        "id": "ejRh4qt2wQ7L"
      },
      "outputs": [],
      "source": [
        "import pandas as pd\n",
        "import numpy as np\n",
        "import matplotlib.pyplot as plt\n",
        "import seaborn as sns\n",
        "import scipy.stats as stats\n",
        "import matplotlib_inline\n",
        "matplotlib_inline.backend_inline.set_matplotlib_formats('svg')\n"
      ]
    },
    {
      "cell_type": "code",
      "source": [
        "df=pd.read_csv(\"https://d2beiqkhq929f0.cloudfront.net/public_assets/assets/000/002/492/original/ola_driver_scaler.csv\")\n",
        "df.head(5)"
      ],
      "metadata": {
        "colab": {
          "base_uri": "https://localhost:8080/",
          "height": 206
        },
        "id": "Y4PW56cdwbz1",
        "outputId": "0916358a-a8a0-43a7-8d4c-9ab2a57956c7"
      },
      "execution_count": null,
      "outputs": [
        {
          "output_type": "execute_result",
          "data": {
            "text/plain": [
              "   Unnamed: 0    MMM-YY  Driver_ID   Age  Gender City  Education_Level  \\\n",
              "0           0  01/01/19          1  28.0     0.0  C23                2   \n",
              "1           1  02/01/19          1  28.0     0.0  C23                2   \n",
              "2           2  03/01/19          1  28.0     0.0  C23                2   \n",
              "3           3  11/01/20          2  31.0     0.0   C7                2   \n",
              "4           4  12/01/20          2  31.0     0.0   C7                2   \n",
              "\n",
              "   Income Dateofjoining LastWorkingDate  Joining Designation  Grade  \\\n",
              "0   57387      24/12/18             NaN                    1      1   \n",
              "1   57387      24/12/18             NaN                    1      1   \n",
              "2   57387      24/12/18        03/11/19                    1      1   \n",
              "3   67016      11/06/20             NaN                    2      2   \n",
              "4   67016      11/06/20             NaN                    2      2   \n",
              "\n",
              "   Total Business Value  Quarterly Rating  \n",
              "0               2381060                 2  \n",
              "1               -665480                 2  \n",
              "2                     0                 2  \n",
              "3                     0                 1  \n",
              "4                     0                 1  "
            ],
            "text/html": [
              "\n",
              "\n",
              "  <div id=\"df-95a3b547-86ae-4b95-b4a2-b15fcdb68cb3\">\n",
              "    <div class=\"colab-df-container\">\n",
              "      <div>\n",
              "<style scoped>\n",
              "    .dataframe tbody tr th:only-of-type {\n",
              "        vertical-align: middle;\n",
              "    }\n",
              "\n",
              "    .dataframe tbody tr th {\n",
              "        vertical-align: top;\n",
              "    }\n",
              "\n",
              "    .dataframe thead th {\n",
              "        text-align: right;\n",
              "    }\n",
              "</style>\n",
              "<table border=\"1\" class=\"dataframe\">\n",
              "  <thead>\n",
              "    <tr style=\"text-align: right;\">\n",
              "      <th></th>\n",
              "      <th>Unnamed: 0</th>\n",
              "      <th>MMM-YY</th>\n",
              "      <th>Driver_ID</th>\n",
              "      <th>Age</th>\n",
              "      <th>Gender</th>\n",
              "      <th>City</th>\n",
              "      <th>Education_Level</th>\n",
              "      <th>Income</th>\n",
              "      <th>Dateofjoining</th>\n",
              "      <th>LastWorkingDate</th>\n",
              "      <th>Joining Designation</th>\n",
              "      <th>Grade</th>\n",
              "      <th>Total Business Value</th>\n",
              "      <th>Quarterly Rating</th>\n",
              "    </tr>\n",
              "  </thead>\n",
              "  <tbody>\n",
              "    <tr>\n",
              "      <th>0</th>\n",
              "      <td>0</td>\n",
              "      <td>01/01/19</td>\n",
              "      <td>1</td>\n",
              "      <td>28.0</td>\n",
              "      <td>0.0</td>\n",
              "      <td>C23</td>\n",
              "      <td>2</td>\n",
              "      <td>57387</td>\n",
              "      <td>24/12/18</td>\n",
              "      <td>NaN</td>\n",
              "      <td>1</td>\n",
              "      <td>1</td>\n",
              "      <td>2381060</td>\n",
              "      <td>2</td>\n",
              "    </tr>\n",
              "    <tr>\n",
              "      <th>1</th>\n",
              "      <td>1</td>\n",
              "      <td>02/01/19</td>\n",
              "      <td>1</td>\n",
              "      <td>28.0</td>\n",
              "      <td>0.0</td>\n",
              "      <td>C23</td>\n",
              "      <td>2</td>\n",
              "      <td>57387</td>\n",
              "      <td>24/12/18</td>\n",
              "      <td>NaN</td>\n",
              "      <td>1</td>\n",
              "      <td>1</td>\n",
              "      <td>-665480</td>\n",
              "      <td>2</td>\n",
              "    </tr>\n",
              "    <tr>\n",
              "      <th>2</th>\n",
              "      <td>2</td>\n",
              "      <td>03/01/19</td>\n",
              "      <td>1</td>\n",
              "      <td>28.0</td>\n",
              "      <td>0.0</td>\n",
              "      <td>C23</td>\n",
              "      <td>2</td>\n",
              "      <td>57387</td>\n",
              "      <td>24/12/18</td>\n",
              "      <td>03/11/19</td>\n",
              "      <td>1</td>\n",
              "      <td>1</td>\n",
              "      <td>0</td>\n",
              "      <td>2</td>\n",
              "    </tr>\n",
              "    <tr>\n",
              "      <th>3</th>\n",
              "      <td>3</td>\n",
              "      <td>11/01/20</td>\n",
              "      <td>2</td>\n",
              "      <td>31.0</td>\n",
              "      <td>0.0</td>\n",
              "      <td>C7</td>\n",
              "      <td>2</td>\n",
              "      <td>67016</td>\n",
              "      <td>11/06/20</td>\n",
              "      <td>NaN</td>\n",
              "      <td>2</td>\n",
              "      <td>2</td>\n",
              "      <td>0</td>\n",
              "      <td>1</td>\n",
              "    </tr>\n",
              "    <tr>\n",
              "      <th>4</th>\n",
              "      <td>4</td>\n",
              "      <td>12/01/20</td>\n",
              "      <td>2</td>\n",
              "      <td>31.0</td>\n",
              "      <td>0.0</td>\n",
              "      <td>C7</td>\n",
              "      <td>2</td>\n",
              "      <td>67016</td>\n",
              "      <td>11/06/20</td>\n",
              "      <td>NaN</td>\n",
              "      <td>2</td>\n",
              "      <td>2</td>\n",
              "      <td>0</td>\n",
              "      <td>1</td>\n",
              "    </tr>\n",
              "  </tbody>\n",
              "</table>\n",
              "</div>\n",
              "      <button class=\"colab-df-convert\" onclick=\"convertToInteractive('df-95a3b547-86ae-4b95-b4a2-b15fcdb68cb3')\"\n",
              "              title=\"Convert this dataframe to an interactive table.\"\n",
              "              style=\"display:none;\">\n",
              "\n",
              "  <svg xmlns=\"http://www.w3.org/2000/svg\" height=\"24px\"viewBox=\"0 0 24 24\"\n",
              "       width=\"24px\">\n",
              "    <path d=\"M0 0h24v24H0V0z\" fill=\"none\"/>\n",
              "    <path d=\"M18.56 5.44l.94 2.06.94-2.06 2.06-.94-2.06-.94-.94-2.06-.94 2.06-2.06.94zm-11 1L8.5 8.5l.94-2.06 2.06-.94-2.06-.94L8.5 2.5l-.94 2.06-2.06.94zm10 10l.94 2.06.94-2.06 2.06-.94-2.06-.94-.94-2.06-.94 2.06-2.06.94z\"/><path d=\"M17.41 7.96l-1.37-1.37c-.4-.4-.92-.59-1.43-.59-.52 0-1.04.2-1.43.59L10.3 9.45l-7.72 7.72c-.78.78-.78 2.05 0 2.83L4 21.41c.39.39.9.59 1.41.59.51 0 1.02-.2 1.41-.59l7.78-7.78 2.81-2.81c.8-.78.8-2.07 0-2.86zM5.41 20L4 18.59l7.72-7.72 1.47 1.35L5.41 20z\"/>\n",
              "  </svg>\n",
              "      </button>\n",
              "\n",
              "\n",
              "\n",
              "    <div id=\"df-eaf14661-c40d-4ad7-81de-fc2517da1c5a\">\n",
              "      <button class=\"colab-df-quickchart\" onclick=\"quickchart('df-eaf14661-c40d-4ad7-81de-fc2517da1c5a')\"\n",
              "              title=\"Suggest charts.\"\n",
              "              style=\"display:none;\">\n",
              "\n",
              "<svg xmlns=\"http://www.w3.org/2000/svg\" height=\"24px\"viewBox=\"0 0 24 24\"\n",
              "     width=\"24px\">\n",
              "    <g>\n",
              "        <path d=\"M19 3H5c-1.1 0-2 .9-2 2v14c0 1.1.9 2 2 2h14c1.1 0 2-.9 2-2V5c0-1.1-.9-2-2-2zM9 17H7v-7h2v7zm4 0h-2V7h2v10zm4 0h-2v-4h2v4z\"/>\n",
              "    </g>\n",
              "</svg>\n",
              "      </button>\n",
              "    </div>\n",
              "\n",
              "<style>\n",
              "  .colab-df-quickchart {\n",
              "    background-color: #E8F0FE;\n",
              "    border: none;\n",
              "    border-radius: 50%;\n",
              "    cursor: pointer;\n",
              "    display: none;\n",
              "    fill: #1967D2;\n",
              "    height: 32px;\n",
              "    padding: 0 0 0 0;\n",
              "    width: 32px;\n",
              "  }\n",
              "\n",
              "  .colab-df-quickchart:hover {\n",
              "    background-color: #E2EBFA;\n",
              "    box-shadow: 0px 1px 2px rgba(60, 64, 67, 0.3), 0px 1px 3px 1px rgba(60, 64, 67, 0.15);\n",
              "    fill: #174EA6;\n",
              "  }\n",
              "\n",
              "  [theme=dark] .colab-df-quickchart {\n",
              "    background-color: #3B4455;\n",
              "    fill: #D2E3FC;\n",
              "  }\n",
              "\n",
              "  [theme=dark] .colab-df-quickchart:hover {\n",
              "    background-color: #434B5C;\n",
              "    box-shadow: 0px 1px 3px 1px rgba(0, 0, 0, 0.15);\n",
              "    filter: drop-shadow(0px 1px 2px rgba(0, 0, 0, 0.3));\n",
              "    fill: #FFFFFF;\n",
              "  }\n",
              "</style>\n",
              "\n",
              "    <script>\n",
              "      async function quickchart(key) {\n",
              "        const containerElement = document.querySelector('#' + key);\n",
              "        const charts = await google.colab.kernel.invokeFunction(\n",
              "            'suggestCharts', [key], {});\n",
              "      }\n",
              "    </script>\n",
              "\n",
              "      <script>\n",
              "\n",
              "function displayQuickchartButton(domScope) {\n",
              "  let quickchartButtonEl =\n",
              "    domScope.querySelector('#df-eaf14661-c40d-4ad7-81de-fc2517da1c5a button.colab-df-quickchart');\n",
              "  quickchartButtonEl.style.display =\n",
              "    google.colab.kernel.accessAllowed ? 'block' : 'none';\n",
              "}\n",
              "\n",
              "        displayQuickchartButton(document);\n",
              "      </script>\n",
              "      <style>\n",
              "    .colab-df-container {\n",
              "      display:flex;\n",
              "      flex-wrap:wrap;\n",
              "      gap: 12px;\n",
              "    }\n",
              "\n",
              "    .colab-df-convert {\n",
              "      background-color: #E8F0FE;\n",
              "      border: none;\n",
              "      border-radius: 50%;\n",
              "      cursor: pointer;\n",
              "      display: none;\n",
              "      fill: #1967D2;\n",
              "      height: 32px;\n",
              "      padding: 0 0 0 0;\n",
              "      width: 32px;\n",
              "    }\n",
              "\n",
              "    .colab-df-convert:hover {\n",
              "      background-color: #E2EBFA;\n",
              "      box-shadow: 0px 1px 2px rgba(60, 64, 67, 0.3), 0px 1px 3px 1px rgba(60, 64, 67, 0.15);\n",
              "      fill: #174EA6;\n",
              "    }\n",
              "\n",
              "    [theme=dark] .colab-df-convert {\n",
              "      background-color: #3B4455;\n",
              "      fill: #D2E3FC;\n",
              "    }\n",
              "\n",
              "    [theme=dark] .colab-df-convert:hover {\n",
              "      background-color: #434B5C;\n",
              "      box-shadow: 0px 1px 3px 1px rgba(0, 0, 0, 0.15);\n",
              "      filter: drop-shadow(0px 1px 2px rgba(0, 0, 0, 0.3));\n",
              "      fill: #FFFFFF;\n",
              "    }\n",
              "  </style>\n",
              "\n",
              "      <script>\n",
              "        const buttonEl =\n",
              "          document.querySelector('#df-95a3b547-86ae-4b95-b4a2-b15fcdb68cb3 button.colab-df-convert');\n",
              "        buttonEl.style.display =\n",
              "          google.colab.kernel.accessAllowed ? 'block' : 'none';\n",
              "\n",
              "        async function convertToInteractive(key) {\n",
              "          const element = document.querySelector('#df-95a3b547-86ae-4b95-b4a2-b15fcdb68cb3');\n",
              "          const dataTable =\n",
              "            await google.colab.kernel.invokeFunction('convertToInteractive',\n",
              "                                                     [key], {});\n",
              "          if (!dataTable) return;\n",
              "\n",
              "          const docLinkHtml = 'Like what you see? Visit the ' +\n",
              "            '<a target=\"_blank\" href=https://colab.research.google.com/notebooks/data_table.ipynb>data table notebook</a>'\n",
              "            + ' to learn more about interactive tables.';\n",
              "          element.innerHTML = '';\n",
              "          dataTable['output_type'] = 'display_data';\n",
              "          await google.colab.output.renderOutput(dataTable, element);\n",
              "          const docLink = document.createElement('div');\n",
              "          docLink.innerHTML = docLinkHtml;\n",
              "          element.appendChild(docLink);\n",
              "        }\n",
              "      </script>\n",
              "    </div>\n",
              "  </div>\n"
            ]
          },
          "metadata": {},
          "execution_count": 4
        }
      ]
    },
    {
      "cell_type": "code",
      "source": [
        "len(df),min(df[\"Unnamed: 0\"]),max(df[\"Unnamed: 0\"])##check if there is any difeerence between index and unnamed"
      ],
      "metadata": {
        "colab": {
          "base_uri": "https://localhost:8080/"
        },
        "id": "CRVV-0r8wqNa",
        "outputId": "7d7044e1-031b-4e16-b352-83186b2f9e28"
      },
      "execution_count": null,
      "outputs": [
        {
          "output_type": "execute_result",
          "data": {
            "text/plain": [
              "(19104, 0, 19103)"
            ]
          },
          "metadata": {},
          "execution_count": 5
        }
      ]
    },
    {
      "cell_type": "markdown",
      "source": [
        "The data we have is monthly data for drivers enrolled under Ola .\n",
        "We have the following features for each of the drivers:\n",
        "1.\tMMMM-YY : Reporting Date (Monthly)\n",
        "2.\tDriver_ID : Unique id for drivers\n",
        "3.\tAge : Age of the driver\n",
        "4.\tGender : Gender of the driver – Male : 0, Female: 1\n",
        "5.\tCity : City Code of the driver\n",
        "6.\tEducation_Level : Education level – 0 for 10+ ,1 for 12+ ,2 for graduate\n",
        "7.\tIncome : Monthly average Income of the driver\n",
        "8.\tDate Of Joining : Joining date for the driver\n",
        "9.\tLastWorkingDate : Last date of working for the driver\n",
        "10.\tJoining Designation : Designation of the driver at the time of joining\n",
        "11.\tGrade : Grade of the driver at the time of reporting\n",
        "12.\tTotal Business Value : The total business value acquired by the driver in a month (negative business indicates cancellation/refund or car EMI adjustments)\n",
        "13.\tQuarterly Rating : Quarterly rating of the driver: 1,2,3,4,5 (higher is better)\n",
        "\n",
        "##Our Goal for this study is to create a ML model using bagging and boosting techniques for decision trees to predict if a driver is going to leave the buisness and what are the major factors leading to the same."
      ],
      "metadata": {
        "id": "p2lI9cb6ey95"
      }
    },
    {
      "cell_type": "code",
      "source": [
        "# we can drop the #unnamed row as it is the same a index\n",
        "df.drop(['Unnamed: 0'],axis=1, inplace=True)\n",
        "df.head()"
      ],
      "metadata": {
        "colab": {
          "base_uri": "https://localhost:8080/",
          "height": 206
        },
        "id": "apVbS91Owz-U",
        "outputId": "4fc2e915-a76d-40d6-f7b3-f81d03f175f4"
      },
      "execution_count": null,
      "outputs": [
        {
          "output_type": "execute_result",
          "data": {
            "text/plain": [
              "     MMM-YY  Driver_ID   Age  Gender City  Education_Level  Income  \\\n",
              "0  01/01/19          1  28.0     0.0  C23                2   57387   \n",
              "1  02/01/19          1  28.0     0.0  C23                2   57387   \n",
              "2  03/01/19          1  28.0     0.0  C23                2   57387   \n",
              "3  11/01/20          2  31.0     0.0   C7                2   67016   \n",
              "4  12/01/20          2  31.0     0.0   C7                2   67016   \n",
              "\n",
              "  Dateofjoining LastWorkingDate  Joining Designation  Grade  \\\n",
              "0      24/12/18             NaN                    1      1   \n",
              "1      24/12/18             NaN                    1      1   \n",
              "2      24/12/18        03/11/19                    1      1   \n",
              "3      11/06/20             NaN                    2      2   \n",
              "4      11/06/20             NaN                    2      2   \n",
              "\n",
              "   Total Business Value  Quarterly Rating  \n",
              "0               2381060                 2  \n",
              "1               -665480                 2  \n",
              "2                     0                 2  \n",
              "3                     0                 1  \n",
              "4                     0                 1  "
            ],
            "text/html": [
              "\n",
              "\n",
              "  <div id=\"df-00353c26-625c-4959-aa26-bfedaffe1346\">\n",
              "    <div class=\"colab-df-container\">\n",
              "      <div>\n",
              "<style scoped>\n",
              "    .dataframe tbody tr th:only-of-type {\n",
              "        vertical-align: middle;\n",
              "    }\n",
              "\n",
              "    .dataframe tbody tr th {\n",
              "        vertical-align: top;\n",
              "    }\n",
              "\n",
              "    .dataframe thead th {\n",
              "        text-align: right;\n",
              "    }\n",
              "</style>\n",
              "<table border=\"1\" class=\"dataframe\">\n",
              "  <thead>\n",
              "    <tr style=\"text-align: right;\">\n",
              "      <th></th>\n",
              "      <th>MMM-YY</th>\n",
              "      <th>Driver_ID</th>\n",
              "      <th>Age</th>\n",
              "      <th>Gender</th>\n",
              "      <th>City</th>\n",
              "      <th>Education_Level</th>\n",
              "      <th>Income</th>\n",
              "      <th>Dateofjoining</th>\n",
              "      <th>LastWorkingDate</th>\n",
              "      <th>Joining Designation</th>\n",
              "      <th>Grade</th>\n",
              "      <th>Total Business Value</th>\n",
              "      <th>Quarterly Rating</th>\n",
              "    </tr>\n",
              "  </thead>\n",
              "  <tbody>\n",
              "    <tr>\n",
              "      <th>0</th>\n",
              "      <td>01/01/19</td>\n",
              "      <td>1</td>\n",
              "      <td>28.0</td>\n",
              "      <td>0.0</td>\n",
              "      <td>C23</td>\n",
              "      <td>2</td>\n",
              "      <td>57387</td>\n",
              "      <td>24/12/18</td>\n",
              "      <td>NaN</td>\n",
              "      <td>1</td>\n",
              "      <td>1</td>\n",
              "      <td>2381060</td>\n",
              "      <td>2</td>\n",
              "    </tr>\n",
              "    <tr>\n",
              "      <th>1</th>\n",
              "      <td>02/01/19</td>\n",
              "      <td>1</td>\n",
              "      <td>28.0</td>\n",
              "      <td>0.0</td>\n",
              "      <td>C23</td>\n",
              "      <td>2</td>\n",
              "      <td>57387</td>\n",
              "      <td>24/12/18</td>\n",
              "      <td>NaN</td>\n",
              "      <td>1</td>\n",
              "      <td>1</td>\n",
              "      <td>-665480</td>\n",
              "      <td>2</td>\n",
              "    </tr>\n",
              "    <tr>\n",
              "      <th>2</th>\n",
              "      <td>03/01/19</td>\n",
              "      <td>1</td>\n",
              "      <td>28.0</td>\n",
              "      <td>0.0</td>\n",
              "      <td>C23</td>\n",
              "      <td>2</td>\n",
              "      <td>57387</td>\n",
              "      <td>24/12/18</td>\n",
              "      <td>03/11/19</td>\n",
              "      <td>1</td>\n",
              "      <td>1</td>\n",
              "      <td>0</td>\n",
              "      <td>2</td>\n",
              "    </tr>\n",
              "    <tr>\n",
              "      <th>3</th>\n",
              "      <td>11/01/20</td>\n",
              "      <td>2</td>\n",
              "      <td>31.0</td>\n",
              "      <td>0.0</td>\n",
              "      <td>C7</td>\n",
              "      <td>2</td>\n",
              "      <td>67016</td>\n",
              "      <td>11/06/20</td>\n",
              "      <td>NaN</td>\n",
              "      <td>2</td>\n",
              "      <td>2</td>\n",
              "      <td>0</td>\n",
              "      <td>1</td>\n",
              "    </tr>\n",
              "    <tr>\n",
              "      <th>4</th>\n",
              "      <td>12/01/20</td>\n",
              "      <td>2</td>\n",
              "      <td>31.0</td>\n",
              "      <td>0.0</td>\n",
              "      <td>C7</td>\n",
              "      <td>2</td>\n",
              "      <td>67016</td>\n",
              "      <td>11/06/20</td>\n",
              "      <td>NaN</td>\n",
              "      <td>2</td>\n",
              "      <td>2</td>\n",
              "      <td>0</td>\n",
              "      <td>1</td>\n",
              "    </tr>\n",
              "  </tbody>\n",
              "</table>\n",
              "</div>\n",
              "      <button class=\"colab-df-convert\" onclick=\"convertToInteractive('df-00353c26-625c-4959-aa26-bfedaffe1346')\"\n",
              "              title=\"Convert this dataframe to an interactive table.\"\n",
              "              style=\"display:none;\">\n",
              "\n",
              "  <svg xmlns=\"http://www.w3.org/2000/svg\" height=\"24px\"viewBox=\"0 0 24 24\"\n",
              "       width=\"24px\">\n",
              "    <path d=\"M0 0h24v24H0V0z\" fill=\"none\"/>\n",
              "    <path d=\"M18.56 5.44l.94 2.06.94-2.06 2.06-.94-2.06-.94-.94-2.06-.94 2.06-2.06.94zm-11 1L8.5 8.5l.94-2.06 2.06-.94-2.06-.94L8.5 2.5l-.94 2.06-2.06.94zm10 10l.94 2.06.94-2.06 2.06-.94-2.06-.94-.94-2.06-.94 2.06-2.06.94z\"/><path d=\"M17.41 7.96l-1.37-1.37c-.4-.4-.92-.59-1.43-.59-.52 0-1.04.2-1.43.59L10.3 9.45l-7.72 7.72c-.78.78-.78 2.05 0 2.83L4 21.41c.39.39.9.59 1.41.59.51 0 1.02-.2 1.41-.59l7.78-7.78 2.81-2.81c.8-.78.8-2.07 0-2.86zM5.41 20L4 18.59l7.72-7.72 1.47 1.35L5.41 20z\"/>\n",
              "  </svg>\n",
              "      </button>\n",
              "\n",
              "\n",
              "\n",
              "    <div id=\"df-29fe4c14-24d6-4714-a243-645e9e02ef6b\">\n",
              "      <button class=\"colab-df-quickchart\" onclick=\"quickchart('df-29fe4c14-24d6-4714-a243-645e9e02ef6b')\"\n",
              "              title=\"Suggest charts.\"\n",
              "              style=\"display:none;\">\n",
              "\n",
              "<svg xmlns=\"http://www.w3.org/2000/svg\" height=\"24px\"viewBox=\"0 0 24 24\"\n",
              "     width=\"24px\">\n",
              "    <g>\n",
              "        <path d=\"M19 3H5c-1.1 0-2 .9-2 2v14c0 1.1.9 2 2 2h14c1.1 0 2-.9 2-2V5c0-1.1-.9-2-2-2zM9 17H7v-7h2v7zm4 0h-2V7h2v10zm4 0h-2v-4h2v4z\"/>\n",
              "    </g>\n",
              "</svg>\n",
              "      </button>\n",
              "    </div>\n",
              "\n",
              "<style>\n",
              "  .colab-df-quickchart {\n",
              "    background-color: #E8F0FE;\n",
              "    border: none;\n",
              "    border-radius: 50%;\n",
              "    cursor: pointer;\n",
              "    display: none;\n",
              "    fill: #1967D2;\n",
              "    height: 32px;\n",
              "    padding: 0 0 0 0;\n",
              "    width: 32px;\n",
              "  }\n",
              "\n",
              "  .colab-df-quickchart:hover {\n",
              "    background-color: #E2EBFA;\n",
              "    box-shadow: 0px 1px 2px rgba(60, 64, 67, 0.3), 0px 1px 3px 1px rgba(60, 64, 67, 0.15);\n",
              "    fill: #174EA6;\n",
              "  }\n",
              "\n",
              "  [theme=dark] .colab-df-quickchart {\n",
              "    background-color: #3B4455;\n",
              "    fill: #D2E3FC;\n",
              "  }\n",
              "\n",
              "  [theme=dark] .colab-df-quickchart:hover {\n",
              "    background-color: #434B5C;\n",
              "    box-shadow: 0px 1px 3px 1px rgba(0, 0, 0, 0.15);\n",
              "    filter: drop-shadow(0px 1px 2px rgba(0, 0, 0, 0.3));\n",
              "    fill: #FFFFFF;\n",
              "  }\n",
              "</style>\n",
              "\n",
              "    <script>\n",
              "      async function quickchart(key) {\n",
              "        const containerElement = document.querySelector('#' + key);\n",
              "        const charts = await google.colab.kernel.invokeFunction(\n",
              "            'suggestCharts', [key], {});\n",
              "      }\n",
              "    </script>\n",
              "\n",
              "      <script>\n",
              "\n",
              "function displayQuickchartButton(domScope) {\n",
              "  let quickchartButtonEl =\n",
              "    domScope.querySelector('#df-29fe4c14-24d6-4714-a243-645e9e02ef6b button.colab-df-quickchart');\n",
              "  quickchartButtonEl.style.display =\n",
              "    google.colab.kernel.accessAllowed ? 'block' : 'none';\n",
              "}\n",
              "\n",
              "        displayQuickchartButton(document);\n",
              "      </script>\n",
              "      <style>\n",
              "    .colab-df-container {\n",
              "      display:flex;\n",
              "      flex-wrap:wrap;\n",
              "      gap: 12px;\n",
              "    }\n",
              "\n",
              "    .colab-df-convert {\n",
              "      background-color: #E8F0FE;\n",
              "      border: none;\n",
              "      border-radius: 50%;\n",
              "      cursor: pointer;\n",
              "      display: none;\n",
              "      fill: #1967D2;\n",
              "      height: 32px;\n",
              "      padding: 0 0 0 0;\n",
              "      width: 32px;\n",
              "    }\n",
              "\n",
              "    .colab-df-convert:hover {\n",
              "      background-color: #E2EBFA;\n",
              "      box-shadow: 0px 1px 2px rgba(60, 64, 67, 0.3), 0px 1px 3px 1px rgba(60, 64, 67, 0.15);\n",
              "      fill: #174EA6;\n",
              "    }\n",
              "\n",
              "    [theme=dark] .colab-df-convert {\n",
              "      background-color: #3B4455;\n",
              "      fill: #D2E3FC;\n",
              "    }\n",
              "\n",
              "    [theme=dark] .colab-df-convert:hover {\n",
              "      background-color: #434B5C;\n",
              "      box-shadow: 0px 1px 3px 1px rgba(0, 0, 0, 0.15);\n",
              "      filter: drop-shadow(0px 1px 2px rgba(0, 0, 0, 0.3));\n",
              "      fill: #FFFFFF;\n",
              "    }\n",
              "  </style>\n",
              "\n",
              "      <script>\n",
              "        const buttonEl =\n",
              "          document.querySelector('#df-00353c26-625c-4959-aa26-bfedaffe1346 button.colab-df-convert');\n",
              "        buttonEl.style.display =\n",
              "          google.colab.kernel.accessAllowed ? 'block' : 'none';\n",
              "\n",
              "        async function convertToInteractive(key) {\n",
              "          const element = document.querySelector('#df-00353c26-625c-4959-aa26-bfedaffe1346');\n",
              "          const dataTable =\n",
              "            await google.colab.kernel.invokeFunction('convertToInteractive',\n",
              "                                                     [key], {});\n",
              "          if (!dataTable) return;\n",
              "\n",
              "          const docLinkHtml = 'Like what you see? Visit the ' +\n",
              "            '<a target=\"_blank\" href=https://colab.research.google.com/notebooks/data_table.ipynb>data table notebook</a>'\n",
              "            + ' to learn more about interactive tables.';\n",
              "          element.innerHTML = '';\n",
              "          dataTable['output_type'] = 'display_data';\n",
              "          await google.colab.output.renderOutput(dataTable, element);\n",
              "          const docLink = document.createElement('div');\n",
              "          docLink.innerHTML = docLinkHtml;\n",
              "          element.appendChild(docLink);\n",
              "        }\n",
              "      </script>\n",
              "    </div>\n",
              "  </div>\n"
            ]
          },
          "metadata": {},
          "execution_count": 6
        }
      ]
    },
    {
      "cell_type": "code",
      "source": [
        "df.info()"
      ],
      "metadata": {
        "colab": {
          "base_uri": "https://localhost:8080/"
        },
        "id": "SPgT27dwxUmS",
        "outputId": "822f397f-0aae-4393-c827-1aad8a33104a"
      },
      "execution_count": null,
      "outputs": [
        {
          "output_type": "stream",
          "name": "stdout",
          "text": [
            "<class 'pandas.core.frame.DataFrame'>\n",
            "RangeIndex: 19104 entries, 0 to 19103\n",
            "Data columns (total 13 columns):\n",
            " #   Column                Non-Null Count  Dtype  \n",
            "---  ------                --------------  -----  \n",
            " 0   MMM-YY                19104 non-null  object \n",
            " 1   Driver_ID             19104 non-null  int64  \n",
            " 2   Age                   19043 non-null  float64\n",
            " 3   Gender                19052 non-null  float64\n",
            " 4   City                  19104 non-null  object \n",
            " 5   Education_Level       19104 non-null  int64  \n",
            " 6   Income                19104 non-null  int64  \n",
            " 7   Dateofjoining         19104 non-null  object \n",
            " 8   LastWorkingDate       1616 non-null   object \n",
            " 9   Joining Designation   19104 non-null  int64  \n",
            " 10  Grade                 19104 non-null  int64  \n",
            " 11  Total Business Value  19104 non-null  int64  \n",
            " 12  Quarterly Rating      19104 non-null  int64  \n",
            "dtypes: float64(2), int64(7), object(4)\n",
            "memory usage: 1.9+ MB\n"
          ]
        }
      ]
    },
    {
      "cell_type": "code",
      "source": [
        "df.describe()\n"
      ],
      "metadata": {
        "colab": {
          "base_uri": "https://localhost:8080/",
          "height": 300
        },
        "id": "Lz1zMRg-x3ks",
        "outputId": "ac36c60c-922b-497b-d1fc-e3274dd86205"
      },
      "execution_count": null,
      "outputs": [
        {
          "output_type": "execute_result",
          "data": {
            "text/plain": [
              "          Driver_ID           Age        Gender  Education_Level  \\\n",
              "count  19104.000000  19043.000000  19052.000000     19104.000000   \n",
              "mean    1415.591133     34.668435      0.418749         1.021671   \n",
              "std      810.705321      6.257912      0.493367         0.800167   \n",
              "min        1.000000     21.000000      0.000000         0.000000   \n",
              "25%      710.000000     30.000000      0.000000         0.000000   \n",
              "50%     1417.000000     34.000000      0.000000         1.000000   \n",
              "75%     2137.000000     39.000000      1.000000         2.000000   \n",
              "max     2788.000000     58.000000      1.000000         2.000000   \n",
              "\n",
              "              Income  Joining Designation         Grade  Total Business Value  \\\n",
              "count   19104.000000         19104.000000  19104.000000          1.910400e+04   \n",
              "mean    65652.025126             1.690536      2.252670          5.716621e+05   \n",
              "std     30914.515344             0.836984      1.026512          1.128312e+06   \n",
              "min     10747.000000             1.000000      1.000000         -6.000000e+06   \n",
              "25%     42383.000000             1.000000      1.000000          0.000000e+00   \n",
              "50%     60087.000000             1.000000      2.000000          2.500000e+05   \n",
              "75%     83969.000000             2.000000      3.000000          6.997000e+05   \n",
              "max    188418.000000             5.000000      5.000000          3.374772e+07   \n",
              "\n",
              "       Quarterly Rating  \n",
              "count      19104.000000  \n",
              "mean           2.008899  \n",
              "std            1.009832  \n",
              "min            1.000000  \n",
              "25%            1.000000  \n",
              "50%            2.000000  \n",
              "75%            3.000000  \n",
              "max            4.000000  "
            ],
            "text/html": [
              "\n",
              "\n",
              "  <div id=\"df-47104fa3-6de2-4f75-851c-76d8db521c79\">\n",
              "    <div class=\"colab-df-container\">\n",
              "      <div>\n",
              "<style scoped>\n",
              "    .dataframe tbody tr th:only-of-type {\n",
              "        vertical-align: middle;\n",
              "    }\n",
              "\n",
              "    .dataframe tbody tr th {\n",
              "        vertical-align: top;\n",
              "    }\n",
              "\n",
              "    .dataframe thead th {\n",
              "        text-align: right;\n",
              "    }\n",
              "</style>\n",
              "<table border=\"1\" class=\"dataframe\">\n",
              "  <thead>\n",
              "    <tr style=\"text-align: right;\">\n",
              "      <th></th>\n",
              "      <th>Driver_ID</th>\n",
              "      <th>Age</th>\n",
              "      <th>Gender</th>\n",
              "      <th>Education_Level</th>\n",
              "      <th>Income</th>\n",
              "      <th>Joining Designation</th>\n",
              "      <th>Grade</th>\n",
              "      <th>Total Business Value</th>\n",
              "      <th>Quarterly Rating</th>\n",
              "    </tr>\n",
              "  </thead>\n",
              "  <tbody>\n",
              "    <tr>\n",
              "      <th>count</th>\n",
              "      <td>19104.000000</td>\n",
              "      <td>19043.000000</td>\n",
              "      <td>19052.000000</td>\n",
              "      <td>19104.000000</td>\n",
              "      <td>19104.000000</td>\n",
              "      <td>19104.000000</td>\n",
              "      <td>19104.000000</td>\n",
              "      <td>1.910400e+04</td>\n",
              "      <td>19104.000000</td>\n",
              "    </tr>\n",
              "    <tr>\n",
              "      <th>mean</th>\n",
              "      <td>1415.591133</td>\n",
              "      <td>34.668435</td>\n",
              "      <td>0.418749</td>\n",
              "      <td>1.021671</td>\n",
              "      <td>65652.025126</td>\n",
              "      <td>1.690536</td>\n",
              "      <td>2.252670</td>\n",
              "      <td>5.716621e+05</td>\n",
              "      <td>2.008899</td>\n",
              "    </tr>\n",
              "    <tr>\n",
              "      <th>std</th>\n",
              "      <td>810.705321</td>\n",
              "      <td>6.257912</td>\n",
              "      <td>0.493367</td>\n",
              "      <td>0.800167</td>\n",
              "      <td>30914.515344</td>\n",
              "      <td>0.836984</td>\n",
              "      <td>1.026512</td>\n",
              "      <td>1.128312e+06</td>\n",
              "      <td>1.009832</td>\n",
              "    </tr>\n",
              "    <tr>\n",
              "      <th>min</th>\n",
              "      <td>1.000000</td>\n",
              "      <td>21.000000</td>\n",
              "      <td>0.000000</td>\n",
              "      <td>0.000000</td>\n",
              "      <td>10747.000000</td>\n",
              "      <td>1.000000</td>\n",
              "      <td>1.000000</td>\n",
              "      <td>-6.000000e+06</td>\n",
              "      <td>1.000000</td>\n",
              "    </tr>\n",
              "    <tr>\n",
              "      <th>25%</th>\n",
              "      <td>710.000000</td>\n",
              "      <td>30.000000</td>\n",
              "      <td>0.000000</td>\n",
              "      <td>0.000000</td>\n",
              "      <td>42383.000000</td>\n",
              "      <td>1.000000</td>\n",
              "      <td>1.000000</td>\n",
              "      <td>0.000000e+00</td>\n",
              "      <td>1.000000</td>\n",
              "    </tr>\n",
              "    <tr>\n",
              "      <th>50%</th>\n",
              "      <td>1417.000000</td>\n",
              "      <td>34.000000</td>\n",
              "      <td>0.000000</td>\n",
              "      <td>1.000000</td>\n",
              "      <td>60087.000000</td>\n",
              "      <td>1.000000</td>\n",
              "      <td>2.000000</td>\n",
              "      <td>2.500000e+05</td>\n",
              "      <td>2.000000</td>\n",
              "    </tr>\n",
              "    <tr>\n",
              "      <th>75%</th>\n",
              "      <td>2137.000000</td>\n",
              "      <td>39.000000</td>\n",
              "      <td>1.000000</td>\n",
              "      <td>2.000000</td>\n",
              "      <td>83969.000000</td>\n",
              "      <td>2.000000</td>\n",
              "      <td>3.000000</td>\n",
              "      <td>6.997000e+05</td>\n",
              "      <td>3.000000</td>\n",
              "    </tr>\n",
              "    <tr>\n",
              "      <th>max</th>\n",
              "      <td>2788.000000</td>\n",
              "      <td>58.000000</td>\n",
              "      <td>1.000000</td>\n",
              "      <td>2.000000</td>\n",
              "      <td>188418.000000</td>\n",
              "      <td>5.000000</td>\n",
              "      <td>5.000000</td>\n",
              "      <td>3.374772e+07</td>\n",
              "      <td>4.000000</td>\n",
              "    </tr>\n",
              "  </tbody>\n",
              "</table>\n",
              "</div>\n",
              "      <button class=\"colab-df-convert\" onclick=\"convertToInteractive('df-47104fa3-6de2-4f75-851c-76d8db521c79')\"\n",
              "              title=\"Convert this dataframe to an interactive table.\"\n",
              "              style=\"display:none;\">\n",
              "\n",
              "  <svg xmlns=\"http://www.w3.org/2000/svg\" height=\"24px\"viewBox=\"0 0 24 24\"\n",
              "       width=\"24px\">\n",
              "    <path d=\"M0 0h24v24H0V0z\" fill=\"none\"/>\n",
              "    <path d=\"M18.56 5.44l.94 2.06.94-2.06 2.06-.94-2.06-.94-.94-2.06-.94 2.06-2.06.94zm-11 1L8.5 8.5l.94-2.06 2.06-.94-2.06-.94L8.5 2.5l-.94 2.06-2.06.94zm10 10l.94 2.06.94-2.06 2.06-.94-2.06-.94-.94-2.06-.94 2.06-2.06.94z\"/><path d=\"M17.41 7.96l-1.37-1.37c-.4-.4-.92-.59-1.43-.59-.52 0-1.04.2-1.43.59L10.3 9.45l-7.72 7.72c-.78.78-.78 2.05 0 2.83L4 21.41c.39.39.9.59 1.41.59.51 0 1.02-.2 1.41-.59l7.78-7.78 2.81-2.81c.8-.78.8-2.07 0-2.86zM5.41 20L4 18.59l7.72-7.72 1.47 1.35L5.41 20z\"/>\n",
              "  </svg>\n",
              "      </button>\n",
              "\n",
              "\n",
              "\n",
              "    <div id=\"df-d94f79fe-e59d-4b22-a845-2f21bbab764e\">\n",
              "      <button class=\"colab-df-quickchart\" onclick=\"quickchart('df-d94f79fe-e59d-4b22-a845-2f21bbab764e')\"\n",
              "              title=\"Suggest charts.\"\n",
              "              style=\"display:none;\">\n",
              "\n",
              "<svg xmlns=\"http://www.w3.org/2000/svg\" height=\"24px\"viewBox=\"0 0 24 24\"\n",
              "     width=\"24px\">\n",
              "    <g>\n",
              "        <path d=\"M19 3H5c-1.1 0-2 .9-2 2v14c0 1.1.9 2 2 2h14c1.1 0 2-.9 2-2V5c0-1.1-.9-2-2-2zM9 17H7v-7h2v7zm4 0h-2V7h2v10zm4 0h-2v-4h2v4z\"/>\n",
              "    </g>\n",
              "</svg>\n",
              "      </button>\n",
              "    </div>\n",
              "\n",
              "<style>\n",
              "  .colab-df-quickchart {\n",
              "    background-color: #E8F0FE;\n",
              "    border: none;\n",
              "    border-radius: 50%;\n",
              "    cursor: pointer;\n",
              "    display: none;\n",
              "    fill: #1967D2;\n",
              "    height: 32px;\n",
              "    padding: 0 0 0 0;\n",
              "    width: 32px;\n",
              "  }\n",
              "\n",
              "  .colab-df-quickchart:hover {\n",
              "    background-color: #E2EBFA;\n",
              "    box-shadow: 0px 1px 2px rgba(60, 64, 67, 0.3), 0px 1px 3px 1px rgba(60, 64, 67, 0.15);\n",
              "    fill: #174EA6;\n",
              "  }\n",
              "\n",
              "  [theme=dark] .colab-df-quickchart {\n",
              "    background-color: #3B4455;\n",
              "    fill: #D2E3FC;\n",
              "  }\n",
              "\n",
              "  [theme=dark] .colab-df-quickchart:hover {\n",
              "    background-color: #434B5C;\n",
              "    box-shadow: 0px 1px 3px 1px rgba(0, 0, 0, 0.15);\n",
              "    filter: drop-shadow(0px 1px 2px rgba(0, 0, 0, 0.3));\n",
              "    fill: #FFFFFF;\n",
              "  }\n",
              "</style>\n",
              "\n",
              "    <script>\n",
              "      async function quickchart(key) {\n",
              "        const containerElement = document.querySelector('#' + key);\n",
              "        const charts = await google.colab.kernel.invokeFunction(\n",
              "            'suggestCharts', [key], {});\n",
              "      }\n",
              "    </script>\n",
              "\n",
              "      <script>\n",
              "\n",
              "function displayQuickchartButton(domScope) {\n",
              "  let quickchartButtonEl =\n",
              "    domScope.querySelector('#df-d94f79fe-e59d-4b22-a845-2f21bbab764e button.colab-df-quickchart');\n",
              "  quickchartButtonEl.style.display =\n",
              "    google.colab.kernel.accessAllowed ? 'block' : 'none';\n",
              "}\n",
              "\n",
              "        displayQuickchartButton(document);\n",
              "      </script>\n",
              "      <style>\n",
              "    .colab-df-container {\n",
              "      display:flex;\n",
              "      flex-wrap:wrap;\n",
              "      gap: 12px;\n",
              "    }\n",
              "\n",
              "    .colab-df-convert {\n",
              "      background-color: #E8F0FE;\n",
              "      border: none;\n",
              "      border-radius: 50%;\n",
              "      cursor: pointer;\n",
              "      display: none;\n",
              "      fill: #1967D2;\n",
              "      height: 32px;\n",
              "      padding: 0 0 0 0;\n",
              "      width: 32px;\n",
              "    }\n",
              "\n",
              "    .colab-df-convert:hover {\n",
              "      background-color: #E2EBFA;\n",
              "      box-shadow: 0px 1px 2px rgba(60, 64, 67, 0.3), 0px 1px 3px 1px rgba(60, 64, 67, 0.15);\n",
              "      fill: #174EA6;\n",
              "    }\n",
              "\n",
              "    [theme=dark] .colab-df-convert {\n",
              "      background-color: #3B4455;\n",
              "      fill: #D2E3FC;\n",
              "    }\n",
              "\n",
              "    [theme=dark] .colab-df-convert:hover {\n",
              "      background-color: #434B5C;\n",
              "      box-shadow: 0px 1px 3px 1px rgba(0, 0, 0, 0.15);\n",
              "      filter: drop-shadow(0px 1px 2px rgba(0, 0, 0, 0.3));\n",
              "      fill: #FFFFFF;\n",
              "    }\n",
              "  </style>\n",
              "\n",
              "      <script>\n",
              "        const buttonEl =\n",
              "          document.querySelector('#df-47104fa3-6de2-4f75-851c-76d8db521c79 button.colab-df-convert');\n",
              "        buttonEl.style.display =\n",
              "          google.colab.kernel.accessAllowed ? 'block' : 'none';\n",
              "\n",
              "        async function convertToInteractive(key) {\n",
              "          const element = document.querySelector('#df-47104fa3-6de2-4f75-851c-76d8db521c79');\n",
              "          const dataTable =\n",
              "            await google.colab.kernel.invokeFunction('convertToInteractive',\n",
              "                                                     [key], {});\n",
              "          if (!dataTable) return;\n",
              "\n",
              "          const docLinkHtml = 'Like what you see? Visit the ' +\n",
              "            '<a target=\"_blank\" href=https://colab.research.google.com/notebooks/data_table.ipynb>data table notebook</a>'\n",
              "            + ' to learn more about interactive tables.';\n",
              "          element.innerHTML = '';\n",
              "          dataTable['output_type'] = 'display_data';\n",
              "          await google.colab.output.renderOutput(dataTable, element);\n",
              "          const docLink = document.createElement('div');\n",
              "          docLink.innerHTML = docLinkHtml;\n",
              "          element.appendChild(docLink);\n",
              "        }\n",
              "      </script>\n",
              "    </div>\n",
              "  </div>\n"
            ]
          },
          "metadata": {},
          "execution_count": 8
        }
      ]
    },
    {
      "cell_type": "markdown",
      "source": [
        "##Aggregation of data to get driver level data"
      ],
      "metadata": {
        "id": "nSdN-CAWhalp"
      }
    },
    {
      "cell_type": "code",
      "source": [
        "df[\"MMM-YY\"]= pd.to_datetime(df[\"MMM-YY\"])\n",
        "df[\"Dateofjoining\"]= pd.to_datetime(df[\"Dateofjoining\"])\n",
        "range_date=(max(df[\"MMM-YY\"])-min(df[\"MMM-YY\"]))\n",
        "max_date=max(df[\"MMM-YY\"])\n",
        "min_date=min(df[\"MMM-YY\"])\n",
        "print(f\"The data has a range of {range_date} minimum date is {min_date},maximum date is {max_date}\")\n",
        "#The ola data is for aroung 2 years 2019 and 2020"
      ],
      "metadata": {
        "colab": {
          "base_uri": "https://localhost:8080/"
        },
        "id": "EmK7zrfjD0Y1",
        "outputId": "e6b12101-a767-44a1-e5e5-675685ddd026"
      },
      "execution_count": null,
      "outputs": [
        {
          "output_type": "stream",
          "name": "stdout",
          "text": [
            "The data has a range of 700 days 00:00:00 minimum date is 2019-01-01 00:00:00,maximum date is 2020-12-01 00:00:00\n"
          ]
        }
      ]
    },
    {
      "cell_type": "code",
      "source": [
        "#Lets check if there is any increase in driver Income, grade and quaterly rating\n",
        "temp_income=df.groupby('Driver_ID')['Income'].first()-df.groupby('Driver_ID')['Income'].last()\n",
        "temp_income=temp_income.reset_index()\n",
        "temp_income[temp_income['Income']>0]#there are no rows where the driver income is increasing so we cannot use this as a feature\n"
      ],
      "metadata": {
        "colab": {
          "base_uri": "https://localhost:8080/"
        },
        "id": "3gRs1Lt4C36c",
        "outputId": "f156ccfb-083a-4499-e97f-eaec9d850a06"
      },
      "execution_count": null,
      "outputs": [
        {
          "output_type": "execute_result",
          "data": {
            "text/plain": [
              "Empty DataFrame\n",
              "Columns: [Driver_ID, Income]\n",
              "Index: []"
            ],
            "text/html": [
              "\n",
              "\n",
              "  <div id=\"df-d42342d3-d3ce-4e37-a255-b3b6105b9c05\">\n",
              "    <div class=\"colab-df-container\">\n",
              "      <div>\n",
              "<style scoped>\n",
              "    .dataframe tbody tr th:only-of-type {\n",
              "        vertical-align: middle;\n",
              "    }\n",
              "\n",
              "    .dataframe tbody tr th {\n",
              "        vertical-align: top;\n",
              "    }\n",
              "\n",
              "    .dataframe thead th {\n",
              "        text-align: right;\n",
              "    }\n",
              "</style>\n",
              "<table border=\"1\" class=\"dataframe\">\n",
              "  <thead>\n",
              "    <tr style=\"text-align: right;\">\n",
              "      <th></th>\n",
              "      <th>Driver_ID</th>\n",
              "      <th>Income</th>\n",
              "    </tr>\n",
              "  </thead>\n",
              "  <tbody>\n",
              "  </tbody>\n",
              "</table>\n",
              "</div>\n",
              "      <button class=\"colab-df-convert\" onclick=\"convertToInteractive('df-d42342d3-d3ce-4e37-a255-b3b6105b9c05')\"\n",
              "              title=\"Convert this dataframe to an interactive table.\"\n",
              "              style=\"display:none;\">\n",
              "\n",
              "  <svg xmlns=\"http://www.w3.org/2000/svg\" height=\"24px\"viewBox=\"0 0 24 24\"\n",
              "       width=\"24px\">\n",
              "    <path d=\"M0 0h24v24H0V0z\" fill=\"none\"/>\n",
              "    <path d=\"M18.56 5.44l.94 2.06.94-2.06 2.06-.94-2.06-.94-.94-2.06-.94 2.06-2.06.94zm-11 1L8.5 8.5l.94-2.06 2.06-.94-2.06-.94L8.5 2.5l-.94 2.06-2.06.94zm10 10l.94 2.06.94-2.06 2.06-.94-2.06-.94-.94-2.06-.94 2.06-2.06.94z\"/><path d=\"M17.41 7.96l-1.37-1.37c-.4-.4-.92-.59-1.43-.59-.52 0-1.04.2-1.43.59L10.3 9.45l-7.72 7.72c-.78.78-.78 2.05 0 2.83L4 21.41c.39.39.9.59 1.41.59.51 0 1.02-.2 1.41-.59l7.78-7.78 2.81-2.81c.8-.78.8-2.07 0-2.86zM5.41 20L4 18.59l7.72-7.72 1.47 1.35L5.41 20z\"/>\n",
              "  </svg>\n",
              "      </button>\n",
              "\n",
              "\n",
              "\n",
              "    <div id=\"df-15bb2128-8160-4421-a16f-53bcb6fddd6d\">\n",
              "      <button class=\"colab-df-quickchart\" onclick=\"quickchart('df-15bb2128-8160-4421-a16f-53bcb6fddd6d')\"\n",
              "              title=\"Suggest charts.\"\n",
              "              style=\"display:none;\">\n",
              "\n",
              "<svg xmlns=\"http://www.w3.org/2000/svg\" height=\"24px\"viewBox=\"0 0 24 24\"\n",
              "     width=\"24px\">\n",
              "    <g>\n",
              "        <path d=\"M19 3H5c-1.1 0-2 .9-2 2v14c0 1.1.9 2 2 2h14c1.1 0 2-.9 2-2V5c0-1.1-.9-2-2-2zM9 17H7v-7h2v7zm4 0h-2V7h2v10zm4 0h-2v-4h2v4z\"/>\n",
              "    </g>\n",
              "</svg>\n",
              "      </button>\n",
              "    </div>\n",
              "\n",
              "<style>\n",
              "  .colab-df-quickchart {\n",
              "    background-color: #E8F0FE;\n",
              "    border: none;\n",
              "    border-radius: 50%;\n",
              "    cursor: pointer;\n",
              "    display: none;\n",
              "    fill: #1967D2;\n",
              "    height: 32px;\n",
              "    padding: 0 0 0 0;\n",
              "    width: 32px;\n",
              "  }\n",
              "\n",
              "  .colab-df-quickchart:hover {\n",
              "    background-color: #E2EBFA;\n",
              "    box-shadow: 0px 1px 2px rgba(60, 64, 67, 0.3), 0px 1px 3px 1px rgba(60, 64, 67, 0.15);\n",
              "    fill: #174EA6;\n",
              "  }\n",
              "\n",
              "  [theme=dark] .colab-df-quickchart {\n",
              "    background-color: #3B4455;\n",
              "    fill: #D2E3FC;\n",
              "  }\n",
              "\n",
              "  [theme=dark] .colab-df-quickchart:hover {\n",
              "    background-color: #434B5C;\n",
              "    box-shadow: 0px 1px 3px 1px rgba(0, 0, 0, 0.15);\n",
              "    filter: drop-shadow(0px 1px 2px rgba(0, 0, 0, 0.3));\n",
              "    fill: #FFFFFF;\n",
              "  }\n",
              "</style>\n",
              "\n",
              "    <script>\n",
              "      async function quickchart(key) {\n",
              "        const containerElement = document.querySelector('#' + key);\n",
              "        const charts = await google.colab.kernel.invokeFunction(\n",
              "            'suggestCharts', [key], {});\n",
              "      }\n",
              "    </script>\n",
              "\n",
              "      <script>\n",
              "\n",
              "function displayQuickchartButton(domScope) {\n",
              "  let quickchartButtonEl =\n",
              "    domScope.querySelector('#df-15bb2128-8160-4421-a16f-53bcb6fddd6d button.colab-df-quickchart');\n",
              "  quickchartButtonEl.style.display =\n",
              "    google.colab.kernel.accessAllowed ? 'block' : 'none';\n",
              "}\n",
              "\n",
              "        displayQuickchartButton(document);\n",
              "      </script>\n",
              "      <style>\n",
              "    .colab-df-container {\n",
              "      display:flex;\n",
              "      flex-wrap:wrap;\n",
              "      gap: 12px;\n",
              "    }\n",
              "\n",
              "    .colab-df-convert {\n",
              "      background-color: #E8F0FE;\n",
              "      border: none;\n",
              "      border-radius: 50%;\n",
              "      cursor: pointer;\n",
              "      display: none;\n",
              "      fill: #1967D2;\n",
              "      height: 32px;\n",
              "      padding: 0 0 0 0;\n",
              "      width: 32px;\n",
              "    }\n",
              "\n",
              "    .colab-df-convert:hover {\n",
              "      background-color: #E2EBFA;\n",
              "      box-shadow: 0px 1px 2px rgba(60, 64, 67, 0.3), 0px 1px 3px 1px rgba(60, 64, 67, 0.15);\n",
              "      fill: #174EA6;\n",
              "    }\n",
              "\n",
              "    [theme=dark] .colab-df-convert {\n",
              "      background-color: #3B4455;\n",
              "      fill: #D2E3FC;\n",
              "    }\n",
              "\n",
              "    [theme=dark] .colab-df-convert:hover {\n",
              "      background-color: #434B5C;\n",
              "      box-shadow: 0px 1px 3px 1px rgba(0, 0, 0, 0.15);\n",
              "      filter: drop-shadow(0px 1px 2px rgba(0, 0, 0, 0.3));\n",
              "      fill: #FFFFFF;\n",
              "    }\n",
              "  </style>\n",
              "\n",
              "      <script>\n",
              "        const buttonEl =\n",
              "          document.querySelector('#df-d42342d3-d3ce-4e37-a255-b3b6105b9c05 button.colab-df-convert');\n",
              "        buttonEl.style.display =\n",
              "          google.colab.kernel.accessAllowed ? 'block' : 'none';\n",
              "\n",
              "        async function convertToInteractive(key) {\n",
              "          const element = document.querySelector('#df-d42342d3-d3ce-4e37-a255-b3b6105b9c05');\n",
              "          const dataTable =\n",
              "            await google.colab.kernel.invokeFunction('convertToInteractive',\n",
              "                                                     [key], {});\n",
              "          if (!dataTable) return;\n",
              "\n",
              "          const docLinkHtml = 'Like what you see? Visit the ' +\n",
              "            '<a target=\"_blank\" href=https://colab.research.google.com/notebooks/data_table.ipynb>data table notebook</a>'\n",
              "            + ' to learn more about interactive tables.';\n",
              "          element.innerHTML = '';\n",
              "          dataTable['output_type'] = 'display_data';\n",
              "          await google.colab.output.renderOutput(dataTable, element);\n",
              "          const docLink = document.createElement('div');\n",
              "          docLink.innerHTML = docLinkHtml;\n",
              "          element.appendChild(docLink);\n",
              "        }\n",
              "      </script>\n",
              "    </div>\n",
              "  </div>\n"
            ]
          },
          "metadata": {},
          "execution_count": 10
        }
      ]
    },
    {
      "cell_type": "code",
      "source": [
        "col_increase=[\"Income\",'Grade','Quarterly Rating',\"Education_Level\",\"Joining Designation\"]\n",
        "for i in col_increase:\n",
        "  temp=df.groupby('Driver_ID')[i].first()-df.groupby('Driver_ID')[i].last()\n",
        "  temp=temp.reset_index()\n",
        "  no_of_rows_increasing=len(temp[temp[i]>0])\n",
        "  no_of_rows_decreasing=len(temp[temp[i]<0])\n",
        "  print(f\"{i} : increase {no_of_rows_increasing},decrease {no_of_rows_decreasing}\")\n",
        "  #there is a inrease in quaterly rating for 458 rows we can have a additional feature which indicates if a driver's quaterly ratings are increasing or decreasing"
      ],
      "metadata": {
        "colab": {
          "base_uri": "https://localhost:8080/"
        },
        "id": "aFqdifFDI0by",
        "outputId": "907d00d8-17cd-40c8-af68-edaf27cd270e"
      },
      "execution_count": null,
      "outputs": [
        {
          "output_type": "stream",
          "name": "stdout",
          "text": [
            "Income : increase 0,decrease 43\n",
            "Grade : increase 0,decrease 43\n",
            "Quarterly Rating : increase 458,decrease 358\n",
            "Education_Level : increase 0,decrease 0\n",
            "Joining Designation : increase 0,decrease 0\n"
          ]
        }
      ]
    },
    {
      "cell_type": "code",
      "source": [
        "#Creaing a new data frame which can later be merged with our original data frame capturing the increase and decrease of features\n",
        "\n",
        "income=df.groupby('Driver_ID')['Income'].first()-df.groupby('Driver_ID')[\"Income\"].last()\n",
        "grade=df.groupby('Driver_ID')['Grade'].first()-df.groupby('Driver_ID')[\"Grade\"].last()\n",
        "Quaterly_rat=df.groupby('Driver_ID')['Quarterly Rating'].first()-df.groupby('Driver_ID')[\"Quarterly Rating\"].last()\n",
        "income=income.reset_index()\n",
        "grade=grade.reset_index()\n",
        "Quaterly_rat=Quaterly_rat.reset_index()\n"
      ],
      "metadata": {
        "id": "LUMGyYZkJFII"
      },
      "execution_count": null,
      "outputs": []
    },
    {
      "cell_type": "code",
      "source": [
        "temp_df=pd.merge(income, grade,on =\"Driver_ID\",how='inner')\n",
        "df_new=pd.merge(temp_df, Quaterly_rat,on =\"Driver_ID\",how='inner')\n",
        "#lets make the values as if income is decreasing as 1 and 0 if no change\n",
        "#grade if decreasing then 1 or 0 for no change\n",
        "#Quaterly rating 1 if increasing 0 if no change -1 if decreasing\n",
        "df_new.loc[(df_new['Income'] <0),'Income']=1\n",
        "df_new.loc[(df_new['Grade'] <0),'Grade']=1\n",
        "df_new.loc[(df_new['Quarterly Rating'] <0),'Quarterly Rating']=-1\n",
        "df_new.loc[(df_new['Quarterly Rating'] >0),'Quarterly Rating']=1\n",
        "df_join=df_new\n",
        "df_join.rename(columns = {'Income':'Income_decrease'}, inplace = True)\n",
        "df_join.rename(columns = {'Grade':'Grade_decrease'}, inplace = True)\n",
        "df_join.rename(columns = {'Quarterly Rating':'Rating_increase'}, inplace = True)\n",
        "df_join.head()"
      ],
      "metadata": {
        "colab": {
          "base_uri": "https://localhost:8080/"
        },
        "id": "_CV9__v8WfW3",
        "outputId": "6aed577c-f639-4bbf-e3ae-989c77d1d733"
      },
      "execution_count": null,
      "outputs": [
        {
          "output_type": "execute_result",
          "data": {
            "text/plain": [
              "   Driver_ID  Income_decrease  Grade_decrease  Rating_increase\n",
              "0          1                0               0                0\n",
              "1          2                0               0                0\n",
              "2          4                0               0                0\n",
              "3          5                0               0                0\n",
              "4          6                0               0               -1"
            ],
            "text/html": [
              "\n",
              "\n",
              "  <div id=\"df-769f71a4-d098-44db-b3e0-f45e7722789e\">\n",
              "    <div class=\"colab-df-container\">\n",
              "      <div>\n",
              "<style scoped>\n",
              "    .dataframe tbody tr th:only-of-type {\n",
              "        vertical-align: middle;\n",
              "    }\n",
              "\n",
              "    .dataframe tbody tr th {\n",
              "        vertical-align: top;\n",
              "    }\n",
              "\n",
              "    .dataframe thead th {\n",
              "        text-align: right;\n",
              "    }\n",
              "</style>\n",
              "<table border=\"1\" class=\"dataframe\">\n",
              "  <thead>\n",
              "    <tr style=\"text-align: right;\">\n",
              "      <th></th>\n",
              "      <th>Driver_ID</th>\n",
              "      <th>Income_decrease</th>\n",
              "      <th>Grade_decrease</th>\n",
              "      <th>Rating_increase</th>\n",
              "    </tr>\n",
              "  </thead>\n",
              "  <tbody>\n",
              "    <tr>\n",
              "      <th>0</th>\n",
              "      <td>1</td>\n",
              "      <td>0</td>\n",
              "      <td>0</td>\n",
              "      <td>0</td>\n",
              "    </tr>\n",
              "    <tr>\n",
              "      <th>1</th>\n",
              "      <td>2</td>\n",
              "      <td>0</td>\n",
              "      <td>0</td>\n",
              "      <td>0</td>\n",
              "    </tr>\n",
              "    <tr>\n",
              "      <th>2</th>\n",
              "      <td>4</td>\n",
              "      <td>0</td>\n",
              "      <td>0</td>\n",
              "      <td>0</td>\n",
              "    </tr>\n",
              "    <tr>\n",
              "      <th>3</th>\n",
              "      <td>5</td>\n",
              "      <td>0</td>\n",
              "      <td>0</td>\n",
              "      <td>0</td>\n",
              "    </tr>\n",
              "    <tr>\n",
              "      <th>4</th>\n",
              "      <td>6</td>\n",
              "      <td>0</td>\n",
              "      <td>0</td>\n",
              "      <td>-1</td>\n",
              "    </tr>\n",
              "  </tbody>\n",
              "</table>\n",
              "</div>\n",
              "      <button class=\"colab-df-convert\" onclick=\"convertToInteractive('df-769f71a4-d098-44db-b3e0-f45e7722789e')\"\n",
              "              title=\"Convert this dataframe to an interactive table.\"\n",
              "              style=\"display:none;\">\n",
              "\n",
              "  <svg xmlns=\"http://www.w3.org/2000/svg\" height=\"24px\"viewBox=\"0 0 24 24\"\n",
              "       width=\"24px\">\n",
              "    <path d=\"M0 0h24v24H0V0z\" fill=\"none\"/>\n",
              "    <path d=\"M18.56 5.44l.94 2.06.94-2.06 2.06-.94-2.06-.94-.94-2.06-.94 2.06-2.06.94zm-11 1L8.5 8.5l.94-2.06 2.06-.94-2.06-.94L8.5 2.5l-.94 2.06-2.06.94zm10 10l.94 2.06.94-2.06 2.06-.94-2.06-.94-.94-2.06-.94 2.06-2.06.94z\"/><path d=\"M17.41 7.96l-1.37-1.37c-.4-.4-.92-.59-1.43-.59-.52 0-1.04.2-1.43.59L10.3 9.45l-7.72 7.72c-.78.78-.78 2.05 0 2.83L4 21.41c.39.39.9.59 1.41.59.51 0 1.02-.2 1.41-.59l7.78-7.78 2.81-2.81c.8-.78.8-2.07 0-2.86zM5.41 20L4 18.59l7.72-7.72 1.47 1.35L5.41 20z\"/>\n",
              "  </svg>\n",
              "      </button>\n",
              "\n",
              "\n",
              "\n",
              "    <div id=\"df-1e232c86-259c-4086-950e-d366f4dc6dd1\">\n",
              "      <button class=\"colab-df-quickchart\" onclick=\"quickchart('df-1e232c86-259c-4086-950e-d366f4dc6dd1')\"\n",
              "              title=\"Suggest charts.\"\n",
              "              style=\"display:none;\">\n",
              "\n",
              "<svg xmlns=\"http://www.w3.org/2000/svg\" height=\"24px\"viewBox=\"0 0 24 24\"\n",
              "     width=\"24px\">\n",
              "    <g>\n",
              "        <path d=\"M19 3H5c-1.1 0-2 .9-2 2v14c0 1.1.9 2 2 2h14c1.1 0 2-.9 2-2V5c0-1.1-.9-2-2-2zM9 17H7v-7h2v7zm4 0h-2V7h2v10zm4 0h-2v-4h2v4z\"/>\n",
              "    </g>\n",
              "</svg>\n",
              "      </button>\n",
              "    </div>\n",
              "\n",
              "<style>\n",
              "  .colab-df-quickchart {\n",
              "    background-color: #E8F0FE;\n",
              "    border: none;\n",
              "    border-radius: 50%;\n",
              "    cursor: pointer;\n",
              "    display: none;\n",
              "    fill: #1967D2;\n",
              "    height: 32px;\n",
              "    padding: 0 0 0 0;\n",
              "    width: 32px;\n",
              "  }\n",
              "\n",
              "  .colab-df-quickchart:hover {\n",
              "    background-color: #E2EBFA;\n",
              "    box-shadow: 0px 1px 2px rgba(60, 64, 67, 0.3), 0px 1px 3px 1px rgba(60, 64, 67, 0.15);\n",
              "    fill: #174EA6;\n",
              "  }\n",
              "\n",
              "  [theme=dark] .colab-df-quickchart {\n",
              "    background-color: #3B4455;\n",
              "    fill: #D2E3FC;\n",
              "  }\n",
              "\n",
              "  [theme=dark] .colab-df-quickchart:hover {\n",
              "    background-color: #434B5C;\n",
              "    box-shadow: 0px 1px 3px 1px rgba(0, 0, 0, 0.15);\n",
              "    filter: drop-shadow(0px 1px 2px rgba(0, 0, 0, 0.3));\n",
              "    fill: #FFFFFF;\n",
              "  }\n",
              "</style>\n",
              "\n",
              "    <script>\n",
              "      async function quickchart(key) {\n",
              "        const containerElement = document.querySelector('#' + key);\n",
              "        const charts = await google.colab.kernel.invokeFunction(\n",
              "            'suggestCharts', [key], {});\n",
              "      }\n",
              "    </script>\n",
              "\n",
              "      <script>\n",
              "\n",
              "function displayQuickchartButton(domScope) {\n",
              "  let quickchartButtonEl =\n",
              "    domScope.querySelector('#df-1e232c86-259c-4086-950e-d366f4dc6dd1 button.colab-df-quickchart');\n",
              "  quickchartButtonEl.style.display =\n",
              "    google.colab.kernel.accessAllowed ? 'block' : 'none';\n",
              "}\n",
              "\n",
              "        displayQuickchartButton(document);\n",
              "      </script>\n",
              "      <style>\n",
              "    .colab-df-container {\n",
              "      display:flex;\n",
              "      flex-wrap:wrap;\n",
              "      gap: 12px;\n",
              "    }\n",
              "\n",
              "    .colab-df-convert {\n",
              "      background-color: #E8F0FE;\n",
              "      border: none;\n",
              "      border-radius: 50%;\n",
              "      cursor: pointer;\n",
              "      display: none;\n",
              "      fill: #1967D2;\n",
              "      height: 32px;\n",
              "      padding: 0 0 0 0;\n",
              "      width: 32px;\n",
              "    }\n",
              "\n",
              "    .colab-df-convert:hover {\n",
              "      background-color: #E2EBFA;\n",
              "      box-shadow: 0px 1px 2px rgba(60, 64, 67, 0.3), 0px 1px 3px 1px rgba(60, 64, 67, 0.15);\n",
              "      fill: #174EA6;\n",
              "    }\n",
              "\n",
              "    [theme=dark] .colab-df-convert {\n",
              "      background-color: #3B4455;\n",
              "      fill: #D2E3FC;\n",
              "    }\n",
              "\n",
              "    [theme=dark] .colab-df-convert:hover {\n",
              "      background-color: #434B5C;\n",
              "      box-shadow: 0px 1px 3px 1px rgba(0, 0, 0, 0.15);\n",
              "      filter: drop-shadow(0px 1px 2px rgba(0, 0, 0, 0.3));\n",
              "      fill: #FFFFFF;\n",
              "    }\n",
              "  </style>\n",
              "\n",
              "      <script>\n",
              "        const buttonEl =\n",
              "          document.querySelector('#df-769f71a4-d098-44db-b3e0-f45e7722789e button.colab-df-convert');\n",
              "        buttonEl.style.display =\n",
              "          google.colab.kernel.accessAllowed ? 'block' : 'none';\n",
              "\n",
              "        async function convertToInteractive(key) {\n",
              "          const element = document.querySelector('#df-769f71a4-d098-44db-b3e0-f45e7722789e');\n",
              "          const dataTable =\n",
              "            await google.colab.kernel.invokeFunction('convertToInteractive',\n",
              "                                                     [key], {});\n",
              "          if (!dataTable) return;\n",
              "\n",
              "          const docLinkHtml = 'Like what you see? Visit the ' +\n",
              "            '<a target=\"_blank\" href=https://colab.research.google.com/notebooks/data_table.ipynb>data table notebook</a>'\n",
              "            + ' to learn more about interactive tables.';\n",
              "          element.innerHTML = '';\n",
              "          dataTable['output_type'] = 'display_data';\n",
              "          await google.colab.output.renderOutput(dataTable, element);\n",
              "          const docLink = document.createElement('div');\n",
              "          docLink.innerHTML = docLinkHtml;\n",
              "          element.appendChild(docLink);\n",
              "        }\n",
              "      </script>\n",
              "    </div>\n",
              "  </div>\n"
            ]
          },
          "metadata": {},
          "execution_count": 13
        }
      ]
    },
    {
      "cell_type": "code",
      "source": [
        "for i in [\"Income_decrease\",'Grade_decrease','Rating_increase']:\n",
        "  print(df_new[i].value_counts())\n",
        "  #we have now changed the values for the new df_new as intended"
      ],
      "metadata": {
        "colab": {
          "base_uri": "https://localhost:8080/"
        },
        "id": "qBbT6VYrY90w",
        "outputId": "b7075d7f-a26f-40e3-f251-9d36fc4ca881"
      },
      "execution_count": null,
      "outputs": [
        {
          "output_type": "stream",
          "name": "stdout",
          "text": [
            "0    2338\n",
            "1      43\n",
            "Name: Income_decrease, dtype: int64\n",
            "0    2338\n",
            "1      43\n",
            "Name: Grade_decrease, dtype: int64\n",
            " 0    1565\n",
            " 1     458\n",
            "-1     358\n",
            "Name: Rating_increase, dtype: int64\n"
          ]
        }
      ]
    },
    {
      "cell_type": "code",
      "source": [
        "#lets have another feature as avreage amount of monthly rides for each driver,\n",
        "#lets create a new feature named month\n",
        "df[\"month\"]=df[\"MMM-YY\"].dt.month\n",
        "df[\"year\"]=df[\"MMM-YY\"].dt.year\n",
        "\n",
        "temp=df.groupby(\"Driver_ID\")['month'].count().reset_index()\n",
        "temp=temp.groupby(\"Driver_ID\")[\"month\"].mean()\n",
        "avg_rides=temp.reset_index()\n",
        "avg_rides.rename(columns = {'month':'number_month'}, inplace = True)\n",
        "avg_rides.head(5)"
      ],
      "metadata": {
        "colab": {
          "base_uri": "https://localhost:8080/"
        },
        "id": "6ICvVnxGeHTH",
        "outputId": "2776737f-2556-440d-b9d9-264c7d45aae7"
      },
      "execution_count": null,
      "outputs": [
        {
          "output_type": "execute_result",
          "data": {
            "text/plain": [
              "   Driver_ID  number_month\n",
              "0          1           3.0\n",
              "1          2           2.0\n",
              "2          4           5.0\n",
              "3          5           3.0\n",
              "4          6           5.0"
            ],
            "text/html": [
              "\n",
              "\n",
              "  <div id=\"df-5e629424-8546-4243-8712-523e70d4a7c2\">\n",
              "    <div class=\"colab-df-container\">\n",
              "      <div>\n",
              "<style scoped>\n",
              "    .dataframe tbody tr th:only-of-type {\n",
              "        vertical-align: middle;\n",
              "    }\n",
              "\n",
              "    .dataframe tbody tr th {\n",
              "        vertical-align: top;\n",
              "    }\n",
              "\n",
              "    .dataframe thead th {\n",
              "        text-align: right;\n",
              "    }\n",
              "</style>\n",
              "<table border=\"1\" class=\"dataframe\">\n",
              "  <thead>\n",
              "    <tr style=\"text-align: right;\">\n",
              "      <th></th>\n",
              "      <th>Driver_ID</th>\n",
              "      <th>number_month</th>\n",
              "    </tr>\n",
              "  </thead>\n",
              "  <tbody>\n",
              "    <tr>\n",
              "      <th>0</th>\n",
              "      <td>1</td>\n",
              "      <td>3.0</td>\n",
              "    </tr>\n",
              "    <tr>\n",
              "      <th>1</th>\n",
              "      <td>2</td>\n",
              "      <td>2.0</td>\n",
              "    </tr>\n",
              "    <tr>\n",
              "      <th>2</th>\n",
              "      <td>4</td>\n",
              "      <td>5.0</td>\n",
              "    </tr>\n",
              "    <tr>\n",
              "      <th>3</th>\n",
              "      <td>5</td>\n",
              "      <td>3.0</td>\n",
              "    </tr>\n",
              "    <tr>\n",
              "      <th>4</th>\n",
              "      <td>6</td>\n",
              "      <td>5.0</td>\n",
              "    </tr>\n",
              "  </tbody>\n",
              "</table>\n",
              "</div>\n",
              "      <button class=\"colab-df-convert\" onclick=\"convertToInteractive('df-5e629424-8546-4243-8712-523e70d4a7c2')\"\n",
              "              title=\"Convert this dataframe to an interactive table.\"\n",
              "              style=\"display:none;\">\n",
              "\n",
              "  <svg xmlns=\"http://www.w3.org/2000/svg\" height=\"24px\"viewBox=\"0 0 24 24\"\n",
              "       width=\"24px\">\n",
              "    <path d=\"M0 0h24v24H0V0z\" fill=\"none\"/>\n",
              "    <path d=\"M18.56 5.44l.94 2.06.94-2.06 2.06-.94-2.06-.94-.94-2.06-.94 2.06-2.06.94zm-11 1L8.5 8.5l.94-2.06 2.06-.94-2.06-.94L8.5 2.5l-.94 2.06-2.06.94zm10 10l.94 2.06.94-2.06 2.06-.94-2.06-.94-.94-2.06-.94 2.06-2.06.94z\"/><path d=\"M17.41 7.96l-1.37-1.37c-.4-.4-.92-.59-1.43-.59-.52 0-1.04.2-1.43.59L10.3 9.45l-7.72 7.72c-.78.78-.78 2.05 0 2.83L4 21.41c.39.39.9.59 1.41.59.51 0 1.02-.2 1.41-.59l7.78-7.78 2.81-2.81c.8-.78.8-2.07 0-2.86zM5.41 20L4 18.59l7.72-7.72 1.47 1.35L5.41 20z\"/>\n",
              "  </svg>\n",
              "      </button>\n",
              "\n",
              "\n",
              "\n",
              "    <div id=\"df-a4bd21cf-9227-42c6-813c-ed7da2b1e4be\">\n",
              "      <button class=\"colab-df-quickchart\" onclick=\"quickchart('df-a4bd21cf-9227-42c6-813c-ed7da2b1e4be')\"\n",
              "              title=\"Suggest charts.\"\n",
              "              style=\"display:none;\">\n",
              "\n",
              "<svg xmlns=\"http://www.w3.org/2000/svg\" height=\"24px\"viewBox=\"0 0 24 24\"\n",
              "     width=\"24px\">\n",
              "    <g>\n",
              "        <path d=\"M19 3H5c-1.1 0-2 .9-2 2v14c0 1.1.9 2 2 2h14c1.1 0 2-.9 2-2V5c0-1.1-.9-2-2-2zM9 17H7v-7h2v7zm4 0h-2V7h2v10zm4 0h-2v-4h2v4z\"/>\n",
              "    </g>\n",
              "</svg>\n",
              "      </button>\n",
              "    </div>\n",
              "\n",
              "<style>\n",
              "  .colab-df-quickchart {\n",
              "    background-color: #E8F0FE;\n",
              "    border: none;\n",
              "    border-radius: 50%;\n",
              "    cursor: pointer;\n",
              "    display: none;\n",
              "    fill: #1967D2;\n",
              "    height: 32px;\n",
              "    padding: 0 0 0 0;\n",
              "    width: 32px;\n",
              "  }\n",
              "\n",
              "  .colab-df-quickchart:hover {\n",
              "    background-color: #E2EBFA;\n",
              "    box-shadow: 0px 1px 2px rgba(60, 64, 67, 0.3), 0px 1px 3px 1px rgba(60, 64, 67, 0.15);\n",
              "    fill: #174EA6;\n",
              "  }\n",
              "\n",
              "  [theme=dark] .colab-df-quickchart {\n",
              "    background-color: #3B4455;\n",
              "    fill: #D2E3FC;\n",
              "  }\n",
              "\n",
              "  [theme=dark] .colab-df-quickchart:hover {\n",
              "    background-color: #434B5C;\n",
              "    box-shadow: 0px 1px 3px 1px rgba(0, 0, 0, 0.15);\n",
              "    filter: drop-shadow(0px 1px 2px rgba(0, 0, 0, 0.3));\n",
              "    fill: #FFFFFF;\n",
              "  }\n",
              "</style>\n",
              "\n",
              "    <script>\n",
              "      async function quickchart(key) {\n",
              "        const containerElement = document.querySelector('#' + key);\n",
              "        const charts = await google.colab.kernel.invokeFunction(\n",
              "            'suggestCharts', [key], {});\n",
              "      }\n",
              "    </script>\n",
              "\n",
              "      <script>\n",
              "\n",
              "function displayQuickchartButton(domScope) {\n",
              "  let quickchartButtonEl =\n",
              "    domScope.querySelector('#df-a4bd21cf-9227-42c6-813c-ed7da2b1e4be button.colab-df-quickchart');\n",
              "  quickchartButtonEl.style.display =\n",
              "    google.colab.kernel.accessAllowed ? 'block' : 'none';\n",
              "}\n",
              "\n",
              "        displayQuickchartButton(document);\n",
              "      </script>\n",
              "      <style>\n",
              "    .colab-df-container {\n",
              "      display:flex;\n",
              "      flex-wrap:wrap;\n",
              "      gap: 12px;\n",
              "    }\n",
              "\n",
              "    .colab-df-convert {\n",
              "      background-color: #E8F0FE;\n",
              "      border: none;\n",
              "      border-radius: 50%;\n",
              "      cursor: pointer;\n",
              "      display: none;\n",
              "      fill: #1967D2;\n",
              "      height: 32px;\n",
              "      padding: 0 0 0 0;\n",
              "      width: 32px;\n",
              "    }\n",
              "\n",
              "    .colab-df-convert:hover {\n",
              "      background-color: #E2EBFA;\n",
              "      box-shadow: 0px 1px 2px rgba(60, 64, 67, 0.3), 0px 1px 3px 1px rgba(60, 64, 67, 0.15);\n",
              "      fill: #174EA6;\n",
              "    }\n",
              "\n",
              "    [theme=dark] .colab-df-convert {\n",
              "      background-color: #3B4455;\n",
              "      fill: #D2E3FC;\n",
              "    }\n",
              "\n",
              "    [theme=dark] .colab-df-convert:hover {\n",
              "      background-color: #434B5C;\n",
              "      box-shadow: 0px 1px 3px 1px rgba(0, 0, 0, 0.15);\n",
              "      filter: drop-shadow(0px 1px 2px rgba(0, 0, 0, 0.3));\n",
              "      fill: #FFFFFF;\n",
              "    }\n",
              "  </style>\n",
              "\n",
              "      <script>\n",
              "        const buttonEl =\n",
              "          document.querySelector('#df-5e629424-8546-4243-8712-523e70d4a7c2 button.colab-df-convert');\n",
              "        buttonEl.style.display =\n",
              "          google.colab.kernel.accessAllowed ? 'block' : 'none';\n",
              "\n",
              "        async function convertToInteractive(key) {\n",
              "          const element = document.querySelector('#df-5e629424-8546-4243-8712-523e70d4a7c2');\n",
              "          const dataTable =\n",
              "            await google.colab.kernel.invokeFunction('convertToInteractive',\n",
              "                                                     [key], {});\n",
              "          if (!dataTable) return;\n",
              "\n",
              "          const docLinkHtml = 'Like what you see? Visit the ' +\n",
              "            '<a target=\"_blank\" href=https://colab.research.google.com/notebooks/data_table.ipynb>data table notebook</a>'\n",
              "            + ' to learn more about interactive tables.';\n",
              "          element.innerHTML = '';\n",
              "          dataTable['output_type'] = 'display_data';\n",
              "          await google.colab.output.renderOutput(dataTable, element);\n",
              "          const docLink = document.createElement('div');\n",
              "          docLink.innerHTML = docLinkHtml;\n",
              "          element.appendChild(docLink);\n",
              "        }\n",
              "      </script>\n",
              "    </div>\n",
              "  </div>\n"
            ]
          },
          "metadata": {},
          "execution_count": 15
        }
      ]
    },
    {
      "cell_type": "code",
      "source": [
        "#lets add avg_rides to df_join as we will be adding that to our df_final after aggregation\n",
        "df_join=pd.merge(df_join, avg_rides,on =\"Driver_ID\",how='outer')"
      ],
      "metadata": {
        "id": "9d7n78tdiX3D"
      },
      "execution_count": null,
      "outputs": []
    },
    {
      "cell_type": "code",
      "source": [
        "# we have multiple records for each driver most probably daily data\n",
        "#we have to aggregate the data to a driver level as this is what we need to check to create single point of data for our model\n",
        "agg_dic={'Age':\"last\",\"Gender\":\"last\",\"City\":\"last\",\"Education_Level\":\"last\",\"Income\":\"last\",\"Dateofjoining\":\"first\",\"Joining Designation\":\"first\",\"Grade\":\"last\",\"Total Business Value\":\"sum\",\"Quarterly Rating\":\"mean\",\"LastWorkingDate\":\"last\"}\n",
        "#I am creating df_final as i will be dropping the date column which i might need later for analysis\n",
        "df_final=df.groupby(\"Driver_ID\").agg(agg_dic).reset_index()\n",
        "df_final[\"Quarterly Rating\"]=np.round(df_final[\"Quarterly Rating\"],0)\n",
        "df_final.head()\n"
      ],
      "metadata": {
        "id": "nxu_Vx3wx4pb",
        "colab": {
          "base_uri": "https://localhost:8080/"
        },
        "outputId": "d2be201d-9d15-44c0-f6cd-909aae04e16e"
      },
      "execution_count": null,
      "outputs": [
        {
          "output_type": "execute_result",
          "data": {
            "text/plain": [
              "   Driver_ID   Age  Gender City  Education_Level  Income Dateofjoining  \\\n",
              "0          1  28.0     0.0  C23                2   57387    2018-12-24   \n",
              "1          2  31.0     0.0   C7                2   67016    2020-11-06   \n",
              "2          4  43.0     0.0  C13                2   65603    2019-12-07   \n",
              "3          5  29.0     0.0   C9                0   46368    2019-01-09   \n",
              "4          6  31.0     1.0  C11                1   78728    2020-07-31   \n",
              "\n",
              "   Joining Designation  Grade  Total Business Value  Quarterly Rating  \\\n",
              "0                    1      1               1715580               2.0   \n",
              "1                    2      2                     0               1.0   \n",
              "2                    2      2                350000               1.0   \n",
              "3                    1      1                120360               1.0   \n",
              "4                    3      3               1265000               2.0   \n",
              "\n",
              "  LastWorkingDate  \n",
              "0        03/11/19  \n",
              "1            None  \n",
              "2        27/04/20  \n",
              "3        03/07/19  \n",
              "4            None  "
            ],
            "text/html": [
              "\n",
              "\n",
              "  <div id=\"df-879522c7-6527-4e8a-bef0-0a95876b2971\">\n",
              "    <div class=\"colab-df-container\">\n",
              "      <div>\n",
              "<style scoped>\n",
              "    .dataframe tbody tr th:only-of-type {\n",
              "        vertical-align: middle;\n",
              "    }\n",
              "\n",
              "    .dataframe tbody tr th {\n",
              "        vertical-align: top;\n",
              "    }\n",
              "\n",
              "    .dataframe thead th {\n",
              "        text-align: right;\n",
              "    }\n",
              "</style>\n",
              "<table border=\"1\" class=\"dataframe\">\n",
              "  <thead>\n",
              "    <tr style=\"text-align: right;\">\n",
              "      <th></th>\n",
              "      <th>Driver_ID</th>\n",
              "      <th>Age</th>\n",
              "      <th>Gender</th>\n",
              "      <th>City</th>\n",
              "      <th>Education_Level</th>\n",
              "      <th>Income</th>\n",
              "      <th>Dateofjoining</th>\n",
              "      <th>Joining Designation</th>\n",
              "      <th>Grade</th>\n",
              "      <th>Total Business Value</th>\n",
              "      <th>Quarterly Rating</th>\n",
              "      <th>LastWorkingDate</th>\n",
              "    </tr>\n",
              "  </thead>\n",
              "  <tbody>\n",
              "    <tr>\n",
              "      <th>0</th>\n",
              "      <td>1</td>\n",
              "      <td>28.0</td>\n",
              "      <td>0.0</td>\n",
              "      <td>C23</td>\n",
              "      <td>2</td>\n",
              "      <td>57387</td>\n",
              "      <td>2018-12-24</td>\n",
              "      <td>1</td>\n",
              "      <td>1</td>\n",
              "      <td>1715580</td>\n",
              "      <td>2.0</td>\n",
              "      <td>03/11/19</td>\n",
              "    </tr>\n",
              "    <tr>\n",
              "      <th>1</th>\n",
              "      <td>2</td>\n",
              "      <td>31.0</td>\n",
              "      <td>0.0</td>\n",
              "      <td>C7</td>\n",
              "      <td>2</td>\n",
              "      <td>67016</td>\n",
              "      <td>2020-11-06</td>\n",
              "      <td>2</td>\n",
              "      <td>2</td>\n",
              "      <td>0</td>\n",
              "      <td>1.0</td>\n",
              "      <td>None</td>\n",
              "    </tr>\n",
              "    <tr>\n",
              "      <th>2</th>\n",
              "      <td>4</td>\n",
              "      <td>43.0</td>\n",
              "      <td>0.0</td>\n",
              "      <td>C13</td>\n",
              "      <td>2</td>\n",
              "      <td>65603</td>\n",
              "      <td>2019-12-07</td>\n",
              "      <td>2</td>\n",
              "      <td>2</td>\n",
              "      <td>350000</td>\n",
              "      <td>1.0</td>\n",
              "      <td>27/04/20</td>\n",
              "    </tr>\n",
              "    <tr>\n",
              "      <th>3</th>\n",
              "      <td>5</td>\n",
              "      <td>29.0</td>\n",
              "      <td>0.0</td>\n",
              "      <td>C9</td>\n",
              "      <td>0</td>\n",
              "      <td>46368</td>\n",
              "      <td>2019-01-09</td>\n",
              "      <td>1</td>\n",
              "      <td>1</td>\n",
              "      <td>120360</td>\n",
              "      <td>1.0</td>\n",
              "      <td>03/07/19</td>\n",
              "    </tr>\n",
              "    <tr>\n",
              "      <th>4</th>\n",
              "      <td>6</td>\n",
              "      <td>31.0</td>\n",
              "      <td>1.0</td>\n",
              "      <td>C11</td>\n",
              "      <td>1</td>\n",
              "      <td>78728</td>\n",
              "      <td>2020-07-31</td>\n",
              "      <td>3</td>\n",
              "      <td>3</td>\n",
              "      <td>1265000</td>\n",
              "      <td>2.0</td>\n",
              "      <td>None</td>\n",
              "    </tr>\n",
              "  </tbody>\n",
              "</table>\n",
              "</div>\n",
              "      <button class=\"colab-df-convert\" onclick=\"convertToInteractive('df-879522c7-6527-4e8a-bef0-0a95876b2971')\"\n",
              "              title=\"Convert this dataframe to an interactive table.\"\n",
              "              style=\"display:none;\">\n",
              "\n",
              "  <svg xmlns=\"http://www.w3.org/2000/svg\" height=\"24px\"viewBox=\"0 0 24 24\"\n",
              "       width=\"24px\">\n",
              "    <path d=\"M0 0h24v24H0V0z\" fill=\"none\"/>\n",
              "    <path d=\"M18.56 5.44l.94 2.06.94-2.06 2.06-.94-2.06-.94-.94-2.06-.94 2.06-2.06.94zm-11 1L8.5 8.5l.94-2.06 2.06-.94-2.06-.94L8.5 2.5l-.94 2.06-2.06.94zm10 10l.94 2.06.94-2.06 2.06-.94-2.06-.94-.94-2.06-.94 2.06-2.06.94z\"/><path d=\"M17.41 7.96l-1.37-1.37c-.4-.4-.92-.59-1.43-.59-.52 0-1.04.2-1.43.59L10.3 9.45l-7.72 7.72c-.78.78-.78 2.05 0 2.83L4 21.41c.39.39.9.59 1.41.59.51 0 1.02-.2 1.41-.59l7.78-7.78 2.81-2.81c.8-.78.8-2.07 0-2.86zM5.41 20L4 18.59l7.72-7.72 1.47 1.35L5.41 20z\"/>\n",
              "  </svg>\n",
              "      </button>\n",
              "\n",
              "\n",
              "\n",
              "    <div id=\"df-f6aa96eb-57e1-4d14-a686-76cc29872c9a\">\n",
              "      <button class=\"colab-df-quickchart\" onclick=\"quickchart('df-f6aa96eb-57e1-4d14-a686-76cc29872c9a')\"\n",
              "              title=\"Suggest charts.\"\n",
              "              style=\"display:none;\">\n",
              "\n",
              "<svg xmlns=\"http://www.w3.org/2000/svg\" height=\"24px\"viewBox=\"0 0 24 24\"\n",
              "     width=\"24px\">\n",
              "    <g>\n",
              "        <path d=\"M19 3H5c-1.1 0-2 .9-2 2v14c0 1.1.9 2 2 2h14c1.1 0 2-.9 2-2V5c0-1.1-.9-2-2-2zM9 17H7v-7h2v7zm4 0h-2V7h2v10zm4 0h-2v-4h2v4z\"/>\n",
              "    </g>\n",
              "</svg>\n",
              "      </button>\n",
              "    </div>\n",
              "\n",
              "<style>\n",
              "  .colab-df-quickchart {\n",
              "    background-color: #E8F0FE;\n",
              "    border: none;\n",
              "    border-radius: 50%;\n",
              "    cursor: pointer;\n",
              "    display: none;\n",
              "    fill: #1967D2;\n",
              "    height: 32px;\n",
              "    padding: 0 0 0 0;\n",
              "    width: 32px;\n",
              "  }\n",
              "\n",
              "  .colab-df-quickchart:hover {\n",
              "    background-color: #E2EBFA;\n",
              "    box-shadow: 0px 1px 2px rgba(60, 64, 67, 0.3), 0px 1px 3px 1px rgba(60, 64, 67, 0.15);\n",
              "    fill: #174EA6;\n",
              "  }\n",
              "\n",
              "  [theme=dark] .colab-df-quickchart {\n",
              "    background-color: #3B4455;\n",
              "    fill: #D2E3FC;\n",
              "  }\n",
              "\n",
              "  [theme=dark] .colab-df-quickchart:hover {\n",
              "    background-color: #434B5C;\n",
              "    box-shadow: 0px 1px 3px 1px rgba(0, 0, 0, 0.15);\n",
              "    filter: drop-shadow(0px 1px 2px rgba(0, 0, 0, 0.3));\n",
              "    fill: #FFFFFF;\n",
              "  }\n",
              "</style>\n",
              "\n",
              "    <script>\n",
              "      async function quickchart(key) {\n",
              "        const containerElement = document.querySelector('#' + key);\n",
              "        const charts = await google.colab.kernel.invokeFunction(\n",
              "            'suggestCharts', [key], {});\n",
              "      }\n",
              "    </script>\n",
              "\n",
              "      <script>\n",
              "\n",
              "function displayQuickchartButton(domScope) {\n",
              "  let quickchartButtonEl =\n",
              "    domScope.querySelector('#df-f6aa96eb-57e1-4d14-a686-76cc29872c9a button.colab-df-quickchart');\n",
              "  quickchartButtonEl.style.display =\n",
              "    google.colab.kernel.accessAllowed ? 'block' : 'none';\n",
              "}\n",
              "\n",
              "        displayQuickchartButton(document);\n",
              "      </script>\n",
              "      <style>\n",
              "    .colab-df-container {\n",
              "      display:flex;\n",
              "      flex-wrap:wrap;\n",
              "      gap: 12px;\n",
              "    }\n",
              "\n",
              "    .colab-df-convert {\n",
              "      background-color: #E8F0FE;\n",
              "      border: none;\n",
              "      border-radius: 50%;\n",
              "      cursor: pointer;\n",
              "      display: none;\n",
              "      fill: #1967D2;\n",
              "      height: 32px;\n",
              "      padding: 0 0 0 0;\n",
              "      width: 32px;\n",
              "    }\n",
              "\n",
              "    .colab-df-convert:hover {\n",
              "      background-color: #E2EBFA;\n",
              "      box-shadow: 0px 1px 2px rgba(60, 64, 67, 0.3), 0px 1px 3px 1px rgba(60, 64, 67, 0.15);\n",
              "      fill: #174EA6;\n",
              "    }\n",
              "\n",
              "    [theme=dark] .colab-df-convert {\n",
              "      background-color: #3B4455;\n",
              "      fill: #D2E3FC;\n",
              "    }\n",
              "\n",
              "    [theme=dark] .colab-df-convert:hover {\n",
              "      background-color: #434B5C;\n",
              "      box-shadow: 0px 1px 3px 1px rgba(0, 0, 0, 0.15);\n",
              "      filter: drop-shadow(0px 1px 2px rgba(0, 0, 0, 0.3));\n",
              "      fill: #FFFFFF;\n",
              "    }\n",
              "  </style>\n",
              "\n",
              "      <script>\n",
              "        const buttonEl =\n",
              "          document.querySelector('#df-879522c7-6527-4e8a-bef0-0a95876b2971 button.colab-df-convert');\n",
              "        buttonEl.style.display =\n",
              "          google.colab.kernel.accessAllowed ? 'block' : 'none';\n",
              "\n",
              "        async function convertToInteractive(key) {\n",
              "          const element = document.querySelector('#df-879522c7-6527-4e8a-bef0-0a95876b2971');\n",
              "          const dataTable =\n",
              "            await google.colab.kernel.invokeFunction('convertToInteractive',\n",
              "                                                     [key], {});\n",
              "          if (!dataTable) return;\n",
              "\n",
              "          const docLinkHtml = 'Like what you see? Visit the ' +\n",
              "            '<a target=\"_blank\" href=https://colab.research.google.com/notebooks/data_table.ipynb>data table notebook</a>'\n",
              "            + ' to learn more about interactive tables.';\n",
              "          element.innerHTML = '';\n",
              "          dataTable['output_type'] = 'display_data';\n",
              "          await google.colab.output.renderOutput(dataTable, element);\n",
              "          const docLink = document.createElement('div');\n",
              "          docLink.innerHTML = docLinkHtml;\n",
              "          element.appendChild(docLink);\n",
              "        }\n",
              "      </script>\n",
              "    </div>\n",
              "  </div>\n"
            ]
          },
          "metadata": {},
          "execution_count": 17
        }
      ]
    },
    {
      "cell_type": "code",
      "source": [
        "#lets join our df_join with Df_final\n",
        "df_final=pd.merge(df_final, df_join,on =\"Driver_ID\",how='outer')\n",
        "#preparing target variable\n",
        "df_final[\"LastWorkingDate\"].fillna(0,inplace=True)\n",
        "df_final.loc[(df_final['LastWorkingDate'] !=0),'LastWorkingDate']=1\n",
        "df_final.rename(columns = {'LastWorkingDate':'Target'}, inplace = True)\n",
        "df_final['Target'].value_counts(normalize=True)"
      ],
      "metadata": {
        "colab": {
          "base_uri": "https://localhost:8080/"
        },
        "id": "sBAzr0GykOF8",
        "outputId": "6d81739d-5781-4e97-e4d6-9cf3644108c5"
      },
      "execution_count": null,
      "outputs": [
        {
          "output_type": "execute_result",
          "data": {
            "text/plain": [
              "1    0.678706\n",
              "0    0.321294\n",
              "Name: Target, dtype: float64"
            ]
          },
          "metadata": {},
          "execution_count": 18
        }
      ]
    },
    {
      "cell_type": "markdown",
      "source": [
        "##There were no missing values found after aggregation hence we can skip the part where we check and fix missing values"
      ],
      "metadata": {
        "id": "EuQ-elBHhjbL"
      }
    },
    {
      "cell_type": "code",
      "source": [
        "df_final.isna().sum()#there are no missing values after aggregation"
      ],
      "metadata": {
        "colab": {
          "base_uri": "https://localhost:8080/"
        },
        "id": "skk4XijBbjtX",
        "outputId": "57ed374f-4e17-4ecf-dba0-6e9aa16fb670"
      },
      "execution_count": null,
      "outputs": [
        {
          "output_type": "execute_result",
          "data": {
            "text/plain": [
              "Driver_ID               0\n",
              "Age                     0\n",
              "Gender                  0\n",
              "City                    0\n",
              "Education_Level         0\n",
              "Income                  0\n",
              "Dateofjoining           0\n",
              "Joining Designation     0\n",
              "Grade                   0\n",
              "Total Business Value    0\n",
              "Quarterly Rating        0\n",
              "Target                  0\n",
              "Income_decrease         0\n",
              "Grade_decrease          0\n",
              "Rating_increase         0\n",
              "number_month            0\n",
              "dtype: int64"
            ]
          },
          "metadata": {},
          "execution_count": 19
        }
      ]
    },
    {
      "cell_type": "code",
      "source": [
        "# encoding city and date of joining\n",
        "# Lets convert date of joining to month & year of joining\n",
        "df_final['month_of_join']=df_final[\"Dateofjoining\"].dt.month\n",
        "df_final['year_of_join']=df_final[\"Dateofjoining\"].dt.year\n",
        "df_final.drop(\"Dateofjoining\",axis=1,inplace=True)"
      ],
      "metadata": {
        "id": "yNOfzfgqrHMp"
      },
      "execution_count": null,
      "outputs": []
    },
    {
      "cell_type": "code",
      "source": [
        "df_final.describe()\n",
        "#we can see that the there is not much severe difference mean and max for features like  Age, Income but Total buinsess value  & number_month seems to have some difference in mean and median"
      ],
      "metadata": {
        "colab": {
          "base_uri": "https://localhost:8080/",
          "height": 399
        },
        "id": "zQ9hIHGQc5gE",
        "outputId": "1f5b7030-554c-4ad8-b8c6-eb55410fcb59"
      },
      "execution_count": null,
      "outputs": [
        {
          "output_type": "execute_result",
          "data": {
            "text/plain": [
              "         Driver_ID          Age       Gender  Education_Level         Income  \\\n",
              "count  2381.000000  2381.000000  2381.000000       2381.00000    2381.000000   \n",
              "mean   1397.559009    33.663167     0.410332          1.00756   59334.157077   \n",
              "std     806.161628     5.983375     0.491997          0.81629   28383.666384   \n",
              "min       1.000000    21.000000     0.000000          0.00000   10747.000000   \n",
              "25%     695.000000    29.000000     0.000000          0.00000   39104.000000   \n",
              "50%    1400.000000    33.000000     0.000000          1.00000   55315.000000   \n",
              "75%    2100.000000    37.000000     1.000000          2.00000   75986.000000   \n",
              "max    2788.000000    58.000000     1.000000          2.00000  188418.000000   \n",
              "\n",
              "       Joining Designation        Grade  Total Business Value  \\\n",
              "count          2381.000000  2381.000000          2.381000e+03   \n",
              "mean              1.820244     2.096598          4.586742e+06   \n",
              "std               0.841433     0.941522          9.127115e+06   \n",
              "min               1.000000     1.000000         -1.385530e+06   \n",
              "25%               1.000000     1.000000          0.000000e+00   \n",
              "50%               2.000000     2.000000          8.176800e+05   \n",
              "75%               2.000000     3.000000          4.173650e+06   \n",
              "max               5.000000     5.000000          9.533106e+07   \n",
              "\n",
              "       Quarterly Rating  Income_decrease  Grade_decrease  Rating_increase  \\\n",
              "count       2381.000000      2381.000000     2381.000000      2381.000000   \n",
              "mean           1.573289         0.018060        0.018060         0.041999   \n",
              "std            0.745987         0.133195        0.133195         0.584031   \n",
              "min            1.000000         0.000000        0.000000        -1.000000   \n",
              "25%            1.000000         0.000000        0.000000         0.000000   \n",
              "50%            1.000000         0.000000        0.000000         0.000000   \n",
              "75%            2.000000         0.000000        0.000000         0.000000   \n",
              "max            4.000000         1.000000        1.000000         1.000000   \n",
              "\n",
              "       number_month  month_of_join  year_of_join  \n",
              "count    2381.00000    2381.000000   2381.000000  \n",
              "mean        8.02352       7.357413   2018.536329  \n",
              "std         6.78359       3.143143      1.609597  \n",
              "min         1.00000       1.000000   2013.000000  \n",
              "25%         3.00000       5.000000   2018.000000  \n",
              "50%         5.00000       7.000000   2019.000000  \n",
              "75%        10.00000      10.000000   2020.000000  \n",
              "max        24.00000      12.000000   2020.000000  "
            ],
            "text/html": [
              "\n",
              "\n",
              "  <div id=\"df-2979f019-c2da-44f8-945e-33fb91242a8c\">\n",
              "    <div class=\"colab-df-container\">\n",
              "      <div>\n",
              "<style scoped>\n",
              "    .dataframe tbody tr th:only-of-type {\n",
              "        vertical-align: middle;\n",
              "    }\n",
              "\n",
              "    .dataframe tbody tr th {\n",
              "        vertical-align: top;\n",
              "    }\n",
              "\n",
              "    .dataframe thead th {\n",
              "        text-align: right;\n",
              "    }\n",
              "</style>\n",
              "<table border=\"1\" class=\"dataframe\">\n",
              "  <thead>\n",
              "    <tr style=\"text-align: right;\">\n",
              "      <th></th>\n",
              "      <th>Driver_ID</th>\n",
              "      <th>Age</th>\n",
              "      <th>Gender</th>\n",
              "      <th>Education_Level</th>\n",
              "      <th>Income</th>\n",
              "      <th>Joining Designation</th>\n",
              "      <th>Grade</th>\n",
              "      <th>Total Business Value</th>\n",
              "      <th>Quarterly Rating</th>\n",
              "      <th>Income_decrease</th>\n",
              "      <th>Grade_decrease</th>\n",
              "      <th>Rating_increase</th>\n",
              "      <th>number_month</th>\n",
              "      <th>month_of_join</th>\n",
              "      <th>year_of_join</th>\n",
              "    </tr>\n",
              "  </thead>\n",
              "  <tbody>\n",
              "    <tr>\n",
              "      <th>count</th>\n",
              "      <td>2381.000000</td>\n",
              "      <td>2381.000000</td>\n",
              "      <td>2381.000000</td>\n",
              "      <td>2381.00000</td>\n",
              "      <td>2381.000000</td>\n",
              "      <td>2381.000000</td>\n",
              "      <td>2381.000000</td>\n",
              "      <td>2.381000e+03</td>\n",
              "      <td>2381.000000</td>\n",
              "      <td>2381.000000</td>\n",
              "      <td>2381.000000</td>\n",
              "      <td>2381.000000</td>\n",
              "      <td>2381.00000</td>\n",
              "      <td>2381.000000</td>\n",
              "      <td>2381.000000</td>\n",
              "    </tr>\n",
              "    <tr>\n",
              "      <th>mean</th>\n",
              "      <td>1397.559009</td>\n",
              "      <td>33.663167</td>\n",
              "      <td>0.410332</td>\n",
              "      <td>1.00756</td>\n",
              "      <td>59334.157077</td>\n",
              "      <td>1.820244</td>\n",
              "      <td>2.096598</td>\n",
              "      <td>4.586742e+06</td>\n",
              "      <td>1.573289</td>\n",
              "      <td>0.018060</td>\n",
              "      <td>0.018060</td>\n",
              "      <td>0.041999</td>\n",
              "      <td>8.02352</td>\n",
              "      <td>7.357413</td>\n",
              "      <td>2018.536329</td>\n",
              "    </tr>\n",
              "    <tr>\n",
              "      <th>std</th>\n",
              "      <td>806.161628</td>\n",
              "      <td>5.983375</td>\n",
              "      <td>0.491997</td>\n",
              "      <td>0.81629</td>\n",
              "      <td>28383.666384</td>\n",
              "      <td>0.841433</td>\n",
              "      <td>0.941522</td>\n",
              "      <td>9.127115e+06</td>\n",
              "      <td>0.745987</td>\n",
              "      <td>0.133195</td>\n",
              "      <td>0.133195</td>\n",
              "      <td>0.584031</td>\n",
              "      <td>6.78359</td>\n",
              "      <td>3.143143</td>\n",
              "      <td>1.609597</td>\n",
              "    </tr>\n",
              "    <tr>\n",
              "      <th>min</th>\n",
              "      <td>1.000000</td>\n",
              "      <td>21.000000</td>\n",
              "      <td>0.000000</td>\n",
              "      <td>0.00000</td>\n",
              "      <td>10747.000000</td>\n",
              "      <td>1.000000</td>\n",
              "      <td>1.000000</td>\n",
              "      <td>-1.385530e+06</td>\n",
              "      <td>1.000000</td>\n",
              "      <td>0.000000</td>\n",
              "      <td>0.000000</td>\n",
              "      <td>-1.000000</td>\n",
              "      <td>1.00000</td>\n",
              "      <td>1.000000</td>\n",
              "      <td>2013.000000</td>\n",
              "    </tr>\n",
              "    <tr>\n",
              "      <th>25%</th>\n",
              "      <td>695.000000</td>\n",
              "      <td>29.000000</td>\n",
              "      <td>0.000000</td>\n",
              "      <td>0.00000</td>\n",
              "      <td>39104.000000</td>\n",
              "      <td>1.000000</td>\n",
              "      <td>1.000000</td>\n",
              "      <td>0.000000e+00</td>\n",
              "      <td>1.000000</td>\n",
              "      <td>0.000000</td>\n",
              "      <td>0.000000</td>\n",
              "      <td>0.000000</td>\n",
              "      <td>3.00000</td>\n",
              "      <td>5.000000</td>\n",
              "      <td>2018.000000</td>\n",
              "    </tr>\n",
              "    <tr>\n",
              "      <th>50%</th>\n",
              "      <td>1400.000000</td>\n",
              "      <td>33.000000</td>\n",
              "      <td>0.000000</td>\n",
              "      <td>1.00000</td>\n",
              "      <td>55315.000000</td>\n",
              "      <td>2.000000</td>\n",
              "      <td>2.000000</td>\n",
              "      <td>8.176800e+05</td>\n",
              "      <td>1.000000</td>\n",
              "      <td>0.000000</td>\n",
              "      <td>0.000000</td>\n",
              "      <td>0.000000</td>\n",
              "      <td>5.00000</td>\n",
              "      <td>7.000000</td>\n",
              "      <td>2019.000000</td>\n",
              "    </tr>\n",
              "    <tr>\n",
              "      <th>75%</th>\n",
              "      <td>2100.000000</td>\n",
              "      <td>37.000000</td>\n",
              "      <td>1.000000</td>\n",
              "      <td>2.00000</td>\n",
              "      <td>75986.000000</td>\n",
              "      <td>2.000000</td>\n",
              "      <td>3.000000</td>\n",
              "      <td>4.173650e+06</td>\n",
              "      <td>2.000000</td>\n",
              "      <td>0.000000</td>\n",
              "      <td>0.000000</td>\n",
              "      <td>0.000000</td>\n",
              "      <td>10.00000</td>\n",
              "      <td>10.000000</td>\n",
              "      <td>2020.000000</td>\n",
              "    </tr>\n",
              "    <tr>\n",
              "      <th>max</th>\n",
              "      <td>2788.000000</td>\n",
              "      <td>58.000000</td>\n",
              "      <td>1.000000</td>\n",
              "      <td>2.00000</td>\n",
              "      <td>188418.000000</td>\n",
              "      <td>5.000000</td>\n",
              "      <td>5.000000</td>\n",
              "      <td>9.533106e+07</td>\n",
              "      <td>4.000000</td>\n",
              "      <td>1.000000</td>\n",
              "      <td>1.000000</td>\n",
              "      <td>1.000000</td>\n",
              "      <td>24.00000</td>\n",
              "      <td>12.000000</td>\n",
              "      <td>2020.000000</td>\n",
              "    </tr>\n",
              "  </tbody>\n",
              "</table>\n",
              "</div>\n",
              "      <button class=\"colab-df-convert\" onclick=\"convertToInteractive('df-2979f019-c2da-44f8-945e-33fb91242a8c')\"\n",
              "              title=\"Convert this dataframe to an interactive table.\"\n",
              "              style=\"display:none;\">\n",
              "\n",
              "  <svg xmlns=\"http://www.w3.org/2000/svg\" height=\"24px\"viewBox=\"0 0 24 24\"\n",
              "       width=\"24px\">\n",
              "    <path d=\"M0 0h24v24H0V0z\" fill=\"none\"/>\n",
              "    <path d=\"M18.56 5.44l.94 2.06.94-2.06 2.06-.94-2.06-.94-.94-2.06-.94 2.06-2.06.94zm-11 1L8.5 8.5l.94-2.06 2.06-.94-2.06-.94L8.5 2.5l-.94 2.06-2.06.94zm10 10l.94 2.06.94-2.06 2.06-.94-2.06-.94-.94-2.06-.94 2.06-2.06.94z\"/><path d=\"M17.41 7.96l-1.37-1.37c-.4-.4-.92-.59-1.43-.59-.52 0-1.04.2-1.43.59L10.3 9.45l-7.72 7.72c-.78.78-.78 2.05 0 2.83L4 21.41c.39.39.9.59 1.41.59.51 0 1.02-.2 1.41-.59l7.78-7.78 2.81-2.81c.8-.78.8-2.07 0-2.86zM5.41 20L4 18.59l7.72-7.72 1.47 1.35L5.41 20z\"/>\n",
              "  </svg>\n",
              "      </button>\n",
              "\n",
              "\n",
              "\n",
              "    <div id=\"df-91031811-3394-4ac1-8554-232941412fd7\">\n",
              "      <button class=\"colab-df-quickchart\" onclick=\"quickchart('df-91031811-3394-4ac1-8554-232941412fd7')\"\n",
              "              title=\"Suggest charts.\"\n",
              "              style=\"display:none;\">\n",
              "\n",
              "<svg xmlns=\"http://www.w3.org/2000/svg\" height=\"24px\"viewBox=\"0 0 24 24\"\n",
              "     width=\"24px\">\n",
              "    <g>\n",
              "        <path d=\"M19 3H5c-1.1 0-2 .9-2 2v14c0 1.1.9 2 2 2h14c1.1 0 2-.9 2-2V5c0-1.1-.9-2-2-2zM9 17H7v-7h2v7zm4 0h-2V7h2v10zm4 0h-2v-4h2v4z\"/>\n",
              "    </g>\n",
              "</svg>\n",
              "      </button>\n",
              "    </div>\n",
              "\n",
              "<style>\n",
              "  .colab-df-quickchart {\n",
              "    background-color: #E8F0FE;\n",
              "    border: none;\n",
              "    border-radius: 50%;\n",
              "    cursor: pointer;\n",
              "    display: none;\n",
              "    fill: #1967D2;\n",
              "    height: 32px;\n",
              "    padding: 0 0 0 0;\n",
              "    width: 32px;\n",
              "  }\n",
              "\n",
              "  .colab-df-quickchart:hover {\n",
              "    background-color: #E2EBFA;\n",
              "    box-shadow: 0px 1px 2px rgba(60, 64, 67, 0.3), 0px 1px 3px 1px rgba(60, 64, 67, 0.15);\n",
              "    fill: #174EA6;\n",
              "  }\n",
              "\n",
              "  [theme=dark] .colab-df-quickchart {\n",
              "    background-color: #3B4455;\n",
              "    fill: #D2E3FC;\n",
              "  }\n",
              "\n",
              "  [theme=dark] .colab-df-quickchart:hover {\n",
              "    background-color: #434B5C;\n",
              "    box-shadow: 0px 1px 3px 1px rgba(0, 0, 0, 0.15);\n",
              "    filter: drop-shadow(0px 1px 2px rgba(0, 0, 0, 0.3));\n",
              "    fill: #FFFFFF;\n",
              "  }\n",
              "</style>\n",
              "\n",
              "    <script>\n",
              "      async function quickchart(key) {\n",
              "        const containerElement = document.querySelector('#' + key);\n",
              "        const charts = await google.colab.kernel.invokeFunction(\n",
              "            'suggestCharts', [key], {});\n",
              "      }\n",
              "    </script>\n",
              "\n",
              "      <script>\n",
              "\n",
              "function displayQuickchartButton(domScope) {\n",
              "  let quickchartButtonEl =\n",
              "    domScope.querySelector('#df-91031811-3394-4ac1-8554-232941412fd7 button.colab-df-quickchart');\n",
              "  quickchartButtonEl.style.display =\n",
              "    google.colab.kernel.accessAllowed ? 'block' : 'none';\n",
              "}\n",
              "\n",
              "        displayQuickchartButton(document);\n",
              "      </script>\n",
              "      <style>\n",
              "    .colab-df-container {\n",
              "      display:flex;\n",
              "      flex-wrap:wrap;\n",
              "      gap: 12px;\n",
              "    }\n",
              "\n",
              "    .colab-df-convert {\n",
              "      background-color: #E8F0FE;\n",
              "      border: none;\n",
              "      border-radius: 50%;\n",
              "      cursor: pointer;\n",
              "      display: none;\n",
              "      fill: #1967D2;\n",
              "      height: 32px;\n",
              "      padding: 0 0 0 0;\n",
              "      width: 32px;\n",
              "    }\n",
              "\n",
              "    .colab-df-convert:hover {\n",
              "      background-color: #E2EBFA;\n",
              "      box-shadow: 0px 1px 2px rgba(60, 64, 67, 0.3), 0px 1px 3px 1px rgba(60, 64, 67, 0.15);\n",
              "      fill: #174EA6;\n",
              "    }\n",
              "\n",
              "    [theme=dark] .colab-df-convert {\n",
              "      background-color: #3B4455;\n",
              "      fill: #D2E3FC;\n",
              "    }\n",
              "\n",
              "    [theme=dark] .colab-df-convert:hover {\n",
              "      background-color: #434B5C;\n",
              "      box-shadow: 0px 1px 3px 1px rgba(0, 0, 0, 0.15);\n",
              "      filter: drop-shadow(0px 1px 2px rgba(0, 0, 0, 0.3));\n",
              "      fill: #FFFFFF;\n",
              "    }\n",
              "  </style>\n",
              "\n",
              "      <script>\n",
              "        const buttonEl =\n",
              "          document.querySelector('#df-2979f019-c2da-44f8-945e-33fb91242a8c button.colab-df-convert');\n",
              "        buttonEl.style.display =\n",
              "          google.colab.kernel.accessAllowed ? 'block' : 'none';\n",
              "\n",
              "        async function convertToInteractive(key) {\n",
              "          const element = document.querySelector('#df-2979f019-c2da-44f8-945e-33fb91242a8c');\n",
              "          const dataTable =\n",
              "            await google.colab.kernel.invokeFunction('convertToInteractive',\n",
              "                                                     [key], {});\n",
              "          if (!dataTable) return;\n",
              "\n",
              "          const docLinkHtml = 'Like what you see? Visit the ' +\n",
              "            '<a target=\"_blank\" href=https://colab.research.google.com/notebooks/data_table.ipynb>data table notebook</a>'\n",
              "            + ' to learn more about interactive tables.';\n",
              "          element.innerHTML = '';\n",
              "          dataTable['output_type'] = 'display_data';\n",
              "          await google.colab.output.renderOutput(dataTable, element);\n",
              "          const docLink = document.createElement('div');\n",
              "          docLink.innerHTML = docLinkHtml;\n",
              "          element.appendChild(docLink);\n",
              "        }\n",
              "      </script>\n",
              "    </div>\n",
              "  </div>\n"
            ]
          },
          "metadata": {},
          "execution_count": 21
        }
      ]
    },
    {
      "cell_type": "markdown",
      "source": [
        "#Check for outliers"
      ],
      "metadata": {
        "id": "0X8rUSI1ettY"
      }
    },
    {
      "cell_type": "code",
      "source": [
        "def iqr(x):\n",
        "  q3=df_final[x].quantile(0.75)\n",
        "  q2=df_final[x].quantile(0.25)\n",
        "  iqr=q3-q2\n",
        "  low=q2-1.5*iqr\n",
        "  high=q3+1.5*iqr\n",
        "  return {\"low\":low,'high':high,\"no.of outlier\":(len(df_final[df_final[x]>high])),\"max of outlier\":df_final[df_final[x]>high][x].max(),\"mean of the outliers\":(df_final[df_final[x]>high][x].mean())}"
      ],
      "metadata": {
        "id": "Dv6xm4u8eryo"
      },
      "execution_count": null,
      "outputs": []
    },
    {
      "cell_type": "code",
      "source": [
        "col_num=['Age',\"Income\",\"Total Business Value\"]\n",
        "for i in col_num:\n",
        "  print(f\"{i} : {iqr(i)}\")\n",
        "#We can that for Age the difference in the top IQR range and the mean and max of outliers isnt much so I am not treating the outliers.\n",
        "#For income and Total buisness value lets replace the outliers with the 90th percentile"
      ],
      "metadata": {
        "colab": {
          "base_uri": "https://localhost:8080/"
        },
        "id": "5DzuUA0OhzVK",
        "outputId": "8b1792f7-568b-4d56-f634-e419c51dba5a"
      },
      "execution_count": null,
      "outputs": [
        {
          "output_type": "stream",
          "name": "stdout",
          "text": [
            "Age : {'low': 17.0, 'high': 49.0, 'no.of outlier': 25, 'max of outlier': 58.0, 'mean of the outliers': 52.0}\n",
            "Income : {'low': -16219.0, 'high': 131309.0, 'no.of outlier': 48, 'max of outlier': 188418, 'mean of the outliers': 141582.5}\n",
            "Total Business Value : {'low': -6260475.0, 'high': 10434125.0, 'no.of outlier': 336, 'max of outlier': 95331060, 'mean of the outliers': 23292292.23214286}\n"
          ]
        }
      ]
    },
    {
      "cell_type": "code",
      "source": [
        "replace_1=df_final['Income'].quantile(0.90)\n",
        "df_final.loc[df_final.Income >=iqr(\"Income\")[\"high\"],\"Income\" ] = replace_1"
      ],
      "metadata": {
        "id": "A_g3dt23kokp"
      },
      "execution_count": null,
      "outputs": []
    },
    {
      "cell_type": "code",
      "source": [
        "high_TBV=iqr(\"Total Business Value\")[\"high\"]\n",
        "replace_TBV=df_final['Total Business Value'].quantile(0.90)\n",
        "# df_final.loc[df_final.Total Business Value >=high_TBV,\"Total Business Value\" ]\n",
        "df_final.loc[df_final['Total Business Value'] >=high_TBV,\"Total Business Value\"]=replace_TBV"
      ],
      "metadata": {
        "id": "N7huhIBYp228"
      },
      "execution_count": null,
      "outputs": []
    },
    {
      "cell_type": "markdown",
      "source": [
        "#Univariate Analysis\n"
      ],
      "metadata": {
        "id": "YCQnRrovs2S1"
      }
    },
    {
      "cell_type": "code",
      "source": [
        "#Target variable\n",
        "sns.countplot(y=df_final['Target'])\n",
        "plt.show()\n",
        "##67%  churned drivers and 32 % drivers who are still working"
      ],
      "metadata": {
        "colab": {
          "base_uri": "https://localhost:8080/",
          "height": 436
        },
        "id": "QJL2jTJrtQLB",
        "outputId": "2add7cfc-158e-4d49-c11c-cbee2bfd7564"
      },
      "execution_count": null,
      "outputs": [
        {
          "output_type": "display_data",
          "data": {
            "text/plain": [
              "<Figure size 640x480 with 1 Axes>"
            ],
            "image/svg+xml": "<?xml version=\"1.0\" encoding=\"utf-8\" standalone=\"no\"?>\n<!DOCTYPE svg PUBLIC \"-//W3C//DTD SVG 1.1//EN\"\n  \"http://www.w3.org/Graphics/SVG/1.1/DTD/svg11.dtd\">\n<svg xmlns:xlink=\"http://www.w3.org/1999/xlink\" width=\"398.560625pt\" height=\"310.86825pt\" viewBox=\"0 0 398.560625 310.86825\" xmlns=\"http://www.w3.org/2000/svg\" version=\"1.1\">\n <metadata>\n  <rdf:RDF xmlns:dc=\"http://purl.org/dc/elements/1.1/\" xmlns:cc=\"http://creativecommons.org/ns#\" xmlns:rdf=\"http://www.w3.org/1999/02/22-rdf-syntax-ns#\">\n   <cc:Work>\n    <dc:type rdf:resource=\"http://purl.org/dc/dcmitype/StillImage\"/>\n    <dc:date>2023-07-12T06:34:01.003912</dc:date>\n    <dc:format>image/svg+xml</dc:format>\n    <dc:creator>\n     <cc:Agent>\n      <dc:title>Matplotlib v3.7.1, https://matplotlib.org/</dc:title>\n     </cc:Agent>\n    </dc:creator>\n   </cc:Work>\n  </rdf:RDF>\n </metadata>\n <defs>\n  <style type=\"text/css\">*{stroke-linejoin: round; stroke-linecap: butt}</style>\n </defs>\n <g id=\"figure_1\">\n  <g id=\"patch_1\">\n   <path d=\"M 0 310.86825 \nL 398.560625 310.86825 \nL 398.560625 0 \nL 0 0 \nz\n\" style=\"fill: #ffffff\"/>\n  </g>\n  <g id=\"axes_1\">\n   <g id=\"patch_2\">\n    <path d=\"M 34.240625 273.312 \nL 391.360625 273.312 \nL 391.360625 7.2 \nL 34.240625 7.2 \nz\n\" style=\"fill: #ffffff\"/>\n   </g>\n   <g id=\"patch_3\">\n    <path d=\"M 34.240625 20.5056 \nL 195.247697 20.5056 \nL 195.247697 126.9504 \nL 34.240625 126.9504 \nz\n\" clip-path=\"url(#p28eb803f51)\" style=\"fill: #3274a1\"/>\n   </g>\n   <g id=\"patch_4\">\n    <path d=\"M 34.240625 153.5616 \nL 374.354911 153.5616 \nL 374.354911 260.0064 \nL 34.240625 260.0064 \nz\n\" clip-path=\"url(#p28eb803f51)\" style=\"fill: #e1812c\"/>\n   </g>\n   <g id=\"matplotlib.axis_1\">\n    <g id=\"xtick_1\">\n     <g id=\"line2d_1\">\n      <defs>\n       <path id=\"ma6b2750350\" d=\"M 0 0 \nL 0 3.5 \n\" style=\"stroke: #000000; stroke-width: 0.8\"/>\n      </defs>\n      <g>\n       <use xlink:href=\"#ma6b2750350\" x=\"34.240625\" y=\"273.312\" style=\"stroke: #000000; stroke-width: 0.8\"/>\n      </g>\n     </g>\n     <g id=\"text_1\">\n      <!-- 0 -->\n      <g transform=\"translate(31.059375 287.910437) scale(0.1 -0.1)\">\n       <defs>\n        <path id=\"DejaVuSans-30\" d=\"M 2034 4250 \nQ 1547 4250 1301 3770 \nQ 1056 3291 1056 2328 \nQ 1056 1369 1301 889 \nQ 1547 409 2034 409 \nQ 2525 409 2770 889 \nQ 3016 1369 3016 2328 \nQ 3016 3291 2770 3770 \nQ 2525 4250 2034 4250 \nz\nM 2034 4750 \nQ 2819 4750 3233 4129 \nQ 3647 3509 3647 2328 \nQ 3647 1150 3233 529 \nQ 2819 -91 2034 -91 \nQ 1250 -91 836 529 \nQ 422 1150 422 2328 \nQ 422 3509 836 4129 \nQ 1250 4750 2034 4750 \nz\n\" transform=\"scale(0.015625)\"/>\n       </defs>\n       <use xlink:href=\"#DejaVuSans-30\"/>\n      </g>\n     </g>\n    </g>\n    <g id=\"xtick_2\">\n     <g id=\"line2d_2\">\n      <g>\n       <use xlink:href=\"#ma6b2750350\" x=\"76.333977\" y=\"273.312\" style=\"stroke: #000000; stroke-width: 0.8\"/>\n      </g>\n     </g>\n     <g id=\"text_2\">\n      <!-- 200 -->\n      <g transform=\"translate(66.790227 287.910437) scale(0.1 -0.1)\">\n       <defs>\n        <path id=\"DejaVuSans-32\" d=\"M 1228 531 \nL 3431 531 \nL 3431 0 \nL 469 0 \nL 469 531 \nQ 828 903 1448 1529 \nQ 2069 2156 2228 2338 \nQ 2531 2678 2651 2914 \nQ 2772 3150 2772 3378 \nQ 2772 3750 2511 3984 \nQ 2250 4219 1831 4219 \nQ 1534 4219 1204 4116 \nQ 875 4013 500 3803 \nL 500 4441 \nQ 881 4594 1212 4672 \nQ 1544 4750 1819 4750 \nQ 2544 4750 2975 4387 \nQ 3406 4025 3406 3419 \nQ 3406 3131 3298 2873 \nQ 3191 2616 2906 2266 \nQ 2828 2175 2409 1742 \nQ 1991 1309 1228 531 \nz\n\" transform=\"scale(0.015625)\"/>\n       </defs>\n       <use xlink:href=\"#DejaVuSans-32\"/>\n       <use xlink:href=\"#DejaVuSans-30\" x=\"63.623047\"/>\n       <use xlink:href=\"#DejaVuSans-30\" x=\"127.246094\"/>\n      </g>\n     </g>\n    </g>\n    <g id=\"xtick_3\">\n     <g id=\"line2d_3\">\n      <g>\n       <use xlink:href=\"#ma6b2750350\" x=\"118.427329\" y=\"273.312\" style=\"stroke: #000000; stroke-width: 0.8\"/>\n      </g>\n     </g>\n     <g id=\"text_3\">\n      <!-- 400 -->\n      <g transform=\"translate(108.883579 287.910437) scale(0.1 -0.1)\">\n       <defs>\n        <path id=\"DejaVuSans-34\" d=\"M 2419 4116 \nL 825 1625 \nL 2419 1625 \nL 2419 4116 \nz\nM 2253 4666 \nL 3047 4666 \nL 3047 1625 \nL 3713 1625 \nL 3713 1100 \nL 3047 1100 \nL 3047 0 \nL 2419 0 \nL 2419 1100 \nL 313 1100 \nL 313 1709 \nL 2253 4666 \nz\n\" transform=\"scale(0.015625)\"/>\n       </defs>\n       <use xlink:href=\"#DejaVuSans-34\"/>\n       <use xlink:href=\"#DejaVuSans-30\" x=\"63.623047\"/>\n       <use xlink:href=\"#DejaVuSans-30\" x=\"127.246094\"/>\n      </g>\n     </g>\n    </g>\n    <g id=\"xtick_4\">\n     <g id=\"line2d_4\">\n      <g>\n       <use xlink:href=\"#ma6b2750350\" x=\"160.520682\" y=\"273.312\" style=\"stroke: #000000; stroke-width: 0.8\"/>\n      </g>\n     </g>\n     <g id=\"text_4\">\n      <!-- 600 -->\n      <g transform=\"translate(150.976932 287.910437) scale(0.1 -0.1)\">\n       <defs>\n        <path id=\"DejaVuSans-36\" d=\"M 2113 2584 \nQ 1688 2584 1439 2293 \nQ 1191 2003 1191 1497 \nQ 1191 994 1439 701 \nQ 1688 409 2113 409 \nQ 2538 409 2786 701 \nQ 3034 994 3034 1497 \nQ 3034 2003 2786 2293 \nQ 2538 2584 2113 2584 \nz\nM 3366 4563 \nL 3366 3988 \nQ 3128 4100 2886 4159 \nQ 2644 4219 2406 4219 \nQ 1781 4219 1451 3797 \nQ 1122 3375 1075 2522 \nQ 1259 2794 1537 2939 \nQ 1816 3084 2150 3084 \nQ 2853 3084 3261 2657 \nQ 3669 2231 3669 1497 \nQ 3669 778 3244 343 \nQ 2819 -91 2113 -91 \nQ 1303 -91 875 529 \nQ 447 1150 447 2328 \nQ 447 3434 972 4092 \nQ 1497 4750 2381 4750 \nQ 2619 4750 2861 4703 \nQ 3103 4656 3366 4563 \nz\n\" transform=\"scale(0.015625)\"/>\n       </defs>\n       <use xlink:href=\"#DejaVuSans-36\"/>\n       <use xlink:href=\"#DejaVuSans-30\" x=\"63.623047\"/>\n       <use xlink:href=\"#DejaVuSans-30\" x=\"127.246094\"/>\n      </g>\n     </g>\n    </g>\n    <g id=\"xtick_5\">\n     <g id=\"line2d_5\">\n      <g>\n       <use xlink:href=\"#ma6b2750350\" x=\"202.614034\" y=\"273.312\" style=\"stroke: #000000; stroke-width: 0.8\"/>\n      </g>\n     </g>\n     <g id=\"text_5\">\n      <!-- 800 -->\n      <g transform=\"translate(193.070284 287.910437) scale(0.1 -0.1)\">\n       <defs>\n        <path id=\"DejaVuSans-38\" d=\"M 2034 2216 \nQ 1584 2216 1326 1975 \nQ 1069 1734 1069 1313 \nQ 1069 891 1326 650 \nQ 1584 409 2034 409 \nQ 2484 409 2743 651 \nQ 3003 894 3003 1313 \nQ 3003 1734 2745 1975 \nQ 2488 2216 2034 2216 \nz\nM 1403 2484 \nQ 997 2584 770 2862 \nQ 544 3141 544 3541 \nQ 544 4100 942 4425 \nQ 1341 4750 2034 4750 \nQ 2731 4750 3128 4425 \nQ 3525 4100 3525 3541 \nQ 3525 3141 3298 2862 \nQ 3072 2584 2669 2484 \nQ 3125 2378 3379 2068 \nQ 3634 1759 3634 1313 \nQ 3634 634 3220 271 \nQ 2806 -91 2034 -91 \nQ 1263 -91 848 271 \nQ 434 634 434 1313 \nQ 434 1759 690 2068 \nQ 947 2378 1403 2484 \nz\nM 1172 3481 \nQ 1172 3119 1398 2916 \nQ 1625 2713 2034 2713 \nQ 2441 2713 2670 2916 \nQ 2900 3119 2900 3481 \nQ 2900 3844 2670 4047 \nQ 2441 4250 2034 4250 \nQ 1625 4250 1398 4047 \nQ 1172 3844 1172 3481 \nz\n\" transform=\"scale(0.015625)\"/>\n       </defs>\n       <use xlink:href=\"#DejaVuSans-38\"/>\n       <use xlink:href=\"#DejaVuSans-30\" x=\"63.623047\"/>\n       <use xlink:href=\"#DejaVuSans-30\" x=\"127.246094\"/>\n      </g>\n     </g>\n    </g>\n    <g id=\"xtick_6\">\n     <g id=\"line2d_6\">\n      <g>\n       <use xlink:href=\"#ma6b2750350\" x=\"244.707386\" y=\"273.312\" style=\"stroke: #000000; stroke-width: 0.8\"/>\n      </g>\n     </g>\n     <g id=\"text_6\">\n      <!-- 1000 -->\n      <g transform=\"translate(231.982386 287.910437) scale(0.1 -0.1)\">\n       <defs>\n        <path id=\"DejaVuSans-31\" d=\"M 794 531 \nL 1825 531 \nL 1825 4091 \nL 703 3866 \nL 703 4441 \nL 1819 4666 \nL 2450 4666 \nL 2450 531 \nL 3481 531 \nL 3481 0 \nL 794 0 \nL 794 531 \nz\n\" transform=\"scale(0.015625)\"/>\n       </defs>\n       <use xlink:href=\"#DejaVuSans-31\"/>\n       <use xlink:href=\"#DejaVuSans-30\" x=\"63.623047\"/>\n       <use xlink:href=\"#DejaVuSans-30\" x=\"127.246094\"/>\n       <use xlink:href=\"#DejaVuSans-30\" x=\"190.869141\"/>\n      </g>\n     </g>\n    </g>\n    <g id=\"xtick_7\">\n     <g id=\"line2d_7\">\n      <g>\n       <use xlink:href=\"#ma6b2750350\" x=\"286.800738\" y=\"273.312\" style=\"stroke: #000000; stroke-width: 0.8\"/>\n      </g>\n     </g>\n     <g id=\"text_7\">\n      <!-- 1200 -->\n      <g transform=\"translate(274.075738 287.910437) scale(0.1 -0.1)\">\n       <use xlink:href=\"#DejaVuSans-31\"/>\n       <use xlink:href=\"#DejaVuSans-32\" x=\"63.623047\"/>\n       <use xlink:href=\"#DejaVuSans-30\" x=\"127.246094\"/>\n       <use xlink:href=\"#DejaVuSans-30\" x=\"190.869141\"/>\n      </g>\n     </g>\n    </g>\n    <g id=\"xtick_8\">\n     <g id=\"line2d_8\">\n      <g>\n       <use xlink:href=\"#ma6b2750350\" x=\"328.89409\" y=\"273.312\" style=\"stroke: #000000; stroke-width: 0.8\"/>\n      </g>\n     </g>\n     <g id=\"text_8\">\n      <!-- 1400 -->\n      <g transform=\"translate(316.16909 287.910437) scale(0.1 -0.1)\">\n       <use xlink:href=\"#DejaVuSans-31\"/>\n       <use xlink:href=\"#DejaVuSans-34\" x=\"63.623047\"/>\n       <use xlink:href=\"#DejaVuSans-30\" x=\"127.246094\"/>\n       <use xlink:href=\"#DejaVuSans-30\" x=\"190.869141\"/>\n      </g>\n     </g>\n    </g>\n    <g id=\"xtick_9\">\n     <g id=\"line2d_9\">\n      <g>\n       <use xlink:href=\"#ma6b2750350\" x=\"370.987443\" y=\"273.312\" style=\"stroke: #000000; stroke-width: 0.8\"/>\n      </g>\n     </g>\n     <g id=\"text_9\">\n      <!-- 1600 -->\n      <g transform=\"translate(358.262443 287.910437) scale(0.1 -0.1)\">\n       <use xlink:href=\"#DejaVuSans-31\"/>\n       <use xlink:href=\"#DejaVuSans-36\" x=\"63.623047\"/>\n       <use xlink:href=\"#DejaVuSans-30\" x=\"127.246094\"/>\n       <use xlink:href=\"#DejaVuSans-30\" x=\"190.869141\"/>\n      </g>\n     </g>\n    </g>\n    <g id=\"text_10\">\n     <!-- count -->\n     <g transform=\"translate(198.694375 301.588562) scale(0.1 -0.1)\">\n      <defs>\n       <path id=\"DejaVuSans-63\" d=\"M 3122 3366 \nL 3122 2828 \nQ 2878 2963 2633 3030 \nQ 2388 3097 2138 3097 \nQ 1578 3097 1268 2742 \nQ 959 2388 959 1747 \nQ 959 1106 1268 751 \nQ 1578 397 2138 397 \nQ 2388 397 2633 464 \nQ 2878 531 3122 666 \nL 3122 134 \nQ 2881 22 2623 -34 \nQ 2366 -91 2075 -91 \nQ 1284 -91 818 406 \nQ 353 903 353 1747 \nQ 353 2603 823 3093 \nQ 1294 3584 2113 3584 \nQ 2378 3584 2631 3529 \nQ 2884 3475 3122 3366 \nz\n\" transform=\"scale(0.015625)\"/>\n       <path id=\"DejaVuSans-6f\" d=\"M 1959 3097 \nQ 1497 3097 1228 2736 \nQ 959 2375 959 1747 \nQ 959 1119 1226 758 \nQ 1494 397 1959 397 \nQ 2419 397 2687 759 \nQ 2956 1122 2956 1747 \nQ 2956 2369 2687 2733 \nQ 2419 3097 1959 3097 \nz\nM 1959 3584 \nQ 2709 3584 3137 3096 \nQ 3566 2609 3566 1747 \nQ 3566 888 3137 398 \nQ 2709 -91 1959 -91 \nQ 1206 -91 779 398 \nQ 353 888 353 1747 \nQ 353 2609 779 3096 \nQ 1206 3584 1959 3584 \nz\n\" transform=\"scale(0.015625)\"/>\n       <path id=\"DejaVuSans-75\" d=\"M 544 1381 \nL 544 3500 \nL 1119 3500 \nL 1119 1403 \nQ 1119 906 1312 657 \nQ 1506 409 1894 409 \nQ 2359 409 2629 706 \nQ 2900 1003 2900 1516 \nL 2900 3500 \nL 3475 3500 \nL 3475 0 \nL 2900 0 \nL 2900 538 \nQ 2691 219 2414 64 \nQ 2138 -91 1772 -91 \nQ 1169 -91 856 284 \nQ 544 659 544 1381 \nz\nM 1991 3584 \nL 1991 3584 \nz\n\" transform=\"scale(0.015625)\"/>\n       <path id=\"DejaVuSans-6e\" d=\"M 3513 2113 \nL 3513 0 \nL 2938 0 \nL 2938 2094 \nQ 2938 2591 2744 2837 \nQ 2550 3084 2163 3084 \nQ 1697 3084 1428 2787 \nQ 1159 2491 1159 1978 \nL 1159 0 \nL 581 0 \nL 581 3500 \nL 1159 3500 \nL 1159 2956 \nQ 1366 3272 1645 3428 \nQ 1925 3584 2291 3584 \nQ 2894 3584 3203 3211 \nQ 3513 2838 3513 2113 \nz\n\" transform=\"scale(0.015625)\"/>\n       <path id=\"DejaVuSans-74\" d=\"M 1172 4494 \nL 1172 3500 \nL 2356 3500 \nL 2356 3053 \nL 1172 3053 \nL 1172 1153 \nQ 1172 725 1289 603 \nQ 1406 481 1766 481 \nL 2356 481 \nL 2356 0 \nL 1766 0 \nQ 1100 0 847 248 \nQ 594 497 594 1153 \nL 594 3053 \nL 172 3053 \nL 172 3500 \nL 594 3500 \nL 594 4494 \nL 1172 4494 \nz\n\" transform=\"scale(0.015625)\"/>\n      </defs>\n      <use xlink:href=\"#DejaVuSans-63\"/>\n      <use xlink:href=\"#DejaVuSans-6f\" x=\"54.980469\"/>\n      <use xlink:href=\"#DejaVuSans-75\" x=\"116.162109\"/>\n      <use xlink:href=\"#DejaVuSans-6e\" x=\"179.541016\"/>\n      <use xlink:href=\"#DejaVuSans-74\" x=\"242.919922\"/>\n     </g>\n    </g>\n   </g>\n   <g id=\"matplotlib.axis_2\">\n    <g id=\"ytick_1\">\n     <g id=\"line2d_10\">\n      <defs>\n       <path id=\"m9b0cda48dc\" d=\"M 0 0 \nL -3.5 0 \n\" style=\"stroke: #000000; stroke-width: 0.8\"/>\n      </defs>\n      <g>\n       <use xlink:href=\"#m9b0cda48dc\" x=\"34.240625\" y=\"73.728\" style=\"stroke: #000000; stroke-width: 0.8\"/>\n      </g>\n     </g>\n     <g id=\"text_11\">\n      <!-- 0 -->\n      <g transform=\"translate(20.878125 77.527219) scale(0.1 -0.1)\">\n       <use xlink:href=\"#DejaVuSans-30\"/>\n      </g>\n     </g>\n    </g>\n    <g id=\"ytick_2\">\n     <g id=\"line2d_11\">\n      <g>\n       <use xlink:href=\"#m9b0cda48dc\" x=\"34.240625\" y=\"206.784\" style=\"stroke: #000000; stroke-width: 0.8\"/>\n      </g>\n     </g>\n     <g id=\"text_12\">\n      <!-- 1 -->\n      <g transform=\"translate(20.878125 210.583219) scale(0.1 -0.1)\">\n       <use xlink:href=\"#DejaVuSans-31\"/>\n      </g>\n     </g>\n    </g>\n    <g id=\"text_13\">\n     <!-- Target -->\n     <g transform=\"translate(14.798438 155.727875) rotate(-90) scale(0.1 -0.1)\">\n      <defs>\n       <path id=\"DejaVuSans-54\" d=\"M -19 4666 \nL 3928 4666 \nL 3928 4134 \nL 2272 4134 \nL 2272 0 \nL 1638 0 \nL 1638 4134 \nL -19 4134 \nL -19 4666 \nz\n\" transform=\"scale(0.015625)\"/>\n       <path id=\"DejaVuSans-61\" d=\"M 2194 1759 \nQ 1497 1759 1228 1600 \nQ 959 1441 959 1056 \nQ 959 750 1161 570 \nQ 1363 391 1709 391 \nQ 2188 391 2477 730 \nQ 2766 1069 2766 1631 \nL 2766 1759 \nL 2194 1759 \nz\nM 3341 1997 \nL 3341 0 \nL 2766 0 \nL 2766 531 \nQ 2569 213 2275 61 \nQ 1981 -91 1556 -91 \nQ 1019 -91 701 211 \nQ 384 513 384 1019 \nQ 384 1609 779 1909 \nQ 1175 2209 1959 2209 \nL 2766 2209 \nL 2766 2266 \nQ 2766 2663 2505 2880 \nQ 2244 3097 1772 3097 \nQ 1472 3097 1187 3025 \nQ 903 2953 641 2809 \nL 641 3341 \nQ 956 3463 1253 3523 \nQ 1550 3584 1831 3584 \nQ 2591 3584 2966 3190 \nQ 3341 2797 3341 1997 \nz\n\" transform=\"scale(0.015625)\"/>\n       <path id=\"DejaVuSans-72\" d=\"M 2631 2963 \nQ 2534 3019 2420 3045 \nQ 2306 3072 2169 3072 \nQ 1681 3072 1420 2755 \nQ 1159 2438 1159 1844 \nL 1159 0 \nL 581 0 \nL 581 3500 \nL 1159 3500 \nL 1159 2956 \nQ 1341 3275 1631 3429 \nQ 1922 3584 2338 3584 \nQ 2397 3584 2469 3576 \nQ 2541 3569 2628 3553 \nL 2631 2963 \nz\n\" transform=\"scale(0.015625)\"/>\n       <path id=\"DejaVuSans-67\" d=\"M 2906 1791 \nQ 2906 2416 2648 2759 \nQ 2391 3103 1925 3103 \nQ 1463 3103 1205 2759 \nQ 947 2416 947 1791 \nQ 947 1169 1205 825 \nQ 1463 481 1925 481 \nQ 2391 481 2648 825 \nQ 2906 1169 2906 1791 \nz\nM 3481 434 \nQ 3481 -459 3084 -895 \nQ 2688 -1331 1869 -1331 \nQ 1566 -1331 1297 -1286 \nQ 1028 -1241 775 -1147 \nL 775 -588 \nQ 1028 -725 1275 -790 \nQ 1522 -856 1778 -856 \nQ 2344 -856 2625 -561 \nQ 2906 -266 2906 331 \nL 2906 616 \nQ 2728 306 2450 153 \nQ 2172 0 1784 0 \nQ 1141 0 747 490 \nQ 353 981 353 1791 \nQ 353 2603 747 3093 \nQ 1141 3584 1784 3584 \nQ 2172 3584 2450 3431 \nQ 2728 3278 2906 2969 \nL 2906 3500 \nL 3481 3500 \nL 3481 434 \nz\n\" transform=\"scale(0.015625)\"/>\n       <path id=\"DejaVuSans-65\" d=\"M 3597 1894 \nL 3597 1613 \nL 953 1613 \nQ 991 1019 1311 708 \nQ 1631 397 2203 397 \nQ 2534 397 2845 478 \nQ 3156 559 3463 722 \nL 3463 178 \nQ 3153 47 2828 -22 \nQ 2503 -91 2169 -91 \nQ 1331 -91 842 396 \nQ 353 884 353 1716 \nQ 353 2575 817 3079 \nQ 1281 3584 2069 3584 \nQ 2775 3584 3186 3129 \nQ 3597 2675 3597 1894 \nz\nM 3022 2063 \nQ 3016 2534 2758 2815 \nQ 2500 3097 2075 3097 \nQ 1594 3097 1305 2825 \nQ 1016 2553 972 2059 \nL 3022 2063 \nz\n\" transform=\"scale(0.015625)\"/>\n      </defs>\n      <use xlink:href=\"#DejaVuSans-54\"/>\n      <use xlink:href=\"#DejaVuSans-61\" x=\"44.583984\"/>\n      <use xlink:href=\"#DejaVuSans-72\" x=\"105.863281\"/>\n      <use xlink:href=\"#DejaVuSans-67\" x=\"145.226562\"/>\n      <use xlink:href=\"#DejaVuSans-65\" x=\"208.703125\"/>\n      <use xlink:href=\"#DejaVuSans-74\" x=\"270.226562\"/>\n     </g>\n    </g>\n   </g>\n   <g id=\"patch_5\">\n    <path d=\"M 34.240625 273.312 \nL 34.240625 7.2 \n\" style=\"fill: none; stroke: #000000; stroke-width: 0.8; stroke-linejoin: miter; stroke-linecap: square\"/>\n   </g>\n   <g id=\"patch_6\">\n    <path d=\"M 391.360625 273.312 \nL 391.360625 7.2 \n\" style=\"fill: none; stroke: #000000; stroke-width: 0.8; stroke-linejoin: miter; stroke-linecap: square\"/>\n   </g>\n   <g id=\"patch_7\">\n    <path d=\"M 34.240625 273.312 \nL 391.360625 273.312 \n\" style=\"fill: none; stroke: #000000; stroke-width: 0.8; stroke-linejoin: miter; stroke-linecap: square\"/>\n   </g>\n   <g id=\"patch_8\">\n    <path d=\"M 34.240625 7.2 \nL 391.360625 7.2 \n\" style=\"fill: none; stroke: #000000; stroke-width: 0.8; stroke-linejoin: miter; stroke-linecap: square\"/>\n   </g>\n  </g>\n </g>\n <defs>\n  <clipPath id=\"p28eb803f51\">\n   <rect x=\"34.240625\" y=\"7.2\" width=\"357.12\" height=\"266.112\"/>\n  </clipPath>\n </defs>\n</svg>\n"
          },
          "metadata": {}
        }
      ]
    },
    {
      "cell_type": "markdown",
      "source": [
        "##Numerical Columns"
      ],
      "metadata": {
        "id": "LD6rnXMnwdRW"
      }
    },
    {
      "cell_type": "code",
      "source": [
        "#AGE\n",
        "fig, axis = plt.subplots(nrows=1, ncols=2, figsize=(15, 5))\n",
        "plt.subplot(121)\n",
        "sns.histplot(x=df_final[\"Age\"],kde=True)\n",
        "plt.subplot(122)\n",
        "sns.boxplot(y=df_final[\"Age\"])\n",
        "plt.show()\n",
        "mean,std=df_final[\"Age\"].mean(),df_final[\"Age\"].std()\n",
        "print(f\"mean age:{mean} ,std deviation:{std}\")\n",
        "#Age is approximately normal with a mean at 33.66 and std deviation at 5.93"
      ],
      "metadata": {
        "colab": {
          "base_uri": "https://localhost:8080/",
          "height": 219
        },
        "id": "Qpn7pvpxuLE6",
        "outputId": "65b722a9-f3fe-42cc-85cb-2cd8203a11e7"
      },
      "execution_count": null,
      "outputs": [
        {
          "output_type": "error",
          "ename": "NameError",
          "evalue": "name 'plt' is not defined",
          "traceback": [
            "\u001b[0;31m---------------------------------------------------------------------------\u001b[0m",
            "\u001b[0;31mNameError\u001b[0m                                 Traceback (most recent call last)",
            "\u001b[0;32m<ipython-input-1-aeebff13b433>\u001b[0m in \u001b[0;36m<cell line: 2>\u001b[0;34m()\u001b[0m\n\u001b[1;32m      1\u001b[0m \u001b[0;31m#AGE\u001b[0m\u001b[0;34m\u001b[0m\u001b[0;34m\u001b[0m\u001b[0m\n\u001b[0;32m----> 2\u001b[0;31m \u001b[0mfig\u001b[0m\u001b[0;34m,\u001b[0m \u001b[0maxis\u001b[0m \u001b[0;34m=\u001b[0m \u001b[0mplt\u001b[0m\u001b[0;34m.\u001b[0m\u001b[0msubplots\u001b[0m\u001b[0;34m(\u001b[0m\u001b[0mnrows\u001b[0m\u001b[0;34m=\u001b[0m\u001b[0;36m1\u001b[0m\u001b[0;34m,\u001b[0m \u001b[0mncols\u001b[0m\u001b[0;34m=\u001b[0m\u001b[0;36m2\u001b[0m\u001b[0;34m,\u001b[0m \u001b[0mfigsize\u001b[0m\u001b[0;34m=\u001b[0m\u001b[0;34m(\u001b[0m\u001b[0;36m15\u001b[0m\u001b[0;34m,\u001b[0m \u001b[0;36m5\u001b[0m\u001b[0;34m)\u001b[0m\u001b[0;34m)\u001b[0m\u001b[0;34m\u001b[0m\u001b[0;34m\u001b[0m\u001b[0m\n\u001b[0m\u001b[1;32m      3\u001b[0m \u001b[0mplt\u001b[0m\u001b[0;34m.\u001b[0m\u001b[0msubplot\u001b[0m\u001b[0;34m(\u001b[0m\u001b[0;36m121\u001b[0m\u001b[0;34m)\u001b[0m\u001b[0;34m\u001b[0m\u001b[0;34m\u001b[0m\u001b[0m\n\u001b[1;32m      4\u001b[0m \u001b[0msns\u001b[0m\u001b[0;34m.\u001b[0m\u001b[0mhistplot\u001b[0m\u001b[0;34m(\u001b[0m\u001b[0mx\u001b[0m\u001b[0;34m=\u001b[0m\u001b[0mdf_final\u001b[0m\u001b[0;34m[\u001b[0m\u001b[0;34m\"Age\"\u001b[0m\u001b[0;34m]\u001b[0m\u001b[0;34m,\u001b[0m\u001b[0mkde\u001b[0m\u001b[0;34m=\u001b[0m\u001b[0;32mTrue\u001b[0m\u001b[0;34m)\u001b[0m\u001b[0;34m\u001b[0m\u001b[0;34m\u001b[0m\u001b[0m\n\u001b[1;32m      5\u001b[0m \u001b[0mplt\u001b[0m\u001b[0;34m.\u001b[0m\u001b[0msubplot\u001b[0m\u001b[0;34m(\u001b[0m\u001b[0;36m122\u001b[0m\u001b[0;34m)\u001b[0m\u001b[0;34m\u001b[0m\u001b[0;34m\u001b[0m\u001b[0m\n",
            "\u001b[0;31mNameError\u001b[0m: name 'plt' is not defined"
          ]
        }
      ]
    },
    {
      "cell_type": "code",
      "source": [
        "fig, axis = plt.subplots(nrows=1, ncols=2, figsize=(15, 5))\n",
        "plt.subplot(121)\n",
        "sns.histplot(x=df_final[\"Income\"],kde=True)\n",
        "plt.subplot(122)\n",
        "sns.boxplot(y=df_final[\"Income\"])\n",
        "plt.show()\n",
        "mean,std=df_final[\"Income\"].mean(),df_final[\"Income\"].std()\n",
        "print(f\"mean age:{mean} ,std deviation:{std}\")\n",
        "#Income is approximately normal with a mean at 58484.07727845443 and std deviation at 26425.325402000042"
      ],
      "metadata": {
        "colab": {
          "base_uri": "https://localhost:8080/",
          "height": 219
        },
        "id": "DOXpKxoWumCw",
        "outputId": "0077b882-1fcb-4351-d977-4fec84665d94"
      },
      "execution_count": null,
      "outputs": [
        {
          "output_type": "error",
          "ename": "NameError",
          "evalue": "name 'plt' is not defined",
          "traceback": [
            "\u001b[0;31m---------------------------------------------------------------------------\u001b[0m",
            "\u001b[0;31mNameError\u001b[0m                                 Traceback (most recent call last)",
            "\u001b[0;32m<ipython-input-2-46251804cf31>\u001b[0m in \u001b[0;36m<cell line: 1>\u001b[0;34m()\u001b[0m\n\u001b[0;32m----> 1\u001b[0;31m \u001b[0mfig\u001b[0m\u001b[0;34m,\u001b[0m \u001b[0maxis\u001b[0m \u001b[0;34m=\u001b[0m \u001b[0mplt\u001b[0m\u001b[0;34m.\u001b[0m\u001b[0msubplots\u001b[0m\u001b[0;34m(\u001b[0m\u001b[0mnrows\u001b[0m\u001b[0;34m=\u001b[0m\u001b[0;36m1\u001b[0m\u001b[0;34m,\u001b[0m \u001b[0mncols\u001b[0m\u001b[0;34m=\u001b[0m\u001b[0;36m2\u001b[0m\u001b[0;34m,\u001b[0m \u001b[0mfigsize\u001b[0m\u001b[0;34m=\u001b[0m\u001b[0;34m(\u001b[0m\u001b[0;36m15\u001b[0m\u001b[0;34m,\u001b[0m \u001b[0;36m5\u001b[0m\u001b[0;34m)\u001b[0m\u001b[0;34m)\u001b[0m\u001b[0;34m\u001b[0m\u001b[0;34m\u001b[0m\u001b[0m\n\u001b[0m\u001b[1;32m      2\u001b[0m \u001b[0mplt\u001b[0m\u001b[0;34m.\u001b[0m\u001b[0msubplot\u001b[0m\u001b[0;34m(\u001b[0m\u001b[0;36m121\u001b[0m\u001b[0;34m)\u001b[0m\u001b[0;34m\u001b[0m\u001b[0;34m\u001b[0m\u001b[0m\n\u001b[1;32m      3\u001b[0m \u001b[0msns\u001b[0m\u001b[0;34m.\u001b[0m\u001b[0mhistplot\u001b[0m\u001b[0;34m(\u001b[0m\u001b[0mx\u001b[0m\u001b[0;34m=\u001b[0m\u001b[0mdf_final\u001b[0m\u001b[0;34m[\u001b[0m\u001b[0;34m\"Income\"\u001b[0m\u001b[0;34m]\u001b[0m\u001b[0;34m,\u001b[0m\u001b[0mkde\u001b[0m\u001b[0;34m=\u001b[0m\u001b[0;32mTrue\u001b[0m\u001b[0;34m)\u001b[0m\u001b[0;34m\u001b[0m\u001b[0;34m\u001b[0m\u001b[0m\n\u001b[1;32m      4\u001b[0m \u001b[0mplt\u001b[0m\u001b[0;34m.\u001b[0m\u001b[0msubplot\u001b[0m\u001b[0;34m(\u001b[0m\u001b[0;36m122\u001b[0m\u001b[0;34m)\u001b[0m\u001b[0;34m\u001b[0m\u001b[0;34m\u001b[0m\u001b[0m\n\u001b[1;32m      5\u001b[0m \u001b[0msns\u001b[0m\u001b[0;34m.\u001b[0m\u001b[0mboxplot\u001b[0m\u001b[0;34m(\u001b[0m\u001b[0my\u001b[0m\u001b[0;34m=\u001b[0m\u001b[0mdf_final\u001b[0m\u001b[0;34m[\u001b[0m\u001b[0;34m\"Income\"\u001b[0m\u001b[0;34m]\u001b[0m\u001b[0;34m)\u001b[0m\u001b[0;34m\u001b[0m\u001b[0;34m\u001b[0m\u001b[0m\n",
            "\u001b[0;31mNameError\u001b[0m: name 'plt' is not defined"
          ]
        }
      ]
    },
    {
      "cell_type": "code",
      "source": [
        "#Total Business Value\n",
        "fig, axis = plt.subplots(nrows=1, ncols=2, figsize=(15, 5))\n",
        "plt.subplot(121)\n",
        "sns.histplot(x=df_final[\"Total Business Value\"],kde=True)\n",
        "plt.subplot(122)\n",
        "sns.boxplot(y=df_final[\"Total Business Value\"])\n",
        "plt.show()\n",
        "# mean,std=df_final[\"Total Business Value\"].mean(),df_final[\"Total Business Value\"].std()\n",
        "# print(f\"mean age:{mean} ,std deviation:{std}\")\n",
        "#Total buinsess value is severly right skewed"
      ],
      "metadata": {
        "id": "THfh6P0UvsEF"
      },
      "execution_count": null,
      "outputs": []
    },
    {
      "cell_type": "code",
      "source": [
        "df_final.columns"
      ],
      "metadata": {
        "id": "uPtRtYL9uGVe"
      },
      "execution_count": null,
      "outputs": []
    },
    {
      "cell_type": "markdown",
      "source": [
        "##Categorical Columns"
      ],
      "metadata": {
        "id": "ImvEiUxgwits"
      }
    },
    {
      "cell_type": "code",
      "source": [
        "#Gender & City\n",
        "fig, axis = plt.subplots(nrows=1, ncols=2, figsize=(15, 5))\n",
        "plt.subplot(121)\n",
        "sns.countplot(x=df_final[\"Gender\"])\n",
        "plt.subplot(122)\n",
        "l_s=df_final.groupby('City').size().sort_values().index[::-1]\n",
        "sns.countplot(y=df_final['City'],order=l_s)\n",
        "plt.show()\n",
        "print(\"Top 3 cities\")\n",
        "df_final[\"City\"].value_counts().head(3)"
      ],
      "metadata": {
        "colab": {
          "base_uri": "https://localhost:8080/"
        },
        "id": "-cO-wIZ6wmaS",
        "outputId": "88adee83-bd4f-4f3d-b8bb-12bece1e13d5"
      },
      "execution_count": null,
      "outputs": [
        {
          "output_type": "display_data",
          "data": {
            "text/plain": [
              "<Figure size 1500x500 with 2 Axes>"
            ],
            "image/svg+xml": "<?xml version=\"1.0\" encoding=\"utf-8\" standalone=\"no\"?>\n<!DOCTYPE svg PUBLIC \"-//W3C//DTD SVG 1.1//EN\"\n  \"http://www.w3.org/Graphics/SVG/1.1/DTD/svg11.dtd\">\n<svg xmlns:xlink=\"http://www.w3.org/1999/xlink\" width=\"897.528125pt\" height=\"321.95625pt\" viewBox=\"0 0 897.528125 321.95625\" xmlns=\"http://www.w3.org/2000/svg\" version=\"1.1\">\n <metadata>\n  <rdf:RDF xmlns:dc=\"http://purl.org/dc/elements/1.1/\" xmlns:cc=\"http://creativecommons.org/ns#\" xmlns:rdf=\"http://www.w3.org/1999/02/22-rdf-syntax-ns#\">\n   <cc:Work>\n    <dc:type rdf:resource=\"http://purl.org/dc/dcmitype/StillImage\"/>\n    <dc:date>2023-07-12T06:34:02.602036</dc:date>\n    <dc:format>image/svg+xml</dc:format>\n    <dc:creator>\n     <cc:Agent>\n      <dc:title>Matplotlib v3.7.1, https://matplotlib.org/</dc:title>\n     </cc:Agent>\n    </dc:creator>\n   </cc:Work>\n  </rdf:RDF>\n </metadata>\n <defs>\n  <style type=\"text/css\">*{stroke-linejoin: round; stroke-linecap: butt}</style>\n </defs>\n <g id=\"figure_1\">\n  <g id=\"patch_1\">\n   <path d=\"M 0 321.95625 \nL 897.528125 321.95625 \nL 897.528125 0 \nL 0 0 \nz\n\" style=\"fill: #ffffff\"/>\n  </g>\n  <g id=\"axes_1\">\n   <g id=\"patch_2\">\n    <path d=\"M 53.328125 284.4 \nL 433.78267 284.4 \nL 433.78267 7.2 \nL 53.328125 7.2 \nz\n\" style=\"fill: #ffffff\"/>\n   </g>\n   <g id=\"patch_3\">\n    <path d=\"M 72.350852 284.4 \nL 224.53267 284.4 \nL 224.53267 20.4 \nL 72.350852 20.4 \nz\n\" clip-path=\"url(#p49f87bc7d8)\" style=\"fill: #3274a1\"/>\n   </g>\n   <g id=\"patch_4\">\n    <path d=\"M 262.578125 284.4 \nL 414.759943 284.4 \nL 414.759943 100.690598 \nL 262.578125 100.690598 \nz\n\" clip-path=\"url(#p49f87bc7d8)\" style=\"fill: #e1812c\"/>\n   </g>\n   <g id=\"matplotlib.axis_1\">\n    <g id=\"xtick_1\">\n     <g id=\"line2d_1\">\n      <defs>\n       <path id=\"mac663bb801\" d=\"M 0 0 \nL 0 3.5 \n\" style=\"stroke: #000000; stroke-width: 0.8\"/>\n      </defs>\n      <g>\n       <use xlink:href=\"#mac663bb801\" x=\"148.441761\" y=\"284.4\" style=\"stroke: #000000; stroke-width: 0.8\"/>\n      </g>\n     </g>\n     <g id=\"text_1\">\n      <!-- 0.0 -->\n      <g transform=\"translate(140.490199 298.998438) scale(0.1 -0.1)\">\n       <defs>\n        <path id=\"DejaVuSans-30\" d=\"M 2034 4250 \nQ 1547 4250 1301 3770 \nQ 1056 3291 1056 2328 \nQ 1056 1369 1301 889 \nQ 1547 409 2034 409 \nQ 2525 409 2770 889 \nQ 3016 1369 3016 2328 \nQ 3016 3291 2770 3770 \nQ 2525 4250 2034 4250 \nz\nM 2034 4750 \nQ 2819 4750 3233 4129 \nQ 3647 3509 3647 2328 \nQ 3647 1150 3233 529 \nQ 2819 -91 2034 -91 \nQ 1250 -91 836 529 \nQ 422 1150 422 2328 \nQ 422 3509 836 4129 \nQ 1250 4750 2034 4750 \nz\n\" transform=\"scale(0.015625)\"/>\n        <path id=\"DejaVuSans-2e\" d=\"M 684 794 \nL 1344 794 \nL 1344 0 \nL 684 0 \nL 684 794 \nz\n\" transform=\"scale(0.015625)\"/>\n       </defs>\n       <use xlink:href=\"#DejaVuSans-30\"/>\n       <use xlink:href=\"#DejaVuSans-2e\" x=\"63.623047\"/>\n       <use xlink:href=\"#DejaVuSans-30\" x=\"95.410156\"/>\n      </g>\n     </g>\n    </g>\n    <g id=\"xtick_2\">\n     <g id=\"line2d_2\">\n      <g>\n       <use xlink:href=\"#mac663bb801\" x=\"338.669034\" y=\"284.4\" style=\"stroke: #000000; stroke-width: 0.8\"/>\n      </g>\n     </g>\n     <g id=\"text_2\">\n      <!-- 1.0 -->\n      <g transform=\"translate(330.717472 298.998438) scale(0.1 -0.1)\">\n       <defs>\n        <path id=\"DejaVuSans-31\" d=\"M 794 531 \nL 1825 531 \nL 1825 4091 \nL 703 3866 \nL 703 4441 \nL 1819 4666 \nL 2450 4666 \nL 2450 531 \nL 3481 531 \nL 3481 0 \nL 794 0 \nL 794 531 \nz\n\" transform=\"scale(0.015625)\"/>\n       </defs>\n       <use xlink:href=\"#DejaVuSans-31\"/>\n       <use xlink:href=\"#DejaVuSans-2e\" x=\"63.623047\"/>\n       <use xlink:href=\"#DejaVuSans-30\" x=\"95.410156\"/>\n      </g>\n     </g>\n    </g>\n    <g id=\"text_3\">\n     <!-- Gender -->\n     <g transform=\"translate(225.129616 312.676562) scale(0.1 -0.1)\">\n      <defs>\n       <path id=\"DejaVuSans-47\" d=\"M 3809 666 \nL 3809 1919 \nL 2778 1919 \nL 2778 2438 \nL 4434 2438 \nL 4434 434 \nQ 4069 175 3628 42 \nQ 3188 -91 2688 -91 \nQ 1594 -91 976 548 \nQ 359 1188 359 2328 \nQ 359 3472 976 4111 \nQ 1594 4750 2688 4750 \nQ 3144 4750 3555 4637 \nQ 3966 4525 4313 4306 \nL 4313 3634 \nQ 3963 3931 3569 4081 \nQ 3175 4231 2741 4231 \nQ 1884 4231 1454 3753 \nQ 1025 3275 1025 2328 \nQ 1025 1384 1454 906 \nQ 1884 428 2741 428 \nQ 3075 428 3337 486 \nQ 3600 544 3809 666 \nz\n\" transform=\"scale(0.015625)\"/>\n       <path id=\"DejaVuSans-65\" d=\"M 3597 1894 \nL 3597 1613 \nL 953 1613 \nQ 991 1019 1311 708 \nQ 1631 397 2203 397 \nQ 2534 397 2845 478 \nQ 3156 559 3463 722 \nL 3463 178 \nQ 3153 47 2828 -22 \nQ 2503 -91 2169 -91 \nQ 1331 -91 842 396 \nQ 353 884 353 1716 \nQ 353 2575 817 3079 \nQ 1281 3584 2069 3584 \nQ 2775 3584 3186 3129 \nQ 3597 2675 3597 1894 \nz\nM 3022 2063 \nQ 3016 2534 2758 2815 \nQ 2500 3097 2075 3097 \nQ 1594 3097 1305 2825 \nQ 1016 2553 972 2059 \nL 3022 2063 \nz\n\" transform=\"scale(0.015625)\"/>\n       <path id=\"DejaVuSans-6e\" d=\"M 3513 2113 \nL 3513 0 \nL 2938 0 \nL 2938 2094 \nQ 2938 2591 2744 2837 \nQ 2550 3084 2163 3084 \nQ 1697 3084 1428 2787 \nQ 1159 2491 1159 1978 \nL 1159 0 \nL 581 0 \nL 581 3500 \nL 1159 3500 \nL 1159 2956 \nQ 1366 3272 1645 3428 \nQ 1925 3584 2291 3584 \nQ 2894 3584 3203 3211 \nQ 3513 2838 3513 2113 \nz\n\" transform=\"scale(0.015625)\"/>\n       <path id=\"DejaVuSans-64\" d=\"M 2906 2969 \nL 2906 4863 \nL 3481 4863 \nL 3481 0 \nL 2906 0 \nL 2906 525 \nQ 2725 213 2448 61 \nQ 2172 -91 1784 -91 \nQ 1150 -91 751 415 \nQ 353 922 353 1747 \nQ 353 2572 751 3078 \nQ 1150 3584 1784 3584 \nQ 2172 3584 2448 3432 \nQ 2725 3281 2906 2969 \nz\nM 947 1747 \nQ 947 1113 1208 752 \nQ 1469 391 1925 391 \nQ 2381 391 2643 752 \nQ 2906 1113 2906 1747 \nQ 2906 2381 2643 2742 \nQ 2381 3103 1925 3103 \nQ 1469 3103 1208 2742 \nQ 947 2381 947 1747 \nz\n\" transform=\"scale(0.015625)\"/>\n       <path id=\"DejaVuSans-72\" d=\"M 2631 2963 \nQ 2534 3019 2420 3045 \nQ 2306 3072 2169 3072 \nQ 1681 3072 1420 2755 \nQ 1159 2438 1159 1844 \nL 1159 0 \nL 581 0 \nL 581 3500 \nL 1159 3500 \nL 1159 2956 \nQ 1341 3275 1631 3429 \nQ 1922 3584 2338 3584 \nQ 2397 3584 2469 3576 \nQ 2541 3569 2628 3553 \nL 2631 2963 \nz\n\" transform=\"scale(0.015625)\"/>\n      </defs>\n      <use xlink:href=\"#DejaVuSans-47\"/>\n      <use xlink:href=\"#DejaVuSans-65\" x=\"77.490234\"/>\n      <use xlink:href=\"#DejaVuSans-6e\" x=\"139.013672\"/>\n      <use xlink:href=\"#DejaVuSans-64\" x=\"202.392578\"/>\n      <use xlink:href=\"#DejaVuSans-65\" x=\"265.869141\"/>\n      <use xlink:href=\"#DejaVuSans-72\" x=\"327.392578\"/>\n     </g>\n    </g>\n   </g>\n   <g id=\"matplotlib.axis_2\">\n    <g id=\"ytick_1\">\n     <g id=\"line2d_3\">\n      <defs>\n       <path id=\"m871caf4fb0\" d=\"M 0 0 \nL -3.5 0 \n\" style=\"stroke: #000000; stroke-width: 0.8\"/>\n      </defs>\n      <g>\n       <use xlink:href=\"#m871caf4fb0\" x=\"53.328125\" y=\"284.4\" style=\"stroke: #000000; stroke-width: 0.8\"/>\n      </g>\n     </g>\n     <g id=\"text_4\">\n      <!-- 0 -->\n      <g transform=\"translate(39.965625 288.199219) scale(0.1 -0.1)\">\n       <use xlink:href=\"#DejaVuSans-30\"/>\n      </g>\n     </g>\n    </g>\n    <g id=\"ytick_2\">\n     <g id=\"line2d_4\">\n      <g>\n       <use xlink:href=\"#m871caf4fb0\" x=\"53.328125\" y=\"246.793162\" style=\"stroke: #000000; stroke-width: 0.8\"/>\n      </g>\n     </g>\n     <g id=\"text_5\">\n      <!-- 200 -->\n      <g transform=\"translate(27.240625 250.592381) scale(0.1 -0.1)\">\n       <defs>\n        <path id=\"DejaVuSans-32\" d=\"M 1228 531 \nL 3431 531 \nL 3431 0 \nL 469 0 \nL 469 531 \nQ 828 903 1448 1529 \nQ 2069 2156 2228 2338 \nQ 2531 2678 2651 2914 \nQ 2772 3150 2772 3378 \nQ 2772 3750 2511 3984 \nQ 2250 4219 1831 4219 \nQ 1534 4219 1204 4116 \nQ 875 4013 500 3803 \nL 500 4441 \nQ 881 4594 1212 4672 \nQ 1544 4750 1819 4750 \nQ 2544 4750 2975 4387 \nQ 3406 4025 3406 3419 \nQ 3406 3131 3298 2873 \nQ 3191 2616 2906 2266 \nQ 2828 2175 2409 1742 \nQ 1991 1309 1228 531 \nz\n\" transform=\"scale(0.015625)\"/>\n       </defs>\n       <use xlink:href=\"#DejaVuSans-32\"/>\n       <use xlink:href=\"#DejaVuSans-30\" x=\"63.623047\"/>\n       <use xlink:href=\"#DejaVuSans-30\" x=\"127.246094\"/>\n      </g>\n     </g>\n    </g>\n    <g id=\"ytick_3\">\n     <g id=\"line2d_5\">\n      <g>\n       <use xlink:href=\"#m871caf4fb0\" x=\"53.328125\" y=\"209.186325\" style=\"stroke: #000000; stroke-width: 0.8\"/>\n      </g>\n     </g>\n     <g id=\"text_6\">\n      <!-- 400 -->\n      <g transform=\"translate(27.240625 212.985544) scale(0.1 -0.1)\">\n       <defs>\n        <path id=\"DejaVuSans-34\" d=\"M 2419 4116 \nL 825 1625 \nL 2419 1625 \nL 2419 4116 \nz\nM 2253 4666 \nL 3047 4666 \nL 3047 1625 \nL 3713 1625 \nL 3713 1100 \nL 3047 1100 \nL 3047 0 \nL 2419 0 \nL 2419 1100 \nL 313 1100 \nL 313 1709 \nL 2253 4666 \nz\n\" transform=\"scale(0.015625)\"/>\n       </defs>\n       <use xlink:href=\"#DejaVuSans-34\"/>\n       <use xlink:href=\"#DejaVuSans-30\" x=\"63.623047\"/>\n       <use xlink:href=\"#DejaVuSans-30\" x=\"127.246094\"/>\n      </g>\n     </g>\n    </g>\n    <g id=\"ytick_4\">\n     <g id=\"line2d_6\">\n      <g>\n       <use xlink:href=\"#m871caf4fb0\" x=\"53.328125\" y=\"171.579487\" style=\"stroke: #000000; stroke-width: 0.8\"/>\n      </g>\n     </g>\n     <g id=\"text_7\">\n      <!-- 600 -->\n      <g transform=\"translate(27.240625 175.378706) scale(0.1 -0.1)\">\n       <defs>\n        <path id=\"DejaVuSans-36\" d=\"M 2113 2584 \nQ 1688 2584 1439 2293 \nQ 1191 2003 1191 1497 \nQ 1191 994 1439 701 \nQ 1688 409 2113 409 \nQ 2538 409 2786 701 \nQ 3034 994 3034 1497 \nQ 3034 2003 2786 2293 \nQ 2538 2584 2113 2584 \nz\nM 3366 4563 \nL 3366 3988 \nQ 3128 4100 2886 4159 \nQ 2644 4219 2406 4219 \nQ 1781 4219 1451 3797 \nQ 1122 3375 1075 2522 \nQ 1259 2794 1537 2939 \nQ 1816 3084 2150 3084 \nQ 2853 3084 3261 2657 \nQ 3669 2231 3669 1497 \nQ 3669 778 3244 343 \nQ 2819 -91 2113 -91 \nQ 1303 -91 875 529 \nQ 447 1150 447 2328 \nQ 447 3434 972 4092 \nQ 1497 4750 2381 4750 \nQ 2619 4750 2861 4703 \nQ 3103 4656 3366 4563 \nz\n\" transform=\"scale(0.015625)\"/>\n       </defs>\n       <use xlink:href=\"#DejaVuSans-36\"/>\n       <use xlink:href=\"#DejaVuSans-30\" x=\"63.623047\"/>\n       <use xlink:href=\"#DejaVuSans-30\" x=\"127.246094\"/>\n      </g>\n     </g>\n    </g>\n    <g id=\"ytick_5\">\n     <g id=\"line2d_7\">\n      <g>\n       <use xlink:href=\"#m871caf4fb0\" x=\"53.328125\" y=\"133.97265\" style=\"stroke: #000000; stroke-width: 0.8\"/>\n      </g>\n     </g>\n     <g id=\"text_8\">\n      <!-- 800 -->\n      <g transform=\"translate(27.240625 137.771868) scale(0.1 -0.1)\">\n       <defs>\n        <path id=\"DejaVuSans-38\" d=\"M 2034 2216 \nQ 1584 2216 1326 1975 \nQ 1069 1734 1069 1313 \nQ 1069 891 1326 650 \nQ 1584 409 2034 409 \nQ 2484 409 2743 651 \nQ 3003 894 3003 1313 \nQ 3003 1734 2745 1975 \nQ 2488 2216 2034 2216 \nz\nM 1403 2484 \nQ 997 2584 770 2862 \nQ 544 3141 544 3541 \nQ 544 4100 942 4425 \nQ 1341 4750 2034 4750 \nQ 2731 4750 3128 4425 \nQ 3525 4100 3525 3541 \nQ 3525 3141 3298 2862 \nQ 3072 2584 2669 2484 \nQ 3125 2378 3379 2068 \nQ 3634 1759 3634 1313 \nQ 3634 634 3220 271 \nQ 2806 -91 2034 -91 \nQ 1263 -91 848 271 \nQ 434 634 434 1313 \nQ 434 1759 690 2068 \nQ 947 2378 1403 2484 \nz\nM 1172 3481 \nQ 1172 3119 1398 2916 \nQ 1625 2713 2034 2713 \nQ 2441 2713 2670 2916 \nQ 2900 3119 2900 3481 \nQ 2900 3844 2670 4047 \nQ 2441 4250 2034 4250 \nQ 1625 4250 1398 4047 \nQ 1172 3844 1172 3481 \nz\n\" transform=\"scale(0.015625)\"/>\n       </defs>\n       <use xlink:href=\"#DejaVuSans-38\"/>\n       <use xlink:href=\"#DejaVuSans-30\" x=\"63.623047\"/>\n       <use xlink:href=\"#DejaVuSans-30\" x=\"127.246094\"/>\n      </g>\n     </g>\n    </g>\n    <g id=\"ytick_6\">\n     <g id=\"line2d_8\">\n      <g>\n       <use xlink:href=\"#m871caf4fb0\" x=\"53.328125\" y=\"96.365812\" style=\"stroke: #000000; stroke-width: 0.8\"/>\n      </g>\n     </g>\n     <g id=\"text_9\">\n      <!-- 1000 -->\n      <g transform=\"translate(20.878125 100.165031) scale(0.1 -0.1)\">\n       <use xlink:href=\"#DejaVuSans-31\"/>\n       <use xlink:href=\"#DejaVuSans-30\" x=\"63.623047\"/>\n       <use xlink:href=\"#DejaVuSans-30\" x=\"127.246094\"/>\n       <use xlink:href=\"#DejaVuSans-30\" x=\"190.869141\"/>\n      </g>\n     </g>\n    </g>\n    <g id=\"ytick_7\">\n     <g id=\"line2d_9\">\n      <g>\n       <use xlink:href=\"#m871caf4fb0\" x=\"53.328125\" y=\"58.758974\" style=\"stroke: #000000; stroke-width: 0.8\"/>\n      </g>\n     </g>\n     <g id=\"text_10\">\n      <!-- 1200 -->\n      <g transform=\"translate(20.878125 62.558193) scale(0.1 -0.1)\">\n       <use xlink:href=\"#DejaVuSans-31\"/>\n       <use xlink:href=\"#DejaVuSans-32\" x=\"63.623047\"/>\n       <use xlink:href=\"#DejaVuSans-30\" x=\"127.246094\"/>\n       <use xlink:href=\"#DejaVuSans-30\" x=\"190.869141\"/>\n      </g>\n     </g>\n    </g>\n    <g id=\"ytick_8\">\n     <g id=\"line2d_10\">\n      <g>\n       <use xlink:href=\"#m871caf4fb0\" x=\"53.328125\" y=\"21.152137\" style=\"stroke: #000000; stroke-width: 0.8\"/>\n      </g>\n     </g>\n     <g id=\"text_11\">\n      <!-- 1400 -->\n      <g transform=\"translate(20.878125 24.951356) scale(0.1 -0.1)\">\n       <use xlink:href=\"#DejaVuSans-31\"/>\n       <use xlink:href=\"#DejaVuSans-34\" x=\"63.623047\"/>\n       <use xlink:href=\"#DejaVuSans-30\" x=\"127.246094\"/>\n       <use xlink:href=\"#DejaVuSans-30\" x=\"190.869141\"/>\n      </g>\n     </g>\n    </g>\n    <g id=\"text_12\">\n     <!-- count -->\n     <g transform=\"translate(14.798438 159.90625) rotate(-90) scale(0.1 -0.1)\">\n      <defs>\n       <path id=\"DejaVuSans-63\" d=\"M 3122 3366 \nL 3122 2828 \nQ 2878 2963 2633 3030 \nQ 2388 3097 2138 3097 \nQ 1578 3097 1268 2742 \nQ 959 2388 959 1747 \nQ 959 1106 1268 751 \nQ 1578 397 2138 397 \nQ 2388 397 2633 464 \nQ 2878 531 3122 666 \nL 3122 134 \nQ 2881 22 2623 -34 \nQ 2366 -91 2075 -91 \nQ 1284 -91 818 406 \nQ 353 903 353 1747 \nQ 353 2603 823 3093 \nQ 1294 3584 2113 3584 \nQ 2378 3584 2631 3529 \nQ 2884 3475 3122 3366 \nz\n\" transform=\"scale(0.015625)\"/>\n       <path id=\"DejaVuSans-6f\" d=\"M 1959 3097 \nQ 1497 3097 1228 2736 \nQ 959 2375 959 1747 \nQ 959 1119 1226 758 \nQ 1494 397 1959 397 \nQ 2419 397 2687 759 \nQ 2956 1122 2956 1747 \nQ 2956 2369 2687 2733 \nQ 2419 3097 1959 3097 \nz\nM 1959 3584 \nQ 2709 3584 3137 3096 \nQ 3566 2609 3566 1747 \nQ 3566 888 3137 398 \nQ 2709 -91 1959 -91 \nQ 1206 -91 779 398 \nQ 353 888 353 1747 \nQ 353 2609 779 3096 \nQ 1206 3584 1959 3584 \nz\n\" transform=\"scale(0.015625)\"/>\n       <path id=\"DejaVuSans-75\" d=\"M 544 1381 \nL 544 3500 \nL 1119 3500 \nL 1119 1403 \nQ 1119 906 1312 657 \nQ 1506 409 1894 409 \nQ 2359 409 2629 706 \nQ 2900 1003 2900 1516 \nL 2900 3500 \nL 3475 3500 \nL 3475 0 \nL 2900 0 \nL 2900 538 \nQ 2691 219 2414 64 \nQ 2138 -91 1772 -91 \nQ 1169 -91 856 284 \nQ 544 659 544 1381 \nz\nM 1991 3584 \nL 1991 3584 \nz\n\" transform=\"scale(0.015625)\"/>\n       <path id=\"DejaVuSans-74\" d=\"M 1172 4494 \nL 1172 3500 \nL 2356 3500 \nL 2356 3053 \nL 1172 3053 \nL 1172 1153 \nQ 1172 725 1289 603 \nQ 1406 481 1766 481 \nL 2356 481 \nL 2356 0 \nL 1766 0 \nQ 1100 0 847 248 \nQ 594 497 594 1153 \nL 594 3053 \nL 172 3053 \nL 172 3500 \nL 594 3500 \nL 594 4494 \nL 1172 4494 \nz\n\" transform=\"scale(0.015625)\"/>\n      </defs>\n      <use xlink:href=\"#DejaVuSans-63\"/>\n      <use xlink:href=\"#DejaVuSans-6f\" x=\"54.980469\"/>\n      <use xlink:href=\"#DejaVuSans-75\" x=\"116.162109\"/>\n      <use xlink:href=\"#DejaVuSans-6e\" x=\"179.541016\"/>\n      <use xlink:href=\"#DejaVuSans-74\" x=\"242.919922\"/>\n     </g>\n    </g>\n   </g>\n   <g id=\"patch_5\">\n    <path d=\"M 53.328125 284.4 \nL 53.328125 7.2 \n\" style=\"fill: none; stroke: #000000; stroke-width: 0.8; stroke-linejoin: miter; stroke-linecap: square\"/>\n   </g>\n   <g id=\"patch_6\">\n    <path d=\"M 433.78267 284.4 \nL 433.78267 7.2 \n\" style=\"fill: none; stroke: #000000; stroke-width: 0.8; stroke-linejoin: miter; stroke-linecap: square\"/>\n   </g>\n   <g id=\"patch_7\">\n    <path d=\"M 53.328125 284.4 \nL 433.78267 284.4 \n\" style=\"fill: none; stroke: #000000; stroke-width: 0.8; stroke-linejoin: miter; stroke-linecap: square\"/>\n   </g>\n   <g id=\"patch_8\">\n    <path d=\"M 53.328125 7.2 \nL 433.78267 7.2 \n\" style=\"fill: none; stroke: #000000; stroke-width: 0.8; stroke-linejoin: miter; stroke-linecap: square\"/>\n   </g>\n  </g>\n  <g id=\"axes_2\">\n   <g id=\"patch_9\">\n    <path d=\"M 509.87358 284.4 \nL 890.328125 284.4 \nL 890.328125 7.2 \nL 509.87358 7.2 \nz\n\" style=\"fill: #ffffff\"/>\n   </g>\n   <g id=\"patch_10\">\n    <path d=\"M 509.87358 8.155862 \nL 872.211242 8.155862 \nL 872.211242 15.802759 \nL 509.87358 15.802759 \nz\n\" clip-path=\"url(#pa65faf1ea1)\" style=\"fill: #ea96a3\"/>\n   </g>\n   <g id=\"patch_11\">\n    <path d=\"M 509.87358 17.714483 \nL 750.637421 17.714483 \nL 750.637421 25.361379 \nL 509.87358 25.361379 \nz\n\" clip-path=\"url(#pa65faf1ea1)\" style=\"fill: #e99790\"/>\n   </g>\n   <g id=\"patch_12\">\n    <path d=\"M 509.87358 27.273103 \nL 738.718419 27.273103 \nL 738.718419 34.92 \nL 509.87358 34.92 \nz\n\" clip-path=\"url(#pa65faf1ea1)\" style=\"fill: #e4946d\"/>\n   </g>\n   <g id=\"patch_13\">\n    <path d=\"M 509.87358 36.831724 \nL 731.567018 36.831724 \nL 731.567018 44.478621 \nL 509.87358 44.478621 \nz\n\" clip-path=\"url(#pa65faf1ea1)\" style=\"fill: #d5954d\"/>\n   </g>\n   <g id=\"patch_14\">\n    <path d=\"M 509.87358 46.390345 \nL 722.031816 46.390345 \nL 722.031816 54.037241 \nL 509.87358 54.037241 \nz\n\" clip-path=\"url(#pa65faf1ea1)\" style=\"fill: #c4994b\"/>\n   </g>\n   <g id=\"patch_15\">\n    <path d=\"M 509.87358 55.948966 \nL 722.031816 55.948966 \nL 722.031816 63.595862 \nL 509.87358 63.595862 \nz\n\" clip-path=\"url(#pa65faf1ea1)\" style=\"fill: #b69c49\"/>\n   </g>\n   <g id=\"patch_16\">\n    <path d=\"M 509.87358 65.507586 \nL 714.880415 65.507586 \nL 714.880415 73.154483 \nL 509.87358 73.154483 \nz\n\" clip-path=\"url(#pa65faf1ea1)\" style=\"fill: #a99e47\"/>\n   </g>\n   <g id=\"patch_17\">\n    <path d=\"M 509.87358 75.066207 \nL 710.112814 75.066207 \nL 710.112814 82.713103 \nL 509.87358 82.713103 \nz\n\" clip-path=\"url(#pa65faf1ea1)\" style=\"fill: #9ba146\"/>\n   </g>\n   <g id=\"patch_18\">\n    <path d=\"M 509.87358 84.624828 \nL 705.345213 84.624828 \nL 705.345213 92.271724 \nL 509.87358 92.271724 \nz\n\" clip-path=\"url(#pa65faf1ea1)\" style=\"fill: #8da546\"/>\n   </g>\n   <g id=\"patch_19\">\n    <path d=\"M 509.87358 94.183448 \nL 705.345213 94.183448 \nL 705.345213 101.830345 \nL 509.87358 101.830345 \nz\n\" clip-path=\"url(#pa65faf1ea1)\" style=\"fill: #78aa47\"/>\n   </g>\n   <g id=\"patch_20\">\n    <path d=\"M 509.87358 103.742069 \nL 705.345213 103.742069 \nL 705.345213 111.388966 \nL 509.87358 111.388966 \nz\n\" clip-path=\"url(#pa65faf1ea1)\" style=\"fill: #4ab147\"/>\n   </g>\n   <g id=\"patch_21\">\n    <path d=\"M 509.87358 113.30069 \nL 702.961413 113.30069 \nL 702.961413 120.947586 \nL 509.87358 120.947586 \nz\n\" clip-path=\"url(#pa65faf1ea1)\" style=\"fill: #49af76\"/>\n   </g>\n   <g id=\"patch_22\">\n    <path d=\"M 509.87358 122.85931 \nL 700.577612 122.85931 \nL 700.577612 130.506207 \nL 509.87358 130.506207 \nz\n\" clip-path=\"url(#pa65faf1ea1)\" style=\"fill: #4aae89\"/>\n   </g>\n   <g id=\"patch_23\">\n    <path d=\"M 509.87358 132.417931 \nL 700.577612 132.417931 \nL 700.577612 140.064828 \nL 509.87358 140.064828 \nz\n\" clip-path=\"url(#pa65faf1ea1)\" style=\"fill: #4aad96\"/>\n   </g>\n   <g id=\"patch_24\">\n    <path d=\"M 509.87358 141.976552 \nL 698.193812 141.976552 \nL 698.193812 149.623448 \nL 509.87358 149.623448 \nz\n\" clip-path=\"url(#pa65faf1ea1)\" style=\"fill: #4baca0\"/>\n   </g>\n   <g id=\"patch_25\">\n    <path d=\"M 509.87358 151.535172 \nL 698.193812 151.535172 \nL 698.193812 159.182069 \nL 509.87358 159.182069 \nz\n\" clip-path=\"url(#pa65faf1ea1)\" style=\"fill: #4baba8\"/>\n   </g>\n   <g id=\"patch_26\">\n    <path d=\"M 509.87358 161.093793 \nL 695.810012 161.093793 \nL 695.810012 168.74069 \nL 509.87358 168.74069 \nz\n\" clip-path=\"url(#pa65faf1ea1)\" style=\"fill: #4dabb2\"/>\n   </g>\n   <g id=\"patch_27\">\n    <path d=\"M 509.87358 170.652414 \nL 693.426211 170.652414 \nL 693.426211 178.29931 \nL 509.87358 178.29931 \nz\n\" clip-path=\"url(#pa65faf1ea1)\" style=\"fill: #4facbd\"/>\n   </g>\n   <g id=\"patch_28\">\n    <path d=\"M 509.87358 180.211034 \nL 691.042411 180.211034 \nL 691.042411 187.857931 \nL 509.87358 187.857931 \nz\n\" clip-path=\"url(#pa65faf1ea1)\" style=\"fill: #52accb\"/>\n   </g>\n   <g id=\"patch_29\">\n    <path d=\"M 509.87358 189.769655 \nL 688.65861 189.769655 \nL 688.65861 197.416552 \nL 509.87358 197.416552 \nz\n\" clip-path=\"url(#pa65faf1ea1)\" style=\"fill: #57addf\"/>\n   </g>\n   <g id=\"patch_30\">\n    <path d=\"M 509.87358 199.328276 \nL 686.27481 199.328276 \nL 686.27481 206.975172 \nL 509.87358 206.975172 \nz\n\" clip-path=\"url(#pa65faf1ea1)\" style=\"fill: #8aaee7\"/>\n   </g>\n   <g id=\"patch_31\">\n    <path d=\"M 509.87358 208.886897 \nL 686.27481 208.886897 \nL 686.27481 216.533793 \nL 509.87358 216.533793 \nz\n\" clip-path=\"url(#pa65faf1ea1)\" style=\"fill: #a7aceb\"/>\n   </g>\n   <g id=\"patch_32\">\n    <path d=\"M 509.87358 218.445517 \nL 683.891009 218.445517 \nL 683.891009 226.092414 \nL 509.87358 226.092414 \nz\n\" clip-path=\"url(#pa65faf1ea1)\" style=\"fill: #baa6ea\"/>\n   </g>\n   <g id=\"patch_33\">\n    <path d=\"M 509.87358 228.004138 \nL 681.507209 228.004138 \nL 681.507209 235.651034 \nL 509.87358 235.651034 \nz\n\" clip-path=\"url(#pa65faf1ea1)\" style=\"fill: #cb9de9\"/>\n   </g>\n   <g id=\"patch_34\">\n    <path d=\"M 509.87358 237.562759 \nL 681.507209 237.562759 \nL 681.507209 245.209655 \nL 509.87358 245.209655 \nz\n\" clip-path=\"url(#pa65faf1ea1)\" style=\"fill: #dc92e8\"/>\n   </g>\n   <g id=\"patch_35\">\n    <path d=\"M 509.87358 247.121379 \nL 679.123409 247.121379 \nL 679.123409 254.768276 \nL 509.87358 254.768276 \nz\n\" clip-path=\"url(#pa65faf1ea1)\" style=\"fill: #e78bde\"/>\n   </g>\n   <g id=\"patch_36\">\n    <path d=\"M 509.87358 256.68 \nL 679.123409 256.68 \nL 679.123409 264.326897 \nL 509.87358 264.326897 \nz\n\" clip-path=\"url(#pa65faf1ea1)\" style=\"fill: #e88ece\"/>\n   </g>\n   <g id=\"patch_37\">\n    <path d=\"M 509.87358 266.238621 \nL 674.355808 266.238621 \nL 674.355808 273.885517 \nL 509.87358 273.885517 \nz\n\" clip-path=\"url(#pa65faf1ea1)\" style=\"fill: #e891c0\"/>\n   </g>\n   <g id=\"patch_38\">\n    <path d=\"M 509.87358 275.797241 \nL 662.436806 275.797241 \nL 662.436806 283.444138 \nL 509.87358 283.444138 \nz\n\" clip-path=\"url(#pa65faf1ea1)\" style=\"fill: #e994b3\"/>\n   </g>\n   <g id=\"matplotlib.axis_3\">\n    <g id=\"xtick_3\">\n     <g id=\"line2d_11\">\n      <g>\n       <use xlink:href=\"#mac663bb801\" x=\"509.87358\" y=\"284.4\" style=\"stroke: #000000; stroke-width: 0.8\"/>\n      </g>\n     </g>\n     <g id=\"text_13\">\n      <!-- 0 -->\n      <g transform=\"translate(506.69233 298.998438) scale(0.1 -0.1)\">\n       <use xlink:href=\"#DejaVuSans-30\"/>\n      </g>\n     </g>\n    </g>\n    <g id=\"xtick_4\">\n     <g id=\"line2d_12\">\n      <g>\n       <use xlink:href=\"#mac663bb801\" x=\"557.549588\" y=\"284.4\" style=\"stroke: #000000; stroke-width: 0.8\"/>\n      </g>\n     </g>\n     <g id=\"text_14\">\n      <!-- 20 -->\n      <g transform=\"translate(551.187088 298.998438) scale(0.1 -0.1)\">\n       <use xlink:href=\"#DejaVuSans-32\"/>\n       <use xlink:href=\"#DejaVuSans-30\" x=\"63.623047\"/>\n      </g>\n     </g>\n    </g>\n    <g id=\"xtick_5\">\n     <g id=\"line2d_13\">\n      <g>\n       <use xlink:href=\"#mac663bb801\" x=\"605.225596\" y=\"284.4\" style=\"stroke: #000000; stroke-width: 0.8\"/>\n      </g>\n     </g>\n     <g id=\"text_15\">\n      <!-- 40 -->\n      <g transform=\"translate(598.863096 298.998438) scale(0.1 -0.1)\">\n       <use xlink:href=\"#DejaVuSans-34\"/>\n       <use xlink:href=\"#DejaVuSans-30\" x=\"63.623047\"/>\n      </g>\n     </g>\n    </g>\n    <g id=\"xtick_6\">\n     <g id=\"line2d_14\">\n      <g>\n       <use xlink:href=\"#mac663bb801\" x=\"652.901604\" y=\"284.4\" style=\"stroke: #000000; stroke-width: 0.8\"/>\n      </g>\n     </g>\n     <g id=\"text_16\">\n      <!-- 60 -->\n      <g transform=\"translate(646.539104 298.998438) scale(0.1 -0.1)\">\n       <use xlink:href=\"#DejaVuSans-36\"/>\n       <use xlink:href=\"#DejaVuSans-30\" x=\"63.623047\"/>\n      </g>\n     </g>\n    </g>\n    <g id=\"xtick_7\">\n     <g id=\"line2d_15\">\n      <g>\n       <use xlink:href=\"#mac663bb801\" x=\"700.577612\" y=\"284.4\" style=\"stroke: #000000; stroke-width: 0.8\"/>\n      </g>\n     </g>\n     <g id=\"text_17\">\n      <!-- 80 -->\n      <g transform=\"translate(694.215112 298.998438) scale(0.1 -0.1)\">\n       <use xlink:href=\"#DejaVuSans-38\"/>\n       <use xlink:href=\"#DejaVuSans-30\" x=\"63.623047\"/>\n      </g>\n     </g>\n    </g>\n    <g id=\"xtick_8\">\n     <g id=\"line2d_16\">\n      <g>\n       <use xlink:href=\"#mac663bb801\" x=\"748.253621\" y=\"284.4\" style=\"stroke: #000000; stroke-width: 0.8\"/>\n      </g>\n     </g>\n     <g id=\"text_18\">\n      <!-- 100 -->\n      <g transform=\"translate(738.709871 298.998438) scale(0.1 -0.1)\">\n       <use xlink:href=\"#DejaVuSans-31\"/>\n       <use xlink:href=\"#DejaVuSans-30\" x=\"63.623047\"/>\n       <use xlink:href=\"#DejaVuSans-30\" x=\"127.246094\"/>\n      </g>\n     </g>\n    </g>\n    <g id=\"xtick_9\">\n     <g id=\"line2d_17\">\n      <g>\n       <use xlink:href=\"#mac663bb801\" x=\"795.929629\" y=\"284.4\" style=\"stroke: #000000; stroke-width: 0.8\"/>\n      </g>\n     </g>\n     <g id=\"text_19\">\n      <!-- 120 -->\n      <g transform=\"translate(786.385879 298.998438) scale(0.1 -0.1)\">\n       <use xlink:href=\"#DejaVuSans-31\"/>\n       <use xlink:href=\"#DejaVuSans-32\" x=\"63.623047\"/>\n       <use xlink:href=\"#DejaVuSans-30\" x=\"127.246094\"/>\n      </g>\n     </g>\n    </g>\n    <g id=\"xtick_10\">\n     <g id=\"line2d_18\">\n      <g>\n       <use xlink:href=\"#mac663bb801\" x=\"843.605637\" y=\"284.4\" style=\"stroke: #000000; stroke-width: 0.8\"/>\n      </g>\n     </g>\n     <g id=\"text_20\">\n      <!-- 140 -->\n      <g transform=\"translate(834.061887 298.998438) scale(0.1 -0.1)\">\n       <use xlink:href=\"#DejaVuSans-31\"/>\n       <use xlink:href=\"#DejaVuSans-34\" x=\"63.623047\"/>\n       <use xlink:href=\"#DejaVuSans-30\" x=\"127.246094\"/>\n      </g>\n     </g>\n    </g>\n    <g id=\"text_21\">\n     <!-- count -->\n     <g transform=\"translate(685.994602 312.676562) scale(0.1 -0.1)\">\n      <use xlink:href=\"#DejaVuSans-63\"/>\n      <use xlink:href=\"#DejaVuSans-6f\" x=\"54.980469\"/>\n      <use xlink:href=\"#DejaVuSans-75\" x=\"116.162109\"/>\n      <use xlink:href=\"#DejaVuSans-6e\" x=\"179.541016\"/>\n      <use xlink:href=\"#DejaVuSans-74\" x=\"242.919922\"/>\n     </g>\n    </g>\n   </g>\n   <g id=\"matplotlib.axis_4\">\n    <g id=\"ytick_9\">\n     <g id=\"line2d_19\">\n      <g>\n       <use xlink:href=\"#m871caf4fb0\" x=\"509.87358\" y=\"11.97931\" style=\"stroke: #000000; stroke-width: 0.8\"/>\n      </g>\n     </g>\n     <g id=\"text_22\">\n      <!-- C20 -->\n      <g transform=\"translate(483.165767 15.778529) scale(0.1 -0.1)\">\n       <defs>\n        <path id=\"DejaVuSans-43\" d=\"M 4122 4306 \nL 4122 3641 \nQ 3803 3938 3442 4084 \nQ 3081 4231 2675 4231 \nQ 1875 4231 1450 3742 \nQ 1025 3253 1025 2328 \nQ 1025 1406 1450 917 \nQ 1875 428 2675 428 \nQ 3081 428 3442 575 \nQ 3803 722 4122 1019 \nL 4122 359 \nQ 3791 134 3420 21 \nQ 3050 -91 2638 -91 \nQ 1578 -91 968 557 \nQ 359 1206 359 2328 \nQ 359 3453 968 4101 \nQ 1578 4750 2638 4750 \nQ 3056 4750 3426 4639 \nQ 3797 4528 4122 4306 \nz\n\" transform=\"scale(0.015625)\"/>\n       </defs>\n       <use xlink:href=\"#DejaVuSans-43\"/>\n       <use xlink:href=\"#DejaVuSans-32\" x=\"69.824219\"/>\n       <use xlink:href=\"#DejaVuSans-30\" x=\"133.447266\"/>\n      </g>\n     </g>\n    </g>\n    <g id=\"ytick_10\">\n     <g id=\"line2d_20\">\n      <g>\n       <use xlink:href=\"#m871caf4fb0\" x=\"509.87358\" y=\"21.537931\" style=\"stroke: #000000; stroke-width: 0.8\"/>\n      </g>\n     </g>\n     <g id=\"text_23\">\n      <!-- C15 -->\n      <g transform=\"translate(483.165767 25.33715) scale(0.1 -0.1)\">\n       <defs>\n        <path id=\"DejaVuSans-35\" d=\"M 691 4666 \nL 3169 4666 \nL 3169 4134 \nL 1269 4134 \nL 1269 2991 \nQ 1406 3038 1543 3061 \nQ 1681 3084 1819 3084 \nQ 2600 3084 3056 2656 \nQ 3513 2228 3513 1497 \nQ 3513 744 3044 326 \nQ 2575 -91 1722 -91 \nQ 1428 -91 1123 -41 \nQ 819 9 494 109 \nL 494 744 \nQ 775 591 1075 516 \nQ 1375 441 1709 441 \nQ 2250 441 2565 725 \nQ 2881 1009 2881 1497 \nQ 2881 1984 2565 2268 \nQ 2250 2553 1709 2553 \nQ 1456 2553 1204 2497 \nQ 953 2441 691 2322 \nL 691 4666 \nz\n\" transform=\"scale(0.015625)\"/>\n       </defs>\n       <use xlink:href=\"#DejaVuSans-43\"/>\n       <use xlink:href=\"#DejaVuSans-31\" x=\"69.824219\"/>\n       <use xlink:href=\"#DejaVuSans-35\" x=\"133.447266\"/>\n      </g>\n     </g>\n    </g>\n    <g id=\"ytick_11\">\n     <g id=\"line2d_21\">\n      <g>\n       <use xlink:href=\"#m871caf4fb0\" x=\"509.87358\" y=\"31.096552\" style=\"stroke: #000000; stroke-width: 0.8\"/>\n      </g>\n     </g>\n     <g id=\"text_24\">\n      <!-- C29 -->\n      <g transform=\"translate(483.165767 34.89577) scale(0.1 -0.1)\">\n       <defs>\n        <path id=\"DejaVuSans-39\" d=\"M 703 97 \nL 703 672 \nQ 941 559 1184 500 \nQ 1428 441 1663 441 \nQ 2288 441 2617 861 \nQ 2947 1281 2994 2138 \nQ 2813 1869 2534 1725 \nQ 2256 1581 1919 1581 \nQ 1219 1581 811 2004 \nQ 403 2428 403 3163 \nQ 403 3881 828 4315 \nQ 1253 4750 1959 4750 \nQ 2769 4750 3195 4129 \nQ 3622 3509 3622 2328 \nQ 3622 1225 3098 567 \nQ 2575 -91 1691 -91 \nQ 1453 -91 1209 -44 \nQ 966 3 703 97 \nz\nM 1959 2075 \nQ 2384 2075 2632 2365 \nQ 2881 2656 2881 3163 \nQ 2881 3666 2632 3958 \nQ 2384 4250 1959 4250 \nQ 1534 4250 1286 3958 \nQ 1038 3666 1038 3163 \nQ 1038 2656 1286 2365 \nQ 1534 2075 1959 2075 \nz\n\" transform=\"scale(0.015625)\"/>\n       </defs>\n       <use xlink:href=\"#DejaVuSans-43\"/>\n       <use xlink:href=\"#DejaVuSans-32\" x=\"69.824219\"/>\n       <use xlink:href=\"#DejaVuSans-39\" x=\"133.447266\"/>\n      </g>\n     </g>\n    </g>\n    <g id=\"ytick_12\">\n     <g id=\"line2d_22\">\n      <g>\n       <use xlink:href=\"#m871caf4fb0\" x=\"509.87358\" y=\"40.655172\" style=\"stroke: #000000; stroke-width: 0.8\"/>\n      </g>\n     </g>\n     <g id=\"text_25\">\n      <!-- C26 -->\n      <g transform=\"translate(483.165767 44.454391) scale(0.1 -0.1)\">\n       <use xlink:href=\"#DejaVuSans-43\"/>\n       <use xlink:href=\"#DejaVuSans-32\" x=\"69.824219\"/>\n       <use xlink:href=\"#DejaVuSans-36\" x=\"133.447266\"/>\n      </g>\n     </g>\n    </g>\n    <g id=\"ytick_13\">\n     <g id=\"line2d_23\">\n      <g>\n       <use xlink:href=\"#m871caf4fb0\" x=\"509.87358\" y=\"50.213793\" style=\"stroke: #000000; stroke-width: 0.8\"/>\n      </g>\n     </g>\n     <g id=\"text_26\">\n      <!-- C8 -->\n      <g transform=\"translate(489.528267 54.013012) scale(0.1 -0.1)\">\n       <use xlink:href=\"#DejaVuSans-43\"/>\n       <use xlink:href=\"#DejaVuSans-38\" x=\"69.824219\"/>\n      </g>\n     </g>\n    </g>\n    <g id=\"ytick_14\">\n     <g id=\"line2d_24\">\n      <g>\n       <use xlink:href=\"#m871caf4fb0\" x=\"509.87358\" y=\"59.772414\" style=\"stroke: #000000; stroke-width: 0.8\"/>\n      </g>\n     </g>\n     <g id=\"text_27\">\n      <!-- C27 -->\n      <g transform=\"translate(483.165767 63.571633) scale(0.1 -0.1)\">\n       <defs>\n        <path id=\"DejaVuSans-37\" d=\"M 525 4666 \nL 3525 4666 \nL 3525 4397 \nL 1831 0 \nL 1172 0 \nL 2766 4134 \nL 525 4134 \nL 525 4666 \nz\n\" transform=\"scale(0.015625)\"/>\n       </defs>\n       <use xlink:href=\"#DejaVuSans-43\"/>\n       <use xlink:href=\"#DejaVuSans-32\" x=\"69.824219\"/>\n       <use xlink:href=\"#DejaVuSans-37\" x=\"133.447266\"/>\n      </g>\n     </g>\n    </g>\n    <g id=\"ytick_15\">\n     <g id=\"line2d_25\">\n      <g>\n       <use xlink:href=\"#m871caf4fb0\" x=\"509.87358\" y=\"69.331034\" style=\"stroke: #000000; stroke-width: 0.8\"/>\n      </g>\n     </g>\n     <g id=\"text_28\">\n      <!-- C10 -->\n      <g transform=\"translate(483.165767 73.130253) scale(0.1 -0.1)\">\n       <use xlink:href=\"#DejaVuSans-43\"/>\n       <use xlink:href=\"#DejaVuSans-31\" x=\"69.824219\"/>\n       <use xlink:href=\"#DejaVuSans-30\" x=\"133.447266\"/>\n      </g>\n     </g>\n    </g>\n    <g id=\"ytick_16\">\n     <g id=\"line2d_26\">\n      <g>\n       <use xlink:href=\"#m871caf4fb0\" x=\"509.87358\" y=\"78.889655\" style=\"stroke: #000000; stroke-width: 0.8\"/>\n      </g>\n     </g>\n     <g id=\"text_29\">\n      <!-- C16 -->\n      <g transform=\"translate(483.165767 82.688874) scale(0.1 -0.1)\">\n       <use xlink:href=\"#DejaVuSans-43\"/>\n       <use xlink:href=\"#DejaVuSans-31\" x=\"69.824219\"/>\n       <use xlink:href=\"#DejaVuSans-36\" x=\"133.447266\"/>\n      </g>\n     </g>\n    </g>\n    <g id=\"ytick_17\">\n     <g id=\"line2d_27\">\n      <g>\n       <use xlink:href=\"#m871caf4fb0\" x=\"509.87358\" y=\"88.448276\" style=\"stroke: #000000; stroke-width: 0.8\"/>\n      </g>\n     </g>\n     <g id=\"text_30\">\n      <!-- C22 -->\n      <g transform=\"translate(483.165767 92.247495) scale(0.1 -0.1)\">\n       <use xlink:href=\"#DejaVuSans-43\"/>\n       <use xlink:href=\"#DejaVuSans-32\" x=\"69.824219\"/>\n       <use xlink:href=\"#DejaVuSans-32\" x=\"133.447266\"/>\n      </g>\n     </g>\n    </g>\n    <g id=\"ytick_18\">\n     <g id=\"line2d_28\">\n      <g>\n       <use xlink:href=\"#m871caf4fb0\" x=\"509.87358\" y=\"98.006897\" style=\"stroke: #000000; stroke-width: 0.8\"/>\n      </g>\n     </g>\n     <g id=\"text_31\">\n      <!-- C3 -->\n      <g transform=\"translate(489.528267 101.806115) scale(0.1 -0.1)\">\n       <defs>\n        <path id=\"DejaVuSans-33\" d=\"M 2597 2516 \nQ 3050 2419 3304 2112 \nQ 3559 1806 3559 1356 \nQ 3559 666 3084 287 \nQ 2609 -91 1734 -91 \nQ 1441 -91 1130 -33 \nQ 819 25 488 141 \nL 488 750 \nQ 750 597 1062 519 \nQ 1375 441 1716 441 \nQ 2309 441 2620 675 \nQ 2931 909 2931 1356 \nQ 2931 1769 2642 2001 \nQ 2353 2234 1838 2234 \nL 1294 2234 \nL 1294 2753 \nL 1863 2753 \nQ 2328 2753 2575 2939 \nQ 2822 3125 2822 3475 \nQ 2822 3834 2567 4026 \nQ 2313 4219 1838 4219 \nQ 1578 4219 1281 4162 \nQ 984 4106 628 3988 \nL 628 4550 \nQ 988 4650 1302 4700 \nQ 1616 4750 1894 4750 \nQ 2613 4750 3031 4423 \nQ 3450 4097 3450 3541 \nQ 3450 3153 3228 2886 \nQ 3006 2619 2597 2516 \nz\n\" transform=\"scale(0.015625)\"/>\n       </defs>\n       <use xlink:href=\"#DejaVuSans-43\"/>\n       <use xlink:href=\"#DejaVuSans-33\" x=\"69.824219\"/>\n      </g>\n     </g>\n    </g>\n    <g id=\"ytick_19\">\n     <g id=\"line2d_29\">\n      <g>\n       <use xlink:href=\"#m871caf4fb0\" x=\"509.87358\" y=\"107.565517\" style=\"stroke: #000000; stroke-width: 0.8\"/>\n      </g>\n     </g>\n     <g id=\"text_32\">\n      <!-- C28 -->\n      <g transform=\"translate(483.165767 111.364736) scale(0.1 -0.1)\">\n       <use xlink:href=\"#DejaVuSans-43\"/>\n       <use xlink:href=\"#DejaVuSans-32\" x=\"69.824219\"/>\n       <use xlink:href=\"#DejaVuSans-38\" x=\"133.447266\"/>\n      </g>\n     </g>\n    </g>\n    <g id=\"ytick_20\">\n     <g id=\"line2d_30\">\n      <g>\n       <use xlink:href=\"#m871caf4fb0\" x=\"509.87358\" y=\"117.124138\" style=\"stroke: #000000; stroke-width: 0.8\"/>\n      </g>\n     </g>\n     <g id=\"text_33\">\n      <!-- C12 -->\n      <g transform=\"translate(483.165767 120.923357) scale(0.1 -0.1)\">\n       <use xlink:href=\"#DejaVuSans-43\"/>\n       <use xlink:href=\"#DejaVuSans-31\" x=\"69.824219\"/>\n       <use xlink:href=\"#DejaVuSans-32\" x=\"133.447266\"/>\n      </g>\n     </g>\n    </g>\n    <g id=\"ytick_21\">\n     <g id=\"line2d_31\">\n      <g>\n       <use xlink:href=\"#m871caf4fb0\" x=\"509.87358\" y=\"126.682759\" style=\"stroke: #000000; stroke-width: 0.8\"/>\n      </g>\n     </g>\n     <g id=\"text_34\">\n      <!-- C1 -->\n      <g transform=\"translate(489.528267 130.481977) scale(0.1 -0.1)\">\n       <use xlink:href=\"#DejaVuSans-43\"/>\n       <use xlink:href=\"#DejaVuSans-31\" x=\"69.824219\"/>\n      </g>\n     </g>\n    </g>\n    <g id=\"ytick_22\">\n     <g id=\"line2d_32\">\n      <g>\n       <use xlink:href=\"#m871caf4fb0\" x=\"509.87358\" y=\"136.241379\" style=\"stroke: #000000; stroke-width: 0.8\"/>\n      </g>\n     </g>\n     <g id=\"text_35\">\n      <!-- C5 -->\n      <g transform=\"translate(489.528267 140.040598) scale(0.1 -0.1)\">\n       <use xlink:href=\"#DejaVuSans-43\"/>\n       <use xlink:href=\"#DejaVuSans-35\" x=\"69.824219\"/>\n      </g>\n     </g>\n    </g>\n    <g id=\"ytick_23\">\n     <g id=\"line2d_33\">\n      <g>\n       <use xlink:href=\"#m871caf4fb0\" x=\"509.87358\" y=\"145.8\" style=\"stroke: #000000; stroke-width: 0.8\"/>\n      </g>\n     </g>\n     <g id=\"text_36\">\n      <!-- C21 -->\n      <g transform=\"translate(483.165767 149.599219) scale(0.1 -0.1)\">\n       <use xlink:href=\"#DejaVuSans-43\"/>\n       <use xlink:href=\"#DejaVuSans-32\" x=\"69.824219\"/>\n       <use xlink:href=\"#DejaVuSans-31\" x=\"133.447266\"/>\n      </g>\n     </g>\n    </g>\n    <g id=\"ytick_24\">\n     <g id=\"line2d_34\">\n      <g>\n       <use xlink:href=\"#m871caf4fb0\" x=\"509.87358\" y=\"155.358621\" style=\"stroke: #000000; stroke-width: 0.8\"/>\n      </g>\n     </g>\n     <g id=\"text_37\">\n      <!-- C14 -->\n      <g transform=\"translate(483.165767 159.157839) scale(0.1 -0.1)\">\n       <use xlink:href=\"#DejaVuSans-43\"/>\n       <use xlink:href=\"#DejaVuSans-31\" x=\"69.824219\"/>\n       <use xlink:href=\"#DejaVuSans-34\" x=\"133.447266\"/>\n      </g>\n     </g>\n    </g>\n    <g id=\"ytick_25\">\n     <g id=\"line2d_35\">\n      <g>\n       <use xlink:href=\"#m871caf4fb0\" x=\"509.87358\" y=\"164.917241\" style=\"stroke: #000000; stroke-width: 0.8\"/>\n      </g>\n     </g>\n     <g id=\"text_38\">\n      <!-- C6 -->\n      <g transform=\"translate(489.528267 168.71646) scale(0.1 -0.1)\">\n       <use xlink:href=\"#DejaVuSans-43\"/>\n       <use xlink:href=\"#DejaVuSans-36\" x=\"69.824219\"/>\n      </g>\n     </g>\n    </g>\n    <g id=\"ytick_26\">\n     <g id=\"line2d_36\">\n      <g>\n       <use xlink:href=\"#m871caf4fb0\" x=\"509.87358\" y=\"174.475862\" style=\"stroke: #000000; stroke-width: 0.8\"/>\n      </g>\n     </g>\n     <g id=\"text_39\">\n      <!-- C4 -->\n      <g transform=\"translate(489.528267 178.275081) scale(0.1 -0.1)\">\n       <use xlink:href=\"#DejaVuSans-43\"/>\n       <use xlink:href=\"#DejaVuSans-34\" x=\"69.824219\"/>\n      </g>\n     </g>\n    </g>\n    <g id=\"ytick_27\">\n     <g id=\"line2d_37\">\n      <g>\n       <use xlink:href=\"#m871caf4fb0\" x=\"509.87358\" y=\"184.034483\" style=\"stroke: #000000; stroke-width: 0.8\"/>\n      </g>\n     </g>\n     <g id=\"text_40\">\n      <!-- C7 -->\n      <g transform=\"translate(489.528267 187.833702) scale(0.1 -0.1)\">\n       <use xlink:href=\"#DejaVuSans-43\"/>\n       <use xlink:href=\"#DejaVuSans-37\" x=\"69.824219\"/>\n      </g>\n     </g>\n    </g>\n    <g id=\"ytick_28\">\n     <g id=\"line2d_38\">\n      <g>\n       <use xlink:href=\"#m871caf4fb0\" x=\"509.87358\" y=\"193.593103\" style=\"stroke: #000000; stroke-width: 0.8\"/>\n      </g>\n     </g>\n     <g id=\"text_41\">\n      <!-- C9 -->\n      <g transform=\"translate(489.528267 197.392322) scale(0.1 -0.1)\">\n       <use xlink:href=\"#DejaVuSans-43\"/>\n       <use xlink:href=\"#DejaVuSans-39\" x=\"69.824219\"/>\n      </g>\n     </g>\n    </g>\n    <g id=\"ytick_29\">\n     <g id=\"line2d_39\">\n      <g>\n       <use xlink:href=\"#m871caf4fb0\" x=\"509.87358\" y=\"203.151724\" style=\"stroke: #000000; stroke-width: 0.8\"/>\n      </g>\n     </g>\n     <g id=\"text_42\">\n      <!-- C23 -->\n      <g transform=\"translate(483.165767 206.950943) scale(0.1 -0.1)\">\n       <use xlink:href=\"#DejaVuSans-43\"/>\n       <use xlink:href=\"#DejaVuSans-32\" x=\"69.824219\"/>\n       <use xlink:href=\"#DejaVuSans-33\" x=\"133.447266\"/>\n      </g>\n     </g>\n    </g>\n    <g id=\"ytick_30\">\n     <g id=\"line2d_40\">\n      <g>\n       <use xlink:href=\"#m871caf4fb0\" x=\"509.87358\" y=\"212.710345\" style=\"stroke: #000000; stroke-width: 0.8\"/>\n      </g>\n     </g>\n     <g id=\"text_43\">\n      <!-- C25 -->\n      <g transform=\"translate(483.165767 216.509564) scale(0.1 -0.1)\">\n       <use xlink:href=\"#DejaVuSans-43\"/>\n       <use xlink:href=\"#DejaVuSans-32\" x=\"69.824219\"/>\n       <use xlink:href=\"#DejaVuSans-35\" x=\"133.447266\"/>\n      </g>\n     </g>\n    </g>\n    <g id=\"ytick_31\">\n     <g id=\"line2d_41\">\n      <g>\n       <use xlink:href=\"#m871caf4fb0\" x=\"509.87358\" y=\"222.268966\" style=\"stroke: #000000; stroke-width: 0.8\"/>\n      </g>\n     </g>\n     <g id=\"text_44\">\n      <!-- C24 -->\n      <g transform=\"translate(483.165767 226.068184) scale(0.1 -0.1)\">\n       <use xlink:href=\"#DejaVuSans-43\"/>\n       <use xlink:href=\"#DejaVuSans-32\" x=\"69.824219\"/>\n       <use xlink:href=\"#DejaVuSans-34\" x=\"133.447266\"/>\n      </g>\n     </g>\n    </g>\n    <g id=\"ytick_32\">\n     <g id=\"line2d_42\">\n      <g>\n       <use xlink:href=\"#m871caf4fb0\" x=\"509.87358\" y=\"231.827586\" style=\"stroke: #000000; stroke-width: 0.8\"/>\n      </g>\n     </g>\n     <g id=\"text_45\">\n      <!-- C2 -->\n      <g transform=\"translate(489.528267 235.626805) scale(0.1 -0.1)\">\n       <use xlink:href=\"#DejaVuSans-43\"/>\n       <use xlink:href=\"#DejaVuSans-32\" x=\"69.824219\"/>\n      </g>\n     </g>\n    </g>\n    <g id=\"ytick_33\">\n     <g id=\"line2d_43\">\n      <g>\n       <use xlink:href=\"#m871caf4fb0\" x=\"509.87358\" y=\"241.386207\" style=\"stroke: #000000; stroke-width: 0.8\"/>\n      </g>\n     </g>\n     <g id=\"text_46\">\n      <!-- C19 -->\n      <g transform=\"translate(483.165767 245.185426) scale(0.1 -0.1)\">\n       <use xlink:href=\"#DejaVuSans-43\"/>\n       <use xlink:href=\"#DejaVuSans-31\" x=\"69.824219\"/>\n       <use xlink:href=\"#DejaVuSans-39\" x=\"133.447266\"/>\n      </g>\n     </g>\n    </g>\n    <g id=\"ytick_34\">\n     <g id=\"line2d_44\">\n      <g>\n       <use xlink:href=\"#m871caf4fb0\" x=\"509.87358\" y=\"250.944828\" style=\"stroke: #000000; stroke-width: 0.8\"/>\n      </g>\n     </g>\n     <g id=\"text_47\">\n      <!-- C17 -->\n      <g transform=\"translate(483.165767 254.744046) scale(0.1 -0.1)\">\n       <use xlink:href=\"#DejaVuSans-43\"/>\n       <use xlink:href=\"#DejaVuSans-31\" x=\"69.824219\"/>\n       <use xlink:href=\"#DejaVuSans-37\" x=\"133.447266\"/>\n      </g>\n     </g>\n    </g>\n    <g id=\"ytick_35\">\n     <g id=\"line2d_45\">\n      <g>\n       <use xlink:href=\"#m871caf4fb0\" x=\"509.87358\" y=\"260.503448\" style=\"stroke: #000000; stroke-width: 0.8\"/>\n      </g>\n     </g>\n     <g id=\"text_48\">\n      <!-- C13 -->\n      <g transform=\"translate(483.165767 264.302667) scale(0.1 -0.1)\">\n       <use xlink:href=\"#DejaVuSans-43\"/>\n       <use xlink:href=\"#DejaVuSans-31\" x=\"69.824219\"/>\n       <use xlink:href=\"#DejaVuSans-33\" x=\"133.447266\"/>\n      </g>\n     </g>\n    </g>\n    <g id=\"ytick_36\">\n     <g id=\"line2d_46\">\n      <g>\n       <use xlink:href=\"#m871caf4fb0\" x=\"509.87358\" y=\"270.062069\" style=\"stroke: #000000; stroke-width: 0.8\"/>\n      </g>\n     </g>\n     <g id=\"text_49\">\n      <!-- C18 -->\n      <g transform=\"translate(483.165767 273.861288) scale(0.1 -0.1)\">\n       <use xlink:href=\"#DejaVuSans-43\"/>\n       <use xlink:href=\"#DejaVuSans-31\" x=\"69.824219\"/>\n       <use xlink:href=\"#DejaVuSans-38\" x=\"133.447266\"/>\n      </g>\n     </g>\n    </g>\n    <g id=\"ytick_37\">\n     <g id=\"line2d_47\">\n      <g>\n       <use xlink:href=\"#m871caf4fb0\" x=\"509.87358\" y=\"279.62069\" style=\"stroke: #000000; stroke-width: 0.8\"/>\n      </g>\n     </g>\n     <g id=\"text_50\">\n      <!-- C11 -->\n      <g transform=\"translate(483.165767 283.419908) scale(0.1 -0.1)\">\n       <use xlink:href=\"#DejaVuSans-43\"/>\n       <use xlink:href=\"#DejaVuSans-31\" x=\"69.824219\"/>\n       <use xlink:href=\"#DejaVuSans-31\" x=\"133.447266\"/>\n      </g>\n     </g>\n    </g>\n    <g id=\"text_51\">\n     <!-- City -->\n     <g transform=\"translate(477.08608 155.6) rotate(-90) scale(0.1 -0.1)\">\n      <defs>\n       <path id=\"DejaVuSans-69\" d=\"M 603 3500 \nL 1178 3500 \nL 1178 0 \nL 603 0 \nL 603 3500 \nz\nM 603 4863 \nL 1178 4863 \nL 1178 4134 \nL 603 4134 \nL 603 4863 \nz\n\" transform=\"scale(0.015625)\"/>\n       <path id=\"DejaVuSans-79\" d=\"M 2059 -325 \nQ 1816 -950 1584 -1140 \nQ 1353 -1331 966 -1331 \nL 506 -1331 \nL 506 -850 \nL 844 -850 \nQ 1081 -850 1212 -737 \nQ 1344 -625 1503 -206 \nL 1606 56 \nL 191 3500 \nL 800 3500 \nL 1894 763 \nL 2988 3500 \nL 3597 3500 \nL 2059 -325 \nz\n\" transform=\"scale(0.015625)\"/>\n      </defs>\n      <use xlink:href=\"#DejaVuSans-43\"/>\n      <use xlink:href=\"#DejaVuSans-69\" x=\"69.824219\"/>\n      <use xlink:href=\"#DejaVuSans-74\" x=\"97.607422\"/>\n      <use xlink:href=\"#DejaVuSans-79\" x=\"136.816406\"/>\n     </g>\n    </g>\n   </g>\n   <g id=\"patch_39\">\n    <path d=\"M 509.87358 284.4 \nL 509.87358 7.2 \n\" style=\"fill: none; stroke: #000000; stroke-width: 0.8; stroke-linejoin: miter; stroke-linecap: square\"/>\n   </g>\n   <g id=\"patch_40\">\n    <path d=\"M 890.328125 284.4 \nL 890.328125 7.2 \n\" style=\"fill: none; stroke: #000000; stroke-width: 0.8; stroke-linejoin: miter; stroke-linecap: square\"/>\n   </g>\n   <g id=\"patch_41\">\n    <path d=\"M 509.87358 284.4 \nL 890.328125 284.4 \n\" style=\"fill: none; stroke: #000000; stroke-width: 0.8; stroke-linejoin: miter; stroke-linecap: square\"/>\n   </g>\n   <g id=\"patch_42\">\n    <path d=\"M 509.87358 7.2 \nL 890.328125 7.2 \n\" style=\"fill: none; stroke: #000000; stroke-width: 0.8; stroke-linejoin: miter; stroke-linecap: square\"/>\n   </g>\n  </g>\n </g>\n <defs>\n  <clipPath id=\"p49f87bc7d8\">\n   <rect x=\"53.328125\" y=\"7.2\" width=\"380.454545\" height=\"277.2\"/>\n  </clipPath>\n  <clipPath id=\"pa65faf1ea1\">\n   <rect x=\"509.87358\" y=\"7.2\" width=\"380.454545\" height=\"277.2\"/>\n  </clipPath>\n </defs>\n</svg>\n"
          },
          "metadata": {}
        },
        {
          "output_type": "stream",
          "name": "stdout",
          "text": [
            "Top 3 cities\n"
          ]
        },
        {
          "output_type": "execute_result",
          "data": {
            "text/plain": [
              "C20    152\n",
              "C15    101\n",
              "C29     96\n",
              "Name: City, dtype: int64"
            ]
          },
          "metadata": {},
          "execution_count": 31
        }
      ]
    },
    {
      "cell_type": "code",
      "source": [
        "\n",
        "#Year and month of joining\n",
        "fig, axis = plt.subplots(nrows=1, ncols=2, figsize=(15, 5))\n",
        "plt.subplot(121)\n",
        "sns.countplot(x=df_final[\"year_of_join\"])\n",
        "plt.subplot(122)\n",
        "l_s=df_final.groupby('month_of_join').size().sort_values().index[::-1]\n",
        "sns.countplot(y=df_final['month_of_join'],order=l_s)\n",
        "plt.show()\n",
        "print(\"Top 3 months by join\")\n",
        "df_final[\"month_of_join\"].value_counts().head(3)"
      ],
      "metadata": {
        "colab": {
          "base_uri": "https://localhost:8080/"
        },
        "id": "ffLqMeltzvbq",
        "outputId": "7edffe62-73f8-4a09-d66a-05e31e8bd7f5"
      },
      "execution_count": null,
      "outputs": [
        {
          "output_type": "display_data",
          "data": {
            "text/plain": [
              "<Figure size 1500x500 with 2 Axes>"
            ],
            "image/svg+xml": "<?xml version=\"1.0\" encoding=\"utf-8\" standalone=\"no\"?>\n<!DOCTYPE svg PUBLIC \"-//W3C//DTD SVG 1.1//EN\"\n  \"http://www.w3.org/Graphics/SVG/1.1/DTD/svg11.dtd\">\n<svg xmlns:xlink=\"http://www.w3.org/1999/xlink\" width=\"891.165625pt\" height=\"322.234375pt\" viewBox=\"0 0 891.165625 322.234375\" xmlns=\"http://www.w3.org/2000/svg\" version=\"1.1\">\n <metadata>\n  <rdf:RDF xmlns:dc=\"http://purl.org/dc/elements/1.1/\" xmlns:cc=\"http://creativecommons.org/ns#\" xmlns:rdf=\"http://www.w3.org/1999/02/22-rdf-syntax-ns#\">\n   <cc:Work>\n    <dc:type rdf:resource=\"http://purl.org/dc/dcmitype/StillImage\"/>\n    <dc:date>2023-07-12T06:34:02.960865</dc:date>\n    <dc:format>image/svg+xml</dc:format>\n    <dc:creator>\n     <cc:Agent>\n      <dc:title>Matplotlib v3.7.1, https://matplotlib.org/</dc:title>\n     </cc:Agent>\n    </dc:creator>\n   </cc:Work>\n  </rdf:RDF>\n </metadata>\n <defs>\n  <style type=\"text/css\">*{stroke-linejoin: round; stroke-linecap: butt}</style>\n </defs>\n <g id=\"figure_1\">\n  <g id=\"patch_1\">\n   <path d=\"M 0 322.234375 \nL 891.165625 322.234375 \nL 891.165625 0 \nL 0 0 \nz\n\" style=\"fill: #ffffff\"/>\n  </g>\n  <g id=\"axes_1\">\n   <g id=\"patch_2\">\n    <path d=\"M 46.965625 284.4 \nL 427.42017 284.4 \nL 427.42017 7.2 \nL 46.965625 7.2 \nz\n\" style=\"fill: #ffffff\"/>\n   </g>\n   <g id=\"patch_3\">\n    <path d=\"M 51.721307 284.4 \nL 89.766761 284.4 \nL 89.766761 271.167726 \nL 51.721307 271.167726 \nz\n\" clip-path=\"url(#p228e760dab)\" style=\"fill: #3274a1\"/>\n   </g>\n   <g id=\"patch_4\">\n    <path d=\"M 99.278125 284.4 \nL 137.32358 284.4 \nL 137.32358 275.040587 \nL 99.278125 275.040587 \nz\n\" clip-path=\"url(#p228e760dab)\" style=\"fill: #e1812c\"/>\n   </g>\n   <g id=\"patch_5\">\n    <path d=\"M 146.834943 284.4 \nL 184.880398 284.4 \nL 184.880398 249.221516 \nL 146.834943 249.221516 \nz\n\" clip-path=\"url(#p228e760dab)\" style=\"fill: #3a923a\"/>\n   </g>\n   <g id=\"patch_6\">\n    <path d=\"M 194.391761 284.4 \nL 232.437216 284.4 \nL 232.437216 249.544254 \nL 194.391761 249.544254 \nz\n\" clip-path=\"url(#p228e760dab)\" style=\"fill: #c03d3e\"/>\n   </g>\n   <g id=\"patch_7\">\n    <path d=\"M 241.94858 284.4 \nL 279.994034 284.4 \nL 279.994034 256.644499 \nL 241.94858 256.644499 \nz\n\" clip-path=\"url(#p228e760dab)\" style=\"fill: #9372b2\"/>\n   </g>\n   <g id=\"patch_8\">\n    <path d=\"M 289.505398 284.4 \nL 327.550852 284.4 \nL 327.550852 91.079707 \nL 289.505398 91.079707 \nz\n\" clip-path=\"url(#p228e760dab)\" style=\"fill: #845b53\"/>\n   </g>\n   <g id=\"patch_9\">\n    <path d=\"M 337.062216 284.4 \nL 375.10767 284.4 \nL 375.10767 93.661614 \nL 337.062216 93.661614 \nz\n\" clip-path=\"url(#p228e760dab)\" style=\"fill: #d684bd\"/>\n   </g>\n   <g id=\"patch_10\">\n    <path d=\"M 384.619034 284.4 \nL 422.664489 284.4 \nL 422.664489 20.4 \nL 384.619034 20.4 \nz\n\" clip-path=\"url(#p228e760dab)\" style=\"fill: #7f7f7f\"/>\n   </g>\n   <g id=\"matplotlib.axis_1\">\n    <g id=\"xtick_1\">\n     <g id=\"line2d_1\">\n      <defs>\n       <path id=\"m11d3e7fbae\" d=\"M 0 0 \nL 0 3.5 \n\" style=\"stroke: #000000; stroke-width: 0.8\"/>\n      </defs>\n      <g>\n       <use xlink:href=\"#m11d3e7fbae\" x=\"70.744034\" y=\"284.4\" style=\"stroke: #000000; stroke-width: 0.8\"/>\n      </g>\n     </g>\n     <g id=\"text_1\">\n      <!-- 2013 -->\n      <g transform=\"translate(58.019034 298.998438) scale(0.1 -0.1)\">\n       <defs>\n        <path id=\"DejaVuSans-32\" d=\"M 1228 531 \nL 3431 531 \nL 3431 0 \nL 469 0 \nL 469 531 \nQ 828 903 1448 1529 \nQ 2069 2156 2228 2338 \nQ 2531 2678 2651 2914 \nQ 2772 3150 2772 3378 \nQ 2772 3750 2511 3984 \nQ 2250 4219 1831 4219 \nQ 1534 4219 1204 4116 \nQ 875 4013 500 3803 \nL 500 4441 \nQ 881 4594 1212 4672 \nQ 1544 4750 1819 4750 \nQ 2544 4750 2975 4387 \nQ 3406 4025 3406 3419 \nQ 3406 3131 3298 2873 \nQ 3191 2616 2906 2266 \nQ 2828 2175 2409 1742 \nQ 1991 1309 1228 531 \nz\n\" transform=\"scale(0.015625)\"/>\n        <path id=\"DejaVuSans-30\" d=\"M 2034 4250 \nQ 1547 4250 1301 3770 \nQ 1056 3291 1056 2328 \nQ 1056 1369 1301 889 \nQ 1547 409 2034 409 \nQ 2525 409 2770 889 \nQ 3016 1369 3016 2328 \nQ 3016 3291 2770 3770 \nQ 2525 4250 2034 4250 \nz\nM 2034 4750 \nQ 2819 4750 3233 4129 \nQ 3647 3509 3647 2328 \nQ 3647 1150 3233 529 \nQ 2819 -91 2034 -91 \nQ 1250 -91 836 529 \nQ 422 1150 422 2328 \nQ 422 3509 836 4129 \nQ 1250 4750 2034 4750 \nz\n\" transform=\"scale(0.015625)\"/>\n        <path id=\"DejaVuSans-31\" d=\"M 794 531 \nL 1825 531 \nL 1825 4091 \nL 703 3866 \nL 703 4441 \nL 1819 4666 \nL 2450 4666 \nL 2450 531 \nL 3481 531 \nL 3481 0 \nL 794 0 \nL 794 531 \nz\n\" transform=\"scale(0.015625)\"/>\n        <path id=\"DejaVuSans-33\" d=\"M 2597 2516 \nQ 3050 2419 3304 2112 \nQ 3559 1806 3559 1356 \nQ 3559 666 3084 287 \nQ 2609 -91 1734 -91 \nQ 1441 -91 1130 -33 \nQ 819 25 488 141 \nL 488 750 \nQ 750 597 1062 519 \nQ 1375 441 1716 441 \nQ 2309 441 2620 675 \nQ 2931 909 2931 1356 \nQ 2931 1769 2642 2001 \nQ 2353 2234 1838 2234 \nL 1294 2234 \nL 1294 2753 \nL 1863 2753 \nQ 2328 2753 2575 2939 \nQ 2822 3125 2822 3475 \nQ 2822 3834 2567 4026 \nQ 2313 4219 1838 4219 \nQ 1578 4219 1281 4162 \nQ 984 4106 628 3988 \nL 628 4550 \nQ 988 4650 1302 4700 \nQ 1616 4750 1894 4750 \nQ 2613 4750 3031 4423 \nQ 3450 4097 3450 3541 \nQ 3450 3153 3228 2886 \nQ 3006 2619 2597 2516 \nz\n\" transform=\"scale(0.015625)\"/>\n       </defs>\n       <use xlink:href=\"#DejaVuSans-32\"/>\n       <use xlink:href=\"#DejaVuSans-30\" x=\"63.623047\"/>\n       <use xlink:href=\"#DejaVuSans-31\" x=\"127.246094\"/>\n       <use xlink:href=\"#DejaVuSans-33\" x=\"190.869141\"/>\n      </g>\n     </g>\n    </g>\n    <g id=\"xtick_2\">\n     <g id=\"line2d_2\">\n      <g>\n       <use xlink:href=\"#m11d3e7fbae\" x=\"118.300852\" y=\"284.4\" style=\"stroke: #000000; stroke-width: 0.8\"/>\n      </g>\n     </g>\n     <g id=\"text_2\">\n      <!-- 2014 -->\n      <g transform=\"translate(105.575852 298.998438) scale(0.1 -0.1)\">\n       <defs>\n        <path id=\"DejaVuSans-34\" d=\"M 2419 4116 \nL 825 1625 \nL 2419 1625 \nL 2419 4116 \nz\nM 2253 4666 \nL 3047 4666 \nL 3047 1625 \nL 3713 1625 \nL 3713 1100 \nL 3047 1100 \nL 3047 0 \nL 2419 0 \nL 2419 1100 \nL 313 1100 \nL 313 1709 \nL 2253 4666 \nz\n\" transform=\"scale(0.015625)\"/>\n       </defs>\n       <use xlink:href=\"#DejaVuSans-32\"/>\n       <use xlink:href=\"#DejaVuSans-30\" x=\"63.623047\"/>\n       <use xlink:href=\"#DejaVuSans-31\" x=\"127.246094\"/>\n       <use xlink:href=\"#DejaVuSans-34\" x=\"190.869141\"/>\n      </g>\n     </g>\n    </g>\n    <g id=\"xtick_3\">\n     <g id=\"line2d_3\">\n      <g>\n       <use xlink:href=\"#m11d3e7fbae\" x=\"165.85767\" y=\"284.4\" style=\"stroke: #000000; stroke-width: 0.8\"/>\n      </g>\n     </g>\n     <g id=\"text_3\">\n      <!-- 2015 -->\n      <g transform=\"translate(153.13267 298.998438) scale(0.1 -0.1)\">\n       <defs>\n        <path id=\"DejaVuSans-35\" d=\"M 691 4666 \nL 3169 4666 \nL 3169 4134 \nL 1269 4134 \nL 1269 2991 \nQ 1406 3038 1543 3061 \nQ 1681 3084 1819 3084 \nQ 2600 3084 3056 2656 \nQ 3513 2228 3513 1497 \nQ 3513 744 3044 326 \nQ 2575 -91 1722 -91 \nQ 1428 -91 1123 -41 \nQ 819 9 494 109 \nL 494 744 \nQ 775 591 1075 516 \nQ 1375 441 1709 441 \nQ 2250 441 2565 725 \nQ 2881 1009 2881 1497 \nQ 2881 1984 2565 2268 \nQ 2250 2553 1709 2553 \nQ 1456 2553 1204 2497 \nQ 953 2441 691 2322 \nL 691 4666 \nz\n\" transform=\"scale(0.015625)\"/>\n       </defs>\n       <use xlink:href=\"#DejaVuSans-32\"/>\n       <use xlink:href=\"#DejaVuSans-30\" x=\"63.623047\"/>\n       <use xlink:href=\"#DejaVuSans-31\" x=\"127.246094\"/>\n       <use xlink:href=\"#DejaVuSans-35\" x=\"190.869141\"/>\n      </g>\n     </g>\n    </g>\n    <g id=\"xtick_4\">\n     <g id=\"line2d_4\">\n      <g>\n       <use xlink:href=\"#m11d3e7fbae\" x=\"213.414489\" y=\"284.4\" style=\"stroke: #000000; stroke-width: 0.8\"/>\n      </g>\n     </g>\n     <g id=\"text_4\">\n      <!-- 2016 -->\n      <g transform=\"translate(200.689489 298.998438) scale(0.1 -0.1)\">\n       <defs>\n        <path id=\"DejaVuSans-36\" d=\"M 2113 2584 \nQ 1688 2584 1439 2293 \nQ 1191 2003 1191 1497 \nQ 1191 994 1439 701 \nQ 1688 409 2113 409 \nQ 2538 409 2786 701 \nQ 3034 994 3034 1497 \nQ 3034 2003 2786 2293 \nQ 2538 2584 2113 2584 \nz\nM 3366 4563 \nL 3366 3988 \nQ 3128 4100 2886 4159 \nQ 2644 4219 2406 4219 \nQ 1781 4219 1451 3797 \nQ 1122 3375 1075 2522 \nQ 1259 2794 1537 2939 \nQ 1816 3084 2150 3084 \nQ 2853 3084 3261 2657 \nQ 3669 2231 3669 1497 \nQ 3669 778 3244 343 \nQ 2819 -91 2113 -91 \nQ 1303 -91 875 529 \nQ 447 1150 447 2328 \nQ 447 3434 972 4092 \nQ 1497 4750 2381 4750 \nQ 2619 4750 2861 4703 \nQ 3103 4656 3366 4563 \nz\n\" transform=\"scale(0.015625)\"/>\n       </defs>\n       <use xlink:href=\"#DejaVuSans-32\"/>\n       <use xlink:href=\"#DejaVuSans-30\" x=\"63.623047\"/>\n       <use xlink:href=\"#DejaVuSans-31\" x=\"127.246094\"/>\n       <use xlink:href=\"#DejaVuSans-36\" x=\"190.869141\"/>\n      </g>\n     </g>\n    </g>\n    <g id=\"xtick_5\">\n     <g id=\"line2d_5\">\n      <g>\n       <use xlink:href=\"#m11d3e7fbae\" x=\"260.971307\" y=\"284.4\" style=\"stroke: #000000; stroke-width: 0.8\"/>\n      </g>\n     </g>\n     <g id=\"text_5\">\n      <!-- 2017 -->\n      <g transform=\"translate(248.246307 298.998438) scale(0.1 -0.1)\">\n       <defs>\n        <path id=\"DejaVuSans-37\" d=\"M 525 4666 \nL 3525 4666 \nL 3525 4397 \nL 1831 0 \nL 1172 0 \nL 2766 4134 \nL 525 4134 \nL 525 4666 \nz\n\" transform=\"scale(0.015625)\"/>\n       </defs>\n       <use xlink:href=\"#DejaVuSans-32\"/>\n       <use xlink:href=\"#DejaVuSans-30\" x=\"63.623047\"/>\n       <use xlink:href=\"#DejaVuSans-31\" x=\"127.246094\"/>\n       <use xlink:href=\"#DejaVuSans-37\" x=\"190.869141\"/>\n      </g>\n     </g>\n    </g>\n    <g id=\"xtick_6\">\n     <g id=\"line2d_6\">\n      <g>\n       <use xlink:href=\"#m11d3e7fbae\" x=\"308.528125\" y=\"284.4\" style=\"stroke: #000000; stroke-width: 0.8\"/>\n      </g>\n     </g>\n     <g id=\"text_6\">\n      <!-- 2018 -->\n      <g transform=\"translate(295.803125 298.998438) scale(0.1 -0.1)\">\n       <defs>\n        <path id=\"DejaVuSans-38\" d=\"M 2034 2216 \nQ 1584 2216 1326 1975 \nQ 1069 1734 1069 1313 \nQ 1069 891 1326 650 \nQ 1584 409 2034 409 \nQ 2484 409 2743 651 \nQ 3003 894 3003 1313 \nQ 3003 1734 2745 1975 \nQ 2488 2216 2034 2216 \nz\nM 1403 2484 \nQ 997 2584 770 2862 \nQ 544 3141 544 3541 \nQ 544 4100 942 4425 \nQ 1341 4750 2034 4750 \nQ 2731 4750 3128 4425 \nQ 3525 4100 3525 3541 \nQ 3525 3141 3298 2862 \nQ 3072 2584 2669 2484 \nQ 3125 2378 3379 2068 \nQ 3634 1759 3634 1313 \nQ 3634 634 3220 271 \nQ 2806 -91 2034 -91 \nQ 1263 -91 848 271 \nQ 434 634 434 1313 \nQ 434 1759 690 2068 \nQ 947 2378 1403 2484 \nz\nM 1172 3481 \nQ 1172 3119 1398 2916 \nQ 1625 2713 2034 2713 \nQ 2441 2713 2670 2916 \nQ 2900 3119 2900 3481 \nQ 2900 3844 2670 4047 \nQ 2441 4250 2034 4250 \nQ 1625 4250 1398 4047 \nQ 1172 3844 1172 3481 \nz\n\" transform=\"scale(0.015625)\"/>\n       </defs>\n       <use xlink:href=\"#DejaVuSans-32\"/>\n       <use xlink:href=\"#DejaVuSans-30\" x=\"63.623047\"/>\n       <use xlink:href=\"#DejaVuSans-31\" x=\"127.246094\"/>\n       <use xlink:href=\"#DejaVuSans-38\" x=\"190.869141\"/>\n      </g>\n     </g>\n    </g>\n    <g id=\"xtick_7\">\n     <g id=\"line2d_7\">\n      <g>\n       <use xlink:href=\"#m11d3e7fbae\" x=\"356.084943\" y=\"284.4\" style=\"stroke: #000000; stroke-width: 0.8\"/>\n      </g>\n     </g>\n     <g id=\"text_7\">\n      <!-- 2019 -->\n      <g transform=\"translate(343.359943 298.998438) scale(0.1 -0.1)\">\n       <defs>\n        <path id=\"DejaVuSans-39\" d=\"M 703 97 \nL 703 672 \nQ 941 559 1184 500 \nQ 1428 441 1663 441 \nQ 2288 441 2617 861 \nQ 2947 1281 2994 2138 \nQ 2813 1869 2534 1725 \nQ 2256 1581 1919 1581 \nQ 1219 1581 811 2004 \nQ 403 2428 403 3163 \nQ 403 3881 828 4315 \nQ 1253 4750 1959 4750 \nQ 2769 4750 3195 4129 \nQ 3622 3509 3622 2328 \nQ 3622 1225 3098 567 \nQ 2575 -91 1691 -91 \nQ 1453 -91 1209 -44 \nQ 966 3 703 97 \nz\nM 1959 2075 \nQ 2384 2075 2632 2365 \nQ 2881 2656 2881 3163 \nQ 2881 3666 2632 3958 \nQ 2384 4250 1959 4250 \nQ 1534 4250 1286 3958 \nQ 1038 3666 1038 3163 \nQ 1038 2656 1286 2365 \nQ 1534 2075 1959 2075 \nz\n\" transform=\"scale(0.015625)\"/>\n       </defs>\n       <use xlink:href=\"#DejaVuSans-32\"/>\n       <use xlink:href=\"#DejaVuSans-30\" x=\"63.623047\"/>\n       <use xlink:href=\"#DejaVuSans-31\" x=\"127.246094\"/>\n       <use xlink:href=\"#DejaVuSans-39\" x=\"190.869141\"/>\n      </g>\n     </g>\n    </g>\n    <g id=\"xtick_8\">\n     <g id=\"line2d_8\">\n      <g>\n       <use xlink:href=\"#m11d3e7fbae\" x=\"403.641761\" y=\"284.4\" style=\"stroke: #000000; stroke-width: 0.8\"/>\n      </g>\n     </g>\n     <g id=\"text_8\">\n      <!-- 2020 -->\n      <g transform=\"translate(390.916761 298.998438) scale(0.1 -0.1)\">\n       <use xlink:href=\"#DejaVuSans-32\"/>\n       <use xlink:href=\"#DejaVuSans-30\" x=\"63.623047\"/>\n       <use xlink:href=\"#DejaVuSans-32\" x=\"127.246094\"/>\n       <use xlink:href=\"#DejaVuSans-30\" x=\"190.869141\"/>\n      </g>\n     </g>\n    </g>\n    <g id=\"text_9\">\n     <!-- year_of_join -->\n     <g transform=\"translate(207.211648 312.676562) scale(0.1 -0.1)\">\n      <defs>\n       <path id=\"DejaVuSans-79\" d=\"M 2059 -325 \nQ 1816 -950 1584 -1140 \nQ 1353 -1331 966 -1331 \nL 506 -1331 \nL 506 -850 \nL 844 -850 \nQ 1081 -850 1212 -737 \nQ 1344 -625 1503 -206 \nL 1606 56 \nL 191 3500 \nL 800 3500 \nL 1894 763 \nL 2988 3500 \nL 3597 3500 \nL 2059 -325 \nz\n\" transform=\"scale(0.015625)\"/>\n       <path id=\"DejaVuSans-65\" d=\"M 3597 1894 \nL 3597 1613 \nL 953 1613 \nQ 991 1019 1311 708 \nQ 1631 397 2203 397 \nQ 2534 397 2845 478 \nQ 3156 559 3463 722 \nL 3463 178 \nQ 3153 47 2828 -22 \nQ 2503 -91 2169 -91 \nQ 1331 -91 842 396 \nQ 353 884 353 1716 \nQ 353 2575 817 3079 \nQ 1281 3584 2069 3584 \nQ 2775 3584 3186 3129 \nQ 3597 2675 3597 1894 \nz\nM 3022 2063 \nQ 3016 2534 2758 2815 \nQ 2500 3097 2075 3097 \nQ 1594 3097 1305 2825 \nQ 1016 2553 972 2059 \nL 3022 2063 \nz\n\" transform=\"scale(0.015625)\"/>\n       <path id=\"DejaVuSans-61\" d=\"M 2194 1759 \nQ 1497 1759 1228 1600 \nQ 959 1441 959 1056 \nQ 959 750 1161 570 \nQ 1363 391 1709 391 \nQ 2188 391 2477 730 \nQ 2766 1069 2766 1631 \nL 2766 1759 \nL 2194 1759 \nz\nM 3341 1997 \nL 3341 0 \nL 2766 0 \nL 2766 531 \nQ 2569 213 2275 61 \nQ 1981 -91 1556 -91 \nQ 1019 -91 701 211 \nQ 384 513 384 1019 \nQ 384 1609 779 1909 \nQ 1175 2209 1959 2209 \nL 2766 2209 \nL 2766 2266 \nQ 2766 2663 2505 2880 \nQ 2244 3097 1772 3097 \nQ 1472 3097 1187 3025 \nQ 903 2953 641 2809 \nL 641 3341 \nQ 956 3463 1253 3523 \nQ 1550 3584 1831 3584 \nQ 2591 3584 2966 3190 \nQ 3341 2797 3341 1997 \nz\n\" transform=\"scale(0.015625)\"/>\n       <path id=\"DejaVuSans-72\" d=\"M 2631 2963 \nQ 2534 3019 2420 3045 \nQ 2306 3072 2169 3072 \nQ 1681 3072 1420 2755 \nQ 1159 2438 1159 1844 \nL 1159 0 \nL 581 0 \nL 581 3500 \nL 1159 3500 \nL 1159 2956 \nQ 1341 3275 1631 3429 \nQ 1922 3584 2338 3584 \nQ 2397 3584 2469 3576 \nQ 2541 3569 2628 3553 \nL 2631 2963 \nz\n\" transform=\"scale(0.015625)\"/>\n       <path id=\"DejaVuSans-5f\" d=\"M 3263 -1063 \nL 3263 -1509 \nL -63 -1509 \nL -63 -1063 \nL 3263 -1063 \nz\n\" transform=\"scale(0.015625)\"/>\n       <path id=\"DejaVuSans-6f\" d=\"M 1959 3097 \nQ 1497 3097 1228 2736 \nQ 959 2375 959 1747 \nQ 959 1119 1226 758 \nQ 1494 397 1959 397 \nQ 2419 397 2687 759 \nQ 2956 1122 2956 1747 \nQ 2956 2369 2687 2733 \nQ 2419 3097 1959 3097 \nz\nM 1959 3584 \nQ 2709 3584 3137 3096 \nQ 3566 2609 3566 1747 \nQ 3566 888 3137 398 \nQ 2709 -91 1959 -91 \nQ 1206 -91 779 398 \nQ 353 888 353 1747 \nQ 353 2609 779 3096 \nQ 1206 3584 1959 3584 \nz\n\" transform=\"scale(0.015625)\"/>\n       <path id=\"DejaVuSans-66\" d=\"M 2375 4863 \nL 2375 4384 \nL 1825 4384 \nQ 1516 4384 1395 4259 \nQ 1275 4134 1275 3809 \nL 1275 3500 \nL 2222 3500 \nL 2222 3053 \nL 1275 3053 \nL 1275 0 \nL 697 0 \nL 697 3053 \nL 147 3053 \nL 147 3500 \nL 697 3500 \nL 697 3744 \nQ 697 4328 969 4595 \nQ 1241 4863 1831 4863 \nL 2375 4863 \nz\n\" transform=\"scale(0.015625)\"/>\n       <path id=\"DejaVuSans-6a\" d=\"M 603 3500 \nL 1178 3500 \nL 1178 -63 \nQ 1178 -731 923 -1031 \nQ 669 -1331 103 -1331 \nL -116 -1331 \nL -116 -844 \nL 38 -844 \nQ 366 -844 484 -692 \nQ 603 -541 603 -63 \nL 603 3500 \nz\nM 603 4863 \nL 1178 4863 \nL 1178 4134 \nL 603 4134 \nL 603 4863 \nz\n\" transform=\"scale(0.015625)\"/>\n       <path id=\"DejaVuSans-69\" d=\"M 603 3500 \nL 1178 3500 \nL 1178 0 \nL 603 0 \nL 603 3500 \nz\nM 603 4863 \nL 1178 4863 \nL 1178 4134 \nL 603 4134 \nL 603 4863 \nz\n\" transform=\"scale(0.015625)\"/>\n       <path id=\"DejaVuSans-6e\" d=\"M 3513 2113 \nL 3513 0 \nL 2938 0 \nL 2938 2094 \nQ 2938 2591 2744 2837 \nQ 2550 3084 2163 3084 \nQ 1697 3084 1428 2787 \nQ 1159 2491 1159 1978 \nL 1159 0 \nL 581 0 \nL 581 3500 \nL 1159 3500 \nL 1159 2956 \nQ 1366 3272 1645 3428 \nQ 1925 3584 2291 3584 \nQ 2894 3584 3203 3211 \nQ 3513 2838 3513 2113 \nz\n\" transform=\"scale(0.015625)\"/>\n      </defs>\n      <use xlink:href=\"#DejaVuSans-79\"/>\n      <use xlink:href=\"#DejaVuSans-65\" x=\"59.179688\"/>\n      <use xlink:href=\"#DejaVuSans-61\" x=\"120.703125\"/>\n      <use xlink:href=\"#DejaVuSans-72\" x=\"181.982422\"/>\n      <use xlink:href=\"#DejaVuSans-5f\" x=\"223.095703\"/>\n      <use xlink:href=\"#DejaVuSans-6f\" x=\"273.095703\"/>\n      <use xlink:href=\"#DejaVuSans-66\" x=\"334.277344\"/>\n      <use xlink:href=\"#DejaVuSans-5f\" x=\"369.482422\"/>\n      <use xlink:href=\"#DejaVuSans-6a\" x=\"419.482422\"/>\n      <use xlink:href=\"#DejaVuSans-6f\" x=\"447.265625\"/>\n      <use xlink:href=\"#DejaVuSans-69\" x=\"508.447266\"/>\n      <use xlink:href=\"#DejaVuSans-6e\" x=\"536.230469\"/>\n     </g>\n    </g>\n   </g>\n   <g id=\"matplotlib.axis_2\">\n    <g id=\"ytick_1\">\n     <g id=\"line2d_9\">\n      <defs>\n       <path id=\"meb838dca3f\" d=\"M 0 0 \nL -3.5 0 \n\" style=\"stroke: #000000; stroke-width: 0.8\"/>\n      </defs>\n      <g>\n       <use xlink:href=\"#meb838dca3f\" x=\"46.965625\" y=\"284.4\" style=\"stroke: #000000; stroke-width: 0.8\"/>\n      </g>\n     </g>\n     <g id=\"text_10\">\n      <!-- 0 -->\n      <g transform=\"translate(33.603125 288.199219) scale(0.1 -0.1)\">\n       <use xlink:href=\"#DejaVuSans-30\"/>\n      </g>\n     </g>\n    </g>\n    <g id=\"ytick_2\">\n     <g id=\"line2d_10\">\n      <g>\n       <use xlink:href=\"#meb838dca3f\" x=\"46.965625\" y=\"252.126161\" style=\"stroke: #000000; stroke-width: 0.8\"/>\n      </g>\n     </g>\n     <g id=\"text_11\">\n      <!-- 100 -->\n      <g transform=\"translate(20.878125 255.92538) scale(0.1 -0.1)\">\n       <use xlink:href=\"#DejaVuSans-31\"/>\n       <use xlink:href=\"#DejaVuSans-30\" x=\"63.623047\"/>\n       <use xlink:href=\"#DejaVuSans-30\" x=\"127.246094\"/>\n      </g>\n     </g>\n    </g>\n    <g id=\"ytick_3\">\n     <g id=\"line2d_11\">\n      <g>\n       <use xlink:href=\"#meb838dca3f\" x=\"46.965625\" y=\"219.852323\" style=\"stroke: #000000; stroke-width: 0.8\"/>\n      </g>\n     </g>\n     <g id=\"text_12\">\n      <!-- 200 -->\n      <g transform=\"translate(20.878125 223.651541) scale(0.1 -0.1)\">\n       <use xlink:href=\"#DejaVuSans-32\"/>\n       <use xlink:href=\"#DejaVuSans-30\" x=\"63.623047\"/>\n       <use xlink:href=\"#DejaVuSans-30\" x=\"127.246094\"/>\n      </g>\n     </g>\n    </g>\n    <g id=\"ytick_4\">\n     <g id=\"line2d_12\">\n      <g>\n       <use xlink:href=\"#meb838dca3f\" x=\"46.965625\" y=\"187.578484\" style=\"stroke: #000000; stroke-width: 0.8\"/>\n      </g>\n     </g>\n     <g id=\"text_13\">\n      <!-- 300 -->\n      <g transform=\"translate(20.878125 191.377703) scale(0.1 -0.1)\">\n       <use xlink:href=\"#DejaVuSans-33\"/>\n       <use xlink:href=\"#DejaVuSans-30\" x=\"63.623047\"/>\n       <use xlink:href=\"#DejaVuSans-30\" x=\"127.246094\"/>\n      </g>\n     </g>\n    </g>\n    <g id=\"ytick_5\">\n     <g id=\"line2d_13\">\n      <g>\n       <use xlink:href=\"#meb838dca3f\" x=\"46.965625\" y=\"155.304645\" style=\"stroke: #000000; stroke-width: 0.8\"/>\n      </g>\n     </g>\n     <g id=\"text_14\">\n      <!-- 400 -->\n      <g transform=\"translate(20.878125 159.103864) scale(0.1 -0.1)\">\n       <use xlink:href=\"#DejaVuSans-34\"/>\n       <use xlink:href=\"#DejaVuSans-30\" x=\"63.623047\"/>\n       <use xlink:href=\"#DejaVuSans-30\" x=\"127.246094\"/>\n      </g>\n     </g>\n    </g>\n    <g id=\"ytick_6\">\n     <g id=\"line2d_14\">\n      <g>\n       <use xlink:href=\"#meb838dca3f\" x=\"46.965625\" y=\"123.030807\" style=\"stroke: #000000; stroke-width: 0.8\"/>\n      </g>\n     </g>\n     <g id=\"text_15\">\n      <!-- 500 -->\n      <g transform=\"translate(20.878125 126.830026) scale(0.1 -0.1)\">\n       <use xlink:href=\"#DejaVuSans-35\"/>\n       <use xlink:href=\"#DejaVuSans-30\" x=\"63.623047\"/>\n       <use xlink:href=\"#DejaVuSans-30\" x=\"127.246094\"/>\n      </g>\n     </g>\n    </g>\n    <g id=\"ytick_7\">\n     <g id=\"line2d_15\">\n      <g>\n       <use xlink:href=\"#meb838dca3f\" x=\"46.965625\" y=\"90.756968\" style=\"stroke: #000000; stroke-width: 0.8\"/>\n      </g>\n     </g>\n     <g id=\"text_16\">\n      <!-- 600 -->\n      <g transform=\"translate(20.878125 94.556187) scale(0.1 -0.1)\">\n       <use xlink:href=\"#DejaVuSans-36\"/>\n       <use xlink:href=\"#DejaVuSans-30\" x=\"63.623047\"/>\n       <use xlink:href=\"#DejaVuSans-30\" x=\"127.246094\"/>\n      </g>\n     </g>\n    </g>\n    <g id=\"ytick_8\">\n     <g id=\"line2d_16\">\n      <g>\n       <use xlink:href=\"#meb838dca3f\" x=\"46.965625\" y=\"58.48313\" style=\"stroke: #000000; stroke-width: 0.8\"/>\n      </g>\n     </g>\n     <g id=\"text_17\">\n      <!-- 700 -->\n      <g transform=\"translate(20.878125 62.282348) scale(0.1 -0.1)\">\n       <use xlink:href=\"#DejaVuSans-37\"/>\n       <use xlink:href=\"#DejaVuSans-30\" x=\"63.623047\"/>\n       <use xlink:href=\"#DejaVuSans-30\" x=\"127.246094\"/>\n      </g>\n     </g>\n    </g>\n    <g id=\"ytick_9\">\n     <g id=\"line2d_17\">\n      <g>\n       <use xlink:href=\"#meb838dca3f\" x=\"46.965625\" y=\"26.209291\" style=\"stroke: #000000; stroke-width: 0.8\"/>\n      </g>\n     </g>\n     <g id=\"text_18\">\n      <!-- 800 -->\n      <g transform=\"translate(20.878125 30.00851) scale(0.1 -0.1)\">\n       <use xlink:href=\"#DejaVuSans-38\"/>\n       <use xlink:href=\"#DejaVuSans-30\" x=\"63.623047\"/>\n       <use xlink:href=\"#DejaVuSans-30\" x=\"127.246094\"/>\n      </g>\n     </g>\n    </g>\n    <g id=\"text_19\">\n     <!-- count -->\n     <g transform=\"translate(14.798438 159.90625) rotate(-90) scale(0.1 -0.1)\">\n      <defs>\n       <path id=\"DejaVuSans-63\" d=\"M 3122 3366 \nL 3122 2828 \nQ 2878 2963 2633 3030 \nQ 2388 3097 2138 3097 \nQ 1578 3097 1268 2742 \nQ 959 2388 959 1747 \nQ 959 1106 1268 751 \nQ 1578 397 2138 397 \nQ 2388 397 2633 464 \nQ 2878 531 3122 666 \nL 3122 134 \nQ 2881 22 2623 -34 \nQ 2366 -91 2075 -91 \nQ 1284 -91 818 406 \nQ 353 903 353 1747 \nQ 353 2603 823 3093 \nQ 1294 3584 2113 3584 \nQ 2378 3584 2631 3529 \nQ 2884 3475 3122 3366 \nz\n\" transform=\"scale(0.015625)\"/>\n       <path id=\"DejaVuSans-75\" d=\"M 544 1381 \nL 544 3500 \nL 1119 3500 \nL 1119 1403 \nQ 1119 906 1312 657 \nQ 1506 409 1894 409 \nQ 2359 409 2629 706 \nQ 2900 1003 2900 1516 \nL 2900 3500 \nL 3475 3500 \nL 3475 0 \nL 2900 0 \nL 2900 538 \nQ 2691 219 2414 64 \nQ 2138 -91 1772 -91 \nQ 1169 -91 856 284 \nQ 544 659 544 1381 \nz\nM 1991 3584 \nL 1991 3584 \nz\n\" transform=\"scale(0.015625)\"/>\n       <path id=\"DejaVuSans-74\" d=\"M 1172 4494 \nL 1172 3500 \nL 2356 3500 \nL 2356 3053 \nL 1172 3053 \nL 1172 1153 \nQ 1172 725 1289 603 \nQ 1406 481 1766 481 \nL 2356 481 \nL 2356 0 \nL 1766 0 \nQ 1100 0 847 248 \nQ 594 497 594 1153 \nL 594 3053 \nL 172 3053 \nL 172 3500 \nL 594 3500 \nL 594 4494 \nL 1172 4494 \nz\n\" transform=\"scale(0.015625)\"/>\n      </defs>\n      <use xlink:href=\"#DejaVuSans-63\"/>\n      <use xlink:href=\"#DejaVuSans-6f\" x=\"54.980469\"/>\n      <use xlink:href=\"#DejaVuSans-75\" x=\"116.162109\"/>\n      <use xlink:href=\"#DejaVuSans-6e\" x=\"179.541016\"/>\n      <use xlink:href=\"#DejaVuSans-74\" x=\"242.919922\"/>\n     </g>\n    </g>\n   </g>\n   <g id=\"patch_11\">\n    <path d=\"M 46.965625 284.4 \nL 46.965625 7.2 \n\" style=\"fill: none; stroke: #000000; stroke-width: 0.8; stroke-linejoin: miter; stroke-linecap: square\"/>\n   </g>\n   <g id=\"patch_12\">\n    <path d=\"M 427.42017 284.4 \nL 427.42017 7.2 \n\" style=\"fill: none; stroke: #000000; stroke-width: 0.8; stroke-linejoin: miter; stroke-linecap: square\"/>\n   </g>\n   <g id=\"patch_13\">\n    <path d=\"M 46.965625 284.4 \nL 427.42017 284.4 \n\" style=\"fill: none; stroke: #000000; stroke-width: 0.8; stroke-linejoin: miter; stroke-linecap: square\"/>\n   </g>\n   <g id=\"patch_14\">\n    <path d=\"M 46.965625 7.2 \nL 427.42017 7.2 \n\" style=\"fill: none; stroke: #000000; stroke-width: 0.8; stroke-linejoin: miter; stroke-linecap: square\"/>\n   </g>\n  </g>\n  <g id=\"axes_2\">\n   <g id=\"patch_15\">\n    <path d=\"M 503.51108 284.4 \nL 883.965625 284.4 \nL 883.965625 7.2 \nL 503.51108 7.2 \nz\n\" style=\"fill: #ffffff\"/>\n   </g>\n   <g id=\"patch_16\">\n    <path d=\"M 503.51108 9.51 \nL 865.848742 9.51 \nL 865.848742 27.99 \nL 503.51108 27.99 \nz\n\" clip-path=\"url(#pbe7bc6320e)\" style=\"fill: #ea96a3\"/>\n   </g>\n   <g id=\"patch_17\">\n    <path d=\"M 503.51108 32.61 \nL 841.366467 32.61 \nL 841.366467 51.09 \nL 503.51108 51.09 \nz\n\" clip-path=\"url(#pbe7bc6320e)\" style=\"fill: #e19153\"/>\n   </g>\n   <g id=\"patch_18\">\n    <path d=\"M 503.51108 55.71 \nL 832.797671 55.71 \nL 832.797671 74.19 \nL 503.51108 74.19 \nz\n\" clip-path=\"url(#pbe7bc6320e)\" style=\"fill: #b89c49\"/>\n   </g>\n   <g id=\"patch_19\">\n    <path d=\"M 503.51108 78.81 \nL 813.211852 78.81 \nL 813.211852 97.29 \nL 503.51108 97.29 \nz\n\" clip-path=\"url(#pbe7bc6320e)\" style=\"fill: #98a246\"/>\n   </g>\n   <g id=\"patch_20\">\n    <path d=\"M 503.51108 101.91 \nL 785.057236 101.91 \nL 785.057236 120.39 \nL 503.51108 120.39 \nz\n\" clip-path=\"url(#pbe7bc6320e)\" style=\"fill: #60ae47\"/>\n   </g>\n   <g id=\"patch_21\">\n    <path d=\"M 503.51108 125.01 \nL 777.712554 125.01 \nL 777.712554 143.49 \nL 503.51108 143.49 \nz\n\" clip-path=\"url(#pbe7bc6320e)\" style=\"fill: #4aae8a\"/>\n   </g>\n   <g id=\"patch_22\">\n    <path d=\"M 503.51108 148.11 \nL 775.264326 148.11 \nL 775.264326 166.59 \nL 503.51108 166.59 \nz\n\" clip-path=\"url(#pbe7bc6320e)\" style=\"fill: #4baba4\"/>\n   </g>\n   <g id=\"patch_23\">\n    <path d=\"M 503.51108 171.21 \nL 760.574962 171.21 \nL 760.574962 189.69 \nL 503.51108 189.69 \nz\n\" clip-path=\"url(#pbe7bc6320e)\" style=\"fill: #4fabbc\"/>\n   </g>\n   <g id=\"patch_24\">\n    <path d=\"M 503.51108 194.31 \nL 704.26573 194.31 \nL 704.26573 212.79 \nL 503.51108 212.79 \nz\n\" clip-path=\"url(#pbe7bc6320e)\" style=\"fill: #6daee2\"/>\n   </g>\n   <g id=\"patch_25\">\n    <path d=\"M 503.51108 217.41 \nL 630.818907 217.41 \nL 630.818907 235.89 \nL 503.51108 235.89 \nz\n\" clip-path=\"url(#pbe7bc6320e)\" style=\"fill: #b6a8eb\"/>\n   </g>\n   <g id=\"patch_26\">\n    <path d=\"M 503.51108 240.51 \nL 596.543723 240.51 \nL 596.543723 258.99 \nL 503.51108 258.99 \nz\n\" clip-path=\"url(#pbe7bc6320e)\" style=\"fill: #df8fe7\"/>\n   </g>\n   <g id=\"patch_27\">\n    <path d=\"M 503.51108 263.61 \nL 573.285562 263.61 \nL 573.285562 282.09 \nL 503.51108 282.09 \nz\n\" clip-path=\"url(#pbe7bc6320e)\" style=\"fill: #e890c6\"/>\n   </g>\n   <g id=\"matplotlib.axis_3\">\n    <g id=\"xtick_9\">\n     <g id=\"line2d_18\">\n      <g>\n       <use xlink:href=\"#m11d3e7fbae\" x=\"503.51108\" y=\"284.4\" style=\"stroke: #000000; stroke-width: 0.8\"/>\n      </g>\n     </g>\n     <g id=\"text_20\">\n      <!-- 0 -->\n      <g transform=\"translate(500.32983 298.998438) scale(0.1 -0.1)\">\n       <use xlink:href=\"#DejaVuSans-30\"/>\n      </g>\n     </g>\n    </g>\n    <g id=\"xtick_10\">\n     <g id=\"line2d_19\">\n      <g>\n       <use xlink:href=\"#m11d3e7fbae\" x=\"564.716766\" y=\"284.4\" style=\"stroke: #000000; stroke-width: 0.8\"/>\n      </g>\n     </g>\n     <g id=\"text_21\">\n      <!-- 50 -->\n      <g transform=\"translate(558.354266 298.998438) scale(0.1 -0.1)\">\n       <use xlink:href=\"#DejaVuSans-35\"/>\n       <use xlink:href=\"#DejaVuSans-30\" x=\"63.623047\"/>\n      </g>\n     </g>\n    </g>\n    <g id=\"xtick_11\">\n     <g id=\"line2d_20\">\n      <g>\n       <use xlink:href=\"#m11d3e7fbae\" x=\"625.922452\" y=\"284.4\" style=\"stroke: #000000; stroke-width: 0.8\"/>\n      </g>\n     </g>\n     <g id=\"text_22\">\n      <!-- 100 -->\n      <g transform=\"translate(616.378702 298.998438) scale(0.1 -0.1)\">\n       <use xlink:href=\"#DejaVuSans-31\"/>\n       <use xlink:href=\"#DejaVuSans-30\" x=\"63.623047\"/>\n       <use xlink:href=\"#DejaVuSans-30\" x=\"127.246094\"/>\n      </g>\n     </g>\n    </g>\n    <g id=\"xtick_12\">\n     <g id=\"line2d_21\">\n      <g>\n       <use xlink:href=\"#m11d3e7fbae\" x=\"687.128138\" y=\"284.4\" style=\"stroke: #000000; stroke-width: 0.8\"/>\n      </g>\n     </g>\n     <g id=\"text_23\">\n      <!-- 150 -->\n      <g transform=\"translate(677.584388 298.998438) scale(0.1 -0.1)\">\n       <use xlink:href=\"#DejaVuSans-31\"/>\n       <use xlink:href=\"#DejaVuSans-35\" x=\"63.623047\"/>\n       <use xlink:href=\"#DejaVuSans-30\" x=\"127.246094\"/>\n      </g>\n     </g>\n    </g>\n    <g id=\"xtick_13\">\n     <g id=\"line2d_22\">\n      <g>\n       <use xlink:href=\"#m11d3e7fbae\" x=\"748.333824\" y=\"284.4\" style=\"stroke: #000000; stroke-width: 0.8\"/>\n      </g>\n     </g>\n     <g id=\"text_24\">\n      <!-- 200 -->\n      <g transform=\"translate(738.790074 298.998438) scale(0.1 -0.1)\">\n       <use xlink:href=\"#DejaVuSans-32\"/>\n       <use xlink:href=\"#DejaVuSans-30\" x=\"63.623047\"/>\n       <use xlink:href=\"#DejaVuSans-30\" x=\"127.246094\"/>\n      </g>\n     </g>\n    </g>\n    <g id=\"xtick_14\">\n     <g id=\"line2d_23\">\n      <g>\n       <use xlink:href=\"#m11d3e7fbae\" x=\"809.539511\" y=\"284.4\" style=\"stroke: #000000; stroke-width: 0.8\"/>\n      </g>\n     </g>\n     <g id=\"text_25\">\n      <!-- 250 -->\n      <g transform=\"translate(799.995761 298.998438) scale(0.1 -0.1)\">\n       <use xlink:href=\"#DejaVuSans-32\"/>\n       <use xlink:href=\"#DejaVuSans-35\" x=\"63.623047\"/>\n       <use xlink:href=\"#DejaVuSans-30\" x=\"127.246094\"/>\n      </g>\n     </g>\n    </g>\n    <g id=\"xtick_15\">\n     <g id=\"line2d_24\">\n      <g>\n       <use xlink:href=\"#m11d3e7fbae\" x=\"870.745197\" y=\"284.4\" style=\"stroke: #000000; stroke-width: 0.8\"/>\n      </g>\n     </g>\n     <g id=\"text_26\">\n      <!-- 300 -->\n      <g transform=\"translate(861.201447 298.998438) scale(0.1 -0.1)\">\n       <use xlink:href=\"#DejaVuSans-33\"/>\n       <use xlink:href=\"#DejaVuSans-30\" x=\"63.623047\"/>\n       <use xlink:href=\"#DejaVuSans-30\" x=\"127.246094\"/>\n      </g>\n     </g>\n    </g>\n    <g id=\"text_27\">\n     <!-- count -->\n     <g transform=\"translate(679.632102 312.676562) scale(0.1 -0.1)\">\n      <use xlink:href=\"#DejaVuSans-63\"/>\n      <use xlink:href=\"#DejaVuSans-6f\" x=\"54.980469\"/>\n      <use xlink:href=\"#DejaVuSans-75\" x=\"116.162109\"/>\n      <use xlink:href=\"#DejaVuSans-6e\" x=\"179.541016\"/>\n      <use xlink:href=\"#DejaVuSans-74\" x=\"242.919922\"/>\n     </g>\n    </g>\n   </g>\n   <g id=\"matplotlib.axis_4\">\n    <g id=\"ytick_10\">\n     <g id=\"line2d_25\">\n      <g>\n       <use xlink:href=\"#meb838dca3f\" x=\"503.51108\" y=\"18.75\" style=\"stroke: #000000; stroke-width: 0.8\"/>\n      </g>\n     </g>\n     <g id=\"text_28\">\n      <!-- 7 -->\n      <g transform=\"translate(490.14858 22.549219) scale(0.1 -0.1)\">\n       <use xlink:href=\"#DejaVuSans-37\"/>\n      </g>\n     </g>\n    </g>\n    <g id=\"ytick_11\">\n     <g id=\"line2d_26\">\n      <g>\n       <use xlink:href=\"#meb838dca3f\" x=\"503.51108\" y=\"41.85\" style=\"stroke: #000000; stroke-width: 0.8\"/>\n      </g>\n     </g>\n     <g id=\"text_29\">\n      <!-- 5 -->\n      <g transform=\"translate(490.14858 45.649219) scale(0.1 -0.1)\">\n       <use xlink:href=\"#DejaVuSans-35\"/>\n      </g>\n     </g>\n    </g>\n    <g id=\"ytick_12\">\n     <g id=\"line2d_27\">\n      <g>\n       <use xlink:href=\"#meb838dca3f\" x=\"503.51108\" y=\"64.95\" style=\"stroke: #000000; stroke-width: 0.8\"/>\n      </g>\n     </g>\n     <g id=\"text_30\">\n      <!-- 10 -->\n      <g transform=\"translate(483.78608 68.749219) scale(0.1 -0.1)\">\n       <use xlink:href=\"#DejaVuSans-31\"/>\n       <use xlink:href=\"#DejaVuSans-30\" x=\"63.623047\"/>\n      </g>\n     </g>\n    </g>\n    <g id=\"ytick_13\">\n     <g id=\"line2d_28\">\n      <g>\n       <use xlink:href=\"#meb838dca3f\" x=\"503.51108\" y=\"88.05\" style=\"stroke: #000000; stroke-width: 0.8\"/>\n      </g>\n     </g>\n     <g id=\"text_31\">\n      <!-- 11 -->\n      <g transform=\"translate(483.78608 91.849219) scale(0.1 -0.1)\">\n       <use xlink:href=\"#DejaVuSans-31\"/>\n       <use xlink:href=\"#DejaVuSans-31\" x=\"63.623047\"/>\n      </g>\n     </g>\n    </g>\n    <g id=\"ytick_14\">\n     <g id=\"line2d_29\">\n      <g>\n       <use xlink:href=\"#meb838dca3f\" x=\"503.51108\" y=\"111.15\" style=\"stroke: #000000; stroke-width: 0.8\"/>\n      </g>\n     </g>\n     <g id=\"text_32\">\n      <!-- 6 -->\n      <g transform=\"translate(490.14858 114.949219) scale(0.1 -0.1)\">\n       <use xlink:href=\"#DejaVuSans-36\"/>\n      </g>\n     </g>\n    </g>\n    <g id=\"ytick_15\">\n     <g id=\"line2d_30\">\n      <g>\n       <use xlink:href=\"#meb838dca3f\" x=\"503.51108\" y=\"134.25\" style=\"stroke: #000000; stroke-width: 0.8\"/>\n      </g>\n     </g>\n     <g id=\"text_33\">\n      <!-- 8 -->\n      <g transform=\"translate(490.14858 138.049219) scale(0.1 -0.1)\">\n       <use xlink:href=\"#DejaVuSans-38\"/>\n      </g>\n     </g>\n    </g>\n    <g id=\"ytick_16\">\n     <g id=\"line2d_31\">\n      <g>\n       <use xlink:href=\"#meb838dca3f\" x=\"503.51108\" y=\"157.35\" style=\"stroke: #000000; stroke-width: 0.8\"/>\n      </g>\n     </g>\n     <g id=\"text_34\">\n      <!-- 9 -->\n      <g transform=\"translate(490.14858 161.149219) scale(0.1 -0.1)\">\n       <use xlink:href=\"#DejaVuSans-39\"/>\n      </g>\n     </g>\n    </g>\n    <g id=\"ytick_17\">\n     <g id=\"line2d_32\">\n      <g>\n       <use xlink:href=\"#meb838dca3f\" x=\"503.51108\" y=\"180.45\" style=\"stroke: #000000; stroke-width: 0.8\"/>\n      </g>\n     </g>\n     <g id=\"text_35\">\n      <!-- 12 -->\n      <g transform=\"translate(483.78608 184.249219) scale(0.1 -0.1)\">\n       <use xlink:href=\"#DejaVuSans-31\"/>\n       <use xlink:href=\"#DejaVuSans-32\" x=\"63.623047\"/>\n      </g>\n     </g>\n    </g>\n    <g id=\"ytick_18\">\n     <g id=\"line2d_33\">\n      <g>\n       <use xlink:href=\"#meb838dca3f\" x=\"503.51108\" y=\"203.55\" style=\"stroke: #000000; stroke-width: 0.8\"/>\n      </g>\n     </g>\n     <g id=\"text_36\">\n      <!-- 1 -->\n      <g transform=\"translate(490.14858 207.349219) scale(0.1 -0.1)\">\n       <use xlink:href=\"#DejaVuSans-31\"/>\n      </g>\n     </g>\n    </g>\n    <g id=\"ytick_19\">\n     <g id=\"line2d_34\">\n      <g>\n       <use xlink:href=\"#meb838dca3f\" x=\"503.51108\" y=\"226.65\" style=\"stroke: #000000; stroke-width: 0.8\"/>\n      </g>\n     </g>\n     <g id=\"text_37\">\n      <!-- 4 -->\n      <g transform=\"translate(490.14858 230.449219) scale(0.1 -0.1)\">\n       <use xlink:href=\"#DejaVuSans-34\"/>\n      </g>\n     </g>\n    </g>\n    <g id=\"ytick_20\">\n     <g id=\"line2d_35\">\n      <g>\n       <use xlink:href=\"#meb838dca3f\" x=\"503.51108\" y=\"249.75\" style=\"stroke: #000000; stroke-width: 0.8\"/>\n      </g>\n     </g>\n     <g id=\"text_38\">\n      <!-- 2 -->\n      <g transform=\"translate(490.14858 253.549219) scale(0.1 -0.1)\">\n       <use xlink:href=\"#DejaVuSans-32\"/>\n      </g>\n     </g>\n    </g>\n    <g id=\"ytick_21\">\n     <g id=\"line2d_36\">\n      <g>\n       <use xlink:href=\"#meb838dca3f\" x=\"503.51108\" y=\"272.85\" style=\"stroke: #000000; stroke-width: 0.8\"/>\n      </g>\n     </g>\n     <g id=\"text_39\">\n      <!-- 3 -->\n      <g transform=\"translate(490.14858 276.649219) scale(0.1 -0.1)\">\n       <use xlink:href=\"#DejaVuSans-33\"/>\n      </g>\n     </g>\n    </g>\n    <g id=\"text_40\">\n     <!-- month_of_join -->\n     <g transform=\"translate(477.428267 180.853125) rotate(-90) scale(0.1 -0.1)\">\n      <defs>\n       <path id=\"DejaVuSans-6d\" d=\"M 3328 2828 \nQ 3544 3216 3844 3400 \nQ 4144 3584 4550 3584 \nQ 5097 3584 5394 3201 \nQ 5691 2819 5691 2113 \nL 5691 0 \nL 5113 0 \nL 5113 2094 \nQ 5113 2597 4934 2840 \nQ 4756 3084 4391 3084 \nQ 3944 3084 3684 2787 \nQ 3425 2491 3425 1978 \nL 3425 0 \nL 2847 0 \nL 2847 2094 \nQ 2847 2600 2669 2842 \nQ 2491 3084 2119 3084 \nQ 1678 3084 1418 2786 \nQ 1159 2488 1159 1978 \nL 1159 0 \nL 581 0 \nL 581 3500 \nL 1159 3500 \nL 1159 2956 \nQ 1356 3278 1631 3431 \nQ 1906 3584 2284 3584 \nQ 2666 3584 2933 3390 \nQ 3200 3197 3328 2828 \nz\n\" transform=\"scale(0.015625)\"/>\n       <path id=\"DejaVuSans-68\" d=\"M 3513 2113 \nL 3513 0 \nL 2938 0 \nL 2938 2094 \nQ 2938 2591 2744 2837 \nQ 2550 3084 2163 3084 \nQ 1697 3084 1428 2787 \nQ 1159 2491 1159 1978 \nL 1159 0 \nL 581 0 \nL 581 4863 \nL 1159 4863 \nL 1159 2956 \nQ 1366 3272 1645 3428 \nQ 1925 3584 2291 3584 \nQ 2894 3584 3203 3211 \nQ 3513 2838 3513 2113 \nz\n\" transform=\"scale(0.015625)\"/>\n      </defs>\n      <use xlink:href=\"#DejaVuSans-6d\"/>\n      <use xlink:href=\"#DejaVuSans-6f\" x=\"97.412109\"/>\n      <use xlink:href=\"#DejaVuSans-6e\" x=\"158.59375\"/>\n      <use xlink:href=\"#DejaVuSans-74\" x=\"221.972656\"/>\n      <use xlink:href=\"#DejaVuSans-68\" x=\"261.181641\"/>\n      <use xlink:href=\"#DejaVuSans-5f\" x=\"324.560547\"/>\n      <use xlink:href=\"#DejaVuSans-6f\" x=\"374.560547\"/>\n      <use xlink:href=\"#DejaVuSans-66\" x=\"435.742188\"/>\n      <use xlink:href=\"#DejaVuSans-5f\" x=\"470.947266\"/>\n      <use xlink:href=\"#DejaVuSans-6a\" x=\"520.947266\"/>\n      <use xlink:href=\"#DejaVuSans-6f\" x=\"548.730469\"/>\n      <use xlink:href=\"#DejaVuSans-69\" x=\"609.912109\"/>\n      <use xlink:href=\"#DejaVuSans-6e\" x=\"637.695312\"/>\n     </g>\n    </g>\n   </g>\n   <g id=\"patch_28\">\n    <path d=\"M 503.51108 284.4 \nL 503.51108 7.2 \n\" style=\"fill: none; stroke: #000000; stroke-width: 0.8; stroke-linejoin: miter; stroke-linecap: square\"/>\n   </g>\n   <g id=\"patch_29\">\n    <path d=\"M 883.965625 284.4 \nL 883.965625 7.2 \n\" style=\"fill: none; stroke: #000000; stroke-width: 0.8; stroke-linejoin: miter; stroke-linecap: square\"/>\n   </g>\n   <g id=\"patch_30\">\n    <path d=\"M 503.51108 284.4 \nL 883.965625 284.4 \n\" style=\"fill: none; stroke: #000000; stroke-width: 0.8; stroke-linejoin: miter; stroke-linecap: square\"/>\n   </g>\n   <g id=\"patch_31\">\n    <path d=\"M 503.51108 7.2 \nL 883.965625 7.2 \n\" style=\"fill: none; stroke: #000000; stroke-width: 0.8; stroke-linejoin: miter; stroke-linecap: square\"/>\n   </g>\n  </g>\n </g>\n <defs>\n  <clipPath id=\"p228e760dab\">\n   <rect x=\"46.965625\" y=\"7.2\" width=\"380.454545\" height=\"277.2\"/>\n  </clipPath>\n  <clipPath id=\"pbe7bc6320e\">\n   <rect x=\"503.51108\" y=\"7.2\" width=\"380.454545\" height=\"277.2\"/>\n  </clipPath>\n </defs>\n</svg>\n"
          },
          "metadata": {}
        },
        {
          "output_type": "stream",
          "name": "stdout",
          "text": [
            "Top 3 months by join\n"
          ]
        },
        {
          "output_type": "execute_result",
          "data": {
            "text/plain": [
              "7     296\n",
              "5     276\n",
              "10    269\n",
              "Name: month_of_join, dtype: int64"
            ]
          },
          "metadata": {},
          "execution_count": 32
        }
      ]
    },
    {
      "cell_type": "code",
      "source": [
        "#Quarterly Rating & number_month\n",
        "fig, axis = plt.subplots(nrows=1, ncols=2, figsize=(15, 5))\n",
        "plt.subplot(121)\n",
        "sns.countplot(x=df_final[\"Quarterly Rating\"])\n",
        "plt.subplot(122)\n",
        "l_s=df_final.groupby('number_month').size().sort_values().index[::-1]\n",
        "sns.countplot(y=df_final['number_month'],order=l_s)\n",
        "plt.show()\n",
        "print(\"Top 3 month count\")\n",
        "df_final[\"number_month\"].value_counts().head(3)"
      ],
      "metadata": {
        "colab": {
          "base_uri": "https://localhost:8080/"
        },
        "id": "wveaIJ1_0pIb",
        "outputId": "822b0ea1-60b0-4fa4-98a9-ea6e6f8ce8c6"
      },
      "execution_count": null,
      "outputs": [
        {
          "output_type": "display_data",
          "data": {
            "text/plain": [
              "<Figure size 1500x500 with 2 Axes>"
            ],
            "image/svg+xml": "<?xml version=\"1.0\" encoding=\"utf-8\" standalone=\"no\"?>\n<!DOCTYPE svg PUBLIC \"-//W3C//DTD SVG 1.1//EN\"\n  \"http://www.w3.org/Graphics/SVG/1.1/DTD/svg11.dtd\">\n<svg xmlns:xlink=\"http://www.w3.org/1999/xlink\" width=\"897.528125pt\" height=\"321.95625pt\" viewBox=\"0 0 897.528125 321.95625\" xmlns=\"http://www.w3.org/2000/svg\" version=\"1.1\">\n <metadata>\n  <rdf:RDF xmlns:dc=\"http://purl.org/dc/elements/1.1/\" xmlns:cc=\"http://creativecommons.org/ns#\" xmlns:rdf=\"http://www.w3.org/1999/02/22-rdf-syntax-ns#\">\n   <cc:Work>\n    <dc:type rdf:resource=\"http://purl.org/dc/dcmitype/StillImage\"/>\n    <dc:date>2023-07-12T06:34:03.409769</dc:date>\n    <dc:format>image/svg+xml</dc:format>\n    <dc:creator>\n     <cc:Agent>\n      <dc:title>Matplotlib v3.7.1, https://matplotlib.org/</dc:title>\n     </cc:Agent>\n    </dc:creator>\n   </cc:Work>\n  </rdf:RDF>\n </metadata>\n <defs>\n  <style type=\"text/css\">*{stroke-linejoin: round; stroke-linecap: butt}</style>\n </defs>\n <g id=\"figure_1\">\n  <g id=\"patch_1\">\n   <path d=\"M 0 321.95625 \nL 897.528125 321.95625 \nL 897.528125 0 \nL 0 0 \nz\n\" style=\"fill: #ffffff\"/>\n  </g>\n  <g id=\"axes_1\">\n   <g id=\"patch_2\">\n    <path d=\"M 53.328125 284.4 \nL 433.78267 284.4 \nL 433.78267 7.2 \nL 53.328125 7.2 \nz\n\" style=\"fill: #ffffff\"/>\n   </g>\n   <g id=\"patch_3\">\n    <path d=\"M 62.839489 284.4 \nL 138.930398 284.4 \nL 138.930398 20.4 \nL 62.839489 20.4 \nz\n\" clip-path=\"url(#pbfcdcc6a13)\" style=\"fill: #3274a1\"/>\n   </g>\n   <g id=\"patch_4\">\n    <path d=\"M 157.953125 284.4 \nL 234.044034 284.4 \nL 234.044034 142.936585 \nL 157.953125 142.936585 \nz\n\" clip-path=\"url(#pbfcdcc6a13)\" style=\"fill: #e1812c\"/>\n   </g>\n   <g id=\"patch_5\">\n    <path d=\"M 253.066761 284.4 \nL 329.15767 284.4 \nL 329.15767 231.912195 \nL 253.066761 231.912195 \nz\n\" clip-path=\"url(#pbfcdcc6a13)\" style=\"fill: #3a923a\"/>\n   </g>\n   <g id=\"patch_6\">\n    <path d=\"M 348.180398 284.4 \nL 424.271307 284.4 \nL 424.271307 277.765854 \nL 348.180398 277.765854 \nz\n\" clip-path=\"url(#pbfcdcc6a13)\" style=\"fill: #c03d3e\"/>\n   </g>\n   <g id=\"matplotlib.axis_1\">\n    <g id=\"xtick_1\">\n     <g id=\"line2d_1\">\n      <defs>\n       <path id=\"m65487085bc\" d=\"M 0 0 \nL 0 3.5 \n\" style=\"stroke: #000000; stroke-width: 0.8\"/>\n      </defs>\n      <g>\n       <use xlink:href=\"#m65487085bc\" x=\"100.884943\" y=\"284.4\" style=\"stroke: #000000; stroke-width: 0.8\"/>\n      </g>\n     </g>\n     <g id=\"text_1\">\n      <!-- 1.0 -->\n      <g transform=\"translate(92.933381 298.998438) scale(0.1 -0.1)\">\n       <defs>\n        <path id=\"DejaVuSans-31\" d=\"M 794 531 \nL 1825 531 \nL 1825 4091 \nL 703 3866 \nL 703 4441 \nL 1819 4666 \nL 2450 4666 \nL 2450 531 \nL 3481 531 \nL 3481 0 \nL 794 0 \nL 794 531 \nz\n\" transform=\"scale(0.015625)\"/>\n        <path id=\"DejaVuSans-2e\" d=\"M 684 794 \nL 1344 794 \nL 1344 0 \nL 684 0 \nL 684 794 \nz\n\" transform=\"scale(0.015625)\"/>\n        <path id=\"DejaVuSans-30\" d=\"M 2034 4250 \nQ 1547 4250 1301 3770 \nQ 1056 3291 1056 2328 \nQ 1056 1369 1301 889 \nQ 1547 409 2034 409 \nQ 2525 409 2770 889 \nQ 3016 1369 3016 2328 \nQ 3016 3291 2770 3770 \nQ 2525 4250 2034 4250 \nz\nM 2034 4750 \nQ 2819 4750 3233 4129 \nQ 3647 3509 3647 2328 \nQ 3647 1150 3233 529 \nQ 2819 -91 2034 -91 \nQ 1250 -91 836 529 \nQ 422 1150 422 2328 \nQ 422 3509 836 4129 \nQ 1250 4750 2034 4750 \nz\n\" transform=\"scale(0.015625)\"/>\n       </defs>\n       <use xlink:href=\"#DejaVuSans-31\"/>\n       <use xlink:href=\"#DejaVuSans-2e\" x=\"63.623047\"/>\n       <use xlink:href=\"#DejaVuSans-30\" x=\"95.410156\"/>\n      </g>\n     </g>\n    </g>\n    <g id=\"xtick_2\">\n     <g id=\"line2d_2\">\n      <g>\n       <use xlink:href=\"#m65487085bc\" x=\"195.99858\" y=\"284.4\" style=\"stroke: #000000; stroke-width: 0.8\"/>\n      </g>\n     </g>\n     <g id=\"text_2\">\n      <!-- 2.0 -->\n      <g transform=\"translate(188.047017 298.998438) scale(0.1 -0.1)\">\n       <defs>\n        <path id=\"DejaVuSans-32\" d=\"M 1228 531 \nL 3431 531 \nL 3431 0 \nL 469 0 \nL 469 531 \nQ 828 903 1448 1529 \nQ 2069 2156 2228 2338 \nQ 2531 2678 2651 2914 \nQ 2772 3150 2772 3378 \nQ 2772 3750 2511 3984 \nQ 2250 4219 1831 4219 \nQ 1534 4219 1204 4116 \nQ 875 4013 500 3803 \nL 500 4441 \nQ 881 4594 1212 4672 \nQ 1544 4750 1819 4750 \nQ 2544 4750 2975 4387 \nQ 3406 4025 3406 3419 \nQ 3406 3131 3298 2873 \nQ 3191 2616 2906 2266 \nQ 2828 2175 2409 1742 \nQ 1991 1309 1228 531 \nz\n\" transform=\"scale(0.015625)\"/>\n       </defs>\n       <use xlink:href=\"#DejaVuSans-32\"/>\n       <use xlink:href=\"#DejaVuSans-2e\" x=\"63.623047\"/>\n       <use xlink:href=\"#DejaVuSans-30\" x=\"95.410156\"/>\n      </g>\n     </g>\n    </g>\n    <g id=\"xtick_3\">\n     <g id=\"line2d_3\">\n      <g>\n       <use xlink:href=\"#m65487085bc\" x=\"291.112216\" y=\"284.4\" style=\"stroke: #000000; stroke-width: 0.8\"/>\n      </g>\n     </g>\n     <g id=\"text_3\">\n      <!-- 3.0 -->\n      <g transform=\"translate(283.160653 298.998438) scale(0.1 -0.1)\">\n       <defs>\n        <path id=\"DejaVuSans-33\" d=\"M 2597 2516 \nQ 3050 2419 3304 2112 \nQ 3559 1806 3559 1356 \nQ 3559 666 3084 287 \nQ 2609 -91 1734 -91 \nQ 1441 -91 1130 -33 \nQ 819 25 488 141 \nL 488 750 \nQ 750 597 1062 519 \nQ 1375 441 1716 441 \nQ 2309 441 2620 675 \nQ 2931 909 2931 1356 \nQ 2931 1769 2642 2001 \nQ 2353 2234 1838 2234 \nL 1294 2234 \nL 1294 2753 \nL 1863 2753 \nQ 2328 2753 2575 2939 \nQ 2822 3125 2822 3475 \nQ 2822 3834 2567 4026 \nQ 2313 4219 1838 4219 \nQ 1578 4219 1281 4162 \nQ 984 4106 628 3988 \nL 628 4550 \nQ 988 4650 1302 4700 \nQ 1616 4750 1894 4750 \nQ 2613 4750 3031 4423 \nQ 3450 4097 3450 3541 \nQ 3450 3153 3228 2886 \nQ 3006 2619 2597 2516 \nz\n\" transform=\"scale(0.015625)\"/>\n       </defs>\n       <use xlink:href=\"#DejaVuSans-33\"/>\n       <use xlink:href=\"#DejaVuSans-2e\" x=\"63.623047\"/>\n       <use xlink:href=\"#DejaVuSans-30\" x=\"95.410156\"/>\n      </g>\n     </g>\n    </g>\n    <g id=\"xtick_4\">\n     <g id=\"line2d_4\">\n      <g>\n       <use xlink:href=\"#m65487085bc\" x=\"386.225852\" y=\"284.4\" style=\"stroke: #000000; stroke-width: 0.8\"/>\n      </g>\n     </g>\n     <g id=\"text_4\">\n      <!-- 4.0 -->\n      <g transform=\"translate(378.27429 298.998438) scale(0.1 -0.1)\">\n       <defs>\n        <path id=\"DejaVuSans-34\" d=\"M 2419 4116 \nL 825 1625 \nL 2419 1625 \nL 2419 4116 \nz\nM 2253 4666 \nL 3047 4666 \nL 3047 1625 \nL 3713 1625 \nL 3713 1100 \nL 3047 1100 \nL 3047 0 \nL 2419 0 \nL 2419 1100 \nL 313 1100 \nL 313 1709 \nL 2253 4666 \nz\n\" transform=\"scale(0.015625)\"/>\n       </defs>\n       <use xlink:href=\"#DejaVuSans-34\"/>\n       <use xlink:href=\"#DejaVuSans-2e\" x=\"63.623047\"/>\n       <use xlink:href=\"#DejaVuSans-30\" x=\"95.410156\"/>\n      </g>\n     </g>\n    </g>\n    <g id=\"text_5\">\n     <!-- Quarterly Rating -->\n     <g transform=\"translate(202.183523 312.676562) scale(0.1 -0.1)\">\n      <defs>\n       <path id=\"DejaVuSans-51\" d=\"M 2522 4238 \nQ 1834 4238 1429 3725 \nQ 1025 3213 1025 2328 \nQ 1025 1447 1429 934 \nQ 1834 422 2522 422 \nQ 3209 422 3611 934 \nQ 4013 1447 4013 2328 \nQ 4013 3213 3611 3725 \nQ 3209 4238 2522 4238 \nz\nM 3406 84 \nL 4238 -825 \nL 3475 -825 \nL 2784 -78 \nQ 2681 -84 2626 -87 \nQ 2572 -91 2522 -91 \nQ 1538 -91 948 567 \nQ 359 1225 359 2328 \nQ 359 3434 948 4092 \nQ 1538 4750 2522 4750 \nQ 3503 4750 4090 4092 \nQ 4678 3434 4678 2328 \nQ 4678 1516 4351 937 \nQ 4025 359 3406 84 \nz\n\" transform=\"scale(0.015625)\"/>\n       <path id=\"DejaVuSans-75\" d=\"M 544 1381 \nL 544 3500 \nL 1119 3500 \nL 1119 1403 \nQ 1119 906 1312 657 \nQ 1506 409 1894 409 \nQ 2359 409 2629 706 \nQ 2900 1003 2900 1516 \nL 2900 3500 \nL 3475 3500 \nL 3475 0 \nL 2900 0 \nL 2900 538 \nQ 2691 219 2414 64 \nQ 2138 -91 1772 -91 \nQ 1169 -91 856 284 \nQ 544 659 544 1381 \nz\nM 1991 3584 \nL 1991 3584 \nz\n\" transform=\"scale(0.015625)\"/>\n       <path id=\"DejaVuSans-61\" d=\"M 2194 1759 \nQ 1497 1759 1228 1600 \nQ 959 1441 959 1056 \nQ 959 750 1161 570 \nQ 1363 391 1709 391 \nQ 2188 391 2477 730 \nQ 2766 1069 2766 1631 \nL 2766 1759 \nL 2194 1759 \nz\nM 3341 1997 \nL 3341 0 \nL 2766 0 \nL 2766 531 \nQ 2569 213 2275 61 \nQ 1981 -91 1556 -91 \nQ 1019 -91 701 211 \nQ 384 513 384 1019 \nQ 384 1609 779 1909 \nQ 1175 2209 1959 2209 \nL 2766 2209 \nL 2766 2266 \nQ 2766 2663 2505 2880 \nQ 2244 3097 1772 3097 \nQ 1472 3097 1187 3025 \nQ 903 2953 641 2809 \nL 641 3341 \nQ 956 3463 1253 3523 \nQ 1550 3584 1831 3584 \nQ 2591 3584 2966 3190 \nQ 3341 2797 3341 1997 \nz\n\" transform=\"scale(0.015625)\"/>\n       <path id=\"DejaVuSans-72\" d=\"M 2631 2963 \nQ 2534 3019 2420 3045 \nQ 2306 3072 2169 3072 \nQ 1681 3072 1420 2755 \nQ 1159 2438 1159 1844 \nL 1159 0 \nL 581 0 \nL 581 3500 \nL 1159 3500 \nL 1159 2956 \nQ 1341 3275 1631 3429 \nQ 1922 3584 2338 3584 \nQ 2397 3584 2469 3576 \nQ 2541 3569 2628 3553 \nL 2631 2963 \nz\n\" transform=\"scale(0.015625)\"/>\n       <path id=\"DejaVuSans-74\" d=\"M 1172 4494 \nL 1172 3500 \nL 2356 3500 \nL 2356 3053 \nL 1172 3053 \nL 1172 1153 \nQ 1172 725 1289 603 \nQ 1406 481 1766 481 \nL 2356 481 \nL 2356 0 \nL 1766 0 \nQ 1100 0 847 248 \nQ 594 497 594 1153 \nL 594 3053 \nL 172 3053 \nL 172 3500 \nL 594 3500 \nL 594 4494 \nL 1172 4494 \nz\n\" transform=\"scale(0.015625)\"/>\n       <path id=\"DejaVuSans-65\" d=\"M 3597 1894 \nL 3597 1613 \nL 953 1613 \nQ 991 1019 1311 708 \nQ 1631 397 2203 397 \nQ 2534 397 2845 478 \nQ 3156 559 3463 722 \nL 3463 178 \nQ 3153 47 2828 -22 \nQ 2503 -91 2169 -91 \nQ 1331 -91 842 396 \nQ 353 884 353 1716 \nQ 353 2575 817 3079 \nQ 1281 3584 2069 3584 \nQ 2775 3584 3186 3129 \nQ 3597 2675 3597 1894 \nz\nM 3022 2063 \nQ 3016 2534 2758 2815 \nQ 2500 3097 2075 3097 \nQ 1594 3097 1305 2825 \nQ 1016 2553 972 2059 \nL 3022 2063 \nz\n\" transform=\"scale(0.015625)\"/>\n       <path id=\"DejaVuSans-6c\" d=\"M 603 4863 \nL 1178 4863 \nL 1178 0 \nL 603 0 \nL 603 4863 \nz\n\" transform=\"scale(0.015625)\"/>\n       <path id=\"DejaVuSans-79\" d=\"M 2059 -325 \nQ 1816 -950 1584 -1140 \nQ 1353 -1331 966 -1331 \nL 506 -1331 \nL 506 -850 \nL 844 -850 \nQ 1081 -850 1212 -737 \nQ 1344 -625 1503 -206 \nL 1606 56 \nL 191 3500 \nL 800 3500 \nL 1894 763 \nL 2988 3500 \nL 3597 3500 \nL 2059 -325 \nz\n\" transform=\"scale(0.015625)\"/>\n       <path id=\"DejaVuSans-20\" transform=\"scale(0.015625)\"/>\n       <path id=\"DejaVuSans-52\" d=\"M 2841 2188 \nQ 3044 2119 3236 1894 \nQ 3428 1669 3622 1275 \nL 4263 0 \nL 3584 0 \nL 2988 1197 \nQ 2756 1666 2539 1819 \nQ 2322 1972 1947 1972 \nL 1259 1972 \nL 1259 0 \nL 628 0 \nL 628 4666 \nL 2053 4666 \nQ 2853 4666 3247 4331 \nQ 3641 3997 3641 3322 \nQ 3641 2881 3436 2590 \nQ 3231 2300 2841 2188 \nz\nM 1259 4147 \nL 1259 2491 \nL 2053 2491 \nQ 2509 2491 2742 2702 \nQ 2975 2913 2975 3322 \nQ 2975 3731 2742 3939 \nQ 2509 4147 2053 4147 \nL 1259 4147 \nz\n\" transform=\"scale(0.015625)\"/>\n       <path id=\"DejaVuSans-69\" d=\"M 603 3500 \nL 1178 3500 \nL 1178 0 \nL 603 0 \nL 603 3500 \nz\nM 603 4863 \nL 1178 4863 \nL 1178 4134 \nL 603 4134 \nL 603 4863 \nz\n\" transform=\"scale(0.015625)\"/>\n       <path id=\"DejaVuSans-6e\" d=\"M 3513 2113 \nL 3513 0 \nL 2938 0 \nL 2938 2094 \nQ 2938 2591 2744 2837 \nQ 2550 3084 2163 3084 \nQ 1697 3084 1428 2787 \nQ 1159 2491 1159 1978 \nL 1159 0 \nL 581 0 \nL 581 3500 \nL 1159 3500 \nL 1159 2956 \nQ 1366 3272 1645 3428 \nQ 1925 3584 2291 3584 \nQ 2894 3584 3203 3211 \nQ 3513 2838 3513 2113 \nz\n\" transform=\"scale(0.015625)\"/>\n       <path id=\"DejaVuSans-67\" d=\"M 2906 1791 \nQ 2906 2416 2648 2759 \nQ 2391 3103 1925 3103 \nQ 1463 3103 1205 2759 \nQ 947 2416 947 1791 \nQ 947 1169 1205 825 \nQ 1463 481 1925 481 \nQ 2391 481 2648 825 \nQ 2906 1169 2906 1791 \nz\nM 3481 434 \nQ 3481 -459 3084 -895 \nQ 2688 -1331 1869 -1331 \nQ 1566 -1331 1297 -1286 \nQ 1028 -1241 775 -1147 \nL 775 -588 \nQ 1028 -725 1275 -790 \nQ 1522 -856 1778 -856 \nQ 2344 -856 2625 -561 \nQ 2906 -266 2906 331 \nL 2906 616 \nQ 2728 306 2450 153 \nQ 2172 0 1784 0 \nQ 1141 0 747 490 \nQ 353 981 353 1791 \nQ 353 2603 747 3093 \nQ 1141 3584 1784 3584 \nQ 2172 3584 2450 3431 \nQ 2728 3278 2906 2969 \nL 2906 3500 \nL 3481 3500 \nL 3481 434 \nz\n\" transform=\"scale(0.015625)\"/>\n      </defs>\n      <use xlink:href=\"#DejaVuSans-51\"/>\n      <use xlink:href=\"#DejaVuSans-75\" x=\"78.710938\"/>\n      <use xlink:href=\"#DejaVuSans-61\" x=\"142.089844\"/>\n      <use xlink:href=\"#DejaVuSans-72\" x=\"203.369141\"/>\n      <use xlink:href=\"#DejaVuSans-74\" x=\"244.482422\"/>\n      <use xlink:href=\"#DejaVuSans-65\" x=\"283.691406\"/>\n      <use xlink:href=\"#DejaVuSans-72\" x=\"345.214844\"/>\n      <use xlink:href=\"#DejaVuSans-6c\" x=\"386.328125\"/>\n      <use xlink:href=\"#DejaVuSans-79\" x=\"414.111328\"/>\n      <use xlink:href=\"#DejaVuSans-20\" x=\"473.291016\"/>\n      <use xlink:href=\"#DejaVuSans-52\" x=\"505.078125\"/>\n      <use xlink:href=\"#DejaVuSans-61\" x=\"572.310547\"/>\n      <use xlink:href=\"#DejaVuSans-74\" x=\"633.589844\"/>\n      <use xlink:href=\"#DejaVuSans-69\" x=\"672.798828\"/>\n      <use xlink:href=\"#DejaVuSans-6e\" x=\"700.582031\"/>\n      <use xlink:href=\"#DejaVuSans-67\" x=\"763.960938\"/>\n     </g>\n    </g>\n   </g>\n   <g id=\"matplotlib.axis_2\">\n    <g id=\"ytick_1\">\n     <g id=\"line2d_5\">\n      <defs>\n       <path id=\"ma5b02fe5f3\" d=\"M 0 0 \nL -3.5 0 \n\" style=\"stroke: #000000; stroke-width: 0.8\"/>\n      </defs>\n      <g>\n       <use xlink:href=\"#ma5b02fe5f3\" x=\"53.328125\" y=\"284.4\" style=\"stroke: #000000; stroke-width: 0.8\"/>\n      </g>\n     </g>\n     <g id=\"text_6\">\n      <!-- 0 -->\n      <g transform=\"translate(39.965625 288.199219) scale(0.1 -0.1)\">\n       <use xlink:href=\"#DejaVuSans-30\"/>\n      </g>\n     </g>\n    </g>\n    <g id=\"ytick_2\">\n     <g id=\"line2d_6\">\n      <g>\n       <use xlink:href=\"#ma5b02fe5f3\" x=\"53.328125\" y=\"245.37561\" style=\"stroke: #000000; stroke-width: 0.8\"/>\n      </g>\n     </g>\n     <g id=\"text_7\">\n      <!-- 200 -->\n      <g transform=\"translate(27.240625 249.174829) scale(0.1 -0.1)\">\n       <use xlink:href=\"#DejaVuSans-32\"/>\n       <use xlink:href=\"#DejaVuSans-30\" x=\"63.623047\"/>\n       <use xlink:href=\"#DejaVuSans-30\" x=\"127.246094\"/>\n      </g>\n     </g>\n    </g>\n    <g id=\"ytick_3\">\n     <g id=\"line2d_7\">\n      <g>\n       <use xlink:href=\"#ma5b02fe5f3\" x=\"53.328125\" y=\"206.35122\" style=\"stroke: #000000; stroke-width: 0.8\"/>\n      </g>\n     </g>\n     <g id=\"text_8\">\n      <!-- 400 -->\n      <g transform=\"translate(27.240625 210.150438) scale(0.1 -0.1)\">\n       <use xlink:href=\"#DejaVuSans-34\"/>\n       <use xlink:href=\"#DejaVuSans-30\" x=\"63.623047\"/>\n       <use xlink:href=\"#DejaVuSans-30\" x=\"127.246094\"/>\n      </g>\n     </g>\n    </g>\n    <g id=\"ytick_4\">\n     <g id=\"line2d_8\">\n      <g>\n       <use xlink:href=\"#ma5b02fe5f3\" x=\"53.328125\" y=\"167.326829\" style=\"stroke: #000000; stroke-width: 0.8\"/>\n      </g>\n     </g>\n     <g id=\"text_9\">\n      <!-- 600 -->\n      <g transform=\"translate(27.240625 171.126048) scale(0.1 -0.1)\">\n       <defs>\n        <path id=\"DejaVuSans-36\" d=\"M 2113 2584 \nQ 1688 2584 1439 2293 \nQ 1191 2003 1191 1497 \nQ 1191 994 1439 701 \nQ 1688 409 2113 409 \nQ 2538 409 2786 701 \nQ 3034 994 3034 1497 \nQ 3034 2003 2786 2293 \nQ 2538 2584 2113 2584 \nz\nM 3366 4563 \nL 3366 3988 \nQ 3128 4100 2886 4159 \nQ 2644 4219 2406 4219 \nQ 1781 4219 1451 3797 \nQ 1122 3375 1075 2522 \nQ 1259 2794 1537 2939 \nQ 1816 3084 2150 3084 \nQ 2853 3084 3261 2657 \nQ 3669 2231 3669 1497 \nQ 3669 778 3244 343 \nQ 2819 -91 2113 -91 \nQ 1303 -91 875 529 \nQ 447 1150 447 2328 \nQ 447 3434 972 4092 \nQ 1497 4750 2381 4750 \nQ 2619 4750 2861 4703 \nQ 3103 4656 3366 4563 \nz\n\" transform=\"scale(0.015625)\"/>\n       </defs>\n       <use xlink:href=\"#DejaVuSans-36\"/>\n       <use xlink:href=\"#DejaVuSans-30\" x=\"63.623047\"/>\n       <use xlink:href=\"#DejaVuSans-30\" x=\"127.246094\"/>\n      </g>\n     </g>\n    </g>\n    <g id=\"ytick_5\">\n     <g id=\"line2d_9\">\n      <g>\n       <use xlink:href=\"#ma5b02fe5f3\" x=\"53.328125\" y=\"128.302439\" style=\"stroke: #000000; stroke-width: 0.8\"/>\n      </g>\n     </g>\n     <g id=\"text_10\">\n      <!-- 800 -->\n      <g transform=\"translate(27.240625 132.101658) scale(0.1 -0.1)\">\n       <defs>\n        <path id=\"DejaVuSans-38\" d=\"M 2034 2216 \nQ 1584 2216 1326 1975 \nQ 1069 1734 1069 1313 \nQ 1069 891 1326 650 \nQ 1584 409 2034 409 \nQ 2484 409 2743 651 \nQ 3003 894 3003 1313 \nQ 3003 1734 2745 1975 \nQ 2488 2216 2034 2216 \nz\nM 1403 2484 \nQ 997 2584 770 2862 \nQ 544 3141 544 3541 \nQ 544 4100 942 4425 \nQ 1341 4750 2034 4750 \nQ 2731 4750 3128 4425 \nQ 3525 4100 3525 3541 \nQ 3525 3141 3298 2862 \nQ 3072 2584 2669 2484 \nQ 3125 2378 3379 2068 \nQ 3634 1759 3634 1313 \nQ 3634 634 3220 271 \nQ 2806 -91 2034 -91 \nQ 1263 -91 848 271 \nQ 434 634 434 1313 \nQ 434 1759 690 2068 \nQ 947 2378 1403 2484 \nz\nM 1172 3481 \nQ 1172 3119 1398 2916 \nQ 1625 2713 2034 2713 \nQ 2441 2713 2670 2916 \nQ 2900 3119 2900 3481 \nQ 2900 3844 2670 4047 \nQ 2441 4250 2034 4250 \nQ 1625 4250 1398 4047 \nQ 1172 3844 1172 3481 \nz\n\" transform=\"scale(0.015625)\"/>\n       </defs>\n       <use xlink:href=\"#DejaVuSans-38\"/>\n       <use xlink:href=\"#DejaVuSans-30\" x=\"63.623047\"/>\n       <use xlink:href=\"#DejaVuSans-30\" x=\"127.246094\"/>\n      </g>\n     </g>\n    </g>\n    <g id=\"ytick_6\">\n     <g id=\"line2d_10\">\n      <g>\n       <use xlink:href=\"#ma5b02fe5f3\" x=\"53.328125\" y=\"89.278049\" style=\"stroke: #000000; stroke-width: 0.8\"/>\n      </g>\n     </g>\n     <g id=\"text_11\">\n      <!-- 1000 -->\n      <g transform=\"translate(20.878125 93.077268) scale(0.1 -0.1)\">\n       <use xlink:href=\"#DejaVuSans-31\"/>\n       <use xlink:href=\"#DejaVuSans-30\" x=\"63.623047\"/>\n       <use xlink:href=\"#DejaVuSans-30\" x=\"127.246094\"/>\n       <use xlink:href=\"#DejaVuSans-30\" x=\"190.869141\"/>\n      </g>\n     </g>\n    </g>\n    <g id=\"ytick_7\">\n     <g id=\"line2d_11\">\n      <g>\n       <use xlink:href=\"#ma5b02fe5f3\" x=\"53.328125\" y=\"50.253659\" style=\"stroke: #000000; stroke-width: 0.8\"/>\n      </g>\n     </g>\n     <g id=\"text_12\">\n      <!-- 1200 -->\n      <g transform=\"translate(20.878125 54.052877) scale(0.1 -0.1)\">\n       <use xlink:href=\"#DejaVuSans-31\"/>\n       <use xlink:href=\"#DejaVuSans-32\" x=\"63.623047\"/>\n       <use xlink:href=\"#DejaVuSans-30\" x=\"127.246094\"/>\n       <use xlink:href=\"#DejaVuSans-30\" x=\"190.869141\"/>\n      </g>\n     </g>\n    </g>\n    <g id=\"ytick_8\">\n     <g id=\"line2d_12\">\n      <g>\n       <use xlink:href=\"#ma5b02fe5f3\" x=\"53.328125\" y=\"11.229268\" style=\"stroke: #000000; stroke-width: 0.8\"/>\n      </g>\n     </g>\n     <g id=\"text_13\">\n      <!-- 1400 -->\n      <g transform=\"translate(20.878125 15.028487) scale(0.1 -0.1)\">\n       <use xlink:href=\"#DejaVuSans-31\"/>\n       <use xlink:href=\"#DejaVuSans-34\" x=\"63.623047\"/>\n       <use xlink:href=\"#DejaVuSans-30\" x=\"127.246094\"/>\n       <use xlink:href=\"#DejaVuSans-30\" x=\"190.869141\"/>\n      </g>\n     </g>\n    </g>\n    <g id=\"text_14\">\n     <!-- count -->\n     <g transform=\"translate(14.798438 159.90625) rotate(-90) scale(0.1 -0.1)\">\n      <defs>\n       <path id=\"DejaVuSans-63\" d=\"M 3122 3366 \nL 3122 2828 \nQ 2878 2963 2633 3030 \nQ 2388 3097 2138 3097 \nQ 1578 3097 1268 2742 \nQ 959 2388 959 1747 \nQ 959 1106 1268 751 \nQ 1578 397 2138 397 \nQ 2388 397 2633 464 \nQ 2878 531 3122 666 \nL 3122 134 \nQ 2881 22 2623 -34 \nQ 2366 -91 2075 -91 \nQ 1284 -91 818 406 \nQ 353 903 353 1747 \nQ 353 2603 823 3093 \nQ 1294 3584 2113 3584 \nQ 2378 3584 2631 3529 \nQ 2884 3475 3122 3366 \nz\n\" transform=\"scale(0.015625)\"/>\n       <path id=\"DejaVuSans-6f\" d=\"M 1959 3097 \nQ 1497 3097 1228 2736 \nQ 959 2375 959 1747 \nQ 959 1119 1226 758 \nQ 1494 397 1959 397 \nQ 2419 397 2687 759 \nQ 2956 1122 2956 1747 \nQ 2956 2369 2687 2733 \nQ 2419 3097 1959 3097 \nz\nM 1959 3584 \nQ 2709 3584 3137 3096 \nQ 3566 2609 3566 1747 \nQ 3566 888 3137 398 \nQ 2709 -91 1959 -91 \nQ 1206 -91 779 398 \nQ 353 888 353 1747 \nQ 353 2609 779 3096 \nQ 1206 3584 1959 3584 \nz\n\" transform=\"scale(0.015625)\"/>\n      </defs>\n      <use xlink:href=\"#DejaVuSans-63\"/>\n      <use xlink:href=\"#DejaVuSans-6f\" x=\"54.980469\"/>\n      <use xlink:href=\"#DejaVuSans-75\" x=\"116.162109\"/>\n      <use xlink:href=\"#DejaVuSans-6e\" x=\"179.541016\"/>\n      <use xlink:href=\"#DejaVuSans-74\" x=\"242.919922\"/>\n     </g>\n    </g>\n   </g>\n   <g id=\"patch_7\">\n    <path d=\"M 53.328125 284.4 \nL 53.328125 7.2 \n\" style=\"fill: none; stroke: #000000; stroke-width: 0.8; stroke-linejoin: miter; stroke-linecap: square\"/>\n   </g>\n   <g id=\"patch_8\">\n    <path d=\"M 433.78267 284.4 \nL 433.78267 7.2 \n\" style=\"fill: none; stroke: #000000; stroke-width: 0.8; stroke-linejoin: miter; stroke-linecap: square\"/>\n   </g>\n   <g id=\"patch_9\">\n    <path d=\"M 53.328125 284.4 \nL 433.78267 284.4 \n\" style=\"fill: none; stroke: #000000; stroke-width: 0.8; stroke-linejoin: miter; stroke-linecap: square\"/>\n   </g>\n   <g id=\"patch_10\">\n    <path d=\"M 53.328125 7.2 \nL 433.78267 7.2 \n\" style=\"fill: none; stroke: #000000; stroke-width: 0.8; stroke-linejoin: miter; stroke-linecap: square\"/>\n   </g>\n  </g>\n  <g id=\"axes_2\">\n   <g id=\"patch_11\">\n    <path d=\"M 509.87358 284.4 \nL 890.328125 284.4 \nL 890.328125 7.2 \nL 509.87358 7.2 \nz\n\" style=\"fill: #ffffff\"/>\n   </g>\n   <g id=\"patch_12\">\n    <path d=\"M 509.87358 8.355 \nL 872.211242 8.355 \nL 872.211242 17.595 \nL 509.87358 17.595 \nz\n\" clip-path=\"url(#p79146c5222)\" style=\"fill: #ea96a3\"/>\n   </g>\n   <g id=\"patch_13\">\n    <path d=\"M 509.87358 19.905 \nL 818.271007 19.905 \nL 818.271007 29.145 \nL 509.87358 29.145 \nz\n\" clip-path=\"url(#p79146c5222)\" style=\"fill: #e8968a\"/>\n   </g>\n   <g id=\"patch_14\">\n    <path d=\"M 509.87358 31.455 \nL 797.163959 31.455 \nL 797.163959 40.695 \nL 509.87358 40.695 \nz\n\" clip-path=\"url(#p79146c5222)\" style=\"fill: #e19153\"/>\n   </g>\n   <g id=\"patch_15\">\n    <path d=\"M 509.87358 43.005 \nL 778.402138 43.005 \nL 778.402138 52.245 \nL 509.87358 52.245 \nz\n\" clip-path=\"url(#p79146c5222)\" style=\"fill: #ca984c\"/>\n   </g>\n   <g id=\"patch_16\">\n    <path d=\"M 509.87358 54.555 \nL 747.91418 54.555 \nL 747.91418 63.795 \nL 509.87358 63.795 \nz\n\" clip-path=\"url(#p79146c5222)\" style=\"fill: #b89c49\"/>\n   </g>\n   <g id=\"patch_17\">\n    <path d=\"M 509.87358 66.105 \nL 740.878497 66.105 \nL 740.878497 75.345 \nL 509.87358 75.345 \nz\n\" clip-path=\"url(#p79146c5222)\" style=\"fill: #a89e47\"/>\n   </g>\n   <g id=\"patch_18\">\n    <path d=\"M 509.87358 77.655 \nL 722.116676 77.655 \nL 722.116676 86.895 \nL 509.87358 86.895 \nz\n\" clip-path=\"url(#p79146c5222)\" style=\"fill: #98a246\"/>\n   </g>\n   <g id=\"patch_19\">\n    <path d=\"M 509.87358 89.205 \nL 669.349056 89.205 \nL 669.349056 98.445 \nL 509.87358 98.445 \nz\n\" clip-path=\"url(#p79146c5222)\" style=\"fill: #84a846\"/>\n   </g>\n   <g id=\"patch_20\">\n    <path d=\"M 509.87358 100.755 \nL 637.688483 100.755 \nL 637.688483 109.995 \nL 509.87358 109.995 \nz\n\" clip-path=\"url(#p79146c5222)\" style=\"fill: #60ae47\"/>\n   </g>\n   <g id=\"patch_21\">\n    <path d=\"M 509.87358 112.305 \nL 630.6528 112.305 \nL 630.6528 121.545 \nL 509.87358 121.545 \nz\n\" clip-path=\"url(#p79146c5222)\" style=\"fill: #49af72\"/>\n   </g>\n   <g id=\"patch_22\">\n    <path d=\"M 509.87358 123.855 \nL 575.539952 123.855 \nL 575.539952 133.095 \nL 509.87358 133.095 \nz\n\" clip-path=\"url(#p79146c5222)\" style=\"fill: #4aae8a\"/>\n   </g>\n   <g id=\"patch_23\">\n    <path d=\"M 509.87358 135.405 \nL 574.367338 135.405 \nL 574.367338 144.645 \nL 509.87358 144.645 \nz\n\" clip-path=\"url(#p79146c5222)\" style=\"fill: #4aac99\"/>\n   </g>\n   <g id=\"patch_24\">\n    <path d=\"M 509.87358 146.955 \nL 568.504269 146.955 \nL 568.504269 156.195 \nL 509.87358 156.195 \nz\n\" clip-path=\"url(#p79146c5222)\" style=\"fill: #4baba4\"/>\n   </g>\n   <g id=\"patch_25\">\n    <path d=\"M 509.87358 158.505 \nL 567.331655 158.505 \nL 567.331655 167.745 \nL 509.87358 167.745 \nz\n\" clip-path=\"url(#p79146c5222)\" style=\"fill: #4cabaf\"/>\n   </g>\n   <g id=\"patch_26\">\n    <path d=\"M 509.87358 170.055 \nL 560.295973 170.055 \nL 560.295973 179.295 \nL 509.87358 179.295 \nz\n\" clip-path=\"url(#p79146c5222)\" style=\"fill: #4fabbc\"/>\n   </g>\n   <g id=\"patch_27\">\n    <path d=\"M 509.87358 181.605 \nL 546.224607 181.605 \nL 546.224607 190.845 \nL 509.87358 190.845 \nz\n\" clip-path=\"url(#p79146c5222)\" style=\"fill: #53accd\"/>\n   </g>\n   <g id=\"patch_28\">\n    <path d=\"M 509.87358 193.155 \nL 539.188924 193.155 \nL 539.188924 202.395 \nL 509.87358 202.395 \nz\n\" clip-path=\"url(#p79146c5222)\" style=\"fill: #6daee2\"/>\n   </g>\n   <g id=\"patch_29\">\n    <path d=\"M 509.87358 204.705 \nL 538.016311 204.705 \nL 538.016311 213.945 \nL 509.87358 213.945 \nz\n\" clip-path=\"url(#p79146c5222)\" style=\"fill: #9bade9\"/>\n   </g>\n   <g id=\"patch_30\">\n    <path d=\"M 509.87358 216.255 \nL 533.325855 216.255 \nL 533.325855 225.495 \nL 509.87358 225.495 \nz\n\" clip-path=\"url(#p79146c5222)\" style=\"fill: #b6a8eb\"/>\n   </g>\n   <g id=\"patch_31\">\n    <path d=\"M 509.87358 227.805 \nL 530.980628 227.805 \nL 530.980628 237.045 \nL 509.87358 237.045 \nz\n\" clip-path=\"url(#p79146c5222)\" style=\"fill: #ca9ee9\"/>\n   </g>\n   <g id=\"patch_32\">\n    <path d=\"M 509.87358 239.355 \nL 527.462786 239.355 \nL 527.462786 248.595 \nL 509.87358 248.595 \nz\n\" clip-path=\"url(#p79146c5222)\" style=\"fill: #df8fe7\"/>\n   </g>\n   <g id=\"patch_33\">\n    <path d=\"M 509.87358 250.905 \nL 519.25449 250.905 \nL 519.25449 260.145 \nL 509.87358 260.145 \nz\n\" clip-path=\"url(#p79146c5222)\" style=\"fill: #e78cd7\"/>\n   </g>\n   <g id=\"patch_34\">\n    <path d=\"M 509.87358 262.455 \nL 516.909262 262.455 \nL 516.909262 271.695 \nL 509.87358 271.695 \nz\n\" clip-path=\"url(#p79146c5222)\" style=\"fill: #e890c6\"/>\n   </g>\n   <g id=\"patch_35\">\n    <path d=\"M 509.87358 274.005 \nL 516.909262 274.005 \nL 516.909262 283.245 \nL 509.87358 283.245 \nz\n\" clip-path=\"url(#p79146c5222)\" style=\"fill: #e993b6\"/>\n   </g>\n   <g id=\"matplotlib.axis_3\">\n    <g id=\"xtick_5\">\n     <g id=\"line2d_13\">\n      <g>\n       <use xlink:href=\"#m65487085bc\" x=\"509.87358\" y=\"284.4\" style=\"stroke: #000000; stroke-width: 0.8\"/>\n      </g>\n     </g>\n     <g id=\"text_15\">\n      <!-- 0 -->\n      <g transform=\"translate(506.69233 298.998438) scale(0.1 -0.1)\">\n       <use xlink:href=\"#DejaVuSans-30\"/>\n      </g>\n     </g>\n    </g>\n    <g id=\"xtick_6\">\n     <g id=\"line2d_14\">\n      <g>\n       <use xlink:href=\"#m65487085bc\" x=\"568.504269\" y=\"284.4\" style=\"stroke: #000000; stroke-width: 0.8\"/>\n      </g>\n     </g>\n     <g id=\"text_16\">\n      <!-- 50 -->\n      <g transform=\"translate(562.141769 298.998438) scale(0.1 -0.1)\">\n       <defs>\n        <path id=\"DejaVuSans-35\" d=\"M 691 4666 \nL 3169 4666 \nL 3169 4134 \nL 1269 4134 \nL 1269 2991 \nQ 1406 3038 1543 3061 \nQ 1681 3084 1819 3084 \nQ 2600 3084 3056 2656 \nQ 3513 2228 3513 1497 \nQ 3513 744 3044 326 \nQ 2575 -91 1722 -91 \nQ 1428 -91 1123 -41 \nQ 819 9 494 109 \nL 494 744 \nQ 775 591 1075 516 \nQ 1375 441 1709 441 \nQ 2250 441 2565 725 \nQ 2881 1009 2881 1497 \nQ 2881 1984 2565 2268 \nQ 2250 2553 1709 2553 \nQ 1456 2553 1204 2497 \nQ 953 2441 691 2322 \nL 691 4666 \nz\n\" transform=\"scale(0.015625)\"/>\n       </defs>\n       <use xlink:href=\"#DejaVuSans-35\"/>\n       <use xlink:href=\"#DejaVuSans-30\" x=\"63.623047\"/>\n      </g>\n     </g>\n    </g>\n    <g id=\"xtick_7\">\n     <g id=\"line2d_15\">\n      <g>\n       <use xlink:href=\"#m65487085bc\" x=\"627.134959\" y=\"284.4\" style=\"stroke: #000000; stroke-width: 0.8\"/>\n      </g>\n     </g>\n     <g id=\"text_17\">\n      <!-- 100 -->\n      <g transform=\"translate(617.591209 298.998438) scale(0.1 -0.1)\">\n       <use xlink:href=\"#DejaVuSans-31\"/>\n       <use xlink:href=\"#DejaVuSans-30\" x=\"63.623047\"/>\n       <use xlink:href=\"#DejaVuSans-30\" x=\"127.246094\"/>\n      </g>\n     </g>\n    </g>\n    <g id=\"xtick_8\">\n     <g id=\"line2d_16\">\n      <g>\n       <use xlink:href=\"#m65487085bc\" x=\"685.765649\" y=\"284.4\" style=\"stroke: #000000; stroke-width: 0.8\"/>\n      </g>\n     </g>\n     <g id=\"text_18\">\n      <!-- 150 -->\n      <g transform=\"translate(676.221899 298.998438) scale(0.1 -0.1)\">\n       <use xlink:href=\"#DejaVuSans-31\"/>\n       <use xlink:href=\"#DejaVuSans-35\" x=\"63.623047\"/>\n       <use xlink:href=\"#DejaVuSans-30\" x=\"127.246094\"/>\n      </g>\n     </g>\n    </g>\n    <g id=\"xtick_9\">\n     <g id=\"line2d_17\">\n      <g>\n       <use xlink:href=\"#m65487085bc\" x=\"744.396338\" y=\"284.4\" style=\"stroke: #000000; stroke-width: 0.8\"/>\n      </g>\n     </g>\n     <g id=\"text_19\">\n      <!-- 200 -->\n      <g transform=\"translate(734.852588 298.998438) scale(0.1 -0.1)\">\n       <use xlink:href=\"#DejaVuSans-32\"/>\n       <use xlink:href=\"#DejaVuSans-30\" x=\"63.623047\"/>\n       <use xlink:href=\"#DejaVuSans-30\" x=\"127.246094\"/>\n      </g>\n     </g>\n    </g>\n    <g id=\"xtick_10\">\n     <g id=\"line2d_18\">\n      <g>\n       <use xlink:href=\"#m65487085bc\" x=\"803.027028\" y=\"284.4\" style=\"stroke: #000000; stroke-width: 0.8\"/>\n      </g>\n     </g>\n     <g id=\"text_20\">\n      <!-- 250 -->\n      <g transform=\"translate(793.483278 298.998438) scale(0.1 -0.1)\">\n       <use xlink:href=\"#DejaVuSans-32\"/>\n       <use xlink:href=\"#DejaVuSans-35\" x=\"63.623047\"/>\n       <use xlink:href=\"#DejaVuSans-30\" x=\"127.246094\"/>\n      </g>\n     </g>\n    </g>\n    <g id=\"xtick_11\">\n     <g id=\"line2d_19\">\n      <g>\n       <use xlink:href=\"#m65487085bc\" x=\"861.657718\" y=\"284.4\" style=\"stroke: #000000; stroke-width: 0.8\"/>\n      </g>\n     </g>\n     <g id=\"text_21\">\n      <!-- 300 -->\n      <g transform=\"translate(852.113968 298.998438) scale(0.1 -0.1)\">\n       <use xlink:href=\"#DejaVuSans-33\"/>\n       <use xlink:href=\"#DejaVuSans-30\" x=\"63.623047\"/>\n       <use xlink:href=\"#DejaVuSans-30\" x=\"127.246094\"/>\n      </g>\n     </g>\n    </g>\n    <g id=\"text_22\">\n     <!-- count -->\n     <g transform=\"translate(685.994602 312.676562) scale(0.1 -0.1)\">\n      <use xlink:href=\"#DejaVuSans-63\"/>\n      <use xlink:href=\"#DejaVuSans-6f\" x=\"54.980469\"/>\n      <use xlink:href=\"#DejaVuSans-75\" x=\"116.162109\"/>\n      <use xlink:href=\"#DejaVuSans-6e\" x=\"179.541016\"/>\n      <use xlink:href=\"#DejaVuSans-74\" x=\"242.919922\"/>\n     </g>\n    </g>\n   </g>\n   <g id=\"matplotlib.axis_4\">\n    <g id=\"ytick_9\">\n     <g id=\"line2d_20\">\n      <g>\n       <use xlink:href=\"#ma5b02fe5f3\" x=\"509.87358\" y=\"12.975\" style=\"stroke: #000000; stroke-width: 0.8\"/>\n      </g>\n     </g>\n     <g id=\"text_23\">\n      <!-- 5.0 -->\n      <g transform=\"translate(486.970455 16.774219) scale(0.1 -0.1)\">\n       <use xlink:href=\"#DejaVuSans-35\"/>\n       <use xlink:href=\"#DejaVuSans-2e\" x=\"63.623047\"/>\n       <use xlink:href=\"#DejaVuSans-30\" x=\"95.410156\"/>\n      </g>\n     </g>\n    </g>\n    <g id=\"ytick_10\">\n     <g id=\"line2d_21\">\n      <g>\n       <use xlink:href=\"#ma5b02fe5f3\" x=\"509.87358\" y=\"24.525\" style=\"stroke: #000000; stroke-width: 0.8\"/>\n      </g>\n     </g>\n     <g id=\"text_24\">\n      <!-- 3.0 -->\n      <g transform=\"translate(486.970455 28.324219) scale(0.1 -0.1)\">\n       <use xlink:href=\"#DejaVuSans-33\"/>\n       <use xlink:href=\"#DejaVuSans-2e\" x=\"63.623047\"/>\n       <use xlink:href=\"#DejaVuSans-30\" x=\"95.410156\"/>\n      </g>\n     </g>\n    </g>\n    <g id=\"ytick_11\">\n     <g id=\"line2d_22\">\n      <g>\n       <use xlink:href=\"#ma5b02fe5f3\" x=\"509.87358\" y=\"36.075\" style=\"stroke: #000000; stroke-width: 0.8\"/>\n      </g>\n     </g>\n     <g id=\"text_25\">\n      <!-- 4.0 -->\n      <g transform=\"translate(486.970455 39.874219) scale(0.1 -0.1)\">\n       <use xlink:href=\"#DejaVuSans-34\"/>\n       <use xlink:href=\"#DejaVuSans-2e\" x=\"63.623047\"/>\n       <use xlink:href=\"#DejaVuSans-30\" x=\"95.410156\"/>\n      </g>\n     </g>\n    </g>\n    <g id=\"ytick_12\">\n     <g id=\"line2d_23\">\n      <g>\n       <use xlink:href=\"#ma5b02fe5f3\" x=\"509.87358\" y=\"47.625\" style=\"stroke: #000000; stroke-width: 0.8\"/>\n      </g>\n     </g>\n     <g id=\"text_26\">\n      <!-- 24.0 -->\n      <g transform=\"translate(480.607955 51.424219) scale(0.1 -0.1)\">\n       <use xlink:href=\"#DejaVuSans-32\"/>\n       <use xlink:href=\"#DejaVuSans-34\" x=\"63.623047\"/>\n       <use xlink:href=\"#DejaVuSans-2e\" x=\"127.246094\"/>\n       <use xlink:href=\"#DejaVuSans-30\" x=\"159.033203\"/>\n      </g>\n     </g>\n    </g>\n    <g id=\"ytick_13\">\n     <g id=\"line2d_24\">\n      <g>\n       <use xlink:href=\"#ma5b02fe5f3\" x=\"509.87358\" y=\"59.175\" style=\"stroke: #000000; stroke-width: 0.8\"/>\n      </g>\n     </g>\n     <g id=\"text_27\">\n      <!-- 2.0 -->\n      <g transform=\"translate(486.970455 62.974219) scale(0.1 -0.1)\">\n       <use xlink:href=\"#DejaVuSans-32\"/>\n       <use xlink:href=\"#DejaVuSans-2e\" x=\"63.623047\"/>\n       <use xlink:href=\"#DejaVuSans-30\" x=\"95.410156\"/>\n      </g>\n     </g>\n    </g>\n    <g id=\"ytick_14\">\n     <g id=\"line2d_25\">\n      <g>\n       <use xlink:href=\"#ma5b02fe5f3\" x=\"509.87358\" y=\"70.725\" style=\"stroke: #000000; stroke-width: 0.8\"/>\n      </g>\n     </g>\n     <g id=\"text_28\">\n      <!-- 6.0 -->\n      <g transform=\"translate(486.970455 74.524219) scale(0.1 -0.1)\">\n       <use xlink:href=\"#DejaVuSans-36\"/>\n       <use xlink:href=\"#DejaVuSans-2e\" x=\"63.623047\"/>\n       <use xlink:href=\"#DejaVuSans-30\" x=\"95.410156\"/>\n      </g>\n     </g>\n    </g>\n    <g id=\"ytick_15\">\n     <g id=\"line2d_26\">\n      <g>\n       <use xlink:href=\"#ma5b02fe5f3\" x=\"509.87358\" y=\"82.275\" style=\"stroke: #000000; stroke-width: 0.8\"/>\n      </g>\n     </g>\n     <g id=\"text_29\">\n      <!-- 1.0 -->\n      <g transform=\"translate(486.970455 86.074219) scale(0.1 -0.1)\">\n       <use xlink:href=\"#DejaVuSans-31\"/>\n       <use xlink:href=\"#DejaVuSans-2e\" x=\"63.623047\"/>\n       <use xlink:href=\"#DejaVuSans-30\" x=\"95.410156\"/>\n      </g>\n     </g>\n    </g>\n    <g id=\"ytick_16\">\n     <g id=\"line2d_27\">\n      <g>\n       <use xlink:href=\"#ma5b02fe5f3\" x=\"509.87358\" y=\"93.825\" style=\"stroke: #000000; stroke-width: 0.8\"/>\n      </g>\n     </g>\n     <g id=\"text_30\">\n      <!-- 7.0 -->\n      <g transform=\"translate(486.970455 97.624219) scale(0.1 -0.1)\">\n       <defs>\n        <path id=\"DejaVuSans-37\" d=\"M 525 4666 \nL 3525 4666 \nL 3525 4397 \nL 1831 0 \nL 1172 0 \nL 2766 4134 \nL 525 4134 \nL 525 4666 \nz\n\" transform=\"scale(0.015625)\"/>\n       </defs>\n       <use xlink:href=\"#DejaVuSans-37\"/>\n       <use xlink:href=\"#DejaVuSans-2e\" x=\"63.623047\"/>\n       <use xlink:href=\"#DejaVuSans-30\" x=\"95.410156\"/>\n      </g>\n     </g>\n    </g>\n    <g id=\"ytick_17\">\n     <g id=\"line2d_28\">\n      <g>\n       <use xlink:href=\"#ma5b02fe5f3\" x=\"509.87358\" y=\"105.375\" style=\"stroke: #000000; stroke-width: 0.8\"/>\n      </g>\n     </g>\n     <g id=\"text_31\">\n      <!-- 9.0 -->\n      <g transform=\"translate(486.970455 109.174219) scale(0.1 -0.1)\">\n       <defs>\n        <path id=\"DejaVuSans-39\" d=\"M 703 97 \nL 703 672 \nQ 941 559 1184 500 \nQ 1428 441 1663 441 \nQ 2288 441 2617 861 \nQ 2947 1281 2994 2138 \nQ 2813 1869 2534 1725 \nQ 2256 1581 1919 1581 \nQ 1219 1581 811 2004 \nQ 403 2428 403 3163 \nQ 403 3881 828 4315 \nQ 1253 4750 1959 4750 \nQ 2769 4750 3195 4129 \nQ 3622 3509 3622 2328 \nQ 3622 1225 3098 567 \nQ 2575 -91 1691 -91 \nQ 1453 -91 1209 -44 \nQ 966 3 703 97 \nz\nM 1959 2075 \nQ 2384 2075 2632 2365 \nQ 2881 2656 2881 3163 \nQ 2881 3666 2632 3958 \nQ 2384 4250 1959 4250 \nQ 1534 4250 1286 3958 \nQ 1038 3666 1038 3163 \nQ 1038 2656 1286 2365 \nQ 1534 2075 1959 2075 \nz\n\" transform=\"scale(0.015625)\"/>\n       </defs>\n       <use xlink:href=\"#DejaVuSans-39\"/>\n       <use xlink:href=\"#DejaVuSans-2e\" x=\"63.623047\"/>\n       <use xlink:href=\"#DejaVuSans-30\" x=\"95.410156\"/>\n      </g>\n     </g>\n    </g>\n    <g id=\"ytick_18\">\n     <g id=\"line2d_29\">\n      <g>\n       <use xlink:href=\"#ma5b02fe5f3\" x=\"509.87358\" y=\"116.925\" style=\"stroke: #000000; stroke-width: 0.8\"/>\n      </g>\n     </g>\n     <g id=\"text_32\">\n      <!-- 8.0 -->\n      <g transform=\"translate(486.970455 120.724219) scale(0.1 -0.1)\">\n       <use xlink:href=\"#DejaVuSans-38\"/>\n       <use xlink:href=\"#DejaVuSans-2e\" x=\"63.623047\"/>\n       <use xlink:href=\"#DejaVuSans-30\" x=\"95.410156\"/>\n      </g>\n     </g>\n    </g>\n    <g id=\"ytick_19\">\n     <g id=\"line2d_30\">\n      <g>\n       <use xlink:href=\"#ma5b02fe5f3\" x=\"509.87358\" y=\"128.475\" style=\"stroke: #000000; stroke-width: 0.8\"/>\n      </g>\n     </g>\n     <g id=\"text_33\">\n      <!-- 10.0 -->\n      <g transform=\"translate(480.607955 132.274219) scale(0.1 -0.1)\">\n       <use xlink:href=\"#DejaVuSans-31\"/>\n       <use xlink:href=\"#DejaVuSans-30\" x=\"63.623047\"/>\n       <use xlink:href=\"#DejaVuSans-2e\" x=\"127.246094\"/>\n       <use xlink:href=\"#DejaVuSans-30\" x=\"159.033203\"/>\n      </g>\n     </g>\n    </g>\n    <g id=\"ytick_20\">\n     <g id=\"line2d_31\">\n      <g>\n       <use xlink:href=\"#ma5b02fe5f3\" x=\"509.87358\" y=\"140.025\" style=\"stroke: #000000; stroke-width: 0.8\"/>\n      </g>\n     </g>\n     <g id=\"text_34\">\n      <!-- 11.0 -->\n      <g transform=\"translate(480.607955 143.824219) scale(0.1 -0.1)\">\n       <use xlink:href=\"#DejaVuSans-31\"/>\n       <use xlink:href=\"#DejaVuSans-31\" x=\"63.623047\"/>\n       <use xlink:href=\"#DejaVuSans-2e\" x=\"127.246094\"/>\n       <use xlink:href=\"#DejaVuSans-30\" x=\"159.033203\"/>\n      </g>\n     </g>\n    </g>\n    <g id=\"ytick_21\">\n     <g id=\"line2d_32\">\n      <g>\n       <use xlink:href=\"#ma5b02fe5f3\" x=\"509.87358\" y=\"151.575\" style=\"stroke: #000000; stroke-width: 0.8\"/>\n      </g>\n     </g>\n     <g id=\"text_35\">\n      <!-- 13.0 -->\n      <g transform=\"translate(480.607955 155.374219) scale(0.1 -0.1)\">\n       <use xlink:href=\"#DejaVuSans-31\"/>\n       <use xlink:href=\"#DejaVuSans-33\" x=\"63.623047\"/>\n       <use xlink:href=\"#DejaVuSans-2e\" x=\"127.246094\"/>\n       <use xlink:href=\"#DejaVuSans-30\" x=\"159.033203\"/>\n      </g>\n     </g>\n    </g>\n    <g id=\"ytick_22\">\n     <g id=\"line2d_33\">\n      <g>\n       <use xlink:href=\"#ma5b02fe5f3\" x=\"509.87358\" y=\"163.125\" style=\"stroke: #000000; stroke-width: 0.8\"/>\n      </g>\n     </g>\n     <g id=\"text_36\">\n      <!-- 14.0 -->\n      <g transform=\"translate(480.607955 166.924219) scale(0.1 -0.1)\">\n       <use xlink:href=\"#DejaVuSans-31\"/>\n       <use xlink:href=\"#DejaVuSans-34\" x=\"63.623047\"/>\n       <use xlink:href=\"#DejaVuSans-2e\" x=\"127.246094\"/>\n       <use xlink:href=\"#DejaVuSans-30\" x=\"159.033203\"/>\n      </g>\n     </g>\n    </g>\n    <g id=\"ytick_23\">\n     <g id=\"line2d_34\">\n      <g>\n       <use xlink:href=\"#ma5b02fe5f3\" x=\"509.87358\" y=\"174.675\" style=\"stroke: #000000; stroke-width: 0.8\"/>\n      </g>\n     </g>\n     <g id=\"text_37\">\n      <!-- 12.0 -->\n      <g transform=\"translate(480.607955 178.474219) scale(0.1 -0.1)\">\n       <use xlink:href=\"#DejaVuSans-31\"/>\n       <use xlink:href=\"#DejaVuSans-32\" x=\"63.623047\"/>\n       <use xlink:href=\"#DejaVuSans-2e\" x=\"127.246094\"/>\n       <use xlink:href=\"#DejaVuSans-30\" x=\"159.033203\"/>\n      </g>\n     </g>\n    </g>\n    <g id=\"ytick_24\">\n     <g id=\"line2d_35\">\n      <g>\n       <use xlink:href=\"#ma5b02fe5f3\" x=\"509.87358\" y=\"186.225\" style=\"stroke: #000000; stroke-width: 0.8\"/>\n      </g>\n     </g>\n     <g id=\"text_38\">\n      <!-- 18.0 -->\n      <g transform=\"translate(480.607955 190.024219) scale(0.1 -0.1)\">\n       <use xlink:href=\"#DejaVuSans-31\"/>\n       <use xlink:href=\"#DejaVuSans-38\" x=\"63.623047\"/>\n       <use xlink:href=\"#DejaVuSans-2e\" x=\"127.246094\"/>\n       <use xlink:href=\"#DejaVuSans-30\" x=\"159.033203\"/>\n      </g>\n     </g>\n    </g>\n    <g id=\"ytick_25\">\n     <g id=\"line2d_36\">\n      <g>\n       <use xlink:href=\"#ma5b02fe5f3\" x=\"509.87358\" y=\"197.775\" style=\"stroke: #000000; stroke-width: 0.8\"/>\n      </g>\n     </g>\n     <g id=\"text_39\">\n      <!-- 15.0 -->\n      <g transform=\"translate(480.607955 201.574219) scale(0.1 -0.1)\">\n       <use xlink:href=\"#DejaVuSans-31\"/>\n       <use xlink:href=\"#DejaVuSans-35\" x=\"63.623047\"/>\n       <use xlink:href=\"#DejaVuSans-2e\" x=\"127.246094\"/>\n       <use xlink:href=\"#DejaVuSans-30\" x=\"159.033203\"/>\n      </g>\n     </g>\n    </g>\n    <g id=\"ytick_26\">\n     <g id=\"line2d_37\">\n      <g>\n       <use xlink:href=\"#ma5b02fe5f3\" x=\"509.87358\" y=\"209.325\" style=\"stroke: #000000; stroke-width: 0.8\"/>\n      </g>\n     </g>\n     <g id=\"text_40\">\n      <!-- 17.0 -->\n      <g transform=\"translate(480.607955 213.124219) scale(0.1 -0.1)\">\n       <use xlink:href=\"#DejaVuSans-31\"/>\n       <use xlink:href=\"#DejaVuSans-37\" x=\"63.623047\"/>\n       <use xlink:href=\"#DejaVuSans-2e\" x=\"127.246094\"/>\n       <use xlink:href=\"#DejaVuSans-30\" x=\"159.033203\"/>\n      </g>\n     </g>\n    </g>\n    <g id=\"ytick_27\">\n     <g id=\"line2d_38\">\n      <g>\n       <use xlink:href=\"#ma5b02fe5f3\" x=\"509.87358\" y=\"220.875\" style=\"stroke: #000000; stroke-width: 0.8\"/>\n      </g>\n     </g>\n     <g id=\"text_41\">\n      <!-- 19.0 -->\n      <g transform=\"translate(480.607955 224.674219) scale(0.1 -0.1)\">\n       <use xlink:href=\"#DejaVuSans-31\"/>\n       <use xlink:href=\"#DejaVuSans-39\" x=\"63.623047\"/>\n       <use xlink:href=\"#DejaVuSans-2e\" x=\"127.246094\"/>\n       <use xlink:href=\"#DejaVuSans-30\" x=\"159.033203\"/>\n      </g>\n     </g>\n    </g>\n    <g id=\"ytick_28\">\n     <g id=\"line2d_39\">\n      <g>\n       <use xlink:href=\"#ma5b02fe5f3\" x=\"509.87358\" y=\"232.425\" style=\"stroke: #000000; stroke-width: 0.8\"/>\n      </g>\n     </g>\n     <g id=\"text_42\">\n      <!-- 16.0 -->\n      <g transform=\"translate(480.607955 236.224219) scale(0.1 -0.1)\">\n       <use xlink:href=\"#DejaVuSans-31\"/>\n       <use xlink:href=\"#DejaVuSans-36\" x=\"63.623047\"/>\n       <use xlink:href=\"#DejaVuSans-2e\" x=\"127.246094\"/>\n       <use xlink:href=\"#DejaVuSans-30\" x=\"159.033203\"/>\n      </g>\n     </g>\n    </g>\n    <g id=\"ytick_29\">\n     <g id=\"line2d_40\">\n      <g>\n       <use xlink:href=\"#ma5b02fe5f3\" x=\"509.87358\" y=\"243.975\" style=\"stroke: #000000; stroke-width: 0.8\"/>\n      </g>\n     </g>\n     <g id=\"text_43\">\n      <!-- 20.0 -->\n      <g transform=\"translate(480.607955 247.774219) scale(0.1 -0.1)\">\n       <use xlink:href=\"#DejaVuSans-32\"/>\n       <use xlink:href=\"#DejaVuSans-30\" x=\"63.623047\"/>\n       <use xlink:href=\"#DejaVuSans-2e\" x=\"127.246094\"/>\n       <use xlink:href=\"#DejaVuSans-30\" x=\"159.033203\"/>\n      </g>\n     </g>\n    </g>\n    <g id=\"ytick_30\">\n     <g id=\"line2d_41\">\n      <g>\n       <use xlink:href=\"#ma5b02fe5f3\" x=\"509.87358\" y=\"255.525\" style=\"stroke: #000000; stroke-width: 0.8\"/>\n      </g>\n     </g>\n     <g id=\"text_44\">\n      <!-- 23.0 -->\n      <g transform=\"translate(480.607955 259.324219) scale(0.1 -0.1)\">\n       <use xlink:href=\"#DejaVuSans-32\"/>\n       <use xlink:href=\"#DejaVuSans-33\" x=\"63.623047\"/>\n       <use xlink:href=\"#DejaVuSans-2e\" x=\"127.246094\"/>\n       <use xlink:href=\"#DejaVuSans-30\" x=\"159.033203\"/>\n      </g>\n     </g>\n    </g>\n    <g id=\"ytick_31\">\n     <g id=\"line2d_42\">\n      <g>\n       <use xlink:href=\"#ma5b02fe5f3\" x=\"509.87358\" y=\"267.075\" style=\"stroke: #000000; stroke-width: 0.8\"/>\n      </g>\n     </g>\n     <g id=\"text_45\">\n      <!-- 21.0 -->\n      <g transform=\"translate(480.607955 270.874219) scale(0.1 -0.1)\">\n       <use xlink:href=\"#DejaVuSans-32\"/>\n       <use xlink:href=\"#DejaVuSans-31\" x=\"63.623047\"/>\n       <use xlink:href=\"#DejaVuSans-2e\" x=\"127.246094\"/>\n       <use xlink:href=\"#DejaVuSans-30\" x=\"159.033203\"/>\n      </g>\n     </g>\n    </g>\n    <g id=\"ytick_32\">\n     <g id=\"line2d_43\">\n      <g>\n       <use xlink:href=\"#ma5b02fe5f3\" x=\"509.87358\" y=\"278.625\" style=\"stroke: #000000; stroke-width: 0.8\"/>\n      </g>\n     </g>\n     <g id=\"text_46\">\n      <!-- 22.0 -->\n      <g transform=\"translate(480.607955 282.424219) scale(0.1 -0.1)\">\n       <use xlink:href=\"#DejaVuSans-32\"/>\n       <use xlink:href=\"#DejaVuSans-32\" x=\"63.623047\"/>\n       <use xlink:href=\"#DejaVuSans-2e\" x=\"127.246094\"/>\n       <use xlink:href=\"#DejaVuSans-30\" x=\"159.033203\"/>\n      </g>\n     </g>\n    </g>\n    <g id=\"text_47\">\n     <!-- number_month -->\n     <g transform=\"translate(474.250142 184.041406) rotate(-90) scale(0.1 -0.1)\">\n      <defs>\n       <path id=\"DejaVuSans-6d\" d=\"M 3328 2828 \nQ 3544 3216 3844 3400 \nQ 4144 3584 4550 3584 \nQ 5097 3584 5394 3201 \nQ 5691 2819 5691 2113 \nL 5691 0 \nL 5113 0 \nL 5113 2094 \nQ 5113 2597 4934 2840 \nQ 4756 3084 4391 3084 \nQ 3944 3084 3684 2787 \nQ 3425 2491 3425 1978 \nL 3425 0 \nL 2847 0 \nL 2847 2094 \nQ 2847 2600 2669 2842 \nQ 2491 3084 2119 3084 \nQ 1678 3084 1418 2786 \nQ 1159 2488 1159 1978 \nL 1159 0 \nL 581 0 \nL 581 3500 \nL 1159 3500 \nL 1159 2956 \nQ 1356 3278 1631 3431 \nQ 1906 3584 2284 3584 \nQ 2666 3584 2933 3390 \nQ 3200 3197 3328 2828 \nz\n\" transform=\"scale(0.015625)\"/>\n       <path id=\"DejaVuSans-62\" d=\"M 3116 1747 \nQ 3116 2381 2855 2742 \nQ 2594 3103 2138 3103 \nQ 1681 3103 1420 2742 \nQ 1159 2381 1159 1747 \nQ 1159 1113 1420 752 \nQ 1681 391 2138 391 \nQ 2594 391 2855 752 \nQ 3116 1113 3116 1747 \nz\nM 1159 2969 \nQ 1341 3281 1617 3432 \nQ 1894 3584 2278 3584 \nQ 2916 3584 3314 3078 \nQ 3713 2572 3713 1747 \nQ 3713 922 3314 415 \nQ 2916 -91 2278 -91 \nQ 1894 -91 1617 61 \nQ 1341 213 1159 525 \nL 1159 0 \nL 581 0 \nL 581 4863 \nL 1159 4863 \nL 1159 2969 \nz\n\" transform=\"scale(0.015625)\"/>\n       <path id=\"DejaVuSans-5f\" d=\"M 3263 -1063 \nL 3263 -1509 \nL -63 -1509 \nL -63 -1063 \nL 3263 -1063 \nz\n\" transform=\"scale(0.015625)\"/>\n       <path id=\"DejaVuSans-68\" d=\"M 3513 2113 \nL 3513 0 \nL 2938 0 \nL 2938 2094 \nQ 2938 2591 2744 2837 \nQ 2550 3084 2163 3084 \nQ 1697 3084 1428 2787 \nQ 1159 2491 1159 1978 \nL 1159 0 \nL 581 0 \nL 581 4863 \nL 1159 4863 \nL 1159 2956 \nQ 1366 3272 1645 3428 \nQ 1925 3584 2291 3584 \nQ 2894 3584 3203 3211 \nQ 3513 2838 3513 2113 \nz\n\" transform=\"scale(0.015625)\"/>\n      </defs>\n      <use xlink:href=\"#DejaVuSans-6e\"/>\n      <use xlink:href=\"#DejaVuSans-75\" x=\"63.378906\"/>\n      <use xlink:href=\"#DejaVuSans-6d\" x=\"126.757812\"/>\n      <use xlink:href=\"#DejaVuSans-62\" x=\"224.169922\"/>\n      <use xlink:href=\"#DejaVuSans-65\" x=\"287.646484\"/>\n      <use xlink:href=\"#DejaVuSans-72\" x=\"349.169922\"/>\n      <use xlink:href=\"#DejaVuSans-5f\" x=\"390.283203\"/>\n      <use xlink:href=\"#DejaVuSans-6d\" x=\"440.283203\"/>\n      <use xlink:href=\"#DejaVuSans-6f\" x=\"537.695312\"/>\n      <use xlink:href=\"#DejaVuSans-6e\" x=\"598.876953\"/>\n      <use xlink:href=\"#DejaVuSans-74\" x=\"662.255859\"/>\n      <use xlink:href=\"#DejaVuSans-68\" x=\"701.464844\"/>\n     </g>\n    </g>\n   </g>\n   <g id=\"patch_36\">\n    <path d=\"M 509.87358 284.4 \nL 509.87358 7.2 \n\" style=\"fill: none; stroke: #000000; stroke-width: 0.8; stroke-linejoin: miter; stroke-linecap: square\"/>\n   </g>\n   <g id=\"patch_37\">\n    <path d=\"M 890.328125 284.4 \nL 890.328125 7.2 \n\" style=\"fill: none; stroke: #000000; stroke-width: 0.8; stroke-linejoin: miter; stroke-linecap: square\"/>\n   </g>\n   <g id=\"patch_38\">\n    <path d=\"M 509.87358 284.4 \nL 890.328125 284.4 \n\" style=\"fill: none; stroke: #000000; stroke-width: 0.8; stroke-linejoin: miter; stroke-linecap: square\"/>\n   </g>\n   <g id=\"patch_39\">\n    <path d=\"M 509.87358 7.2 \nL 890.328125 7.2 \n\" style=\"fill: none; stroke: #000000; stroke-width: 0.8; stroke-linejoin: miter; stroke-linecap: square\"/>\n   </g>\n  </g>\n </g>\n <defs>\n  <clipPath id=\"pbfcdcc6a13\">\n   <rect x=\"53.328125\" y=\"7.2\" width=\"380.454545\" height=\"277.2\"/>\n  </clipPath>\n  <clipPath id=\"p79146c5222\">\n   <rect x=\"509.87358\" y=\"7.2\" width=\"380.454545\" height=\"277.2\"/>\n  </clipPath>\n </defs>\n</svg>\n"
          },
          "metadata": {}
        },
        {
          "output_type": "stream",
          "name": "stdout",
          "text": [
            "Top 3 month count\n"
          ]
        },
        {
          "output_type": "execute_result",
          "data": {
            "text/plain": [
              "5.0    309\n",
              "3.0    263\n",
              "4.0    245\n",
              "Name: number_month, dtype: int64"
            ]
          },
          "metadata": {},
          "execution_count": 33
        }
      ]
    },
    {
      "cell_type": "code",
      "source": [
        "sns.countplot(x=df_final[\"Education_Level\"])"
      ],
      "metadata": {
        "colab": {
          "base_uri": "https://localhost:8080/"
        },
        "id": "xaTP9o7BZdsD",
        "outputId": "b6afffed-d0c4-4134-af71-43d0806bbfd0"
      },
      "execution_count": null,
      "outputs": [
        {
          "output_type": "execute_result",
          "data": {
            "text/plain": [
              "<Axes: xlabel='Education_Level', ylabel='count'>"
            ]
          },
          "metadata": {},
          "execution_count": 34
        },
        {
          "output_type": "display_data",
          "data": {
            "text/plain": [
              "<Figure size 640x480 with 1 Axes>"
            ],
            "image/svg+xml": "<?xml version=\"1.0\" encoding=\"utf-8\" standalone=\"no\"?>\n<!DOCTYPE svg PUBLIC \"-//W3C//DTD SVG 1.1//EN\"\n  \"http://www.w3.org/Graphics/SVG/1.1/DTD/svg11.dtd\">\n<svg xmlns:xlink=\"http://www.w3.org/1999/xlink\" width=\"411.285625pt\" height=\"311.146375pt\" viewBox=\"0 0 411.285625 311.146375\" xmlns=\"http://www.w3.org/2000/svg\" version=\"1.1\">\n <metadata>\n  <rdf:RDF xmlns:dc=\"http://purl.org/dc/elements/1.1/\" xmlns:cc=\"http://creativecommons.org/ns#\" xmlns:rdf=\"http://www.w3.org/1999/02/22-rdf-syntax-ns#\">\n   <cc:Work>\n    <dc:type rdf:resource=\"http://purl.org/dc/dcmitype/StillImage\"/>\n    <dc:date>2023-07-12T06:34:03.681310</dc:date>\n    <dc:format>image/svg+xml</dc:format>\n    <dc:creator>\n     <cc:Agent>\n      <dc:title>Matplotlib v3.7.1, https://matplotlib.org/</dc:title>\n     </cc:Agent>\n    </dc:creator>\n   </cc:Work>\n  </rdf:RDF>\n </metadata>\n <defs>\n  <style type=\"text/css\">*{stroke-linejoin: round; stroke-linecap: butt}</style>\n </defs>\n <g id=\"figure_1\">\n  <g id=\"patch_1\">\n   <path d=\"M 0 311.146375 \nL 411.285625 311.146375 \nL 411.285625 0 \nL 0 0 \nz\n\" style=\"fill: #ffffff\"/>\n  </g>\n  <g id=\"axes_1\">\n   <g id=\"patch_2\">\n    <path d=\"M 46.965625 273.312 \nL 404.085625 273.312 \nL 404.085625 7.2 \nL 46.965625 7.2 \nz\n\" style=\"fill: #ffffff\"/>\n   </g>\n   <g id=\"patch_3\">\n    <path d=\"M 58.869625 273.312 \nL 154.101625 273.312 \nL 154.101625 25.56018 \nL 58.869625 25.56018 \nz\n\" clip-path=\"url(#pe82bab57ad)\" style=\"fill: #3274a1\"/>\n   </g>\n   <g id=\"patch_4\">\n    <path d=\"M 177.909625 273.312 \nL 273.141625 273.312 \nL 273.141625 22.08407 \nL 177.909625 22.08407 \nz\n\" clip-path=\"url(#pe82bab57ad)\" style=\"fill: #e1812c\"/>\n   </g>\n   <g id=\"patch_5\">\n    <path d=\"M 296.949625 273.312 \nL 392.181625 273.312 \nL 392.181625 19.872 \nL 296.949625 19.872 \nz\n\" clip-path=\"url(#pe82bab57ad)\" style=\"fill: #3a923a\"/>\n   </g>\n   <g id=\"matplotlib.axis_1\">\n    <g id=\"xtick_1\">\n     <g id=\"line2d_1\">\n      <defs>\n       <path id=\"m18979c848b\" d=\"M 0 0 \nL 0 3.5 \n\" style=\"stroke: #000000; stroke-width: 0.8\"/>\n      </defs>\n      <g>\n       <use xlink:href=\"#m18979c848b\" x=\"106.485625\" y=\"273.312\" style=\"stroke: #000000; stroke-width: 0.8\"/>\n      </g>\n     </g>\n     <g id=\"text_1\">\n      <!-- 0 -->\n      <g transform=\"translate(103.304375 287.910437) scale(0.1 -0.1)\">\n       <defs>\n        <path id=\"DejaVuSans-30\" d=\"M 2034 4250 \nQ 1547 4250 1301 3770 \nQ 1056 3291 1056 2328 \nQ 1056 1369 1301 889 \nQ 1547 409 2034 409 \nQ 2525 409 2770 889 \nQ 3016 1369 3016 2328 \nQ 3016 3291 2770 3770 \nQ 2525 4250 2034 4250 \nz\nM 2034 4750 \nQ 2819 4750 3233 4129 \nQ 3647 3509 3647 2328 \nQ 3647 1150 3233 529 \nQ 2819 -91 2034 -91 \nQ 1250 -91 836 529 \nQ 422 1150 422 2328 \nQ 422 3509 836 4129 \nQ 1250 4750 2034 4750 \nz\n\" transform=\"scale(0.015625)\"/>\n       </defs>\n       <use xlink:href=\"#DejaVuSans-30\"/>\n      </g>\n     </g>\n    </g>\n    <g id=\"xtick_2\">\n     <g id=\"line2d_2\">\n      <g>\n       <use xlink:href=\"#m18979c848b\" x=\"225.525625\" y=\"273.312\" style=\"stroke: #000000; stroke-width: 0.8\"/>\n      </g>\n     </g>\n     <g id=\"text_2\">\n      <!-- 1 -->\n      <g transform=\"translate(222.344375 287.910437) scale(0.1 -0.1)\">\n       <defs>\n        <path id=\"DejaVuSans-31\" d=\"M 794 531 \nL 1825 531 \nL 1825 4091 \nL 703 3866 \nL 703 4441 \nL 1819 4666 \nL 2450 4666 \nL 2450 531 \nL 3481 531 \nL 3481 0 \nL 794 0 \nL 794 531 \nz\n\" transform=\"scale(0.015625)\"/>\n       </defs>\n       <use xlink:href=\"#DejaVuSans-31\"/>\n      </g>\n     </g>\n    </g>\n    <g id=\"xtick_3\">\n     <g id=\"line2d_3\">\n      <g>\n       <use xlink:href=\"#m18979c848b\" x=\"344.565625\" y=\"273.312\" style=\"stroke: #000000; stroke-width: 0.8\"/>\n      </g>\n     </g>\n     <g id=\"text_3\">\n      <!-- 2 -->\n      <g transform=\"translate(341.384375 287.910437) scale(0.1 -0.1)\">\n       <defs>\n        <path id=\"DejaVuSans-32\" d=\"M 1228 531 \nL 3431 531 \nL 3431 0 \nL 469 0 \nL 469 531 \nQ 828 903 1448 1529 \nQ 2069 2156 2228 2338 \nQ 2531 2678 2651 2914 \nQ 2772 3150 2772 3378 \nQ 2772 3750 2511 3984 \nQ 2250 4219 1831 4219 \nQ 1534 4219 1204 4116 \nQ 875 4013 500 3803 \nL 500 4441 \nQ 881 4594 1212 4672 \nQ 1544 4750 1819 4750 \nQ 2544 4750 2975 4387 \nQ 3406 4025 3406 3419 \nQ 3406 3131 3298 2873 \nQ 3191 2616 2906 2266 \nQ 2828 2175 2409 1742 \nQ 1991 1309 1228 531 \nz\n\" transform=\"scale(0.015625)\"/>\n       </defs>\n       <use xlink:href=\"#DejaVuSans-32\"/>\n      </g>\n     </g>\n    </g>\n    <g id=\"text_4\">\n     <!-- Education_Level -->\n     <g transform=\"translate(184.932656 301.588562) scale(0.1 -0.1)\">\n      <defs>\n       <path id=\"DejaVuSans-45\" d=\"M 628 4666 \nL 3578 4666 \nL 3578 4134 \nL 1259 4134 \nL 1259 2753 \nL 3481 2753 \nL 3481 2222 \nL 1259 2222 \nL 1259 531 \nL 3634 531 \nL 3634 0 \nL 628 0 \nL 628 4666 \nz\n\" transform=\"scale(0.015625)\"/>\n       <path id=\"DejaVuSans-64\" d=\"M 2906 2969 \nL 2906 4863 \nL 3481 4863 \nL 3481 0 \nL 2906 0 \nL 2906 525 \nQ 2725 213 2448 61 \nQ 2172 -91 1784 -91 \nQ 1150 -91 751 415 \nQ 353 922 353 1747 \nQ 353 2572 751 3078 \nQ 1150 3584 1784 3584 \nQ 2172 3584 2448 3432 \nQ 2725 3281 2906 2969 \nz\nM 947 1747 \nQ 947 1113 1208 752 \nQ 1469 391 1925 391 \nQ 2381 391 2643 752 \nQ 2906 1113 2906 1747 \nQ 2906 2381 2643 2742 \nQ 2381 3103 1925 3103 \nQ 1469 3103 1208 2742 \nQ 947 2381 947 1747 \nz\n\" transform=\"scale(0.015625)\"/>\n       <path id=\"DejaVuSans-75\" d=\"M 544 1381 \nL 544 3500 \nL 1119 3500 \nL 1119 1403 \nQ 1119 906 1312 657 \nQ 1506 409 1894 409 \nQ 2359 409 2629 706 \nQ 2900 1003 2900 1516 \nL 2900 3500 \nL 3475 3500 \nL 3475 0 \nL 2900 0 \nL 2900 538 \nQ 2691 219 2414 64 \nQ 2138 -91 1772 -91 \nQ 1169 -91 856 284 \nQ 544 659 544 1381 \nz\nM 1991 3584 \nL 1991 3584 \nz\n\" transform=\"scale(0.015625)\"/>\n       <path id=\"DejaVuSans-63\" d=\"M 3122 3366 \nL 3122 2828 \nQ 2878 2963 2633 3030 \nQ 2388 3097 2138 3097 \nQ 1578 3097 1268 2742 \nQ 959 2388 959 1747 \nQ 959 1106 1268 751 \nQ 1578 397 2138 397 \nQ 2388 397 2633 464 \nQ 2878 531 3122 666 \nL 3122 134 \nQ 2881 22 2623 -34 \nQ 2366 -91 2075 -91 \nQ 1284 -91 818 406 \nQ 353 903 353 1747 \nQ 353 2603 823 3093 \nQ 1294 3584 2113 3584 \nQ 2378 3584 2631 3529 \nQ 2884 3475 3122 3366 \nz\n\" transform=\"scale(0.015625)\"/>\n       <path id=\"DejaVuSans-61\" d=\"M 2194 1759 \nQ 1497 1759 1228 1600 \nQ 959 1441 959 1056 \nQ 959 750 1161 570 \nQ 1363 391 1709 391 \nQ 2188 391 2477 730 \nQ 2766 1069 2766 1631 \nL 2766 1759 \nL 2194 1759 \nz\nM 3341 1997 \nL 3341 0 \nL 2766 0 \nL 2766 531 \nQ 2569 213 2275 61 \nQ 1981 -91 1556 -91 \nQ 1019 -91 701 211 \nQ 384 513 384 1019 \nQ 384 1609 779 1909 \nQ 1175 2209 1959 2209 \nL 2766 2209 \nL 2766 2266 \nQ 2766 2663 2505 2880 \nQ 2244 3097 1772 3097 \nQ 1472 3097 1187 3025 \nQ 903 2953 641 2809 \nL 641 3341 \nQ 956 3463 1253 3523 \nQ 1550 3584 1831 3584 \nQ 2591 3584 2966 3190 \nQ 3341 2797 3341 1997 \nz\n\" transform=\"scale(0.015625)\"/>\n       <path id=\"DejaVuSans-74\" d=\"M 1172 4494 \nL 1172 3500 \nL 2356 3500 \nL 2356 3053 \nL 1172 3053 \nL 1172 1153 \nQ 1172 725 1289 603 \nQ 1406 481 1766 481 \nL 2356 481 \nL 2356 0 \nL 1766 0 \nQ 1100 0 847 248 \nQ 594 497 594 1153 \nL 594 3053 \nL 172 3053 \nL 172 3500 \nL 594 3500 \nL 594 4494 \nL 1172 4494 \nz\n\" transform=\"scale(0.015625)\"/>\n       <path id=\"DejaVuSans-69\" d=\"M 603 3500 \nL 1178 3500 \nL 1178 0 \nL 603 0 \nL 603 3500 \nz\nM 603 4863 \nL 1178 4863 \nL 1178 4134 \nL 603 4134 \nL 603 4863 \nz\n\" transform=\"scale(0.015625)\"/>\n       <path id=\"DejaVuSans-6f\" d=\"M 1959 3097 \nQ 1497 3097 1228 2736 \nQ 959 2375 959 1747 \nQ 959 1119 1226 758 \nQ 1494 397 1959 397 \nQ 2419 397 2687 759 \nQ 2956 1122 2956 1747 \nQ 2956 2369 2687 2733 \nQ 2419 3097 1959 3097 \nz\nM 1959 3584 \nQ 2709 3584 3137 3096 \nQ 3566 2609 3566 1747 \nQ 3566 888 3137 398 \nQ 2709 -91 1959 -91 \nQ 1206 -91 779 398 \nQ 353 888 353 1747 \nQ 353 2609 779 3096 \nQ 1206 3584 1959 3584 \nz\n\" transform=\"scale(0.015625)\"/>\n       <path id=\"DejaVuSans-6e\" d=\"M 3513 2113 \nL 3513 0 \nL 2938 0 \nL 2938 2094 \nQ 2938 2591 2744 2837 \nQ 2550 3084 2163 3084 \nQ 1697 3084 1428 2787 \nQ 1159 2491 1159 1978 \nL 1159 0 \nL 581 0 \nL 581 3500 \nL 1159 3500 \nL 1159 2956 \nQ 1366 3272 1645 3428 \nQ 1925 3584 2291 3584 \nQ 2894 3584 3203 3211 \nQ 3513 2838 3513 2113 \nz\n\" transform=\"scale(0.015625)\"/>\n       <path id=\"DejaVuSans-5f\" d=\"M 3263 -1063 \nL 3263 -1509 \nL -63 -1509 \nL -63 -1063 \nL 3263 -1063 \nz\n\" transform=\"scale(0.015625)\"/>\n       <path id=\"DejaVuSans-4c\" d=\"M 628 4666 \nL 1259 4666 \nL 1259 531 \nL 3531 531 \nL 3531 0 \nL 628 0 \nL 628 4666 \nz\n\" transform=\"scale(0.015625)\"/>\n       <path id=\"DejaVuSans-65\" d=\"M 3597 1894 \nL 3597 1613 \nL 953 1613 \nQ 991 1019 1311 708 \nQ 1631 397 2203 397 \nQ 2534 397 2845 478 \nQ 3156 559 3463 722 \nL 3463 178 \nQ 3153 47 2828 -22 \nQ 2503 -91 2169 -91 \nQ 1331 -91 842 396 \nQ 353 884 353 1716 \nQ 353 2575 817 3079 \nQ 1281 3584 2069 3584 \nQ 2775 3584 3186 3129 \nQ 3597 2675 3597 1894 \nz\nM 3022 2063 \nQ 3016 2534 2758 2815 \nQ 2500 3097 2075 3097 \nQ 1594 3097 1305 2825 \nQ 1016 2553 972 2059 \nL 3022 2063 \nz\n\" transform=\"scale(0.015625)\"/>\n       <path id=\"DejaVuSans-76\" d=\"M 191 3500 \nL 800 3500 \nL 1894 563 \nL 2988 3500 \nL 3597 3500 \nL 2284 0 \nL 1503 0 \nL 191 3500 \nz\n\" transform=\"scale(0.015625)\"/>\n       <path id=\"DejaVuSans-6c\" d=\"M 603 4863 \nL 1178 4863 \nL 1178 0 \nL 603 0 \nL 603 4863 \nz\n\" transform=\"scale(0.015625)\"/>\n      </defs>\n      <use xlink:href=\"#DejaVuSans-45\"/>\n      <use xlink:href=\"#DejaVuSans-64\" x=\"63.183594\"/>\n      <use xlink:href=\"#DejaVuSans-75\" x=\"126.660156\"/>\n      <use xlink:href=\"#DejaVuSans-63\" x=\"190.039062\"/>\n      <use xlink:href=\"#DejaVuSans-61\" x=\"245.019531\"/>\n      <use xlink:href=\"#DejaVuSans-74\" x=\"306.298828\"/>\n      <use xlink:href=\"#DejaVuSans-69\" x=\"345.507812\"/>\n      <use xlink:href=\"#DejaVuSans-6f\" x=\"373.291016\"/>\n      <use xlink:href=\"#DejaVuSans-6e\" x=\"434.472656\"/>\n      <use xlink:href=\"#DejaVuSans-5f\" x=\"497.851562\"/>\n      <use xlink:href=\"#DejaVuSans-4c\" x=\"547.851562\"/>\n      <use xlink:href=\"#DejaVuSans-65\" x=\"601.814453\"/>\n      <use xlink:href=\"#DejaVuSans-76\" x=\"663.337891\"/>\n      <use xlink:href=\"#DejaVuSans-65\" x=\"722.517578\"/>\n      <use xlink:href=\"#DejaVuSans-6c\" x=\"784.041016\"/>\n     </g>\n    </g>\n   </g>\n   <g id=\"matplotlib.axis_2\">\n    <g id=\"ytick_1\">\n     <g id=\"line2d_4\">\n      <defs>\n       <path id=\"m8d995897a4\" d=\"M 0 0 \nL -3.5 0 \n\" style=\"stroke: #000000; stroke-width: 0.8\"/>\n      </defs>\n      <g>\n       <use xlink:href=\"#m8d995897a4\" x=\"46.965625\" y=\"273.312\" style=\"stroke: #000000; stroke-width: 0.8\"/>\n      </g>\n     </g>\n     <g id=\"text_5\">\n      <!-- 0 -->\n      <g transform=\"translate(33.603125 277.111219) scale(0.1 -0.1)\">\n       <use xlink:href=\"#DejaVuSans-30\"/>\n      </g>\n     </g>\n    </g>\n    <g id=\"ytick_2\">\n     <g id=\"line2d_5\">\n      <g>\n       <use xlink:href=\"#m8d995897a4\" x=\"46.965625\" y=\"241.711002\" style=\"stroke: #000000; stroke-width: 0.8\"/>\n      </g>\n     </g>\n     <g id=\"text_6\">\n      <!-- 100 -->\n      <g transform=\"translate(20.878125 245.510221) scale(0.1 -0.1)\">\n       <use xlink:href=\"#DejaVuSans-31\"/>\n       <use xlink:href=\"#DejaVuSans-30\" x=\"63.623047\"/>\n       <use xlink:href=\"#DejaVuSans-30\" x=\"127.246094\"/>\n      </g>\n     </g>\n    </g>\n    <g id=\"ytick_3\">\n     <g id=\"line2d_6\">\n      <g>\n       <use xlink:href=\"#m8d995897a4\" x=\"46.965625\" y=\"210.110005\" style=\"stroke: #000000; stroke-width: 0.8\"/>\n      </g>\n     </g>\n     <g id=\"text_7\">\n      <!-- 200 -->\n      <g transform=\"translate(20.878125 213.909224) scale(0.1 -0.1)\">\n       <use xlink:href=\"#DejaVuSans-32\"/>\n       <use xlink:href=\"#DejaVuSans-30\" x=\"63.623047\"/>\n       <use xlink:href=\"#DejaVuSans-30\" x=\"127.246094\"/>\n      </g>\n     </g>\n    </g>\n    <g id=\"ytick_4\">\n     <g id=\"line2d_7\">\n      <g>\n       <use xlink:href=\"#m8d995897a4\" x=\"46.965625\" y=\"178.509007\" style=\"stroke: #000000; stroke-width: 0.8\"/>\n      </g>\n     </g>\n     <g id=\"text_8\">\n      <!-- 300 -->\n      <g transform=\"translate(20.878125 182.308226) scale(0.1 -0.1)\">\n       <defs>\n        <path id=\"DejaVuSans-33\" d=\"M 2597 2516 \nQ 3050 2419 3304 2112 \nQ 3559 1806 3559 1356 \nQ 3559 666 3084 287 \nQ 2609 -91 1734 -91 \nQ 1441 -91 1130 -33 \nQ 819 25 488 141 \nL 488 750 \nQ 750 597 1062 519 \nQ 1375 441 1716 441 \nQ 2309 441 2620 675 \nQ 2931 909 2931 1356 \nQ 2931 1769 2642 2001 \nQ 2353 2234 1838 2234 \nL 1294 2234 \nL 1294 2753 \nL 1863 2753 \nQ 2328 2753 2575 2939 \nQ 2822 3125 2822 3475 \nQ 2822 3834 2567 4026 \nQ 2313 4219 1838 4219 \nQ 1578 4219 1281 4162 \nQ 984 4106 628 3988 \nL 628 4550 \nQ 988 4650 1302 4700 \nQ 1616 4750 1894 4750 \nQ 2613 4750 3031 4423 \nQ 3450 4097 3450 3541 \nQ 3450 3153 3228 2886 \nQ 3006 2619 2597 2516 \nz\n\" transform=\"scale(0.015625)\"/>\n       </defs>\n       <use xlink:href=\"#DejaVuSans-33\"/>\n       <use xlink:href=\"#DejaVuSans-30\" x=\"63.623047\"/>\n       <use xlink:href=\"#DejaVuSans-30\" x=\"127.246094\"/>\n      </g>\n     </g>\n    </g>\n    <g id=\"ytick_5\">\n     <g id=\"line2d_8\">\n      <g>\n       <use xlink:href=\"#m8d995897a4\" x=\"46.965625\" y=\"146.90801\" style=\"stroke: #000000; stroke-width: 0.8\"/>\n      </g>\n     </g>\n     <g id=\"text_9\">\n      <!-- 400 -->\n      <g transform=\"translate(20.878125 150.707229) scale(0.1 -0.1)\">\n       <defs>\n        <path id=\"DejaVuSans-34\" d=\"M 2419 4116 \nL 825 1625 \nL 2419 1625 \nL 2419 4116 \nz\nM 2253 4666 \nL 3047 4666 \nL 3047 1625 \nL 3713 1625 \nL 3713 1100 \nL 3047 1100 \nL 3047 0 \nL 2419 0 \nL 2419 1100 \nL 313 1100 \nL 313 1709 \nL 2253 4666 \nz\n\" transform=\"scale(0.015625)\"/>\n       </defs>\n       <use xlink:href=\"#DejaVuSans-34\"/>\n       <use xlink:href=\"#DejaVuSans-30\" x=\"63.623047\"/>\n       <use xlink:href=\"#DejaVuSans-30\" x=\"127.246094\"/>\n      </g>\n     </g>\n    </g>\n    <g id=\"ytick_6\">\n     <g id=\"line2d_9\">\n      <g>\n       <use xlink:href=\"#m8d995897a4\" x=\"46.965625\" y=\"115.307012\" style=\"stroke: #000000; stroke-width: 0.8\"/>\n      </g>\n     </g>\n     <g id=\"text_10\">\n      <!-- 500 -->\n      <g transform=\"translate(20.878125 119.106231) scale(0.1 -0.1)\">\n       <defs>\n        <path id=\"DejaVuSans-35\" d=\"M 691 4666 \nL 3169 4666 \nL 3169 4134 \nL 1269 4134 \nL 1269 2991 \nQ 1406 3038 1543 3061 \nQ 1681 3084 1819 3084 \nQ 2600 3084 3056 2656 \nQ 3513 2228 3513 1497 \nQ 3513 744 3044 326 \nQ 2575 -91 1722 -91 \nQ 1428 -91 1123 -41 \nQ 819 9 494 109 \nL 494 744 \nQ 775 591 1075 516 \nQ 1375 441 1709 441 \nQ 2250 441 2565 725 \nQ 2881 1009 2881 1497 \nQ 2881 1984 2565 2268 \nQ 2250 2553 1709 2553 \nQ 1456 2553 1204 2497 \nQ 953 2441 691 2322 \nL 691 4666 \nz\n\" transform=\"scale(0.015625)\"/>\n       </defs>\n       <use xlink:href=\"#DejaVuSans-35\"/>\n       <use xlink:href=\"#DejaVuSans-30\" x=\"63.623047\"/>\n       <use xlink:href=\"#DejaVuSans-30\" x=\"127.246094\"/>\n      </g>\n     </g>\n    </g>\n    <g id=\"ytick_7\">\n     <g id=\"line2d_10\">\n      <g>\n       <use xlink:href=\"#m8d995897a4\" x=\"46.965625\" y=\"83.706015\" style=\"stroke: #000000; stroke-width: 0.8\"/>\n      </g>\n     </g>\n     <g id=\"text_11\">\n      <!-- 600 -->\n      <g transform=\"translate(20.878125 87.505234) scale(0.1 -0.1)\">\n       <defs>\n        <path id=\"DejaVuSans-36\" d=\"M 2113 2584 \nQ 1688 2584 1439 2293 \nQ 1191 2003 1191 1497 \nQ 1191 994 1439 701 \nQ 1688 409 2113 409 \nQ 2538 409 2786 701 \nQ 3034 994 3034 1497 \nQ 3034 2003 2786 2293 \nQ 2538 2584 2113 2584 \nz\nM 3366 4563 \nL 3366 3988 \nQ 3128 4100 2886 4159 \nQ 2644 4219 2406 4219 \nQ 1781 4219 1451 3797 \nQ 1122 3375 1075 2522 \nQ 1259 2794 1537 2939 \nQ 1816 3084 2150 3084 \nQ 2853 3084 3261 2657 \nQ 3669 2231 3669 1497 \nQ 3669 778 3244 343 \nQ 2819 -91 2113 -91 \nQ 1303 -91 875 529 \nQ 447 1150 447 2328 \nQ 447 3434 972 4092 \nQ 1497 4750 2381 4750 \nQ 2619 4750 2861 4703 \nQ 3103 4656 3366 4563 \nz\n\" transform=\"scale(0.015625)\"/>\n       </defs>\n       <use xlink:href=\"#DejaVuSans-36\"/>\n       <use xlink:href=\"#DejaVuSans-30\" x=\"63.623047\"/>\n       <use xlink:href=\"#DejaVuSans-30\" x=\"127.246094\"/>\n      </g>\n     </g>\n    </g>\n    <g id=\"ytick_8\">\n     <g id=\"line2d_11\">\n      <g>\n       <use xlink:href=\"#m8d995897a4\" x=\"46.965625\" y=\"52.105017\" style=\"stroke: #000000; stroke-width: 0.8\"/>\n      </g>\n     </g>\n     <g id=\"text_12\">\n      <!-- 700 -->\n      <g transform=\"translate(20.878125 55.904236) scale(0.1 -0.1)\">\n       <defs>\n        <path id=\"DejaVuSans-37\" d=\"M 525 4666 \nL 3525 4666 \nL 3525 4397 \nL 1831 0 \nL 1172 0 \nL 2766 4134 \nL 525 4134 \nL 525 4666 \nz\n\" transform=\"scale(0.015625)\"/>\n       </defs>\n       <use xlink:href=\"#DejaVuSans-37\"/>\n       <use xlink:href=\"#DejaVuSans-30\" x=\"63.623047\"/>\n       <use xlink:href=\"#DejaVuSans-30\" x=\"127.246094\"/>\n      </g>\n     </g>\n    </g>\n    <g id=\"ytick_9\">\n     <g id=\"line2d_12\">\n      <g>\n       <use xlink:href=\"#m8d995897a4\" x=\"46.965625\" y=\"20.50402\" style=\"stroke: #000000; stroke-width: 0.8\"/>\n      </g>\n     </g>\n     <g id=\"text_13\">\n      <!-- 800 -->\n      <g transform=\"translate(20.878125 24.303239) scale(0.1 -0.1)\">\n       <defs>\n        <path id=\"DejaVuSans-38\" d=\"M 2034 2216 \nQ 1584 2216 1326 1975 \nQ 1069 1734 1069 1313 \nQ 1069 891 1326 650 \nQ 1584 409 2034 409 \nQ 2484 409 2743 651 \nQ 3003 894 3003 1313 \nQ 3003 1734 2745 1975 \nQ 2488 2216 2034 2216 \nz\nM 1403 2484 \nQ 997 2584 770 2862 \nQ 544 3141 544 3541 \nQ 544 4100 942 4425 \nQ 1341 4750 2034 4750 \nQ 2731 4750 3128 4425 \nQ 3525 4100 3525 3541 \nQ 3525 3141 3298 2862 \nQ 3072 2584 2669 2484 \nQ 3125 2378 3379 2068 \nQ 3634 1759 3634 1313 \nQ 3634 634 3220 271 \nQ 2806 -91 2034 -91 \nQ 1263 -91 848 271 \nQ 434 634 434 1313 \nQ 434 1759 690 2068 \nQ 947 2378 1403 2484 \nz\nM 1172 3481 \nQ 1172 3119 1398 2916 \nQ 1625 2713 2034 2713 \nQ 2441 2713 2670 2916 \nQ 2900 3119 2900 3481 \nQ 2900 3844 2670 4047 \nQ 2441 4250 2034 4250 \nQ 1625 4250 1398 4047 \nQ 1172 3844 1172 3481 \nz\n\" transform=\"scale(0.015625)\"/>\n       </defs>\n       <use xlink:href=\"#DejaVuSans-38\"/>\n       <use xlink:href=\"#DejaVuSans-30\" x=\"63.623047\"/>\n       <use xlink:href=\"#DejaVuSans-30\" x=\"127.246094\"/>\n      </g>\n     </g>\n    </g>\n    <g id=\"text_14\">\n     <!-- count -->\n     <g transform=\"translate(14.798438 154.36225) rotate(-90) scale(0.1 -0.1)\">\n      <use xlink:href=\"#DejaVuSans-63\"/>\n      <use xlink:href=\"#DejaVuSans-6f\" x=\"54.980469\"/>\n      <use xlink:href=\"#DejaVuSans-75\" x=\"116.162109\"/>\n      <use xlink:href=\"#DejaVuSans-6e\" x=\"179.541016\"/>\n      <use xlink:href=\"#DejaVuSans-74\" x=\"242.919922\"/>\n     </g>\n    </g>\n   </g>\n   <g id=\"patch_6\">\n    <path d=\"M 46.965625 273.312 \nL 46.965625 7.2 \n\" style=\"fill: none; stroke: #000000; stroke-width: 0.8; stroke-linejoin: miter; stroke-linecap: square\"/>\n   </g>\n   <g id=\"patch_7\">\n    <path d=\"M 404.085625 273.312 \nL 404.085625 7.2 \n\" style=\"fill: none; stroke: #000000; stroke-width: 0.8; stroke-linejoin: miter; stroke-linecap: square\"/>\n   </g>\n   <g id=\"patch_8\">\n    <path d=\"M 46.965625 273.312 \nL 404.085625 273.312 \n\" style=\"fill: none; stroke: #000000; stroke-width: 0.8; stroke-linejoin: miter; stroke-linecap: square\"/>\n   </g>\n   <g id=\"patch_9\">\n    <path d=\"M 46.965625 7.2 \nL 404.085625 7.2 \n\" style=\"fill: none; stroke: #000000; stroke-width: 0.8; stroke-linejoin: miter; stroke-linecap: square\"/>\n   </g>\n  </g>\n </g>\n <defs>\n  <clipPath id=\"pe82bab57ad\">\n   <rect x=\"46.965625\" y=\"7.2\" width=\"357.12\" height=\"266.112\"/>\n  </clipPath>\n </defs>\n</svg>\n"
          },
          "metadata": {}
        }
      ]
    },
    {
      "cell_type": "code",
      "source": [
        "df_final[\"Education_Level\"].value_counts()#Education levels are equal"
      ],
      "metadata": {
        "colab": {
          "base_uri": "https://localhost:8080/"
        },
        "id": "QWXnqw5oZolx",
        "outputId": "0591fc72-3994-407a-87ad-97ef2153e8ef"
      },
      "execution_count": null,
      "outputs": [
        {
          "output_type": "execute_result",
          "data": {
            "text/plain": [
              "2    802\n",
              "1    795\n",
              "0    784\n",
              "Name: Education_Level, dtype: int64"
            ]
          },
          "metadata": {},
          "execution_count": 35
        }
      ]
    },
    {
      "cell_type": "markdown",
      "source": [
        "##Bivariate Analysis"
      ],
      "metadata": {
        "id": "5itT7Ct9UR4N"
      }
    },
    {
      "cell_type": "code",
      "source": [
        "#Age vs Business value\n",
        "sns.lineplot(x=df_final[\"Age\"],y=df_final[\"Total Business Value\"])\n",
        "plt.plot()#business value increases with age upto a cetrain age as we can see about 40-45 post which it is more uncertain"
      ],
      "metadata": {
        "colab": {
          "base_uri": "https://localhost:8080/",
          "height": 467
        },
        "id": "c034ugaOUVbh",
        "outputId": "33141ced-6463-403c-99b9-c5a00739a065"
      },
      "execution_count": null,
      "outputs": [
        {
          "output_type": "execute_result",
          "data": {
            "text/plain": [
              "[]"
            ]
          },
          "metadata": {},
          "execution_count": 36
        },
        {
          "output_type": "display_data",
          "data": {
            "text/plain": [
              "<Figure size 640x480 with 1 Axes>"
            ],
            "image/svg+xml": "<?xml version=\"1.0\" encoding=\"utf-8\" standalone=\"no\"?>\n<!DOCTYPE svg PUBLIC \"-//W3C//DTD SVG 1.1//EN\"\n  \"http://www.w3.org/Graphics/SVG/1.1/DTD/svg11.dtd\">\n<svg xmlns:xlink=\"http://www.w3.org/1999/xlink\" width=\"408.10125pt\" height=\"321.466687pt\" viewBox=\"0 0 408.10125 321.466687\" xmlns=\"http://www.w3.org/2000/svg\" version=\"1.1\">\n <metadata>\n  <rdf:RDF xmlns:dc=\"http://purl.org/dc/elements/1.1/\" xmlns:cc=\"http://creativecommons.org/ns#\" xmlns:rdf=\"http://www.w3.org/1999/02/22-rdf-syntax-ns#\">\n   <cc:Work>\n    <dc:type rdf:resource=\"http://purl.org/dc/dcmitype/StillImage\"/>\n    <dc:date>2023-07-12T06:34:04.646229</dc:date>\n    <dc:format>image/svg+xml</dc:format>\n    <dc:creator>\n     <cc:Agent>\n      <dc:title>Matplotlib v3.7.1, https://matplotlib.org/</dc:title>\n     </cc:Agent>\n    </dc:creator>\n   </cc:Work>\n  </rdf:RDF>\n </metadata>\n <defs>\n  <style type=\"text/css\">*{stroke-linejoin: round; stroke-linecap: butt}</style>\n </defs>\n <g id=\"figure_1\">\n  <g id=\"patch_1\">\n   <path d=\"M 0 321.466687 \nL 408.10125 321.466687 \nL 408.10125 0 \nL 0 0 \nz\n\" style=\"fill: #ffffff\"/>\n  </g>\n  <g id=\"axes_1\">\n   <g id=\"patch_2\">\n    <path d=\"M 43.78125 283.910437 \nL 400.90125 283.910437 \nL 400.90125 17.798437 \nL 43.78125 17.798437 \nz\n\" style=\"fill: #ffffff\"/>\n   </g>\n   <g id=\"PolyCollection_1\">\n    <path d=\"M 60.013977 255.652847 \nL 60.013977 271.814437 \nL 68.788424 261.890168 \nL 77.562872 262.944938 \nL 86.337319 260.443235 \nL 95.111766 259.507204 \nL 103.886213 252.161007 \nL 112.66066 248.044958 \nL 121.435107 245.989032 \nL 130.209555 242.155824 \nL 138.984002 237.697317 \nL 147.758449 242.270619 \nL 156.532896 245.466009 \nL 165.307343 237.947173 \nL 174.081791 232.445781 \nL 182.856238 224.050816 \nL 191.630685 233.391744 \nL 200.405132 202.373904 \nL 209.179579 237.367141 \nL 217.954026 224.414286 \nL 226.728474 195.845923 \nL 235.502921 217.762655 \nL 244.277368 198.07219 \nL 253.051815 210.606077 \nL 261.826262 215.097925 \nL 270.600709 178.267149 \nL 279.375157 207.140264 \nL 288.149604 149.930796 \nL 296.924051 167.414459 \nL 305.698498 218.259403 \nL 314.472945 149.918399 \nL 323.247393 256.934995 \nL 332.02184 210.936065 \nL 340.796287 175.636873 \nL 340.796287 29.894438 \nL 340.796287 29.894438 \nL 332.02184 81.999782 \nL 323.247393 132.390174 \nL 314.472945 29.894438 \nL 305.698498 94.29569 \nL 296.924051 59.281849 \nL 288.149604 61.991782 \nL 279.375157 139.39616 \nL 270.600709 107.358433 \nL 261.826262 151.351909 \nL 253.051815 146.66119 \nL 244.277368 148.884524 \nL 235.502921 175.138518 \nL 226.728474 145.740901 \nL 217.954026 185.132191 \nL 209.179579 205.102008 \nL 200.405132 167.972874 \nL 191.630685 204.919171 \nL 182.856238 193.754669 \nL 174.081791 209.13952 \nL 165.307343 214.716043 \nL 156.532896 224.272861 \nL 147.758449 221.600525 \nL 138.984002 215.003139 \nL 130.209555 217.949387 \nL 121.435107 222.173645 \nL 112.66066 223.364454 \nL 103.886213 226.312653 \nL 95.111766 240.786969 \nL 86.337319 238.298262 \nL 77.562872 229.856942 \nL 68.788424 232.102921 \nL 60.013977 255.652847 \nz\n\" clip-path=\"url(#p2e977b8abd)\" style=\"fill: #1f77b4; fill-opacity: 0.2; stroke: #1f77b4; stroke-opacity: 0.2\"/>\n    <path d=\"M 358.345181 29.894438 \nL 358.345181 29.894438 \nL 358.345181 29.894438 \nL 358.345181 29.894438 \nz\n\" clip-path=\"url(#p2e977b8abd)\" style=\"fill: #1f77b4; fill-opacity: 0.2; stroke: #1f77b4; stroke-opacity: 0.2\"/>\n   </g>\n   <g id=\"matplotlib.axis_1\">\n    <g id=\"xtick_1\">\n     <g id=\"line2d_1\">\n      <defs>\n       <path id=\"ma23a0a8ec3\" d=\"M 0 0 \nL 0 3.5 \n\" style=\"stroke: #000000; stroke-width: 0.8\"/>\n      </defs>\n      <g>\n       <use xlink:href=\"#ma23a0a8ec3\" x=\"51.23953\" y=\"283.910437\" style=\"stroke: #000000; stroke-width: 0.8\"/>\n      </g>\n     </g>\n     <g id=\"text_1\">\n      <!-- 20 -->\n      <g transform=\"translate(44.87703 298.508875) scale(0.1 -0.1)\">\n       <defs>\n        <path id=\"DejaVuSans-32\" d=\"M 1228 531 \nL 3431 531 \nL 3431 0 \nL 469 0 \nL 469 531 \nQ 828 903 1448 1529 \nQ 2069 2156 2228 2338 \nQ 2531 2678 2651 2914 \nQ 2772 3150 2772 3378 \nQ 2772 3750 2511 3984 \nQ 2250 4219 1831 4219 \nQ 1534 4219 1204 4116 \nQ 875 4013 500 3803 \nL 500 4441 \nQ 881 4594 1212 4672 \nQ 1544 4750 1819 4750 \nQ 2544 4750 2975 4387 \nQ 3406 4025 3406 3419 \nQ 3406 3131 3298 2873 \nQ 3191 2616 2906 2266 \nQ 2828 2175 2409 1742 \nQ 1991 1309 1228 531 \nz\n\" transform=\"scale(0.015625)\"/>\n        <path id=\"DejaVuSans-30\" d=\"M 2034 4250 \nQ 1547 4250 1301 3770 \nQ 1056 3291 1056 2328 \nQ 1056 1369 1301 889 \nQ 1547 409 2034 409 \nQ 2525 409 2770 889 \nQ 3016 1369 3016 2328 \nQ 3016 3291 2770 3770 \nQ 2525 4250 2034 4250 \nz\nM 2034 4750 \nQ 2819 4750 3233 4129 \nQ 3647 3509 3647 2328 \nQ 3647 1150 3233 529 \nQ 2819 -91 2034 -91 \nQ 1250 -91 836 529 \nQ 422 1150 422 2328 \nQ 422 3509 836 4129 \nQ 1250 4750 2034 4750 \nz\n\" transform=\"scale(0.015625)\"/>\n       </defs>\n       <use xlink:href=\"#DejaVuSans-32\"/>\n       <use xlink:href=\"#DejaVuSans-30\" x=\"63.623047\"/>\n      </g>\n     </g>\n    </g>\n    <g id=\"xtick_2\">\n     <g id=\"line2d_2\">\n      <g>\n       <use xlink:href=\"#ma23a0a8ec3\" x=\"95.111766\" y=\"283.910437\" style=\"stroke: #000000; stroke-width: 0.8\"/>\n      </g>\n     </g>\n     <g id=\"text_2\">\n      <!-- 25 -->\n      <g transform=\"translate(88.749266 298.508875) scale(0.1 -0.1)\">\n       <defs>\n        <path id=\"DejaVuSans-35\" d=\"M 691 4666 \nL 3169 4666 \nL 3169 4134 \nL 1269 4134 \nL 1269 2991 \nQ 1406 3038 1543 3061 \nQ 1681 3084 1819 3084 \nQ 2600 3084 3056 2656 \nQ 3513 2228 3513 1497 \nQ 3513 744 3044 326 \nQ 2575 -91 1722 -91 \nQ 1428 -91 1123 -41 \nQ 819 9 494 109 \nL 494 744 \nQ 775 591 1075 516 \nQ 1375 441 1709 441 \nQ 2250 441 2565 725 \nQ 2881 1009 2881 1497 \nQ 2881 1984 2565 2268 \nQ 2250 2553 1709 2553 \nQ 1456 2553 1204 2497 \nQ 953 2441 691 2322 \nL 691 4666 \nz\n\" transform=\"scale(0.015625)\"/>\n       </defs>\n       <use xlink:href=\"#DejaVuSans-32\"/>\n       <use xlink:href=\"#DejaVuSans-35\" x=\"63.623047\"/>\n      </g>\n     </g>\n    </g>\n    <g id=\"xtick_3\">\n     <g id=\"line2d_3\">\n      <g>\n       <use xlink:href=\"#ma23a0a8ec3\" x=\"138.984002\" y=\"283.910437\" style=\"stroke: #000000; stroke-width: 0.8\"/>\n      </g>\n     </g>\n     <g id=\"text_3\">\n      <!-- 30 -->\n      <g transform=\"translate(132.621502 298.508875) scale(0.1 -0.1)\">\n       <defs>\n        <path id=\"DejaVuSans-33\" d=\"M 2597 2516 \nQ 3050 2419 3304 2112 \nQ 3559 1806 3559 1356 \nQ 3559 666 3084 287 \nQ 2609 -91 1734 -91 \nQ 1441 -91 1130 -33 \nQ 819 25 488 141 \nL 488 750 \nQ 750 597 1062 519 \nQ 1375 441 1716 441 \nQ 2309 441 2620 675 \nQ 2931 909 2931 1356 \nQ 2931 1769 2642 2001 \nQ 2353 2234 1838 2234 \nL 1294 2234 \nL 1294 2753 \nL 1863 2753 \nQ 2328 2753 2575 2939 \nQ 2822 3125 2822 3475 \nQ 2822 3834 2567 4026 \nQ 2313 4219 1838 4219 \nQ 1578 4219 1281 4162 \nQ 984 4106 628 3988 \nL 628 4550 \nQ 988 4650 1302 4700 \nQ 1616 4750 1894 4750 \nQ 2613 4750 3031 4423 \nQ 3450 4097 3450 3541 \nQ 3450 3153 3228 2886 \nQ 3006 2619 2597 2516 \nz\n\" transform=\"scale(0.015625)\"/>\n       </defs>\n       <use xlink:href=\"#DejaVuSans-33\"/>\n       <use xlink:href=\"#DejaVuSans-30\" x=\"63.623047\"/>\n      </g>\n     </g>\n    </g>\n    <g id=\"xtick_4\">\n     <g id=\"line2d_4\">\n      <g>\n       <use xlink:href=\"#ma23a0a8ec3\" x=\"182.856238\" y=\"283.910437\" style=\"stroke: #000000; stroke-width: 0.8\"/>\n      </g>\n     </g>\n     <g id=\"text_4\">\n      <!-- 35 -->\n      <g transform=\"translate(176.493738 298.508875) scale(0.1 -0.1)\">\n       <use xlink:href=\"#DejaVuSans-33\"/>\n       <use xlink:href=\"#DejaVuSans-35\" x=\"63.623047\"/>\n      </g>\n     </g>\n    </g>\n    <g id=\"xtick_5\">\n     <g id=\"line2d_5\">\n      <g>\n       <use xlink:href=\"#ma23a0a8ec3\" x=\"226.728474\" y=\"283.910437\" style=\"stroke: #000000; stroke-width: 0.8\"/>\n      </g>\n     </g>\n     <g id=\"text_5\">\n      <!-- 40 -->\n      <g transform=\"translate(220.365974 298.508875) scale(0.1 -0.1)\">\n       <defs>\n        <path id=\"DejaVuSans-34\" d=\"M 2419 4116 \nL 825 1625 \nL 2419 1625 \nL 2419 4116 \nz\nM 2253 4666 \nL 3047 4666 \nL 3047 1625 \nL 3713 1625 \nL 3713 1100 \nL 3047 1100 \nL 3047 0 \nL 2419 0 \nL 2419 1100 \nL 313 1100 \nL 313 1709 \nL 2253 4666 \nz\n\" transform=\"scale(0.015625)\"/>\n       </defs>\n       <use xlink:href=\"#DejaVuSans-34\"/>\n       <use xlink:href=\"#DejaVuSans-30\" x=\"63.623047\"/>\n      </g>\n     </g>\n    </g>\n    <g id=\"xtick_6\">\n     <g id=\"line2d_6\">\n      <g>\n       <use xlink:href=\"#ma23a0a8ec3\" x=\"270.600709\" y=\"283.910437\" style=\"stroke: #000000; stroke-width: 0.8\"/>\n      </g>\n     </g>\n     <g id=\"text_6\">\n      <!-- 45 -->\n      <g transform=\"translate(264.238209 298.508875) scale(0.1 -0.1)\">\n       <use xlink:href=\"#DejaVuSans-34\"/>\n       <use xlink:href=\"#DejaVuSans-35\" x=\"63.623047\"/>\n      </g>\n     </g>\n    </g>\n    <g id=\"xtick_7\">\n     <g id=\"line2d_7\">\n      <g>\n       <use xlink:href=\"#ma23a0a8ec3\" x=\"314.472945\" y=\"283.910437\" style=\"stroke: #000000; stroke-width: 0.8\"/>\n      </g>\n     </g>\n     <g id=\"text_7\">\n      <!-- 50 -->\n      <g transform=\"translate(308.110445 298.508875) scale(0.1 -0.1)\">\n       <use xlink:href=\"#DejaVuSans-35\"/>\n       <use xlink:href=\"#DejaVuSans-30\" x=\"63.623047\"/>\n      </g>\n     </g>\n    </g>\n    <g id=\"xtick_8\">\n     <g id=\"line2d_8\">\n      <g>\n       <use xlink:href=\"#ma23a0a8ec3\" x=\"358.345181\" y=\"283.910437\" style=\"stroke: #000000; stroke-width: 0.8\"/>\n      </g>\n     </g>\n     <g id=\"text_8\">\n      <!-- 55 -->\n      <g transform=\"translate(351.982681 298.508875) scale(0.1 -0.1)\">\n       <use xlink:href=\"#DejaVuSans-35\"/>\n       <use xlink:href=\"#DejaVuSans-35\" x=\"63.623047\"/>\n      </g>\n     </g>\n    </g>\n    <g id=\"text_9\">\n     <!-- Age -->\n     <g transform=\"translate(212.670156 312.187) scale(0.1 -0.1)\">\n      <defs>\n       <path id=\"DejaVuSans-41\" d=\"M 2188 4044 \nL 1331 1722 \nL 3047 1722 \nL 2188 4044 \nz\nM 1831 4666 \nL 2547 4666 \nL 4325 0 \nL 3669 0 \nL 3244 1197 \nL 1141 1197 \nL 716 0 \nL 50 0 \nL 1831 4666 \nz\n\" transform=\"scale(0.015625)\"/>\n       <path id=\"DejaVuSans-67\" d=\"M 2906 1791 \nQ 2906 2416 2648 2759 \nQ 2391 3103 1925 3103 \nQ 1463 3103 1205 2759 \nQ 947 2416 947 1791 \nQ 947 1169 1205 825 \nQ 1463 481 1925 481 \nQ 2391 481 2648 825 \nQ 2906 1169 2906 1791 \nz\nM 3481 434 \nQ 3481 -459 3084 -895 \nQ 2688 -1331 1869 -1331 \nQ 1566 -1331 1297 -1286 \nQ 1028 -1241 775 -1147 \nL 775 -588 \nQ 1028 -725 1275 -790 \nQ 1522 -856 1778 -856 \nQ 2344 -856 2625 -561 \nQ 2906 -266 2906 331 \nL 2906 616 \nQ 2728 306 2450 153 \nQ 2172 0 1784 0 \nQ 1141 0 747 490 \nQ 353 981 353 1791 \nQ 353 2603 747 3093 \nQ 1141 3584 1784 3584 \nQ 2172 3584 2450 3431 \nQ 2728 3278 2906 2969 \nL 2906 3500 \nL 3481 3500 \nL 3481 434 \nz\n\" transform=\"scale(0.015625)\"/>\n       <path id=\"DejaVuSans-65\" d=\"M 3597 1894 \nL 3597 1613 \nL 953 1613 \nQ 991 1019 1311 708 \nQ 1631 397 2203 397 \nQ 2534 397 2845 478 \nQ 3156 559 3463 722 \nL 3463 178 \nQ 3153 47 2828 -22 \nQ 2503 -91 2169 -91 \nQ 1331 -91 842 396 \nQ 353 884 353 1716 \nQ 353 2575 817 3079 \nQ 1281 3584 2069 3584 \nQ 2775 3584 3186 3129 \nQ 3597 2675 3597 1894 \nz\nM 3022 2063 \nQ 3016 2534 2758 2815 \nQ 2500 3097 2075 3097 \nQ 1594 3097 1305 2825 \nQ 1016 2553 972 2059 \nL 3022 2063 \nz\n\" transform=\"scale(0.015625)\"/>\n      </defs>\n      <use xlink:href=\"#DejaVuSans-41\"/>\n      <use xlink:href=\"#DejaVuSans-67\" x=\"68.408203\"/>\n      <use xlink:href=\"#DejaVuSans-65\" x=\"131.884766\"/>\n     </g>\n    </g>\n   </g>\n   <g id=\"matplotlib.axis_2\">\n    <g id=\"ytick_1\">\n     <g id=\"line2d_9\">\n      <defs>\n       <path id=\"ma18b528c77\" d=\"M 0 0 \nL -3.5 0 \n\" style=\"stroke: #000000; stroke-width: 0.8\"/>\n      </defs>\n      <g>\n       <use xlink:href=\"#ma18b528c77\" x=\"43.78125\" y=\"271.814437\" style=\"stroke: #000000; stroke-width: 0.8\"/>\n      </g>\n     </g>\n     <g id=\"text_10\">\n      <!-- 0.0 -->\n      <g transform=\"translate(20.878125 275.613656) scale(0.1 -0.1)\">\n       <defs>\n        <path id=\"DejaVuSans-2e\" d=\"M 684 794 \nL 1344 794 \nL 1344 0 \nL 684 0 \nL 684 794 \nz\n\" transform=\"scale(0.015625)\"/>\n       </defs>\n       <use xlink:href=\"#DejaVuSans-30\"/>\n       <use xlink:href=\"#DejaVuSans-2e\" x=\"63.623047\"/>\n       <use xlink:href=\"#DejaVuSans-30\" x=\"95.410156\"/>\n      </g>\n     </g>\n    </g>\n    <g id=\"ytick_2\">\n     <g id=\"line2d_10\">\n      <g>\n       <use xlink:href=\"#ma18b528c77\" x=\"43.78125\" y=\"239.495459\" style=\"stroke: #000000; stroke-width: 0.8\"/>\n      </g>\n     </g>\n     <g id=\"text_11\">\n      <!-- 0.2 -->\n      <g transform=\"translate(20.878125 243.294677) scale(0.1 -0.1)\">\n       <use xlink:href=\"#DejaVuSans-30\"/>\n       <use xlink:href=\"#DejaVuSans-2e\" x=\"63.623047\"/>\n       <use xlink:href=\"#DejaVuSans-32\" x=\"95.410156\"/>\n      </g>\n     </g>\n    </g>\n    <g id=\"ytick_3\">\n     <g id=\"line2d_11\">\n      <g>\n       <use xlink:href=\"#ma18b528c77\" x=\"43.78125\" y=\"207.17648\" style=\"stroke: #000000; stroke-width: 0.8\"/>\n      </g>\n     </g>\n     <g id=\"text_12\">\n      <!-- 0.4 -->\n      <g transform=\"translate(20.878125 210.975698) scale(0.1 -0.1)\">\n       <use xlink:href=\"#DejaVuSans-30\"/>\n       <use xlink:href=\"#DejaVuSans-2e\" x=\"63.623047\"/>\n       <use xlink:href=\"#DejaVuSans-34\" x=\"95.410156\"/>\n      </g>\n     </g>\n    </g>\n    <g id=\"ytick_4\">\n     <g id=\"line2d_12\">\n      <g>\n       <use xlink:href=\"#ma18b528c77\" x=\"43.78125\" y=\"174.857501\" style=\"stroke: #000000; stroke-width: 0.8\"/>\n      </g>\n     </g>\n     <g id=\"text_13\">\n      <!-- 0.6 -->\n      <g transform=\"translate(20.878125 178.656719) scale(0.1 -0.1)\">\n       <defs>\n        <path id=\"DejaVuSans-36\" d=\"M 2113 2584 \nQ 1688 2584 1439 2293 \nQ 1191 2003 1191 1497 \nQ 1191 994 1439 701 \nQ 1688 409 2113 409 \nQ 2538 409 2786 701 \nQ 3034 994 3034 1497 \nQ 3034 2003 2786 2293 \nQ 2538 2584 2113 2584 \nz\nM 3366 4563 \nL 3366 3988 \nQ 3128 4100 2886 4159 \nQ 2644 4219 2406 4219 \nQ 1781 4219 1451 3797 \nQ 1122 3375 1075 2522 \nQ 1259 2794 1537 2939 \nQ 1816 3084 2150 3084 \nQ 2853 3084 3261 2657 \nQ 3669 2231 3669 1497 \nQ 3669 778 3244 343 \nQ 2819 -91 2113 -91 \nQ 1303 -91 875 529 \nQ 447 1150 447 2328 \nQ 447 3434 972 4092 \nQ 1497 4750 2381 4750 \nQ 2619 4750 2861 4703 \nQ 3103 4656 3366 4563 \nz\n\" transform=\"scale(0.015625)\"/>\n       </defs>\n       <use xlink:href=\"#DejaVuSans-30\"/>\n       <use xlink:href=\"#DejaVuSans-2e\" x=\"63.623047\"/>\n       <use xlink:href=\"#DejaVuSans-36\" x=\"95.410156\"/>\n      </g>\n     </g>\n    </g>\n    <g id=\"ytick_5\">\n     <g id=\"line2d_13\">\n      <g>\n       <use xlink:href=\"#ma18b528c77\" x=\"43.78125\" y=\"142.538522\" style=\"stroke: #000000; stroke-width: 0.8\"/>\n      </g>\n     </g>\n     <g id=\"text_14\">\n      <!-- 0.8 -->\n      <g transform=\"translate(20.878125 146.337741) scale(0.1 -0.1)\">\n       <defs>\n        <path id=\"DejaVuSans-38\" d=\"M 2034 2216 \nQ 1584 2216 1326 1975 \nQ 1069 1734 1069 1313 \nQ 1069 891 1326 650 \nQ 1584 409 2034 409 \nQ 2484 409 2743 651 \nQ 3003 894 3003 1313 \nQ 3003 1734 2745 1975 \nQ 2488 2216 2034 2216 \nz\nM 1403 2484 \nQ 997 2584 770 2862 \nQ 544 3141 544 3541 \nQ 544 4100 942 4425 \nQ 1341 4750 2034 4750 \nQ 2731 4750 3128 4425 \nQ 3525 4100 3525 3541 \nQ 3525 3141 3298 2862 \nQ 3072 2584 2669 2484 \nQ 3125 2378 3379 2068 \nQ 3634 1759 3634 1313 \nQ 3634 634 3220 271 \nQ 2806 -91 2034 -91 \nQ 1263 -91 848 271 \nQ 434 634 434 1313 \nQ 434 1759 690 2068 \nQ 947 2378 1403 2484 \nz\nM 1172 3481 \nQ 1172 3119 1398 2916 \nQ 1625 2713 2034 2713 \nQ 2441 2713 2670 2916 \nQ 2900 3119 2900 3481 \nQ 2900 3844 2670 4047 \nQ 2441 4250 2034 4250 \nQ 1625 4250 1398 4047 \nQ 1172 3844 1172 3481 \nz\n\" transform=\"scale(0.015625)\"/>\n       </defs>\n       <use xlink:href=\"#DejaVuSans-30\"/>\n       <use xlink:href=\"#DejaVuSans-2e\" x=\"63.623047\"/>\n       <use xlink:href=\"#DejaVuSans-38\" x=\"95.410156\"/>\n      </g>\n     </g>\n    </g>\n    <g id=\"ytick_6\">\n     <g id=\"line2d_14\">\n      <g>\n       <use xlink:href=\"#ma18b528c77\" x=\"43.78125\" y=\"110.219543\" style=\"stroke: #000000; stroke-width: 0.8\"/>\n      </g>\n     </g>\n     <g id=\"text_15\">\n      <!-- 1.0 -->\n      <g transform=\"translate(20.878125 114.018762) scale(0.1 -0.1)\">\n       <defs>\n        <path id=\"DejaVuSans-31\" d=\"M 794 531 \nL 1825 531 \nL 1825 4091 \nL 703 3866 \nL 703 4441 \nL 1819 4666 \nL 2450 4666 \nL 2450 531 \nL 3481 531 \nL 3481 0 \nL 794 0 \nL 794 531 \nz\n\" transform=\"scale(0.015625)\"/>\n       </defs>\n       <use xlink:href=\"#DejaVuSans-31\"/>\n       <use xlink:href=\"#DejaVuSans-2e\" x=\"63.623047\"/>\n       <use xlink:href=\"#DejaVuSans-30\" x=\"95.410156\"/>\n      </g>\n     </g>\n    </g>\n    <g id=\"ytick_7\">\n     <g id=\"line2d_15\">\n      <g>\n       <use xlink:href=\"#ma18b528c77\" x=\"43.78125\" y=\"77.900564\" style=\"stroke: #000000; stroke-width: 0.8\"/>\n      </g>\n     </g>\n     <g id=\"text_16\">\n      <!-- 1.2 -->\n      <g transform=\"translate(20.878125 81.699783) scale(0.1 -0.1)\">\n       <use xlink:href=\"#DejaVuSans-31\"/>\n       <use xlink:href=\"#DejaVuSans-2e\" x=\"63.623047\"/>\n       <use xlink:href=\"#DejaVuSans-32\" x=\"95.410156\"/>\n      </g>\n     </g>\n    </g>\n    <g id=\"ytick_8\">\n     <g id=\"line2d_16\">\n      <g>\n       <use xlink:href=\"#ma18b528c77\" x=\"43.78125\" y=\"45.581585\" style=\"stroke: #000000; stroke-width: 0.8\"/>\n      </g>\n     </g>\n     <g id=\"text_17\">\n      <!-- 1.4 -->\n      <g transform=\"translate(20.878125 49.380804) scale(0.1 -0.1)\">\n       <use xlink:href=\"#DejaVuSans-31\"/>\n       <use xlink:href=\"#DejaVuSans-2e\" x=\"63.623047\"/>\n       <use xlink:href=\"#DejaVuSans-34\" x=\"95.410156\"/>\n      </g>\n     </g>\n    </g>\n    <g id=\"text_18\">\n     <!-- Total Business Value -->\n     <g transform=\"translate(14.798438 201.488031) rotate(-90) scale(0.1 -0.1)\">\n      <defs>\n       <path id=\"DejaVuSans-54\" d=\"M -19 4666 \nL 3928 4666 \nL 3928 4134 \nL 2272 4134 \nL 2272 0 \nL 1638 0 \nL 1638 4134 \nL -19 4134 \nL -19 4666 \nz\n\" transform=\"scale(0.015625)\"/>\n       <path id=\"DejaVuSans-6f\" d=\"M 1959 3097 \nQ 1497 3097 1228 2736 \nQ 959 2375 959 1747 \nQ 959 1119 1226 758 \nQ 1494 397 1959 397 \nQ 2419 397 2687 759 \nQ 2956 1122 2956 1747 \nQ 2956 2369 2687 2733 \nQ 2419 3097 1959 3097 \nz\nM 1959 3584 \nQ 2709 3584 3137 3096 \nQ 3566 2609 3566 1747 \nQ 3566 888 3137 398 \nQ 2709 -91 1959 -91 \nQ 1206 -91 779 398 \nQ 353 888 353 1747 \nQ 353 2609 779 3096 \nQ 1206 3584 1959 3584 \nz\n\" transform=\"scale(0.015625)\"/>\n       <path id=\"DejaVuSans-74\" d=\"M 1172 4494 \nL 1172 3500 \nL 2356 3500 \nL 2356 3053 \nL 1172 3053 \nL 1172 1153 \nQ 1172 725 1289 603 \nQ 1406 481 1766 481 \nL 2356 481 \nL 2356 0 \nL 1766 0 \nQ 1100 0 847 248 \nQ 594 497 594 1153 \nL 594 3053 \nL 172 3053 \nL 172 3500 \nL 594 3500 \nL 594 4494 \nL 1172 4494 \nz\n\" transform=\"scale(0.015625)\"/>\n       <path id=\"DejaVuSans-61\" d=\"M 2194 1759 \nQ 1497 1759 1228 1600 \nQ 959 1441 959 1056 \nQ 959 750 1161 570 \nQ 1363 391 1709 391 \nQ 2188 391 2477 730 \nQ 2766 1069 2766 1631 \nL 2766 1759 \nL 2194 1759 \nz\nM 3341 1997 \nL 3341 0 \nL 2766 0 \nL 2766 531 \nQ 2569 213 2275 61 \nQ 1981 -91 1556 -91 \nQ 1019 -91 701 211 \nQ 384 513 384 1019 \nQ 384 1609 779 1909 \nQ 1175 2209 1959 2209 \nL 2766 2209 \nL 2766 2266 \nQ 2766 2663 2505 2880 \nQ 2244 3097 1772 3097 \nQ 1472 3097 1187 3025 \nQ 903 2953 641 2809 \nL 641 3341 \nQ 956 3463 1253 3523 \nQ 1550 3584 1831 3584 \nQ 2591 3584 2966 3190 \nQ 3341 2797 3341 1997 \nz\n\" transform=\"scale(0.015625)\"/>\n       <path id=\"DejaVuSans-6c\" d=\"M 603 4863 \nL 1178 4863 \nL 1178 0 \nL 603 0 \nL 603 4863 \nz\n\" transform=\"scale(0.015625)\"/>\n       <path id=\"DejaVuSans-20\" transform=\"scale(0.015625)\"/>\n       <path id=\"DejaVuSans-42\" d=\"M 1259 2228 \nL 1259 519 \nL 2272 519 \nQ 2781 519 3026 730 \nQ 3272 941 3272 1375 \nQ 3272 1813 3026 2020 \nQ 2781 2228 2272 2228 \nL 1259 2228 \nz\nM 1259 4147 \nL 1259 2741 \nL 2194 2741 \nQ 2656 2741 2882 2914 \nQ 3109 3088 3109 3444 \nQ 3109 3797 2882 3972 \nQ 2656 4147 2194 4147 \nL 1259 4147 \nz\nM 628 4666 \nL 2241 4666 \nQ 2963 4666 3353 4366 \nQ 3744 4066 3744 3513 \nQ 3744 3084 3544 2831 \nQ 3344 2578 2956 2516 \nQ 3422 2416 3680 2098 \nQ 3938 1781 3938 1306 \nQ 3938 681 3513 340 \nQ 3088 0 2303 0 \nL 628 0 \nL 628 4666 \nz\n\" transform=\"scale(0.015625)\"/>\n       <path id=\"DejaVuSans-75\" d=\"M 544 1381 \nL 544 3500 \nL 1119 3500 \nL 1119 1403 \nQ 1119 906 1312 657 \nQ 1506 409 1894 409 \nQ 2359 409 2629 706 \nQ 2900 1003 2900 1516 \nL 2900 3500 \nL 3475 3500 \nL 3475 0 \nL 2900 0 \nL 2900 538 \nQ 2691 219 2414 64 \nQ 2138 -91 1772 -91 \nQ 1169 -91 856 284 \nQ 544 659 544 1381 \nz\nM 1991 3584 \nL 1991 3584 \nz\n\" transform=\"scale(0.015625)\"/>\n       <path id=\"DejaVuSans-73\" d=\"M 2834 3397 \nL 2834 2853 \nQ 2591 2978 2328 3040 \nQ 2066 3103 1784 3103 \nQ 1356 3103 1142 2972 \nQ 928 2841 928 2578 \nQ 928 2378 1081 2264 \nQ 1234 2150 1697 2047 \nL 1894 2003 \nQ 2506 1872 2764 1633 \nQ 3022 1394 3022 966 \nQ 3022 478 2636 193 \nQ 2250 -91 1575 -91 \nQ 1294 -91 989 -36 \nQ 684 19 347 128 \nL 347 722 \nQ 666 556 975 473 \nQ 1284 391 1588 391 \nQ 1994 391 2212 530 \nQ 2431 669 2431 922 \nQ 2431 1156 2273 1281 \nQ 2116 1406 1581 1522 \nL 1381 1569 \nQ 847 1681 609 1914 \nQ 372 2147 372 2553 \nQ 372 3047 722 3315 \nQ 1072 3584 1716 3584 \nQ 2034 3584 2315 3537 \nQ 2597 3491 2834 3397 \nz\n\" transform=\"scale(0.015625)\"/>\n       <path id=\"DejaVuSans-69\" d=\"M 603 3500 \nL 1178 3500 \nL 1178 0 \nL 603 0 \nL 603 3500 \nz\nM 603 4863 \nL 1178 4863 \nL 1178 4134 \nL 603 4134 \nL 603 4863 \nz\n\" transform=\"scale(0.015625)\"/>\n       <path id=\"DejaVuSans-6e\" d=\"M 3513 2113 \nL 3513 0 \nL 2938 0 \nL 2938 2094 \nQ 2938 2591 2744 2837 \nQ 2550 3084 2163 3084 \nQ 1697 3084 1428 2787 \nQ 1159 2491 1159 1978 \nL 1159 0 \nL 581 0 \nL 581 3500 \nL 1159 3500 \nL 1159 2956 \nQ 1366 3272 1645 3428 \nQ 1925 3584 2291 3584 \nQ 2894 3584 3203 3211 \nQ 3513 2838 3513 2113 \nz\n\" transform=\"scale(0.015625)\"/>\n       <path id=\"DejaVuSans-56\" d=\"M 1831 0 \nL 50 4666 \nL 709 4666 \nL 2188 738 \nL 3669 4666 \nL 4325 4666 \nL 2547 0 \nL 1831 0 \nz\n\" transform=\"scale(0.015625)\"/>\n      </defs>\n      <use xlink:href=\"#DejaVuSans-54\"/>\n      <use xlink:href=\"#DejaVuSans-6f\" x=\"44.083984\"/>\n      <use xlink:href=\"#DejaVuSans-74\" x=\"105.265625\"/>\n      <use xlink:href=\"#DejaVuSans-61\" x=\"144.474609\"/>\n      <use xlink:href=\"#DejaVuSans-6c\" x=\"205.753906\"/>\n      <use xlink:href=\"#DejaVuSans-20\" x=\"233.537109\"/>\n      <use xlink:href=\"#DejaVuSans-42\" x=\"265.324219\"/>\n      <use xlink:href=\"#DejaVuSans-75\" x=\"333.927734\"/>\n      <use xlink:href=\"#DejaVuSans-73\" x=\"397.306641\"/>\n      <use xlink:href=\"#DejaVuSans-69\" x=\"449.40625\"/>\n      <use xlink:href=\"#DejaVuSans-6e\" x=\"477.189453\"/>\n      <use xlink:href=\"#DejaVuSans-65\" x=\"540.568359\"/>\n      <use xlink:href=\"#DejaVuSans-73\" x=\"602.091797\"/>\n      <use xlink:href=\"#DejaVuSans-73\" x=\"654.191406\"/>\n      <use xlink:href=\"#DejaVuSans-20\" x=\"706.291016\"/>\n      <use xlink:href=\"#DejaVuSans-56\" x=\"738.078125\"/>\n      <use xlink:href=\"#DejaVuSans-61\" x=\"798.736328\"/>\n      <use xlink:href=\"#DejaVuSans-6c\" x=\"860.015625\"/>\n      <use xlink:href=\"#DejaVuSans-75\" x=\"887.798828\"/>\n      <use xlink:href=\"#DejaVuSans-65\" x=\"951.177734\"/>\n     </g>\n    </g>\n    <g id=\"text_19\">\n     <!-- 1e7 -->\n     <g transform=\"translate(43.78125 14.798437) scale(0.1 -0.1)\">\n      <defs>\n       <path id=\"DejaVuSans-37\" d=\"M 525 4666 \nL 3525 4666 \nL 3525 4397 \nL 1831 0 \nL 1172 0 \nL 2766 4134 \nL 525 4134 \nL 525 4666 \nz\n\" transform=\"scale(0.015625)\"/>\n      </defs>\n      <use xlink:href=\"#DejaVuSans-31\"/>\n      <use xlink:href=\"#DejaVuSans-65\" x=\"63.623047\"/>\n      <use xlink:href=\"#DejaVuSans-37\" x=\"125.146484\"/>\n     </g>\n    </g>\n   </g>\n   <g id=\"line2d_17\">\n    <path d=\"M 60.013977 263.304473 \nL 68.788424 248.614847 \nL 77.562872 249.490148 \nL 86.337319 250.43676 \nL 95.111766 251.086464 \nL 103.886213 239.615507 \nL 112.66066 236.305578 \nL 121.435107 234.713194 \nL 130.209555 230.539328 \nL 138.984002 227.279749 \nL 147.758449 232.125248 \nL 156.532896 235.524922 \nL 165.307343 226.378275 \nL 174.081791 221.193581 \nL 182.856238 208.814365 \nL 191.630685 219.814343 \nL 200.405132 186.523419 \nL 209.179579 222.415526 \nL 217.954026 204.042444 \nL 226.728474 171.227007 \nL 235.502921 196.279543 \nL 244.277368 174.818062 \nL 253.051815 180.029826 \nL 261.826262 185.575813 \nL 270.600709 145.31945 \nL 279.375157 173.210756 \nL 288.149604 104.366219 \nL 296.924051 112.001549 \nL 305.698498 162.159139 \nL 314.472945 69.902425 \nL 323.247393 202.478997 \nL 332.02184 148.310631 \nL 340.796287 102.765655 \nL 349.570734 29.894438 \nL 358.345181 29.894438 \nL 384.668523 218.308752 \n\" clip-path=\"url(#p2e977b8abd)\" style=\"fill: none; stroke: #1f77b4; stroke-width: 1.5; stroke-linecap: square\"/>\n   </g>\n   <g id=\"patch_3\">\n    <path d=\"M 43.78125 283.910438 \nL 43.78125 17.798438 \n\" style=\"fill: none; stroke: #000000; stroke-width: 0.8; stroke-linejoin: miter; stroke-linecap: square\"/>\n   </g>\n   <g id=\"patch_4\">\n    <path d=\"M 400.90125 283.910438 \nL 400.90125 17.798438 \n\" style=\"fill: none; stroke: #000000; stroke-width: 0.8; stroke-linejoin: miter; stroke-linecap: square\"/>\n   </g>\n   <g id=\"patch_5\">\n    <path d=\"M 43.78125 283.910437 \nL 400.90125 283.910437 \n\" style=\"fill: none; stroke: #000000; stroke-width: 0.8; stroke-linejoin: miter; stroke-linecap: square\"/>\n   </g>\n   <g id=\"patch_6\">\n    <path d=\"M 43.78125 17.798437 \nL 400.90125 17.798437 \n\" style=\"fill: none; stroke: #000000; stroke-width: 0.8; stroke-linejoin: miter; stroke-linecap: square\"/>\n   </g>\n  </g>\n </g>\n <defs>\n  <clipPath id=\"p2e977b8abd\">\n   <rect x=\"43.78125\" y=\"17.798438\" width=\"357.12\" height=\"266.112\"/>\n  </clipPath>\n </defs>\n</svg>\n"
          },
          "metadata": {}
        }
      ]
    },
    {
      "cell_type": "code",
      "source": [
        "#City  & Gender vs income\n",
        "fig, axis = plt.subplots(nrows=1, ncols=2, figsize=(23, 7))\n",
        "plt.subplot(121)\n",
        "sns.barplot(x=df_final[\"City\"],y=df_final[\"Income\"])\n",
        "plt.subplot(122)\n",
        "sns.barplot(x=df_final[\"Gender\"],y=df_final[\"Income\"])\n",
        "plt.show()\n",
        "#C12,C11 ave the highest has he highest income\n",
        "#not much diffence between income of male and female"
      ],
      "metadata": {
        "colab": {
          "base_uri": "https://localhost:8080/",
          "height": 618
        },
        "id": "2B_MuXoIVYW1",
        "outputId": "8633de0a-a92d-4a68-b8b1-70ea06b04953"
      },
      "execution_count": null,
      "outputs": [
        {
          "output_type": "display_data",
          "data": {
            "text/plain": [
              "<Figure size 2300x700 with 2 Axes>"
            ],
            "image/svg+xml": "<?xml version=\"1.0\" encoding=\"utf-8\" standalone=\"no\"?>\n<!DOCTYPE svg PUBLIC \"-//W3C//DTD SVG 1.1//EN\"\n  \"http://www.w3.org/Graphics/SVG/1.1/DTD/svg11.dtd\">\n<svg xmlns:xlink=\"http://www.w3.org/1999/xlink\" width=\"1350.290625pt\" height=\"432.83625pt\" viewBox=\"0 0 1350.290625 432.83625\" xmlns=\"http://www.w3.org/2000/svg\" version=\"1.1\">\n <metadata>\n  <rdf:RDF xmlns:dc=\"http://purl.org/dc/elements/1.1/\" xmlns:cc=\"http://creativecommons.org/ns#\" xmlns:rdf=\"http://www.w3.org/1999/02/22-rdf-syntax-ns#\">\n   <cc:Work>\n    <dc:type rdf:resource=\"http://purl.org/dc/dcmitype/StillImage\"/>\n    <dc:date>2023-07-12T06:34:05.559306</dc:date>\n    <dc:format>image/svg+xml</dc:format>\n    <dc:creator>\n     <cc:Agent>\n      <dc:title>Matplotlib v3.7.1, https://matplotlib.org/</dc:title>\n     </cc:Agent>\n    </dc:creator>\n   </cc:Work>\n  </rdf:RDF>\n </metadata>\n <defs>\n  <style type=\"text/css\">*{stroke-linejoin: round; stroke-linecap: butt}</style>\n </defs>\n <g id=\"figure_1\">\n  <g id=\"patch_1\">\n   <path d=\"M 0 432.83625 \nL 1350.290625 432.83625 \nL 1350.290625 0 \nL 0 0 \nz\n\" style=\"fill: #ffffff\"/>\n  </g>\n  <g id=\"axes_1\">\n   <g id=\"patch_2\">\n    <path d=\"M 59.690625 395.28 \nL 643.054261 395.28 \nL 643.054261 7.2 \nL 59.690625 7.2 \nz\n\" style=\"fill: #ffffff\"/>\n   </g>\n   <g id=\"patch_3\">\n    <path d=\"M 61.702224 395.28 \nL 77.795014 395.28 \nL 77.795014 84.952586 \nL 61.702224 84.952586 \nz\n\" clip-path=\"url(#pf7434a8669)\" style=\"fill: #ea96a3\"/>\n   </g>\n   <g id=\"patch_4\">\n    <path d=\"M 81.818211 395.28 \nL 97.911001 395.28 \nL 97.911001 75.999509 \nL 81.818211 75.999509 \nz\n\" clip-path=\"url(#pf7434a8669)\" style=\"fill: #e99790\"/>\n   </g>\n   <g id=\"patch_5\">\n    <path d=\"M 101.934199 395.28 \nL 118.026989 395.28 \nL 118.026989 100.597224 \nL 101.934199 100.597224 \nz\n\" clip-path=\"url(#pf7434a8669)\" style=\"fill: #e4946d\"/>\n   </g>\n   <g id=\"patch_6\">\n    <path d=\"M 122.050186 395.28 \nL 138.142976 395.28 \nL 138.142976 89.862934 \nL 122.050186 89.862934 \nz\n\" clip-path=\"url(#pf7434a8669)\" style=\"fill: #d5954d\"/>\n   </g>\n   <g id=\"patch_7\">\n    <path d=\"M 142.166174 395.28 \nL 158.258964 395.28 \nL 158.258964 59.857466 \nL 142.166174 59.857466 \nz\n\" clip-path=\"url(#pf7434a8669)\" style=\"fill: #c4994b\"/>\n   </g>\n   <g id=\"patch_8\">\n    <path d=\"M 162.282161 395.28 \nL 178.374951 395.28 \nL 178.374951 92.409563 \nL 162.282161 92.409563 \nz\n\" clip-path=\"url(#pf7434a8669)\" style=\"fill: #b69c49\"/>\n   </g>\n   <g id=\"patch_9\">\n    <path d=\"M 182.398149 395.28 \nL 198.490938 395.28 \nL 198.490938 94.633664 \nL 182.398149 94.633664 \nz\n\" clip-path=\"url(#pf7434a8669)\" style=\"fill: #a99e47\"/>\n   </g>\n   <g id=\"patch_10\">\n    <path d=\"M 202.514136 395.28 \nL 218.606926 395.28 \nL 218.606926 76.849781 \nL 202.514136 76.849781 \nz\n\" clip-path=\"url(#pf7434a8669)\" style=\"fill: #9ba146\"/>\n   </g>\n   <g id=\"patch_11\">\n    <path d=\"M 222.630123 395.28 \nL 238.722913 395.28 \nL 238.722913 76.662744 \nL 222.630123 76.662744 \nz\n\" clip-path=\"url(#pf7434a8669)\" style=\"fill: #8da546\"/>\n   </g>\n   <g id=\"patch_12\">\n    <path d=\"M 242.746111 395.28 \nL 258.838901 395.28 \nL 258.838901 123.28711 \nL 242.746111 123.28711 \nz\n\" clip-path=\"url(#pf7434a8669)\" style=\"fill: #78aa47\"/>\n   </g>\n   <g id=\"patch_13\">\n    <path d=\"M 262.862098 395.28 \nL 278.954888 395.28 \nL 278.954888 70.028068 \nL 262.862098 70.028068 \nz\n\" clip-path=\"url(#pf7434a8669)\" style=\"fill: #4ab147\"/>\n   </g>\n   <g id=\"patch_14\">\n    <path d=\"M 282.978086 395.28 \nL 299.070876 395.28 \nL 299.070876 84.639195 \nL 282.978086 84.639195 \nz\n\" clip-path=\"url(#pf7434a8669)\" style=\"fill: #49af76\"/>\n   </g>\n   <g id=\"patch_15\">\n    <path d=\"M 303.094073 395.28 \nL 319.186863 395.28 \nL 319.186863 97.146874 \nL 303.094073 97.146874 \nz\n\" clip-path=\"url(#pf7434a8669)\" style=\"fill: #4aae89\"/>\n   </g>\n   <g id=\"patch_16\">\n    <path d=\"M 323.210061 395.28 \nL 339.302851 395.28 \nL 339.302851 68.391862 \nL 323.210061 68.391862 \nz\n\" clip-path=\"url(#pf7434a8669)\" style=\"fill: #4aad96\"/>\n   </g>\n   <g id=\"patch_17\">\n    <path d=\"M 343.326048 395.28 \nL 359.418838 395.28 \nL 359.418838 79.95031 \nL 343.326048 79.95031 \nz\n\" clip-path=\"url(#pf7434a8669)\" style=\"fill: #4baca0\"/>\n   </g>\n   <g id=\"patch_18\">\n    <path d=\"M 363.442036 395.28 \nL 379.534826 395.28 \nL 379.534826 99.249313 \nL 363.442036 99.249313 \nz\n\" clip-path=\"url(#pf7434a8669)\" style=\"fill: #4baba8\"/>\n   </g>\n   <g id=\"patch_19\">\n    <path d=\"M 383.558023 395.28 \nL 399.650813 395.28 \nL 399.650813 79.336782 \nL 383.558023 79.336782 \nz\n\" clip-path=\"url(#pf7434a8669)\" style=\"fill: #4dabb2\"/>\n   </g>\n   <g id=\"patch_20\">\n    <path d=\"M 403.674011 395.28 \nL 419.766801 395.28 \nL 419.766801 93.25656 \nL 403.674011 93.25656 \nz\n\" clip-path=\"url(#pf7434a8669)\" style=\"fill: #4facbd\"/>\n   </g>\n   <g id=\"patch_21\">\n    <path d=\"M 423.789998 395.28 \nL 439.882788 395.28 \nL 439.882788 72.359163 \nL 423.789998 72.359163 \nz\n\" clip-path=\"url(#pf7434a8669)\" style=\"fill: #52accb\"/>\n   </g>\n   <g id=\"patch_22\">\n    <path d=\"M 443.905986 395.28 \nL 459.998775 395.28 \nL 459.998775 91.827414 \nL 443.905986 91.827414 \nz\n\" clip-path=\"url(#pf7434a8669)\" style=\"fill: #57addf\"/>\n   </g>\n   <g id=\"patch_23\">\n    <path d=\"M 464.021973 395.28 \nL 480.114763 395.28 \nL 480.114763 64.050408 \nL 464.021973 64.050408 \nz\n\" clip-path=\"url(#pf7434a8669)\" style=\"fill: #8aaee7\"/>\n   </g>\n   <g id=\"patch_24\">\n    <path d=\"M 484.13796 395.28 \nL 500.23075 395.28 \nL 500.23075 81.106639 \nL 484.13796 81.106639 \nz\n\" clip-path=\"url(#pf7434a8669)\" style=\"fill: #a7aceb\"/>\n   </g>\n   <g id=\"patch_25\">\n    <path d=\"M 504.253948 395.28 \nL 520.346738 395.28 \nL 520.346738 99.734349 \nL 504.253948 99.734349 \nz\n\" clip-path=\"url(#pf7434a8669)\" style=\"fill: #baa6ea\"/>\n   </g>\n   <g id=\"patch_26\">\n    <path d=\"M 524.369935 395.28 \nL 540.462725 395.28 \nL 540.462725 86.277345 \nL 524.369935 86.277345 \nz\n\" clip-path=\"url(#pf7434a8669)\" style=\"fill: #cb9de9\"/>\n   </g>\n   <g id=\"patch_27\">\n    <path d=\"M 544.485923 395.28 \nL 560.578713 395.28 \nL 560.578713 100.086608 \nL 544.485923 100.086608 \nz\n\" clip-path=\"url(#pf7434a8669)\" style=\"fill: #dc92e8\"/>\n   </g>\n   <g id=\"patch_28\">\n    <path d=\"M 564.60191 395.28 \nL 580.6947 395.28 \nL 580.6947 87.863789 \nL 564.60191 87.863789 \nz\n\" clip-path=\"url(#pf7434a8669)\" style=\"fill: #e78bde\"/>\n   </g>\n   <g id=\"patch_29\">\n    <path d=\"M 584.717898 395.28 \nL 600.810688 395.28 \nL 600.810688 101.586266 \nL 584.717898 101.586266 \nz\n\" clip-path=\"url(#pf7434a8669)\" style=\"fill: #e88ece\"/>\n   </g>\n   <g id=\"patch_30\">\n    <path d=\"M 604.833885 395.28 \nL 620.926675 395.28 \nL 620.926675 90.596499 \nL 604.833885 90.596499 \nz\n\" clip-path=\"url(#pf7434a8669)\" style=\"fill: #e891c0\"/>\n   </g>\n   <g id=\"patch_31\">\n    <path d=\"M 624.949873 395.28 \nL 641.042663 395.28 \nL 641.042663 55.347023 \nL 624.949873 55.347023 \nz\n\" clip-path=\"url(#pf7434a8669)\" style=\"fill: #e994b3\"/>\n   </g>\n   <g id=\"matplotlib.axis_1\">\n    <g id=\"xtick_1\">\n     <g id=\"line2d_1\">\n      <defs>\n       <path id=\"m1dcf9c9757\" d=\"M 0 0 \nL 0 3.5 \n\" style=\"stroke: #000000; stroke-width: 0.8\"/>\n      </defs>\n      <g>\n       <use xlink:href=\"#m1dcf9c9757\" x=\"69.748619\" y=\"395.28\" style=\"stroke: #000000; stroke-width: 0.8\"/>\n      </g>\n     </g>\n     <g id=\"text_1\">\n      <!-- C23 -->\n      <g transform=\"translate(59.894712 409.878437) scale(0.1 -0.1)\">\n       <defs>\n        <path id=\"DejaVuSans-43\" d=\"M 4122 4306 \nL 4122 3641 \nQ 3803 3938 3442 4084 \nQ 3081 4231 2675 4231 \nQ 1875 4231 1450 3742 \nQ 1025 3253 1025 2328 \nQ 1025 1406 1450 917 \nQ 1875 428 2675 428 \nQ 3081 428 3442 575 \nQ 3803 722 4122 1019 \nL 4122 359 \nQ 3791 134 3420 21 \nQ 3050 -91 2638 -91 \nQ 1578 -91 968 557 \nQ 359 1206 359 2328 \nQ 359 3453 968 4101 \nQ 1578 4750 2638 4750 \nQ 3056 4750 3426 4639 \nQ 3797 4528 4122 4306 \nz\n\" transform=\"scale(0.015625)\"/>\n        <path id=\"DejaVuSans-32\" d=\"M 1228 531 \nL 3431 531 \nL 3431 0 \nL 469 0 \nL 469 531 \nQ 828 903 1448 1529 \nQ 2069 2156 2228 2338 \nQ 2531 2678 2651 2914 \nQ 2772 3150 2772 3378 \nQ 2772 3750 2511 3984 \nQ 2250 4219 1831 4219 \nQ 1534 4219 1204 4116 \nQ 875 4013 500 3803 \nL 500 4441 \nQ 881 4594 1212 4672 \nQ 1544 4750 1819 4750 \nQ 2544 4750 2975 4387 \nQ 3406 4025 3406 3419 \nQ 3406 3131 3298 2873 \nQ 3191 2616 2906 2266 \nQ 2828 2175 2409 1742 \nQ 1991 1309 1228 531 \nz\n\" transform=\"scale(0.015625)\"/>\n        <path id=\"DejaVuSans-33\" d=\"M 2597 2516 \nQ 3050 2419 3304 2112 \nQ 3559 1806 3559 1356 \nQ 3559 666 3084 287 \nQ 2609 -91 1734 -91 \nQ 1441 -91 1130 -33 \nQ 819 25 488 141 \nL 488 750 \nQ 750 597 1062 519 \nQ 1375 441 1716 441 \nQ 2309 441 2620 675 \nQ 2931 909 2931 1356 \nQ 2931 1769 2642 2001 \nQ 2353 2234 1838 2234 \nL 1294 2234 \nL 1294 2753 \nL 1863 2753 \nQ 2328 2753 2575 2939 \nQ 2822 3125 2822 3475 \nQ 2822 3834 2567 4026 \nQ 2313 4219 1838 4219 \nQ 1578 4219 1281 4162 \nQ 984 4106 628 3988 \nL 628 4550 \nQ 988 4650 1302 4700 \nQ 1616 4750 1894 4750 \nQ 2613 4750 3031 4423 \nQ 3450 4097 3450 3541 \nQ 3450 3153 3228 2886 \nQ 3006 2619 2597 2516 \nz\n\" transform=\"scale(0.015625)\"/>\n       </defs>\n       <use xlink:href=\"#DejaVuSans-43\"/>\n       <use xlink:href=\"#DejaVuSans-32\" x=\"69.824219\"/>\n       <use xlink:href=\"#DejaVuSans-33\" x=\"133.447266\"/>\n      </g>\n     </g>\n    </g>\n    <g id=\"xtick_2\">\n     <g id=\"line2d_2\">\n      <g>\n       <use xlink:href=\"#m1dcf9c9757\" x=\"89.864606\" y=\"395.28\" style=\"stroke: #000000; stroke-width: 0.8\"/>\n      </g>\n     </g>\n     <g id=\"text_2\">\n      <!-- C7 -->\n      <g transform=\"translate(83.19195 409.878437) scale(0.1 -0.1)\">\n       <defs>\n        <path id=\"DejaVuSans-37\" d=\"M 525 4666 \nL 3525 4666 \nL 3525 4397 \nL 1831 0 \nL 1172 0 \nL 2766 4134 \nL 525 4134 \nL 525 4666 \nz\n\" transform=\"scale(0.015625)\"/>\n       </defs>\n       <use xlink:href=\"#DejaVuSans-43\"/>\n       <use xlink:href=\"#DejaVuSans-37\" x=\"69.824219\"/>\n      </g>\n     </g>\n    </g>\n    <g id=\"xtick_3\">\n     <g id=\"line2d_3\">\n      <g>\n       <use xlink:href=\"#m1dcf9c9757\" x=\"109.980594\" y=\"395.28\" style=\"stroke: #000000; stroke-width: 0.8\"/>\n      </g>\n     </g>\n     <g id=\"text_3\">\n      <!-- C13 -->\n      <g transform=\"translate(100.126687 409.878437) scale(0.1 -0.1)\">\n       <defs>\n        <path id=\"DejaVuSans-31\" d=\"M 794 531 \nL 1825 531 \nL 1825 4091 \nL 703 3866 \nL 703 4441 \nL 1819 4666 \nL 2450 4666 \nL 2450 531 \nL 3481 531 \nL 3481 0 \nL 794 0 \nL 794 531 \nz\n\" transform=\"scale(0.015625)\"/>\n       </defs>\n       <use xlink:href=\"#DejaVuSans-43\"/>\n       <use xlink:href=\"#DejaVuSans-31\" x=\"69.824219\"/>\n       <use xlink:href=\"#DejaVuSans-33\" x=\"133.447266\"/>\n      </g>\n     </g>\n    </g>\n    <g id=\"xtick_4\">\n     <g id=\"line2d_4\">\n      <g>\n       <use xlink:href=\"#m1dcf9c9757\" x=\"130.096581\" y=\"395.28\" style=\"stroke: #000000; stroke-width: 0.8\"/>\n      </g>\n     </g>\n     <g id=\"text_4\">\n      <!-- C9 -->\n      <g transform=\"translate(123.423925 409.878437) scale(0.1 -0.1)\">\n       <defs>\n        <path id=\"DejaVuSans-39\" d=\"M 703 97 \nL 703 672 \nQ 941 559 1184 500 \nQ 1428 441 1663 441 \nQ 2288 441 2617 861 \nQ 2947 1281 2994 2138 \nQ 2813 1869 2534 1725 \nQ 2256 1581 1919 1581 \nQ 1219 1581 811 2004 \nQ 403 2428 403 3163 \nQ 403 3881 828 4315 \nQ 1253 4750 1959 4750 \nQ 2769 4750 3195 4129 \nQ 3622 3509 3622 2328 \nQ 3622 1225 3098 567 \nQ 2575 -91 1691 -91 \nQ 1453 -91 1209 -44 \nQ 966 3 703 97 \nz\nM 1959 2075 \nQ 2384 2075 2632 2365 \nQ 2881 2656 2881 3163 \nQ 2881 3666 2632 3958 \nQ 2384 4250 1959 4250 \nQ 1534 4250 1286 3958 \nQ 1038 3666 1038 3163 \nQ 1038 2656 1286 2365 \nQ 1534 2075 1959 2075 \nz\n\" transform=\"scale(0.015625)\"/>\n       </defs>\n       <use xlink:href=\"#DejaVuSans-43\"/>\n       <use xlink:href=\"#DejaVuSans-39\" x=\"69.824219\"/>\n      </g>\n     </g>\n    </g>\n    <g id=\"xtick_5\">\n     <g id=\"line2d_5\">\n      <g>\n       <use xlink:href=\"#m1dcf9c9757\" x=\"150.212569\" y=\"395.28\" style=\"stroke: #000000; stroke-width: 0.8\"/>\n      </g>\n     </g>\n     <g id=\"text_5\">\n      <!-- C11 -->\n      <g transform=\"translate(140.358662 409.878437) scale(0.1 -0.1)\">\n       <use xlink:href=\"#DejaVuSans-43\"/>\n       <use xlink:href=\"#DejaVuSans-31\" x=\"69.824219\"/>\n       <use xlink:href=\"#DejaVuSans-31\" x=\"133.447266\"/>\n      </g>\n     </g>\n    </g>\n    <g id=\"xtick_6\">\n     <g id=\"line2d_6\">\n      <g>\n       <use xlink:href=\"#m1dcf9c9757\" x=\"170.328556\" y=\"395.28\" style=\"stroke: #000000; stroke-width: 0.8\"/>\n      </g>\n     </g>\n     <g id=\"text_6\">\n      <!-- C2 -->\n      <g transform=\"translate(163.6559 409.878437) scale(0.1 -0.1)\">\n       <use xlink:href=\"#DejaVuSans-43\"/>\n       <use xlink:href=\"#DejaVuSans-32\" x=\"69.824219\"/>\n      </g>\n     </g>\n    </g>\n    <g id=\"xtick_7\">\n     <g id=\"line2d_7\">\n      <g>\n       <use xlink:href=\"#m1dcf9c9757\" x=\"190.444543\" y=\"395.28\" style=\"stroke: #000000; stroke-width: 0.8\"/>\n      </g>\n     </g>\n     <g id=\"text_7\">\n      <!-- C19 -->\n      <g transform=\"translate(180.590637 409.878437) scale(0.1 -0.1)\">\n       <use xlink:href=\"#DejaVuSans-43\"/>\n       <use xlink:href=\"#DejaVuSans-31\" x=\"69.824219\"/>\n       <use xlink:href=\"#DejaVuSans-39\" x=\"133.447266\"/>\n      </g>\n     </g>\n    </g>\n    <g id=\"xtick_8\">\n     <g id=\"line2d_8\">\n      <g>\n       <use xlink:href=\"#m1dcf9c9757\" x=\"210.560531\" y=\"395.28\" style=\"stroke: #000000; stroke-width: 0.8\"/>\n      </g>\n     </g>\n     <g id=\"text_8\">\n      <!-- C26 -->\n      <g transform=\"translate(200.706625 409.878437) scale(0.1 -0.1)\">\n       <defs>\n        <path id=\"DejaVuSans-36\" d=\"M 2113 2584 \nQ 1688 2584 1439 2293 \nQ 1191 2003 1191 1497 \nQ 1191 994 1439 701 \nQ 1688 409 2113 409 \nQ 2538 409 2786 701 \nQ 3034 994 3034 1497 \nQ 3034 2003 2786 2293 \nQ 2538 2584 2113 2584 \nz\nM 3366 4563 \nL 3366 3988 \nQ 3128 4100 2886 4159 \nQ 2644 4219 2406 4219 \nQ 1781 4219 1451 3797 \nQ 1122 3375 1075 2522 \nQ 1259 2794 1537 2939 \nQ 1816 3084 2150 3084 \nQ 2853 3084 3261 2657 \nQ 3669 2231 3669 1497 \nQ 3669 778 3244 343 \nQ 2819 -91 2113 -91 \nQ 1303 -91 875 529 \nQ 447 1150 447 2328 \nQ 447 3434 972 4092 \nQ 1497 4750 2381 4750 \nQ 2619 4750 2861 4703 \nQ 3103 4656 3366 4563 \nz\n\" transform=\"scale(0.015625)\"/>\n       </defs>\n       <use xlink:href=\"#DejaVuSans-43\"/>\n       <use xlink:href=\"#DejaVuSans-32\" x=\"69.824219\"/>\n       <use xlink:href=\"#DejaVuSans-36\" x=\"133.447266\"/>\n      </g>\n     </g>\n    </g>\n    <g id=\"xtick_9\">\n     <g id=\"line2d_9\">\n      <g>\n       <use xlink:href=\"#m1dcf9c9757\" x=\"230.676518\" y=\"395.28\" style=\"stroke: #000000; stroke-width: 0.8\"/>\n      </g>\n     </g>\n     <g id=\"text_9\">\n      <!-- C20 -->\n      <g transform=\"translate(220.822612 409.878437) scale(0.1 -0.1)\">\n       <defs>\n        <path id=\"DejaVuSans-30\" d=\"M 2034 4250 \nQ 1547 4250 1301 3770 \nQ 1056 3291 1056 2328 \nQ 1056 1369 1301 889 \nQ 1547 409 2034 409 \nQ 2525 409 2770 889 \nQ 3016 1369 3016 2328 \nQ 3016 3291 2770 3770 \nQ 2525 4250 2034 4250 \nz\nM 2034 4750 \nQ 2819 4750 3233 4129 \nQ 3647 3509 3647 2328 \nQ 3647 1150 3233 529 \nQ 2819 -91 2034 -91 \nQ 1250 -91 836 529 \nQ 422 1150 422 2328 \nQ 422 3509 836 4129 \nQ 1250 4750 2034 4750 \nz\n\" transform=\"scale(0.015625)\"/>\n       </defs>\n       <use xlink:href=\"#DejaVuSans-43\"/>\n       <use xlink:href=\"#DejaVuSans-32\" x=\"69.824219\"/>\n       <use xlink:href=\"#DejaVuSans-30\" x=\"133.447266\"/>\n      </g>\n     </g>\n    </g>\n    <g id=\"xtick_10\">\n     <g id=\"line2d_10\">\n      <g>\n       <use xlink:href=\"#m1dcf9c9757\" x=\"250.792506\" y=\"395.28\" style=\"stroke: #000000; stroke-width: 0.8\"/>\n      </g>\n     </g>\n     <g id=\"text_10\">\n      <!-- C17 -->\n      <g transform=\"translate(240.9386 409.878437) scale(0.1 -0.1)\">\n       <use xlink:href=\"#DejaVuSans-43\"/>\n       <use xlink:href=\"#DejaVuSans-31\" x=\"69.824219\"/>\n       <use xlink:href=\"#DejaVuSans-37\" x=\"133.447266\"/>\n      </g>\n     </g>\n    </g>\n    <g id=\"xtick_11\">\n     <g id=\"line2d_11\">\n      <g>\n       <use xlink:href=\"#m1dcf9c9757\" x=\"270.908493\" y=\"395.28\" style=\"stroke: #000000; stroke-width: 0.8\"/>\n      </g>\n     </g>\n     <g id=\"text_11\">\n      <!-- C29 -->\n      <g transform=\"translate(261.054587 409.878437) scale(0.1 -0.1)\">\n       <use xlink:href=\"#DejaVuSans-43\"/>\n       <use xlink:href=\"#DejaVuSans-32\" x=\"69.824219\"/>\n       <use xlink:href=\"#DejaVuSans-39\" x=\"133.447266\"/>\n      </g>\n     </g>\n    </g>\n    <g id=\"xtick_12\">\n     <g id=\"line2d_12\">\n      <g>\n       <use xlink:href=\"#m1dcf9c9757\" x=\"291.024481\" y=\"395.28\" style=\"stroke: #000000; stroke-width: 0.8\"/>\n      </g>\n     </g>\n     <g id=\"text_12\">\n      <!-- C10 -->\n      <g transform=\"translate(281.170575 409.878437) scale(0.1 -0.1)\">\n       <use xlink:href=\"#DejaVuSans-43\"/>\n       <use xlink:href=\"#DejaVuSans-31\" x=\"69.824219\"/>\n       <use xlink:href=\"#DejaVuSans-30\" x=\"133.447266\"/>\n      </g>\n     </g>\n    </g>\n    <g id=\"xtick_13\">\n     <g id=\"line2d_13\">\n      <g>\n       <use xlink:href=\"#m1dcf9c9757\" x=\"311.140468\" y=\"395.28\" style=\"stroke: #000000; stroke-width: 0.8\"/>\n      </g>\n     </g>\n     <g id=\"text_13\">\n      <!-- C24 -->\n      <g transform=\"translate(301.286562 409.878437) scale(0.1 -0.1)\">\n       <defs>\n        <path id=\"DejaVuSans-34\" d=\"M 2419 4116 \nL 825 1625 \nL 2419 1625 \nL 2419 4116 \nz\nM 2253 4666 \nL 3047 4666 \nL 3047 1625 \nL 3713 1625 \nL 3713 1100 \nL 3047 1100 \nL 3047 0 \nL 2419 0 \nL 2419 1100 \nL 313 1100 \nL 313 1709 \nL 2253 4666 \nz\n\" transform=\"scale(0.015625)\"/>\n       </defs>\n       <use xlink:href=\"#DejaVuSans-43\"/>\n       <use xlink:href=\"#DejaVuSans-32\" x=\"69.824219\"/>\n       <use xlink:href=\"#DejaVuSans-34\" x=\"133.447266\"/>\n      </g>\n     </g>\n    </g>\n    <g id=\"xtick_14\">\n     <g id=\"line2d_14\">\n      <g>\n       <use xlink:href=\"#m1dcf9c9757\" x=\"331.256456\" y=\"395.28\" style=\"stroke: #000000; stroke-width: 0.8\"/>\n      </g>\n     </g>\n     <g id=\"text_14\">\n      <!-- C14 -->\n      <g transform=\"translate(321.402549 409.878437) scale(0.1 -0.1)\">\n       <use xlink:href=\"#DejaVuSans-43\"/>\n       <use xlink:href=\"#DejaVuSans-31\" x=\"69.824219\"/>\n       <use xlink:href=\"#DejaVuSans-34\" x=\"133.447266\"/>\n      </g>\n     </g>\n    </g>\n    <g id=\"xtick_15\">\n     <g id=\"line2d_15\">\n      <g>\n       <use xlink:href=\"#m1dcf9c9757\" x=\"351.372443\" y=\"395.28\" style=\"stroke: #000000; stroke-width: 0.8\"/>\n      </g>\n     </g>\n     <g id=\"text_15\">\n      <!-- C6 -->\n      <g transform=\"translate(344.699787 409.878437) scale(0.1 -0.1)\">\n       <use xlink:href=\"#DejaVuSans-43\"/>\n       <use xlink:href=\"#DejaVuSans-36\" x=\"69.824219\"/>\n      </g>\n     </g>\n    </g>\n    <g id=\"xtick_16\">\n     <g id=\"line2d_16\">\n      <g>\n       <use xlink:href=\"#m1dcf9c9757\" x=\"371.488431\" y=\"395.28\" style=\"stroke: #000000; stroke-width: 0.8\"/>\n      </g>\n     </g>\n     <g id=\"text_16\">\n      <!-- C28 -->\n      <g transform=\"translate(361.634524 409.878437) scale(0.1 -0.1)\">\n       <defs>\n        <path id=\"DejaVuSans-38\" d=\"M 2034 2216 \nQ 1584 2216 1326 1975 \nQ 1069 1734 1069 1313 \nQ 1069 891 1326 650 \nQ 1584 409 2034 409 \nQ 2484 409 2743 651 \nQ 3003 894 3003 1313 \nQ 3003 1734 2745 1975 \nQ 2488 2216 2034 2216 \nz\nM 1403 2484 \nQ 997 2584 770 2862 \nQ 544 3141 544 3541 \nQ 544 4100 942 4425 \nQ 1341 4750 2034 4750 \nQ 2731 4750 3128 4425 \nQ 3525 4100 3525 3541 \nQ 3525 3141 3298 2862 \nQ 3072 2584 2669 2484 \nQ 3125 2378 3379 2068 \nQ 3634 1759 3634 1313 \nQ 3634 634 3220 271 \nQ 2806 -91 2034 -91 \nQ 1263 -91 848 271 \nQ 434 634 434 1313 \nQ 434 1759 690 2068 \nQ 947 2378 1403 2484 \nz\nM 1172 3481 \nQ 1172 3119 1398 2916 \nQ 1625 2713 2034 2713 \nQ 2441 2713 2670 2916 \nQ 2900 3119 2900 3481 \nQ 2900 3844 2670 4047 \nQ 2441 4250 2034 4250 \nQ 1625 4250 1398 4047 \nQ 1172 3844 1172 3481 \nz\n\" transform=\"scale(0.015625)\"/>\n       </defs>\n       <use xlink:href=\"#DejaVuSans-43\"/>\n       <use xlink:href=\"#DejaVuSans-32\" x=\"69.824219\"/>\n       <use xlink:href=\"#DejaVuSans-38\" x=\"133.447266\"/>\n      </g>\n     </g>\n    </g>\n    <g id=\"xtick_17\">\n     <g id=\"line2d_17\">\n      <g>\n       <use xlink:href=\"#m1dcf9c9757\" x=\"391.604418\" y=\"395.28\" style=\"stroke: #000000; stroke-width: 0.8\"/>\n      </g>\n     </g>\n     <g id=\"text_17\">\n      <!-- C5 -->\n      <g transform=\"translate(384.931762 409.878437) scale(0.1 -0.1)\">\n       <defs>\n        <path id=\"DejaVuSans-35\" d=\"M 691 4666 \nL 3169 4666 \nL 3169 4134 \nL 1269 4134 \nL 1269 2991 \nQ 1406 3038 1543 3061 \nQ 1681 3084 1819 3084 \nQ 2600 3084 3056 2656 \nQ 3513 2228 3513 1497 \nQ 3513 744 3044 326 \nQ 2575 -91 1722 -91 \nQ 1428 -91 1123 -41 \nQ 819 9 494 109 \nL 494 744 \nQ 775 591 1075 516 \nQ 1375 441 1709 441 \nQ 2250 441 2565 725 \nQ 2881 1009 2881 1497 \nQ 2881 1984 2565 2268 \nQ 2250 2553 1709 2553 \nQ 1456 2553 1204 2497 \nQ 953 2441 691 2322 \nL 691 4666 \nz\n\" transform=\"scale(0.015625)\"/>\n       </defs>\n       <use xlink:href=\"#DejaVuSans-43\"/>\n       <use xlink:href=\"#DejaVuSans-35\" x=\"69.824219\"/>\n      </g>\n     </g>\n    </g>\n    <g id=\"xtick_18\">\n     <g id=\"line2d_18\">\n      <g>\n       <use xlink:href=\"#m1dcf9c9757\" x=\"411.720406\" y=\"395.28\" style=\"stroke: #000000; stroke-width: 0.8\"/>\n      </g>\n     </g>\n     <g id=\"text_18\">\n      <!-- C18 -->\n      <g transform=\"translate(401.866499 409.878437) scale(0.1 -0.1)\">\n       <use xlink:href=\"#DejaVuSans-43\"/>\n       <use xlink:href=\"#DejaVuSans-31\" x=\"69.824219\"/>\n       <use xlink:href=\"#DejaVuSans-38\" x=\"133.447266\"/>\n      </g>\n     </g>\n    </g>\n    <g id=\"xtick_19\">\n     <g id=\"line2d_19\">\n      <g>\n       <use xlink:href=\"#m1dcf9c9757\" x=\"431.836393\" y=\"395.28\" style=\"stroke: #000000; stroke-width: 0.8\"/>\n      </g>\n     </g>\n     <g id=\"text_19\">\n      <!-- C27 -->\n      <g transform=\"translate(421.982487 409.878437) scale(0.1 -0.1)\">\n       <use xlink:href=\"#DejaVuSans-43\"/>\n       <use xlink:href=\"#DejaVuSans-32\" x=\"69.824219\"/>\n       <use xlink:href=\"#DejaVuSans-37\" x=\"133.447266\"/>\n      </g>\n     </g>\n    </g>\n    <g id=\"xtick_20\">\n     <g id=\"line2d_20\">\n      <g>\n       <use xlink:href=\"#m1dcf9c9757\" x=\"451.95238\" y=\"395.28\" style=\"stroke: #000000; stroke-width: 0.8\"/>\n      </g>\n     </g>\n     <g id=\"text_20\">\n      <!-- C15 -->\n      <g transform=\"translate(442.098474 409.878437) scale(0.1 -0.1)\">\n       <use xlink:href=\"#DejaVuSans-43\"/>\n       <use xlink:href=\"#DejaVuSans-31\" x=\"69.824219\"/>\n       <use xlink:href=\"#DejaVuSans-35\" x=\"133.447266\"/>\n      </g>\n     </g>\n    </g>\n    <g id=\"xtick_21\">\n     <g id=\"line2d_21\">\n      <g>\n       <use xlink:href=\"#m1dcf9c9757\" x=\"472.068368\" y=\"395.28\" style=\"stroke: #000000; stroke-width: 0.8\"/>\n      </g>\n     </g>\n     <g id=\"text_21\">\n      <!-- C8 -->\n      <g transform=\"translate(465.395712 409.878437) scale(0.1 -0.1)\">\n       <use xlink:href=\"#DejaVuSans-43\"/>\n       <use xlink:href=\"#DejaVuSans-38\" x=\"69.824219\"/>\n      </g>\n     </g>\n    </g>\n    <g id=\"xtick_22\">\n     <g id=\"line2d_22\">\n      <g>\n       <use xlink:href=\"#m1dcf9c9757\" x=\"492.184355\" y=\"395.28\" style=\"stroke: #000000; stroke-width: 0.8\"/>\n      </g>\n     </g>\n     <g id=\"text_22\">\n      <!-- C25 -->\n      <g transform=\"translate(482.330449 409.878437) scale(0.1 -0.1)\">\n       <use xlink:href=\"#DejaVuSans-43\"/>\n       <use xlink:href=\"#DejaVuSans-32\" x=\"69.824219\"/>\n       <use xlink:href=\"#DejaVuSans-35\" x=\"133.447266\"/>\n      </g>\n     </g>\n    </g>\n    <g id=\"xtick_23\">\n     <g id=\"line2d_23\">\n      <g>\n       <use xlink:href=\"#m1dcf9c9757\" x=\"512.300343\" y=\"395.28\" style=\"stroke: #000000; stroke-width: 0.8\"/>\n      </g>\n     </g>\n     <g id=\"text_23\">\n      <!-- C21 -->\n      <g transform=\"translate(502.446437 409.878437) scale(0.1 -0.1)\">\n       <use xlink:href=\"#DejaVuSans-43\"/>\n       <use xlink:href=\"#DejaVuSans-32\" x=\"69.824219\"/>\n       <use xlink:href=\"#DejaVuSans-31\" x=\"133.447266\"/>\n      </g>\n     </g>\n    </g>\n    <g id=\"xtick_24\">\n     <g id=\"line2d_24\">\n      <g>\n       <use xlink:href=\"#m1dcf9c9757\" x=\"532.41633\" y=\"395.28\" style=\"stroke: #000000; stroke-width: 0.8\"/>\n      </g>\n     </g>\n     <g id=\"text_24\">\n      <!-- C1 -->\n      <g transform=\"translate(525.743674 409.878437) scale(0.1 -0.1)\">\n       <use xlink:href=\"#DejaVuSans-43\"/>\n       <use xlink:href=\"#DejaVuSans-31\" x=\"69.824219\"/>\n      </g>\n     </g>\n    </g>\n    <g id=\"xtick_25\">\n     <g id=\"line2d_25\">\n      <g>\n       <use xlink:href=\"#m1dcf9c9757\" x=\"552.532318\" y=\"395.28\" style=\"stroke: #000000; stroke-width: 0.8\"/>\n      </g>\n     </g>\n     <g id=\"text_25\">\n      <!-- C4 -->\n      <g transform=\"translate(545.859662 409.878437) scale(0.1 -0.1)\">\n       <use xlink:href=\"#DejaVuSans-43\"/>\n       <use xlink:href=\"#DejaVuSans-34\" x=\"69.824219\"/>\n      </g>\n     </g>\n    </g>\n    <g id=\"xtick_26\">\n     <g id=\"line2d_26\">\n      <g>\n       <use xlink:href=\"#m1dcf9c9757\" x=\"572.648305\" y=\"395.28\" style=\"stroke: #000000; stroke-width: 0.8\"/>\n      </g>\n     </g>\n     <g id=\"text_26\">\n      <!-- C3 -->\n      <g transform=\"translate(565.975649 409.878437) scale(0.1 -0.1)\">\n       <use xlink:href=\"#DejaVuSans-43\"/>\n       <use xlink:href=\"#DejaVuSans-33\" x=\"69.824219\"/>\n      </g>\n     </g>\n    </g>\n    <g id=\"xtick_27\">\n     <g id=\"line2d_27\">\n      <g>\n       <use xlink:href=\"#m1dcf9c9757\" x=\"592.764293\" y=\"395.28\" style=\"stroke: #000000; stroke-width: 0.8\"/>\n      </g>\n     </g>\n     <g id=\"text_27\">\n      <!-- C16 -->\n      <g transform=\"translate(582.910386 409.878437) scale(0.1 -0.1)\">\n       <use xlink:href=\"#DejaVuSans-43\"/>\n       <use xlink:href=\"#DejaVuSans-31\" x=\"69.824219\"/>\n       <use xlink:href=\"#DejaVuSans-36\" x=\"133.447266\"/>\n      </g>\n     </g>\n    </g>\n    <g id=\"xtick_28\">\n     <g id=\"line2d_28\">\n      <g>\n       <use xlink:href=\"#m1dcf9c9757\" x=\"612.88028\" y=\"395.28\" style=\"stroke: #000000; stroke-width: 0.8\"/>\n      </g>\n     </g>\n     <g id=\"text_28\">\n      <!-- C22 -->\n      <g transform=\"translate(603.026374 409.878437) scale(0.1 -0.1)\">\n       <use xlink:href=\"#DejaVuSans-43\"/>\n       <use xlink:href=\"#DejaVuSans-32\" x=\"69.824219\"/>\n       <use xlink:href=\"#DejaVuSans-32\" x=\"133.447266\"/>\n      </g>\n     </g>\n    </g>\n    <g id=\"xtick_29\">\n     <g id=\"line2d_29\">\n      <g>\n       <use xlink:href=\"#m1dcf9c9757\" x=\"632.996268\" y=\"395.28\" style=\"stroke: #000000; stroke-width: 0.8\"/>\n      </g>\n     </g>\n     <g id=\"text_29\">\n      <!-- C12 -->\n      <g transform=\"translate(623.142361 409.878437) scale(0.1 -0.1)\">\n       <use xlink:href=\"#DejaVuSans-43\"/>\n       <use xlink:href=\"#DejaVuSans-31\" x=\"69.824219\"/>\n       <use xlink:href=\"#DejaVuSans-32\" x=\"133.447266\"/>\n      </g>\n     </g>\n    </g>\n    <g id=\"text_30\">\n     <!-- City -->\n     <g transform=\"translate(341.572443 423.556562) scale(0.1 -0.1)\">\n      <defs>\n       <path id=\"DejaVuSans-69\" d=\"M 603 3500 \nL 1178 3500 \nL 1178 0 \nL 603 0 \nL 603 3500 \nz\nM 603 4863 \nL 1178 4863 \nL 1178 4134 \nL 603 4134 \nL 603 4863 \nz\n\" transform=\"scale(0.015625)\"/>\n       <path id=\"DejaVuSans-74\" d=\"M 1172 4494 \nL 1172 3500 \nL 2356 3500 \nL 2356 3053 \nL 1172 3053 \nL 1172 1153 \nQ 1172 725 1289 603 \nQ 1406 481 1766 481 \nL 2356 481 \nL 2356 0 \nL 1766 0 \nQ 1100 0 847 248 \nQ 594 497 594 1153 \nL 594 3053 \nL 172 3053 \nL 172 3500 \nL 594 3500 \nL 594 4494 \nL 1172 4494 \nz\n\" transform=\"scale(0.015625)\"/>\n       <path id=\"DejaVuSans-79\" d=\"M 2059 -325 \nQ 1816 -950 1584 -1140 \nQ 1353 -1331 966 -1331 \nL 506 -1331 \nL 506 -850 \nL 844 -850 \nQ 1081 -850 1212 -737 \nQ 1344 -625 1503 -206 \nL 1606 56 \nL 191 3500 \nL 800 3500 \nL 1894 763 \nL 2988 3500 \nL 3597 3500 \nL 2059 -325 \nz\n\" transform=\"scale(0.015625)\"/>\n      </defs>\n      <use xlink:href=\"#DejaVuSans-43\"/>\n      <use xlink:href=\"#DejaVuSans-69\" x=\"69.824219\"/>\n      <use xlink:href=\"#DejaVuSans-74\" x=\"97.607422\"/>\n      <use xlink:href=\"#DejaVuSans-79\" x=\"136.816406\"/>\n     </g>\n    </g>\n   </g>\n   <g id=\"matplotlib.axis_2\">\n    <g id=\"ytick_1\">\n     <g id=\"line2d_30\">\n      <defs>\n       <path id=\"mb324547d96\" d=\"M 0 0 \nL -3.5 0 \n\" style=\"stroke: #000000; stroke-width: 0.8\"/>\n      </defs>\n      <g>\n       <use xlink:href=\"#mb324547d96\" x=\"59.690625\" y=\"395.28\" style=\"stroke: #000000; stroke-width: 0.8\"/>\n      </g>\n     </g>\n     <g id=\"text_31\">\n      <!-- 0 -->\n      <g transform=\"translate(46.328125 399.079219) scale(0.1 -0.1)\">\n       <use xlink:href=\"#DejaVuSans-30\"/>\n      </g>\n     </g>\n    </g>\n    <g id=\"ytick_2\">\n     <g id=\"line2d_31\">\n      <g>\n       <use xlink:href=\"#mb324547d96\" x=\"59.690625\" y=\"342.198822\" style=\"stroke: #000000; stroke-width: 0.8\"/>\n      </g>\n     </g>\n     <g id=\"text_32\">\n      <!-- 10000 -->\n      <g transform=\"translate(20.878125 345.998041) scale(0.1 -0.1)\">\n       <use xlink:href=\"#DejaVuSans-31\"/>\n       <use xlink:href=\"#DejaVuSans-30\" x=\"63.623047\"/>\n       <use xlink:href=\"#DejaVuSans-30\" x=\"127.246094\"/>\n       <use xlink:href=\"#DejaVuSans-30\" x=\"190.869141\"/>\n       <use xlink:href=\"#DejaVuSans-30\" x=\"254.492188\"/>\n      </g>\n     </g>\n    </g>\n    <g id=\"ytick_3\">\n     <g id=\"line2d_32\">\n      <g>\n       <use xlink:href=\"#mb324547d96\" x=\"59.690625\" y=\"289.117644\" style=\"stroke: #000000; stroke-width: 0.8\"/>\n      </g>\n     </g>\n     <g id=\"text_33\">\n      <!-- 20000 -->\n      <g transform=\"translate(20.878125 292.916863) scale(0.1 -0.1)\">\n       <use xlink:href=\"#DejaVuSans-32\"/>\n       <use xlink:href=\"#DejaVuSans-30\" x=\"63.623047\"/>\n       <use xlink:href=\"#DejaVuSans-30\" x=\"127.246094\"/>\n       <use xlink:href=\"#DejaVuSans-30\" x=\"190.869141\"/>\n       <use xlink:href=\"#DejaVuSans-30\" x=\"254.492188\"/>\n      </g>\n     </g>\n    </g>\n    <g id=\"ytick_4\">\n     <g id=\"line2d_33\">\n      <g>\n       <use xlink:href=\"#mb324547d96\" x=\"59.690625\" y=\"236.036466\" style=\"stroke: #000000; stroke-width: 0.8\"/>\n      </g>\n     </g>\n     <g id=\"text_34\">\n      <!-- 30000 -->\n      <g transform=\"translate(20.878125 239.835685) scale(0.1 -0.1)\">\n       <use xlink:href=\"#DejaVuSans-33\"/>\n       <use xlink:href=\"#DejaVuSans-30\" x=\"63.623047\"/>\n       <use xlink:href=\"#DejaVuSans-30\" x=\"127.246094\"/>\n       <use xlink:href=\"#DejaVuSans-30\" x=\"190.869141\"/>\n       <use xlink:href=\"#DejaVuSans-30\" x=\"254.492188\"/>\n      </g>\n     </g>\n    </g>\n    <g id=\"ytick_5\">\n     <g id=\"line2d_34\">\n      <g>\n       <use xlink:href=\"#mb324547d96\" x=\"59.690625\" y=\"182.955288\" style=\"stroke: #000000; stroke-width: 0.8\"/>\n      </g>\n     </g>\n     <g id=\"text_35\">\n      <!-- 40000 -->\n      <g transform=\"translate(20.878125 186.754507) scale(0.1 -0.1)\">\n       <use xlink:href=\"#DejaVuSans-34\"/>\n       <use xlink:href=\"#DejaVuSans-30\" x=\"63.623047\"/>\n       <use xlink:href=\"#DejaVuSans-30\" x=\"127.246094\"/>\n       <use xlink:href=\"#DejaVuSans-30\" x=\"190.869141\"/>\n       <use xlink:href=\"#DejaVuSans-30\" x=\"254.492188\"/>\n      </g>\n     </g>\n    </g>\n    <g id=\"ytick_6\">\n     <g id=\"line2d_35\">\n      <g>\n       <use xlink:href=\"#mb324547d96\" x=\"59.690625\" y=\"129.874111\" style=\"stroke: #000000; stroke-width: 0.8\"/>\n      </g>\n     </g>\n     <g id=\"text_36\">\n      <!-- 50000 -->\n      <g transform=\"translate(20.878125 133.673329) scale(0.1 -0.1)\">\n       <use xlink:href=\"#DejaVuSans-35\"/>\n       <use xlink:href=\"#DejaVuSans-30\" x=\"63.623047\"/>\n       <use xlink:href=\"#DejaVuSans-30\" x=\"127.246094\"/>\n       <use xlink:href=\"#DejaVuSans-30\" x=\"190.869141\"/>\n       <use xlink:href=\"#DejaVuSans-30\" x=\"254.492188\"/>\n      </g>\n     </g>\n    </g>\n    <g id=\"ytick_7\">\n     <g id=\"line2d_36\">\n      <g>\n       <use xlink:href=\"#mb324547d96\" x=\"59.690625\" y=\"76.792933\" style=\"stroke: #000000; stroke-width: 0.8\"/>\n      </g>\n     </g>\n     <g id=\"text_37\">\n      <!-- 60000 -->\n      <g transform=\"translate(20.878125 80.592151) scale(0.1 -0.1)\">\n       <use xlink:href=\"#DejaVuSans-36\"/>\n       <use xlink:href=\"#DejaVuSans-30\" x=\"63.623047\"/>\n       <use xlink:href=\"#DejaVuSans-30\" x=\"127.246094\"/>\n       <use xlink:href=\"#DejaVuSans-30\" x=\"190.869141\"/>\n       <use xlink:href=\"#DejaVuSans-30\" x=\"254.492188\"/>\n      </g>\n     </g>\n    </g>\n    <g id=\"ytick_8\">\n     <g id=\"line2d_37\">\n      <g>\n       <use xlink:href=\"#mb324547d96\" x=\"59.690625\" y=\"23.711755\" style=\"stroke: #000000; stroke-width: 0.8\"/>\n      </g>\n     </g>\n     <g id=\"text_38\">\n      <!-- 70000 -->\n      <g transform=\"translate(20.878125 27.510974) scale(0.1 -0.1)\">\n       <use xlink:href=\"#DejaVuSans-37\"/>\n       <use xlink:href=\"#DejaVuSans-30\" x=\"63.623047\"/>\n       <use xlink:href=\"#DejaVuSans-30\" x=\"127.246094\"/>\n       <use xlink:href=\"#DejaVuSans-30\" x=\"190.869141\"/>\n       <use xlink:href=\"#DejaVuSans-30\" x=\"254.492188\"/>\n      </g>\n     </g>\n    </g>\n    <g id=\"text_39\">\n     <!-- Income -->\n     <g transform=\"translate(14.798438 219.639219) rotate(-90) scale(0.1 -0.1)\">\n      <defs>\n       <path id=\"DejaVuSans-49\" d=\"M 628 4666 \nL 1259 4666 \nL 1259 0 \nL 628 0 \nL 628 4666 \nz\n\" transform=\"scale(0.015625)\"/>\n       <path id=\"DejaVuSans-6e\" d=\"M 3513 2113 \nL 3513 0 \nL 2938 0 \nL 2938 2094 \nQ 2938 2591 2744 2837 \nQ 2550 3084 2163 3084 \nQ 1697 3084 1428 2787 \nQ 1159 2491 1159 1978 \nL 1159 0 \nL 581 0 \nL 581 3500 \nL 1159 3500 \nL 1159 2956 \nQ 1366 3272 1645 3428 \nQ 1925 3584 2291 3584 \nQ 2894 3584 3203 3211 \nQ 3513 2838 3513 2113 \nz\n\" transform=\"scale(0.015625)\"/>\n       <path id=\"DejaVuSans-63\" d=\"M 3122 3366 \nL 3122 2828 \nQ 2878 2963 2633 3030 \nQ 2388 3097 2138 3097 \nQ 1578 3097 1268 2742 \nQ 959 2388 959 1747 \nQ 959 1106 1268 751 \nQ 1578 397 2138 397 \nQ 2388 397 2633 464 \nQ 2878 531 3122 666 \nL 3122 134 \nQ 2881 22 2623 -34 \nQ 2366 -91 2075 -91 \nQ 1284 -91 818 406 \nQ 353 903 353 1747 \nQ 353 2603 823 3093 \nQ 1294 3584 2113 3584 \nQ 2378 3584 2631 3529 \nQ 2884 3475 3122 3366 \nz\n\" transform=\"scale(0.015625)\"/>\n       <path id=\"DejaVuSans-6f\" d=\"M 1959 3097 \nQ 1497 3097 1228 2736 \nQ 959 2375 959 1747 \nQ 959 1119 1226 758 \nQ 1494 397 1959 397 \nQ 2419 397 2687 759 \nQ 2956 1122 2956 1747 \nQ 2956 2369 2687 2733 \nQ 2419 3097 1959 3097 \nz\nM 1959 3584 \nQ 2709 3584 3137 3096 \nQ 3566 2609 3566 1747 \nQ 3566 888 3137 398 \nQ 2709 -91 1959 -91 \nQ 1206 -91 779 398 \nQ 353 888 353 1747 \nQ 353 2609 779 3096 \nQ 1206 3584 1959 3584 \nz\n\" transform=\"scale(0.015625)\"/>\n       <path id=\"DejaVuSans-6d\" d=\"M 3328 2828 \nQ 3544 3216 3844 3400 \nQ 4144 3584 4550 3584 \nQ 5097 3584 5394 3201 \nQ 5691 2819 5691 2113 \nL 5691 0 \nL 5113 0 \nL 5113 2094 \nQ 5113 2597 4934 2840 \nQ 4756 3084 4391 3084 \nQ 3944 3084 3684 2787 \nQ 3425 2491 3425 1978 \nL 3425 0 \nL 2847 0 \nL 2847 2094 \nQ 2847 2600 2669 2842 \nQ 2491 3084 2119 3084 \nQ 1678 3084 1418 2786 \nQ 1159 2488 1159 1978 \nL 1159 0 \nL 581 0 \nL 581 3500 \nL 1159 3500 \nL 1159 2956 \nQ 1356 3278 1631 3431 \nQ 1906 3584 2284 3584 \nQ 2666 3584 2933 3390 \nQ 3200 3197 3328 2828 \nz\n\" transform=\"scale(0.015625)\"/>\n       <path id=\"DejaVuSans-65\" d=\"M 3597 1894 \nL 3597 1613 \nL 953 1613 \nQ 991 1019 1311 708 \nQ 1631 397 2203 397 \nQ 2534 397 2845 478 \nQ 3156 559 3463 722 \nL 3463 178 \nQ 3153 47 2828 -22 \nQ 2503 -91 2169 -91 \nQ 1331 -91 842 396 \nQ 353 884 353 1716 \nQ 353 2575 817 3079 \nQ 1281 3584 2069 3584 \nQ 2775 3584 3186 3129 \nQ 3597 2675 3597 1894 \nz\nM 3022 2063 \nQ 3016 2534 2758 2815 \nQ 2500 3097 2075 3097 \nQ 1594 3097 1305 2825 \nQ 1016 2553 972 2059 \nL 3022 2063 \nz\n\" transform=\"scale(0.015625)\"/>\n      </defs>\n      <use xlink:href=\"#DejaVuSans-49\"/>\n      <use xlink:href=\"#DejaVuSans-6e\" x=\"29.492188\"/>\n      <use xlink:href=\"#DejaVuSans-63\" x=\"92.871094\"/>\n      <use xlink:href=\"#DejaVuSans-6f\" x=\"147.851562\"/>\n      <use xlink:href=\"#DejaVuSans-6d\" x=\"209.033203\"/>\n      <use xlink:href=\"#DejaVuSans-65\" x=\"306.445312\"/>\n     </g>\n    </g>\n   </g>\n   <g id=\"line2d_38\">\n    <path d=\"M 69.748619 113.886583 \nL 69.748619 54.826033 \n\" clip-path=\"url(#pf7434a8669)\" style=\"fill: none; stroke: #424242; stroke-width: 2.7; stroke-linecap: square\"/>\n   </g>\n   <g id=\"line2d_39\">\n    <path d=\"M 89.864606 108.844146 \nL 89.864606 45.227816 \n\" clip-path=\"url(#pf7434a8669)\" style=\"fill: none; stroke: #424242; stroke-width: 2.7; stroke-linecap: square\"/>\n   </g>\n   <g id=\"line2d_40\">\n    <path d=\"M 109.980594 127.255196 \nL 109.980594 73.478813 \n\" clip-path=\"url(#pf7434a8669)\" style=\"fill: none; stroke: #424242; stroke-width: 2.7; stroke-linecap: square\"/>\n   </g>\n   <g id=\"line2d_41\">\n    <path d=\"M 130.096581 116.613358 \nL 130.096581 62.82159 \n\" clip-path=\"url(#pf7434a8669)\" style=\"fill: none; stroke: #424242; stroke-width: 2.7; stroke-linecap: square\"/>\n   </g>\n   <g id=\"line2d_42\">\n    <path d=\"M 150.212569 90.967384 \nL 150.212569 28.934918 \n\" clip-path=\"url(#pf7434a8669)\" style=\"fill: none; stroke: #424242; stroke-width: 2.7; stroke-linecap: square\"/>\n   </g>\n   <g id=\"line2d_43\">\n    <path d=\"M 170.328556 126.022354 \nL 170.328556 56.267155 \n\" clip-path=\"url(#pf7434a8669)\" style=\"fill: none; stroke: #424242; stroke-width: 2.7; stroke-linecap: square\"/>\n   </g>\n   <g id=\"line2d_44\">\n    <path d=\"M 190.444543 126.320009 \nL 190.444543 62.569936 \n\" clip-path=\"url(#pf7434a8669)\" style=\"fill: none; stroke: #424242; stroke-width: 2.7; stroke-linecap: square\"/>\n   </g>\n   <g id=\"line2d_45\">\n    <path d=\"M 210.560531 106.147548 \nL 210.560531 48.436404 \n\" clip-path=\"url(#pf7434a8669)\" style=\"fill: none; stroke: #424242; stroke-width: 2.7; stroke-linecap: square\"/>\n   </g>\n   <g id=\"line2d_46\">\n    <path d=\"M 230.676518 98.922336 \nL 230.676518 56.078954 \n\" clip-path=\"url(#pf7434a8669)\" style=\"fill: none; stroke: #424242; stroke-width: 2.7; stroke-linecap: square\"/>\n   </g>\n   <g id=\"line2d_47\">\n    <path d=\"M 250.792506 150.606366 \nL 250.792506 94.565236 \n\" clip-path=\"url(#pf7434a8669)\" style=\"fill: none; stroke: #424242; stroke-width: 2.7; stroke-linecap: square\"/>\n   </g>\n   <g id=\"line2d_48\">\n    <path d=\"M 270.908493 96.376968 \nL 270.908493 43.240139 \n\" clip-path=\"url(#pf7434a8669)\" style=\"fill: none; stroke: #424242; stroke-width: 2.7; stroke-linecap: square\"/>\n   </g>\n   <g id=\"line2d_49\">\n    <path d=\"M 291.024481 113.515936 \nL 291.024481 56.712363 \n\" clip-path=\"url(#pf7434a8669)\" style=\"fill: none; stroke: #424242; stroke-width: 2.7; stroke-linecap: square\"/>\n   </g>\n   <g id=\"line2d_50\">\n    <path d=\"M 311.140468 127.584074 \nL 311.140468 63.085787 \n\" clip-path=\"url(#pf7434a8669)\" style=\"fill: none; stroke: #424242; stroke-width: 2.7; stroke-linecap: square\"/>\n   </g>\n   <g id=\"line2d_51\">\n    <path d=\"M 331.256456 96.659539 \nL 331.256456 37.113402 \n\" clip-path=\"url(#pf7434a8669)\" style=\"fill: none; stroke: #424242; stroke-width: 2.7; stroke-linecap: square\"/>\n   </g>\n   <g id=\"line2d_52\">\n    <path d=\"M 351.372443 112.191282 \nL 351.372443 47.051112 \n\" clip-path=\"url(#pf7434a8669)\" style=\"fill: none; stroke: #424242; stroke-width: 2.7; stroke-linecap: square\"/>\n   </g>\n   <g id=\"line2d_53\">\n    <path d=\"M 371.488431 128.199034 \nL 371.488431 70.182046 \n\" clip-path=\"url(#pf7434a8669)\" style=\"fill: none; stroke: #424242; stroke-width: 2.7; stroke-linecap: square\"/>\n   </g>\n   <g id=\"line2d_54\">\n    <path d=\"M 391.604418 108.380541 \nL 391.604418 51.634045 \n\" clip-path=\"url(#pf7434a8669)\" style=\"fill: none; stroke: #424242; stroke-width: 2.7; stroke-linecap: square\"/>\n   </g>\n   <g id=\"line2d_55\">\n    <path d=\"M 411.720406 131.112135 \nL 411.720406 52.212172 \n\" clip-path=\"url(#pf7434a8669)\" style=\"fill: none; stroke: #424242; stroke-width: 2.7; stroke-linecap: square\"/>\n   </g>\n   <g id=\"line2d_56\">\n    <path d=\"M 431.836393 99.862142 \nL 431.836393 43.849597 \n\" clip-path=\"url(#pf7434a8669)\" style=\"fill: none; stroke: #424242; stroke-width: 2.7; stroke-linecap: square\"/>\n   </g>\n   <g id=\"line2d_57\">\n    <path d=\"M 451.95238 119.649721 \nL 451.95238 64.092555 \n\" clip-path=\"url(#pf7434a8669)\" style=\"fill: none; stroke: #424242; stroke-width: 2.7; stroke-linecap: square\"/>\n   </g>\n   <g id=\"line2d_58\">\n    <path d=\"M 472.068368 94.259179 \nL 472.068368 32.005012 \n\" clip-path=\"url(#pf7434a8669)\" style=\"fill: none; stroke: #424242; stroke-width: 2.7; stroke-linecap: square\"/>\n   </g>\n   <g id=\"line2d_59\">\n    <path d=\"M 492.184355 111.558961 \nL 492.184355 47.329633 \n\" clip-path=\"url(#pf7434a8669)\" style=\"fill: none; stroke: #424242; stroke-width: 2.7; stroke-linecap: square\"/>\n   </g>\n   <g id=\"line2d_60\">\n    <path d=\"M 512.300343 132.008436 \nL 512.300343 68.011703 \n\" clip-path=\"url(#pf7434a8669)\" style=\"fill: none; stroke: #424242; stroke-width: 2.7; stroke-linecap: square\"/>\n   </g>\n   <g id=\"line2d_61\">\n    <path d=\"M 532.41633 115.751075 \nL 532.41633 54.199069 \n\" clip-path=\"url(#pf7434a8669)\" style=\"fill: none; stroke: #424242; stroke-width: 2.7; stroke-linecap: square\"/>\n   </g>\n   <g id=\"line2d_62\">\n    <path d=\"M 552.532318 131.36291 \nL 552.532318 64.006004 \n\" clip-path=\"url(#pf7434a8669)\" style=\"fill: none; stroke: #424242; stroke-width: 2.7; stroke-linecap: square\"/>\n   </g>\n   <g id=\"line2d_63\">\n    <path d=\"M 572.648305 116.319515 \nL 572.648305 59.529416 \n\" clip-path=\"url(#pf7434a8669)\" style=\"fill: none; stroke: #424242; stroke-width: 2.7; stroke-linecap: square\"/>\n   </g>\n   <g id=\"line2d_64\">\n    <path d=\"M 592.764293 131.418149 \nL 592.764293 71.348975 \n\" clip-path=\"url(#pf7434a8669)\" style=\"fill: none; stroke: #424242; stroke-width: 2.7; stroke-linecap: square\"/>\n   </g>\n   <g id=\"line2d_65\">\n    <path d=\"M 612.88028 121.377541 \nL 612.88028 60.645111 \n\" clip-path=\"url(#pf7434a8669)\" style=\"fill: none; stroke: #424242; stroke-width: 2.7; stroke-linecap: square\"/>\n   </g>\n   <g id=\"line2d_66\">\n    <path d=\"M 632.996268 84.516396 \nL 632.996268 25.68 \n\" clip-path=\"url(#pf7434a8669)\" style=\"fill: none; stroke: #424242; stroke-width: 2.7; stroke-linecap: square\"/>\n   </g>\n   <g id=\"patch_32\">\n    <path d=\"M 59.690625 395.28 \nL 59.690625 7.2 \n\" style=\"fill: none; stroke: #000000; stroke-width: 0.8; stroke-linejoin: miter; stroke-linecap: square\"/>\n   </g>\n   <g id=\"patch_33\">\n    <path d=\"M 643.054261 395.28 \nL 643.054261 7.2 \n\" style=\"fill: none; stroke: #000000; stroke-width: 0.8; stroke-linejoin: miter; stroke-linecap: square\"/>\n   </g>\n   <g id=\"patch_34\">\n    <path d=\"M 59.690625 395.28 \nL 643.054261 395.28 \n\" style=\"fill: none; stroke: #000000; stroke-width: 0.8; stroke-linejoin: miter; stroke-linecap: square\"/>\n   </g>\n   <g id=\"patch_35\">\n    <path d=\"M 59.690625 7.2 \nL 643.054261 7.2 \n\" style=\"fill: none; stroke: #000000; stroke-width: 0.8; stroke-linejoin: miter; stroke-linecap: square\"/>\n   </g>\n  </g>\n  <g id=\"axes_2\">\n   <g id=\"patch_36\">\n    <path d=\"M 759.726989 395.28 \nL 1343.090625 395.28 \nL 1343.090625 7.2 \nL 759.726989 7.2 \nz\n\" style=\"fill: #ffffff\"/>\n   </g>\n   <g id=\"patch_37\">\n    <path d=\"M 788.89517 395.28 \nL 1022.240625 395.28 \nL 1022.240625 40.131544 \nL 788.89517 40.131544 \nz\n\" clip-path=\"url(#p356cc6b24f)\" style=\"fill: #3274a1\"/>\n   </g>\n   <g id=\"patch_38\">\n    <path d=\"M 1080.576989 395.28 \nL 1313.922443 395.28 \nL 1313.922443 35.374026 \nL 1080.576989 35.374026 \nz\n\" clip-path=\"url(#p356cc6b24f)\" style=\"fill: #e1812c\"/>\n   </g>\n   <g id=\"matplotlib.axis_3\">\n    <g id=\"xtick_30\">\n     <g id=\"line2d_67\">\n      <g>\n       <use xlink:href=\"#m1dcf9c9757\" x=\"905.567898\" y=\"395.28\" style=\"stroke: #000000; stroke-width: 0.8\"/>\n      </g>\n     </g>\n     <g id=\"text_40\">\n      <!-- 0.0 -->\n      <g transform=\"translate(897.616335 409.878437) scale(0.1 -0.1)\">\n       <defs>\n        <path id=\"DejaVuSans-2e\" d=\"M 684 794 \nL 1344 794 \nL 1344 0 \nL 684 0 \nL 684 794 \nz\n\" transform=\"scale(0.015625)\"/>\n       </defs>\n       <use xlink:href=\"#DejaVuSans-30\"/>\n       <use xlink:href=\"#DejaVuSans-2e\" x=\"63.623047\"/>\n       <use xlink:href=\"#DejaVuSans-30\" x=\"95.410156\"/>\n      </g>\n     </g>\n    </g>\n    <g id=\"xtick_31\">\n     <g id=\"line2d_68\">\n      <g>\n       <use xlink:href=\"#m1dcf9c9757\" x=\"1197.249716\" y=\"395.28\" style=\"stroke: #000000; stroke-width: 0.8\"/>\n      </g>\n     </g>\n     <g id=\"text_41\">\n      <!-- 1.0 -->\n      <g transform=\"translate(1189.298153 409.878437) scale(0.1 -0.1)\">\n       <use xlink:href=\"#DejaVuSans-31\"/>\n       <use xlink:href=\"#DejaVuSans-2e\" x=\"63.623047\"/>\n       <use xlink:href=\"#DejaVuSans-30\" x=\"95.410156\"/>\n      </g>\n     </g>\n    </g>\n    <g id=\"text_42\">\n     <!-- Gender -->\n     <g transform=\"translate(1032.983026 423.556562) scale(0.1 -0.1)\">\n      <defs>\n       <path id=\"DejaVuSans-47\" d=\"M 3809 666 \nL 3809 1919 \nL 2778 1919 \nL 2778 2438 \nL 4434 2438 \nL 4434 434 \nQ 4069 175 3628 42 \nQ 3188 -91 2688 -91 \nQ 1594 -91 976 548 \nQ 359 1188 359 2328 \nQ 359 3472 976 4111 \nQ 1594 4750 2688 4750 \nQ 3144 4750 3555 4637 \nQ 3966 4525 4313 4306 \nL 4313 3634 \nQ 3963 3931 3569 4081 \nQ 3175 4231 2741 4231 \nQ 1884 4231 1454 3753 \nQ 1025 3275 1025 2328 \nQ 1025 1384 1454 906 \nQ 1884 428 2741 428 \nQ 3075 428 3337 486 \nQ 3600 544 3809 666 \nz\n\" transform=\"scale(0.015625)\"/>\n       <path id=\"DejaVuSans-64\" d=\"M 2906 2969 \nL 2906 4863 \nL 3481 4863 \nL 3481 0 \nL 2906 0 \nL 2906 525 \nQ 2725 213 2448 61 \nQ 2172 -91 1784 -91 \nQ 1150 -91 751 415 \nQ 353 922 353 1747 \nQ 353 2572 751 3078 \nQ 1150 3584 1784 3584 \nQ 2172 3584 2448 3432 \nQ 2725 3281 2906 2969 \nz\nM 947 1747 \nQ 947 1113 1208 752 \nQ 1469 391 1925 391 \nQ 2381 391 2643 752 \nQ 2906 1113 2906 1747 \nQ 2906 2381 2643 2742 \nQ 2381 3103 1925 3103 \nQ 1469 3103 1208 2742 \nQ 947 2381 947 1747 \nz\n\" transform=\"scale(0.015625)\"/>\n       <path id=\"DejaVuSans-72\" d=\"M 2631 2963 \nQ 2534 3019 2420 3045 \nQ 2306 3072 2169 3072 \nQ 1681 3072 1420 2755 \nQ 1159 2438 1159 1844 \nL 1159 0 \nL 581 0 \nL 581 3500 \nL 1159 3500 \nL 1159 2956 \nQ 1341 3275 1631 3429 \nQ 1922 3584 2338 3584 \nQ 2397 3584 2469 3576 \nQ 2541 3569 2628 3553 \nL 2631 2963 \nz\n\" transform=\"scale(0.015625)\"/>\n      </defs>\n      <use xlink:href=\"#DejaVuSans-47\"/>\n      <use xlink:href=\"#DejaVuSans-65\" x=\"77.490234\"/>\n      <use xlink:href=\"#DejaVuSans-6e\" x=\"139.013672\"/>\n      <use xlink:href=\"#DejaVuSans-64\" x=\"202.392578\"/>\n      <use xlink:href=\"#DejaVuSans-65\" x=\"265.869141\"/>\n      <use xlink:href=\"#DejaVuSans-72\" x=\"327.392578\"/>\n     </g>\n    </g>\n   </g>\n   <g id=\"matplotlib.axis_4\">\n    <g id=\"ytick_9\">\n     <g id=\"line2d_69\">\n      <g>\n       <use xlink:href=\"#mb324547d96\" x=\"759.726989\" y=\"395.28\" style=\"stroke: #000000; stroke-width: 0.8\"/>\n      </g>\n     </g>\n     <g id=\"text_43\">\n      <!-- 0 -->\n      <g transform=\"translate(746.364489 399.079219) scale(0.1 -0.1)\">\n       <use xlink:href=\"#DejaVuSans-30\"/>\n      </g>\n     </g>\n    </g>\n    <g id=\"ytick_10\">\n     <g id=\"line2d_70\">\n      <g>\n       <use xlink:href=\"#mb324547d96\" x=\"759.726989\" y=\"334.22054\" style=\"stroke: #000000; stroke-width: 0.8\"/>\n      </g>\n     </g>\n     <g id=\"text_44\">\n      <!-- 10000 -->\n      <g transform=\"translate(720.914489 338.019759) scale(0.1 -0.1)\">\n       <use xlink:href=\"#DejaVuSans-31\"/>\n       <use xlink:href=\"#DejaVuSans-30\" x=\"63.623047\"/>\n       <use xlink:href=\"#DejaVuSans-30\" x=\"127.246094\"/>\n       <use xlink:href=\"#DejaVuSans-30\" x=\"190.869141\"/>\n       <use xlink:href=\"#DejaVuSans-30\" x=\"254.492188\"/>\n      </g>\n     </g>\n    </g>\n    <g id=\"ytick_11\">\n     <g id=\"line2d_71\">\n      <g>\n       <use xlink:href=\"#mb324547d96\" x=\"759.726989\" y=\"273.16108\" style=\"stroke: #000000; stroke-width: 0.8\"/>\n      </g>\n     </g>\n     <g id=\"text_45\">\n      <!-- 20000 -->\n      <g transform=\"translate(720.914489 276.960299) scale(0.1 -0.1)\">\n       <use xlink:href=\"#DejaVuSans-32\"/>\n       <use xlink:href=\"#DejaVuSans-30\" x=\"63.623047\"/>\n       <use xlink:href=\"#DejaVuSans-30\" x=\"127.246094\"/>\n       <use xlink:href=\"#DejaVuSans-30\" x=\"190.869141\"/>\n       <use xlink:href=\"#DejaVuSans-30\" x=\"254.492188\"/>\n      </g>\n     </g>\n    </g>\n    <g id=\"ytick_12\">\n     <g id=\"line2d_72\">\n      <g>\n       <use xlink:href=\"#mb324547d96\" x=\"759.726989\" y=\"212.101621\" style=\"stroke: #000000; stroke-width: 0.8\"/>\n      </g>\n     </g>\n     <g id=\"text_46\">\n      <!-- 30000 -->\n      <g transform=\"translate(720.914489 215.900839) scale(0.1 -0.1)\">\n       <use xlink:href=\"#DejaVuSans-33\"/>\n       <use xlink:href=\"#DejaVuSans-30\" x=\"63.623047\"/>\n       <use xlink:href=\"#DejaVuSans-30\" x=\"127.246094\"/>\n       <use xlink:href=\"#DejaVuSans-30\" x=\"190.869141\"/>\n       <use xlink:href=\"#DejaVuSans-30\" x=\"254.492188\"/>\n      </g>\n     </g>\n    </g>\n    <g id=\"ytick_13\">\n     <g id=\"line2d_73\">\n      <g>\n       <use xlink:href=\"#mb324547d96\" x=\"759.726989\" y=\"151.042161\" style=\"stroke: #000000; stroke-width: 0.8\"/>\n      </g>\n     </g>\n     <g id=\"text_47\">\n      <!-- 40000 -->\n      <g transform=\"translate(720.914489 154.84138) scale(0.1 -0.1)\">\n       <use xlink:href=\"#DejaVuSans-34\"/>\n       <use xlink:href=\"#DejaVuSans-30\" x=\"63.623047\"/>\n       <use xlink:href=\"#DejaVuSans-30\" x=\"127.246094\"/>\n       <use xlink:href=\"#DejaVuSans-30\" x=\"190.869141\"/>\n       <use xlink:href=\"#DejaVuSans-30\" x=\"254.492188\"/>\n      </g>\n     </g>\n    </g>\n    <g id=\"ytick_14\">\n     <g id=\"line2d_74\">\n      <g>\n       <use xlink:href=\"#mb324547d96\" x=\"759.726989\" y=\"89.982701\" style=\"stroke: #000000; stroke-width: 0.8\"/>\n      </g>\n     </g>\n     <g id=\"text_48\">\n      <!-- 50000 -->\n      <g transform=\"translate(720.914489 93.78192) scale(0.1 -0.1)\">\n       <use xlink:href=\"#DejaVuSans-35\"/>\n       <use xlink:href=\"#DejaVuSans-30\" x=\"63.623047\"/>\n       <use xlink:href=\"#DejaVuSans-30\" x=\"127.246094\"/>\n       <use xlink:href=\"#DejaVuSans-30\" x=\"190.869141\"/>\n       <use xlink:href=\"#DejaVuSans-30\" x=\"254.492188\"/>\n      </g>\n     </g>\n    </g>\n    <g id=\"ytick_15\">\n     <g id=\"line2d_75\">\n      <g>\n       <use xlink:href=\"#mb324547d96\" x=\"759.726989\" y=\"28.923241\" style=\"stroke: #000000; stroke-width: 0.8\"/>\n      </g>\n     </g>\n     <g id=\"text_49\">\n      <!-- 60000 -->\n      <g transform=\"translate(720.914489 32.72246) scale(0.1 -0.1)\">\n       <use xlink:href=\"#DejaVuSans-36\"/>\n       <use xlink:href=\"#DejaVuSans-30\" x=\"63.623047\"/>\n       <use xlink:href=\"#DejaVuSans-30\" x=\"127.246094\"/>\n       <use xlink:href=\"#DejaVuSans-30\" x=\"190.869141\"/>\n       <use xlink:href=\"#DejaVuSans-30\" x=\"254.492188\"/>\n      </g>\n     </g>\n    </g>\n    <g id=\"text_50\">\n     <!-- Income -->\n     <g transform=\"translate(714.834801 219.639219) rotate(-90) scale(0.1 -0.1)\">\n      <use xlink:href=\"#DejaVuSans-49\"/>\n      <use xlink:href=\"#DejaVuSans-6e\" x=\"29.492188\"/>\n      <use xlink:href=\"#DejaVuSans-63\" x=\"92.871094\"/>\n      <use xlink:href=\"#DejaVuSans-6f\" x=\"147.851562\"/>\n      <use xlink:href=\"#DejaVuSans-6d\" x=\"209.033203\"/>\n      <use xlink:href=\"#DejaVuSans-65\" x=\"306.445312\"/>\n     </g>\n    </g>\n   </g>\n   <g id=\"line2d_76\">\n    <path d=\"M 905.567898 48.666091 \nL 905.567898 32.575898 \n\" clip-path=\"url(#p356cc6b24f)\" style=\"fill: none; stroke: #424242; stroke-width: 2.7; stroke-linecap: square\"/>\n   </g>\n   <g id=\"line2d_77\">\n    <path d=\"M 1197.249716 45.917485 \nL 1197.249716 25.68 \n\" clip-path=\"url(#p356cc6b24f)\" style=\"fill: none; stroke: #424242; stroke-width: 2.7; stroke-linecap: square\"/>\n   </g>\n   <g id=\"patch_39\">\n    <path d=\"M 759.726989 395.28 \nL 759.726989 7.2 \n\" style=\"fill: none; stroke: #000000; stroke-width: 0.8; stroke-linejoin: miter; stroke-linecap: square\"/>\n   </g>\n   <g id=\"patch_40\">\n    <path d=\"M 1343.090625 395.28 \nL 1343.090625 7.2 \n\" style=\"fill: none; stroke: #000000; stroke-width: 0.8; stroke-linejoin: miter; stroke-linecap: square\"/>\n   </g>\n   <g id=\"patch_41\">\n    <path d=\"M 759.726989 395.28 \nL 1343.090625 395.28 \n\" style=\"fill: none; stroke: #000000; stroke-width: 0.8; stroke-linejoin: miter; stroke-linecap: square\"/>\n   </g>\n   <g id=\"patch_42\">\n    <path d=\"M 759.726989 7.2 \nL 1343.090625 7.2 \n\" style=\"fill: none; stroke: #000000; stroke-width: 0.8; stroke-linejoin: miter; stroke-linecap: square\"/>\n   </g>\n  </g>\n </g>\n <defs>\n  <clipPath id=\"pf7434a8669\">\n   <rect x=\"59.690625\" y=\"7.2\" width=\"583.363636\" height=\"388.08\"/>\n  </clipPath>\n  <clipPath id=\"p356cc6b24f\">\n   <rect x=\"759.726989\" y=\"7.2\" width=\"583.363636\" height=\"388.08\"/>\n  </clipPath>\n </defs>\n</svg>\n"
          },
          "metadata": {}
        }
      ]
    },
    {
      "cell_type": "code",
      "source": [
        "#City  & Gender vs Buinsess value\n",
        "fig, axis = plt.subplots(nrows=1, ncols=2, figsize=(23, 7))\n",
        "plt.subplot(121)\n",
        "sns.barplot(x=df_final[\"City\"],y=df_final[\"Total Business Value\"])\n",
        "plt.subplot(122)\n",
        "sns.barplot(x=df_final[\"Gender\"],y=df_final[\"Total Business Value\"])\n",
        "plt.show()\n",
        "#C12,C11 ave the highest has he highest income\n",
        "#not much diffence between income of male and female"
      ],
      "metadata": {
        "colab": {
          "base_uri": "https://localhost:8080/",
          "height": 633
        },
        "id": "941MsazUe-3U",
        "outputId": "b80948eb-1302-4a96-8c98-3daa46abd731"
      },
      "execution_count": null,
      "outputs": [
        {
          "output_type": "display_data",
          "data": {
            "text/plain": [
              "<Figure size 2300x700 with 2 Axes>"
            ],
            "image/svg+xml": "<?xml version=\"1.0\" encoding=\"utf-8\" standalone=\"no\"?>\n<!DOCTYPE svg PUBLIC \"-//W3C//DTD SVG 1.1//EN\"\n  \"http://www.w3.org/Graphics/SVG/1.1/DTD/svg11.dtd\">\n<svg xmlns:xlink=\"http://www.w3.org/1999/xlink\" width=\"1324.840625pt\" height=\"443.434687pt\" viewBox=\"0 0 1324.840625 443.434687\" xmlns=\"http://www.w3.org/2000/svg\" version=\"1.1\">\n <metadata>\n  <rdf:RDF xmlns:dc=\"http://purl.org/dc/elements/1.1/\" xmlns:cc=\"http://creativecommons.org/ns#\" xmlns:rdf=\"http://www.w3.org/1999/02/22-rdf-syntax-ns#\">\n   <cc:Work>\n    <dc:type rdf:resource=\"http://purl.org/dc/dcmitype/StillImage\"/>\n    <dc:date>2023-07-12T06:34:06.736251</dc:date>\n    <dc:format>image/svg+xml</dc:format>\n    <dc:creator>\n     <cc:Agent>\n      <dc:title>Matplotlib v3.7.1, https://matplotlib.org/</dc:title>\n     </cc:Agent>\n    </dc:creator>\n   </cc:Work>\n  </rdf:RDF>\n </metadata>\n <defs>\n  <style type=\"text/css\">*{stroke-linejoin: round; stroke-linecap: butt}</style>\n </defs>\n <g id=\"figure_1\">\n  <g id=\"patch_1\">\n   <path d=\"M 0 443.434687 \nL 1324.840625 443.434687 \nL 1324.840625 0 \nL 0 0 \nz\n\" style=\"fill: #ffffff\"/>\n  </g>\n  <g id=\"axes_1\">\n   <g id=\"patch_2\">\n    <path d=\"M 34.240625 405.878437 \nL 617.604261 405.878437 \nL 617.604261 17.798437 \nL 34.240625 17.798437 \nz\n\" style=\"fill: #ffffff\"/>\n   </g>\n   <g id=\"patch_3\">\n    <path d=\"M 36.252224 405.878437 \nL 52.345014 405.878437 \nL 52.345014 228.350781 \nL 36.252224 228.350781 \nz\n\" clip-path=\"url(#p47d0d0f5d0)\" style=\"fill: #ea96a3\"/>\n   </g>\n   <g id=\"patch_4\">\n    <path d=\"M 56.368211 405.878437 \nL 72.461001 405.878437 \nL 72.461001 199.23928 \nL 56.368211 199.23928 \nz\n\" clip-path=\"url(#p47d0d0f5d0)\" style=\"fill: #e99790\"/>\n   </g>\n   <g id=\"patch_5\">\n    <path d=\"M 76.484199 405.878437 \nL 92.576989 405.878437 \nL 92.576989 206.278547 \nL 76.484199 206.278547 \nz\n\" clip-path=\"url(#p47d0d0f5d0)\" style=\"fill: #e4946d\"/>\n   </g>\n   <g id=\"patch_6\">\n    <path d=\"M 96.600186 405.878437 \nL 112.692976 405.878437 \nL 112.692976 255.289905 \nL 96.600186 255.289905 \nz\n\" clip-path=\"url(#p47d0d0f5d0)\" style=\"fill: #d5954d\"/>\n   </g>\n   <g id=\"patch_7\">\n    <path d=\"M 116.716174 405.878437 \nL 132.808964 405.878437 \nL 132.808964 219.996859 \nL 116.716174 219.996859 \nz\n\" clip-path=\"url(#p47d0d0f5d0)\" style=\"fill: #c4994b\"/>\n   </g>\n   <g id=\"patch_8\">\n    <path d=\"M 136.832161 405.878437 \nL 152.924951 405.878437 \nL 152.924951 255.560816 \nL 136.832161 255.560816 \nz\n\" clip-path=\"url(#p47d0d0f5d0)\" style=\"fill: #b69c49\"/>\n   </g>\n   <g id=\"patch_9\">\n    <path d=\"M 156.948149 405.878437 \nL 173.040938 405.878437 \nL 173.040938 186.839452 \nL 156.948149 186.839452 \nz\n\" clip-path=\"url(#p47d0d0f5d0)\" style=\"fill: #a99e47\"/>\n   </g>\n   <g id=\"patch_10\">\n    <path d=\"M 177.064136 405.878437 \nL 193.156926 405.878437 \nL 193.156926 158.722462 \nL 177.064136 158.722462 \nz\n\" clip-path=\"url(#p47d0d0f5d0)\" style=\"fill: #9ba146\"/>\n   </g>\n   <g id=\"patch_11\">\n    <path d=\"M 197.180123 405.878437 \nL 213.272913 405.878437 \nL 213.272913 264.707653 \nL 197.180123 264.707653 \nz\n\" clip-path=\"url(#p47d0d0f5d0)\" style=\"fill: #8da546\"/>\n   </g>\n   <g id=\"patch_12\">\n    <path d=\"M 217.296111 405.878437 \nL 233.388901 405.878437 \nL 233.388901 285.655868 \nL 217.296111 285.655868 \nz\n\" clip-path=\"url(#p47d0d0f5d0)\" style=\"fill: #78aa47\"/>\n   </g>\n   <g id=\"patch_13\">\n    <path d=\"M 237.412098 405.878437 \nL 253.504888 405.878437 \nL 253.504888 108.429271 \nL 237.412098 108.429271 \nz\n\" clip-path=\"url(#p47d0d0f5d0)\" style=\"fill: #4ab147\"/>\n   </g>\n   <g id=\"patch_14\">\n    <path d=\"M 257.528086 405.878437 \nL 273.620876 405.878437 \nL 273.620876 174.883069 \nL 257.528086 174.883069 \nz\n\" clip-path=\"url(#p47d0d0f5d0)\" style=\"fill: #49af76\"/>\n   </g>\n   <g id=\"patch_15\">\n    <path d=\"M 277.644073 405.878437 \nL 293.736863 405.878437 \nL 293.736863 193.233472 \nL 277.644073 193.233472 \nz\n\" clip-path=\"url(#p47d0d0f5d0)\" style=\"fill: #4aae89\"/>\n   </g>\n   <g id=\"patch_16\">\n    <path d=\"M 297.760061 405.878437 \nL 313.852851 405.878437 \nL 313.852851 214.80778 \nL 297.760061 214.80778 \nz\n\" clip-path=\"url(#p47d0d0f5d0)\" style=\"fill: #4aad96\"/>\n   </g>\n   <g id=\"patch_17\">\n    <path d=\"M 317.876048 405.878437 \nL 333.968838 405.878437 \nL 333.968838 181.941495 \nL 317.876048 181.941495 \nz\n\" clip-path=\"url(#p47d0d0f5d0)\" style=\"fill: #4baca0\"/>\n   </g>\n   <g id=\"patch_18\">\n    <path d=\"M 337.992036 405.878437 \nL 354.084826 405.878437 \nL 354.084826 175.843835 \nL 337.992036 175.843835 \nz\n\" clip-path=\"url(#p47d0d0f5d0)\" style=\"fill: #4baba8\"/>\n   </g>\n   <g id=\"patch_19\">\n    <path d=\"M 358.108023 405.878437 \nL 374.200813 405.878437 \nL 374.200813 195.321724 \nL 358.108023 195.321724 \nz\n\" clip-path=\"url(#p47d0d0f5d0)\" style=\"fill: #4dabb2\"/>\n   </g>\n   <g id=\"patch_20\">\n    <path d=\"M 378.224011 405.878437 \nL 394.316801 405.878437 \nL 394.316801 180.862281 \nL 378.224011 180.862281 \nz\n\" clip-path=\"url(#p47d0d0f5d0)\" style=\"fill: #4facbd\"/>\n   </g>\n   <g id=\"patch_21\">\n    <path d=\"M 398.339998 405.878437 \nL 414.432788 405.878437 \nL 414.432788 180.903856 \nL 398.339998 180.903856 \nz\n\" clip-path=\"url(#p47d0d0f5d0)\" style=\"fill: #52accb\"/>\n   </g>\n   <g id=\"patch_22\">\n    <path d=\"M 418.455986 405.878437 \nL 434.548775 405.878437 \nL 434.548775 228.034131 \nL 418.455986 228.034131 \nz\n\" clip-path=\"url(#p47d0d0f5d0)\" style=\"fill: #57addf\"/>\n   </g>\n   <g id=\"patch_23\">\n    <path d=\"M 438.571973 405.878437 \nL 454.664763 405.878437 \nL 454.664763 208.212558 \nL 438.571973 208.212558 \nz\n\" clip-path=\"url(#p47d0d0f5d0)\" style=\"fill: #8aaee7\"/>\n   </g>\n   <g id=\"patch_24\">\n    <path d=\"M 458.68796 405.878437 \nL 474.78075 405.878437 \nL 474.78075 220.837499 \nL 458.68796 220.837499 \nz\n\" clip-path=\"url(#p47d0d0f5d0)\" style=\"fill: #a7aceb\"/>\n   </g>\n   <g id=\"patch_25\">\n    <path d=\"M 478.803948 405.878437 \nL 494.896738 405.878437 \nL 494.896738 209.131455 \nL 478.803948 209.131455 \nz\n\" clip-path=\"url(#p47d0d0f5d0)\" style=\"fill: #baa6ea\"/>\n   </g>\n   <g id=\"patch_26\">\n    <path d=\"M 498.919935 405.878437 \nL 515.012725 405.878437 \nL 515.012725 195.529093 \nL 498.919935 195.529093 \nz\n\" clip-path=\"url(#p47d0d0f5d0)\" style=\"fill: #cb9de9\"/>\n   </g>\n   <g id=\"patch_27\">\n    <path d=\"M 519.035923 405.878437 \nL 535.128713 405.878437 \nL 535.128713 222.126087 \nL 519.035923 222.126087 \nz\n\" clip-path=\"url(#p47d0d0f5d0)\" style=\"fill: #dc92e8\"/>\n   </g>\n   <g id=\"patch_28\">\n    <path d=\"M 539.15191 405.878437 \nL 555.2447 405.878437 \nL 555.2447 221.604083 \nL 539.15191 221.604083 \nz\n\" clip-path=\"url(#p47d0d0f5d0)\" style=\"fill: #e78bde\"/>\n   </g>\n   <g id=\"patch_29\">\n    <path d=\"M 559.267898 405.878437 \nL 575.360688 405.878437 \nL 575.360688 163.850214 \nL 559.267898 163.850214 \nz\n\" clip-path=\"url(#p47d0d0f5d0)\" style=\"fill: #e88ece\"/>\n   </g>\n   <g id=\"patch_30\">\n    <path d=\"M 579.383885 405.878437 \nL 595.476675 405.878437 \nL 595.476675 146.642541 \nL 579.383885 146.642541 \nz\n\" clip-path=\"url(#p47d0d0f5d0)\" style=\"fill: #e891c0\"/>\n   </g>\n   <g id=\"patch_31\">\n    <path d=\"M 599.499873 405.878437 \nL 615.592663 405.878437 \nL 615.592663 172.712522 \nL 599.499873 172.712522 \nz\n\" clip-path=\"url(#p47d0d0f5d0)\" style=\"fill: #e994b3\"/>\n   </g>\n   <g id=\"matplotlib.axis_1\">\n    <g id=\"xtick_1\">\n     <g id=\"line2d_1\">\n      <defs>\n       <path id=\"m333618a1e7\" d=\"M 0 0 \nL 0 3.5 \n\" style=\"stroke: #000000; stroke-width: 0.8\"/>\n      </defs>\n      <g>\n       <use xlink:href=\"#m333618a1e7\" x=\"44.298619\" y=\"405.878437\" style=\"stroke: #000000; stroke-width: 0.8\"/>\n      </g>\n     </g>\n     <g id=\"text_1\">\n      <!-- C23 -->\n      <g transform=\"translate(34.444712 420.476875) scale(0.1 -0.1)\">\n       <defs>\n        <path id=\"DejaVuSans-43\" d=\"M 4122 4306 \nL 4122 3641 \nQ 3803 3938 3442 4084 \nQ 3081 4231 2675 4231 \nQ 1875 4231 1450 3742 \nQ 1025 3253 1025 2328 \nQ 1025 1406 1450 917 \nQ 1875 428 2675 428 \nQ 3081 428 3442 575 \nQ 3803 722 4122 1019 \nL 4122 359 \nQ 3791 134 3420 21 \nQ 3050 -91 2638 -91 \nQ 1578 -91 968 557 \nQ 359 1206 359 2328 \nQ 359 3453 968 4101 \nQ 1578 4750 2638 4750 \nQ 3056 4750 3426 4639 \nQ 3797 4528 4122 4306 \nz\n\" transform=\"scale(0.015625)\"/>\n        <path id=\"DejaVuSans-32\" d=\"M 1228 531 \nL 3431 531 \nL 3431 0 \nL 469 0 \nL 469 531 \nQ 828 903 1448 1529 \nQ 2069 2156 2228 2338 \nQ 2531 2678 2651 2914 \nQ 2772 3150 2772 3378 \nQ 2772 3750 2511 3984 \nQ 2250 4219 1831 4219 \nQ 1534 4219 1204 4116 \nQ 875 4013 500 3803 \nL 500 4441 \nQ 881 4594 1212 4672 \nQ 1544 4750 1819 4750 \nQ 2544 4750 2975 4387 \nQ 3406 4025 3406 3419 \nQ 3406 3131 3298 2873 \nQ 3191 2616 2906 2266 \nQ 2828 2175 2409 1742 \nQ 1991 1309 1228 531 \nz\n\" transform=\"scale(0.015625)\"/>\n        <path id=\"DejaVuSans-33\" d=\"M 2597 2516 \nQ 3050 2419 3304 2112 \nQ 3559 1806 3559 1356 \nQ 3559 666 3084 287 \nQ 2609 -91 1734 -91 \nQ 1441 -91 1130 -33 \nQ 819 25 488 141 \nL 488 750 \nQ 750 597 1062 519 \nQ 1375 441 1716 441 \nQ 2309 441 2620 675 \nQ 2931 909 2931 1356 \nQ 2931 1769 2642 2001 \nQ 2353 2234 1838 2234 \nL 1294 2234 \nL 1294 2753 \nL 1863 2753 \nQ 2328 2753 2575 2939 \nQ 2822 3125 2822 3475 \nQ 2822 3834 2567 4026 \nQ 2313 4219 1838 4219 \nQ 1578 4219 1281 4162 \nQ 984 4106 628 3988 \nL 628 4550 \nQ 988 4650 1302 4700 \nQ 1616 4750 1894 4750 \nQ 2613 4750 3031 4423 \nQ 3450 4097 3450 3541 \nQ 3450 3153 3228 2886 \nQ 3006 2619 2597 2516 \nz\n\" transform=\"scale(0.015625)\"/>\n       </defs>\n       <use xlink:href=\"#DejaVuSans-43\"/>\n       <use xlink:href=\"#DejaVuSans-32\" x=\"69.824219\"/>\n       <use xlink:href=\"#DejaVuSans-33\" x=\"133.447266\"/>\n      </g>\n     </g>\n    </g>\n    <g id=\"xtick_2\">\n     <g id=\"line2d_2\">\n      <g>\n       <use xlink:href=\"#m333618a1e7\" x=\"64.414606\" y=\"405.878437\" style=\"stroke: #000000; stroke-width: 0.8\"/>\n      </g>\n     </g>\n     <g id=\"text_2\">\n      <!-- C7 -->\n      <g transform=\"translate(57.74195 420.476875) scale(0.1 -0.1)\">\n       <defs>\n        <path id=\"DejaVuSans-37\" d=\"M 525 4666 \nL 3525 4666 \nL 3525 4397 \nL 1831 0 \nL 1172 0 \nL 2766 4134 \nL 525 4134 \nL 525 4666 \nz\n\" transform=\"scale(0.015625)\"/>\n       </defs>\n       <use xlink:href=\"#DejaVuSans-43\"/>\n       <use xlink:href=\"#DejaVuSans-37\" x=\"69.824219\"/>\n      </g>\n     </g>\n    </g>\n    <g id=\"xtick_3\">\n     <g id=\"line2d_3\">\n      <g>\n       <use xlink:href=\"#m333618a1e7\" x=\"84.530594\" y=\"405.878437\" style=\"stroke: #000000; stroke-width: 0.8\"/>\n      </g>\n     </g>\n     <g id=\"text_3\">\n      <!-- C13 -->\n      <g transform=\"translate(74.676687 420.476875) scale(0.1 -0.1)\">\n       <defs>\n        <path id=\"DejaVuSans-31\" d=\"M 794 531 \nL 1825 531 \nL 1825 4091 \nL 703 3866 \nL 703 4441 \nL 1819 4666 \nL 2450 4666 \nL 2450 531 \nL 3481 531 \nL 3481 0 \nL 794 0 \nL 794 531 \nz\n\" transform=\"scale(0.015625)\"/>\n       </defs>\n       <use xlink:href=\"#DejaVuSans-43\"/>\n       <use xlink:href=\"#DejaVuSans-31\" x=\"69.824219\"/>\n       <use xlink:href=\"#DejaVuSans-33\" x=\"133.447266\"/>\n      </g>\n     </g>\n    </g>\n    <g id=\"xtick_4\">\n     <g id=\"line2d_4\">\n      <g>\n       <use xlink:href=\"#m333618a1e7\" x=\"104.646581\" y=\"405.878437\" style=\"stroke: #000000; stroke-width: 0.8\"/>\n      </g>\n     </g>\n     <g id=\"text_4\">\n      <!-- C9 -->\n      <g transform=\"translate(97.973925 420.476875) scale(0.1 -0.1)\">\n       <defs>\n        <path id=\"DejaVuSans-39\" d=\"M 703 97 \nL 703 672 \nQ 941 559 1184 500 \nQ 1428 441 1663 441 \nQ 2288 441 2617 861 \nQ 2947 1281 2994 2138 \nQ 2813 1869 2534 1725 \nQ 2256 1581 1919 1581 \nQ 1219 1581 811 2004 \nQ 403 2428 403 3163 \nQ 403 3881 828 4315 \nQ 1253 4750 1959 4750 \nQ 2769 4750 3195 4129 \nQ 3622 3509 3622 2328 \nQ 3622 1225 3098 567 \nQ 2575 -91 1691 -91 \nQ 1453 -91 1209 -44 \nQ 966 3 703 97 \nz\nM 1959 2075 \nQ 2384 2075 2632 2365 \nQ 2881 2656 2881 3163 \nQ 2881 3666 2632 3958 \nQ 2384 4250 1959 4250 \nQ 1534 4250 1286 3958 \nQ 1038 3666 1038 3163 \nQ 1038 2656 1286 2365 \nQ 1534 2075 1959 2075 \nz\n\" transform=\"scale(0.015625)\"/>\n       </defs>\n       <use xlink:href=\"#DejaVuSans-43\"/>\n       <use xlink:href=\"#DejaVuSans-39\" x=\"69.824219\"/>\n      </g>\n     </g>\n    </g>\n    <g id=\"xtick_5\">\n     <g id=\"line2d_5\">\n      <g>\n       <use xlink:href=\"#m333618a1e7\" x=\"124.762569\" y=\"405.878437\" style=\"stroke: #000000; stroke-width: 0.8\"/>\n      </g>\n     </g>\n     <g id=\"text_5\">\n      <!-- C11 -->\n      <g transform=\"translate(114.908662 420.476875) scale(0.1 -0.1)\">\n       <use xlink:href=\"#DejaVuSans-43\"/>\n       <use xlink:href=\"#DejaVuSans-31\" x=\"69.824219\"/>\n       <use xlink:href=\"#DejaVuSans-31\" x=\"133.447266\"/>\n      </g>\n     </g>\n    </g>\n    <g id=\"xtick_6\">\n     <g id=\"line2d_6\">\n      <g>\n       <use xlink:href=\"#m333618a1e7\" x=\"144.878556\" y=\"405.878437\" style=\"stroke: #000000; stroke-width: 0.8\"/>\n      </g>\n     </g>\n     <g id=\"text_6\">\n      <!-- C2 -->\n      <g transform=\"translate(138.2059 420.476875) scale(0.1 -0.1)\">\n       <use xlink:href=\"#DejaVuSans-43\"/>\n       <use xlink:href=\"#DejaVuSans-32\" x=\"69.824219\"/>\n      </g>\n     </g>\n    </g>\n    <g id=\"xtick_7\">\n     <g id=\"line2d_7\">\n      <g>\n       <use xlink:href=\"#m333618a1e7\" x=\"164.994543\" y=\"405.878437\" style=\"stroke: #000000; stroke-width: 0.8\"/>\n      </g>\n     </g>\n     <g id=\"text_7\">\n      <!-- C19 -->\n      <g transform=\"translate(155.140637 420.476875) scale(0.1 -0.1)\">\n       <use xlink:href=\"#DejaVuSans-43\"/>\n       <use xlink:href=\"#DejaVuSans-31\" x=\"69.824219\"/>\n       <use xlink:href=\"#DejaVuSans-39\" x=\"133.447266\"/>\n      </g>\n     </g>\n    </g>\n    <g id=\"xtick_8\">\n     <g id=\"line2d_8\">\n      <g>\n       <use xlink:href=\"#m333618a1e7\" x=\"185.110531\" y=\"405.878437\" style=\"stroke: #000000; stroke-width: 0.8\"/>\n      </g>\n     </g>\n     <g id=\"text_8\">\n      <!-- C26 -->\n      <g transform=\"translate(175.256625 420.476875) scale(0.1 -0.1)\">\n       <defs>\n        <path id=\"DejaVuSans-36\" d=\"M 2113 2584 \nQ 1688 2584 1439 2293 \nQ 1191 2003 1191 1497 \nQ 1191 994 1439 701 \nQ 1688 409 2113 409 \nQ 2538 409 2786 701 \nQ 3034 994 3034 1497 \nQ 3034 2003 2786 2293 \nQ 2538 2584 2113 2584 \nz\nM 3366 4563 \nL 3366 3988 \nQ 3128 4100 2886 4159 \nQ 2644 4219 2406 4219 \nQ 1781 4219 1451 3797 \nQ 1122 3375 1075 2522 \nQ 1259 2794 1537 2939 \nQ 1816 3084 2150 3084 \nQ 2853 3084 3261 2657 \nQ 3669 2231 3669 1497 \nQ 3669 778 3244 343 \nQ 2819 -91 2113 -91 \nQ 1303 -91 875 529 \nQ 447 1150 447 2328 \nQ 447 3434 972 4092 \nQ 1497 4750 2381 4750 \nQ 2619 4750 2861 4703 \nQ 3103 4656 3366 4563 \nz\n\" transform=\"scale(0.015625)\"/>\n       </defs>\n       <use xlink:href=\"#DejaVuSans-43\"/>\n       <use xlink:href=\"#DejaVuSans-32\" x=\"69.824219\"/>\n       <use xlink:href=\"#DejaVuSans-36\" x=\"133.447266\"/>\n      </g>\n     </g>\n    </g>\n    <g id=\"xtick_9\">\n     <g id=\"line2d_9\">\n      <g>\n       <use xlink:href=\"#m333618a1e7\" x=\"205.226518\" y=\"405.878437\" style=\"stroke: #000000; stroke-width: 0.8\"/>\n      </g>\n     </g>\n     <g id=\"text_9\">\n      <!-- C20 -->\n      <g transform=\"translate(195.372612 420.476875) scale(0.1 -0.1)\">\n       <defs>\n        <path id=\"DejaVuSans-30\" d=\"M 2034 4250 \nQ 1547 4250 1301 3770 \nQ 1056 3291 1056 2328 \nQ 1056 1369 1301 889 \nQ 1547 409 2034 409 \nQ 2525 409 2770 889 \nQ 3016 1369 3016 2328 \nQ 3016 3291 2770 3770 \nQ 2525 4250 2034 4250 \nz\nM 2034 4750 \nQ 2819 4750 3233 4129 \nQ 3647 3509 3647 2328 \nQ 3647 1150 3233 529 \nQ 2819 -91 2034 -91 \nQ 1250 -91 836 529 \nQ 422 1150 422 2328 \nQ 422 3509 836 4129 \nQ 1250 4750 2034 4750 \nz\n\" transform=\"scale(0.015625)\"/>\n       </defs>\n       <use xlink:href=\"#DejaVuSans-43\"/>\n       <use xlink:href=\"#DejaVuSans-32\" x=\"69.824219\"/>\n       <use xlink:href=\"#DejaVuSans-30\" x=\"133.447266\"/>\n      </g>\n     </g>\n    </g>\n    <g id=\"xtick_10\">\n     <g id=\"line2d_10\">\n      <g>\n       <use xlink:href=\"#m333618a1e7\" x=\"225.342506\" y=\"405.878437\" style=\"stroke: #000000; stroke-width: 0.8\"/>\n      </g>\n     </g>\n     <g id=\"text_10\">\n      <!-- C17 -->\n      <g transform=\"translate(215.4886 420.476875) scale(0.1 -0.1)\">\n       <use xlink:href=\"#DejaVuSans-43\"/>\n       <use xlink:href=\"#DejaVuSans-31\" x=\"69.824219\"/>\n       <use xlink:href=\"#DejaVuSans-37\" x=\"133.447266\"/>\n      </g>\n     </g>\n    </g>\n    <g id=\"xtick_11\">\n     <g id=\"line2d_11\">\n      <g>\n       <use xlink:href=\"#m333618a1e7\" x=\"245.458493\" y=\"405.878437\" style=\"stroke: #000000; stroke-width: 0.8\"/>\n      </g>\n     </g>\n     <g id=\"text_11\">\n      <!-- C29 -->\n      <g transform=\"translate(235.604587 420.476875) scale(0.1 -0.1)\">\n       <use xlink:href=\"#DejaVuSans-43\"/>\n       <use xlink:href=\"#DejaVuSans-32\" x=\"69.824219\"/>\n       <use xlink:href=\"#DejaVuSans-39\" x=\"133.447266\"/>\n      </g>\n     </g>\n    </g>\n    <g id=\"xtick_12\">\n     <g id=\"line2d_12\">\n      <g>\n       <use xlink:href=\"#m333618a1e7\" x=\"265.574481\" y=\"405.878437\" style=\"stroke: #000000; stroke-width: 0.8\"/>\n      </g>\n     </g>\n     <g id=\"text_12\">\n      <!-- C10 -->\n      <g transform=\"translate(255.720575 420.476875) scale(0.1 -0.1)\">\n       <use xlink:href=\"#DejaVuSans-43\"/>\n       <use xlink:href=\"#DejaVuSans-31\" x=\"69.824219\"/>\n       <use xlink:href=\"#DejaVuSans-30\" x=\"133.447266\"/>\n      </g>\n     </g>\n    </g>\n    <g id=\"xtick_13\">\n     <g id=\"line2d_13\">\n      <g>\n       <use xlink:href=\"#m333618a1e7\" x=\"285.690468\" y=\"405.878437\" style=\"stroke: #000000; stroke-width: 0.8\"/>\n      </g>\n     </g>\n     <g id=\"text_13\">\n      <!-- C24 -->\n      <g transform=\"translate(275.836562 420.476875) scale(0.1 -0.1)\">\n       <defs>\n        <path id=\"DejaVuSans-34\" d=\"M 2419 4116 \nL 825 1625 \nL 2419 1625 \nL 2419 4116 \nz\nM 2253 4666 \nL 3047 4666 \nL 3047 1625 \nL 3713 1625 \nL 3713 1100 \nL 3047 1100 \nL 3047 0 \nL 2419 0 \nL 2419 1100 \nL 313 1100 \nL 313 1709 \nL 2253 4666 \nz\n\" transform=\"scale(0.015625)\"/>\n       </defs>\n       <use xlink:href=\"#DejaVuSans-43\"/>\n       <use xlink:href=\"#DejaVuSans-32\" x=\"69.824219\"/>\n       <use xlink:href=\"#DejaVuSans-34\" x=\"133.447266\"/>\n      </g>\n     </g>\n    </g>\n    <g id=\"xtick_14\">\n     <g id=\"line2d_14\">\n      <g>\n       <use xlink:href=\"#m333618a1e7\" x=\"305.806456\" y=\"405.878437\" style=\"stroke: #000000; stroke-width: 0.8\"/>\n      </g>\n     </g>\n     <g id=\"text_14\">\n      <!-- C14 -->\n      <g transform=\"translate(295.952549 420.476875) scale(0.1 -0.1)\">\n       <use xlink:href=\"#DejaVuSans-43\"/>\n       <use xlink:href=\"#DejaVuSans-31\" x=\"69.824219\"/>\n       <use xlink:href=\"#DejaVuSans-34\" x=\"133.447266\"/>\n      </g>\n     </g>\n    </g>\n    <g id=\"xtick_15\">\n     <g id=\"line2d_15\">\n      <g>\n       <use xlink:href=\"#m333618a1e7\" x=\"325.922443\" y=\"405.878437\" style=\"stroke: #000000; stroke-width: 0.8\"/>\n      </g>\n     </g>\n     <g id=\"text_15\">\n      <!-- C6 -->\n      <g transform=\"translate(319.249787 420.476875) scale(0.1 -0.1)\">\n       <use xlink:href=\"#DejaVuSans-43\"/>\n       <use xlink:href=\"#DejaVuSans-36\" x=\"69.824219\"/>\n      </g>\n     </g>\n    </g>\n    <g id=\"xtick_16\">\n     <g id=\"line2d_16\">\n      <g>\n       <use xlink:href=\"#m333618a1e7\" x=\"346.038431\" y=\"405.878437\" style=\"stroke: #000000; stroke-width: 0.8\"/>\n      </g>\n     </g>\n     <g id=\"text_16\">\n      <!-- C28 -->\n      <g transform=\"translate(336.184524 420.476875) scale(0.1 -0.1)\">\n       <defs>\n        <path id=\"DejaVuSans-38\" d=\"M 2034 2216 \nQ 1584 2216 1326 1975 \nQ 1069 1734 1069 1313 \nQ 1069 891 1326 650 \nQ 1584 409 2034 409 \nQ 2484 409 2743 651 \nQ 3003 894 3003 1313 \nQ 3003 1734 2745 1975 \nQ 2488 2216 2034 2216 \nz\nM 1403 2484 \nQ 997 2584 770 2862 \nQ 544 3141 544 3541 \nQ 544 4100 942 4425 \nQ 1341 4750 2034 4750 \nQ 2731 4750 3128 4425 \nQ 3525 4100 3525 3541 \nQ 3525 3141 3298 2862 \nQ 3072 2584 2669 2484 \nQ 3125 2378 3379 2068 \nQ 3634 1759 3634 1313 \nQ 3634 634 3220 271 \nQ 2806 -91 2034 -91 \nQ 1263 -91 848 271 \nQ 434 634 434 1313 \nQ 434 1759 690 2068 \nQ 947 2378 1403 2484 \nz\nM 1172 3481 \nQ 1172 3119 1398 2916 \nQ 1625 2713 2034 2713 \nQ 2441 2713 2670 2916 \nQ 2900 3119 2900 3481 \nQ 2900 3844 2670 4047 \nQ 2441 4250 2034 4250 \nQ 1625 4250 1398 4047 \nQ 1172 3844 1172 3481 \nz\n\" transform=\"scale(0.015625)\"/>\n       </defs>\n       <use xlink:href=\"#DejaVuSans-43\"/>\n       <use xlink:href=\"#DejaVuSans-32\" x=\"69.824219\"/>\n       <use xlink:href=\"#DejaVuSans-38\" x=\"133.447266\"/>\n      </g>\n     </g>\n    </g>\n    <g id=\"xtick_17\">\n     <g id=\"line2d_17\">\n      <g>\n       <use xlink:href=\"#m333618a1e7\" x=\"366.154418\" y=\"405.878437\" style=\"stroke: #000000; stroke-width: 0.8\"/>\n      </g>\n     </g>\n     <g id=\"text_17\">\n      <!-- C5 -->\n      <g transform=\"translate(359.481762 420.476875) scale(0.1 -0.1)\">\n       <defs>\n        <path id=\"DejaVuSans-35\" d=\"M 691 4666 \nL 3169 4666 \nL 3169 4134 \nL 1269 4134 \nL 1269 2991 \nQ 1406 3038 1543 3061 \nQ 1681 3084 1819 3084 \nQ 2600 3084 3056 2656 \nQ 3513 2228 3513 1497 \nQ 3513 744 3044 326 \nQ 2575 -91 1722 -91 \nQ 1428 -91 1123 -41 \nQ 819 9 494 109 \nL 494 744 \nQ 775 591 1075 516 \nQ 1375 441 1709 441 \nQ 2250 441 2565 725 \nQ 2881 1009 2881 1497 \nQ 2881 1984 2565 2268 \nQ 2250 2553 1709 2553 \nQ 1456 2553 1204 2497 \nQ 953 2441 691 2322 \nL 691 4666 \nz\n\" transform=\"scale(0.015625)\"/>\n       </defs>\n       <use xlink:href=\"#DejaVuSans-43\"/>\n       <use xlink:href=\"#DejaVuSans-35\" x=\"69.824219\"/>\n      </g>\n     </g>\n    </g>\n    <g id=\"xtick_18\">\n     <g id=\"line2d_18\">\n      <g>\n       <use xlink:href=\"#m333618a1e7\" x=\"386.270406\" y=\"405.878437\" style=\"stroke: #000000; stroke-width: 0.8\"/>\n      </g>\n     </g>\n     <g id=\"text_18\">\n      <!-- C18 -->\n      <g transform=\"translate(376.416499 420.476875) scale(0.1 -0.1)\">\n       <use xlink:href=\"#DejaVuSans-43\"/>\n       <use xlink:href=\"#DejaVuSans-31\" x=\"69.824219\"/>\n       <use xlink:href=\"#DejaVuSans-38\" x=\"133.447266\"/>\n      </g>\n     </g>\n    </g>\n    <g id=\"xtick_19\">\n     <g id=\"line2d_19\">\n      <g>\n       <use xlink:href=\"#m333618a1e7\" x=\"406.386393\" y=\"405.878437\" style=\"stroke: #000000; stroke-width: 0.8\"/>\n      </g>\n     </g>\n     <g id=\"text_19\">\n      <!-- C27 -->\n      <g transform=\"translate(396.532487 420.476875) scale(0.1 -0.1)\">\n       <use xlink:href=\"#DejaVuSans-43\"/>\n       <use xlink:href=\"#DejaVuSans-32\" x=\"69.824219\"/>\n       <use xlink:href=\"#DejaVuSans-37\" x=\"133.447266\"/>\n      </g>\n     </g>\n    </g>\n    <g id=\"xtick_20\">\n     <g id=\"line2d_20\">\n      <g>\n       <use xlink:href=\"#m333618a1e7\" x=\"426.50238\" y=\"405.878437\" style=\"stroke: #000000; stroke-width: 0.8\"/>\n      </g>\n     </g>\n     <g id=\"text_20\">\n      <!-- C15 -->\n      <g transform=\"translate(416.648474 420.476875) scale(0.1 -0.1)\">\n       <use xlink:href=\"#DejaVuSans-43\"/>\n       <use xlink:href=\"#DejaVuSans-31\" x=\"69.824219\"/>\n       <use xlink:href=\"#DejaVuSans-35\" x=\"133.447266\"/>\n      </g>\n     </g>\n    </g>\n    <g id=\"xtick_21\">\n     <g id=\"line2d_21\">\n      <g>\n       <use xlink:href=\"#m333618a1e7\" x=\"446.618368\" y=\"405.878437\" style=\"stroke: #000000; stroke-width: 0.8\"/>\n      </g>\n     </g>\n     <g id=\"text_21\">\n      <!-- C8 -->\n      <g transform=\"translate(439.945712 420.476875) scale(0.1 -0.1)\">\n       <use xlink:href=\"#DejaVuSans-43\"/>\n       <use xlink:href=\"#DejaVuSans-38\" x=\"69.824219\"/>\n      </g>\n     </g>\n    </g>\n    <g id=\"xtick_22\">\n     <g id=\"line2d_22\">\n      <g>\n       <use xlink:href=\"#m333618a1e7\" x=\"466.734355\" y=\"405.878437\" style=\"stroke: #000000; stroke-width: 0.8\"/>\n      </g>\n     </g>\n     <g id=\"text_22\">\n      <!-- C25 -->\n      <g transform=\"translate(456.880449 420.476875) scale(0.1 -0.1)\">\n       <use xlink:href=\"#DejaVuSans-43\"/>\n       <use xlink:href=\"#DejaVuSans-32\" x=\"69.824219\"/>\n       <use xlink:href=\"#DejaVuSans-35\" x=\"133.447266\"/>\n      </g>\n     </g>\n    </g>\n    <g id=\"xtick_23\">\n     <g id=\"line2d_23\">\n      <g>\n       <use xlink:href=\"#m333618a1e7\" x=\"486.850343\" y=\"405.878437\" style=\"stroke: #000000; stroke-width: 0.8\"/>\n      </g>\n     </g>\n     <g id=\"text_23\">\n      <!-- C21 -->\n      <g transform=\"translate(476.996437 420.476875) scale(0.1 -0.1)\">\n       <use xlink:href=\"#DejaVuSans-43\"/>\n       <use xlink:href=\"#DejaVuSans-32\" x=\"69.824219\"/>\n       <use xlink:href=\"#DejaVuSans-31\" x=\"133.447266\"/>\n      </g>\n     </g>\n    </g>\n    <g id=\"xtick_24\">\n     <g id=\"line2d_24\">\n      <g>\n       <use xlink:href=\"#m333618a1e7\" x=\"506.96633\" y=\"405.878437\" style=\"stroke: #000000; stroke-width: 0.8\"/>\n      </g>\n     </g>\n     <g id=\"text_24\">\n      <!-- C1 -->\n      <g transform=\"translate(500.293674 420.476875) scale(0.1 -0.1)\">\n       <use xlink:href=\"#DejaVuSans-43\"/>\n       <use xlink:href=\"#DejaVuSans-31\" x=\"69.824219\"/>\n      </g>\n     </g>\n    </g>\n    <g id=\"xtick_25\">\n     <g id=\"line2d_25\">\n      <g>\n       <use xlink:href=\"#m333618a1e7\" x=\"527.082318\" y=\"405.878437\" style=\"stroke: #000000; stroke-width: 0.8\"/>\n      </g>\n     </g>\n     <g id=\"text_25\">\n      <!-- C4 -->\n      <g transform=\"translate(520.409662 420.476875) scale(0.1 -0.1)\">\n       <use xlink:href=\"#DejaVuSans-43\"/>\n       <use xlink:href=\"#DejaVuSans-34\" x=\"69.824219\"/>\n      </g>\n     </g>\n    </g>\n    <g id=\"xtick_26\">\n     <g id=\"line2d_26\">\n      <g>\n       <use xlink:href=\"#m333618a1e7\" x=\"547.198305\" y=\"405.878437\" style=\"stroke: #000000; stroke-width: 0.8\"/>\n      </g>\n     </g>\n     <g id=\"text_26\">\n      <!-- C3 -->\n      <g transform=\"translate(540.525649 420.476875) scale(0.1 -0.1)\">\n       <use xlink:href=\"#DejaVuSans-43\"/>\n       <use xlink:href=\"#DejaVuSans-33\" x=\"69.824219\"/>\n      </g>\n     </g>\n    </g>\n    <g id=\"xtick_27\">\n     <g id=\"line2d_27\">\n      <g>\n       <use xlink:href=\"#m333618a1e7\" x=\"567.314293\" y=\"405.878437\" style=\"stroke: #000000; stroke-width: 0.8\"/>\n      </g>\n     </g>\n     <g id=\"text_27\">\n      <!-- C16 -->\n      <g transform=\"translate(557.460386 420.476875) scale(0.1 -0.1)\">\n       <use xlink:href=\"#DejaVuSans-43\"/>\n       <use xlink:href=\"#DejaVuSans-31\" x=\"69.824219\"/>\n       <use xlink:href=\"#DejaVuSans-36\" x=\"133.447266\"/>\n      </g>\n     </g>\n    </g>\n    <g id=\"xtick_28\">\n     <g id=\"line2d_28\">\n      <g>\n       <use xlink:href=\"#m333618a1e7\" x=\"587.43028\" y=\"405.878437\" style=\"stroke: #000000; stroke-width: 0.8\"/>\n      </g>\n     </g>\n     <g id=\"text_28\">\n      <!-- C22 -->\n      <g transform=\"translate(577.576374 420.476875) scale(0.1 -0.1)\">\n       <use xlink:href=\"#DejaVuSans-43\"/>\n       <use xlink:href=\"#DejaVuSans-32\" x=\"69.824219\"/>\n       <use xlink:href=\"#DejaVuSans-32\" x=\"133.447266\"/>\n      </g>\n     </g>\n    </g>\n    <g id=\"xtick_29\">\n     <g id=\"line2d_29\">\n      <g>\n       <use xlink:href=\"#m333618a1e7\" x=\"607.546268\" y=\"405.878437\" style=\"stroke: #000000; stroke-width: 0.8\"/>\n      </g>\n     </g>\n     <g id=\"text_29\">\n      <!-- C12 -->\n      <g transform=\"translate(597.692361 420.476875) scale(0.1 -0.1)\">\n       <use xlink:href=\"#DejaVuSans-43\"/>\n       <use xlink:href=\"#DejaVuSans-31\" x=\"69.824219\"/>\n       <use xlink:href=\"#DejaVuSans-32\" x=\"133.447266\"/>\n      </g>\n     </g>\n    </g>\n    <g id=\"text_30\">\n     <!-- City -->\n     <g transform=\"translate(316.122443 434.155) scale(0.1 -0.1)\">\n      <defs>\n       <path id=\"DejaVuSans-69\" d=\"M 603 3500 \nL 1178 3500 \nL 1178 0 \nL 603 0 \nL 603 3500 \nz\nM 603 4863 \nL 1178 4863 \nL 1178 4134 \nL 603 4134 \nL 603 4863 \nz\n\" transform=\"scale(0.015625)\"/>\n       <path id=\"DejaVuSans-74\" d=\"M 1172 4494 \nL 1172 3500 \nL 2356 3500 \nL 2356 3053 \nL 1172 3053 \nL 1172 1153 \nQ 1172 725 1289 603 \nQ 1406 481 1766 481 \nL 2356 481 \nL 2356 0 \nL 1766 0 \nQ 1100 0 847 248 \nQ 594 497 594 1153 \nL 594 3053 \nL 172 3053 \nL 172 3500 \nL 594 3500 \nL 594 4494 \nL 1172 4494 \nz\n\" transform=\"scale(0.015625)\"/>\n       <path id=\"DejaVuSans-79\" d=\"M 2059 -325 \nQ 1816 -950 1584 -1140 \nQ 1353 -1331 966 -1331 \nL 506 -1331 \nL 506 -850 \nL 844 -850 \nQ 1081 -850 1212 -737 \nQ 1344 -625 1503 -206 \nL 1606 56 \nL 191 3500 \nL 800 3500 \nL 1894 763 \nL 2988 3500 \nL 3597 3500 \nL 2059 -325 \nz\n\" transform=\"scale(0.015625)\"/>\n      </defs>\n      <use xlink:href=\"#DejaVuSans-43\"/>\n      <use xlink:href=\"#DejaVuSans-69\" x=\"69.824219\"/>\n      <use xlink:href=\"#DejaVuSans-74\" x=\"97.607422\"/>\n      <use xlink:href=\"#DejaVuSans-79\" x=\"136.816406\"/>\n     </g>\n    </g>\n   </g>\n   <g id=\"matplotlib.axis_2\">\n    <g id=\"ytick_1\">\n     <g id=\"line2d_30\">\n      <defs>\n       <path id=\"m93a4caf5cc\" d=\"M 0 0 \nL -3.5 0 \n\" style=\"stroke: #000000; stroke-width: 0.8\"/>\n      </defs>\n      <g>\n       <use xlink:href=\"#m93a4caf5cc\" x=\"34.240625\" y=\"405.878437\" style=\"stroke: #000000; stroke-width: 0.8\"/>\n      </g>\n     </g>\n     <g id=\"text_31\">\n      <!-- 0 -->\n      <g transform=\"translate(20.878125 409.677656) scale(0.1 -0.1)\">\n       <use xlink:href=\"#DejaVuSans-30\"/>\n      </g>\n     </g>\n    </g>\n    <g id=\"ytick_2\">\n     <g id=\"line2d_31\">\n      <g>\n       <use xlink:href=\"#m93a4caf5cc\" x=\"34.240625\" y=\"346.19961\" style=\"stroke: #000000; stroke-width: 0.8\"/>\n      </g>\n     </g>\n     <g id=\"text_32\">\n      <!-- 1 -->\n      <g transform=\"translate(20.878125 349.998829) scale(0.1 -0.1)\">\n       <use xlink:href=\"#DejaVuSans-31\"/>\n      </g>\n     </g>\n    </g>\n    <g id=\"ytick_3\">\n     <g id=\"line2d_32\">\n      <g>\n       <use xlink:href=\"#m93a4caf5cc\" x=\"34.240625\" y=\"286.520782\" style=\"stroke: #000000; stroke-width: 0.8\"/>\n      </g>\n     </g>\n     <g id=\"text_33\">\n      <!-- 2 -->\n      <g transform=\"translate(20.878125 290.320001) scale(0.1 -0.1)\">\n       <use xlink:href=\"#DejaVuSans-32\"/>\n      </g>\n     </g>\n    </g>\n    <g id=\"ytick_4\">\n     <g id=\"line2d_33\">\n      <g>\n       <use xlink:href=\"#m93a4caf5cc\" x=\"34.240625\" y=\"226.841955\" style=\"stroke: #000000; stroke-width: 0.8\"/>\n      </g>\n     </g>\n     <g id=\"text_34\">\n      <!-- 3 -->\n      <g transform=\"translate(20.878125 230.641174) scale(0.1 -0.1)\">\n       <use xlink:href=\"#DejaVuSans-33\"/>\n      </g>\n     </g>\n    </g>\n    <g id=\"ytick_5\">\n     <g id=\"line2d_34\">\n      <g>\n       <use xlink:href=\"#m93a4caf5cc\" x=\"34.240625\" y=\"167.163127\" style=\"stroke: #000000; stroke-width: 0.8\"/>\n      </g>\n     </g>\n     <g id=\"text_35\">\n      <!-- 4 -->\n      <g transform=\"translate(20.878125 170.962346) scale(0.1 -0.1)\">\n       <use xlink:href=\"#DejaVuSans-34\"/>\n      </g>\n     </g>\n    </g>\n    <g id=\"ytick_6\">\n     <g id=\"line2d_35\">\n      <g>\n       <use xlink:href=\"#m93a4caf5cc\" x=\"34.240625\" y=\"107.4843\" style=\"stroke: #000000; stroke-width: 0.8\"/>\n      </g>\n     </g>\n     <g id=\"text_36\">\n      <!-- 5 -->\n      <g transform=\"translate(20.878125 111.283519) scale(0.1 -0.1)\">\n       <use xlink:href=\"#DejaVuSans-35\"/>\n      </g>\n     </g>\n    </g>\n    <g id=\"ytick_7\">\n     <g id=\"line2d_36\">\n      <g>\n       <use xlink:href=\"#m93a4caf5cc\" x=\"34.240625\" y=\"47.805472\" style=\"stroke: #000000; stroke-width: 0.8\"/>\n      </g>\n     </g>\n     <g id=\"text_37\">\n      <!-- 6 -->\n      <g transform=\"translate(20.878125 51.604691) scale(0.1 -0.1)\">\n       <use xlink:href=\"#DejaVuSans-36\"/>\n      </g>\n     </g>\n    </g>\n    <g id=\"text_38\">\n     <!-- Total Business Value -->\n     <g transform=\"translate(14.798438 262.472031) rotate(-90) scale(0.1 -0.1)\">\n      <defs>\n       <path id=\"DejaVuSans-54\" d=\"M -19 4666 \nL 3928 4666 \nL 3928 4134 \nL 2272 4134 \nL 2272 0 \nL 1638 0 \nL 1638 4134 \nL -19 4134 \nL -19 4666 \nz\n\" transform=\"scale(0.015625)\"/>\n       <path id=\"DejaVuSans-6f\" d=\"M 1959 3097 \nQ 1497 3097 1228 2736 \nQ 959 2375 959 1747 \nQ 959 1119 1226 758 \nQ 1494 397 1959 397 \nQ 2419 397 2687 759 \nQ 2956 1122 2956 1747 \nQ 2956 2369 2687 2733 \nQ 2419 3097 1959 3097 \nz\nM 1959 3584 \nQ 2709 3584 3137 3096 \nQ 3566 2609 3566 1747 \nQ 3566 888 3137 398 \nQ 2709 -91 1959 -91 \nQ 1206 -91 779 398 \nQ 353 888 353 1747 \nQ 353 2609 779 3096 \nQ 1206 3584 1959 3584 \nz\n\" transform=\"scale(0.015625)\"/>\n       <path id=\"DejaVuSans-61\" d=\"M 2194 1759 \nQ 1497 1759 1228 1600 \nQ 959 1441 959 1056 \nQ 959 750 1161 570 \nQ 1363 391 1709 391 \nQ 2188 391 2477 730 \nQ 2766 1069 2766 1631 \nL 2766 1759 \nL 2194 1759 \nz\nM 3341 1997 \nL 3341 0 \nL 2766 0 \nL 2766 531 \nQ 2569 213 2275 61 \nQ 1981 -91 1556 -91 \nQ 1019 -91 701 211 \nQ 384 513 384 1019 \nQ 384 1609 779 1909 \nQ 1175 2209 1959 2209 \nL 2766 2209 \nL 2766 2266 \nQ 2766 2663 2505 2880 \nQ 2244 3097 1772 3097 \nQ 1472 3097 1187 3025 \nQ 903 2953 641 2809 \nL 641 3341 \nQ 956 3463 1253 3523 \nQ 1550 3584 1831 3584 \nQ 2591 3584 2966 3190 \nQ 3341 2797 3341 1997 \nz\n\" transform=\"scale(0.015625)\"/>\n       <path id=\"DejaVuSans-6c\" d=\"M 603 4863 \nL 1178 4863 \nL 1178 0 \nL 603 0 \nL 603 4863 \nz\n\" transform=\"scale(0.015625)\"/>\n       <path id=\"DejaVuSans-20\" transform=\"scale(0.015625)\"/>\n       <path id=\"DejaVuSans-42\" d=\"M 1259 2228 \nL 1259 519 \nL 2272 519 \nQ 2781 519 3026 730 \nQ 3272 941 3272 1375 \nQ 3272 1813 3026 2020 \nQ 2781 2228 2272 2228 \nL 1259 2228 \nz\nM 1259 4147 \nL 1259 2741 \nL 2194 2741 \nQ 2656 2741 2882 2914 \nQ 3109 3088 3109 3444 \nQ 3109 3797 2882 3972 \nQ 2656 4147 2194 4147 \nL 1259 4147 \nz\nM 628 4666 \nL 2241 4666 \nQ 2963 4666 3353 4366 \nQ 3744 4066 3744 3513 \nQ 3744 3084 3544 2831 \nQ 3344 2578 2956 2516 \nQ 3422 2416 3680 2098 \nQ 3938 1781 3938 1306 \nQ 3938 681 3513 340 \nQ 3088 0 2303 0 \nL 628 0 \nL 628 4666 \nz\n\" transform=\"scale(0.015625)\"/>\n       <path id=\"DejaVuSans-75\" d=\"M 544 1381 \nL 544 3500 \nL 1119 3500 \nL 1119 1403 \nQ 1119 906 1312 657 \nQ 1506 409 1894 409 \nQ 2359 409 2629 706 \nQ 2900 1003 2900 1516 \nL 2900 3500 \nL 3475 3500 \nL 3475 0 \nL 2900 0 \nL 2900 538 \nQ 2691 219 2414 64 \nQ 2138 -91 1772 -91 \nQ 1169 -91 856 284 \nQ 544 659 544 1381 \nz\nM 1991 3584 \nL 1991 3584 \nz\n\" transform=\"scale(0.015625)\"/>\n       <path id=\"DejaVuSans-73\" d=\"M 2834 3397 \nL 2834 2853 \nQ 2591 2978 2328 3040 \nQ 2066 3103 1784 3103 \nQ 1356 3103 1142 2972 \nQ 928 2841 928 2578 \nQ 928 2378 1081 2264 \nQ 1234 2150 1697 2047 \nL 1894 2003 \nQ 2506 1872 2764 1633 \nQ 3022 1394 3022 966 \nQ 3022 478 2636 193 \nQ 2250 -91 1575 -91 \nQ 1294 -91 989 -36 \nQ 684 19 347 128 \nL 347 722 \nQ 666 556 975 473 \nQ 1284 391 1588 391 \nQ 1994 391 2212 530 \nQ 2431 669 2431 922 \nQ 2431 1156 2273 1281 \nQ 2116 1406 1581 1522 \nL 1381 1569 \nQ 847 1681 609 1914 \nQ 372 2147 372 2553 \nQ 372 3047 722 3315 \nQ 1072 3584 1716 3584 \nQ 2034 3584 2315 3537 \nQ 2597 3491 2834 3397 \nz\n\" transform=\"scale(0.015625)\"/>\n       <path id=\"DejaVuSans-6e\" d=\"M 3513 2113 \nL 3513 0 \nL 2938 0 \nL 2938 2094 \nQ 2938 2591 2744 2837 \nQ 2550 3084 2163 3084 \nQ 1697 3084 1428 2787 \nQ 1159 2491 1159 1978 \nL 1159 0 \nL 581 0 \nL 581 3500 \nL 1159 3500 \nL 1159 2956 \nQ 1366 3272 1645 3428 \nQ 1925 3584 2291 3584 \nQ 2894 3584 3203 3211 \nQ 3513 2838 3513 2113 \nz\n\" transform=\"scale(0.015625)\"/>\n       <path id=\"DejaVuSans-65\" d=\"M 3597 1894 \nL 3597 1613 \nL 953 1613 \nQ 991 1019 1311 708 \nQ 1631 397 2203 397 \nQ 2534 397 2845 478 \nQ 3156 559 3463 722 \nL 3463 178 \nQ 3153 47 2828 -22 \nQ 2503 -91 2169 -91 \nQ 1331 -91 842 396 \nQ 353 884 353 1716 \nQ 353 2575 817 3079 \nQ 1281 3584 2069 3584 \nQ 2775 3584 3186 3129 \nQ 3597 2675 3597 1894 \nz\nM 3022 2063 \nQ 3016 2534 2758 2815 \nQ 2500 3097 2075 3097 \nQ 1594 3097 1305 2825 \nQ 1016 2553 972 2059 \nL 3022 2063 \nz\n\" transform=\"scale(0.015625)\"/>\n       <path id=\"DejaVuSans-56\" d=\"M 1831 0 \nL 50 4666 \nL 709 4666 \nL 2188 738 \nL 3669 4666 \nL 4325 4666 \nL 2547 0 \nL 1831 0 \nz\n\" transform=\"scale(0.015625)\"/>\n      </defs>\n      <use xlink:href=\"#DejaVuSans-54\"/>\n      <use xlink:href=\"#DejaVuSans-6f\" x=\"44.083984\"/>\n      <use xlink:href=\"#DejaVuSans-74\" x=\"105.265625\"/>\n      <use xlink:href=\"#DejaVuSans-61\" x=\"144.474609\"/>\n      <use xlink:href=\"#DejaVuSans-6c\" x=\"205.753906\"/>\n      <use xlink:href=\"#DejaVuSans-20\" x=\"233.537109\"/>\n      <use xlink:href=\"#DejaVuSans-42\" x=\"265.324219\"/>\n      <use xlink:href=\"#DejaVuSans-75\" x=\"333.927734\"/>\n      <use xlink:href=\"#DejaVuSans-73\" x=\"397.306641\"/>\n      <use xlink:href=\"#DejaVuSans-69\" x=\"449.40625\"/>\n      <use xlink:href=\"#DejaVuSans-6e\" x=\"477.189453\"/>\n      <use xlink:href=\"#DejaVuSans-65\" x=\"540.568359\"/>\n      <use xlink:href=\"#DejaVuSans-73\" x=\"602.091797\"/>\n      <use xlink:href=\"#DejaVuSans-73\" x=\"654.191406\"/>\n      <use xlink:href=\"#DejaVuSans-20\" x=\"706.291016\"/>\n      <use xlink:href=\"#DejaVuSans-56\" x=\"738.078125\"/>\n      <use xlink:href=\"#DejaVuSans-61\" x=\"798.736328\"/>\n      <use xlink:href=\"#DejaVuSans-6c\" x=\"860.015625\"/>\n      <use xlink:href=\"#DejaVuSans-75\" x=\"887.798828\"/>\n      <use xlink:href=\"#DejaVuSans-65\" x=\"951.177734\"/>\n     </g>\n    </g>\n    <g id=\"text_39\">\n     <!-- 1e6 -->\n     <g transform=\"translate(34.240625 14.798437) scale(0.1 -0.1)\">\n      <use xlink:href=\"#DejaVuSans-31\"/>\n      <use xlink:href=\"#DejaVuSans-65\" x=\"63.623047\"/>\n      <use xlink:href=\"#DejaVuSans-36\" x=\"125.146484\"/>\n     </g>\n    </g>\n   </g>\n   <g id=\"line2d_37\">\n    <path d=\"M 44.298619 284.494584 \nL 44.298619 165.199094 \n\" clip-path=\"url(#p47d0d0f5d0)\" style=\"fill: none; stroke: #424242; stroke-width: 2.7; stroke-linecap: square\"/>\n   </g>\n   <g id=\"line2d_38\">\n    <path d=\"M 64.414606 262.896804 \nL 64.414606 132.957717 \n\" clip-path=\"url(#p47d0d0f5d0)\" style=\"fill: none; stroke: #424242; stroke-width: 2.7; stroke-linecap: square\"/>\n   </g>\n   <g id=\"line2d_39\">\n    <path d=\"M 84.530594 282.71659 \nL 84.530594 122.858536 \n\" clip-path=\"url(#p47d0d0f5d0)\" style=\"fill: none; stroke: #424242; stroke-width: 2.7; stroke-linecap: square\"/>\n   </g>\n   <g id=\"line2d_40\">\n    <path d=\"M 104.646581 307.379164 \nL 104.646581 191.896551 \n\" clip-path=\"url(#p47d0d0f5d0)\" style=\"fill: none; stroke: #424242; stroke-width: 2.7; stroke-linecap: square\"/>\n   </g>\n   <g id=\"line2d_41\">\n    <path d=\"M 124.762569 287.794938 \nL 124.762569 153.574164 \n\" clip-path=\"url(#p47d0d0f5d0)\" style=\"fill: none; stroke: #424242; stroke-width: 2.7; stroke-linecap: square\"/>\n   </g>\n   <g id=\"line2d_42\">\n    <path d=\"M 144.878556 312.431342 \nL 144.878556 196.898292 \n\" clip-path=\"url(#p47d0d0f5d0)\" style=\"fill: none; stroke: #424242; stroke-width: 2.7; stroke-linecap: square\"/>\n   </g>\n   <g id=\"line2d_43\">\n    <path d=\"M 164.994543 259.611268 \nL 164.994543 108.590903 \n\" clip-path=\"url(#p47d0d0f5d0)\" style=\"fill: none; stroke: #424242; stroke-width: 2.7; stroke-linecap: square\"/>\n   </g>\n   <g id=\"line2d_44\">\n    <path d=\"M 185.110531 220.677515 \nL 185.110531 94.829837 \n\" clip-path=\"url(#p47d0d0f5d0)\" style=\"fill: none; stroke: #424242; stroke-width: 2.7; stroke-linecap: square\"/>\n   </g>\n   <g id=\"line2d_45\">\n    <path d=\"M 205.226518 304.719128 \nL 205.226518 224.016323 \n\" clip-path=\"url(#p47d0d0f5d0)\" style=\"fill: none; stroke: #424242; stroke-width: 2.7; stroke-linecap: square\"/>\n   </g>\n   <g id=\"line2d_46\">\n    <path d=\"M 225.342506 338.532907 \nL 225.342506 231.29745 \n\" clip-path=\"url(#p47d0d0f5d0)\" style=\"fill: none; stroke: #424242; stroke-width: 2.7; stroke-linecap: square\"/>\n   </g>\n   <g id=\"line2d_47\">\n    <path d=\"M 245.458493 183.487919 \nL 245.458493 36.278437 \n\" clip-path=\"url(#p47d0d0f5d0)\" style=\"fill: none; stroke: #424242; stroke-width: 2.7; stroke-linecap: square\"/>\n   </g>\n   <g id=\"line2d_48\">\n    <path d=\"M 265.574481 235.706348 \nL 265.574481 108.702598 \n\" clip-path=\"url(#p47d0d0f5d0)\" style=\"fill: none; stroke: #424242; stroke-width: 2.7; stroke-linecap: square\"/>\n   </g>\n   <g id=\"line2d_49\">\n    <path d=\"M 285.690468 265.318237 \nL 285.690468 120.271867 \n\" clip-path=\"url(#p47d0d0f5d0)\" style=\"fill: none; stroke: #424242; stroke-width: 2.7; stroke-linecap: square\"/>\n   </g>\n   <g id=\"line2d_50\">\n    <path d=\"M 305.806456 278.641768 \nL 305.806456 149.450414 \n\" clip-path=\"url(#p47d0d0f5d0)\" style=\"fill: none; stroke: #424242; stroke-width: 2.7; stroke-linecap: square\"/>\n   </g>\n   <g id=\"line2d_51\">\n    <path d=\"M 325.922443 249.08995 \nL 325.922443 112.97038 \n\" clip-path=\"url(#p47d0d0f5d0)\" style=\"fill: none; stroke: #424242; stroke-width: 2.7; stroke-linecap: square\"/>\n   </g>\n   <g id=\"line2d_52\">\n    <path d=\"M 346.038431 247.569771 \nL 346.038431 103.087431 \n\" clip-path=\"url(#p47d0d0f5d0)\" style=\"fill: none; stroke: #424242; stroke-width: 2.7; stroke-linecap: square\"/>\n   </g>\n   <g id=\"line2d_53\">\n    <path d=\"M 366.154418 266.970643 \nL 366.154418 129.207611 \n\" clip-path=\"url(#p47d0d0f5d0)\" style=\"fill: none; stroke: #424242; stroke-width: 2.7; stroke-linecap: square\"/>\n   </g>\n   <g id=\"line2d_54\">\n    <path d=\"M 386.270406 254.515408 \nL 386.270406 108.529218 \n\" clip-path=\"url(#p47d0d0f5d0)\" style=\"fill: none; stroke: #424242; stroke-width: 2.7; stroke-linecap: square\"/>\n   </g>\n   <g id=\"line2d_55\">\n    <path d=\"M 406.386393 243.819636 \nL 406.386393 112.164559 \n\" clip-path=\"url(#p47d0d0f5d0)\" style=\"fill: none; stroke: #424242; stroke-width: 2.7; stroke-linecap: square\"/>\n   </g>\n   <g id=\"line2d_56\">\n    <path d=\"M 426.50238 287.273265 \nL 426.50238 171.855926 \n\" clip-path=\"url(#p47d0d0f5d0)\" style=\"fill: none; stroke: #424242; stroke-width: 2.7; stroke-linecap: square\"/>\n   </g>\n   <g id=\"line2d_57\">\n    <path d=\"M 446.618368 272.879086 \nL 446.618368 140.684697 \n\" clip-path=\"url(#p47d0d0f5d0)\" style=\"fill: none; stroke: #424242; stroke-width: 2.7; stroke-linecap: square\"/>\n   </g>\n   <g id=\"line2d_58\">\n    <path d=\"M 466.734355 286.440755 \nL 466.734355 146.206243 \n\" clip-path=\"url(#p47d0d0f5d0)\" style=\"fill: none; stroke: #424242; stroke-width: 2.7; stroke-linecap: square\"/>\n   </g>\n   <g id=\"line2d_59\">\n    <path d=\"M 486.850343 275.988428 \nL 486.850343 137.183496 \n\" clip-path=\"url(#p47d0d0f5d0)\" style=\"fill: none; stroke: #424242; stroke-width: 2.7; stroke-linecap: square\"/>\n   </g>\n   <g id=\"line2d_60\">\n    <path d=\"M 506.96633 257.932388 \nL 506.96633 125.029102 \n\" clip-path=\"url(#p47d0d0f5d0)\" style=\"fill: none; stroke: #424242; stroke-width: 2.7; stroke-linecap: square\"/>\n   </g>\n   <g id=\"line2d_61\">\n    <path d=\"M 527.082318 279.88516 \nL 527.082318 153.96652 \n\" clip-path=\"url(#p47d0d0f5d0)\" style=\"fill: none; stroke: #424242; stroke-width: 2.7; stroke-linecap: square\"/>\n   </g>\n   <g id=\"line2d_62\">\n    <path d=\"M 547.198305 281.721352 \nL 547.198305 158.651672 \n\" clip-path=\"url(#p47d0d0f5d0)\" style=\"fill: none; stroke: #424242; stroke-width: 2.7; stroke-linecap: square\"/>\n   </g>\n   <g id=\"line2d_63\">\n    <path d=\"M 567.314293 230.406129 \nL 567.314293 87.906902 \n\" clip-path=\"url(#p47d0d0f5d0)\" style=\"fill: none; stroke: #424242; stroke-width: 2.7; stroke-linecap: square\"/>\n   </g>\n   <g id=\"line2d_64\">\n    <path d=\"M 587.43028 217.114324 \nL 587.43028 73.985802 \n\" clip-path=\"url(#p47d0d0f5d0)\" style=\"fill: none; stroke: #424242; stroke-width: 2.7; stroke-linecap: square\"/>\n   </g>\n   <g id=\"line2d_65\">\n    <path d=\"M 607.546268 236.331906 \nL 607.546268 101.015428 \n\" clip-path=\"url(#p47d0d0f5d0)\" style=\"fill: none; stroke: #424242; stroke-width: 2.7; stroke-linecap: square\"/>\n   </g>\n   <g id=\"patch_32\">\n    <path d=\"M 34.240625 405.878437 \nL 34.240625 17.798437 \n\" style=\"fill: none; stroke: #000000; stroke-width: 0.8; stroke-linejoin: miter; stroke-linecap: square\"/>\n   </g>\n   <g id=\"patch_33\">\n    <path d=\"M 617.604261 405.878437 \nL 617.604261 17.798437 \n\" style=\"fill: none; stroke: #000000; stroke-width: 0.8; stroke-linejoin: miter; stroke-linecap: square\"/>\n   </g>\n   <g id=\"patch_34\">\n    <path d=\"M 34.240625 405.878437 \nL 617.604261 405.878437 \n\" style=\"fill: none; stroke: #000000; stroke-width: 0.8; stroke-linejoin: miter; stroke-linecap: square\"/>\n   </g>\n   <g id=\"patch_35\">\n    <path d=\"M 34.240625 17.798437 \nL 617.604261 17.798437 \n\" style=\"fill: none; stroke: #000000; stroke-width: 0.8; stroke-linejoin: miter; stroke-linecap: square\"/>\n   </g>\n  </g>\n  <g id=\"axes_2\">\n   <g id=\"patch_36\">\n    <path d=\"M 734.276989 405.878437 \nL 1317.640625 405.878437 \nL 1317.640625 17.798437 \nL 734.276989 17.798437 \nz\n\" style=\"fill: #ffffff\"/>\n   </g>\n   <g id=\"patch_37\">\n    <path d=\"M 763.44517 405.878437 \nL 996.790625 405.878437 \nL 996.790625 86.767704 \nL 763.44517 86.767704 \nz\n\" clip-path=\"url(#p4275ab3739)\" style=\"fill: #3274a1\"/>\n   </g>\n   <g id=\"patch_38\">\n    <path d=\"M 1055.126989 405.878437 \nL 1288.472443 405.878437 \nL 1288.472443 69.19664 \nL 1055.126989 69.19664 \nz\n\" clip-path=\"url(#p4275ab3739)\" style=\"fill: #e1812c\"/>\n   </g>\n   <g id=\"matplotlib.axis_3\">\n    <g id=\"xtick_30\">\n     <g id=\"line2d_66\">\n      <g>\n       <use xlink:href=\"#m333618a1e7\" x=\"880.117898\" y=\"405.878437\" style=\"stroke: #000000; stroke-width: 0.8\"/>\n      </g>\n     </g>\n     <g id=\"text_40\">\n      <!-- 0.0 -->\n      <g transform=\"translate(872.166335 420.476875) scale(0.1 -0.1)\">\n       <defs>\n        <path id=\"DejaVuSans-2e\" d=\"M 684 794 \nL 1344 794 \nL 1344 0 \nL 684 0 \nL 684 794 \nz\n\" transform=\"scale(0.015625)\"/>\n       </defs>\n       <use xlink:href=\"#DejaVuSans-30\"/>\n       <use xlink:href=\"#DejaVuSans-2e\" x=\"63.623047\"/>\n       <use xlink:href=\"#DejaVuSans-30\" x=\"95.410156\"/>\n      </g>\n     </g>\n    </g>\n    <g id=\"xtick_31\">\n     <g id=\"line2d_67\">\n      <g>\n       <use xlink:href=\"#m333618a1e7\" x=\"1171.799716\" y=\"405.878437\" style=\"stroke: #000000; stroke-width: 0.8\"/>\n      </g>\n     </g>\n     <g id=\"text_41\">\n      <!-- 1.0 -->\n      <g transform=\"translate(1163.848153 420.476875) scale(0.1 -0.1)\">\n       <use xlink:href=\"#DejaVuSans-31\"/>\n       <use xlink:href=\"#DejaVuSans-2e\" x=\"63.623047\"/>\n       <use xlink:href=\"#DejaVuSans-30\" x=\"95.410156\"/>\n      </g>\n     </g>\n    </g>\n    <g id=\"text_42\">\n     <!-- Gender -->\n     <g transform=\"translate(1007.533026 434.155) scale(0.1 -0.1)\">\n      <defs>\n       <path id=\"DejaVuSans-47\" d=\"M 3809 666 \nL 3809 1919 \nL 2778 1919 \nL 2778 2438 \nL 4434 2438 \nL 4434 434 \nQ 4069 175 3628 42 \nQ 3188 -91 2688 -91 \nQ 1594 -91 976 548 \nQ 359 1188 359 2328 \nQ 359 3472 976 4111 \nQ 1594 4750 2688 4750 \nQ 3144 4750 3555 4637 \nQ 3966 4525 4313 4306 \nL 4313 3634 \nQ 3963 3931 3569 4081 \nQ 3175 4231 2741 4231 \nQ 1884 4231 1454 3753 \nQ 1025 3275 1025 2328 \nQ 1025 1384 1454 906 \nQ 1884 428 2741 428 \nQ 3075 428 3337 486 \nQ 3600 544 3809 666 \nz\n\" transform=\"scale(0.015625)\"/>\n       <path id=\"DejaVuSans-64\" d=\"M 2906 2969 \nL 2906 4863 \nL 3481 4863 \nL 3481 0 \nL 2906 0 \nL 2906 525 \nQ 2725 213 2448 61 \nQ 2172 -91 1784 -91 \nQ 1150 -91 751 415 \nQ 353 922 353 1747 \nQ 353 2572 751 3078 \nQ 1150 3584 1784 3584 \nQ 2172 3584 2448 3432 \nQ 2725 3281 2906 2969 \nz\nM 947 1747 \nQ 947 1113 1208 752 \nQ 1469 391 1925 391 \nQ 2381 391 2643 752 \nQ 2906 1113 2906 1747 \nQ 2906 2381 2643 2742 \nQ 2381 3103 1925 3103 \nQ 1469 3103 1208 2742 \nQ 947 2381 947 1747 \nz\n\" transform=\"scale(0.015625)\"/>\n       <path id=\"DejaVuSans-72\" d=\"M 2631 2963 \nQ 2534 3019 2420 3045 \nQ 2306 3072 2169 3072 \nQ 1681 3072 1420 2755 \nQ 1159 2438 1159 1844 \nL 1159 0 \nL 581 0 \nL 581 3500 \nL 1159 3500 \nL 1159 2956 \nQ 1341 3275 1631 3429 \nQ 1922 3584 2338 3584 \nQ 2397 3584 2469 3576 \nQ 2541 3569 2628 3553 \nL 2631 2963 \nz\n\" transform=\"scale(0.015625)\"/>\n      </defs>\n      <use xlink:href=\"#DejaVuSans-47\"/>\n      <use xlink:href=\"#DejaVuSans-65\" x=\"77.490234\"/>\n      <use xlink:href=\"#DejaVuSans-6e\" x=\"139.013672\"/>\n      <use xlink:href=\"#DejaVuSans-64\" x=\"202.392578\"/>\n      <use xlink:href=\"#DejaVuSans-65\" x=\"265.869141\"/>\n      <use xlink:href=\"#DejaVuSans-72\" x=\"327.392578\"/>\n     </g>\n    </g>\n   </g>\n   <g id=\"matplotlib.axis_4\">\n    <g id=\"ytick_8\">\n     <g id=\"line2d_68\">\n      <g>\n       <use xlink:href=\"#m93a4caf5cc\" x=\"734.276989\" y=\"405.878437\" style=\"stroke: #000000; stroke-width: 0.8\"/>\n      </g>\n     </g>\n     <g id=\"text_43\">\n      <!-- 0.0 -->\n      <g transform=\"translate(711.373864 409.677656) scale(0.1 -0.1)\">\n       <use xlink:href=\"#DejaVuSans-30\"/>\n       <use xlink:href=\"#DejaVuSans-2e\" x=\"63.623047\"/>\n       <use xlink:href=\"#DejaVuSans-30\" x=\"95.410156\"/>\n      </g>\n     </g>\n    </g>\n    <g id=\"ytick_9\">\n     <g id=\"line2d_69\">\n      <g>\n       <use xlink:href=\"#m93a4caf5cc\" x=\"734.276989\" y=\"358.064929\" style=\"stroke: #000000; stroke-width: 0.8\"/>\n      </g>\n     </g>\n     <g id=\"text_44\">\n      <!-- 0.5 -->\n      <g transform=\"translate(711.373864 361.864148) scale(0.1 -0.1)\">\n       <use xlink:href=\"#DejaVuSans-30\"/>\n       <use xlink:href=\"#DejaVuSans-2e\" x=\"63.623047\"/>\n       <use xlink:href=\"#DejaVuSans-35\" x=\"95.410156\"/>\n      </g>\n     </g>\n    </g>\n    <g id=\"ytick_10\">\n     <g id=\"line2d_70\">\n      <g>\n       <use xlink:href=\"#m93a4caf5cc\" x=\"734.276989\" y=\"310.251421\" style=\"stroke: #000000; stroke-width: 0.8\"/>\n      </g>\n     </g>\n     <g id=\"text_45\">\n      <!-- 1.0 -->\n      <g transform=\"translate(711.373864 314.05064) scale(0.1 -0.1)\">\n       <use xlink:href=\"#DejaVuSans-31\"/>\n       <use xlink:href=\"#DejaVuSans-2e\" x=\"63.623047\"/>\n       <use xlink:href=\"#DejaVuSans-30\" x=\"95.410156\"/>\n      </g>\n     </g>\n    </g>\n    <g id=\"ytick_11\">\n     <g id=\"line2d_71\">\n      <g>\n       <use xlink:href=\"#m93a4caf5cc\" x=\"734.276989\" y=\"262.437913\" style=\"stroke: #000000; stroke-width: 0.8\"/>\n      </g>\n     </g>\n     <g id=\"text_46\">\n      <!-- 1.5 -->\n      <g transform=\"translate(711.373864 266.237132) scale(0.1 -0.1)\">\n       <use xlink:href=\"#DejaVuSans-31\"/>\n       <use xlink:href=\"#DejaVuSans-2e\" x=\"63.623047\"/>\n       <use xlink:href=\"#DejaVuSans-35\" x=\"95.410156\"/>\n      </g>\n     </g>\n    </g>\n    <g id=\"ytick_12\">\n     <g id=\"line2d_72\">\n      <g>\n       <use xlink:href=\"#m93a4caf5cc\" x=\"734.276989\" y=\"214.624405\" style=\"stroke: #000000; stroke-width: 0.8\"/>\n      </g>\n     </g>\n     <g id=\"text_47\">\n      <!-- 2.0 -->\n      <g transform=\"translate(711.373864 218.423623) scale(0.1 -0.1)\">\n       <use xlink:href=\"#DejaVuSans-32\"/>\n       <use xlink:href=\"#DejaVuSans-2e\" x=\"63.623047\"/>\n       <use xlink:href=\"#DejaVuSans-30\" x=\"95.410156\"/>\n      </g>\n     </g>\n    </g>\n    <g id=\"ytick_13\">\n     <g id=\"line2d_73\">\n      <g>\n       <use xlink:href=\"#m93a4caf5cc\" x=\"734.276989\" y=\"166.810896\" style=\"stroke: #000000; stroke-width: 0.8\"/>\n      </g>\n     </g>\n     <g id=\"text_48\">\n      <!-- 2.5 -->\n      <g transform=\"translate(711.373864 170.610115) scale(0.1 -0.1)\">\n       <use xlink:href=\"#DejaVuSans-32\"/>\n       <use xlink:href=\"#DejaVuSans-2e\" x=\"63.623047\"/>\n       <use xlink:href=\"#DejaVuSans-35\" x=\"95.410156\"/>\n      </g>\n     </g>\n    </g>\n    <g id=\"ytick_14\">\n     <g id=\"line2d_74\">\n      <g>\n       <use xlink:href=\"#m93a4caf5cc\" x=\"734.276989\" y=\"118.997388\" style=\"stroke: #000000; stroke-width: 0.8\"/>\n      </g>\n     </g>\n     <g id=\"text_49\">\n      <!-- 3.0 -->\n      <g transform=\"translate(711.373864 122.796607) scale(0.1 -0.1)\">\n       <use xlink:href=\"#DejaVuSans-33\"/>\n       <use xlink:href=\"#DejaVuSans-2e\" x=\"63.623047\"/>\n       <use xlink:href=\"#DejaVuSans-30\" x=\"95.410156\"/>\n      </g>\n     </g>\n    </g>\n    <g id=\"ytick_15\">\n     <g id=\"line2d_75\">\n      <g>\n       <use xlink:href=\"#m93a4caf5cc\" x=\"734.276989\" y=\"71.18388\" style=\"stroke: #000000; stroke-width: 0.8\"/>\n      </g>\n     </g>\n     <g id=\"text_50\">\n      <!-- 3.5 -->\n      <g transform=\"translate(711.373864 74.983099) scale(0.1 -0.1)\">\n       <use xlink:href=\"#DejaVuSans-33\"/>\n       <use xlink:href=\"#DejaVuSans-2e\" x=\"63.623047\"/>\n       <use xlink:href=\"#DejaVuSans-35\" x=\"95.410156\"/>\n      </g>\n     </g>\n    </g>\n    <g id=\"ytick_16\">\n     <g id=\"line2d_76\">\n      <g>\n       <use xlink:href=\"#m93a4caf5cc\" x=\"734.276989\" y=\"23.370372\" style=\"stroke: #000000; stroke-width: 0.8\"/>\n      </g>\n     </g>\n     <g id=\"text_51\">\n      <!-- 4.0 -->\n      <g transform=\"translate(711.373864 27.16959) scale(0.1 -0.1)\">\n       <use xlink:href=\"#DejaVuSans-34\"/>\n       <use xlink:href=\"#DejaVuSans-2e\" x=\"63.623047\"/>\n       <use xlink:href=\"#DejaVuSans-30\" x=\"95.410156\"/>\n      </g>\n     </g>\n    </g>\n    <g id=\"text_52\">\n     <!-- Total Business Value -->\n     <g transform=\"translate(705.294176 262.472031) rotate(-90) scale(0.1 -0.1)\">\n      <use xlink:href=\"#DejaVuSans-54\"/>\n      <use xlink:href=\"#DejaVuSans-6f\" x=\"44.083984\"/>\n      <use xlink:href=\"#DejaVuSans-74\" x=\"105.265625\"/>\n      <use xlink:href=\"#DejaVuSans-61\" x=\"144.474609\"/>\n      <use xlink:href=\"#DejaVuSans-6c\" x=\"205.753906\"/>\n      <use xlink:href=\"#DejaVuSans-20\" x=\"233.537109\"/>\n      <use xlink:href=\"#DejaVuSans-42\" x=\"265.324219\"/>\n      <use xlink:href=\"#DejaVuSans-75\" x=\"333.927734\"/>\n      <use xlink:href=\"#DejaVuSans-73\" x=\"397.306641\"/>\n      <use xlink:href=\"#DejaVuSans-69\" x=\"449.40625\"/>\n      <use xlink:href=\"#DejaVuSans-6e\" x=\"477.189453\"/>\n      <use xlink:href=\"#DejaVuSans-65\" x=\"540.568359\"/>\n      <use xlink:href=\"#DejaVuSans-73\" x=\"602.091797\"/>\n      <use xlink:href=\"#DejaVuSans-73\" x=\"654.191406\"/>\n      <use xlink:href=\"#DejaVuSans-20\" x=\"706.291016\"/>\n      <use xlink:href=\"#DejaVuSans-56\" x=\"738.078125\"/>\n      <use xlink:href=\"#DejaVuSans-61\" x=\"798.736328\"/>\n      <use xlink:href=\"#DejaVuSans-6c\" x=\"860.015625\"/>\n      <use xlink:href=\"#DejaVuSans-75\" x=\"887.798828\"/>\n      <use xlink:href=\"#DejaVuSans-65\" x=\"951.177734\"/>\n     </g>\n    </g>\n    <g id=\"text_53\">\n     <!-- 1e6 -->\n     <g transform=\"translate(734.276989 14.798437) scale(0.1 -0.1)\">\n      <use xlink:href=\"#DejaVuSans-31\"/>\n      <use xlink:href=\"#DejaVuSans-65\" x=\"63.623047\"/>\n      <use xlink:href=\"#DejaVuSans-36\" x=\"125.146484\"/>\n     </g>\n    </g>\n   </g>\n   <g id=\"line2d_77\">\n    <path d=\"M 880.117898 110.803348 \nL 880.117898 60.886434 \n\" clip-path=\"url(#p4275ab3739)\" style=\"fill: none; stroke: #424242; stroke-width: 2.7; stroke-linecap: square\"/>\n   </g>\n   <g id=\"line2d_78\">\n    <path d=\"M 1171.799716 98.847398 \nL 1171.799716 36.278437 \n\" clip-path=\"url(#p4275ab3739)\" style=\"fill: none; stroke: #424242; stroke-width: 2.7; stroke-linecap: square\"/>\n   </g>\n   <g id=\"patch_39\">\n    <path d=\"M 734.276989 405.878437 \nL 734.276989 17.798437 \n\" style=\"fill: none; stroke: #000000; stroke-width: 0.8; stroke-linejoin: miter; stroke-linecap: square\"/>\n   </g>\n   <g id=\"patch_40\">\n    <path d=\"M 1317.640625 405.878437 \nL 1317.640625 17.798437 \n\" style=\"fill: none; stroke: #000000; stroke-width: 0.8; stroke-linejoin: miter; stroke-linecap: square\"/>\n   </g>\n   <g id=\"patch_41\">\n    <path d=\"M 734.276989 405.878437 \nL 1317.640625 405.878437 \n\" style=\"fill: none; stroke: #000000; stroke-width: 0.8; stroke-linejoin: miter; stroke-linecap: square\"/>\n   </g>\n   <g id=\"patch_42\">\n    <path d=\"M 734.276989 17.798437 \nL 1317.640625 17.798437 \n\" style=\"fill: none; stroke: #000000; stroke-width: 0.8; stroke-linejoin: miter; stroke-linecap: square\"/>\n   </g>\n  </g>\n </g>\n <defs>\n  <clipPath id=\"p47d0d0f5d0\">\n   <rect x=\"34.240625\" y=\"17.798437\" width=\"583.363636\" height=\"388.08\"/>\n  </clipPath>\n  <clipPath id=\"p4275ab3739\">\n   <rect x=\"734.276989\" y=\"17.798437\" width=\"583.363636\" height=\"388.08\"/>\n  </clipPath>\n </defs>\n</svg>\n"
          },
          "metadata": {}
        }
      ]
    },
    {
      "cell_type": "code",
      "source": [
        "#Target  Vs Gender & Age\n",
        "fig, axis = plt.subplots(nrows=1, ncols=2, figsize=(23, 7))\n",
        "plt.subplot(121)\n",
        "sns.countplot(x=df_final['Target'],hue=df_final[\"Gender\"])\n",
        "plt.subplot(122)\n",
        "sns.histplot(data=df_final, x=\"Age\", hue=\"Target\",kde=True)\n",
        "plt.show()\n",
        "#Not much difeerence between age groups\n",
        "#Males are leaving more compared to females"
      ],
      "metadata": {
        "colab": {
          "base_uri": "https://localhost:8080/",
          "height": 618
        },
        "id": "qPPGHoOYg_MZ",
        "outputId": "67356d50-bd0d-4380-a631-5593fa931649"
      },
      "execution_count": null,
      "outputs": [
        {
          "output_type": "display_data",
          "data": {
            "text/plain": [
              "<Figure size 2300x700 with 2 Axes>"
            ],
            "image/svg+xml": "<?xml version=\"1.0\" encoding=\"utf-8\" standalone=\"no\"?>\n<!DOCTYPE svg PUBLIC \"-//W3C//DTD SVG 1.1//EN\"\n  \"http://www.w3.org/Graphics/SVG/1.1/DTD/svg11.dtd\">\n<svg xmlns:xlink=\"http://www.w3.org/1999/xlink\" width=\"1337.565625pt\" height=\"432.83625pt\" viewBox=\"0 0 1337.565625 432.83625\" xmlns=\"http://www.w3.org/2000/svg\" version=\"1.1\">\n <metadata>\n  <rdf:RDF xmlns:dc=\"http://purl.org/dc/elements/1.1/\" xmlns:cc=\"http://creativecommons.org/ns#\" xmlns:rdf=\"http://www.w3.org/1999/02/22-rdf-syntax-ns#\">\n   <cc:Work>\n    <dc:type rdf:resource=\"http://purl.org/dc/dcmitype/StillImage\"/>\n    <dc:date>2023-07-12T06:34:07.162257</dc:date>\n    <dc:format>image/svg+xml</dc:format>\n    <dc:creator>\n     <cc:Agent>\n      <dc:title>Matplotlib v3.7.1, https://matplotlib.org/</dc:title>\n     </cc:Agent>\n    </dc:creator>\n   </cc:Work>\n  </rdf:RDF>\n </metadata>\n <defs>\n  <style type=\"text/css\">*{stroke-linejoin: round; stroke-linecap: butt}</style>\n </defs>\n <g id=\"figure_1\">\n  <g id=\"patch_1\">\n   <path d=\"M 0 432.83625 \nL 1337.565625 432.83625 \nL 1337.565625 0 \nL 0 0 \nz\n\" style=\"fill: #ffffff\"/>\n  </g>\n  <g id=\"axes_1\">\n   <g id=\"patch_2\">\n    <path d=\"M 46.965625 395.28 \nL 630.329261 395.28 \nL 630.329261 7.2 \nL 46.965625 7.2 \nz\n\" style=\"fill: #ffffff\"/>\n   </g>\n   <g id=\"patch_3\">\n    <path d=\"M 76.133807 395.28 \nL 192.806534 395.28 \nL 192.806534 217.497722 \nL 76.133807 217.497722 \nz\n\" clip-path=\"url(#p0a42e5fa46)\" style=\"fill: #3274a1\"/>\n   </g>\n   <g id=\"patch_4\">\n    <path d=\"M 367.815625 395.28 \nL 484.488352 395.28 \nL 484.488352 25.68 \nL 367.815625 25.68 \nz\n\" clip-path=\"url(#p0a42e5fa46)\" style=\"fill: #3274a1\"/>\n   </g>\n   <g id=\"patch_5\">\n    <path d=\"M 192.806534 395.28 \nL 309.479261 395.28 \nL 309.479261 274.809114 \nL 192.806534 274.809114 \nz\n\" clip-path=\"url(#p0a42e5fa46)\" style=\"fill: #e1812c\"/>\n   </g>\n   <g id=\"patch_6\">\n    <path d=\"M 484.488352 395.28 \nL 601.16108 395.28 \nL 601.16108 134.844557 \nL 484.488352 134.844557 \nz\n\" clip-path=\"url(#p0a42e5fa46)\" style=\"fill: #e1812c\"/>\n   </g>\n   <g id=\"matplotlib.axis_1\">\n    <g id=\"xtick_1\">\n     <g id=\"line2d_1\">\n      <defs>\n       <path id=\"m330157a71c\" d=\"M 0 0 \nL 0 3.5 \n\" style=\"stroke: #000000; stroke-width: 0.8\"/>\n      </defs>\n      <g>\n       <use xlink:href=\"#m330157a71c\" x=\"192.806534\" y=\"395.28\" style=\"stroke: #000000; stroke-width: 0.8\"/>\n      </g>\n     </g>\n     <g id=\"text_1\">\n      <!-- 0 -->\n      <g transform=\"translate(189.625284 409.878438) scale(0.1 -0.1)\">\n       <defs>\n        <path id=\"DejaVuSans-30\" d=\"M 2034 4250 \nQ 1547 4250 1301 3770 \nQ 1056 3291 1056 2328 \nQ 1056 1369 1301 889 \nQ 1547 409 2034 409 \nQ 2525 409 2770 889 \nQ 3016 1369 3016 2328 \nQ 3016 3291 2770 3770 \nQ 2525 4250 2034 4250 \nz\nM 2034 4750 \nQ 2819 4750 3233 4129 \nQ 3647 3509 3647 2328 \nQ 3647 1150 3233 529 \nQ 2819 -91 2034 -91 \nQ 1250 -91 836 529 \nQ 422 1150 422 2328 \nQ 422 3509 836 4129 \nQ 1250 4750 2034 4750 \nz\n\" transform=\"scale(0.015625)\"/>\n       </defs>\n       <use xlink:href=\"#DejaVuSans-30\"/>\n      </g>\n     </g>\n    </g>\n    <g id=\"xtick_2\">\n     <g id=\"line2d_2\">\n      <g>\n       <use xlink:href=\"#m330157a71c\" x=\"484.488352\" y=\"395.28\" style=\"stroke: #000000; stroke-width: 0.8\"/>\n      </g>\n     </g>\n     <g id=\"text_2\">\n      <!-- 1 -->\n      <g transform=\"translate(481.307102 409.878438) scale(0.1 -0.1)\">\n       <defs>\n        <path id=\"DejaVuSans-31\" d=\"M 794 531 \nL 1825 531 \nL 1825 4091 \nL 703 3866 \nL 703 4441 \nL 1819 4666 \nL 2450 4666 \nL 2450 531 \nL 3481 531 \nL 3481 0 \nL 794 0 \nL 794 531 \nz\n\" transform=\"scale(0.015625)\"/>\n       </defs>\n       <use xlink:href=\"#DejaVuSans-31\"/>\n      </g>\n     </g>\n    </g>\n    <g id=\"text_3\">\n     <!-- Target -->\n     <g transform=\"translate(323.175568 423.556562) scale(0.1 -0.1)\">\n      <defs>\n       <path id=\"DejaVuSans-54\" d=\"M -19 4666 \nL 3928 4666 \nL 3928 4134 \nL 2272 4134 \nL 2272 0 \nL 1638 0 \nL 1638 4134 \nL -19 4134 \nL -19 4666 \nz\n\" transform=\"scale(0.015625)\"/>\n       <path id=\"DejaVuSans-61\" d=\"M 2194 1759 \nQ 1497 1759 1228 1600 \nQ 959 1441 959 1056 \nQ 959 750 1161 570 \nQ 1363 391 1709 391 \nQ 2188 391 2477 730 \nQ 2766 1069 2766 1631 \nL 2766 1759 \nL 2194 1759 \nz\nM 3341 1997 \nL 3341 0 \nL 2766 0 \nL 2766 531 \nQ 2569 213 2275 61 \nQ 1981 -91 1556 -91 \nQ 1019 -91 701 211 \nQ 384 513 384 1019 \nQ 384 1609 779 1909 \nQ 1175 2209 1959 2209 \nL 2766 2209 \nL 2766 2266 \nQ 2766 2663 2505 2880 \nQ 2244 3097 1772 3097 \nQ 1472 3097 1187 3025 \nQ 903 2953 641 2809 \nL 641 3341 \nQ 956 3463 1253 3523 \nQ 1550 3584 1831 3584 \nQ 2591 3584 2966 3190 \nQ 3341 2797 3341 1997 \nz\n\" transform=\"scale(0.015625)\"/>\n       <path id=\"DejaVuSans-72\" d=\"M 2631 2963 \nQ 2534 3019 2420 3045 \nQ 2306 3072 2169 3072 \nQ 1681 3072 1420 2755 \nQ 1159 2438 1159 1844 \nL 1159 0 \nL 581 0 \nL 581 3500 \nL 1159 3500 \nL 1159 2956 \nQ 1341 3275 1631 3429 \nQ 1922 3584 2338 3584 \nQ 2397 3584 2469 3576 \nQ 2541 3569 2628 3553 \nL 2631 2963 \nz\n\" transform=\"scale(0.015625)\"/>\n       <path id=\"DejaVuSans-67\" d=\"M 2906 1791 \nQ 2906 2416 2648 2759 \nQ 2391 3103 1925 3103 \nQ 1463 3103 1205 2759 \nQ 947 2416 947 1791 \nQ 947 1169 1205 825 \nQ 1463 481 1925 481 \nQ 2391 481 2648 825 \nQ 2906 1169 2906 1791 \nz\nM 3481 434 \nQ 3481 -459 3084 -895 \nQ 2688 -1331 1869 -1331 \nQ 1566 -1331 1297 -1286 \nQ 1028 -1241 775 -1147 \nL 775 -588 \nQ 1028 -725 1275 -790 \nQ 1522 -856 1778 -856 \nQ 2344 -856 2625 -561 \nQ 2906 -266 2906 331 \nL 2906 616 \nQ 2728 306 2450 153 \nQ 2172 0 1784 0 \nQ 1141 0 747 490 \nQ 353 981 353 1791 \nQ 353 2603 747 3093 \nQ 1141 3584 1784 3584 \nQ 2172 3584 2450 3431 \nQ 2728 3278 2906 2969 \nL 2906 3500 \nL 3481 3500 \nL 3481 434 \nz\n\" transform=\"scale(0.015625)\"/>\n       <path id=\"DejaVuSans-65\" d=\"M 3597 1894 \nL 3597 1613 \nL 953 1613 \nQ 991 1019 1311 708 \nQ 1631 397 2203 397 \nQ 2534 397 2845 478 \nQ 3156 559 3463 722 \nL 3463 178 \nQ 3153 47 2828 -22 \nQ 2503 -91 2169 -91 \nQ 1331 -91 842 396 \nQ 353 884 353 1716 \nQ 353 2575 817 3079 \nQ 1281 3584 2069 3584 \nQ 2775 3584 3186 3129 \nQ 3597 2675 3597 1894 \nz\nM 3022 2063 \nQ 3016 2534 2758 2815 \nQ 2500 3097 2075 3097 \nQ 1594 3097 1305 2825 \nQ 1016 2553 972 2059 \nL 3022 2063 \nz\n\" transform=\"scale(0.015625)\"/>\n       <path id=\"DejaVuSans-74\" d=\"M 1172 4494 \nL 1172 3500 \nL 2356 3500 \nL 2356 3053 \nL 1172 3053 \nL 1172 1153 \nQ 1172 725 1289 603 \nQ 1406 481 1766 481 \nL 2356 481 \nL 2356 0 \nL 1766 0 \nQ 1100 0 847 248 \nQ 594 497 594 1153 \nL 594 3053 \nL 172 3053 \nL 172 3500 \nL 594 3500 \nL 594 4494 \nL 1172 4494 \nz\n\" transform=\"scale(0.015625)\"/>\n      </defs>\n      <use xlink:href=\"#DejaVuSans-54\"/>\n      <use xlink:href=\"#DejaVuSans-61\" x=\"44.583984\"/>\n      <use xlink:href=\"#DejaVuSans-72\" x=\"105.863281\"/>\n      <use xlink:href=\"#DejaVuSans-67\" x=\"145.226562\"/>\n      <use xlink:href=\"#DejaVuSans-65\" x=\"208.703125\"/>\n      <use xlink:href=\"#DejaVuSans-74\" x=\"270.226562\"/>\n     </g>\n    </g>\n   </g>\n   <g id=\"matplotlib.axis_2\">\n    <g id=\"ytick_1\">\n     <g id=\"line2d_3\">\n      <defs>\n       <path id=\"mf1edbeaa3d\" d=\"M 0 0 \nL -3.5 0 \n\" style=\"stroke: #000000; stroke-width: 0.8\"/>\n      </defs>\n      <g>\n       <use xlink:href=\"#mf1edbeaa3d\" x=\"46.965625\" y=\"395.28\" style=\"stroke: #000000; stroke-width: 0.8\"/>\n      </g>\n     </g>\n     <g id=\"text_4\">\n      <!-- 0 -->\n      <g transform=\"translate(33.603125 399.079219) scale(0.1 -0.1)\">\n       <use xlink:href=\"#DejaVuSans-30\"/>\n      </g>\n     </g>\n    </g>\n    <g id=\"ytick_2\">\n     <g id=\"line2d_4\">\n      <g>\n       <use xlink:href=\"#mf1edbeaa3d\" x=\"46.965625\" y=\"317.305316\" style=\"stroke: #000000; stroke-width: 0.8\"/>\n      </g>\n     </g>\n     <g id=\"text_5\">\n      <!-- 200 -->\n      <g transform=\"translate(20.878125 321.104535) scale(0.1 -0.1)\">\n       <defs>\n        <path id=\"DejaVuSans-32\" d=\"M 1228 531 \nL 3431 531 \nL 3431 0 \nL 469 0 \nL 469 531 \nQ 828 903 1448 1529 \nQ 2069 2156 2228 2338 \nQ 2531 2678 2651 2914 \nQ 2772 3150 2772 3378 \nQ 2772 3750 2511 3984 \nQ 2250 4219 1831 4219 \nQ 1534 4219 1204 4116 \nQ 875 4013 500 3803 \nL 500 4441 \nQ 881 4594 1212 4672 \nQ 1544 4750 1819 4750 \nQ 2544 4750 2975 4387 \nQ 3406 4025 3406 3419 \nQ 3406 3131 3298 2873 \nQ 3191 2616 2906 2266 \nQ 2828 2175 2409 1742 \nQ 1991 1309 1228 531 \nz\n\" transform=\"scale(0.015625)\"/>\n       </defs>\n       <use xlink:href=\"#DejaVuSans-32\"/>\n       <use xlink:href=\"#DejaVuSans-30\" x=\"63.623047\"/>\n       <use xlink:href=\"#DejaVuSans-30\" x=\"127.246094\"/>\n      </g>\n     </g>\n    </g>\n    <g id=\"ytick_3\">\n     <g id=\"line2d_5\">\n      <g>\n       <use xlink:href=\"#mf1edbeaa3d\" x=\"46.965625\" y=\"239.330633\" style=\"stroke: #000000; stroke-width: 0.8\"/>\n      </g>\n     </g>\n     <g id=\"text_6\">\n      <!-- 400 -->\n      <g transform=\"translate(20.878125 243.129852) scale(0.1 -0.1)\">\n       <defs>\n        <path id=\"DejaVuSans-34\" d=\"M 2419 4116 \nL 825 1625 \nL 2419 1625 \nL 2419 4116 \nz\nM 2253 4666 \nL 3047 4666 \nL 3047 1625 \nL 3713 1625 \nL 3713 1100 \nL 3047 1100 \nL 3047 0 \nL 2419 0 \nL 2419 1100 \nL 313 1100 \nL 313 1709 \nL 2253 4666 \nz\n\" transform=\"scale(0.015625)\"/>\n       </defs>\n       <use xlink:href=\"#DejaVuSans-34\"/>\n       <use xlink:href=\"#DejaVuSans-30\" x=\"63.623047\"/>\n       <use xlink:href=\"#DejaVuSans-30\" x=\"127.246094\"/>\n      </g>\n     </g>\n    </g>\n    <g id=\"ytick_4\">\n     <g id=\"line2d_6\">\n      <g>\n       <use xlink:href=\"#mf1edbeaa3d\" x=\"46.965625\" y=\"161.355949\" style=\"stroke: #000000; stroke-width: 0.8\"/>\n      </g>\n     </g>\n     <g id=\"text_7\">\n      <!-- 600 -->\n      <g transform=\"translate(20.878125 165.155168) scale(0.1 -0.1)\">\n       <defs>\n        <path id=\"DejaVuSans-36\" d=\"M 2113 2584 \nQ 1688 2584 1439 2293 \nQ 1191 2003 1191 1497 \nQ 1191 994 1439 701 \nQ 1688 409 2113 409 \nQ 2538 409 2786 701 \nQ 3034 994 3034 1497 \nQ 3034 2003 2786 2293 \nQ 2538 2584 2113 2584 \nz\nM 3366 4563 \nL 3366 3988 \nQ 3128 4100 2886 4159 \nQ 2644 4219 2406 4219 \nQ 1781 4219 1451 3797 \nQ 1122 3375 1075 2522 \nQ 1259 2794 1537 2939 \nQ 1816 3084 2150 3084 \nQ 2853 3084 3261 2657 \nQ 3669 2231 3669 1497 \nQ 3669 778 3244 343 \nQ 2819 -91 2113 -91 \nQ 1303 -91 875 529 \nQ 447 1150 447 2328 \nQ 447 3434 972 4092 \nQ 1497 4750 2381 4750 \nQ 2619 4750 2861 4703 \nQ 3103 4656 3366 4563 \nz\n\" transform=\"scale(0.015625)\"/>\n       </defs>\n       <use xlink:href=\"#DejaVuSans-36\"/>\n       <use xlink:href=\"#DejaVuSans-30\" x=\"63.623047\"/>\n       <use xlink:href=\"#DejaVuSans-30\" x=\"127.246094\"/>\n      </g>\n     </g>\n    </g>\n    <g id=\"ytick_5\">\n     <g id=\"line2d_7\">\n      <g>\n       <use xlink:href=\"#mf1edbeaa3d\" x=\"46.965625\" y=\"83.381266\" style=\"stroke: #000000; stroke-width: 0.8\"/>\n      </g>\n     </g>\n     <g id=\"text_8\">\n      <!-- 800 -->\n      <g transform=\"translate(20.878125 87.180485) scale(0.1 -0.1)\">\n       <defs>\n        <path id=\"DejaVuSans-38\" d=\"M 2034 2216 \nQ 1584 2216 1326 1975 \nQ 1069 1734 1069 1313 \nQ 1069 891 1326 650 \nQ 1584 409 2034 409 \nQ 2484 409 2743 651 \nQ 3003 894 3003 1313 \nQ 3003 1734 2745 1975 \nQ 2488 2216 2034 2216 \nz\nM 1403 2484 \nQ 997 2584 770 2862 \nQ 544 3141 544 3541 \nQ 544 4100 942 4425 \nQ 1341 4750 2034 4750 \nQ 2731 4750 3128 4425 \nQ 3525 4100 3525 3541 \nQ 3525 3141 3298 2862 \nQ 3072 2584 2669 2484 \nQ 3125 2378 3379 2068 \nQ 3634 1759 3634 1313 \nQ 3634 634 3220 271 \nQ 2806 -91 2034 -91 \nQ 1263 -91 848 271 \nQ 434 634 434 1313 \nQ 434 1759 690 2068 \nQ 947 2378 1403 2484 \nz\nM 1172 3481 \nQ 1172 3119 1398 2916 \nQ 1625 2713 2034 2713 \nQ 2441 2713 2670 2916 \nQ 2900 3119 2900 3481 \nQ 2900 3844 2670 4047 \nQ 2441 4250 2034 4250 \nQ 1625 4250 1398 4047 \nQ 1172 3844 1172 3481 \nz\n\" transform=\"scale(0.015625)\"/>\n       </defs>\n       <use xlink:href=\"#DejaVuSans-38\"/>\n       <use xlink:href=\"#DejaVuSans-30\" x=\"63.623047\"/>\n       <use xlink:href=\"#DejaVuSans-30\" x=\"127.246094\"/>\n      </g>\n     </g>\n    </g>\n    <g id=\"text_9\">\n     <!-- count -->\n     <g transform=\"translate(14.798438 215.34625) rotate(-90) scale(0.1 -0.1)\">\n      <defs>\n       <path id=\"DejaVuSans-63\" d=\"M 3122 3366 \nL 3122 2828 \nQ 2878 2963 2633 3030 \nQ 2388 3097 2138 3097 \nQ 1578 3097 1268 2742 \nQ 959 2388 959 1747 \nQ 959 1106 1268 751 \nQ 1578 397 2138 397 \nQ 2388 397 2633 464 \nQ 2878 531 3122 666 \nL 3122 134 \nQ 2881 22 2623 -34 \nQ 2366 -91 2075 -91 \nQ 1284 -91 818 406 \nQ 353 903 353 1747 \nQ 353 2603 823 3093 \nQ 1294 3584 2113 3584 \nQ 2378 3584 2631 3529 \nQ 2884 3475 3122 3366 \nz\n\" transform=\"scale(0.015625)\"/>\n       <path id=\"DejaVuSans-6f\" d=\"M 1959 3097 \nQ 1497 3097 1228 2736 \nQ 959 2375 959 1747 \nQ 959 1119 1226 758 \nQ 1494 397 1959 397 \nQ 2419 397 2687 759 \nQ 2956 1122 2956 1747 \nQ 2956 2369 2687 2733 \nQ 2419 3097 1959 3097 \nz\nM 1959 3584 \nQ 2709 3584 3137 3096 \nQ 3566 2609 3566 1747 \nQ 3566 888 3137 398 \nQ 2709 -91 1959 -91 \nQ 1206 -91 779 398 \nQ 353 888 353 1747 \nQ 353 2609 779 3096 \nQ 1206 3584 1959 3584 \nz\n\" transform=\"scale(0.015625)\"/>\n       <path id=\"DejaVuSans-75\" d=\"M 544 1381 \nL 544 3500 \nL 1119 3500 \nL 1119 1403 \nQ 1119 906 1312 657 \nQ 1506 409 1894 409 \nQ 2359 409 2629 706 \nQ 2900 1003 2900 1516 \nL 2900 3500 \nL 3475 3500 \nL 3475 0 \nL 2900 0 \nL 2900 538 \nQ 2691 219 2414 64 \nQ 2138 -91 1772 -91 \nQ 1169 -91 856 284 \nQ 544 659 544 1381 \nz\nM 1991 3584 \nL 1991 3584 \nz\n\" transform=\"scale(0.015625)\"/>\n       <path id=\"DejaVuSans-6e\" d=\"M 3513 2113 \nL 3513 0 \nL 2938 0 \nL 2938 2094 \nQ 2938 2591 2744 2837 \nQ 2550 3084 2163 3084 \nQ 1697 3084 1428 2787 \nQ 1159 2491 1159 1978 \nL 1159 0 \nL 581 0 \nL 581 3500 \nL 1159 3500 \nL 1159 2956 \nQ 1366 3272 1645 3428 \nQ 1925 3584 2291 3584 \nQ 2894 3584 3203 3211 \nQ 3513 2838 3513 2113 \nz\n\" transform=\"scale(0.015625)\"/>\n      </defs>\n      <use xlink:href=\"#DejaVuSans-63\"/>\n      <use xlink:href=\"#DejaVuSans-6f\" x=\"54.980469\"/>\n      <use xlink:href=\"#DejaVuSans-75\" x=\"116.162109\"/>\n      <use xlink:href=\"#DejaVuSans-6e\" x=\"179.541016\"/>\n      <use xlink:href=\"#DejaVuSans-74\" x=\"242.919922\"/>\n     </g>\n    </g>\n   </g>\n   <g id=\"patch_7\">\n    <path d=\"M 46.965625 395.28 \nL 46.965625 7.2 \n\" style=\"fill: none; stroke: #000000; stroke-width: 0.8; stroke-linejoin: miter; stroke-linecap: square\"/>\n   </g>\n   <g id=\"patch_8\">\n    <path d=\"M 630.329261 395.28 \nL 630.329261 7.2 \n\" style=\"fill: none; stroke: #000000; stroke-width: 0.8; stroke-linejoin: miter; stroke-linecap: square\"/>\n   </g>\n   <g id=\"patch_9\">\n    <path d=\"M 46.965625 395.28 \nL 630.329261 395.28 \n\" style=\"fill: none; stroke: #000000; stroke-width: 0.8; stroke-linejoin: miter; stroke-linecap: square\"/>\n   </g>\n   <g id=\"patch_10\">\n    <path d=\"M 46.965625 7.2 \nL 630.329261 7.2 \n\" style=\"fill: none; stroke: #000000; stroke-width: 0.8; stroke-linejoin: miter; stroke-linecap: square\"/>\n   </g>\n   <g id=\"legend_1\">\n    <g id=\"patch_11\">\n     <path d=\"M 575.426136 59.234375 \nL 623.329261 59.234375 \nQ 625.329261 59.234375 625.329261 57.234375 \nL 625.329261 14.2 \nQ 625.329261 12.2 623.329261 12.2 \nL 575.426136 12.2 \nQ 573.426136 12.2 573.426136 14.2 \nL 573.426136 57.234375 \nQ 573.426136 59.234375 575.426136 59.234375 \nz\n\" style=\"fill: #ffffff; opacity: 0.8; stroke: #cccccc; stroke-linejoin: miter\"/>\n    </g>\n    <g id=\"text_10\">\n     <!-- Gender -->\n     <g transform=\"translate(580.951918 23.798437) scale(0.1 -0.1)\">\n      <defs>\n       <path id=\"DejaVuSans-47\" d=\"M 3809 666 \nL 3809 1919 \nL 2778 1919 \nL 2778 2438 \nL 4434 2438 \nL 4434 434 \nQ 4069 175 3628 42 \nQ 3188 -91 2688 -91 \nQ 1594 -91 976 548 \nQ 359 1188 359 2328 \nQ 359 3472 976 4111 \nQ 1594 4750 2688 4750 \nQ 3144 4750 3555 4637 \nQ 3966 4525 4313 4306 \nL 4313 3634 \nQ 3963 3931 3569 4081 \nQ 3175 4231 2741 4231 \nQ 1884 4231 1454 3753 \nQ 1025 3275 1025 2328 \nQ 1025 1384 1454 906 \nQ 1884 428 2741 428 \nQ 3075 428 3337 486 \nQ 3600 544 3809 666 \nz\n\" transform=\"scale(0.015625)\"/>\n       <path id=\"DejaVuSans-64\" d=\"M 2906 2969 \nL 2906 4863 \nL 3481 4863 \nL 3481 0 \nL 2906 0 \nL 2906 525 \nQ 2725 213 2448 61 \nQ 2172 -91 1784 -91 \nQ 1150 -91 751 415 \nQ 353 922 353 1747 \nQ 353 2572 751 3078 \nQ 1150 3584 1784 3584 \nQ 2172 3584 2448 3432 \nQ 2725 3281 2906 2969 \nz\nM 947 1747 \nQ 947 1113 1208 752 \nQ 1469 391 1925 391 \nQ 2381 391 2643 752 \nQ 2906 1113 2906 1747 \nQ 2906 2381 2643 2742 \nQ 2381 3103 1925 3103 \nQ 1469 3103 1208 2742 \nQ 947 2381 947 1747 \nz\n\" transform=\"scale(0.015625)\"/>\n      </defs>\n      <use xlink:href=\"#DejaVuSans-47\"/>\n      <use xlink:href=\"#DejaVuSans-65\" x=\"77.490234\"/>\n      <use xlink:href=\"#DejaVuSans-6e\" x=\"139.013672\"/>\n      <use xlink:href=\"#DejaVuSans-64\" x=\"202.392578\"/>\n      <use xlink:href=\"#DejaVuSans-65\" x=\"265.869141\"/>\n      <use xlink:href=\"#DejaVuSans-72\" x=\"327.392578\"/>\n     </g>\n    </g>\n    <g id=\"patch_12\">\n     <path d=\"M 577.426136 38.476562 \nL 597.426136 38.476562 \nL 597.426136 31.476562 \nL 577.426136 31.476562 \nz\n\" style=\"fill: #3274a1\"/>\n    </g>\n    <g id=\"text_11\">\n     <!-- 0.0 -->\n     <g transform=\"translate(605.426136 38.476562) scale(0.1 -0.1)\">\n      <defs>\n       <path id=\"DejaVuSans-2e\" d=\"M 684 794 \nL 1344 794 \nL 1344 0 \nL 684 0 \nL 684 794 \nz\n\" transform=\"scale(0.015625)\"/>\n      </defs>\n      <use xlink:href=\"#DejaVuSans-30\"/>\n      <use xlink:href=\"#DejaVuSans-2e\" x=\"63.623047\"/>\n      <use xlink:href=\"#DejaVuSans-30\" x=\"95.410156\"/>\n     </g>\n    </g>\n    <g id=\"patch_13\">\n     <path d=\"M 577.426136 53.154687 \nL 597.426136 53.154687 \nL 597.426136 46.154687 \nL 577.426136 46.154687 \nz\n\" style=\"fill: #e1812c\"/>\n    </g>\n    <g id=\"text_12\">\n     <!-- 1.0 -->\n     <g transform=\"translate(605.426136 53.154687) scale(0.1 -0.1)\">\n      <use xlink:href=\"#DejaVuSans-31\"/>\n      <use xlink:href=\"#DejaVuSans-2e\" x=\"63.623047\"/>\n      <use xlink:href=\"#DejaVuSans-30\" x=\"95.410156\"/>\n     </g>\n    </g>\n   </g>\n  </g>\n  <g id=\"axes_2\">\n   <g id=\"patch_14\">\n    <path d=\"M 747.001989 395.28 \nL 1330.365625 395.28 \nL 1330.365625 7.2 \nL 747.001989 7.2 \nz\n\" style=\"fill: #ffffff\"/>\n   </g>\n   <g id=\"patch_15\">\n    <path d=\"M 773.518518 395.28 \nL 790.625956 395.28 \nL 790.625956 368.028387 \nL 773.518518 368.028387 \nz\n\" clip-path=\"url(#pf74b2fa1ab)\" style=\"fill: #ff7f0e; fill-opacity: 0.5; stroke: #000000; stroke-linejoin: miter\"/>\n   </g>\n   <g id=\"patch_16\">\n    <path d=\"M 790.625956 395.28 \nL 807.733394 395.28 \nL 807.733394 349.292903 \nL 790.625956 349.292903 \nz\n\" clip-path=\"url(#pf74b2fa1ab)\" style=\"fill: #ff7f0e; fill-opacity: 0.5; stroke: #000000; stroke-linejoin: miter\"/>\n   </g>\n   <g id=\"patch_17\">\n    <path d=\"M 807.733394 395.28 \nL 824.840832 395.28 \nL 824.840832 337.370323 \nL 807.733394 337.370323 \nz\n\" clip-path=\"url(#pf74b2fa1ab)\" style=\"fill: #ff7f0e; fill-opacity: 0.5; stroke: #000000; stroke-linejoin: miter\"/>\n   </g>\n   <g id=\"patch_18\">\n    <path d=\"M 824.840832 395.28 \nL 841.94827 395.28 \nL 841.94827 293.086452 \nL 824.840832 293.086452 \nz\n\" clip-path=\"url(#pf74b2fa1ab)\" style=\"fill: #ff7f0e; fill-opacity: 0.5; stroke: #000000; stroke-linejoin: miter\"/>\n   </g>\n   <g id=\"patch_19\">\n    <path d=\"M 841.94827 395.28 \nL 859.055708 395.28 \nL 859.055708 301.602581 \nL 841.94827 301.602581 \nz\n\" clip-path=\"url(#pf74b2fa1ab)\" style=\"fill: #ff7f0e; fill-opacity: 0.5; stroke: #000000; stroke-linejoin: miter\"/>\n   </g>\n   <g id=\"patch_20\">\n    <path d=\"M 859.055708 395.28 \nL 876.163146 395.28 \nL 876.163146 105.731613 \nL 859.055708 105.731613 \nz\n\" clip-path=\"url(#pf74b2fa1ab)\" style=\"fill: #ff7f0e; fill-opacity: 0.5; stroke: #000000; stroke-linejoin: miter\"/>\n   </g>\n   <g id=\"patch_21\">\n    <path d=\"M 876.163146 395.28 \nL 893.270584 395.28 \nL 893.270584 252.209032 \nL 876.163146 252.209032 \nz\n\" clip-path=\"url(#pf74b2fa1ab)\" style=\"fill: #ff7f0e; fill-opacity: 0.5; stroke: #000000; stroke-linejoin: miter\"/>\n   </g>\n   <g id=\"patch_22\">\n    <path d=\"M 893.270584 395.28 \nL 910.378022 395.28 \nL 910.378022 228.363871 \nL 893.270584 228.363871 \nz\n\" clip-path=\"url(#pf74b2fa1ab)\" style=\"fill: #ff7f0e; fill-opacity: 0.5; stroke: #000000; stroke-linejoin: miter\"/>\n   </g>\n   <g id=\"patch_23\">\n    <path d=\"M 910.378022 395.28 \nL 927.48546 395.28 \nL 927.48546 180.673548 \nL 910.378022 180.673548 \nz\n\" clip-path=\"url(#pf74b2fa1ab)\" style=\"fill: #ff7f0e; fill-opacity: 0.5; stroke: #000000; stroke-linejoin: miter\"/>\n   </g>\n   <g id=\"patch_24\">\n    <path d=\"M 927.48546 395.28 \nL 944.592898 395.28 \nL 944.592898 184.08 \nL 927.48546 184.08 \nz\n\" clip-path=\"url(#pf74b2fa1ab)\" style=\"fill: #ff7f0e; fill-opacity: 0.5; stroke: #000000; stroke-linejoin: miter\"/>\n   </g>\n   <g id=\"patch_25\">\n    <path d=\"M 944.592898 395.28 \nL 961.700336 395.28 \nL 961.700336 25.68 \nL 944.592898 25.68 \nz\n\" clip-path=\"url(#pf74b2fa1ab)\" style=\"fill: #ff7f0e; fill-opacity: 0.5; stroke: #000000; stroke-linejoin: miter\"/>\n   </g>\n   <g id=\"patch_26\">\n    <path d=\"M 961.700336 395.28 \nL 978.807774 395.28 \nL 978.807774 255.615484 \nL 961.700336 255.615484 \nz\n\" clip-path=\"url(#pf74b2fa1ab)\" style=\"fill: #ff7f0e; fill-opacity: 0.5; stroke: #000000; stroke-linejoin: miter\"/>\n   </g>\n   <g id=\"patch_27\">\n    <path d=\"M 978.807774 395.28 \nL 995.915212 395.28 \nL 995.915212 252.209032 \nL 978.807774 252.209032 \nz\n\" clip-path=\"url(#pf74b2fa1ab)\" style=\"fill: #ff7f0e; fill-opacity: 0.5; stroke: #000000; stroke-linejoin: miter\"/>\n   </g>\n   <g id=\"patch_28\">\n    <path d=\"M 995.915212 395.28 \nL 1013.02265 395.28 \nL 1013.02265 279.460645 \nL 995.915212 279.460645 \nz\n\" clip-path=\"url(#pf74b2fa1ab)\" style=\"fill: #ff7f0e; fill-opacity: 0.5; stroke: #000000; stroke-linejoin: miter\"/>\n   </g>\n   <g id=\"patch_29\">\n    <path d=\"M 1013.02265 395.28 \nL 1030.130088 395.28 \nL 1030.130088 279.460645 \nL 1013.02265 279.460645 \nz\n\" clip-path=\"url(#pf74b2fa1ab)\" style=\"fill: #ff7f0e; fill-opacity: 0.5; stroke: #000000; stroke-linejoin: miter\"/>\n   </g>\n   <g id=\"patch_30\">\n    <path d=\"M 1030.130088 395.28 \nL 1047.237526 395.28 \nL 1047.237526 247.099355 \nL 1030.130088 247.099355 \nz\n\" clip-path=\"url(#pf74b2fa1ab)\" style=\"fill: #ff7f0e; fill-opacity: 0.5; stroke: #000000; stroke-linejoin: miter\"/>\n   </g>\n   <g id=\"patch_31\">\n    <path d=\"M 1047.237526 395.28 \nL 1064.344964 395.28 \nL 1064.344964 311.821935 \nL 1047.237526 311.821935 \nz\n\" clip-path=\"url(#pf74b2fa1ab)\" style=\"fill: #ff7f0e; fill-opacity: 0.5; stroke: #000000; stroke-linejoin: miter\"/>\n   </g>\n   <g id=\"patch_32\">\n    <path d=\"M 1064.344964 395.28 \nL 1081.452402 395.28 \nL 1081.452402 335.667097 \nL 1064.344964 335.667097 \nz\n\" clip-path=\"url(#pf74b2fa1ab)\" style=\"fill: #ff7f0e; fill-opacity: 0.5; stroke: #000000; stroke-linejoin: miter\"/>\n   </g>\n   <g id=\"patch_33\">\n    <path d=\"M 1081.452402 395.28 \nL 1098.55984 395.28 \nL 1098.55984 350.996129 \nL 1081.452402 350.996129 \nz\n\" clip-path=\"url(#pf74b2fa1ab)\" style=\"fill: #ff7f0e; fill-opacity: 0.5; stroke: #000000; stroke-linejoin: miter\"/>\n   </g>\n   <g id=\"patch_34\">\n    <path d=\"M 1098.55984 395.28 \nL 1115.667278 395.28 \nL 1115.667278 349.292903 \nL 1098.55984 349.292903 \nz\n\" clip-path=\"url(#pf74b2fa1ab)\" style=\"fill: #ff7f0e; fill-opacity: 0.5; stroke: #000000; stroke-linejoin: miter\"/>\n   </g>\n   <g id=\"patch_35\">\n    <path d=\"M 1115.667278 395.28 \nL 1132.774716 395.28 \nL 1132.774716 327.150968 \nL 1115.667278 327.150968 \nz\n\" clip-path=\"url(#pf74b2fa1ab)\" style=\"fill: #ff7f0e; fill-opacity: 0.5; stroke: #000000; stroke-linejoin: miter\"/>\n   </g>\n   <g id=\"patch_36\">\n    <path d=\"M 1132.774716 395.28 \nL 1149.882154 395.28 \nL 1149.882154 379.950968 \nL 1132.774716 379.950968 \nz\n\" clip-path=\"url(#pf74b2fa1ab)\" style=\"fill: #ff7f0e; fill-opacity: 0.5; stroke: #000000; stroke-linejoin: miter\"/>\n   </g>\n   <g id=\"patch_37\">\n    <path d=\"M 1149.882154 395.28 \nL 1166.989592 395.28 \nL 1166.989592 383.357419 \nL 1149.882154 383.357419 \nz\n\" clip-path=\"url(#pf74b2fa1ab)\" style=\"fill: #ff7f0e; fill-opacity: 0.5; stroke: #000000; stroke-linejoin: miter\"/>\n   </g>\n   <g id=\"patch_38\">\n    <path d=\"M 1166.989592 395.28 \nL 1184.09703 395.28 \nL 1184.09703 383.357419 \nL 1166.989592 383.357419 \nz\n\" clip-path=\"url(#pf74b2fa1ab)\" style=\"fill: #ff7f0e; fill-opacity: 0.5; stroke: #000000; stroke-linejoin: miter\"/>\n   </g>\n   <g id=\"patch_39\">\n    <path d=\"M 1184.09703 395.28 \nL 1201.204468 395.28 \nL 1201.204468 391.873548 \nL 1184.09703 391.873548 \nz\n\" clip-path=\"url(#pf74b2fa1ab)\" style=\"fill: #ff7f0e; fill-opacity: 0.5; stroke: #000000; stroke-linejoin: miter\"/>\n   </g>\n   <g id=\"patch_40\">\n    <path d=\"M 1201.204468 395.28 \nL 1218.311906 395.28 \nL 1218.311906 374.84129 \nL 1201.204468 374.84129 \nz\n\" clip-path=\"url(#pf74b2fa1ab)\" style=\"fill: #ff7f0e; fill-opacity: 0.5; stroke: #000000; stroke-linejoin: miter\"/>\n   </g>\n   <g id=\"patch_41\">\n    <path d=\"M 1218.311906 395.28 \nL 1235.419344 395.28 \nL 1235.419344 393.576774 \nL 1218.311906 393.576774 \nz\n\" clip-path=\"url(#pf74b2fa1ab)\" style=\"fill: #ff7f0e; fill-opacity: 0.5; stroke: #000000; stroke-linejoin: miter\"/>\n   </g>\n   <g id=\"patch_42\">\n    <path d=\"M 1235.419344 395.28 \nL 1252.526782 395.28 \nL 1252.526782 395.28 \nL 1235.419344 395.28 \nz\n\" clip-path=\"url(#pf74b2fa1ab)\" style=\"fill: #ff7f0e; fill-opacity: 0.5; stroke: #000000; stroke-linejoin: miter\"/>\n   </g>\n   <g id=\"patch_43\">\n    <path d=\"M 1252.526782 395.28 \nL 1269.63422 395.28 \nL 1269.63422 395.28 \nL 1252.526782 395.28 \nz\n\" clip-path=\"url(#pf74b2fa1ab)\" style=\"fill: #ff7f0e; fill-opacity: 0.5; stroke: #000000; stroke-linejoin: miter\"/>\n   </g>\n   <g id=\"patch_44\">\n    <path d=\"M 1269.63422 395.28 \nL 1286.741658 395.28 \nL 1286.741658 395.28 \nL 1269.63422 395.28 \nz\n\" clip-path=\"url(#pf74b2fa1ab)\" style=\"fill: #ff7f0e; fill-opacity: 0.5; stroke: #000000; stroke-linejoin: miter\"/>\n   </g>\n   <g id=\"patch_45\">\n    <path d=\"M 1286.741658 395.28 \nL 1303.849096 395.28 \nL 1303.849096 393.576774 \nL 1286.741658 393.576774 \nz\n\" clip-path=\"url(#pf74b2fa1ab)\" style=\"fill: #ff7f0e; fill-opacity: 0.5; stroke: #000000; stroke-linejoin: miter\"/>\n   </g>\n   <g id=\"patch_46\">\n    <path d=\"M 773.518518 395.28 \nL 790.625956 395.28 \nL 790.625956 393.576774 \nL 773.518518 393.576774 \nz\n\" clip-path=\"url(#pf74b2fa1ab)\" style=\"fill: #1f77b4; fill-opacity: 0.5; stroke: #000000; stroke-linejoin: miter\"/>\n   </g>\n   <g id=\"patch_47\">\n    <path d=\"M 790.625956 395.28 \nL 807.733394 395.28 \nL 807.733394 379.950968 \nL 790.625956 379.950968 \nz\n\" clip-path=\"url(#pf74b2fa1ab)\" style=\"fill: #1f77b4; fill-opacity: 0.5; stroke: #000000; stroke-linejoin: miter\"/>\n   </g>\n   <g id=\"patch_48\">\n    <path d=\"M 807.733394 395.28 \nL 824.840832 395.28 \nL 824.840832 379.950968 \nL 807.733394 379.950968 \nz\n\" clip-path=\"url(#pf74b2fa1ab)\" style=\"fill: #1f77b4; fill-opacity: 0.5; stroke: #000000; stroke-linejoin: miter\"/>\n   </g>\n   <g id=\"patch_49\">\n    <path d=\"M 824.840832 395.28 \nL 841.94827 395.28 \nL 841.94827 364.621935 \nL 824.840832 364.621935 \nz\n\" clip-path=\"url(#pf74b2fa1ab)\" style=\"fill: #1f77b4; fill-opacity: 0.5; stroke: #000000; stroke-linejoin: miter\"/>\n   </g>\n   <g id=\"patch_50\">\n    <path d=\"M 841.94827 395.28 \nL 859.055708 395.28 \nL 859.055708 359.512258 \nL 841.94827 359.512258 \nz\n\" clip-path=\"url(#pf74b2fa1ab)\" style=\"fill: #1f77b4; fill-opacity: 0.5; stroke: #000000; stroke-linejoin: miter\"/>\n   </g>\n   <g id=\"patch_51\">\n    <path d=\"M 859.055708 395.28 \nL 876.163146 395.28 \nL 876.163146 291.383226 \nL 859.055708 291.383226 \nz\n\" clip-path=\"url(#pf74b2fa1ab)\" style=\"fill: #1f77b4; fill-opacity: 0.5; stroke: #000000; stroke-linejoin: miter\"/>\n   </g>\n   <g id=\"patch_52\">\n    <path d=\"M 876.163146 395.28 \nL 893.270584 395.28 \nL 893.270584 316.931613 \nL 876.163146 316.931613 \nz\n\" clip-path=\"url(#pf74b2fa1ab)\" style=\"fill: #1f77b4; fill-opacity: 0.5; stroke: #000000; stroke-linejoin: miter\"/>\n   </g>\n   <g id=\"patch_53\">\n    <path d=\"M 893.270584 395.28 \nL 910.378022 395.28 \nL 910.378022 301.602581 \nL 893.270584 301.602581 \nz\n\" clip-path=\"url(#pf74b2fa1ab)\" style=\"fill: #1f77b4; fill-opacity: 0.5; stroke: #000000; stroke-linejoin: miter\"/>\n   </g>\n   <g id=\"patch_54\">\n    <path d=\"M 910.378022 395.28 \nL 927.48546 395.28 \nL 927.48546 318.634839 \nL 910.378022 318.634839 \nz\n\" clip-path=\"url(#pf74b2fa1ab)\" style=\"fill: #1f77b4; fill-opacity: 0.5; stroke: #000000; stroke-linejoin: miter\"/>\n   </g>\n   <g id=\"patch_55\">\n    <path d=\"M 927.48546 395.28 \nL 944.592898 395.28 \nL 944.592898 313.525161 \nL 927.48546 313.525161 \nz\n\" clip-path=\"url(#pf74b2fa1ab)\" style=\"fill: #1f77b4; fill-opacity: 0.5; stroke: #000000; stroke-linejoin: miter\"/>\n   </g>\n   <g id=\"patch_56\">\n    <path d=\"M 944.592898 395.28 \nL 961.700336 395.28 \nL 961.700336 238.583226 \nL 944.592898 238.583226 \nz\n\" clip-path=\"url(#pf74b2fa1ab)\" style=\"fill: #1f77b4; fill-opacity: 0.5; stroke: #000000; stroke-linejoin: miter\"/>\n   </g>\n   <g id=\"patch_57\">\n    <path d=\"M 961.700336 395.28 \nL 978.807774 395.28 \nL 978.807774 301.602581 \nL 961.700336 301.602581 \nz\n\" clip-path=\"url(#pf74b2fa1ab)\" style=\"fill: #1f77b4; fill-opacity: 0.5; stroke: #000000; stroke-linejoin: miter\"/>\n   </g>\n   <g id=\"patch_58\">\n    <path d=\"M 978.807774 395.28 \nL 995.915212 395.28 \nL 995.915212 305.009032 \nL 978.807774 305.009032 \nz\n\" clip-path=\"url(#pf74b2fa1ab)\" style=\"fill: #1f77b4; fill-opacity: 0.5; stroke: #000000; stroke-linejoin: miter\"/>\n   </g>\n   <g id=\"patch_59\">\n    <path d=\"M 995.915212 395.28 \nL 1013.02265 395.28 \nL 1013.02265 303.305806 \nL 995.915212 303.305806 \nz\n\" clip-path=\"url(#pf74b2fa1ab)\" style=\"fill: #1f77b4; fill-opacity: 0.5; stroke: #000000; stroke-linejoin: miter\"/>\n   </g>\n   <g id=\"patch_60\">\n    <path d=\"M 1013.02265 395.28 \nL 1030.130088 395.28 \nL 1030.130088 350.996129 \nL 1013.02265 350.996129 \nz\n\" clip-path=\"url(#pf74b2fa1ab)\" style=\"fill: #1f77b4; fill-opacity: 0.5; stroke: #000000; stroke-linejoin: miter\"/>\n   </g>\n   <g id=\"patch_61\">\n    <path d=\"M 1030.130088 395.28 \nL 1047.237526 395.28 \nL 1047.237526 291.383226 \nL 1030.130088 291.383226 \nz\n\" clip-path=\"url(#pf74b2fa1ab)\" style=\"fill: #1f77b4; fill-opacity: 0.5; stroke: #000000; stroke-linejoin: miter\"/>\n   </g>\n   <g id=\"patch_62\">\n    <path d=\"M 1047.237526 395.28 \nL 1064.344964 395.28 \nL 1064.344964 350.996129 \nL 1047.237526 350.996129 \nz\n\" clip-path=\"url(#pf74b2fa1ab)\" style=\"fill: #1f77b4; fill-opacity: 0.5; stroke: #000000; stroke-linejoin: miter\"/>\n   </g>\n   <g id=\"patch_63\">\n    <path d=\"M 1064.344964 395.28 \nL 1081.452402 395.28 \nL 1081.452402 364.621935 \nL 1064.344964 364.621935 \nz\n\" clip-path=\"url(#pf74b2fa1ab)\" style=\"fill: #1f77b4; fill-opacity: 0.5; stroke: #000000; stroke-linejoin: miter\"/>\n   </g>\n   <g id=\"patch_64\">\n    <path d=\"M 1081.452402 395.28 \nL 1098.55984 395.28 \nL 1098.55984 369.731613 \nL 1081.452402 369.731613 \nz\n\" clip-path=\"url(#pf74b2fa1ab)\" style=\"fill: #1f77b4; fill-opacity: 0.5; stroke: #000000; stroke-linejoin: miter\"/>\n   </g>\n   <g id=\"patch_65\">\n    <path d=\"M 1098.55984 395.28 \nL 1115.667278 395.28 \nL 1115.667278 381.654194 \nL 1098.55984 381.654194 \nz\n\" clip-path=\"url(#pf74b2fa1ab)\" style=\"fill: #1f77b4; fill-opacity: 0.5; stroke: #000000; stroke-linejoin: miter\"/>\n   </g>\n   <g id=\"patch_66\">\n    <path d=\"M 1115.667278 395.28 \nL 1132.774716 395.28 \nL 1132.774716 369.731613 \nL 1115.667278 369.731613 \nz\n\" clip-path=\"url(#pf74b2fa1ab)\" style=\"fill: #1f77b4; fill-opacity: 0.5; stroke: #000000; stroke-linejoin: miter\"/>\n   </g>\n   <g id=\"patch_67\">\n    <path d=\"M 1132.774716 395.28 \nL 1149.882154 395.28 \nL 1149.882154 378.247742 \nL 1132.774716 378.247742 \nz\n\" clip-path=\"url(#pf74b2fa1ab)\" style=\"fill: #1f77b4; fill-opacity: 0.5; stroke: #000000; stroke-linejoin: miter\"/>\n   </g>\n   <g id=\"patch_68\">\n    <path d=\"M 1149.882154 395.28 \nL 1166.989592 395.28 \nL 1166.989592 385.060645 \nL 1149.882154 385.060645 \nz\n\" clip-path=\"url(#pf74b2fa1ab)\" style=\"fill: #1f77b4; fill-opacity: 0.5; stroke: #000000; stroke-linejoin: miter\"/>\n   </g>\n   <g id=\"patch_69\">\n    <path d=\"M 1166.989592 395.28 \nL 1184.09703 395.28 \nL 1184.09703 388.467097 \nL 1166.989592 388.467097 \nz\n\" clip-path=\"url(#pf74b2fa1ab)\" style=\"fill: #1f77b4; fill-opacity: 0.5; stroke: #000000; stroke-linejoin: miter\"/>\n   </g>\n   <g id=\"patch_70\">\n    <path d=\"M 1184.09703 395.28 \nL 1201.204468 395.28 \nL 1201.204468 390.170323 \nL 1184.09703 390.170323 \nz\n\" clip-path=\"url(#pf74b2fa1ab)\" style=\"fill: #1f77b4; fill-opacity: 0.5; stroke: #000000; stroke-linejoin: miter\"/>\n   </g>\n   <g id=\"patch_71\">\n    <path d=\"M 1201.204468 395.28 \nL 1218.311906 395.28 \nL 1218.311906 391.873548 \nL 1201.204468 391.873548 \nz\n\" clip-path=\"url(#pf74b2fa1ab)\" style=\"fill: #1f77b4; fill-opacity: 0.5; stroke: #000000; stroke-linejoin: miter\"/>\n   </g>\n   <g id=\"patch_72\">\n    <path d=\"M 1218.311906 395.28 \nL 1235.419344 395.28 \nL 1235.419344 393.576774 \nL 1218.311906 393.576774 \nz\n\" clip-path=\"url(#pf74b2fa1ab)\" style=\"fill: #1f77b4; fill-opacity: 0.5; stroke: #000000; stroke-linejoin: miter\"/>\n   </g>\n   <g id=\"patch_73\">\n    <path d=\"M 1235.419344 395.28 \nL 1252.526782 395.28 \nL 1252.526782 393.576774 \nL 1235.419344 393.576774 \nz\n\" clip-path=\"url(#pf74b2fa1ab)\" style=\"fill: #1f77b4; fill-opacity: 0.5; stroke: #000000; stroke-linejoin: miter\"/>\n   </g>\n   <g id=\"patch_74\">\n    <path d=\"M 1252.526782 395.28 \nL 1269.63422 395.28 \nL 1269.63422 391.873548 \nL 1252.526782 391.873548 \nz\n\" clip-path=\"url(#pf74b2fa1ab)\" style=\"fill: #1f77b4; fill-opacity: 0.5; stroke: #000000; stroke-linejoin: miter\"/>\n   </g>\n   <g id=\"patch_75\">\n    <path d=\"M 1269.63422 395.28 \nL 1286.741658 395.28 \nL 1286.741658 395.28 \nL 1269.63422 395.28 \nz\n\" clip-path=\"url(#pf74b2fa1ab)\" style=\"fill: #1f77b4; fill-opacity: 0.5; stroke: #000000; stroke-linejoin: miter\"/>\n   </g>\n   <g id=\"patch_76\">\n    <path d=\"M 1286.741658 395.28 \nL 1303.849096 395.28 \nL 1303.849096 395.28 \nL 1286.741658 395.28 \nz\n\" clip-path=\"url(#pf74b2fa1ab)\" style=\"fill: #1f77b4; fill-opacity: 0.5; stroke: #000000; stroke-linejoin: miter\"/>\n   </g>\n   <g id=\"matplotlib.axis_3\">\n    <g id=\"xtick_3\">\n     <g id=\"line2d_8\">\n      <g>\n       <use xlink:href=\"#m330157a71c\" x=\"759.185259\" y=\"395.28\" style=\"stroke: #000000; stroke-width: 0.8\"/>\n      </g>\n     </g>\n     <g id=\"text_13\">\n      <!-- 20 -->\n      <g transform=\"translate(752.822759 409.878438) scale(0.1 -0.1)\">\n       <use xlink:href=\"#DejaVuSans-32\"/>\n       <use xlink:href=\"#DejaVuSans-30\" x=\"63.623047\"/>\n      </g>\n     </g>\n    </g>\n    <g id=\"xtick_4\">\n     <g id=\"line2d_9\">\n      <g>\n       <use xlink:href=\"#m330157a71c\" x=\"830.851553\" y=\"395.28\" style=\"stroke: #000000; stroke-width: 0.8\"/>\n      </g>\n     </g>\n     <g id=\"text_14\">\n      <!-- 25 -->\n      <g transform=\"translate(824.489053 409.878438) scale(0.1 -0.1)\">\n       <defs>\n        <path id=\"DejaVuSans-35\" d=\"M 691 4666 \nL 3169 4666 \nL 3169 4134 \nL 1269 4134 \nL 1269 2991 \nQ 1406 3038 1543 3061 \nQ 1681 3084 1819 3084 \nQ 2600 3084 3056 2656 \nQ 3513 2228 3513 1497 \nQ 3513 744 3044 326 \nQ 2575 -91 1722 -91 \nQ 1428 -91 1123 -41 \nQ 819 9 494 109 \nL 494 744 \nQ 775 591 1075 516 \nQ 1375 441 1709 441 \nQ 2250 441 2565 725 \nQ 2881 1009 2881 1497 \nQ 2881 1984 2565 2268 \nQ 2250 2553 1709 2553 \nQ 1456 2553 1204 2497 \nQ 953 2441 691 2322 \nL 691 4666 \nz\n\" transform=\"scale(0.015625)\"/>\n       </defs>\n       <use xlink:href=\"#DejaVuSans-32\"/>\n       <use xlink:href=\"#DejaVuSans-35\" x=\"63.623047\"/>\n      </g>\n     </g>\n    </g>\n    <g id=\"xtick_5\">\n     <g id=\"line2d_10\">\n      <g>\n       <use xlink:href=\"#m330157a71c\" x=\"902.517847\" y=\"395.28\" style=\"stroke: #000000; stroke-width: 0.8\"/>\n      </g>\n     </g>\n     <g id=\"text_15\">\n      <!-- 30 -->\n      <g transform=\"translate(896.155347 409.878438) scale(0.1 -0.1)\">\n       <defs>\n        <path id=\"DejaVuSans-33\" d=\"M 2597 2516 \nQ 3050 2419 3304 2112 \nQ 3559 1806 3559 1356 \nQ 3559 666 3084 287 \nQ 2609 -91 1734 -91 \nQ 1441 -91 1130 -33 \nQ 819 25 488 141 \nL 488 750 \nQ 750 597 1062 519 \nQ 1375 441 1716 441 \nQ 2309 441 2620 675 \nQ 2931 909 2931 1356 \nQ 2931 1769 2642 2001 \nQ 2353 2234 1838 2234 \nL 1294 2234 \nL 1294 2753 \nL 1863 2753 \nQ 2328 2753 2575 2939 \nQ 2822 3125 2822 3475 \nQ 2822 3834 2567 4026 \nQ 2313 4219 1838 4219 \nQ 1578 4219 1281 4162 \nQ 984 4106 628 3988 \nL 628 4550 \nQ 988 4650 1302 4700 \nQ 1616 4750 1894 4750 \nQ 2613 4750 3031 4423 \nQ 3450 4097 3450 3541 \nQ 3450 3153 3228 2886 \nQ 3006 2619 2597 2516 \nz\n\" transform=\"scale(0.015625)\"/>\n       </defs>\n       <use xlink:href=\"#DejaVuSans-33\"/>\n       <use xlink:href=\"#DejaVuSans-30\" x=\"63.623047\"/>\n      </g>\n     </g>\n    </g>\n    <g id=\"xtick_6\">\n     <g id=\"line2d_11\">\n      <g>\n       <use xlink:href=\"#m330157a71c\" x=\"974.184142\" y=\"395.28\" style=\"stroke: #000000; stroke-width: 0.8\"/>\n      </g>\n     </g>\n     <g id=\"text_16\">\n      <!-- 35 -->\n      <g transform=\"translate(967.821642 409.878438) scale(0.1 -0.1)\">\n       <use xlink:href=\"#DejaVuSans-33\"/>\n       <use xlink:href=\"#DejaVuSans-35\" x=\"63.623047\"/>\n      </g>\n     </g>\n    </g>\n    <g id=\"xtick_7\">\n     <g id=\"line2d_12\">\n      <g>\n       <use xlink:href=\"#m330157a71c\" x=\"1045.850436\" y=\"395.28\" style=\"stroke: #000000; stroke-width: 0.8\"/>\n      </g>\n     </g>\n     <g id=\"text_17\">\n      <!-- 40 -->\n      <g transform=\"translate(1039.487936 409.878438) scale(0.1 -0.1)\">\n       <use xlink:href=\"#DejaVuSans-34\"/>\n       <use xlink:href=\"#DejaVuSans-30\" x=\"63.623047\"/>\n      </g>\n     </g>\n    </g>\n    <g id=\"xtick_8\">\n     <g id=\"line2d_13\">\n      <g>\n       <use xlink:href=\"#m330157a71c\" x=\"1117.516731\" y=\"395.28\" style=\"stroke: #000000; stroke-width: 0.8\"/>\n      </g>\n     </g>\n     <g id=\"text_18\">\n      <!-- 45 -->\n      <g transform=\"translate(1111.154231 409.878438) scale(0.1 -0.1)\">\n       <use xlink:href=\"#DejaVuSans-34\"/>\n       <use xlink:href=\"#DejaVuSans-35\" x=\"63.623047\"/>\n      </g>\n     </g>\n    </g>\n    <g id=\"xtick_9\">\n     <g id=\"line2d_14\">\n      <g>\n       <use xlink:href=\"#m330157a71c\" x=\"1189.183025\" y=\"395.28\" style=\"stroke: #000000; stroke-width: 0.8\"/>\n      </g>\n     </g>\n     <g id=\"text_19\">\n      <!-- 50 -->\n      <g transform=\"translate(1182.820525 409.878438) scale(0.1 -0.1)\">\n       <use xlink:href=\"#DejaVuSans-35\"/>\n       <use xlink:href=\"#DejaVuSans-30\" x=\"63.623047\"/>\n      </g>\n     </g>\n    </g>\n    <g id=\"xtick_10\">\n     <g id=\"line2d_15\">\n      <g>\n       <use xlink:href=\"#m330157a71c\" x=\"1260.849319\" y=\"395.28\" style=\"stroke: #000000; stroke-width: 0.8\"/>\n      </g>\n     </g>\n     <g id=\"text_20\">\n      <!-- 55 -->\n      <g transform=\"translate(1254.486819 409.878438) scale(0.1 -0.1)\">\n       <use xlink:href=\"#DejaVuSans-35\"/>\n       <use xlink:href=\"#DejaVuSans-35\" x=\"63.623047\"/>\n      </g>\n     </g>\n    </g>\n    <g id=\"text_21\">\n     <!-- Age -->\n     <g transform=\"translate(1029.012713 423.556562) scale(0.1 -0.1)\">\n      <defs>\n       <path id=\"DejaVuSans-41\" d=\"M 2188 4044 \nL 1331 1722 \nL 3047 1722 \nL 2188 4044 \nz\nM 1831 4666 \nL 2547 4666 \nL 4325 0 \nL 3669 0 \nL 3244 1197 \nL 1141 1197 \nL 716 0 \nL 50 0 \nL 1831 4666 \nz\n\" transform=\"scale(0.015625)\"/>\n      </defs>\n      <use xlink:href=\"#DejaVuSans-41\"/>\n      <use xlink:href=\"#DejaVuSans-67\" x=\"68.408203\"/>\n      <use xlink:href=\"#DejaVuSans-65\" x=\"131.884766\"/>\n     </g>\n    </g>\n   </g>\n   <g id=\"matplotlib.axis_4\">\n    <g id=\"ytick_6\">\n     <g id=\"line2d_16\">\n      <g>\n       <use xlink:href=\"#mf1edbeaa3d\" x=\"747.001989\" y=\"395.28\" style=\"stroke: #000000; stroke-width: 0.8\"/>\n      </g>\n     </g>\n     <g id=\"text_22\">\n      <!-- 0 -->\n      <g transform=\"translate(733.639489 399.079219) scale(0.1 -0.1)\">\n       <use xlink:href=\"#DejaVuSans-30\"/>\n      </g>\n     </g>\n    </g>\n    <g id=\"ytick_7\">\n     <g id=\"line2d_17\">\n      <g>\n       <use xlink:href=\"#mf1edbeaa3d\" x=\"747.001989\" y=\"310.11871\" style=\"stroke: #000000; stroke-width: 0.8\"/>\n      </g>\n     </g>\n     <g id=\"text_23\">\n      <!-- 50 -->\n      <g transform=\"translate(727.276989 313.917928) scale(0.1 -0.1)\">\n       <use xlink:href=\"#DejaVuSans-35\"/>\n       <use xlink:href=\"#DejaVuSans-30\" x=\"63.623047\"/>\n      </g>\n     </g>\n    </g>\n    <g id=\"ytick_8\">\n     <g id=\"line2d_18\">\n      <g>\n       <use xlink:href=\"#mf1edbeaa3d\" x=\"747.001989\" y=\"224.957419\" style=\"stroke: #000000; stroke-width: 0.8\"/>\n      </g>\n     </g>\n     <g id=\"text_24\">\n      <!-- 100 -->\n      <g transform=\"translate(720.914489 228.756638) scale(0.1 -0.1)\">\n       <use xlink:href=\"#DejaVuSans-31\"/>\n       <use xlink:href=\"#DejaVuSans-30\" x=\"63.623047\"/>\n       <use xlink:href=\"#DejaVuSans-30\" x=\"127.246094\"/>\n      </g>\n     </g>\n    </g>\n    <g id=\"ytick_9\">\n     <g id=\"line2d_19\">\n      <g>\n       <use xlink:href=\"#mf1edbeaa3d\" x=\"747.001989\" y=\"139.796129\" style=\"stroke: #000000; stroke-width: 0.8\"/>\n      </g>\n     </g>\n     <g id=\"text_25\">\n      <!-- 150 -->\n      <g transform=\"translate(720.914489 143.595348) scale(0.1 -0.1)\">\n       <use xlink:href=\"#DejaVuSans-31\"/>\n       <use xlink:href=\"#DejaVuSans-35\" x=\"63.623047\"/>\n       <use xlink:href=\"#DejaVuSans-30\" x=\"127.246094\"/>\n      </g>\n     </g>\n    </g>\n    <g id=\"ytick_10\">\n     <g id=\"line2d_20\">\n      <g>\n       <use xlink:href=\"#mf1edbeaa3d\" x=\"747.001989\" y=\"54.634839\" style=\"stroke: #000000; stroke-width: 0.8\"/>\n      </g>\n     </g>\n     <g id=\"text_26\">\n      <!-- 200 -->\n      <g transform=\"translate(720.914489 58.434057) scale(0.1 -0.1)\">\n       <use xlink:href=\"#DejaVuSans-32\"/>\n       <use xlink:href=\"#DejaVuSans-30\" x=\"63.623047\"/>\n       <use xlink:href=\"#DejaVuSans-30\" x=\"127.246094\"/>\n      </g>\n     </g>\n    </g>\n    <g id=\"text_27\">\n     <!-- Count -->\n     <g transform=\"translate(714.834801 216.088437) rotate(-90) scale(0.1 -0.1)\">\n      <defs>\n       <path id=\"DejaVuSans-43\" d=\"M 4122 4306 \nL 4122 3641 \nQ 3803 3938 3442 4084 \nQ 3081 4231 2675 4231 \nQ 1875 4231 1450 3742 \nQ 1025 3253 1025 2328 \nQ 1025 1406 1450 917 \nQ 1875 428 2675 428 \nQ 3081 428 3442 575 \nQ 3803 722 4122 1019 \nL 4122 359 \nQ 3791 134 3420 21 \nQ 3050 -91 2638 -91 \nQ 1578 -91 968 557 \nQ 359 1206 359 2328 \nQ 359 3453 968 4101 \nQ 1578 4750 2638 4750 \nQ 3056 4750 3426 4639 \nQ 3797 4528 4122 4306 \nz\n\" transform=\"scale(0.015625)\"/>\n      </defs>\n      <use xlink:href=\"#DejaVuSans-43\"/>\n      <use xlink:href=\"#DejaVuSans-6f\" x=\"69.824219\"/>\n      <use xlink:href=\"#DejaVuSans-75\" x=\"131.005859\"/>\n      <use xlink:href=\"#DejaVuSans-6e\" x=\"194.384766\"/>\n      <use xlink:href=\"#DejaVuSans-74\" x=\"257.763672\"/>\n     </g>\n    </g>\n   </g>\n   <g id=\"line2d_21\">\n    <path d=\"M 773.518518 379.720484 \nL 776.183495 377.161357 \nL 778.848473 374.366484 \nL 781.513451 371.342249 \nL 784.178429 368.097906 \nL 786.843406 364.645015 \nL 792.173362 357.167771 \nL 797.503318 349.027746 \nL 802.833273 340.34994 \nL 808.163229 331.265197 \nL 818.82314 312.436124 \nL 829.483051 293.605609 \nL 837.477984 279.850833 \nL 845.472918 266.458427 \nL 853.467851 253.54441 \nL 858.797807 245.372514 \nL 864.127762 237.691139 \nL 869.457718 230.541986 \nL 874.787673 223.82923 \nL 885.447584 210.694488 \nL 890.77754 203.705228 \nL 896.107496 196.268648 \nL 906.767407 181.037258 \nL 909.432384 177.52506 \nL 912.097362 174.288747 \nL 914.76234 171.404953 \nL 917.427318 168.940954 \nL 920.092296 166.950626 \nL 922.757273 165.471655 \nL 925.422251 164.524229 \nL 928.087229 164.111252 \nL 930.752207 164.219991 \nL 933.417184 164.824848 \nL 936.082162 165.890875 \nL 938.74714 167.377552 \nL 941.412118 169.242361 \nL 944.077096 171.443745 \nL 946.742073 173.943162 \nL 949.407051 176.706105 \nL 952.072029 179.702135 \nL 954.737007 182.904103 \nL 960.066962 189.825981 \nL 965.396918 197.271327 \nL 976.056829 212.851374 \nL 984.051762 224.303265 \nL 989.381718 231.569509 \nL 994.711673 238.523465 \nL 1005.371585 251.878164 \nL 1013.366518 261.971856 \nL 1021.361451 272.473856 \nL 1032.021362 286.594316 \nL 1037.351318 293.165395 \nL 1040.016296 296.214441 \nL 1042.681273 299.077249 \nL 1045.346251 301.745164 \nL 1048.011229 304.221071 \nL 1050.676207 306.519054 \nL 1056.006162 310.683207 \nL 1064.001096 316.347196 \nL 1071.996029 321.994819 \nL 1093.315851 337.436619 \nL 1098.645807 340.918521 \nL 1106.64074 345.797604 \nL 1122.630607 355.350851 \nL 1130.62554 360.431125 \nL 1143.950429 368.986225 \nL 1149.280385 372.135177 \nL 1154.61034 374.975047 \nL 1159.940296 377.449258 \nL 1165.270251 379.542192 \nL 1170.600207 381.267399 \nL 1175.930163 382.65144 \nL 1181.260118 383.724404 \nL 1186.590074 384.522482 \nL 1191.920029 385.098899 \nL 1213.239852 387.009426 \nL 1218.569807 387.825497 \nL 1226.56474 389.371252 \nL 1239.889629 392.136786 \nL 1245.219585 393.052877 \nL 1250.54954 393.780836 \nL 1255.879496 394.312734 \nL 1261.209452 394.665279 \nL 1269.204385 394.924767 \nL 1279.864296 394.941848 \nL 1303.849096 394.687251 \nL 1303.849096 394.687251 \n\" clip-path=\"url(#pf74b2fa1ab)\" style=\"fill: none; stroke: #ff7f0e; stroke-width: 1.5; stroke-linecap: square\"/>\n   </g>\n   <g id=\"line2d_22\">\n    <path d=\"M 773.518518 391.644865 \nL 778.848473 390.174722 \nL 784.178429 388.361979 \nL 789.508384 386.208066 \nL 794.83834 383.729721 \nL 800.168295 380.953162 \nL 805.498251 377.907505 \nL 810.828207 374.619821 \nL 816.158162 371.113175 \nL 821.488118 367.407365 \nL 829.483051 361.51519 \nL 837.477984 355.274295 \nL 845.472918 348.726583 \nL 853.467851 341.881601 \nL 861.462784 334.736313 \nL 882.782607 315.328181 \nL 888.112562 311.061329 \nL 890.77754 309.135581 \nL 893.442518 307.375028 \nL 896.107496 305.795337 \nL 898.772473 304.407473 \nL 901.437451 303.216992 \nL 904.102429 302.223616 \nL 906.767407 301.421149 \nL 909.432384 300.797703 \nL 912.097362 300.336227 \nL 914.76234 300.015296 \nL 920.092296 299.693455 \nL 936.082162 299.338458 \nL 941.412118 298.840502 \nL 946.742073 298.021721 \nL 952.072029 296.928331 \nL 962.73194 294.490094 \nL 968.061896 293.567077 \nL 970.726873 293.283752 \nL 973.391851 293.157676 \nL 976.056829 293.214831 \nL 978.721807 293.477726 \nL 981.386785 293.964475 \nL 984.051762 294.687954 \nL 986.71674 295.655086 \nL 989.381718 296.866277 \nL 992.046696 298.315082 \nL 994.711673 299.988116 \nL 997.376651 301.86529 \nL 1000.041629 303.920372 \nL 1005.371585 308.434491 \nL 1018.696473 320.352616 \nL 1024.026429 324.690925 \nL 1029.356385 328.569084 \nL 1034.68634 331.998883 \nL 1040.016296 335.087197 \nL 1058.67114 345.452319 \nL 1064.001096 348.728241 \nL 1071.996029 353.927151 \nL 1082.65594 360.952839 \nL 1087.985896 364.274113 \nL 1093.315851 367.33721 \nL 1098.645807 370.063842 \nL 1103.975762 372.399505 \nL 1109.305718 374.319448 \nL 1114.635674 375.833173 \nL 1119.965629 376.985517 \nL 1125.295585 377.852577 \nL 1133.290518 378.8342 \nL 1143.950429 380.073899 \nL 1151.945363 381.268416 \nL 1159.940296 382.776473 \nL 1170.600207 385.128023 \nL 1183.925096 388.075343 \nL 1191.920029 389.577927 \nL 1199.914963 390.766344 \nL 1207.909896 391.617676 \nL 1215.904829 392.167415 \nL 1223.899763 392.491967 \nL 1239.889629 392.826634 \nL 1255.879496 393.225898 \nL 1269.204385 393.790149 \nL 1290.524207 394.752153 \nL 1303.849096 395.093844 \nL 1303.849096 395.093844 \n\" clip-path=\"url(#pf74b2fa1ab)\" style=\"fill: none; stroke: #1f77b4; stroke-width: 1.5; stroke-linecap: square\"/>\n   </g>\n   <g id=\"patch_77\">\n    <path d=\"M 747.001989 395.28 \nL 747.001989 7.2 \n\" style=\"fill: none; stroke: #000000; stroke-width: 0.8; stroke-linejoin: miter; stroke-linecap: square\"/>\n   </g>\n   <g id=\"patch_78\">\n    <path d=\"M 1330.365625 395.28 \nL 1330.365625 7.2 \n\" style=\"fill: none; stroke: #000000; stroke-width: 0.8; stroke-linejoin: miter; stroke-linecap: square\"/>\n   </g>\n   <g id=\"patch_79\">\n    <path d=\"M 747.001989 395.28 \nL 1330.365625 395.28 \n\" style=\"fill: none; stroke: #000000; stroke-width: 0.8; stroke-linejoin: miter; stroke-linecap: square\"/>\n   </g>\n   <g id=\"patch_80\">\n    <path d=\"M 747.001989 7.2 \nL 1330.365625 7.2 \n\" style=\"fill: none; stroke: #000000; stroke-width: 0.8; stroke-linejoin: miter; stroke-linecap: square\"/>\n   </g>\n   <g id=\"legend_2\">\n    <g id=\"patch_81\">\n     <path d=\"M 1285.003125 59.234375 \nL 1323.365625 59.234375 \nQ 1325.365625 59.234375 1325.365625 57.234375 \nL 1325.365625 14.2 \nQ 1325.365625 12.2 1323.365625 12.2 \nL 1285.003125 12.2 \nQ 1283.003125 12.2 1283.003125 14.2 \nL 1283.003125 57.234375 \nQ 1283.003125 59.234375 1285.003125 59.234375 \nz\n\" style=\"fill: #ffffff; opacity: 0.8; stroke: #cccccc; stroke-linejoin: miter\"/>\n    </g>\n    <g id=\"text_28\">\n     <!-- Target -->\n     <g transform=\"translate(1288.7125 23.798437) scale(0.1 -0.1)\">\n      <use xlink:href=\"#DejaVuSans-54\"/>\n      <use xlink:href=\"#DejaVuSans-61\" x=\"44.583984\"/>\n      <use xlink:href=\"#DejaVuSans-72\" x=\"105.863281\"/>\n      <use xlink:href=\"#DejaVuSans-67\" x=\"145.226562\"/>\n      <use xlink:href=\"#DejaVuSans-65\" x=\"208.703125\"/>\n      <use xlink:href=\"#DejaVuSans-74\" x=\"270.226562\"/>\n     </g>\n    </g>\n    <g id=\"patch_82\">\n     <path d=\"M 1287.003125 38.476562 \nL 1307.003125 38.476562 \nL 1307.003125 31.476562 \nL 1287.003125 31.476562 \nz\n\" style=\"fill: #1f77b4; fill-opacity: 0.5; stroke: #000000; stroke-linejoin: miter\"/>\n    </g>\n    <g id=\"text_29\">\n     <!-- 0 -->\n     <g transform=\"translate(1315.003125 38.476562) scale(0.1 -0.1)\">\n      <use xlink:href=\"#DejaVuSans-30\"/>\n     </g>\n    </g>\n    <g id=\"patch_83\">\n     <path d=\"M 1287.003125 53.154687 \nL 1307.003125 53.154687 \nL 1307.003125 46.154687 \nL 1287.003125 46.154687 \nz\n\" style=\"fill: #ff7f0e; fill-opacity: 0.5; stroke: #000000; stroke-linejoin: miter\"/>\n    </g>\n    <g id=\"text_30\">\n     <!-- 1 -->\n     <g transform=\"translate(1315.003125 53.154687) scale(0.1 -0.1)\">\n      <use xlink:href=\"#DejaVuSans-31\"/>\n     </g>\n    </g>\n   </g>\n  </g>\n </g>\n <defs>\n  <clipPath id=\"p0a42e5fa46\">\n   <rect x=\"46.965625\" y=\"7.2\" width=\"583.363636\" height=\"388.08\"/>\n  </clipPath>\n  <clipPath id=\"pf74b2fa1ab\">\n   <rect x=\"747.001989\" y=\"7.2\" width=\"583.363636\" height=\"388.08\"/>\n  </clipPath>\n </defs>\n</svg>\n"
          },
          "metadata": {}
        }
      ]
    },
    {
      "cell_type": "markdown",
      "source": [
        "##Encoding"
      ],
      "metadata": {
        "id": "LKtuTGuTT_vc"
      }
    },
    {
      "cell_type": "code",
      "source": [
        "!pip install category_encoders\n",
        "from category_encoders import TargetEncoder\n",
        "tar=[\"month_of_join\",\"year_of_join\",\"City\"]\n",
        "\n",
        "for col in tar:\n",
        "  te = TargetEncoder()\n",
        "  df_final[col] = te.fit_transform(df_final[col], df_final['Target'])"
      ],
      "metadata": {
        "colab": {
          "base_uri": "https://localhost:8080/"
        },
        "id": "lBZ2rmB-sV5L",
        "outputId": "14c25d25-fd11-47e6-b60d-11fd8e8692b9"
      },
      "execution_count": null,
      "outputs": [
        {
          "output_type": "stream",
          "name": "stdout",
          "text": [
            "Collecting category_encoders\n",
            "  Downloading category_encoders-2.6.1-py2.py3-none-any.whl (81 kB)\n",
            "\u001b[?25l     \u001b[90m━━━━━━━━━━━━━━━━━━━━━━━━━━━━━━━━━━━━━━━━\u001b[0m \u001b[32m0.0/81.9 kB\u001b[0m \u001b[31m?\u001b[0m eta \u001b[36m-:--:--\u001b[0m\r\u001b[2K     \u001b[90m━━━━━━━━━━━━━━━━━━━━━━━━━━━━━━━━━━━━━━━━\u001b[0m \u001b[32m81.9/81.9 kB\u001b[0m \u001b[31m3.7 MB/s\u001b[0m eta \u001b[36m0:00:00\u001b[0m\n",
            "\u001b[?25hRequirement already satisfied: numpy>=1.14.0 in /usr/local/lib/python3.10/dist-packages (from category_encoders) (1.22.4)\n",
            "Requirement already satisfied: scikit-learn>=0.20.0 in /usr/local/lib/python3.10/dist-packages (from category_encoders) (1.2.2)\n",
            "Requirement already satisfied: scipy>=1.0.0 in /usr/local/lib/python3.10/dist-packages (from category_encoders) (1.10.1)\n",
            "Requirement already satisfied: statsmodels>=0.9.0 in /usr/local/lib/python3.10/dist-packages (from category_encoders) (0.13.5)\n",
            "Requirement already satisfied: pandas>=1.0.5 in /usr/local/lib/python3.10/dist-packages (from category_encoders) (1.5.3)\n",
            "Requirement already satisfied: patsy>=0.5.1 in /usr/local/lib/python3.10/dist-packages (from category_encoders) (0.5.3)\n",
            "Requirement already satisfied: python-dateutil>=2.8.1 in /usr/local/lib/python3.10/dist-packages (from pandas>=1.0.5->category_encoders) (2.8.2)\n",
            "Requirement already satisfied: pytz>=2020.1 in /usr/local/lib/python3.10/dist-packages (from pandas>=1.0.5->category_encoders) (2022.7.1)\n",
            "Requirement already satisfied: six in /usr/local/lib/python3.10/dist-packages (from patsy>=0.5.1->category_encoders) (1.16.0)\n",
            "Requirement already satisfied: joblib>=1.1.1 in /usr/local/lib/python3.10/dist-packages (from scikit-learn>=0.20.0->category_encoders) (1.3.1)\n",
            "Requirement already satisfied: threadpoolctl>=2.0.0 in /usr/local/lib/python3.10/dist-packages (from scikit-learn>=0.20.0->category_encoders) (3.1.0)\n",
            "Requirement already satisfied: packaging>=21.3 in /usr/local/lib/python3.10/dist-packages (from statsmodels>=0.9.0->category_encoders) (23.1)\n",
            "Installing collected packages: category_encoders\n",
            "Successfully installed category_encoders-2.6.1\n",
            "Warning: No categorical columns found. Calling 'transform' will only return input data.\n",
            "Warning: No categorical columns found. Calling 'transform' will only return input data.\n"
          ]
        }
      ]
    },
    {
      "cell_type": "markdown",
      "source": [
        "#Multivariate Analysis and correlation check"
      ],
      "metadata": {
        "id": "xa3cNLIVUFHD"
      }
    },
    {
      "cell_type": "code",
      "source": [
        "#Heat map comparing all fields\n",
        "plt.figure(figsize=(15, 15))\n",
        "sns.heatmap(df_final.corr(method='pearson'), square=True,annot=True, cmap=\"Blues\")\n",
        "plt.show()"
      ],
      "metadata": {
        "colab": {
          "base_uri": "https://localhost:8080/",
          "height": 1000
        },
        "id": "58V5TZAE17__",
        "outputId": "afaf7c26-fe71-4069-fbe8-920d9ab0bf93"
      },
      "execution_count": null,
      "outputs": [
        {
          "output_type": "stream",
          "name": "stderr",
          "text": [
            "<ipython-input-41-de9601cebf6d>:3: FutureWarning: The default value of numeric_only in DataFrame.corr is deprecated. In a future version, it will default to False. Select only valid columns or specify the value of numeric_only to silence this warning.\n",
            "  sns.heatmap(df_final.corr(method='pearson'), square=True,annot=True, cmap=\"Blues\")\n"
          ]
        },
        {
          "output_type": "display_data",
          "data": {
            "text/plain": [
              "<Figure size 1500x1500 with 2 Axes>"
            ],
            "image/svg+xml": "<?xml version=\"1.0\" encoding=\"utf-8\" standalone=\"no\"?>\n<!DOCTYPE svg PUBLIC \"-//W3C//DTD SVG 1.1//EN\"\n  \"http://www.w3.org/Graphics/SVG/1.1/DTD/svg11.dtd\">\n<svg xmlns:xlink=\"http://www.w3.org/1999/xlink\" width=\"906.98pt\" height=\"877.066406pt\" viewBox=\"0 0 906.98 877.066406\" xmlns=\"http://www.w3.org/2000/svg\" version=\"1.1\">\n <metadata>\n  <rdf:RDF xmlns:dc=\"http://purl.org/dc/elements/1.1/\" xmlns:cc=\"http://creativecommons.org/ns#\" xmlns:rdf=\"http://www.w3.org/1999/02/22-rdf-syntax-ns#\">\n   <cc:Work>\n    <dc:type rdf:resource=\"http://purl.org/dc/dcmitype/StillImage\"/>\n    <dc:date>2023-07-12T06:34:14.302337</dc:date>\n    <dc:format>image/svg+xml</dc:format>\n    <dc:creator>\n     <cc:Agent>\n      <dc:title>Matplotlib v3.7.1, https://matplotlib.org/</dc:title>\n     </cc:Agent>\n    </dc:creator>\n   </cc:Work>\n  </rdf:RDF>\n </metadata>\n <defs>\n  <style type=\"text/css\">*{stroke-linejoin: round; stroke-linecap: butt}</style>\n </defs>\n <g id=\"figure_1\">\n  <g id=\"patch_1\">\n   <path d=\"M 0 877.066406 \nL 906.98 877.066406 \nL 906.98 0 \nL 0 0 \nz\n\" style=\"fill: #ffffff\"/>\n  </g>\n  <g id=\"axes_1\">\n   <g id=\"patch_2\">\n    <path d=\"M 115.467188 761.599219 \nL 785.067188 761.599219 \nL 785.067188 91.999219 \nL 115.467188 91.999219 \nz\n\" style=\"fill: #ffffff\"/>\n   </g>\n   <g id=\"QuadMesh_1\">\n    <path d=\"M 115.467188 91.999219 \nL 157.317188 91.999219 \nL 157.317188 133.849219 \nL 115.467188 133.849219 \nL 115.467188 91.999219 \n\" clip-path=\"url(#pe47c853fae)\" style=\"fill: #08306b\"/>\n    <path d=\"M 157.317188 91.999219 \nL 199.167188 91.999219 \nL 199.167188 133.849219 \nL 157.317188 133.849219 \nL 157.317188 91.999219 \n\" clip-path=\"url(#pe47c853fae)\" style=\"fill: #a4cce3\"/>\n    <path d=\"M 199.167188 91.999219 \nL 241.017188 91.999219 \nL 241.017188 133.849219 \nL 199.167188 133.849219 \nL 199.167188 91.999219 \n\" clip-path=\"url(#pe47c853fae)\" style=\"fill: #a0cbe2\"/>\n    <path d=\"M 241.017188 91.999219 \nL 282.867188 91.999219 \nL 282.867188 133.849219 \nL 241.017188 133.849219 \nL 241.017188 91.999219 \n\" clip-path=\"url(#pe47c853fae)\" style=\"fill: #a4cce3\"/>\n    <path d=\"M 282.867188 91.999219 \nL 324.717188 91.999219 \nL 324.717188 133.849219 \nL 282.867188 133.849219 \nL 282.867188 91.999219 \n\" clip-path=\"url(#pe47c853fae)\" style=\"fill: #a6cee4\"/>\n    <path d=\"M 324.717188 91.999219 \nL 366.567188 91.999219 \nL 366.567188 133.849219 \nL 324.717188 133.849219 \nL 324.717188 91.999219 \n\" clip-path=\"url(#pe47c853fae)\" style=\"fill: #a8cee4\"/>\n    <path d=\"M 366.567188 91.999219 \nL 408.417188 91.999219 \nL 408.417188 133.849219 \nL 366.567188 133.849219 \nL 366.567188 91.999219 \n\" clip-path=\"url(#pe47c853fae)\" style=\"fill: #a9cfe5\"/>\n    <path d=\"M 408.417188 91.999219 \nL 450.267188 91.999219 \nL 450.267188 133.849219 \nL 408.417188 133.849219 \nL 408.417188 91.999219 \n\" clip-path=\"url(#pe47c853fae)\" style=\"fill: #a6cee4\"/>\n    <path d=\"M 450.267188 91.999219 \nL 492.117188 91.999219 \nL 492.117188 133.849219 \nL 450.267188 133.849219 \nL 450.267188 91.999219 \n\" clip-path=\"url(#pe47c853fae)\" style=\"fill: #9fcae1\"/>\n    <path d=\"M 492.117188 91.999219 \nL 533.967188 91.999219 \nL 533.967188 133.849219 \nL 492.117188 133.849219 \nL 492.117188 91.999219 \n\" clip-path=\"url(#pe47c853fae)\" style=\"fill: #a0cbe2\"/>\n    <path d=\"M 533.967188 91.999219 \nL 575.817188 91.999219 \nL 575.817188 133.849219 \nL 533.967188 133.849219 \nL 533.967188 91.999219 \n\" clip-path=\"url(#pe47c853fae)\" style=\"fill: #a6cee4\"/>\n    <path d=\"M 575.817188 91.999219 \nL 617.667188 91.999219 \nL 617.667188 133.849219 \nL 575.817188 133.849219 \nL 575.817188 91.999219 \n\" clip-path=\"url(#pe47c853fae)\" style=\"fill: #a6cee4\"/>\n    <path d=\"M 617.667188 91.999219 \nL 659.517188 91.999219 \nL 659.517188 133.849219 \nL 617.667188 133.849219 \nL 617.667188 91.999219 \n\" clip-path=\"url(#pe47c853fae)\" style=\"fill: #9fcae1\"/>\n    <path d=\"M 659.517188 91.999219 \nL 701.367188 91.999219 \nL 701.367188 133.849219 \nL 659.517188 133.849219 \nL 659.517188 91.999219 \n\" clip-path=\"url(#pe47c853fae)\" style=\"fill: #9dcae1\"/>\n    <path d=\"M 701.367188 91.999219 \nL 743.217188 91.999219 \nL 743.217188 133.849219 \nL 701.367188 133.849219 \nL 701.367188 91.999219 \n\" clip-path=\"url(#pe47c853fae)\" style=\"fill: #aacfe5\"/>\n    <path d=\"M 743.217188 91.999219 \nL 785.067188 91.999219 \nL 785.067188 133.849219 \nL 743.217188 133.849219 \nL 743.217188 91.999219 \n\" clip-path=\"url(#pe47c853fae)\" style=\"fill: #add0e6\"/>\n    <path d=\"M 115.467188 133.849219 \nL 157.317188 133.849219 \nL 157.317188 175.699219 \nL 115.467188 175.699219 \nL 115.467188 133.849219 \n\" clip-path=\"url(#pe47c853fae)\" style=\"fill: #a4cce3\"/>\n    <path d=\"M 157.317188 133.849219 \nL 199.167188 133.849219 \nL 199.167188 175.699219 \nL 157.317188 175.699219 \nL 157.317188 133.849219 \n\" clip-path=\"url(#pe47c853fae)\" style=\"fill: #08306b\"/>\n    <path d=\"M 199.167188 133.849219 \nL 241.017188 133.849219 \nL 241.017188 175.699219 \nL 199.167188 175.699219 \nL 199.167188 133.849219 \n\" clip-path=\"url(#pe47c853fae)\" style=\"fill: #9dcae1\"/>\n    <path d=\"M 241.017188 133.849219 \nL 282.867188 133.849219 \nL 282.867188 175.699219 \nL 241.017188 175.699219 \nL 241.017188 133.849219 \n\" clip-path=\"url(#pe47c853fae)\" style=\"fill: #a5cde3\"/>\n    <path d=\"M 282.867188 133.849219 \nL 324.717188 133.849219 \nL 324.717188 175.699219 \nL 282.867188 175.699219 \nL 282.867188 133.849219 \n\" clip-path=\"url(#pe47c853fae)\" style=\"fill: #a5cde3\"/>\n    <path d=\"M 324.717188 133.849219 \nL 366.567188 133.849219 \nL 366.567188 175.699219 \nL 324.717188 175.699219 \nL 324.717188 133.849219 \n\" clip-path=\"url(#pe47c853fae)\" style=\"fill: #6fb0d7\"/>\n    <path d=\"M 366.567188 133.849219 \nL 408.417188 133.849219 \nL 408.417188 175.699219 \nL 366.567188 175.699219 \nL 366.567188 133.849219 \n\" clip-path=\"url(#pe47c853fae)\" style=\"fill: #8fc2de\"/>\n    <path d=\"M 408.417188 133.849219 \nL 450.267188 133.849219 \nL 450.267188 175.699219 \nL 408.417188 175.699219 \nL 408.417188 133.849219 \n\" clip-path=\"url(#pe47c853fae)\" style=\"fill: #64a9d3\"/>\n    <path d=\"M 450.267188 133.849219 \nL 492.117188 133.849219 \nL 492.117188 175.699219 \nL 450.267188 175.699219 \nL 450.267188 133.849219 \n\" clip-path=\"url(#pe47c853fae)\" style=\"fill: #5ba3d0\"/>\n    <path d=\"M 492.117188 133.849219 \nL 533.967188 133.849219 \nL 533.967188 175.699219 \nL 492.117188 175.699219 \nL 492.117188 133.849219 \n\" clip-path=\"url(#pe47c853fae)\" style=\"fill: #6dafd7\"/>\n    <path d=\"M 533.967188 133.849219 \nL 575.817188 133.849219 \nL 575.817188 175.699219 \nL 533.967188 175.699219 \nL 533.967188 133.849219 \n\" clip-path=\"url(#pe47c853fae)\" style=\"fill: #89bedc\"/>\n    <path d=\"M 575.817188 133.849219 \nL 617.667188 133.849219 \nL 617.667188 175.699219 \nL 575.817188 175.699219 \nL 575.817188 133.849219 \n\" clip-path=\"url(#pe47c853fae)\" style=\"fill: #89bedc\"/>\n    <path d=\"M 617.667188 133.849219 \nL 659.517188 133.849219 \nL 659.517188 175.699219 \nL 617.667188 175.699219 \nL 617.667188 133.849219 \n\" clip-path=\"url(#pe47c853fae)\" style=\"fill: #97c6df\"/>\n    <path d=\"M 659.517188 133.849219 \nL 701.367188 133.849219 \nL 701.367188 175.699219 \nL 659.517188 175.699219 \nL 659.517188 133.849219 \n\" clip-path=\"url(#pe47c853fae)\" style=\"fill: #5aa2cf\"/>\n    <path d=\"M 701.367188 133.849219 \nL 743.217188 133.849219 \nL 743.217188 175.699219 \nL 701.367188 175.699219 \nL 701.367188 133.849219 \n\" clip-path=\"url(#pe47c853fae)\" style=\"fill: #a8cee4\"/>\n    <path d=\"M 743.217188 133.849219 \nL 785.067188 133.849219 \nL 785.067188 175.699219 \nL 743.217188 175.699219 \nL 743.217188 133.849219 \n\" clip-path=\"url(#pe47c853fae)\" style=\"fill: #d6e5f4\"/>\n    <path d=\"M 115.467188 175.699219 \nL 157.317188 175.699219 \nL 157.317188 217.549219 \nL 115.467188 217.549219 \nL 115.467188 175.699219 \n\" clip-path=\"url(#pe47c853fae)\" style=\"fill: #a0cbe2\"/>\n    <path d=\"M 157.317188 175.699219 \nL 199.167188 175.699219 \nL 199.167188 217.549219 \nL 157.317188 217.549219 \nL 157.317188 175.699219 \n\" clip-path=\"url(#pe47c853fae)\" style=\"fill: #9dcae1\"/>\n    <path d=\"M 199.167188 175.699219 \nL 241.017188 175.699219 \nL 241.017188 217.549219 \nL 199.167188 217.549219 \nL 199.167188 175.699219 \n\" clip-path=\"url(#pe47c853fae)\" style=\"fill: #08306b\"/>\n    <path d=\"M 241.017188 175.699219 \nL 282.867188 175.699219 \nL 282.867188 217.549219 \nL 241.017188 217.549219 \nL 241.017188 175.699219 \n\" clip-path=\"url(#pe47c853fae)\" style=\"fill: #a3cce3\"/>\n    <path d=\"M 282.867188 175.699219 \nL 324.717188 175.699219 \nL 324.717188 217.549219 \nL 282.867188 217.549219 \nL 282.867188 175.699219 \n\" clip-path=\"url(#pe47c853fae)\" style=\"fill: #a5cde3\"/>\n    <path d=\"M 324.717188 175.699219 \nL 366.567188 175.699219 \nL 366.567188 217.549219 \nL 324.717188 217.549219 \nL 324.717188 175.699219 \n\" clip-path=\"url(#pe47c853fae)\" style=\"fill: #a0cbe2\"/>\n    <path d=\"M 366.567188 175.699219 \nL 408.417188 175.699219 \nL 408.417188 217.549219 \nL 366.567188 217.549219 \nL 366.567188 175.699219 \n\" clip-path=\"url(#pe47c853fae)\" style=\"fill: #add0e6\"/>\n    <path d=\"M 408.417188 175.699219 \nL 450.267188 175.699219 \nL 450.267188 217.549219 \nL 408.417188 217.549219 \nL 408.417188 175.699219 \n\" clip-path=\"url(#pe47c853fae)\" style=\"fill: #a4cce3\"/>\n    <path d=\"M 450.267188 175.699219 \nL 492.117188 175.699219 \nL 492.117188 217.549219 \nL 450.267188 217.549219 \nL 450.267188 175.699219 \n\" clip-path=\"url(#pe47c853fae)\" style=\"fill: #a0cbe2\"/>\n    <path d=\"M 492.117188 175.699219 \nL 533.967188 175.699219 \nL 533.967188 217.549219 \nL 492.117188 217.549219 \nL 492.117188 175.699219 \n\" clip-path=\"url(#pe47c853fae)\" style=\"fill: #a1cbe2\"/>\n    <path d=\"M 533.967188 175.699219 \nL 575.817188 175.699219 \nL 575.817188 217.549219 \nL 533.967188 217.549219 \nL 533.967188 175.699219 \n\" clip-path=\"url(#pe47c853fae)\" style=\"fill: #9fcae1\"/>\n    <path d=\"M 575.817188 175.699219 \nL 617.667188 175.699219 \nL 617.667188 217.549219 \nL 575.817188 217.549219 \nL 575.817188 175.699219 \n\" clip-path=\"url(#pe47c853fae)\" style=\"fill: #9fcae1\"/>\n    <path d=\"M 617.667188 175.699219 \nL 659.517188 175.699219 \nL 659.517188 217.549219 \nL 617.667188 217.549219 \nL 617.667188 175.699219 \n\" clip-path=\"url(#pe47c853fae)\" style=\"fill: #aacfe5\"/>\n    <path d=\"M 659.517188 175.699219 \nL 701.367188 175.699219 \nL 701.367188 217.549219 \nL 659.517188 217.549219 \nL 659.517188 175.699219 \n\" clip-path=\"url(#pe47c853fae)\" style=\"fill: #9fcae1\"/>\n    <path d=\"M 701.367188 175.699219 \nL 743.217188 175.699219 \nL 743.217188 217.549219 \nL 701.367188 217.549219 \nL 701.367188 175.699219 \n\" clip-path=\"url(#pe47c853fae)\" style=\"fill: #a6cee4\"/>\n    <path d=\"M 743.217188 175.699219 \nL 785.067188 175.699219 \nL 785.067188 217.549219 \nL 743.217188 217.549219 \nL 743.217188 175.699219 \n\" clip-path=\"url(#pe47c853fae)\" style=\"fill: #a9cfe5\"/>\n    <path d=\"M 115.467188 217.549219 \nL 157.317188 217.549219 \nL 157.317188 259.399219 \nL 115.467188 259.399219 \nL 115.467188 217.549219 \n\" clip-path=\"url(#pe47c853fae)\" style=\"fill: #a4cce3\"/>\n    <path d=\"M 157.317188 217.549219 \nL 199.167188 217.549219 \nL 199.167188 259.399219 \nL 157.317188 259.399219 \nL 157.317188 217.549219 \n\" clip-path=\"url(#pe47c853fae)\" style=\"fill: #a5cde3\"/>\n    <path d=\"M 199.167188 217.549219 \nL 241.017188 217.549219 \nL 241.017188 259.399219 \nL 199.167188 259.399219 \nL 199.167188 217.549219 \n\" clip-path=\"url(#pe47c853fae)\" style=\"fill: #a3cce3\"/>\n    <path d=\"M 241.017188 217.549219 \nL 282.867188 217.549219 \nL 282.867188 259.399219 \nL 241.017188 259.399219 \nL 241.017188 217.549219 \n\" clip-path=\"url(#pe47c853fae)\" style=\"fill: #08306b\"/>\n    <path d=\"M 282.867188 217.549219 \nL 324.717188 217.549219 \nL 324.717188 259.399219 \nL 282.867188 259.399219 \nL 282.867188 217.549219 \n\" clip-path=\"url(#pe47c853fae)\" style=\"fill: #a4cce3\"/>\n    <path d=\"M 324.717188 217.549219 \nL 366.567188 217.549219 \nL 366.567188 259.399219 \nL 324.717188 259.399219 \nL 324.717188 217.549219 \n\" clip-path=\"url(#pe47c853fae)\" style=\"fill: #a8cee4\"/>\n    <path d=\"M 366.567188 217.549219 \nL 408.417188 217.549219 \nL 408.417188 259.399219 \nL 366.567188 259.399219 \nL 366.567188 217.549219 \n\" clip-path=\"url(#pe47c853fae)\" style=\"fill: #aacfe5\"/>\n    <path d=\"M 408.417188 217.549219 \nL 450.267188 217.549219 \nL 450.267188 259.399219 \nL 408.417188 259.399219 \nL 408.417188 217.549219 \n\" clip-path=\"url(#pe47c853fae)\" style=\"fill: #abd0e6\"/>\n    <path d=\"M 450.267188 217.549219 \nL 492.117188 217.549219 \nL 492.117188 259.399219 \nL 450.267188 259.399219 \nL 450.267188 217.549219 \n\" clip-path=\"url(#pe47c853fae)\" style=\"fill: #b3d3e8\"/>\n    <path d=\"M 492.117188 217.549219 \nL 533.967188 217.549219 \nL 533.967188 259.399219 \nL 492.117188 259.399219 \nL 492.117188 217.549219 \n\" clip-path=\"url(#pe47c853fae)\" style=\"fill: #afd1e7\"/>\n    <path d=\"M 533.967188 217.549219 \nL 575.817188 217.549219 \nL 575.817188 259.399219 \nL 533.967188 259.399219 \nL 533.967188 217.549219 \n\" clip-path=\"url(#pe47c853fae)\" style=\"fill: #a9cfe5\"/>\n    <path d=\"M 575.817188 217.549219 \nL 617.667188 217.549219 \nL 617.667188 259.399219 \nL 575.817188 259.399219 \nL 575.817188 217.549219 \n\" clip-path=\"url(#pe47c853fae)\" style=\"fill: #a9cfe5\"/>\n    <path d=\"M 617.667188 217.549219 \nL 659.517188 217.549219 \nL 659.517188 259.399219 \nL 617.667188 259.399219 \nL 617.667188 217.549219 \n\" clip-path=\"url(#pe47c853fae)\" style=\"fill: #92c4de\"/>\n    <path d=\"M 659.517188 217.549219 \nL 701.367188 217.549219 \nL 701.367188 259.399219 \nL 659.517188 259.399219 \nL 659.517188 217.549219 \n\" clip-path=\"url(#pe47c853fae)\" style=\"fill: #b0d2e7\"/>\n    <path d=\"M 701.367188 217.549219 \nL 743.217188 217.549219 \nL 743.217188 259.399219 \nL 701.367188 259.399219 \nL 701.367188 217.549219 \n\" clip-path=\"url(#pe47c853fae)\" style=\"fill: #a1cbe2\"/>\n    <path d=\"M 743.217188 217.549219 \nL 785.067188 217.549219 \nL 785.067188 259.399219 \nL 743.217188 259.399219 \nL 743.217188 217.549219 \n\" clip-path=\"url(#pe47c853fae)\" style=\"fill: #aacfe5\"/>\n    <path d=\"M 115.467188 259.399219 \nL 157.317188 259.399219 \nL 157.317188 301.249219 \nL 115.467188 301.249219 \nL 115.467188 259.399219 \n\" clip-path=\"url(#pe47c853fae)\" style=\"fill: #a6cee4\"/>\n    <path d=\"M 157.317188 259.399219 \nL 199.167188 259.399219 \nL 199.167188 301.249219 \nL 157.317188 301.249219 \nL 157.317188 259.399219 \n\" clip-path=\"url(#pe47c853fae)\" style=\"fill: #a5cde3\"/>\n    <path d=\"M 199.167188 259.399219 \nL 241.017188 259.399219 \nL 241.017188 301.249219 \nL 199.167188 301.249219 \nL 199.167188 259.399219 \n\" clip-path=\"url(#pe47c853fae)\" style=\"fill: #a5cde3\"/>\n    <path d=\"M 241.017188 259.399219 \nL 282.867188 259.399219 \nL 282.867188 301.249219 \nL 241.017188 301.249219 \nL 241.017188 259.399219 \n\" clip-path=\"url(#pe47c853fae)\" style=\"fill: #a4cce3\"/>\n    <path d=\"M 282.867188 259.399219 \nL 324.717188 259.399219 \nL 324.717188 301.249219 \nL 282.867188 301.249219 \nL 282.867188 259.399219 \n\" clip-path=\"url(#pe47c853fae)\" style=\"fill: #08306b\"/>\n    <path d=\"M 324.717188 259.399219 \nL 366.567188 259.399219 \nL 366.567188 301.249219 \nL 324.717188 301.249219 \nL 324.717188 259.399219 \n\" clip-path=\"url(#pe47c853fae)\" style=\"fill: #82bbdb\"/>\n    <path d=\"M 366.567188 259.399219 \nL 408.417188 259.399219 \nL 408.417188 301.249219 \nL 366.567188 301.249219 \nL 366.567188 259.399219 \n\" clip-path=\"url(#pe47c853fae)\" style=\"fill: #a3cce3\"/>\n    <path d=\"M 408.417188 259.399219 \nL 450.267188 259.399219 \nL 450.267188 301.249219 \nL 408.417188 301.249219 \nL 408.417188 259.399219 \n\" clip-path=\"url(#pe47c853fae)\" style=\"fill: #a8cee4\"/>\n    <path d=\"M 450.267188 259.399219 \nL 492.117188 259.399219 \nL 492.117188 301.249219 \nL 450.267188 301.249219 \nL 450.267188 259.399219 \n\" clip-path=\"url(#pe47c853fae)\" style=\"fill: #9fcae1\"/>\n    <path d=\"M 492.117188 259.399219 \nL 533.967188 259.399219 \nL 533.967188 301.249219 \nL 492.117188 301.249219 \nL 492.117188 259.399219 \n\" clip-path=\"url(#pe47c853fae)\" style=\"fill: #9cc9e1\"/>\n    <path d=\"M 533.967188 259.399219 \nL 575.817188 259.399219 \nL 575.817188 301.249219 \nL 533.967188 301.249219 \nL 533.967188 259.399219 \n\" clip-path=\"url(#pe47c853fae)\" style=\"fill: #a9cfe5\"/>\n    <path d=\"M 575.817188 259.399219 \nL 617.667188 259.399219 \nL 617.667188 301.249219 \nL 575.817188 301.249219 \nL 575.817188 259.399219 \n\" clip-path=\"url(#pe47c853fae)\" style=\"fill: #a9cfe5\"/>\n    <path d=\"M 617.667188 259.399219 \nL 659.517188 259.399219 \nL 659.517188 301.249219 \nL 617.667188 301.249219 \nL 617.667188 259.399219 \n\" clip-path=\"url(#pe47c853fae)\" style=\"fill: #9dcae1\"/>\n    <path d=\"M 659.517188 259.399219 \nL 701.367188 259.399219 \nL 701.367188 301.249219 \nL 659.517188 301.249219 \nL 659.517188 259.399219 \n\" clip-path=\"url(#pe47c853fae)\" style=\"fill: #9fcae1\"/>\n    <path d=\"M 701.367188 259.399219 \nL 743.217188 259.399219 \nL 743.217188 301.249219 \nL 701.367188 301.249219 \nL 701.367188 259.399219 \n\" clip-path=\"url(#pe47c853fae)\" style=\"fill: #a8cee4\"/>\n    <path d=\"M 743.217188 259.399219 \nL 785.067188 259.399219 \nL 785.067188 301.249219 \nL 743.217188 301.249219 \nL 743.217188 259.399219 \n\" clip-path=\"url(#pe47c853fae)\" style=\"fill: #a1cbe2\"/>\n    <path d=\"M 115.467188 301.249219 \nL 157.317188 301.249219 \nL 157.317188 343.099219 \nL 115.467188 343.099219 \nL 115.467188 301.249219 \n\" clip-path=\"url(#pe47c853fae)\" style=\"fill: #a8cee4\"/>\n    <path d=\"M 157.317188 301.249219 \nL 199.167188 301.249219 \nL 199.167188 343.099219 \nL 157.317188 343.099219 \nL 157.317188 301.249219 \n\" clip-path=\"url(#pe47c853fae)\" style=\"fill: #6fb0d7\"/>\n    <path d=\"M 199.167188 301.249219 \nL 241.017188 301.249219 \nL 241.017188 343.099219 \nL 199.167188 343.099219 \nL 199.167188 301.249219 \n\" clip-path=\"url(#pe47c853fae)\" style=\"fill: #a0cbe2\"/>\n    <path d=\"M 241.017188 301.249219 \nL 282.867188 301.249219 \nL 282.867188 343.099219 \nL 241.017188 343.099219 \nL 241.017188 301.249219 \n\" clip-path=\"url(#pe47c853fae)\" style=\"fill: #a8cee4\"/>\n    <path d=\"M 282.867188 301.249219 \nL 324.717188 301.249219 \nL 324.717188 343.099219 \nL 282.867188 343.099219 \nL 282.867188 301.249219 \n\" clip-path=\"url(#pe47c853fae)\" style=\"fill: #82bbdb\"/>\n    <path d=\"M 324.717188 301.249219 \nL 366.567188 301.249219 \nL 366.567188 343.099219 \nL 324.717188 343.099219 \nL 324.717188 301.249219 \n\" clip-path=\"url(#pe47c853fae)\" style=\"fill: #08306b\"/>\n    <path d=\"M 366.567188 301.249219 \nL 408.417188 301.249219 \nL 408.417188 343.099219 \nL 366.567188 343.099219 \nL 366.567188 301.249219 \n\" clip-path=\"url(#pe47c853fae)\" style=\"fill: #3686c0\"/>\n    <path d=\"M 408.417188 301.249219 \nL 450.267188 301.249219 \nL 450.267188 343.099219 \nL 408.417188 343.099219 \nL 408.417188 301.249219 \n\" clip-path=\"url(#pe47c853fae)\" style=\"fill: #125da6\"/>\n    <path d=\"M 450.267188 301.249219 \nL 492.117188 301.249219 \nL 492.117188 343.099219 \nL 450.267188 343.099219 \nL 450.267188 301.249219 \n\" clip-path=\"url(#pe47c853fae)\" style=\"fill: #58a1cf\"/>\n    <path d=\"M 492.117188 301.249219 \nL 533.967188 301.249219 \nL 533.967188 343.099219 \nL 492.117188 343.099219 \nL 492.117188 301.249219 \n\" clip-path=\"url(#pe47c853fae)\" style=\"fill: #75b4d8\"/>\n    <path d=\"M 533.967188 301.249219 \nL 575.817188 301.249219 \nL 575.817188 343.099219 \nL 533.967188 343.099219 \nL 533.967188 301.249219 \n\" clip-path=\"url(#pe47c853fae)\" style=\"fill: #8fc2de\"/>\n    <path d=\"M 575.817188 301.249219 \nL 617.667188 301.249219 \nL 617.667188 343.099219 \nL 575.817188 343.099219 \nL 575.817188 301.249219 \n\" clip-path=\"url(#pe47c853fae)\" style=\"fill: #8fc2de\"/>\n    <path d=\"M 617.667188 301.249219 \nL 659.517188 301.249219 \nL 659.517188 343.099219 \nL 617.667188 343.099219 \nL 617.667188 301.249219 \n\" clip-path=\"url(#pe47c853fae)\" style=\"fill: #aacfe5\"/>\n    <path d=\"M 659.517188 301.249219 \nL 701.367188 301.249219 \nL 701.367188 343.099219 \nL 659.517188 343.099219 \nL 659.517188 301.249219 \n\" clip-path=\"url(#pe47c853fae)\" style=\"fill: #64a9d3\"/>\n    <path d=\"M 701.367188 301.249219 \nL 743.217188 301.249219 \nL 743.217188 343.099219 \nL 701.367188 343.099219 \nL 701.367188 301.249219 \n\" clip-path=\"url(#pe47c853fae)\" style=\"fill: #a8cee4\"/>\n    <path d=\"M 743.217188 301.249219 \nL 785.067188 301.249219 \nL 785.067188 343.099219 \nL 743.217188 343.099219 \nL 743.217188 301.249219 \n\" clip-path=\"url(#pe47c853fae)\" style=\"fill: #c9ddf0\"/>\n    <path d=\"M 115.467188 343.099219 \nL 157.317188 343.099219 \nL 157.317188 384.949219 \nL 115.467188 384.949219 \nL 115.467188 343.099219 \n\" clip-path=\"url(#pe47c853fae)\" style=\"fill: #a9cfe5\"/>\n    <path d=\"M 157.317188 343.099219 \nL 199.167188 343.099219 \nL 199.167188 384.949219 \nL 157.317188 384.949219 \nL 157.317188 343.099219 \n\" clip-path=\"url(#pe47c853fae)\" style=\"fill: #8fc2de\"/>\n    <path d=\"M 199.167188 343.099219 \nL 241.017188 343.099219 \nL 241.017188 384.949219 \nL 199.167188 384.949219 \nL 199.167188 343.099219 \n\" clip-path=\"url(#pe47c853fae)\" style=\"fill: #add0e6\"/>\n    <path d=\"M 241.017188 343.099219 \nL 282.867188 343.099219 \nL 282.867188 384.949219 \nL 241.017188 384.949219 \nL 241.017188 343.099219 \n\" clip-path=\"url(#pe47c853fae)\" style=\"fill: #aacfe5\"/>\n    <path d=\"M 282.867188 343.099219 \nL 324.717188 343.099219 \nL 324.717188 384.949219 \nL 282.867188 384.949219 \nL 282.867188 343.099219 \n\" clip-path=\"url(#pe47c853fae)\" style=\"fill: #a3cce3\"/>\n    <path d=\"M 324.717188 343.099219 \nL 366.567188 343.099219 \nL 366.567188 384.949219 \nL 324.717188 384.949219 \nL 324.717188 343.099219 \n\" clip-path=\"url(#pe47c853fae)\" style=\"fill: #3686c0\"/>\n    <path d=\"M 366.567188 343.099219 \nL 408.417188 343.099219 \nL 408.417188 384.949219 \nL 366.567188 384.949219 \nL 366.567188 343.099219 \n\" clip-path=\"url(#pe47c853fae)\" style=\"fill: #08306b\"/>\n    <path d=\"M 408.417188 343.099219 \nL 450.267188 343.099219 \nL 450.267188 384.949219 \nL 408.417188 384.949219 \nL 408.417188 343.099219 \n\" clip-path=\"url(#pe47c853fae)\" style=\"fill: #1460a8\"/>\n    <path d=\"M 450.267188 343.099219 \nL 492.117188 343.099219 \nL 492.117188 384.949219 \nL 450.267188 384.949219 \nL 450.267188 343.099219 \n\" clip-path=\"url(#pe47c853fae)\" style=\"fill: #c3daee\"/>\n    <path d=\"M 492.117188 343.099219 \nL 533.967188 343.099219 \nL 533.967188 384.949219 \nL 492.117188 384.949219 \nL 492.117188 343.099219 \n\" clip-path=\"url(#pe47c853fae)\" style=\"fill: #c7dcef\"/>\n    <path d=\"M 533.967188 343.099219 \nL 575.817188 343.099219 \nL 575.817188 384.949219 \nL 533.967188 384.949219 \nL 533.967188 343.099219 \n\" clip-path=\"url(#pe47c853fae)\" style=\"fill: #b4d3e9\"/>\n    <path d=\"M 575.817188 343.099219 \nL 617.667188 343.099219 \nL 617.667188 384.949219 \nL 575.817188 384.949219 \nL 575.817188 343.099219 \n\" clip-path=\"url(#pe47c853fae)\" style=\"fill: #b4d3e9\"/>\n    <path d=\"M 617.667188 343.099219 \nL 659.517188 343.099219 \nL 659.517188 384.949219 \nL 617.667188 384.949219 \nL 617.667188 343.099219 \n\" clip-path=\"url(#pe47c853fae)\" style=\"fill: #c9ddf0\"/>\n    <path d=\"M 659.517188 343.099219 \nL 701.367188 343.099219 \nL 701.367188 384.949219 \nL 659.517188 384.949219 \nL 659.517188 343.099219 \n\" clip-path=\"url(#pe47c853fae)\" style=\"fill: #c8dcf0\"/>\n    <path d=\"M 701.367188 343.099219 \nL 743.217188 343.099219 \nL 743.217188 384.949219 \nL 701.367188 384.949219 \nL 701.367188 343.099219 \n\" clip-path=\"url(#pe47c853fae)\" style=\"fill: #a3cce3\"/>\n    <path d=\"M 743.217188 343.099219 \nL 785.067188 343.099219 \nL 785.067188 384.949219 \nL 743.217188 384.949219 \nL 743.217188 343.099219 \n\" clip-path=\"url(#pe47c853fae)\" style=\"fill: #58a1cf\"/>\n    <path d=\"M 115.467188 384.949219 \nL 157.317188 384.949219 \nL 157.317188 426.799219 \nL 115.467188 426.799219 \nL 115.467188 384.949219 \n\" clip-path=\"url(#pe47c853fae)\" style=\"fill: #a6cee4\"/>\n    <path d=\"M 157.317188 384.949219 \nL 199.167188 384.949219 \nL 199.167188 426.799219 \nL 157.317188 426.799219 \nL 157.317188 384.949219 \n\" clip-path=\"url(#pe47c853fae)\" style=\"fill: #64a9d3\"/>\n    <path d=\"M 199.167188 384.949219 \nL 241.017188 384.949219 \nL 241.017188 426.799219 \nL 199.167188 426.799219 \nL 199.167188 384.949219 \n\" clip-path=\"url(#pe47c853fae)\" style=\"fill: #a4cce3\"/>\n    <path d=\"M 241.017188 384.949219 \nL 282.867188 384.949219 \nL 282.867188 426.799219 \nL 241.017188 426.799219 \nL 241.017188 384.949219 \n\" clip-path=\"url(#pe47c853fae)\" style=\"fill: #abd0e6\"/>\n    <path d=\"M 282.867188 384.949219 \nL 324.717188 384.949219 \nL 324.717188 426.799219 \nL 282.867188 426.799219 \nL 282.867188 384.949219 \n\" clip-path=\"url(#pe47c853fae)\" style=\"fill: #a8cee4\"/>\n    <path d=\"M 324.717188 384.949219 \nL 366.567188 384.949219 \nL 366.567188 426.799219 \nL 324.717188 426.799219 \nL 324.717188 384.949219 \n\" clip-path=\"url(#pe47c853fae)\" style=\"fill: #125da6\"/>\n    <path d=\"M 366.567188 384.949219 \nL 408.417188 384.949219 \nL 408.417188 426.799219 \nL 366.567188 426.799219 \nL 366.567188 384.949219 \n\" clip-path=\"url(#pe47c853fae)\" style=\"fill: #1460a8\"/>\n    <path d=\"M 408.417188 384.949219 \nL 450.267188 384.949219 \nL 450.267188 426.799219 \nL 408.417188 426.799219 \nL 408.417188 384.949219 \n\" clip-path=\"url(#pe47c853fae)\" style=\"fill: #08306b\"/>\n    <path d=\"M 450.267188 384.949219 \nL 492.117188 384.949219 \nL 492.117188 426.799219 \nL 450.267188 426.799219 \nL 450.267188 384.949219 \n\" clip-path=\"url(#pe47c853fae)\" style=\"fill: #5ba3d0\"/>\n    <path d=\"M 492.117188 384.949219 \nL 533.967188 384.949219 \nL 533.967188 426.799219 \nL 492.117188 426.799219 \nL 492.117188 384.949219 \n\" clip-path=\"url(#pe47c853fae)\" style=\"fill: #8abfdd\"/>\n    <path d=\"M 533.967188 384.949219 \nL 575.817188 384.949219 \nL 575.817188 426.799219 \nL 533.967188 426.799219 \nL 533.967188 384.949219 \n\" clip-path=\"url(#pe47c853fae)\" style=\"fill: #7fb9da\"/>\n    <path d=\"M 575.817188 384.949219 \nL 617.667188 384.949219 \nL 617.667188 426.799219 \nL 575.817188 426.799219 \nL 575.817188 384.949219 \n\" clip-path=\"url(#pe47c853fae)\" style=\"fill: #7fb9da\"/>\n    <path d=\"M 617.667188 384.949219 \nL 659.517188 384.949219 \nL 659.517188 426.799219 \nL 617.667188 426.799219 \nL 617.667188 384.949219 \n\" clip-path=\"url(#pe47c853fae)\" style=\"fill: #b3d3e8\"/>\n    <path d=\"M 659.517188 384.949219 \nL 701.367188 384.949219 \nL 701.367188 426.799219 \nL 659.517188 426.799219 \nL 659.517188 384.949219 \n\" clip-path=\"url(#pe47c853fae)\" style=\"fill: #65aad4\"/>\n    <path d=\"M 701.367188 384.949219 \nL 743.217188 384.949219 \nL 743.217188 426.799219 \nL 701.367188 426.799219 \nL 701.367188 384.949219 \n\" clip-path=\"url(#pe47c853fae)\" style=\"fill: #abd0e6\"/>\n    <path d=\"M 743.217188 384.949219 \nL 785.067188 384.949219 \nL 785.067188 426.799219 \nL 743.217188 426.799219 \nL 743.217188 384.949219 \n\" clip-path=\"url(#pe47c853fae)\" style=\"fill: #caddf0\"/>\n    <path d=\"M 115.467188 426.799219 \nL 157.317188 426.799219 \nL 157.317188 468.649219 \nL 115.467188 468.649219 \nL 115.467188 426.799219 \n\" clip-path=\"url(#pe47c853fae)\" style=\"fill: #9fcae1\"/>\n    <path d=\"M 157.317188 426.799219 \nL 199.167188 426.799219 \nL 199.167188 468.649219 \nL 157.317188 468.649219 \nL 157.317188 426.799219 \n\" clip-path=\"url(#pe47c853fae)\" style=\"fill: #5ba3d0\"/>\n    <path d=\"M 199.167188 426.799219 \nL 241.017188 426.799219 \nL 241.017188 468.649219 \nL 199.167188 468.649219 \nL 199.167188 426.799219 \n\" clip-path=\"url(#pe47c853fae)\" style=\"fill: #a0cbe2\"/>\n    <path d=\"M 241.017188 426.799219 \nL 282.867188 426.799219 \nL 282.867188 468.649219 \nL 241.017188 468.649219 \nL 241.017188 426.799219 \n\" clip-path=\"url(#pe47c853fae)\" style=\"fill: #b3d3e8\"/>\n    <path d=\"M 282.867188 426.799219 \nL 324.717188 426.799219 \nL 324.717188 468.649219 \nL 282.867188 468.649219 \nL 282.867188 426.799219 \n\" clip-path=\"url(#pe47c853fae)\" style=\"fill: #9fcae1\"/>\n    <path d=\"M 324.717188 426.799219 \nL 366.567188 426.799219 \nL 366.567188 468.649219 \nL 324.717188 468.649219 \nL 324.717188 426.799219 \n\" clip-path=\"url(#pe47c853fae)\" style=\"fill: #58a1cf\"/>\n    <path d=\"M 366.567188 426.799219 \nL 408.417188 426.799219 \nL 408.417188 468.649219 \nL 366.567188 468.649219 \nL 366.567188 426.799219 \n\" clip-path=\"url(#pe47c853fae)\" style=\"fill: #c3daee\"/>\n    <path d=\"M 408.417188 426.799219 \nL 450.267188 426.799219 \nL 450.267188 468.649219 \nL 408.417188 468.649219 \nL 408.417188 426.799219 \n\" clip-path=\"url(#pe47c853fae)\" style=\"fill: #5ba3d0\"/>\n    <path d=\"M 450.267188 426.799219 \nL 492.117188 426.799219 \nL 492.117188 468.649219 \nL 450.267188 468.649219 \nL 450.267188 426.799219 \n\" clip-path=\"url(#pe47c853fae)\" style=\"fill: #08306b\"/>\n    <path d=\"M 492.117188 426.799219 \nL 533.967188 426.799219 \nL 533.967188 468.649219 \nL 492.117188 468.649219 \nL 492.117188 426.799219 \n\" clip-path=\"url(#pe47c853fae)\" style=\"fill: #0b559f\"/>\n    <path d=\"M 533.967188 426.799219 \nL 575.817188 426.799219 \nL 575.817188 468.649219 \nL 533.967188 468.649219 \nL 533.967188 426.799219 \n\" clip-path=\"url(#pe47c853fae)\" style=\"fill: #5aa2cf\"/>\n    <path d=\"M 575.817188 426.799219 \nL 617.667188 426.799219 \nL 617.667188 468.649219 \nL 575.817188 468.649219 \nL 575.817188 426.799219 \n\" clip-path=\"url(#pe47c853fae)\" style=\"fill: #5aa2cf\"/>\n    <path d=\"M 617.667188 426.799219 \nL 659.517188 426.799219 \nL 659.517188 468.649219 \nL 617.667188 468.649219 \nL 617.667188 426.799219 \n\" clip-path=\"url(#pe47c853fae)\" style=\"fill: #9ac8e0\"/>\n    <path d=\"M 659.517188 426.799219 \nL 701.367188 426.799219 \nL 701.367188 468.649219 \nL 659.517188 468.649219 \nL 659.517188 426.799219 \n\" clip-path=\"url(#pe47c853fae)\" style=\"fill: #084082\"/>\n    <path d=\"M 701.367188 426.799219 \nL 743.217188 426.799219 \nL 743.217188 468.649219 \nL 701.367188 468.649219 \nL 701.367188 426.799219 \n\" clip-path=\"url(#pe47c853fae)\" style=\"fill: #b3d3e8\"/>\n    <path d=\"M 743.217188 426.799219 \nL 785.067188 426.799219 \nL 785.067188 468.649219 \nL 743.217188 468.649219 \nL 743.217188 426.799219 \n\" clip-path=\"url(#pe47c853fae)\" style=\"fill: #f5fafe\"/>\n    <path d=\"M 115.467188 468.649219 \nL 157.317188 468.649219 \nL 157.317188 510.499219 \nL 115.467188 510.499219 \nL 115.467188 468.649219 \n\" clip-path=\"url(#pe47c853fae)\" style=\"fill: #a0cbe2\"/>\n    <path d=\"M 157.317188 468.649219 \nL 199.167188 468.649219 \nL 199.167188 510.499219 \nL 157.317188 510.499219 \nL 157.317188 468.649219 \n\" clip-path=\"url(#pe47c853fae)\" style=\"fill: #6dafd7\"/>\n    <path d=\"M 199.167188 468.649219 \nL 241.017188 468.649219 \nL 241.017188 510.499219 \nL 199.167188 510.499219 \nL 199.167188 468.649219 \n\" clip-path=\"url(#pe47c853fae)\" style=\"fill: #a1cbe2\"/>\n    <path d=\"M 241.017188 468.649219 \nL 282.867188 468.649219 \nL 282.867188 510.499219 \nL 241.017188 510.499219 \nL 241.017188 468.649219 \n\" clip-path=\"url(#pe47c853fae)\" style=\"fill: #afd1e7\"/>\n    <path d=\"M 282.867188 468.649219 \nL 324.717188 468.649219 \nL 324.717188 510.499219 \nL 282.867188 510.499219 \nL 282.867188 468.649219 \n\" clip-path=\"url(#pe47c853fae)\" style=\"fill: #9cc9e1\"/>\n    <path d=\"M 324.717188 468.649219 \nL 366.567188 468.649219 \nL 366.567188 510.499219 \nL 324.717188 510.499219 \nL 324.717188 468.649219 \n\" clip-path=\"url(#pe47c853fae)\" style=\"fill: #75b4d8\"/>\n    <path d=\"M 366.567188 468.649219 \nL 408.417188 468.649219 \nL 408.417188 510.499219 \nL 366.567188 510.499219 \nL 366.567188 468.649219 \n\" clip-path=\"url(#pe47c853fae)\" style=\"fill: #c7dcef\"/>\n    <path d=\"M 408.417188 468.649219 \nL 450.267188 468.649219 \nL 450.267188 510.499219 \nL 408.417188 510.499219 \nL 408.417188 468.649219 \n\" clip-path=\"url(#pe47c853fae)\" style=\"fill: #8abfdd\"/>\n    <path d=\"M 450.267188 468.649219 \nL 492.117188 468.649219 \nL 492.117188 510.499219 \nL 450.267188 510.499219 \nL 450.267188 468.649219 \n\" clip-path=\"url(#pe47c853fae)\" style=\"fill: #0b559f\"/>\n    <path d=\"M 492.117188 468.649219 \nL 533.967188 468.649219 \nL 533.967188 510.499219 \nL 492.117188 510.499219 \nL 492.117188 468.649219 \n\" clip-path=\"url(#pe47c853fae)\" style=\"fill: #08306b\"/>\n    <path d=\"M 533.967188 468.649219 \nL 575.817188 468.649219 \nL 575.817188 510.499219 \nL 533.967188 510.499219 \nL 533.967188 468.649219 \n\" clip-path=\"url(#pe47c853fae)\" style=\"fill: #56a0ce\"/>\n    <path d=\"M 575.817188 468.649219 \nL 617.667188 468.649219 \nL 617.667188 510.499219 \nL 575.817188 510.499219 \nL 575.817188 468.649219 \n\" clip-path=\"url(#pe47c853fae)\" style=\"fill: #56a0ce\"/>\n    <path d=\"M 617.667188 468.649219 \nL 659.517188 468.649219 \nL 659.517188 510.499219 \nL 617.667188 510.499219 \nL 617.667188 468.649219 \n\" clip-path=\"url(#pe47c853fae)\" style=\"fill: #a1cbe2\"/>\n    <path d=\"M 659.517188 468.649219 \nL 701.367188 468.649219 \nL 701.367188 510.499219 \nL 659.517188 510.499219 \nL 659.517188 468.649219 \n\" clip-path=\"url(#pe47c853fae)\" style=\"fill: #1865ac\"/>\n    <path d=\"M 701.367188 468.649219 \nL 743.217188 468.649219 \nL 743.217188 510.499219 \nL 701.367188 510.499219 \nL 701.367188 468.649219 \n\" clip-path=\"url(#pe47c853fae)\" style=\"fill: #b9d6ea\"/>\n    <path d=\"M 743.217188 468.649219 \nL 785.067188 468.649219 \nL 785.067188 510.499219 \nL 743.217188 510.499219 \nL 743.217188 468.649219 \n\" clip-path=\"url(#pe47c853fae)\" style=\"fill: #dbe9f6\"/>\n    <path d=\"M 115.467188 510.499219 \nL 157.317188 510.499219 \nL 157.317188 552.349219 \nL 115.467188 552.349219 \nL 115.467188 510.499219 \n\" clip-path=\"url(#pe47c853fae)\" style=\"fill: #a6cee4\"/>\n    <path d=\"M 157.317188 510.499219 \nL 199.167188 510.499219 \nL 199.167188 552.349219 \nL 157.317188 552.349219 \nL 157.317188 510.499219 \n\" clip-path=\"url(#pe47c853fae)\" style=\"fill: #89bedc\"/>\n    <path d=\"M 199.167188 510.499219 \nL 241.017188 510.499219 \nL 241.017188 552.349219 \nL 199.167188 552.349219 \nL 199.167188 510.499219 \n\" clip-path=\"url(#pe47c853fae)\" style=\"fill: #9fcae1\"/>\n    <path d=\"M 241.017188 510.499219 \nL 282.867188 510.499219 \nL 282.867188 552.349219 \nL 241.017188 552.349219 \nL 241.017188 510.499219 \n\" clip-path=\"url(#pe47c853fae)\" style=\"fill: #a9cfe5\"/>\n    <path d=\"M 282.867188 510.499219 \nL 324.717188 510.499219 \nL 324.717188 552.349219 \nL 282.867188 552.349219 \nL 282.867188 510.499219 \n\" clip-path=\"url(#pe47c853fae)\" style=\"fill: #a9cfe5\"/>\n    <path d=\"M 324.717188 510.499219 \nL 366.567188 510.499219 \nL 366.567188 552.349219 \nL 324.717188 552.349219 \nL 324.717188 510.499219 \n\" clip-path=\"url(#pe47c853fae)\" style=\"fill: #8fc2de\"/>\n    <path d=\"M 366.567188 510.499219 \nL 408.417188 510.499219 \nL 408.417188 552.349219 \nL 366.567188 552.349219 \nL 366.567188 510.499219 \n\" clip-path=\"url(#pe47c853fae)\" style=\"fill: #b4d3e9\"/>\n    <path d=\"M 408.417188 510.499219 \nL 450.267188 510.499219 \nL 450.267188 552.349219 \nL 408.417188 552.349219 \nL 408.417188 510.499219 \n\" clip-path=\"url(#pe47c853fae)\" style=\"fill: #7fb9da\"/>\n    <path d=\"M 450.267188 510.499219 \nL 492.117188 510.499219 \nL 492.117188 552.349219 \nL 450.267188 552.349219 \nL 450.267188 510.499219 \n\" clip-path=\"url(#pe47c853fae)\" style=\"fill: #5aa2cf\"/>\n    <path d=\"M 492.117188 510.499219 \nL 533.967188 510.499219 \nL 533.967188 552.349219 \nL 492.117188 552.349219 \nL 492.117188 510.499219 \n\" clip-path=\"url(#pe47c853fae)\" style=\"fill: #56a0ce\"/>\n    <path d=\"M 533.967188 510.499219 \nL 575.817188 510.499219 \nL 575.817188 552.349219 \nL 533.967188 552.349219 \nL 533.967188 510.499219 \n\" clip-path=\"url(#pe47c853fae)\" style=\"fill: #08306b\"/>\n    <path d=\"M 575.817188 510.499219 \nL 617.667188 510.499219 \nL 617.667188 552.349219 \nL 575.817188 552.349219 \nL 575.817188 510.499219 \n\" clip-path=\"url(#pe47c853fae)\" style=\"fill: #08306b\"/>\n    <path d=\"M 617.667188 510.499219 \nL 659.517188 510.499219 \nL 659.517188 552.349219 \nL 617.667188 552.349219 \nL 617.667188 510.499219 \n\" clip-path=\"url(#pe47c853fae)\" style=\"fill: #a3cce3\"/>\n    <path d=\"M 659.517188 510.499219 \nL 701.367188 510.499219 \nL 701.367188 552.349219 \nL 659.517188 552.349219 \nL 659.517188 510.499219 \n\" clip-path=\"url(#pe47c853fae)\" style=\"fill: #5ca4d0\"/>\n    <path d=\"M 701.367188 510.499219 \nL 743.217188 510.499219 \nL 743.217188 552.349219 \nL 701.367188 552.349219 \nL 701.367188 510.499219 \n\" clip-path=\"url(#pe47c853fae)\" style=\"fill: #a8cee4\"/>\n    <path d=\"M 743.217188 510.499219 \nL 785.067188 510.499219 \nL 785.067188 552.349219 \nL 743.217188 552.349219 \nL 743.217188 510.499219 \n\" clip-path=\"url(#pe47c853fae)\" style=\"fill: #b7d4ea\"/>\n    <path d=\"M 115.467188 552.349219 \nL 157.317188 552.349219 \nL 157.317188 594.199219 \nL 115.467188 594.199219 \nL 115.467188 552.349219 \n\" clip-path=\"url(#pe47c853fae)\" style=\"fill: #a6cee4\"/>\n    <path d=\"M 157.317188 552.349219 \nL 199.167188 552.349219 \nL 199.167188 594.199219 \nL 157.317188 594.199219 \nL 157.317188 552.349219 \n\" clip-path=\"url(#pe47c853fae)\" style=\"fill: #89bedc\"/>\n    <path d=\"M 199.167188 552.349219 \nL 241.017188 552.349219 \nL 241.017188 594.199219 \nL 199.167188 594.199219 \nL 199.167188 552.349219 \n\" clip-path=\"url(#pe47c853fae)\" style=\"fill: #9fcae1\"/>\n    <path d=\"M 241.017188 552.349219 \nL 282.867188 552.349219 \nL 282.867188 594.199219 \nL 241.017188 594.199219 \nL 241.017188 552.349219 \n\" clip-path=\"url(#pe47c853fae)\" style=\"fill: #a9cfe5\"/>\n    <path d=\"M 282.867188 552.349219 \nL 324.717188 552.349219 \nL 324.717188 594.199219 \nL 282.867188 594.199219 \nL 282.867188 552.349219 \n\" clip-path=\"url(#pe47c853fae)\" style=\"fill: #a9cfe5\"/>\n    <path d=\"M 324.717188 552.349219 \nL 366.567188 552.349219 \nL 366.567188 594.199219 \nL 324.717188 594.199219 \nL 324.717188 552.349219 \n\" clip-path=\"url(#pe47c853fae)\" style=\"fill: #8fc2de\"/>\n    <path d=\"M 366.567188 552.349219 \nL 408.417188 552.349219 \nL 408.417188 594.199219 \nL 366.567188 594.199219 \nL 366.567188 552.349219 \n\" clip-path=\"url(#pe47c853fae)\" style=\"fill: #b4d3e9\"/>\n    <path d=\"M 408.417188 552.349219 \nL 450.267188 552.349219 \nL 450.267188 594.199219 \nL 408.417188 594.199219 \nL 408.417188 552.349219 \n\" clip-path=\"url(#pe47c853fae)\" style=\"fill: #7fb9da\"/>\n    <path d=\"M 450.267188 552.349219 \nL 492.117188 552.349219 \nL 492.117188 594.199219 \nL 450.267188 594.199219 \nL 450.267188 552.349219 \n\" clip-path=\"url(#pe47c853fae)\" style=\"fill: #5aa2cf\"/>\n    <path d=\"M 492.117188 552.349219 \nL 533.967188 552.349219 \nL 533.967188 594.199219 \nL 492.117188 594.199219 \nL 492.117188 552.349219 \n\" clip-path=\"url(#pe47c853fae)\" style=\"fill: #56a0ce\"/>\n    <path d=\"M 533.967188 552.349219 \nL 575.817188 552.349219 \nL 575.817188 594.199219 \nL 533.967188 594.199219 \nL 533.967188 552.349219 \n\" clip-path=\"url(#pe47c853fae)\" style=\"fill: #08306b\"/>\n    <path d=\"M 575.817188 552.349219 \nL 617.667188 552.349219 \nL 617.667188 594.199219 \nL 575.817188 594.199219 \nL 575.817188 552.349219 \n\" clip-path=\"url(#pe47c853fae)\" style=\"fill: #08306b\"/>\n    <path d=\"M 617.667188 552.349219 \nL 659.517188 552.349219 \nL 659.517188 594.199219 \nL 617.667188 594.199219 \nL 617.667188 552.349219 \n\" clip-path=\"url(#pe47c853fae)\" style=\"fill: #a3cce3\"/>\n    <path d=\"M 659.517188 552.349219 \nL 701.367188 552.349219 \nL 701.367188 594.199219 \nL 659.517188 594.199219 \nL 659.517188 552.349219 \n\" clip-path=\"url(#pe47c853fae)\" style=\"fill: #5ca4d0\"/>\n    <path d=\"M 701.367188 552.349219 \nL 743.217188 552.349219 \nL 743.217188 594.199219 \nL 701.367188 594.199219 \nL 701.367188 552.349219 \n\" clip-path=\"url(#pe47c853fae)\" style=\"fill: #a8cee4\"/>\n    <path d=\"M 743.217188 552.349219 \nL 785.067188 552.349219 \nL 785.067188 594.199219 \nL 743.217188 594.199219 \nL 743.217188 552.349219 \n\" clip-path=\"url(#pe47c853fae)\" style=\"fill: #b7d4ea\"/>\n    <path d=\"M 115.467188 594.199219 \nL 157.317188 594.199219 \nL 157.317188 636.049219 \nL 115.467188 636.049219 \nL 115.467188 594.199219 \n\" clip-path=\"url(#pe47c853fae)\" style=\"fill: #9fcae1\"/>\n    <path d=\"M 157.317188 594.199219 \nL 199.167188 594.199219 \nL 199.167188 636.049219 \nL 157.317188 636.049219 \nL 157.317188 594.199219 \n\" clip-path=\"url(#pe47c853fae)\" style=\"fill: #97c6df\"/>\n    <path d=\"M 199.167188 594.199219 \nL 241.017188 594.199219 \nL 241.017188 636.049219 \nL 199.167188 636.049219 \nL 199.167188 594.199219 \n\" clip-path=\"url(#pe47c853fae)\" style=\"fill: #aacfe5\"/>\n    <path d=\"M 241.017188 594.199219 \nL 282.867188 594.199219 \nL 282.867188 636.049219 \nL 241.017188 636.049219 \nL 241.017188 594.199219 \n\" clip-path=\"url(#pe47c853fae)\" style=\"fill: #92c4de\"/>\n    <path d=\"M 282.867188 594.199219 \nL 324.717188 594.199219 \nL 324.717188 636.049219 \nL 282.867188 636.049219 \nL 282.867188 594.199219 \n\" clip-path=\"url(#pe47c853fae)\" style=\"fill: #9dcae1\"/>\n    <path d=\"M 324.717188 594.199219 \nL 366.567188 594.199219 \nL 366.567188 636.049219 \nL 324.717188 636.049219 \nL 324.717188 594.199219 \n\" clip-path=\"url(#pe47c853fae)\" style=\"fill: #aacfe5\"/>\n    <path d=\"M 366.567188 594.199219 \nL 408.417188 594.199219 \nL 408.417188 636.049219 \nL 366.567188 636.049219 \nL 366.567188 594.199219 \n\" clip-path=\"url(#pe47c853fae)\" style=\"fill: #c9ddf0\"/>\n    <path d=\"M 408.417188 594.199219 \nL 450.267188 594.199219 \nL 450.267188 636.049219 \nL 408.417188 636.049219 \nL 408.417188 594.199219 \n\" clip-path=\"url(#pe47c853fae)\" style=\"fill: #b3d3e8\"/>\n    <path d=\"M 450.267188 594.199219 \nL 492.117188 594.199219 \nL 492.117188 636.049219 \nL 450.267188 636.049219 \nL 450.267188 594.199219 \n\" clip-path=\"url(#pe47c853fae)\" style=\"fill: #9ac8e0\"/>\n    <path d=\"M 492.117188 594.199219 \nL 533.967188 594.199219 \nL 533.967188 636.049219 \nL 492.117188 636.049219 \nL 492.117188 594.199219 \n\" clip-path=\"url(#pe47c853fae)\" style=\"fill: #a1cbe2\"/>\n    <path d=\"M 533.967188 594.199219 \nL 575.817188 594.199219 \nL 575.817188 636.049219 \nL 533.967188 636.049219 \nL 533.967188 594.199219 \n\" clip-path=\"url(#pe47c853fae)\" style=\"fill: #a3cce3\"/>\n    <path d=\"M 575.817188 594.199219 \nL 617.667188 594.199219 \nL 617.667188 636.049219 \nL 575.817188 636.049219 \nL 575.817188 594.199219 \n\" clip-path=\"url(#pe47c853fae)\" style=\"fill: #a3cce3\"/>\n    <path d=\"M 617.667188 594.199219 \nL 659.517188 594.199219 \nL 659.517188 636.049219 \nL 617.667188 636.049219 \nL 617.667188 594.199219 \n\" clip-path=\"url(#pe47c853fae)\" style=\"fill: #08306b\"/>\n    <path d=\"M 659.517188 594.199219 \nL 701.367188 594.199219 \nL 701.367188 636.049219 \nL 659.517188 636.049219 \nL 659.517188 594.199219 \n\" clip-path=\"url(#pe47c853fae)\" style=\"fill: #9dcae1\"/>\n    <path d=\"M 701.367188 594.199219 \nL 743.217188 594.199219 \nL 743.217188 636.049219 \nL 701.367188 636.049219 \nL 701.367188 594.199219 \n\" clip-path=\"url(#pe47c853fae)\" style=\"fill: #b0d2e7\"/>\n    <path d=\"M 743.217188 594.199219 \nL 785.067188 594.199219 \nL 785.067188 636.049219 \nL 743.217188 636.049219 \nL 743.217188 594.199219 \n\" clip-path=\"url(#pe47c853fae)\" style=\"fill: #d0e2f2\"/>\n    <path d=\"M 115.467188 636.049219 \nL 157.317188 636.049219 \nL 157.317188 677.899219 \nL 115.467188 677.899219 \nL 115.467188 636.049219 \n\" clip-path=\"url(#pe47c853fae)\" style=\"fill: #9dcae1\"/>\n    <path d=\"M 157.317188 636.049219 \nL 199.167188 636.049219 \nL 199.167188 677.899219 \nL 157.317188 677.899219 \nL 157.317188 636.049219 \n\" clip-path=\"url(#pe47c853fae)\" style=\"fill: #5aa2cf\"/>\n    <path d=\"M 199.167188 636.049219 \nL 241.017188 636.049219 \nL 241.017188 677.899219 \nL 199.167188 677.899219 \nL 199.167188 636.049219 \n\" clip-path=\"url(#pe47c853fae)\" style=\"fill: #9fcae1\"/>\n    <path d=\"M 241.017188 636.049219 \nL 282.867188 636.049219 \nL 282.867188 677.899219 \nL 241.017188 677.899219 \nL 241.017188 636.049219 \n\" clip-path=\"url(#pe47c853fae)\" style=\"fill: #b0d2e7\"/>\n    <path d=\"M 282.867188 636.049219 \nL 324.717188 636.049219 \nL 324.717188 677.899219 \nL 282.867188 677.899219 \nL 282.867188 636.049219 \n\" clip-path=\"url(#pe47c853fae)\" style=\"fill: #9fcae1\"/>\n    <path d=\"M 324.717188 636.049219 \nL 366.567188 636.049219 \nL 366.567188 677.899219 \nL 324.717188 677.899219 \nL 324.717188 636.049219 \n\" clip-path=\"url(#pe47c853fae)\" style=\"fill: #64a9d3\"/>\n    <path d=\"M 366.567188 636.049219 \nL 408.417188 636.049219 \nL 408.417188 677.899219 \nL 366.567188 677.899219 \nL 366.567188 636.049219 \n\" clip-path=\"url(#pe47c853fae)\" style=\"fill: #c8dcf0\"/>\n    <path d=\"M 408.417188 636.049219 \nL 450.267188 636.049219 \nL 450.267188 677.899219 \nL 408.417188 677.899219 \nL 408.417188 636.049219 \n\" clip-path=\"url(#pe47c853fae)\" style=\"fill: #65aad4\"/>\n    <path d=\"M 450.267188 636.049219 \nL 492.117188 636.049219 \nL 492.117188 677.899219 \nL 450.267188 677.899219 \nL 450.267188 636.049219 \n\" clip-path=\"url(#pe47c853fae)\" style=\"fill: #084082\"/>\n    <path d=\"M 492.117188 636.049219 \nL 533.967188 636.049219 \nL 533.967188 677.899219 \nL 492.117188 677.899219 \nL 492.117188 636.049219 \n\" clip-path=\"url(#pe47c853fae)\" style=\"fill: #1865ac\"/>\n    <path d=\"M 533.967188 636.049219 \nL 575.817188 636.049219 \nL 575.817188 677.899219 \nL 533.967188 677.899219 \nL 533.967188 636.049219 \n\" clip-path=\"url(#pe47c853fae)\" style=\"fill: #5ca4d0\"/>\n    <path d=\"M 575.817188 636.049219 \nL 617.667188 636.049219 \nL 617.667188 677.899219 \nL 575.817188 677.899219 \nL 575.817188 636.049219 \n\" clip-path=\"url(#pe47c853fae)\" style=\"fill: #5ca4d0\"/>\n    <path d=\"M 617.667188 636.049219 \nL 659.517188 636.049219 \nL 659.517188 677.899219 \nL 617.667188 677.899219 \nL 617.667188 636.049219 \n\" clip-path=\"url(#pe47c853fae)\" style=\"fill: #9dcae1\"/>\n    <path d=\"M 659.517188 636.049219 \nL 701.367188 636.049219 \nL 701.367188 677.899219 \nL 659.517188 677.899219 \nL 659.517188 636.049219 \n\" clip-path=\"url(#pe47c853fae)\" style=\"fill: #08306b\"/>\n    <path d=\"M 701.367188 636.049219 \nL 743.217188 636.049219 \nL 743.217188 677.899219 \nL 701.367188 677.899219 \nL 701.367188 636.049219 \n\" clip-path=\"url(#pe47c853fae)\" style=\"fill: #b8d5ea\"/>\n    <path d=\"M 743.217188 636.049219 \nL 785.067188 636.049219 \nL 785.067188 677.899219 \nL 743.217188 677.899219 \nL 743.217188 636.049219 \n\" clip-path=\"url(#pe47c853fae)\" style=\"fill: #f7fbff\"/>\n    <path d=\"M 115.467188 677.899219 \nL 157.317188 677.899219 \nL 157.317188 719.749219 \nL 115.467188 719.749219 \nL 115.467188 677.899219 \n\" clip-path=\"url(#pe47c853fae)\" style=\"fill: #aacfe5\"/>\n    <path d=\"M 157.317188 677.899219 \nL 199.167188 677.899219 \nL 199.167188 719.749219 \nL 157.317188 719.749219 \nL 157.317188 677.899219 \n\" clip-path=\"url(#pe47c853fae)\" style=\"fill: #a8cee4\"/>\n    <path d=\"M 199.167188 677.899219 \nL 241.017188 677.899219 \nL 241.017188 719.749219 \nL 199.167188 719.749219 \nL 199.167188 677.899219 \n\" clip-path=\"url(#pe47c853fae)\" style=\"fill: #a6cee4\"/>\n    <path d=\"M 241.017188 677.899219 \nL 282.867188 677.899219 \nL 282.867188 719.749219 \nL 241.017188 719.749219 \nL 241.017188 677.899219 \n\" clip-path=\"url(#pe47c853fae)\" style=\"fill: #a1cbe2\"/>\n    <path d=\"M 282.867188 677.899219 \nL 324.717188 677.899219 \nL 324.717188 719.749219 \nL 282.867188 719.749219 \nL 282.867188 677.899219 \n\" clip-path=\"url(#pe47c853fae)\" style=\"fill: #a8cee4\"/>\n    <path d=\"M 324.717188 677.899219 \nL 366.567188 677.899219 \nL 366.567188 719.749219 \nL 324.717188 719.749219 \nL 324.717188 677.899219 \n\" clip-path=\"url(#pe47c853fae)\" style=\"fill: #a8cee4\"/>\n    <path d=\"M 366.567188 677.899219 \nL 408.417188 677.899219 \nL 408.417188 719.749219 \nL 366.567188 719.749219 \nL 366.567188 677.899219 \n\" clip-path=\"url(#pe47c853fae)\" style=\"fill: #a3cce3\"/>\n    <path d=\"M 408.417188 677.899219 \nL 450.267188 677.899219 \nL 450.267188 719.749219 \nL 408.417188 719.749219 \nL 408.417188 677.899219 \n\" clip-path=\"url(#pe47c853fae)\" style=\"fill: #abd0e6\"/>\n    <path d=\"M 450.267188 677.899219 \nL 492.117188 677.899219 \nL 492.117188 719.749219 \nL 450.267188 719.749219 \nL 450.267188 677.899219 \n\" clip-path=\"url(#pe47c853fae)\" style=\"fill: #b3d3e8\"/>\n    <path d=\"M 492.117188 677.899219 \nL 533.967188 677.899219 \nL 533.967188 719.749219 \nL 492.117188 719.749219 \nL 492.117188 677.899219 \n\" clip-path=\"url(#pe47c853fae)\" style=\"fill: #b9d6ea\"/>\n    <path d=\"M 533.967188 677.899219 \nL 575.817188 677.899219 \nL 575.817188 719.749219 \nL 533.967188 719.749219 \nL 533.967188 677.899219 \n\" clip-path=\"url(#pe47c853fae)\" style=\"fill: #a8cee4\"/>\n    <path d=\"M 575.817188 677.899219 \nL 617.667188 677.899219 \nL 617.667188 719.749219 \nL 575.817188 719.749219 \nL 575.817188 677.899219 \n\" clip-path=\"url(#pe47c853fae)\" style=\"fill: #a8cee4\"/>\n    <path d=\"M 617.667188 677.899219 \nL 659.517188 677.899219 \nL 659.517188 719.749219 \nL 617.667188 719.749219 \nL 617.667188 677.899219 \n\" clip-path=\"url(#pe47c853fae)\" style=\"fill: #b0d2e7\"/>\n    <path d=\"M 659.517188 677.899219 \nL 701.367188 677.899219 \nL 701.367188 719.749219 \nL 659.517188 719.749219 \nL 659.517188 677.899219 \n\" clip-path=\"url(#pe47c853fae)\" style=\"fill: #b8d5ea\"/>\n    <path d=\"M 701.367188 677.899219 \nL 743.217188 677.899219 \nL 743.217188 719.749219 \nL 701.367188 719.749219 \nL 701.367188 677.899219 \n\" clip-path=\"url(#pe47c853fae)\" style=\"fill: #08306b\"/>\n    <path d=\"M 743.217188 677.899219 \nL 785.067188 677.899219 \nL 785.067188 719.749219 \nL 743.217188 719.749219 \nL 743.217188 677.899219 \n\" clip-path=\"url(#pe47c853fae)\" style=\"fill: #b5d4e9\"/>\n    <path d=\"M 115.467188 719.749219 \nL 157.317188 719.749219 \nL 157.317188 761.599219 \nL 115.467188 761.599219 \nL 115.467188 719.749219 \n\" clip-path=\"url(#pe47c853fae)\" style=\"fill: #add0e6\"/>\n    <path d=\"M 157.317188 719.749219 \nL 199.167188 719.749219 \nL 199.167188 761.599219 \nL 157.317188 761.599219 \nL 157.317188 719.749219 \n\" clip-path=\"url(#pe47c853fae)\" style=\"fill: #d6e5f4\"/>\n    <path d=\"M 199.167188 719.749219 \nL 241.017188 719.749219 \nL 241.017188 761.599219 \nL 199.167188 761.599219 \nL 199.167188 719.749219 \n\" clip-path=\"url(#pe47c853fae)\" style=\"fill: #a9cfe5\"/>\n    <path d=\"M 241.017188 719.749219 \nL 282.867188 719.749219 \nL 282.867188 761.599219 \nL 241.017188 761.599219 \nL 241.017188 719.749219 \n\" clip-path=\"url(#pe47c853fae)\" style=\"fill: #aacfe5\"/>\n    <path d=\"M 282.867188 719.749219 \nL 324.717188 719.749219 \nL 324.717188 761.599219 \nL 282.867188 761.599219 \nL 282.867188 719.749219 \n\" clip-path=\"url(#pe47c853fae)\" style=\"fill: #a1cbe2\"/>\n    <path d=\"M 324.717188 719.749219 \nL 366.567188 719.749219 \nL 366.567188 761.599219 \nL 324.717188 761.599219 \nL 324.717188 719.749219 \n\" clip-path=\"url(#pe47c853fae)\" style=\"fill: #c9ddf0\"/>\n    <path d=\"M 366.567188 719.749219 \nL 408.417188 719.749219 \nL 408.417188 761.599219 \nL 366.567188 761.599219 \nL 366.567188 719.749219 \n\" clip-path=\"url(#pe47c853fae)\" style=\"fill: #58a1cf\"/>\n    <path d=\"M 408.417188 719.749219 \nL 450.267188 719.749219 \nL 450.267188 761.599219 \nL 408.417188 761.599219 \nL 408.417188 719.749219 \n\" clip-path=\"url(#pe47c853fae)\" style=\"fill: #caddf0\"/>\n    <path d=\"M 450.267188 719.749219 \nL 492.117188 719.749219 \nL 492.117188 761.599219 \nL 450.267188 761.599219 \nL 450.267188 719.749219 \n\" clip-path=\"url(#pe47c853fae)\" style=\"fill: #f5fafe\"/>\n    <path d=\"M 492.117188 719.749219 \nL 533.967188 719.749219 \nL 533.967188 761.599219 \nL 492.117188 761.599219 \nL 492.117188 719.749219 \n\" clip-path=\"url(#pe47c853fae)\" style=\"fill: #dbe9f6\"/>\n    <path d=\"M 533.967188 719.749219 \nL 575.817188 719.749219 \nL 575.817188 761.599219 \nL 533.967188 761.599219 \nL 533.967188 719.749219 \n\" clip-path=\"url(#pe47c853fae)\" style=\"fill: #b7d4ea\"/>\n    <path d=\"M 575.817188 719.749219 \nL 617.667188 719.749219 \nL 617.667188 761.599219 \nL 575.817188 761.599219 \nL 575.817188 719.749219 \n\" clip-path=\"url(#pe47c853fae)\" style=\"fill: #b7d4ea\"/>\n    <path d=\"M 617.667188 719.749219 \nL 659.517188 719.749219 \nL 659.517188 761.599219 \nL 617.667188 761.599219 \nL 617.667188 719.749219 \n\" clip-path=\"url(#pe47c853fae)\" style=\"fill: #d0e2f2\"/>\n    <path d=\"M 659.517188 719.749219 \nL 701.367188 719.749219 \nL 701.367188 761.599219 \nL 659.517188 761.599219 \nL 659.517188 719.749219 \n\" clip-path=\"url(#pe47c853fae)\" style=\"fill: #f7fbff\"/>\n    <path d=\"M 701.367188 719.749219 \nL 743.217188 719.749219 \nL 743.217188 761.599219 \nL 701.367188 761.599219 \nL 701.367188 719.749219 \n\" clip-path=\"url(#pe47c853fae)\" style=\"fill: #b5d4e9\"/>\n    <path d=\"M 743.217188 719.749219 \nL 785.067188 719.749219 \nL 785.067188 761.599219 \nL 743.217188 761.599219 \nL 743.217188 719.749219 \n\" clip-path=\"url(#pe47c853fae)\" style=\"fill: #08306b\"/>\n   </g>\n   <g id=\"matplotlib.axis_1\">\n    <g id=\"xtick_1\">\n     <g id=\"line2d_1\">\n      <defs>\n       <path id=\"m7f6bdea456\" d=\"M 0 0 \nL 0 3.5 \n\" style=\"stroke: #000000; stroke-width: 0.8\"/>\n      </defs>\n      <g>\n       <use xlink:href=\"#m7f6bdea456\" x=\"136.392188\" y=\"761.599219\" style=\"stroke: #000000; stroke-width: 0.8\"/>\n      </g>\n     </g>\n     <g id=\"text_1\">\n      <!-- Driver_ID -->\n      <g transform=\"translate(139.0125 815.021094) rotate(-90) scale(0.1 -0.1)\">\n       <defs>\n        <path id=\"DejaVuSans-44\" d=\"M 1259 4147 \nL 1259 519 \nL 2022 519 \nQ 2988 519 3436 956 \nQ 3884 1394 3884 2338 \nQ 3884 3275 3436 3711 \nQ 2988 4147 2022 4147 \nL 1259 4147 \nz\nM 628 4666 \nL 1925 4666 \nQ 3281 4666 3915 4102 \nQ 4550 3538 4550 2338 \nQ 4550 1131 3912 565 \nQ 3275 0 1925 0 \nL 628 0 \nL 628 4666 \nz\n\" transform=\"scale(0.015625)\"/>\n        <path id=\"DejaVuSans-72\" d=\"M 2631 2963 \nQ 2534 3019 2420 3045 \nQ 2306 3072 2169 3072 \nQ 1681 3072 1420 2755 \nQ 1159 2438 1159 1844 \nL 1159 0 \nL 581 0 \nL 581 3500 \nL 1159 3500 \nL 1159 2956 \nQ 1341 3275 1631 3429 \nQ 1922 3584 2338 3584 \nQ 2397 3584 2469 3576 \nQ 2541 3569 2628 3553 \nL 2631 2963 \nz\n\" transform=\"scale(0.015625)\"/>\n        <path id=\"DejaVuSans-69\" d=\"M 603 3500 \nL 1178 3500 \nL 1178 0 \nL 603 0 \nL 603 3500 \nz\nM 603 4863 \nL 1178 4863 \nL 1178 4134 \nL 603 4134 \nL 603 4863 \nz\n\" transform=\"scale(0.015625)\"/>\n        <path id=\"DejaVuSans-76\" d=\"M 191 3500 \nL 800 3500 \nL 1894 563 \nL 2988 3500 \nL 3597 3500 \nL 2284 0 \nL 1503 0 \nL 191 3500 \nz\n\" transform=\"scale(0.015625)\"/>\n        <path id=\"DejaVuSans-65\" d=\"M 3597 1894 \nL 3597 1613 \nL 953 1613 \nQ 991 1019 1311 708 \nQ 1631 397 2203 397 \nQ 2534 397 2845 478 \nQ 3156 559 3463 722 \nL 3463 178 \nQ 3153 47 2828 -22 \nQ 2503 -91 2169 -91 \nQ 1331 -91 842 396 \nQ 353 884 353 1716 \nQ 353 2575 817 3079 \nQ 1281 3584 2069 3584 \nQ 2775 3584 3186 3129 \nQ 3597 2675 3597 1894 \nz\nM 3022 2063 \nQ 3016 2534 2758 2815 \nQ 2500 3097 2075 3097 \nQ 1594 3097 1305 2825 \nQ 1016 2553 972 2059 \nL 3022 2063 \nz\n\" transform=\"scale(0.015625)\"/>\n        <path id=\"DejaVuSans-5f\" d=\"M 3263 -1063 \nL 3263 -1509 \nL -63 -1509 \nL -63 -1063 \nL 3263 -1063 \nz\n\" transform=\"scale(0.015625)\"/>\n        <path id=\"DejaVuSans-49\" d=\"M 628 4666 \nL 1259 4666 \nL 1259 0 \nL 628 0 \nL 628 4666 \nz\n\" transform=\"scale(0.015625)\"/>\n       </defs>\n       <use xlink:href=\"#DejaVuSans-44\"/>\n       <use xlink:href=\"#DejaVuSans-72\" x=\"77.001953\"/>\n       <use xlink:href=\"#DejaVuSans-69\" x=\"118.115234\"/>\n       <use xlink:href=\"#DejaVuSans-76\" x=\"145.898438\"/>\n       <use xlink:href=\"#DejaVuSans-65\" x=\"205.078125\"/>\n       <use xlink:href=\"#DejaVuSans-72\" x=\"266.601562\"/>\n       <use xlink:href=\"#DejaVuSans-5f\" x=\"307.714844\"/>\n       <use xlink:href=\"#DejaVuSans-49\" x=\"357.714844\"/>\n       <use xlink:href=\"#DejaVuSans-44\" x=\"387.207031\"/>\n      </g>\n     </g>\n    </g>\n    <g id=\"xtick_2\">\n     <g id=\"line2d_2\">\n      <g>\n       <use xlink:href=\"#m7f6bdea456\" x=\"178.242188\" y=\"761.599219\" style=\"stroke: #000000; stroke-width: 0.8\"/>\n      </g>\n     </g>\n     <g id=\"text_2\">\n      <!-- Age -->\n      <g transform=\"translate(181.001563 787.941406) rotate(-90) scale(0.1 -0.1)\">\n       <defs>\n        <path id=\"DejaVuSans-41\" d=\"M 2188 4044 \nL 1331 1722 \nL 3047 1722 \nL 2188 4044 \nz\nM 1831 4666 \nL 2547 4666 \nL 4325 0 \nL 3669 0 \nL 3244 1197 \nL 1141 1197 \nL 716 0 \nL 50 0 \nL 1831 4666 \nz\n\" transform=\"scale(0.015625)\"/>\n        <path id=\"DejaVuSans-67\" d=\"M 2906 1791 \nQ 2906 2416 2648 2759 \nQ 2391 3103 1925 3103 \nQ 1463 3103 1205 2759 \nQ 947 2416 947 1791 \nQ 947 1169 1205 825 \nQ 1463 481 1925 481 \nQ 2391 481 2648 825 \nQ 2906 1169 2906 1791 \nz\nM 3481 434 \nQ 3481 -459 3084 -895 \nQ 2688 -1331 1869 -1331 \nQ 1566 -1331 1297 -1286 \nQ 1028 -1241 775 -1147 \nL 775 -588 \nQ 1028 -725 1275 -790 \nQ 1522 -856 1778 -856 \nQ 2344 -856 2625 -561 \nQ 2906 -266 2906 331 \nL 2906 616 \nQ 2728 306 2450 153 \nQ 2172 0 1784 0 \nQ 1141 0 747 490 \nQ 353 981 353 1791 \nQ 353 2603 747 3093 \nQ 1141 3584 1784 3584 \nQ 2172 3584 2450 3431 \nQ 2728 3278 2906 2969 \nL 2906 3500 \nL 3481 3500 \nL 3481 434 \nz\n\" transform=\"scale(0.015625)\"/>\n       </defs>\n       <use xlink:href=\"#DejaVuSans-41\"/>\n       <use xlink:href=\"#DejaVuSans-67\" x=\"68.408203\"/>\n       <use xlink:href=\"#DejaVuSans-65\" x=\"131.884766\"/>\n      </g>\n     </g>\n    </g>\n    <g id=\"xtick_3\">\n     <g id=\"line2d_3\">\n      <g>\n       <use xlink:href=\"#m7f6bdea456\" x=\"220.092188\" y=\"761.599219\" style=\"stroke: #000000; stroke-width: 0.8\"/>\n      </g>\n     </g>\n     <g id=\"text_3\">\n      <!-- Gender -->\n      <g transform=\"translate(222.851563 805.450781) rotate(-90) scale(0.1 -0.1)\">\n       <defs>\n        <path id=\"DejaVuSans-47\" d=\"M 3809 666 \nL 3809 1919 \nL 2778 1919 \nL 2778 2438 \nL 4434 2438 \nL 4434 434 \nQ 4069 175 3628 42 \nQ 3188 -91 2688 -91 \nQ 1594 -91 976 548 \nQ 359 1188 359 2328 \nQ 359 3472 976 4111 \nQ 1594 4750 2688 4750 \nQ 3144 4750 3555 4637 \nQ 3966 4525 4313 4306 \nL 4313 3634 \nQ 3963 3931 3569 4081 \nQ 3175 4231 2741 4231 \nQ 1884 4231 1454 3753 \nQ 1025 3275 1025 2328 \nQ 1025 1384 1454 906 \nQ 1884 428 2741 428 \nQ 3075 428 3337 486 \nQ 3600 544 3809 666 \nz\n\" transform=\"scale(0.015625)\"/>\n        <path id=\"DejaVuSans-6e\" d=\"M 3513 2113 \nL 3513 0 \nL 2938 0 \nL 2938 2094 \nQ 2938 2591 2744 2837 \nQ 2550 3084 2163 3084 \nQ 1697 3084 1428 2787 \nQ 1159 2491 1159 1978 \nL 1159 0 \nL 581 0 \nL 581 3500 \nL 1159 3500 \nL 1159 2956 \nQ 1366 3272 1645 3428 \nQ 1925 3584 2291 3584 \nQ 2894 3584 3203 3211 \nQ 3513 2838 3513 2113 \nz\n\" transform=\"scale(0.015625)\"/>\n        <path id=\"DejaVuSans-64\" d=\"M 2906 2969 \nL 2906 4863 \nL 3481 4863 \nL 3481 0 \nL 2906 0 \nL 2906 525 \nQ 2725 213 2448 61 \nQ 2172 -91 1784 -91 \nQ 1150 -91 751 415 \nQ 353 922 353 1747 \nQ 353 2572 751 3078 \nQ 1150 3584 1784 3584 \nQ 2172 3584 2448 3432 \nQ 2725 3281 2906 2969 \nz\nM 947 1747 \nQ 947 1113 1208 752 \nQ 1469 391 1925 391 \nQ 2381 391 2643 752 \nQ 2906 1113 2906 1747 \nQ 2906 2381 2643 2742 \nQ 2381 3103 1925 3103 \nQ 1469 3103 1208 2742 \nQ 947 2381 947 1747 \nz\n\" transform=\"scale(0.015625)\"/>\n       </defs>\n       <use xlink:href=\"#DejaVuSans-47\"/>\n       <use xlink:href=\"#DejaVuSans-65\" x=\"77.490234\"/>\n       <use xlink:href=\"#DejaVuSans-6e\" x=\"139.013672\"/>\n       <use xlink:href=\"#DejaVuSans-64\" x=\"202.392578\"/>\n       <use xlink:href=\"#DejaVuSans-65\" x=\"265.869141\"/>\n       <use xlink:href=\"#DejaVuSans-72\" x=\"327.392578\"/>\n      </g>\n     </g>\n    </g>\n    <g id=\"xtick_4\">\n     <g id=\"line2d_4\">\n      <g>\n       <use xlink:href=\"#m7f6bdea456\" x=\"261.942188\" y=\"761.599219\" style=\"stroke: #000000; stroke-width: 0.8\"/>\n      </g>\n     </g>\n     <g id=\"text_4\">\n      <!-- City -->\n      <g transform=\"translate(264.701563 788.199219) rotate(-90) scale(0.1 -0.1)\">\n       <defs>\n        <path id=\"DejaVuSans-43\" d=\"M 4122 4306 \nL 4122 3641 \nQ 3803 3938 3442 4084 \nQ 3081 4231 2675 4231 \nQ 1875 4231 1450 3742 \nQ 1025 3253 1025 2328 \nQ 1025 1406 1450 917 \nQ 1875 428 2675 428 \nQ 3081 428 3442 575 \nQ 3803 722 4122 1019 \nL 4122 359 \nQ 3791 134 3420 21 \nQ 3050 -91 2638 -91 \nQ 1578 -91 968 557 \nQ 359 1206 359 2328 \nQ 359 3453 968 4101 \nQ 1578 4750 2638 4750 \nQ 3056 4750 3426 4639 \nQ 3797 4528 4122 4306 \nz\n\" transform=\"scale(0.015625)\"/>\n        <path id=\"DejaVuSans-74\" d=\"M 1172 4494 \nL 1172 3500 \nL 2356 3500 \nL 2356 3053 \nL 1172 3053 \nL 1172 1153 \nQ 1172 725 1289 603 \nQ 1406 481 1766 481 \nL 2356 481 \nL 2356 0 \nL 1766 0 \nQ 1100 0 847 248 \nQ 594 497 594 1153 \nL 594 3053 \nL 172 3053 \nL 172 3500 \nL 594 3500 \nL 594 4494 \nL 1172 4494 \nz\n\" transform=\"scale(0.015625)\"/>\n        <path id=\"DejaVuSans-79\" d=\"M 2059 -325 \nQ 1816 -950 1584 -1140 \nQ 1353 -1331 966 -1331 \nL 506 -1331 \nL 506 -850 \nL 844 -850 \nQ 1081 -850 1212 -737 \nQ 1344 -625 1503 -206 \nL 1606 56 \nL 191 3500 \nL 800 3500 \nL 1894 763 \nL 2988 3500 \nL 3597 3500 \nL 2059 -325 \nz\n\" transform=\"scale(0.015625)\"/>\n       </defs>\n       <use xlink:href=\"#DejaVuSans-43\"/>\n       <use xlink:href=\"#DejaVuSans-69\" x=\"69.824219\"/>\n       <use xlink:href=\"#DejaVuSans-74\" x=\"97.607422\"/>\n       <use xlink:href=\"#DejaVuSans-79\" x=\"136.816406\"/>\n      </g>\n     </g>\n    </g>\n    <g id=\"xtick_5\">\n     <g id=\"line2d_5\">\n      <g>\n       <use xlink:href=\"#m7f6bdea456\" x=\"303.792188\" y=\"761.599219\" style=\"stroke: #000000; stroke-width: 0.8\"/>\n      </g>\n     </g>\n     <g id=\"text_5\">\n      <!-- Education_Level -->\n      <g transform=\"translate(306.4125 849.785156) rotate(-90) scale(0.1 -0.1)\">\n       <defs>\n        <path id=\"DejaVuSans-45\" d=\"M 628 4666 \nL 3578 4666 \nL 3578 4134 \nL 1259 4134 \nL 1259 2753 \nL 3481 2753 \nL 3481 2222 \nL 1259 2222 \nL 1259 531 \nL 3634 531 \nL 3634 0 \nL 628 0 \nL 628 4666 \nz\n\" transform=\"scale(0.015625)\"/>\n        <path id=\"DejaVuSans-75\" d=\"M 544 1381 \nL 544 3500 \nL 1119 3500 \nL 1119 1403 \nQ 1119 906 1312 657 \nQ 1506 409 1894 409 \nQ 2359 409 2629 706 \nQ 2900 1003 2900 1516 \nL 2900 3500 \nL 3475 3500 \nL 3475 0 \nL 2900 0 \nL 2900 538 \nQ 2691 219 2414 64 \nQ 2138 -91 1772 -91 \nQ 1169 -91 856 284 \nQ 544 659 544 1381 \nz\nM 1991 3584 \nL 1991 3584 \nz\n\" transform=\"scale(0.015625)\"/>\n        <path id=\"DejaVuSans-63\" d=\"M 3122 3366 \nL 3122 2828 \nQ 2878 2963 2633 3030 \nQ 2388 3097 2138 3097 \nQ 1578 3097 1268 2742 \nQ 959 2388 959 1747 \nQ 959 1106 1268 751 \nQ 1578 397 2138 397 \nQ 2388 397 2633 464 \nQ 2878 531 3122 666 \nL 3122 134 \nQ 2881 22 2623 -34 \nQ 2366 -91 2075 -91 \nQ 1284 -91 818 406 \nQ 353 903 353 1747 \nQ 353 2603 823 3093 \nQ 1294 3584 2113 3584 \nQ 2378 3584 2631 3529 \nQ 2884 3475 3122 3366 \nz\n\" transform=\"scale(0.015625)\"/>\n        <path id=\"DejaVuSans-61\" d=\"M 2194 1759 \nQ 1497 1759 1228 1600 \nQ 959 1441 959 1056 \nQ 959 750 1161 570 \nQ 1363 391 1709 391 \nQ 2188 391 2477 730 \nQ 2766 1069 2766 1631 \nL 2766 1759 \nL 2194 1759 \nz\nM 3341 1997 \nL 3341 0 \nL 2766 0 \nL 2766 531 \nQ 2569 213 2275 61 \nQ 1981 -91 1556 -91 \nQ 1019 -91 701 211 \nQ 384 513 384 1019 \nQ 384 1609 779 1909 \nQ 1175 2209 1959 2209 \nL 2766 2209 \nL 2766 2266 \nQ 2766 2663 2505 2880 \nQ 2244 3097 1772 3097 \nQ 1472 3097 1187 3025 \nQ 903 2953 641 2809 \nL 641 3341 \nQ 956 3463 1253 3523 \nQ 1550 3584 1831 3584 \nQ 2591 3584 2966 3190 \nQ 3341 2797 3341 1997 \nz\n\" transform=\"scale(0.015625)\"/>\n        <path id=\"DejaVuSans-6f\" d=\"M 1959 3097 \nQ 1497 3097 1228 2736 \nQ 959 2375 959 1747 \nQ 959 1119 1226 758 \nQ 1494 397 1959 397 \nQ 2419 397 2687 759 \nQ 2956 1122 2956 1747 \nQ 2956 2369 2687 2733 \nQ 2419 3097 1959 3097 \nz\nM 1959 3584 \nQ 2709 3584 3137 3096 \nQ 3566 2609 3566 1747 \nQ 3566 888 3137 398 \nQ 2709 -91 1959 -91 \nQ 1206 -91 779 398 \nQ 353 888 353 1747 \nQ 353 2609 779 3096 \nQ 1206 3584 1959 3584 \nz\n\" transform=\"scale(0.015625)\"/>\n        <path id=\"DejaVuSans-4c\" d=\"M 628 4666 \nL 1259 4666 \nL 1259 531 \nL 3531 531 \nL 3531 0 \nL 628 0 \nL 628 4666 \nz\n\" transform=\"scale(0.015625)\"/>\n        <path id=\"DejaVuSans-6c\" d=\"M 603 4863 \nL 1178 4863 \nL 1178 0 \nL 603 0 \nL 603 4863 \nz\n\" transform=\"scale(0.015625)\"/>\n       </defs>\n       <use xlink:href=\"#DejaVuSans-45\"/>\n       <use xlink:href=\"#DejaVuSans-64\" x=\"63.183594\"/>\n       <use xlink:href=\"#DejaVuSans-75\" x=\"126.660156\"/>\n       <use xlink:href=\"#DejaVuSans-63\" x=\"190.039062\"/>\n       <use xlink:href=\"#DejaVuSans-61\" x=\"245.019531\"/>\n       <use xlink:href=\"#DejaVuSans-74\" x=\"306.298828\"/>\n       <use xlink:href=\"#DejaVuSans-69\" x=\"345.507812\"/>\n       <use xlink:href=\"#DejaVuSans-6f\" x=\"373.291016\"/>\n       <use xlink:href=\"#DejaVuSans-6e\" x=\"434.472656\"/>\n       <use xlink:href=\"#DejaVuSans-5f\" x=\"497.851562\"/>\n       <use xlink:href=\"#DejaVuSans-4c\" x=\"547.851562\"/>\n       <use xlink:href=\"#DejaVuSans-65\" x=\"601.814453\"/>\n       <use xlink:href=\"#DejaVuSans-76\" x=\"663.337891\"/>\n       <use xlink:href=\"#DejaVuSans-65\" x=\"722.517578\"/>\n       <use xlink:href=\"#DejaVuSans-6c\" x=\"784.041016\"/>\n      </g>\n     </g>\n    </g>\n    <g id=\"xtick_6\">\n     <g id=\"line2d_6\">\n      <g>\n       <use xlink:href=\"#m7f6bdea456\" x=\"345.642188\" y=\"761.599219\" style=\"stroke: #000000; stroke-width: 0.8\"/>\n      </g>\n     </g>\n     <g id=\"text_6\">\n      <!-- Income -->\n      <g transform=\"translate(348.401563 805.397656) rotate(-90) scale(0.1 -0.1)\">\n       <defs>\n        <path id=\"DejaVuSans-6d\" d=\"M 3328 2828 \nQ 3544 3216 3844 3400 \nQ 4144 3584 4550 3584 \nQ 5097 3584 5394 3201 \nQ 5691 2819 5691 2113 \nL 5691 0 \nL 5113 0 \nL 5113 2094 \nQ 5113 2597 4934 2840 \nQ 4756 3084 4391 3084 \nQ 3944 3084 3684 2787 \nQ 3425 2491 3425 1978 \nL 3425 0 \nL 2847 0 \nL 2847 2094 \nQ 2847 2600 2669 2842 \nQ 2491 3084 2119 3084 \nQ 1678 3084 1418 2786 \nQ 1159 2488 1159 1978 \nL 1159 0 \nL 581 0 \nL 581 3500 \nL 1159 3500 \nL 1159 2956 \nQ 1356 3278 1631 3431 \nQ 1906 3584 2284 3584 \nQ 2666 3584 2933 3390 \nQ 3200 3197 3328 2828 \nz\n\" transform=\"scale(0.015625)\"/>\n       </defs>\n       <use xlink:href=\"#DejaVuSans-49\"/>\n       <use xlink:href=\"#DejaVuSans-6e\" x=\"29.492188\"/>\n       <use xlink:href=\"#DejaVuSans-63\" x=\"92.871094\"/>\n       <use xlink:href=\"#DejaVuSans-6f\" x=\"147.851562\"/>\n       <use xlink:href=\"#DejaVuSans-6d\" x=\"209.033203\"/>\n       <use xlink:href=\"#DejaVuSans-65\" x=\"306.445312\"/>\n      </g>\n     </g>\n    </g>\n    <g id=\"xtick_7\">\n     <g id=\"line2d_7\">\n      <g>\n       <use xlink:href=\"#m7f6bdea456\" x=\"387.492188\" y=\"761.599219\" style=\"stroke: #000000; stroke-width: 0.8\"/>\n      </g>\n     </g>\n     <g id=\"text_7\">\n      <!-- Joining Designation -->\n      <g transform=\"translate(390.251563 865.235156) rotate(-90) scale(0.1 -0.1)\">\n       <defs>\n        <path id=\"DejaVuSans-4a\" d=\"M 628 4666 \nL 1259 4666 \nL 1259 325 \nQ 1259 -519 939 -900 \nQ 619 -1281 -91 -1281 \nL -331 -1281 \nL -331 -750 \nL -134 -750 \nQ 284 -750 456 -515 \nQ 628 -281 628 325 \nL 628 4666 \nz\n\" transform=\"scale(0.015625)\"/>\n        <path id=\"DejaVuSans-20\" transform=\"scale(0.015625)\"/>\n        <path id=\"DejaVuSans-73\" d=\"M 2834 3397 \nL 2834 2853 \nQ 2591 2978 2328 3040 \nQ 2066 3103 1784 3103 \nQ 1356 3103 1142 2972 \nQ 928 2841 928 2578 \nQ 928 2378 1081 2264 \nQ 1234 2150 1697 2047 \nL 1894 2003 \nQ 2506 1872 2764 1633 \nQ 3022 1394 3022 966 \nQ 3022 478 2636 193 \nQ 2250 -91 1575 -91 \nQ 1294 -91 989 -36 \nQ 684 19 347 128 \nL 347 722 \nQ 666 556 975 473 \nQ 1284 391 1588 391 \nQ 1994 391 2212 530 \nQ 2431 669 2431 922 \nQ 2431 1156 2273 1281 \nQ 2116 1406 1581 1522 \nL 1381 1569 \nQ 847 1681 609 1914 \nQ 372 2147 372 2553 \nQ 372 3047 722 3315 \nQ 1072 3584 1716 3584 \nQ 2034 3584 2315 3537 \nQ 2597 3491 2834 3397 \nz\n\" transform=\"scale(0.015625)\"/>\n       </defs>\n       <use xlink:href=\"#DejaVuSans-4a\"/>\n       <use xlink:href=\"#DejaVuSans-6f\" x=\"29.492188\"/>\n       <use xlink:href=\"#DejaVuSans-69\" x=\"90.673828\"/>\n       <use xlink:href=\"#DejaVuSans-6e\" x=\"118.457031\"/>\n       <use xlink:href=\"#DejaVuSans-69\" x=\"181.835938\"/>\n       <use xlink:href=\"#DejaVuSans-6e\" x=\"209.619141\"/>\n       <use xlink:href=\"#DejaVuSans-67\" x=\"272.998047\"/>\n       <use xlink:href=\"#DejaVuSans-20\" x=\"336.474609\"/>\n       <use xlink:href=\"#DejaVuSans-44\" x=\"368.261719\"/>\n       <use xlink:href=\"#DejaVuSans-65\" x=\"445.263672\"/>\n       <use xlink:href=\"#DejaVuSans-73\" x=\"506.787109\"/>\n       <use xlink:href=\"#DejaVuSans-69\" x=\"558.886719\"/>\n       <use xlink:href=\"#DejaVuSans-67\" x=\"586.669922\"/>\n       <use xlink:href=\"#DejaVuSans-6e\" x=\"650.146484\"/>\n       <use xlink:href=\"#DejaVuSans-61\" x=\"713.525391\"/>\n       <use xlink:href=\"#DejaVuSans-74\" x=\"774.804688\"/>\n       <use xlink:href=\"#DejaVuSans-69\" x=\"814.013672\"/>\n       <use xlink:href=\"#DejaVuSans-6f\" x=\"841.796875\"/>\n       <use xlink:href=\"#DejaVuSans-6e\" x=\"902.978516\"/>\n      </g>\n     </g>\n    </g>\n    <g id=\"xtick_8\">\n     <g id=\"line2d_8\">\n      <g>\n       <use xlink:href=\"#m7f6bdea456\" x=\"429.342188\" y=\"761.599219\" style=\"stroke: #000000; stroke-width: 0.8\"/>\n      </g>\n     </g>\n     <g id=\"text_8\">\n      <!-- Grade -->\n      <g transform=\"translate(432.101563 799.088281) rotate(-90) scale(0.1 -0.1)\">\n       <use xlink:href=\"#DejaVuSans-47\"/>\n       <use xlink:href=\"#DejaVuSans-72\" x=\"77.490234\"/>\n       <use xlink:href=\"#DejaVuSans-61\" x=\"118.603516\"/>\n       <use xlink:href=\"#DejaVuSans-64\" x=\"179.882812\"/>\n       <use xlink:href=\"#DejaVuSans-65\" x=\"243.359375\"/>\n      </g>\n     </g>\n    </g>\n    <g id=\"xtick_9\">\n     <g id=\"line2d_9\">\n      <g>\n       <use xlink:href=\"#m7f6bdea456\" x=\"471.192188\" y=\"761.599219\" style=\"stroke: #000000; stroke-width: 0.8\"/>\n      </g>\n     </g>\n     <g id=\"text_9\">\n      <!-- Total Business Value -->\n      <g transform=\"translate(473.951563 869.866406) rotate(-90) scale(0.1 -0.1)\">\n       <defs>\n        <path id=\"DejaVuSans-54\" d=\"M -19 4666 \nL 3928 4666 \nL 3928 4134 \nL 2272 4134 \nL 2272 0 \nL 1638 0 \nL 1638 4134 \nL -19 4134 \nL -19 4666 \nz\n\" transform=\"scale(0.015625)\"/>\n        <path id=\"DejaVuSans-42\" d=\"M 1259 2228 \nL 1259 519 \nL 2272 519 \nQ 2781 519 3026 730 \nQ 3272 941 3272 1375 \nQ 3272 1813 3026 2020 \nQ 2781 2228 2272 2228 \nL 1259 2228 \nz\nM 1259 4147 \nL 1259 2741 \nL 2194 2741 \nQ 2656 2741 2882 2914 \nQ 3109 3088 3109 3444 \nQ 3109 3797 2882 3972 \nQ 2656 4147 2194 4147 \nL 1259 4147 \nz\nM 628 4666 \nL 2241 4666 \nQ 2963 4666 3353 4366 \nQ 3744 4066 3744 3513 \nQ 3744 3084 3544 2831 \nQ 3344 2578 2956 2516 \nQ 3422 2416 3680 2098 \nQ 3938 1781 3938 1306 \nQ 3938 681 3513 340 \nQ 3088 0 2303 0 \nL 628 0 \nL 628 4666 \nz\n\" transform=\"scale(0.015625)\"/>\n        <path id=\"DejaVuSans-56\" d=\"M 1831 0 \nL 50 4666 \nL 709 4666 \nL 2188 738 \nL 3669 4666 \nL 4325 4666 \nL 2547 0 \nL 1831 0 \nz\n\" transform=\"scale(0.015625)\"/>\n       </defs>\n       <use xlink:href=\"#DejaVuSans-54\"/>\n       <use xlink:href=\"#DejaVuSans-6f\" x=\"44.083984\"/>\n       <use xlink:href=\"#DejaVuSans-74\" x=\"105.265625\"/>\n       <use xlink:href=\"#DejaVuSans-61\" x=\"144.474609\"/>\n       <use xlink:href=\"#DejaVuSans-6c\" x=\"205.753906\"/>\n       <use xlink:href=\"#DejaVuSans-20\" x=\"233.537109\"/>\n       <use xlink:href=\"#DejaVuSans-42\" x=\"265.324219\"/>\n       <use xlink:href=\"#DejaVuSans-75\" x=\"333.927734\"/>\n       <use xlink:href=\"#DejaVuSans-73\" x=\"397.306641\"/>\n       <use xlink:href=\"#DejaVuSans-69\" x=\"449.40625\"/>\n       <use xlink:href=\"#DejaVuSans-6e\" x=\"477.189453\"/>\n       <use xlink:href=\"#DejaVuSans-65\" x=\"540.568359\"/>\n       <use xlink:href=\"#DejaVuSans-73\" x=\"602.091797\"/>\n       <use xlink:href=\"#DejaVuSans-73\" x=\"654.191406\"/>\n       <use xlink:href=\"#DejaVuSans-20\" x=\"706.291016\"/>\n       <use xlink:href=\"#DejaVuSans-56\" x=\"738.078125\"/>\n       <use xlink:href=\"#DejaVuSans-61\" x=\"798.736328\"/>\n       <use xlink:href=\"#DejaVuSans-6c\" x=\"860.015625\"/>\n       <use xlink:href=\"#DejaVuSans-75\" x=\"887.798828\"/>\n       <use xlink:href=\"#DejaVuSans-65\" x=\"951.177734\"/>\n      </g>\n     </g>\n    </g>\n    <g id=\"xtick_10\">\n     <g id=\"line2d_10\">\n      <g>\n       <use xlink:href=\"#m7f6bdea456\" x=\"513.042188\" y=\"761.599219\" style=\"stroke: #000000; stroke-width: 0.8\"/>\n      </g>\n     </g>\n     <g id=\"text_10\">\n      <!-- Quarterly Rating -->\n      <g transform=\"translate(515.801563 851.342969) rotate(-90) scale(0.1 -0.1)\">\n       <defs>\n        <path id=\"DejaVuSans-51\" d=\"M 2522 4238 \nQ 1834 4238 1429 3725 \nQ 1025 3213 1025 2328 \nQ 1025 1447 1429 934 \nQ 1834 422 2522 422 \nQ 3209 422 3611 934 \nQ 4013 1447 4013 2328 \nQ 4013 3213 3611 3725 \nQ 3209 4238 2522 4238 \nz\nM 3406 84 \nL 4238 -825 \nL 3475 -825 \nL 2784 -78 \nQ 2681 -84 2626 -87 \nQ 2572 -91 2522 -91 \nQ 1538 -91 948 567 \nQ 359 1225 359 2328 \nQ 359 3434 948 4092 \nQ 1538 4750 2522 4750 \nQ 3503 4750 4090 4092 \nQ 4678 3434 4678 2328 \nQ 4678 1516 4351 937 \nQ 4025 359 3406 84 \nz\n\" transform=\"scale(0.015625)\"/>\n        <path id=\"DejaVuSans-52\" d=\"M 2841 2188 \nQ 3044 2119 3236 1894 \nQ 3428 1669 3622 1275 \nL 4263 0 \nL 3584 0 \nL 2988 1197 \nQ 2756 1666 2539 1819 \nQ 2322 1972 1947 1972 \nL 1259 1972 \nL 1259 0 \nL 628 0 \nL 628 4666 \nL 2053 4666 \nQ 2853 4666 3247 4331 \nQ 3641 3997 3641 3322 \nQ 3641 2881 3436 2590 \nQ 3231 2300 2841 2188 \nz\nM 1259 4147 \nL 1259 2491 \nL 2053 2491 \nQ 2509 2491 2742 2702 \nQ 2975 2913 2975 3322 \nQ 2975 3731 2742 3939 \nQ 2509 4147 2053 4147 \nL 1259 4147 \nz\n\" transform=\"scale(0.015625)\"/>\n       </defs>\n       <use xlink:href=\"#DejaVuSans-51\"/>\n       <use xlink:href=\"#DejaVuSans-75\" x=\"78.710938\"/>\n       <use xlink:href=\"#DejaVuSans-61\" x=\"142.089844\"/>\n       <use xlink:href=\"#DejaVuSans-72\" x=\"203.369141\"/>\n       <use xlink:href=\"#DejaVuSans-74\" x=\"244.482422\"/>\n       <use xlink:href=\"#DejaVuSans-65\" x=\"283.691406\"/>\n       <use xlink:href=\"#DejaVuSans-72\" x=\"345.214844\"/>\n       <use xlink:href=\"#DejaVuSans-6c\" x=\"386.328125\"/>\n       <use xlink:href=\"#DejaVuSans-79\" x=\"414.111328\"/>\n       <use xlink:href=\"#DejaVuSans-20\" x=\"473.291016\"/>\n       <use xlink:href=\"#DejaVuSans-52\" x=\"505.078125\"/>\n       <use xlink:href=\"#DejaVuSans-61\" x=\"572.310547\"/>\n       <use xlink:href=\"#DejaVuSans-74\" x=\"633.589844\"/>\n       <use xlink:href=\"#DejaVuSans-69\" x=\"672.798828\"/>\n       <use xlink:href=\"#DejaVuSans-6e\" x=\"700.582031\"/>\n       <use xlink:href=\"#DejaVuSans-67\" x=\"763.960938\"/>\n      </g>\n     </g>\n    </g>\n    <g id=\"xtick_11\">\n     <g id=\"line2d_11\">\n      <g>\n       <use xlink:href=\"#m7f6bdea456\" x=\"554.892188\" y=\"761.599219\" style=\"stroke: #000000; stroke-width: 0.8\"/>\n      </g>\n     </g>\n     <g id=\"text_11\">\n      <!-- Income_decrease -->\n      <g transform=\"translate(557.5125 855.927344) rotate(-90) scale(0.1 -0.1)\">\n       <use xlink:href=\"#DejaVuSans-49\"/>\n       <use xlink:href=\"#DejaVuSans-6e\" x=\"29.492188\"/>\n       <use xlink:href=\"#DejaVuSans-63\" x=\"92.871094\"/>\n       <use xlink:href=\"#DejaVuSans-6f\" x=\"147.851562\"/>\n       <use xlink:href=\"#DejaVuSans-6d\" x=\"209.033203\"/>\n       <use xlink:href=\"#DejaVuSans-65\" x=\"306.445312\"/>\n       <use xlink:href=\"#DejaVuSans-5f\" x=\"367.96875\"/>\n       <use xlink:href=\"#DejaVuSans-64\" x=\"417.96875\"/>\n       <use xlink:href=\"#DejaVuSans-65\" x=\"481.445312\"/>\n       <use xlink:href=\"#DejaVuSans-63\" x=\"542.96875\"/>\n       <use xlink:href=\"#DejaVuSans-72\" x=\"597.949219\"/>\n       <use xlink:href=\"#DejaVuSans-65\" x=\"636.8125\"/>\n       <use xlink:href=\"#DejaVuSans-61\" x=\"698.335938\"/>\n       <use xlink:href=\"#DejaVuSans-73\" x=\"759.615234\"/>\n       <use xlink:href=\"#DejaVuSans-65\" x=\"811.714844\"/>\n      </g>\n     </g>\n    </g>\n    <g id=\"xtick_12\">\n     <g id=\"line2d_12\">\n      <g>\n       <use xlink:href=\"#m7f6bdea456\" x=\"596.742188\" y=\"761.599219\" style=\"stroke: #000000; stroke-width: 0.8\"/>\n      </g>\n     </g>\n     <g id=\"text_12\">\n      <!-- Grade_decrease -->\n      <g transform=\"translate(599.3625 849.617969) rotate(-90) scale(0.1 -0.1)\">\n       <use xlink:href=\"#DejaVuSans-47\"/>\n       <use xlink:href=\"#DejaVuSans-72\" x=\"77.490234\"/>\n       <use xlink:href=\"#DejaVuSans-61\" x=\"118.603516\"/>\n       <use xlink:href=\"#DejaVuSans-64\" x=\"179.882812\"/>\n       <use xlink:href=\"#DejaVuSans-65\" x=\"243.359375\"/>\n       <use xlink:href=\"#DejaVuSans-5f\" x=\"304.882812\"/>\n       <use xlink:href=\"#DejaVuSans-64\" x=\"354.882812\"/>\n       <use xlink:href=\"#DejaVuSans-65\" x=\"418.359375\"/>\n       <use xlink:href=\"#DejaVuSans-63\" x=\"479.882812\"/>\n       <use xlink:href=\"#DejaVuSans-72\" x=\"534.863281\"/>\n       <use xlink:href=\"#DejaVuSans-65\" x=\"573.726562\"/>\n       <use xlink:href=\"#DejaVuSans-61\" x=\"635.25\"/>\n       <use xlink:href=\"#DejaVuSans-73\" x=\"696.529297\"/>\n       <use xlink:href=\"#DejaVuSans-65\" x=\"748.628906\"/>\n      </g>\n     </g>\n    </g>\n    <g id=\"xtick_13\">\n     <g id=\"line2d_13\">\n      <g>\n       <use xlink:href=\"#m7f6bdea456\" x=\"638.592188\" y=\"761.599219\" style=\"stroke: #000000; stroke-width: 0.8\"/>\n      </g>\n     </g>\n     <g id=\"text_13\">\n      <!-- Rating_increase -->\n      <g transform=\"translate(641.2125 847.978906) rotate(-90) scale(0.1 -0.1)\">\n       <use xlink:href=\"#DejaVuSans-52\"/>\n       <use xlink:href=\"#DejaVuSans-61\" x=\"67.232422\"/>\n       <use xlink:href=\"#DejaVuSans-74\" x=\"128.511719\"/>\n       <use xlink:href=\"#DejaVuSans-69\" x=\"167.720703\"/>\n       <use xlink:href=\"#DejaVuSans-6e\" x=\"195.503906\"/>\n       <use xlink:href=\"#DejaVuSans-67\" x=\"258.882812\"/>\n       <use xlink:href=\"#DejaVuSans-5f\" x=\"322.359375\"/>\n       <use xlink:href=\"#DejaVuSans-69\" x=\"372.359375\"/>\n       <use xlink:href=\"#DejaVuSans-6e\" x=\"400.142578\"/>\n       <use xlink:href=\"#DejaVuSans-63\" x=\"463.521484\"/>\n       <use xlink:href=\"#DejaVuSans-72\" x=\"518.501953\"/>\n       <use xlink:href=\"#DejaVuSans-65\" x=\"557.365234\"/>\n       <use xlink:href=\"#DejaVuSans-61\" x=\"618.888672\"/>\n       <use xlink:href=\"#DejaVuSans-73\" x=\"680.167969\"/>\n       <use xlink:href=\"#DejaVuSans-65\" x=\"732.267578\"/>\n      </g>\n     </g>\n    </g>\n    <g id=\"xtick_14\">\n     <g id=\"line2d_14\">\n      <g>\n       <use xlink:href=\"#m7f6bdea456\" x=\"680.442188\" y=\"761.599219\" style=\"stroke: #000000; stroke-width: 0.8\"/>\n      </g>\n     </g>\n     <g id=\"text_14\">\n      <!-- number_month -->\n      <g transform=\"translate(683.0625 845.082031) rotate(-90) scale(0.1 -0.1)\">\n       <defs>\n        <path id=\"DejaVuSans-62\" d=\"M 3116 1747 \nQ 3116 2381 2855 2742 \nQ 2594 3103 2138 3103 \nQ 1681 3103 1420 2742 \nQ 1159 2381 1159 1747 \nQ 1159 1113 1420 752 \nQ 1681 391 2138 391 \nQ 2594 391 2855 752 \nQ 3116 1113 3116 1747 \nz\nM 1159 2969 \nQ 1341 3281 1617 3432 \nQ 1894 3584 2278 3584 \nQ 2916 3584 3314 3078 \nQ 3713 2572 3713 1747 \nQ 3713 922 3314 415 \nQ 2916 -91 2278 -91 \nQ 1894 -91 1617 61 \nQ 1341 213 1159 525 \nL 1159 0 \nL 581 0 \nL 581 4863 \nL 1159 4863 \nL 1159 2969 \nz\n\" transform=\"scale(0.015625)\"/>\n        <path id=\"DejaVuSans-68\" d=\"M 3513 2113 \nL 3513 0 \nL 2938 0 \nL 2938 2094 \nQ 2938 2591 2744 2837 \nQ 2550 3084 2163 3084 \nQ 1697 3084 1428 2787 \nQ 1159 2491 1159 1978 \nL 1159 0 \nL 581 0 \nL 581 4863 \nL 1159 4863 \nL 1159 2956 \nQ 1366 3272 1645 3428 \nQ 1925 3584 2291 3584 \nQ 2894 3584 3203 3211 \nQ 3513 2838 3513 2113 \nz\n\" transform=\"scale(0.015625)\"/>\n       </defs>\n       <use xlink:href=\"#DejaVuSans-6e\"/>\n       <use xlink:href=\"#DejaVuSans-75\" x=\"63.378906\"/>\n       <use xlink:href=\"#DejaVuSans-6d\" x=\"126.757812\"/>\n       <use xlink:href=\"#DejaVuSans-62\" x=\"224.169922\"/>\n       <use xlink:href=\"#DejaVuSans-65\" x=\"287.646484\"/>\n       <use xlink:href=\"#DejaVuSans-72\" x=\"349.169922\"/>\n       <use xlink:href=\"#DejaVuSans-5f\" x=\"390.283203\"/>\n       <use xlink:href=\"#DejaVuSans-6d\" x=\"440.283203\"/>\n       <use xlink:href=\"#DejaVuSans-6f\" x=\"537.695312\"/>\n       <use xlink:href=\"#DejaVuSans-6e\" x=\"598.876953\"/>\n       <use xlink:href=\"#DejaVuSans-74\" x=\"662.255859\"/>\n       <use xlink:href=\"#DejaVuSans-68\" x=\"701.464844\"/>\n      </g>\n     </g>\n    </g>\n    <g id=\"xtick_15\">\n     <g id=\"line2d_15\">\n      <g>\n       <use xlink:href=\"#m7f6bdea456\" x=\"722.292188\" y=\"761.599219\" style=\"stroke: #000000; stroke-width: 0.8\"/>\n      </g>\n     </g>\n     <g id=\"text_15\">\n      <!-- month_of_join -->\n      <g transform=\"translate(724.9125 838.705469) rotate(-90) scale(0.1 -0.1)\">\n       <defs>\n        <path id=\"DejaVuSans-66\" d=\"M 2375 4863 \nL 2375 4384 \nL 1825 4384 \nQ 1516 4384 1395 4259 \nQ 1275 4134 1275 3809 \nL 1275 3500 \nL 2222 3500 \nL 2222 3053 \nL 1275 3053 \nL 1275 0 \nL 697 0 \nL 697 3053 \nL 147 3053 \nL 147 3500 \nL 697 3500 \nL 697 3744 \nQ 697 4328 969 4595 \nQ 1241 4863 1831 4863 \nL 2375 4863 \nz\n\" transform=\"scale(0.015625)\"/>\n        <path id=\"DejaVuSans-6a\" d=\"M 603 3500 \nL 1178 3500 \nL 1178 -63 \nQ 1178 -731 923 -1031 \nQ 669 -1331 103 -1331 \nL -116 -1331 \nL -116 -844 \nL 38 -844 \nQ 366 -844 484 -692 \nQ 603 -541 603 -63 \nL 603 3500 \nz\nM 603 4863 \nL 1178 4863 \nL 1178 4134 \nL 603 4134 \nL 603 4863 \nz\n\" transform=\"scale(0.015625)\"/>\n       </defs>\n       <use xlink:href=\"#DejaVuSans-6d\"/>\n       <use xlink:href=\"#DejaVuSans-6f\" x=\"97.412109\"/>\n       <use xlink:href=\"#DejaVuSans-6e\" x=\"158.59375\"/>\n       <use xlink:href=\"#DejaVuSans-74\" x=\"221.972656\"/>\n       <use xlink:href=\"#DejaVuSans-68\" x=\"261.181641\"/>\n       <use xlink:href=\"#DejaVuSans-5f\" x=\"324.560547\"/>\n       <use xlink:href=\"#DejaVuSans-6f\" x=\"374.560547\"/>\n       <use xlink:href=\"#DejaVuSans-66\" x=\"435.742188\"/>\n       <use xlink:href=\"#DejaVuSans-5f\" x=\"470.947266\"/>\n       <use xlink:href=\"#DejaVuSans-6a\" x=\"520.947266\"/>\n       <use xlink:href=\"#DejaVuSans-6f\" x=\"548.730469\"/>\n       <use xlink:href=\"#DejaVuSans-69\" x=\"609.912109\"/>\n       <use xlink:href=\"#DejaVuSans-6e\" x=\"637.695312\"/>\n      </g>\n     </g>\n    </g>\n    <g id=\"xtick_16\">\n     <g id=\"line2d_16\">\n      <g>\n       <use xlink:href=\"#m7f6bdea456\" x=\"764.142188\" y=\"761.599219\" style=\"stroke: #000000; stroke-width: 0.8\"/>\n      </g>\n     </g>\n     <g id=\"text_16\">\n      <!-- year_of_join -->\n      <g transform=\"translate(766.7625 828.561719) rotate(-90) scale(0.1 -0.1)\">\n       <use xlink:href=\"#DejaVuSans-79\"/>\n       <use xlink:href=\"#DejaVuSans-65\" x=\"59.179688\"/>\n       <use xlink:href=\"#DejaVuSans-61\" x=\"120.703125\"/>\n       <use xlink:href=\"#DejaVuSans-72\" x=\"181.982422\"/>\n       <use xlink:href=\"#DejaVuSans-5f\" x=\"223.095703\"/>\n       <use xlink:href=\"#DejaVuSans-6f\" x=\"273.095703\"/>\n       <use xlink:href=\"#DejaVuSans-66\" x=\"334.277344\"/>\n       <use xlink:href=\"#DejaVuSans-5f\" x=\"369.482422\"/>\n       <use xlink:href=\"#DejaVuSans-6a\" x=\"419.482422\"/>\n       <use xlink:href=\"#DejaVuSans-6f\" x=\"447.265625\"/>\n       <use xlink:href=\"#DejaVuSans-69\" x=\"508.447266\"/>\n       <use xlink:href=\"#DejaVuSans-6e\" x=\"536.230469\"/>\n      </g>\n     </g>\n    </g>\n   </g>\n   <g id=\"matplotlib.axis_2\">\n    <g id=\"ytick_1\">\n     <g id=\"line2d_17\">\n      <defs>\n       <path id=\"m2ef2156775\" d=\"M 0 0 \nL -3.5 0 \n\" style=\"stroke: #000000; stroke-width: 0.8\"/>\n      </defs>\n      <g>\n       <use xlink:href=\"#m2ef2156775\" x=\"115.467188\" y=\"112.924219\" style=\"stroke: #000000; stroke-width: 0.8\"/>\n      </g>\n     </g>\n     <g id=\"text_17\">\n      <!-- Driver_ID -->\n      <g transform=\"translate(62.045313 115.544531) scale(0.1 -0.1)\">\n       <use xlink:href=\"#DejaVuSans-44\"/>\n       <use xlink:href=\"#DejaVuSans-72\" x=\"77.001953\"/>\n       <use xlink:href=\"#DejaVuSans-69\" x=\"118.115234\"/>\n       <use xlink:href=\"#DejaVuSans-76\" x=\"145.898438\"/>\n       <use xlink:href=\"#DejaVuSans-65\" x=\"205.078125\"/>\n       <use xlink:href=\"#DejaVuSans-72\" x=\"266.601562\"/>\n       <use xlink:href=\"#DejaVuSans-5f\" x=\"307.714844\"/>\n       <use xlink:href=\"#DejaVuSans-49\" x=\"357.714844\"/>\n       <use xlink:href=\"#DejaVuSans-44\" x=\"387.207031\"/>\n      </g>\n     </g>\n    </g>\n    <g id=\"ytick_2\">\n     <g id=\"line2d_18\">\n      <g>\n       <use xlink:href=\"#m2ef2156775\" x=\"115.467188\" y=\"154.774219\" style=\"stroke: #000000; stroke-width: 0.8\"/>\n      </g>\n     </g>\n     <g id=\"text_18\">\n      <!-- Age -->\n      <g transform=\"translate(89.125 157.533594) scale(0.1 -0.1)\">\n       <use xlink:href=\"#DejaVuSans-41\"/>\n       <use xlink:href=\"#DejaVuSans-67\" x=\"68.408203\"/>\n       <use xlink:href=\"#DejaVuSans-65\" x=\"131.884766\"/>\n      </g>\n     </g>\n    </g>\n    <g id=\"ytick_3\">\n     <g id=\"line2d_19\">\n      <g>\n       <use xlink:href=\"#m2ef2156775\" x=\"115.467188\" y=\"196.624219\" style=\"stroke: #000000; stroke-width: 0.8\"/>\n      </g>\n     </g>\n     <g id=\"text_19\">\n      <!-- Gender -->\n      <g transform=\"translate(71.615625 199.383594) scale(0.1 -0.1)\">\n       <use xlink:href=\"#DejaVuSans-47\"/>\n       <use xlink:href=\"#DejaVuSans-65\" x=\"77.490234\"/>\n       <use xlink:href=\"#DejaVuSans-6e\" x=\"139.013672\"/>\n       <use xlink:href=\"#DejaVuSans-64\" x=\"202.392578\"/>\n       <use xlink:href=\"#DejaVuSans-65\" x=\"265.869141\"/>\n       <use xlink:href=\"#DejaVuSans-72\" x=\"327.392578\"/>\n      </g>\n     </g>\n    </g>\n    <g id=\"ytick_4\">\n     <g id=\"line2d_20\">\n      <g>\n       <use xlink:href=\"#m2ef2156775\" x=\"115.467188\" y=\"238.474219\" style=\"stroke: #000000; stroke-width: 0.8\"/>\n      </g>\n     </g>\n     <g id=\"text_20\">\n      <!-- City -->\n      <g transform=\"translate(88.867188 241.233594) scale(0.1 -0.1)\">\n       <use xlink:href=\"#DejaVuSans-43\"/>\n       <use xlink:href=\"#DejaVuSans-69\" x=\"69.824219\"/>\n       <use xlink:href=\"#DejaVuSans-74\" x=\"97.607422\"/>\n       <use xlink:href=\"#DejaVuSans-79\" x=\"136.816406\"/>\n      </g>\n     </g>\n    </g>\n    <g id=\"ytick_5\">\n     <g id=\"line2d_21\">\n      <g>\n       <use xlink:href=\"#m2ef2156775\" x=\"115.467188\" y=\"280.324219\" style=\"stroke: #000000; stroke-width: 0.8\"/>\n      </g>\n     </g>\n     <g id=\"text_21\">\n      <!-- Education_Level -->\n      <g transform=\"translate(27.28125 282.944531) scale(0.1 -0.1)\">\n       <use xlink:href=\"#DejaVuSans-45\"/>\n       <use xlink:href=\"#DejaVuSans-64\" x=\"63.183594\"/>\n       <use xlink:href=\"#DejaVuSans-75\" x=\"126.660156\"/>\n       <use xlink:href=\"#DejaVuSans-63\" x=\"190.039062\"/>\n       <use xlink:href=\"#DejaVuSans-61\" x=\"245.019531\"/>\n       <use xlink:href=\"#DejaVuSans-74\" x=\"306.298828\"/>\n       <use xlink:href=\"#DejaVuSans-69\" x=\"345.507812\"/>\n       <use xlink:href=\"#DejaVuSans-6f\" x=\"373.291016\"/>\n       <use xlink:href=\"#DejaVuSans-6e\" x=\"434.472656\"/>\n       <use xlink:href=\"#DejaVuSans-5f\" x=\"497.851562\"/>\n       <use xlink:href=\"#DejaVuSans-4c\" x=\"547.851562\"/>\n       <use xlink:href=\"#DejaVuSans-65\" x=\"601.814453\"/>\n       <use xlink:href=\"#DejaVuSans-76\" x=\"663.337891\"/>\n       <use xlink:href=\"#DejaVuSans-65\" x=\"722.517578\"/>\n       <use xlink:href=\"#DejaVuSans-6c\" x=\"784.041016\"/>\n      </g>\n     </g>\n    </g>\n    <g id=\"ytick_6\">\n     <g id=\"line2d_22\">\n      <g>\n       <use xlink:href=\"#m2ef2156775\" x=\"115.467188\" y=\"322.174219\" style=\"stroke: #000000; stroke-width: 0.8\"/>\n      </g>\n     </g>\n     <g id=\"text_22\">\n      <!-- Income -->\n      <g transform=\"translate(71.66875 324.933594) scale(0.1 -0.1)\">\n       <use xlink:href=\"#DejaVuSans-49\"/>\n       <use xlink:href=\"#DejaVuSans-6e\" x=\"29.492188\"/>\n       <use xlink:href=\"#DejaVuSans-63\" x=\"92.871094\"/>\n       <use xlink:href=\"#DejaVuSans-6f\" x=\"147.851562\"/>\n       <use xlink:href=\"#DejaVuSans-6d\" x=\"209.033203\"/>\n       <use xlink:href=\"#DejaVuSans-65\" x=\"306.445312\"/>\n      </g>\n     </g>\n    </g>\n    <g id=\"ytick_7\">\n     <g id=\"line2d_23\">\n      <g>\n       <use xlink:href=\"#m2ef2156775\" x=\"115.467188\" y=\"364.024219\" style=\"stroke: #000000; stroke-width: 0.8\"/>\n      </g>\n     </g>\n     <g id=\"text_23\">\n      <!-- Joining Designation -->\n      <g transform=\"translate(11.83125 366.783594) scale(0.1 -0.1)\">\n       <use xlink:href=\"#DejaVuSans-4a\"/>\n       <use xlink:href=\"#DejaVuSans-6f\" x=\"29.492188\"/>\n       <use xlink:href=\"#DejaVuSans-69\" x=\"90.673828\"/>\n       <use xlink:href=\"#DejaVuSans-6e\" x=\"118.457031\"/>\n       <use xlink:href=\"#DejaVuSans-69\" x=\"181.835938\"/>\n       <use xlink:href=\"#DejaVuSans-6e\" x=\"209.619141\"/>\n       <use xlink:href=\"#DejaVuSans-67\" x=\"272.998047\"/>\n       <use xlink:href=\"#DejaVuSans-20\" x=\"336.474609\"/>\n       <use xlink:href=\"#DejaVuSans-44\" x=\"368.261719\"/>\n       <use xlink:href=\"#DejaVuSans-65\" x=\"445.263672\"/>\n       <use xlink:href=\"#DejaVuSans-73\" x=\"506.787109\"/>\n       <use xlink:href=\"#DejaVuSans-69\" x=\"558.886719\"/>\n       <use xlink:href=\"#DejaVuSans-67\" x=\"586.669922\"/>\n       <use xlink:href=\"#DejaVuSans-6e\" x=\"650.146484\"/>\n       <use xlink:href=\"#DejaVuSans-61\" x=\"713.525391\"/>\n       <use xlink:href=\"#DejaVuSans-74\" x=\"774.804688\"/>\n       <use xlink:href=\"#DejaVuSans-69\" x=\"814.013672\"/>\n       <use xlink:href=\"#DejaVuSans-6f\" x=\"841.796875\"/>\n       <use xlink:href=\"#DejaVuSans-6e\" x=\"902.978516\"/>\n      </g>\n     </g>\n    </g>\n    <g id=\"ytick_8\">\n     <g id=\"line2d_24\">\n      <g>\n       <use xlink:href=\"#m2ef2156775\" x=\"115.467188\" y=\"405.874219\" style=\"stroke: #000000; stroke-width: 0.8\"/>\n      </g>\n     </g>\n     <g id=\"text_24\">\n      <!-- Grade -->\n      <g transform=\"translate(77.978125 408.633594) scale(0.1 -0.1)\">\n       <use xlink:href=\"#DejaVuSans-47\"/>\n       <use xlink:href=\"#DejaVuSans-72\" x=\"77.490234\"/>\n       <use xlink:href=\"#DejaVuSans-61\" x=\"118.603516\"/>\n       <use xlink:href=\"#DejaVuSans-64\" x=\"179.882812\"/>\n       <use xlink:href=\"#DejaVuSans-65\" x=\"243.359375\"/>\n      </g>\n     </g>\n    </g>\n    <g id=\"ytick_9\">\n     <g id=\"line2d_25\">\n      <g>\n       <use xlink:href=\"#m2ef2156775\" x=\"115.467188\" y=\"447.724219\" style=\"stroke: #000000; stroke-width: 0.8\"/>\n      </g>\n     </g>\n     <g id=\"text_25\">\n      <!-- Total Business Value -->\n      <g transform=\"translate(7.2 450.483594) scale(0.1 -0.1)\">\n       <use xlink:href=\"#DejaVuSans-54\"/>\n       <use xlink:href=\"#DejaVuSans-6f\" x=\"44.083984\"/>\n       <use xlink:href=\"#DejaVuSans-74\" x=\"105.265625\"/>\n       <use xlink:href=\"#DejaVuSans-61\" x=\"144.474609\"/>\n       <use xlink:href=\"#DejaVuSans-6c\" x=\"205.753906\"/>\n       <use xlink:href=\"#DejaVuSans-20\" x=\"233.537109\"/>\n       <use xlink:href=\"#DejaVuSans-42\" x=\"265.324219\"/>\n       <use xlink:href=\"#DejaVuSans-75\" x=\"333.927734\"/>\n       <use xlink:href=\"#DejaVuSans-73\" x=\"397.306641\"/>\n       <use xlink:href=\"#DejaVuSans-69\" x=\"449.40625\"/>\n       <use xlink:href=\"#DejaVuSans-6e\" x=\"477.189453\"/>\n       <use xlink:href=\"#DejaVuSans-65\" x=\"540.568359\"/>\n       <use xlink:href=\"#DejaVuSans-73\" x=\"602.091797\"/>\n       <use xlink:href=\"#DejaVuSans-73\" x=\"654.191406\"/>\n       <use xlink:href=\"#DejaVuSans-20\" x=\"706.291016\"/>\n       <use xlink:href=\"#DejaVuSans-56\" x=\"738.078125\"/>\n       <use xlink:href=\"#DejaVuSans-61\" x=\"798.736328\"/>\n       <use xlink:href=\"#DejaVuSans-6c\" x=\"860.015625\"/>\n       <use xlink:href=\"#DejaVuSans-75\" x=\"887.798828\"/>\n       <use xlink:href=\"#DejaVuSans-65\" x=\"951.177734\"/>\n      </g>\n     </g>\n    </g>\n    <g id=\"ytick_10\">\n     <g id=\"line2d_26\">\n      <g>\n       <use xlink:href=\"#m2ef2156775\" x=\"115.467188\" y=\"489.574219\" style=\"stroke: #000000; stroke-width: 0.8\"/>\n      </g>\n     </g>\n     <g id=\"text_26\">\n      <!-- Quarterly Rating -->\n      <g transform=\"translate(25.723438 492.333594) scale(0.1 -0.1)\">\n       <use xlink:href=\"#DejaVuSans-51\"/>\n       <use xlink:href=\"#DejaVuSans-75\" x=\"78.710938\"/>\n       <use xlink:href=\"#DejaVuSans-61\" x=\"142.089844\"/>\n       <use xlink:href=\"#DejaVuSans-72\" x=\"203.369141\"/>\n       <use xlink:href=\"#DejaVuSans-74\" x=\"244.482422\"/>\n       <use xlink:href=\"#DejaVuSans-65\" x=\"283.691406\"/>\n       <use xlink:href=\"#DejaVuSans-72\" x=\"345.214844\"/>\n       <use xlink:href=\"#DejaVuSans-6c\" x=\"386.328125\"/>\n       <use xlink:href=\"#DejaVuSans-79\" x=\"414.111328\"/>\n       <use xlink:href=\"#DejaVuSans-20\" x=\"473.291016\"/>\n       <use xlink:href=\"#DejaVuSans-52\" x=\"505.078125\"/>\n       <use xlink:href=\"#DejaVuSans-61\" x=\"572.310547\"/>\n       <use xlink:href=\"#DejaVuSans-74\" x=\"633.589844\"/>\n       <use xlink:href=\"#DejaVuSans-69\" x=\"672.798828\"/>\n       <use xlink:href=\"#DejaVuSans-6e\" x=\"700.582031\"/>\n       <use xlink:href=\"#DejaVuSans-67\" x=\"763.960938\"/>\n      </g>\n     </g>\n    </g>\n    <g id=\"ytick_11\">\n     <g id=\"line2d_27\">\n      <g>\n       <use xlink:href=\"#m2ef2156775\" x=\"115.467188\" y=\"531.424219\" style=\"stroke: #000000; stroke-width: 0.8\"/>\n      </g>\n     </g>\n     <g id=\"text_27\">\n      <!-- Income_decrease -->\n      <g transform=\"translate(21.139063 534.044531) scale(0.1 -0.1)\">\n       <use xlink:href=\"#DejaVuSans-49\"/>\n       <use xlink:href=\"#DejaVuSans-6e\" x=\"29.492188\"/>\n       <use xlink:href=\"#DejaVuSans-63\" x=\"92.871094\"/>\n       <use xlink:href=\"#DejaVuSans-6f\" x=\"147.851562\"/>\n       <use xlink:href=\"#DejaVuSans-6d\" x=\"209.033203\"/>\n       <use xlink:href=\"#DejaVuSans-65\" x=\"306.445312\"/>\n       <use xlink:href=\"#DejaVuSans-5f\" x=\"367.96875\"/>\n       <use xlink:href=\"#DejaVuSans-64\" x=\"417.96875\"/>\n       <use xlink:href=\"#DejaVuSans-65\" x=\"481.445312\"/>\n       <use xlink:href=\"#DejaVuSans-63\" x=\"542.96875\"/>\n       <use xlink:href=\"#DejaVuSans-72\" x=\"597.949219\"/>\n       <use xlink:href=\"#DejaVuSans-65\" x=\"636.8125\"/>\n       <use xlink:href=\"#DejaVuSans-61\" x=\"698.335938\"/>\n       <use xlink:href=\"#DejaVuSans-73\" x=\"759.615234\"/>\n       <use xlink:href=\"#DejaVuSans-65\" x=\"811.714844\"/>\n      </g>\n     </g>\n    </g>\n    <g id=\"ytick_12\">\n     <g id=\"line2d_28\">\n      <g>\n       <use xlink:href=\"#m2ef2156775\" x=\"115.467188\" y=\"573.274219\" style=\"stroke: #000000; stroke-width: 0.8\"/>\n      </g>\n     </g>\n     <g id=\"text_28\">\n      <!-- Grade_decrease -->\n      <g transform=\"translate(27.448437 575.894531) scale(0.1 -0.1)\">\n       <use xlink:href=\"#DejaVuSans-47\"/>\n       <use xlink:href=\"#DejaVuSans-72\" x=\"77.490234\"/>\n       <use xlink:href=\"#DejaVuSans-61\" x=\"118.603516\"/>\n       <use xlink:href=\"#DejaVuSans-64\" x=\"179.882812\"/>\n       <use xlink:href=\"#DejaVuSans-65\" x=\"243.359375\"/>\n       <use xlink:href=\"#DejaVuSans-5f\" x=\"304.882812\"/>\n       <use xlink:href=\"#DejaVuSans-64\" x=\"354.882812\"/>\n       <use xlink:href=\"#DejaVuSans-65\" x=\"418.359375\"/>\n       <use xlink:href=\"#DejaVuSans-63\" x=\"479.882812\"/>\n       <use xlink:href=\"#DejaVuSans-72\" x=\"534.863281\"/>\n       <use xlink:href=\"#DejaVuSans-65\" x=\"573.726562\"/>\n       <use xlink:href=\"#DejaVuSans-61\" x=\"635.25\"/>\n       <use xlink:href=\"#DejaVuSans-73\" x=\"696.529297\"/>\n       <use xlink:href=\"#DejaVuSans-65\" x=\"748.628906\"/>\n      </g>\n     </g>\n    </g>\n    <g id=\"ytick_13\">\n     <g id=\"line2d_29\">\n      <g>\n       <use xlink:href=\"#m2ef2156775\" x=\"115.467188\" y=\"615.124219\" style=\"stroke: #000000; stroke-width: 0.8\"/>\n      </g>\n     </g>\n     <g id=\"text_29\">\n      <!-- Rating_increase -->\n      <g transform=\"translate(29.0875 617.744531) scale(0.1 -0.1)\">\n       <use xlink:href=\"#DejaVuSans-52\"/>\n       <use xlink:href=\"#DejaVuSans-61\" x=\"67.232422\"/>\n       <use xlink:href=\"#DejaVuSans-74\" x=\"128.511719\"/>\n       <use xlink:href=\"#DejaVuSans-69\" x=\"167.720703\"/>\n       <use xlink:href=\"#DejaVuSans-6e\" x=\"195.503906\"/>\n       <use xlink:href=\"#DejaVuSans-67\" x=\"258.882812\"/>\n       <use xlink:href=\"#DejaVuSans-5f\" x=\"322.359375\"/>\n       <use xlink:href=\"#DejaVuSans-69\" x=\"372.359375\"/>\n       <use xlink:href=\"#DejaVuSans-6e\" x=\"400.142578\"/>\n       <use xlink:href=\"#DejaVuSans-63\" x=\"463.521484\"/>\n       <use xlink:href=\"#DejaVuSans-72\" x=\"518.501953\"/>\n       <use xlink:href=\"#DejaVuSans-65\" x=\"557.365234\"/>\n       <use xlink:href=\"#DejaVuSans-61\" x=\"618.888672\"/>\n       <use xlink:href=\"#DejaVuSans-73\" x=\"680.167969\"/>\n       <use xlink:href=\"#DejaVuSans-65\" x=\"732.267578\"/>\n      </g>\n     </g>\n    </g>\n    <g id=\"ytick_14\">\n     <g id=\"line2d_30\">\n      <g>\n       <use xlink:href=\"#m2ef2156775\" x=\"115.467188\" y=\"656.974219\" style=\"stroke: #000000; stroke-width: 0.8\"/>\n      </g>\n     </g>\n     <g id=\"text_30\">\n      <!-- number_month -->\n      <g transform=\"translate(31.984375 659.594531) scale(0.1 -0.1)\">\n       <use xlink:href=\"#DejaVuSans-6e\"/>\n       <use xlink:href=\"#DejaVuSans-75\" x=\"63.378906\"/>\n       <use xlink:href=\"#DejaVuSans-6d\" x=\"126.757812\"/>\n       <use xlink:href=\"#DejaVuSans-62\" x=\"224.169922\"/>\n       <use xlink:href=\"#DejaVuSans-65\" x=\"287.646484\"/>\n       <use xlink:href=\"#DejaVuSans-72\" x=\"349.169922\"/>\n       <use xlink:href=\"#DejaVuSans-5f\" x=\"390.283203\"/>\n       <use xlink:href=\"#DejaVuSans-6d\" x=\"440.283203\"/>\n       <use xlink:href=\"#DejaVuSans-6f\" x=\"537.695312\"/>\n       <use xlink:href=\"#DejaVuSans-6e\" x=\"598.876953\"/>\n       <use xlink:href=\"#DejaVuSans-74\" x=\"662.255859\"/>\n       <use xlink:href=\"#DejaVuSans-68\" x=\"701.464844\"/>\n      </g>\n     </g>\n    </g>\n    <g id=\"ytick_15\">\n     <g id=\"line2d_31\">\n      <g>\n       <use xlink:href=\"#m2ef2156775\" x=\"115.467188\" y=\"698.824219\" style=\"stroke: #000000; stroke-width: 0.8\"/>\n      </g>\n     </g>\n     <g id=\"text_31\">\n      <!-- month_of_join -->\n      <g transform=\"translate(38.360938 701.444531) scale(0.1 -0.1)\">\n       <use xlink:href=\"#DejaVuSans-6d\"/>\n       <use xlink:href=\"#DejaVuSans-6f\" x=\"97.412109\"/>\n       <use xlink:href=\"#DejaVuSans-6e\" x=\"158.59375\"/>\n       <use xlink:href=\"#DejaVuSans-74\" x=\"221.972656\"/>\n       <use xlink:href=\"#DejaVuSans-68\" x=\"261.181641\"/>\n       <use xlink:href=\"#DejaVuSans-5f\" x=\"324.560547\"/>\n       <use xlink:href=\"#DejaVuSans-6f\" x=\"374.560547\"/>\n       <use xlink:href=\"#DejaVuSans-66\" x=\"435.742188\"/>\n       <use xlink:href=\"#DejaVuSans-5f\" x=\"470.947266\"/>\n       <use xlink:href=\"#DejaVuSans-6a\" x=\"520.947266\"/>\n       <use xlink:href=\"#DejaVuSans-6f\" x=\"548.730469\"/>\n       <use xlink:href=\"#DejaVuSans-69\" x=\"609.912109\"/>\n       <use xlink:href=\"#DejaVuSans-6e\" x=\"637.695312\"/>\n      </g>\n     </g>\n    </g>\n    <g id=\"ytick_16\">\n     <g id=\"line2d_32\">\n      <g>\n       <use xlink:href=\"#m2ef2156775\" x=\"115.467188\" y=\"740.674219\" style=\"stroke: #000000; stroke-width: 0.8\"/>\n      </g>\n     </g>\n     <g id=\"text_32\">\n      <!-- year_of_join -->\n      <g transform=\"translate(48.504688 743.294531) scale(0.1 -0.1)\">\n       <use xlink:href=\"#DejaVuSans-79\"/>\n       <use xlink:href=\"#DejaVuSans-65\" x=\"59.179688\"/>\n       <use xlink:href=\"#DejaVuSans-61\" x=\"120.703125\"/>\n       <use xlink:href=\"#DejaVuSans-72\" x=\"181.982422\"/>\n       <use xlink:href=\"#DejaVuSans-5f\" x=\"223.095703\"/>\n       <use xlink:href=\"#DejaVuSans-6f\" x=\"273.095703\"/>\n       <use xlink:href=\"#DejaVuSans-66\" x=\"334.277344\"/>\n       <use xlink:href=\"#DejaVuSans-5f\" x=\"369.482422\"/>\n       <use xlink:href=\"#DejaVuSans-6a\" x=\"419.482422\"/>\n       <use xlink:href=\"#DejaVuSans-6f\" x=\"447.265625\"/>\n       <use xlink:href=\"#DejaVuSans-69\" x=\"508.447266\"/>\n       <use xlink:href=\"#DejaVuSans-6e\" x=\"536.230469\"/>\n      </g>\n     </g>\n    </g>\n   </g>\n   <g id=\"text_33\">\n    <!-- 1 -->\n    <g style=\"fill: #ffffff\" transform=\"translate(133.210938 115.683594) scale(0.1 -0.1)\">\n     <defs>\n      <path id=\"DejaVuSans-31\" d=\"M 794 531 \nL 1825 531 \nL 1825 4091 \nL 703 3866 \nL 703 4441 \nL 1819 4666 \nL 2450 4666 \nL 2450 531 \nL 3481 531 \nL 3481 0 \nL 794 0 \nL 794 531 \nz\n\" transform=\"scale(0.015625)\"/>\n     </defs>\n     <use xlink:href=\"#DejaVuSans-31\"/>\n    </g>\n   </g>\n   <g id=\"text_34\">\n    <!-- -0.0045 -->\n    <g style=\"fill: #262626\" transform=\"translate(158.942969 115.683594) scale(0.1 -0.1)\">\n     <defs>\n      <path id=\"DejaVuSans-2d\" d=\"M 313 2009 \nL 1997 2009 \nL 1997 1497 \nL 313 1497 \nL 313 2009 \nz\n\" transform=\"scale(0.015625)\"/>\n      <path id=\"DejaVuSans-30\" d=\"M 2034 4250 \nQ 1547 4250 1301 3770 \nQ 1056 3291 1056 2328 \nQ 1056 1369 1301 889 \nQ 1547 409 2034 409 \nQ 2525 409 2770 889 \nQ 3016 1369 3016 2328 \nQ 3016 3291 2770 3770 \nQ 2525 4250 2034 4250 \nz\nM 2034 4750 \nQ 2819 4750 3233 4129 \nQ 3647 3509 3647 2328 \nQ 3647 1150 3233 529 \nQ 2819 -91 2034 -91 \nQ 1250 -91 836 529 \nQ 422 1150 422 2328 \nQ 422 3509 836 4129 \nQ 1250 4750 2034 4750 \nz\n\" transform=\"scale(0.015625)\"/>\n      <path id=\"DejaVuSans-2e\" d=\"M 684 794 \nL 1344 794 \nL 1344 0 \nL 684 0 \nL 684 794 \nz\n\" transform=\"scale(0.015625)\"/>\n      <path id=\"DejaVuSans-34\" d=\"M 2419 4116 \nL 825 1625 \nL 2419 1625 \nL 2419 4116 \nz\nM 2253 4666 \nL 3047 4666 \nL 3047 1625 \nL 3713 1625 \nL 3713 1100 \nL 3047 1100 \nL 3047 0 \nL 2419 0 \nL 2419 1100 \nL 313 1100 \nL 313 1709 \nL 2253 4666 \nz\n\" transform=\"scale(0.015625)\"/>\n      <path id=\"DejaVuSans-35\" d=\"M 691 4666 \nL 3169 4666 \nL 3169 4134 \nL 1269 4134 \nL 1269 2991 \nQ 1406 3038 1543 3061 \nQ 1681 3084 1819 3084 \nQ 2600 3084 3056 2656 \nQ 3513 2228 3513 1497 \nQ 3513 744 3044 326 \nQ 2575 -91 1722 -91 \nQ 1428 -91 1123 -41 \nQ 819 9 494 109 \nL 494 744 \nQ 775 591 1075 516 \nQ 1375 441 1709 441 \nQ 2250 441 2565 725 \nQ 2881 1009 2881 1497 \nQ 2881 1984 2565 2268 \nQ 2250 2553 1709 2553 \nQ 1456 2553 1204 2497 \nQ 953 2441 691 2322 \nL 691 4666 \nz\n\" transform=\"scale(0.015625)\"/>\n     </defs>\n     <use xlink:href=\"#DejaVuSans-2d\"/>\n     <use xlink:href=\"#DejaVuSans-30\" x=\"36.083984\"/>\n     <use xlink:href=\"#DejaVuSans-2e\" x=\"99.707031\"/>\n     <use xlink:href=\"#DejaVuSans-30\" x=\"131.494141\"/>\n     <use xlink:href=\"#DejaVuSans-30\" x=\"195.117188\"/>\n     <use xlink:href=\"#DejaVuSans-34\" x=\"258.740234\"/>\n     <use xlink:href=\"#DejaVuSans-35\" x=\"322.363281\"/>\n    </g>\n   </g>\n   <g id=\"text_35\">\n    <!-- 0.014 -->\n    <g style=\"fill: #262626\" transform=\"translate(205.778125 115.683594) scale(0.1 -0.1)\">\n     <use xlink:href=\"#DejaVuSans-30\"/>\n     <use xlink:href=\"#DejaVuSans-2e\" x=\"63.623047\"/>\n     <use xlink:href=\"#DejaVuSans-30\" x=\"95.410156\"/>\n     <use xlink:href=\"#DejaVuSans-31\" x=\"159.033203\"/>\n     <use xlink:href=\"#DejaVuSans-34\" x=\"222.65625\"/>\n    </g>\n   </g>\n   <g id=\"text_36\">\n    <!-- -0.004 -->\n    <g style=\"fill: #262626\" transform=\"translate(245.824219 115.683594) scale(0.1 -0.1)\">\n     <use xlink:href=\"#DejaVuSans-2d\"/>\n     <use xlink:href=\"#DejaVuSans-30\" x=\"36.083984\"/>\n     <use xlink:href=\"#DejaVuSans-2e\" x=\"99.707031\"/>\n     <use xlink:href=\"#DejaVuSans-30\" x=\"131.494141\"/>\n     <use xlink:href=\"#DejaVuSans-30\" x=\"195.117188\"/>\n     <use xlink:href=\"#DejaVuSans-34\" x=\"258.740234\"/>\n    </g>\n   </g>\n   <g id=\"text_37\">\n    <!-- -0.014 -->\n    <g style=\"fill: #262626\" transform=\"translate(287.674219 115.683594) scale(0.1 -0.1)\">\n     <use xlink:href=\"#DejaVuSans-2d\"/>\n     <use xlink:href=\"#DejaVuSans-30\" x=\"36.083984\"/>\n     <use xlink:href=\"#DejaVuSans-2e\" x=\"99.707031\"/>\n     <use xlink:href=\"#DejaVuSans-30\" x=\"131.494141\"/>\n     <use xlink:href=\"#DejaVuSans-31\" x=\"195.117188\"/>\n     <use xlink:href=\"#DejaVuSans-34\" x=\"258.740234\"/>\n    </g>\n   </g>\n   <g id=\"text_38\">\n    <!-- -0.02 -->\n    <g style=\"fill: #262626\" transform=\"translate(332.705469 115.683594) scale(0.1 -0.1)\">\n     <defs>\n      <path id=\"DejaVuSans-32\" d=\"M 1228 531 \nL 3431 531 \nL 3431 0 \nL 469 0 \nL 469 531 \nQ 828 903 1448 1529 \nQ 2069 2156 2228 2338 \nQ 2531 2678 2651 2914 \nQ 2772 3150 2772 3378 \nQ 2772 3750 2511 3984 \nQ 2250 4219 1831 4219 \nQ 1534 4219 1204 4116 \nQ 875 4013 500 3803 \nL 500 4441 \nQ 881 4594 1212 4672 \nQ 1544 4750 1819 4750 \nQ 2544 4750 2975 4387 \nQ 3406 4025 3406 3419 \nQ 3406 3131 3298 2873 \nQ 3191 2616 2906 2266 \nQ 2828 2175 2409 1742 \nQ 1991 1309 1228 531 \nz\n\" transform=\"scale(0.015625)\"/>\n     </defs>\n     <use xlink:href=\"#DejaVuSans-2d\"/>\n     <use xlink:href=\"#DejaVuSans-30\" x=\"36.083984\"/>\n     <use xlink:href=\"#DejaVuSans-2e\" x=\"99.707031\"/>\n     <use xlink:href=\"#DejaVuSans-30\" x=\"131.494141\"/>\n     <use xlink:href=\"#DejaVuSans-32\" x=\"195.117188\"/>\n    </g>\n   </g>\n   <g id=\"text_39\">\n    <!-- -0.023 -->\n    <g style=\"fill: #262626\" transform=\"translate(371.374219 115.683594) scale(0.1 -0.1)\">\n     <defs>\n      <path id=\"DejaVuSans-33\" d=\"M 2597 2516 \nQ 3050 2419 3304 2112 \nQ 3559 1806 3559 1356 \nQ 3559 666 3084 287 \nQ 2609 -91 1734 -91 \nQ 1441 -91 1130 -33 \nQ 819 25 488 141 \nL 488 750 \nQ 750 597 1062 519 \nQ 1375 441 1716 441 \nQ 2309 441 2620 675 \nQ 2931 909 2931 1356 \nQ 2931 1769 2642 2001 \nQ 2353 2234 1838 2234 \nL 1294 2234 \nL 1294 2753 \nL 1863 2753 \nQ 2328 2753 2575 2939 \nQ 2822 3125 2822 3475 \nQ 2822 3834 2567 4026 \nQ 2313 4219 1838 4219 \nQ 1578 4219 1281 4162 \nQ 984 4106 628 3988 \nL 628 4550 \nQ 988 4650 1302 4700 \nQ 1616 4750 1894 4750 \nQ 2613 4750 3031 4423 \nQ 3450 4097 3450 3541 \nQ 3450 3153 3228 2886 \nQ 3006 2619 2597 2516 \nz\n\" transform=\"scale(0.015625)\"/>\n     </defs>\n     <use xlink:href=\"#DejaVuSans-2d\"/>\n     <use xlink:href=\"#DejaVuSans-30\" x=\"36.083984\"/>\n     <use xlink:href=\"#DejaVuSans-2e\" x=\"99.707031\"/>\n     <use xlink:href=\"#DejaVuSans-30\" x=\"131.494141\"/>\n     <use xlink:href=\"#DejaVuSans-32\" x=\"195.117188\"/>\n     <use xlink:href=\"#DejaVuSans-33\" x=\"258.740234\"/>\n    </g>\n   </g>\n   <g id=\"text_40\">\n    <!-- -0.014 -->\n    <g style=\"fill: #262626\" transform=\"translate(413.224219 115.683594) scale(0.1 -0.1)\">\n     <use xlink:href=\"#DejaVuSans-2d\"/>\n     <use xlink:href=\"#DejaVuSans-30\" x=\"36.083984\"/>\n     <use xlink:href=\"#DejaVuSans-2e\" x=\"99.707031\"/>\n     <use xlink:href=\"#DejaVuSans-30\" x=\"131.494141\"/>\n     <use xlink:href=\"#DejaVuSans-31\" x=\"195.117188\"/>\n     <use xlink:href=\"#DejaVuSans-34\" x=\"258.740234\"/>\n    </g>\n   </g>\n   <g id=\"text_41\">\n    <!-- 0.026 -->\n    <g style=\"fill: #262626\" transform=\"translate(456.878125 115.683594) scale(0.1 -0.1)\">\n     <defs>\n      <path id=\"DejaVuSans-36\" d=\"M 2113 2584 \nQ 1688 2584 1439 2293 \nQ 1191 2003 1191 1497 \nQ 1191 994 1439 701 \nQ 1688 409 2113 409 \nQ 2538 409 2786 701 \nQ 3034 994 3034 1497 \nQ 3034 2003 2786 2293 \nQ 2538 2584 2113 2584 \nz\nM 3366 4563 \nL 3366 3988 \nQ 3128 4100 2886 4159 \nQ 2644 4219 2406 4219 \nQ 1781 4219 1451 3797 \nQ 1122 3375 1075 2522 \nQ 1259 2794 1537 2939 \nQ 1816 3084 2150 3084 \nQ 2853 3084 3261 2657 \nQ 3669 2231 3669 1497 \nQ 3669 778 3244 343 \nQ 2819 -91 2113 -91 \nQ 1303 -91 875 529 \nQ 447 1150 447 2328 \nQ 447 3434 972 4092 \nQ 1497 4750 2381 4750 \nQ 2619 4750 2861 4703 \nQ 3103 4656 3366 4563 \nz\n\" transform=\"scale(0.015625)\"/>\n     </defs>\n     <use xlink:href=\"#DejaVuSans-30\"/>\n     <use xlink:href=\"#DejaVuSans-2e\" x=\"63.623047\"/>\n     <use xlink:href=\"#DejaVuSans-30\" x=\"95.410156\"/>\n     <use xlink:href=\"#DejaVuSans-32\" x=\"159.033203\"/>\n     <use xlink:href=\"#DejaVuSans-36\" x=\"222.65625\"/>\n    </g>\n   </g>\n   <g id=\"text_42\">\n    <!-- 0.017 -->\n    <g style=\"fill: #262626\" transform=\"translate(498.728125 115.683594) scale(0.1 -0.1)\">\n     <defs>\n      <path id=\"DejaVuSans-37\" d=\"M 525 4666 \nL 3525 4666 \nL 3525 4397 \nL 1831 0 \nL 1172 0 \nL 2766 4134 \nL 525 4134 \nL 525 4666 \nz\n\" transform=\"scale(0.015625)\"/>\n     </defs>\n     <use xlink:href=\"#DejaVuSans-30\"/>\n     <use xlink:href=\"#DejaVuSans-2e\" x=\"63.623047\"/>\n     <use xlink:href=\"#DejaVuSans-30\" x=\"95.410156\"/>\n     <use xlink:href=\"#DejaVuSans-31\" x=\"159.033203\"/>\n     <use xlink:href=\"#DejaVuSans-37\" x=\"222.65625\"/>\n    </g>\n   </g>\n   <g id=\"text_43\">\n    <!-- -0.015 -->\n    <g style=\"fill: #262626\" transform=\"translate(538.774219 115.683594) scale(0.1 -0.1)\">\n     <use xlink:href=\"#DejaVuSans-2d\"/>\n     <use xlink:href=\"#DejaVuSans-30\" x=\"36.083984\"/>\n     <use xlink:href=\"#DejaVuSans-2e\" x=\"99.707031\"/>\n     <use xlink:href=\"#DejaVuSans-30\" x=\"131.494141\"/>\n     <use xlink:href=\"#DejaVuSans-31\" x=\"195.117188\"/>\n     <use xlink:href=\"#DejaVuSans-35\" x=\"258.740234\"/>\n    </g>\n   </g>\n   <g id=\"text_44\">\n    <!-- -0.015 -->\n    <g style=\"fill: #262626\" transform=\"translate(580.624219 115.683594) scale(0.1 -0.1)\">\n     <use xlink:href=\"#DejaVuSans-2d\"/>\n     <use xlink:href=\"#DejaVuSans-30\" x=\"36.083984\"/>\n     <use xlink:href=\"#DejaVuSans-2e\" x=\"99.707031\"/>\n     <use xlink:href=\"#DejaVuSans-30\" x=\"131.494141\"/>\n     <use xlink:href=\"#DejaVuSans-31\" x=\"195.117188\"/>\n     <use xlink:href=\"#DejaVuSans-35\" x=\"258.740234\"/>\n    </g>\n   </g>\n   <g id=\"text_45\">\n    <!-- 0.022 -->\n    <g style=\"fill: #262626\" transform=\"translate(624.278125 115.683594) scale(0.1 -0.1)\">\n     <use xlink:href=\"#DejaVuSans-30\"/>\n     <use xlink:href=\"#DejaVuSans-2e\" x=\"63.623047\"/>\n     <use xlink:href=\"#DejaVuSans-30\" x=\"95.410156\"/>\n     <use xlink:href=\"#DejaVuSans-32\" x=\"159.033203\"/>\n     <use xlink:href=\"#DejaVuSans-32\" x=\"222.65625\"/>\n    </g>\n   </g>\n   <g id=\"text_46\">\n    <!-- 0.026 -->\n    <g style=\"fill: #262626\" transform=\"translate(666.128125 115.683594) scale(0.1 -0.1)\">\n     <use xlink:href=\"#DejaVuSans-30\"/>\n     <use xlink:href=\"#DejaVuSans-2e\" x=\"63.623047\"/>\n     <use xlink:href=\"#DejaVuSans-30\" x=\"95.410156\"/>\n     <use xlink:href=\"#DejaVuSans-32\" x=\"159.033203\"/>\n     <use xlink:href=\"#DejaVuSans-36\" x=\"222.65625\"/>\n    </g>\n   </g>\n   <g id=\"text_47\">\n    <!-- -0.034 -->\n    <g style=\"fill: #262626\" transform=\"translate(706.174219 115.683594) scale(0.1 -0.1)\">\n     <use xlink:href=\"#DejaVuSans-2d\"/>\n     <use xlink:href=\"#DejaVuSans-30\" x=\"36.083984\"/>\n     <use xlink:href=\"#DejaVuSans-2e\" x=\"99.707031\"/>\n     <use xlink:href=\"#DejaVuSans-30\" x=\"131.494141\"/>\n     <use xlink:href=\"#DejaVuSans-33\" x=\"195.117188\"/>\n     <use xlink:href=\"#DejaVuSans-34\" x=\"258.740234\"/>\n    </g>\n   </g>\n   <g id=\"text_48\">\n    <!-- -0.044 -->\n    <g style=\"fill: #262626\" transform=\"translate(748.024219 115.683594) scale(0.1 -0.1)\">\n     <use xlink:href=\"#DejaVuSans-2d\"/>\n     <use xlink:href=\"#DejaVuSans-30\" x=\"36.083984\"/>\n     <use xlink:href=\"#DejaVuSans-2e\" x=\"99.707031\"/>\n     <use xlink:href=\"#DejaVuSans-30\" x=\"131.494141\"/>\n     <use xlink:href=\"#DejaVuSans-34\" x=\"195.117188\"/>\n     <use xlink:href=\"#DejaVuSans-34\" x=\"258.740234\"/>\n    </g>\n   </g>\n   <g id=\"text_49\">\n    <!-- -0.0045 -->\n    <g style=\"fill: #262626\" transform=\"translate(117.092969 157.533594) scale(0.1 -0.1)\">\n     <use xlink:href=\"#DejaVuSans-2d\"/>\n     <use xlink:href=\"#DejaVuSans-30\" x=\"36.083984\"/>\n     <use xlink:href=\"#DejaVuSans-2e\" x=\"99.707031\"/>\n     <use xlink:href=\"#DejaVuSans-30\" x=\"131.494141\"/>\n     <use xlink:href=\"#DejaVuSans-30\" x=\"195.117188\"/>\n     <use xlink:href=\"#DejaVuSans-34\" x=\"258.740234\"/>\n     <use xlink:href=\"#DejaVuSans-35\" x=\"322.363281\"/>\n    </g>\n   </g>\n   <g id=\"text_50\">\n    <!-- 1 -->\n    <g style=\"fill: #ffffff\" transform=\"translate(175.060938 157.533594) scale(0.1 -0.1)\">\n     <use xlink:href=\"#DejaVuSans-31\"/>\n    </g>\n   </g>\n   <g id=\"text_51\">\n    <!-- 0.031 -->\n    <g style=\"fill: #262626\" transform=\"translate(205.778125 157.533594) scale(0.1 -0.1)\">\n     <use xlink:href=\"#DejaVuSans-30\"/>\n     <use xlink:href=\"#DejaVuSans-2e\" x=\"63.623047\"/>\n     <use xlink:href=\"#DejaVuSans-30\" x=\"95.410156\"/>\n     <use xlink:href=\"#DejaVuSans-33\" x=\"159.033203\"/>\n     <use xlink:href=\"#DejaVuSans-31\" x=\"222.65625\"/>\n    </g>\n   </g>\n   <g id=\"text_52\">\n    <!-- -0.01 -->\n    <g style=\"fill: #262626\" transform=\"translate(249.005469 157.533594) scale(0.1 -0.1)\">\n     <use xlink:href=\"#DejaVuSans-2d\"/>\n     <use xlink:href=\"#DejaVuSans-30\" x=\"36.083984\"/>\n     <use xlink:href=\"#DejaVuSans-2e\" x=\"99.707031\"/>\n     <use xlink:href=\"#DejaVuSans-30\" x=\"131.494141\"/>\n     <use xlink:href=\"#DejaVuSans-31\" x=\"195.117188\"/>\n    </g>\n   </g>\n   <g id=\"text_53\">\n    <!-- -0.0078 -->\n    <g style=\"fill: #262626\" transform=\"translate(284.492969 157.533594) scale(0.1 -0.1)\">\n     <defs>\n      <path id=\"DejaVuSans-38\" d=\"M 2034 2216 \nQ 1584 2216 1326 1975 \nQ 1069 1734 1069 1313 \nQ 1069 891 1326 650 \nQ 1584 409 2034 409 \nQ 2484 409 2743 651 \nQ 3003 894 3003 1313 \nQ 3003 1734 2745 1975 \nQ 2488 2216 2034 2216 \nz\nM 1403 2484 \nQ 997 2584 770 2862 \nQ 544 3141 544 3541 \nQ 544 4100 942 4425 \nQ 1341 4750 2034 4750 \nQ 2731 4750 3128 4425 \nQ 3525 4100 3525 3541 \nQ 3525 3141 3298 2862 \nQ 3072 2584 2669 2484 \nQ 3125 2378 3379 2068 \nQ 3634 1759 3634 1313 \nQ 3634 634 3220 271 \nQ 2806 -91 2034 -91 \nQ 1263 -91 848 271 \nQ 434 634 434 1313 \nQ 434 1759 690 2068 \nQ 947 2378 1403 2484 \nz\nM 1172 3481 \nQ 1172 3119 1398 2916 \nQ 1625 2713 2034 2713 \nQ 2441 2713 2670 2916 \nQ 2900 3119 2900 3481 \nQ 2900 3844 2670 4047 \nQ 2441 4250 2034 4250 \nQ 1625 4250 1398 4047 \nQ 1172 3844 1172 3481 \nz\n\" transform=\"scale(0.015625)\"/>\n     </defs>\n     <use xlink:href=\"#DejaVuSans-2d\"/>\n     <use xlink:href=\"#DejaVuSans-30\" x=\"36.083984\"/>\n     <use xlink:href=\"#DejaVuSans-2e\" x=\"99.707031\"/>\n     <use xlink:href=\"#DejaVuSans-30\" x=\"131.494141\"/>\n     <use xlink:href=\"#DejaVuSans-30\" x=\"195.117188\"/>\n     <use xlink:href=\"#DejaVuSans-37\" x=\"258.740234\"/>\n     <use xlink:href=\"#DejaVuSans-38\" x=\"322.363281\"/>\n    </g>\n   </g>\n   <g id=\"text_54\">\n    <!-- 0.21 -->\n    <g style=\"fill: #ffffff\" transform=\"translate(334.509375 157.533594) scale(0.1 -0.1)\">\n     <use xlink:href=\"#DejaVuSans-30\"/>\n     <use xlink:href=\"#DejaVuSans-2e\" x=\"63.623047\"/>\n     <use xlink:href=\"#DejaVuSans-32\" x=\"95.410156\"/>\n     <use xlink:href=\"#DejaVuSans-31\" x=\"159.033203\"/>\n    </g>\n   </g>\n   <g id=\"text_55\">\n    <!-- 0.082 -->\n    <g style=\"fill: #262626\" transform=\"translate(373.178125 157.533594) scale(0.1 -0.1)\">\n     <use xlink:href=\"#DejaVuSans-30\"/>\n     <use xlink:href=\"#DejaVuSans-2e\" x=\"63.623047\"/>\n     <use xlink:href=\"#DejaVuSans-30\" x=\"95.410156\"/>\n     <use xlink:href=\"#DejaVuSans-38\" x=\"159.033203\"/>\n     <use xlink:href=\"#DejaVuSans-32\" x=\"222.65625\"/>\n    </g>\n   </g>\n   <g id=\"text_56\">\n    <!-- 0.25 -->\n    <g style=\"fill: #ffffff\" transform=\"translate(418.209375 157.533594) scale(0.1 -0.1)\">\n     <use xlink:href=\"#DejaVuSans-30\"/>\n     <use xlink:href=\"#DejaVuSans-2e\" x=\"63.623047\"/>\n     <use xlink:href=\"#DejaVuSans-32\" x=\"95.410156\"/>\n     <use xlink:href=\"#DejaVuSans-35\" x=\"159.033203\"/>\n    </g>\n   </g>\n   <g id=\"text_57\">\n    <!-- 0.29 -->\n    <g style=\"fill: #ffffff\" transform=\"translate(460.059375 157.533594) scale(0.1 -0.1)\">\n     <defs>\n      <path id=\"DejaVuSans-39\" d=\"M 703 97 \nL 703 672 \nQ 941 559 1184 500 \nQ 1428 441 1663 441 \nQ 2288 441 2617 861 \nQ 2947 1281 2994 2138 \nQ 2813 1869 2534 1725 \nQ 2256 1581 1919 1581 \nQ 1219 1581 811 2004 \nQ 403 2428 403 3163 \nQ 403 3881 828 4315 \nQ 1253 4750 1959 4750 \nQ 2769 4750 3195 4129 \nQ 3622 3509 3622 2328 \nQ 3622 1225 3098 567 \nQ 2575 -91 1691 -91 \nQ 1453 -91 1209 -44 \nQ 966 3 703 97 \nz\nM 1959 2075 \nQ 2384 2075 2632 2365 \nQ 2881 2656 2881 3163 \nQ 2881 3666 2632 3958 \nQ 2384 4250 1959 4250 \nQ 1534 4250 1286 3958 \nQ 1038 3666 1038 3163 \nQ 1038 2656 1286 2365 \nQ 1534 2075 1959 2075 \nz\n\" transform=\"scale(0.015625)\"/>\n     </defs>\n     <use xlink:href=\"#DejaVuSans-30\"/>\n     <use xlink:href=\"#DejaVuSans-2e\" x=\"63.623047\"/>\n     <use xlink:href=\"#DejaVuSans-32\" x=\"95.410156\"/>\n     <use xlink:href=\"#DejaVuSans-39\" x=\"159.033203\"/>\n    </g>\n   </g>\n   <g id=\"text_58\">\n    <!-- 0.21 -->\n    <g style=\"fill: #ffffff\" transform=\"translate(501.909375 157.533594) scale(0.1 -0.1)\">\n     <use xlink:href=\"#DejaVuSans-30\"/>\n     <use xlink:href=\"#DejaVuSans-2e\" x=\"63.623047\"/>\n     <use xlink:href=\"#DejaVuSans-32\" x=\"95.410156\"/>\n     <use xlink:href=\"#DejaVuSans-31\" x=\"159.033203\"/>\n    </g>\n   </g>\n   <g id=\"text_59\">\n    <!-- 0.11 -->\n    <g style=\"fill: #262626\" transform=\"translate(543.759375 157.533594) scale(0.1 -0.1)\">\n     <use xlink:href=\"#DejaVuSans-30\"/>\n     <use xlink:href=\"#DejaVuSans-2e\" x=\"63.623047\"/>\n     <use xlink:href=\"#DejaVuSans-31\" x=\"95.410156\"/>\n     <use xlink:href=\"#DejaVuSans-31\" x=\"159.033203\"/>\n    </g>\n   </g>\n   <g id=\"text_60\">\n    <!-- 0.11 -->\n    <g style=\"fill: #262626\" transform=\"translate(585.609375 157.533594) scale(0.1 -0.1)\">\n     <use xlink:href=\"#DejaVuSans-30\"/>\n     <use xlink:href=\"#DejaVuSans-2e\" x=\"63.623047\"/>\n     <use xlink:href=\"#DejaVuSans-31\" x=\"95.410156\"/>\n     <use xlink:href=\"#DejaVuSans-31\" x=\"159.033203\"/>\n    </g>\n   </g>\n   <g id=\"text_61\">\n    <!-- 0.056 -->\n    <g style=\"fill: #262626\" transform=\"translate(624.278125 157.533594) scale(0.1 -0.1)\">\n     <use xlink:href=\"#DejaVuSans-30\"/>\n     <use xlink:href=\"#DejaVuSans-2e\" x=\"63.623047\"/>\n     <use xlink:href=\"#DejaVuSans-30\" x=\"95.410156\"/>\n     <use xlink:href=\"#DejaVuSans-35\" x=\"159.033203\"/>\n     <use xlink:href=\"#DejaVuSans-36\" x=\"222.65625\"/>\n    </g>\n   </g>\n   <g id=\"text_62\">\n    <!-- 0.3 -->\n    <g style=\"fill: #ffffff\" transform=\"translate(672.490625 157.533594) scale(0.1 -0.1)\">\n     <use xlink:href=\"#DejaVuSans-30\"/>\n     <use xlink:href=\"#DejaVuSans-2e\" x=\"63.623047\"/>\n     <use xlink:href=\"#DejaVuSans-33\" x=\"95.410156\"/>\n    </g>\n   </g>\n   <g id=\"text_63\">\n    <!-- -0.017 -->\n    <g style=\"fill: #262626\" transform=\"translate(706.174219 157.533594) scale(0.1 -0.1)\">\n     <use xlink:href=\"#DejaVuSans-2d\"/>\n     <use xlink:href=\"#DejaVuSans-30\" x=\"36.083984\"/>\n     <use xlink:href=\"#DejaVuSans-2e\" x=\"99.707031\"/>\n     <use xlink:href=\"#DejaVuSans-30\" x=\"131.494141\"/>\n     <use xlink:href=\"#DejaVuSans-31\" x=\"195.117188\"/>\n     <use xlink:href=\"#DejaVuSans-37\" x=\"258.740234\"/>\n    </g>\n   </g>\n   <g id=\"text_64\">\n    <!-- -0.3 -->\n    <g style=\"fill: #262626\" transform=\"translate(754.386719 157.533594) scale(0.1 -0.1)\">\n     <use xlink:href=\"#DejaVuSans-2d\"/>\n     <use xlink:href=\"#DejaVuSans-30\" x=\"36.083984\"/>\n     <use xlink:href=\"#DejaVuSans-2e\" x=\"99.707031\"/>\n     <use xlink:href=\"#DejaVuSans-33\" x=\"131.494141\"/>\n    </g>\n   </g>\n   <g id=\"text_65\">\n    <!-- 0.014 -->\n    <g style=\"fill: #262626\" transform=\"translate(122.078125 199.383594) scale(0.1 -0.1)\">\n     <use xlink:href=\"#DejaVuSans-30\"/>\n     <use xlink:href=\"#DejaVuSans-2e\" x=\"63.623047\"/>\n     <use xlink:href=\"#DejaVuSans-30\" x=\"95.410156\"/>\n     <use xlink:href=\"#DejaVuSans-31\" x=\"159.033203\"/>\n     <use xlink:href=\"#DejaVuSans-34\" x=\"222.65625\"/>\n    </g>\n   </g>\n   <g id=\"text_66\">\n    <!-- 0.031 -->\n    <g style=\"fill: #262626\" transform=\"translate(163.928125 199.383594) scale(0.1 -0.1)\">\n     <use xlink:href=\"#DejaVuSans-30\"/>\n     <use xlink:href=\"#DejaVuSans-2e\" x=\"63.623047\"/>\n     <use xlink:href=\"#DejaVuSans-30\" x=\"95.410156\"/>\n     <use xlink:href=\"#DejaVuSans-33\" x=\"159.033203\"/>\n     <use xlink:href=\"#DejaVuSans-31\" x=\"222.65625\"/>\n    </g>\n   </g>\n   <g id=\"text_67\">\n    <!-- 1 -->\n    <g style=\"fill: #ffffff\" transform=\"translate(216.910938 199.383594) scale(0.1 -0.1)\">\n     <use xlink:href=\"#DejaVuSans-31\"/>\n    </g>\n   </g>\n   <g id=\"text_68\">\n    <!-- 0.0044 -->\n    <g style=\"fill: #262626\" transform=\"translate(244.446875 199.383594) scale(0.1 -0.1)\">\n     <use xlink:href=\"#DejaVuSans-30\"/>\n     <use xlink:href=\"#DejaVuSans-2e\" x=\"63.623047\"/>\n     <use xlink:href=\"#DejaVuSans-30\" x=\"95.410156\"/>\n     <use xlink:href=\"#DejaVuSans-30\" x=\"159.033203\"/>\n     <use xlink:href=\"#DejaVuSans-34\" x=\"222.65625\"/>\n     <use xlink:href=\"#DejaVuSans-34\" x=\"286.279297\"/>\n    </g>\n   </g>\n   <g id=\"text_69\">\n    <!-- -0.0088 -->\n    <g style=\"fill: #262626\" transform=\"translate(284.492969 199.383594) scale(0.1 -0.1)\">\n     <use xlink:href=\"#DejaVuSans-2d\"/>\n     <use xlink:href=\"#DejaVuSans-30\" x=\"36.083984\"/>\n     <use xlink:href=\"#DejaVuSans-2e\" x=\"99.707031\"/>\n     <use xlink:href=\"#DejaVuSans-30\" x=\"131.494141\"/>\n     <use xlink:href=\"#DejaVuSans-30\" x=\"195.117188\"/>\n     <use xlink:href=\"#DejaVuSans-38\" x=\"258.740234\"/>\n     <use xlink:href=\"#DejaVuSans-38\" x=\"322.363281\"/>\n    </g>\n   </g>\n   <g id=\"text_70\">\n    <!-- 0.015 -->\n    <g style=\"fill: #262626\" transform=\"translate(331.328125 199.383594) scale(0.1 -0.1)\">\n     <use xlink:href=\"#DejaVuSans-30\"/>\n     <use xlink:href=\"#DejaVuSans-2e\" x=\"63.623047\"/>\n     <use xlink:href=\"#DejaVuSans-30\" x=\"95.410156\"/>\n     <use xlink:href=\"#DejaVuSans-31\" x=\"159.033203\"/>\n     <use xlink:href=\"#DejaVuSans-35\" x=\"222.65625\"/>\n    </g>\n   </g>\n   <g id=\"text_71\">\n    <!-- -0.046 -->\n    <g style=\"fill: #262626\" transform=\"translate(371.374219 199.383594) scale(0.1 -0.1)\">\n     <use xlink:href=\"#DejaVuSans-2d\"/>\n     <use xlink:href=\"#DejaVuSans-30\" x=\"36.083984\"/>\n     <use xlink:href=\"#DejaVuSans-2e\" x=\"99.707031\"/>\n     <use xlink:href=\"#DejaVuSans-30\" x=\"131.494141\"/>\n     <use xlink:href=\"#DejaVuSans-34\" x=\"195.117188\"/>\n     <use xlink:href=\"#DejaVuSans-36\" x=\"258.740234\"/>\n    </g>\n   </g>\n   <g id=\"text_72\">\n    <!-- -0.0031 -->\n    <g style=\"fill: #262626\" transform=\"translate(410.042969 199.383594) scale(0.1 -0.1)\">\n     <use xlink:href=\"#DejaVuSans-2d\"/>\n     <use xlink:href=\"#DejaVuSans-30\" x=\"36.083984\"/>\n     <use xlink:href=\"#DejaVuSans-2e\" x=\"99.707031\"/>\n     <use xlink:href=\"#DejaVuSans-30\" x=\"131.494141\"/>\n     <use xlink:href=\"#DejaVuSans-30\" x=\"195.117188\"/>\n     <use xlink:href=\"#DejaVuSans-33\" x=\"258.740234\"/>\n     <use xlink:href=\"#DejaVuSans-31\" x=\"322.363281\"/>\n    </g>\n   </g>\n   <g id=\"text_73\">\n    <!-- 0.018 -->\n    <g style=\"fill: #262626\" transform=\"translate(456.878125 199.383594) scale(0.1 -0.1)\">\n     <use xlink:href=\"#DejaVuSans-30\"/>\n     <use xlink:href=\"#DejaVuSans-2e\" x=\"63.623047\"/>\n     <use xlink:href=\"#DejaVuSans-30\" x=\"95.410156\"/>\n     <use xlink:href=\"#DejaVuSans-31\" x=\"159.033203\"/>\n     <use xlink:href=\"#DejaVuSans-38\" x=\"222.65625\"/>\n    </g>\n   </g>\n   <g id=\"text_74\">\n    <!-- 0.01 -->\n    <g style=\"fill: #262626\" transform=\"translate(501.909375 199.383594) scale(0.1 -0.1)\">\n     <use xlink:href=\"#DejaVuSans-30\"/>\n     <use xlink:href=\"#DejaVuSans-2e\" x=\"63.623047\"/>\n     <use xlink:href=\"#DejaVuSans-30\" x=\"95.410156\"/>\n     <use xlink:href=\"#DejaVuSans-31\" x=\"159.033203\"/>\n    </g>\n   </g>\n   <g id=\"text_75\">\n    <!-- 0.022 -->\n    <g style=\"fill: #262626\" transform=\"translate(540.578125 199.383594) scale(0.1 -0.1)\">\n     <use xlink:href=\"#DejaVuSans-30\"/>\n     <use xlink:href=\"#DejaVuSans-2e\" x=\"63.623047\"/>\n     <use xlink:href=\"#DejaVuSans-30\" x=\"95.410156\"/>\n     <use xlink:href=\"#DejaVuSans-32\" x=\"159.033203\"/>\n     <use xlink:href=\"#DejaVuSans-32\" x=\"222.65625\"/>\n    </g>\n   </g>\n   <g id=\"text_76\">\n    <!-- 0.022 -->\n    <g style=\"fill: #262626\" transform=\"translate(582.428125 199.383594) scale(0.1 -0.1)\">\n     <use xlink:href=\"#DejaVuSans-30\"/>\n     <use xlink:href=\"#DejaVuSans-2e\" x=\"63.623047\"/>\n     <use xlink:href=\"#DejaVuSans-30\" x=\"95.410156\"/>\n     <use xlink:href=\"#DejaVuSans-32\" x=\"159.033203\"/>\n     <use xlink:href=\"#DejaVuSans-32\" x=\"222.65625\"/>\n    </g>\n   </g>\n   <g id=\"text_77\">\n    <!-- -0.034 -->\n    <g style=\"fill: #262626\" transform=\"translate(622.474219 199.383594) scale(0.1 -0.1)\">\n     <use xlink:href=\"#DejaVuSans-2d\"/>\n     <use xlink:href=\"#DejaVuSans-30\" x=\"36.083984\"/>\n     <use xlink:href=\"#DejaVuSans-2e\" x=\"99.707031\"/>\n     <use xlink:href=\"#DejaVuSans-30\" x=\"131.494141\"/>\n     <use xlink:href=\"#DejaVuSans-33\" x=\"195.117188\"/>\n     <use xlink:href=\"#DejaVuSans-34\" x=\"258.740234\"/>\n    </g>\n   </g>\n   <g id=\"text_78\">\n    <!-- 0.02 -->\n    <g style=\"fill: #262626\" transform=\"translate(669.309375 199.383594) scale(0.1 -0.1)\">\n     <use xlink:href=\"#DejaVuSans-30\"/>\n     <use xlink:href=\"#DejaVuSans-2e\" x=\"63.623047\"/>\n     <use xlink:href=\"#DejaVuSans-30\" x=\"95.410156\"/>\n     <use xlink:href=\"#DejaVuSans-32\" x=\"159.033203\"/>\n    </g>\n   </g>\n   <g id=\"text_79\">\n    <!-- -0.015 -->\n    <g style=\"fill: #262626\" transform=\"translate(706.174219 199.383594) scale(0.1 -0.1)\">\n     <use xlink:href=\"#DejaVuSans-2d\"/>\n     <use xlink:href=\"#DejaVuSans-30\" x=\"36.083984\"/>\n     <use xlink:href=\"#DejaVuSans-2e\" x=\"99.707031\"/>\n     <use xlink:href=\"#DejaVuSans-30\" x=\"131.494141\"/>\n     <use xlink:href=\"#DejaVuSans-31\" x=\"195.117188\"/>\n     <use xlink:href=\"#DejaVuSans-35\" x=\"258.740234\"/>\n    </g>\n   </g>\n   <g id=\"text_80\">\n    <!-- -0.026 -->\n    <g style=\"fill: #262626\" transform=\"translate(748.024219 199.383594) scale(0.1 -0.1)\">\n     <use xlink:href=\"#DejaVuSans-2d\"/>\n     <use xlink:href=\"#DejaVuSans-30\" x=\"36.083984\"/>\n     <use xlink:href=\"#DejaVuSans-2e\" x=\"99.707031\"/>\n     <use xlink:href=\"#DejaVuSans-30\" x=\"131.494141\"/>\n     <use xlink:href=\"#DejaVuSans-32\" x=\"195.117188\"/>\n     <use xlink:href=\"#DejaVuSans-36\" x=\"258.740234\"/>\n    </g>\n   </g>\n   <g id=\"text_81\">\n    <!-- -0.004 -->\n    <g style=\"fill: #262626\" transform=\"translate(120.274219 241.233594) scale(0.1 -0.1)\">\n     <use xlink:href=\"#DejaVuSans-2d\"/>\n     <use xlink:href=\"#DejaVuSans-30\" x=\"36.083984\"/>\n     <use xlink:href=\"#DejaVuSans-2e\" x=\"99.707031\"/>\n     <use xlink:href=\"#DejaVuSans-30\" x=\"131.494141\"/>\n     <use xlink:href=\"#DejaVuSans-30\" x=\"195.117188\"/>\n     <use xlink:href=\"#DejaVuSans-34\" x=\"258.740234\"/>\n    </g>\n   </g>\n   <g id=\"text_82\">\n    <!-- -0.01 -->\n    <g style=\"fill: #262626\" transform=\"translate(165.305469 241.233594) scale(0.1 -0.1)\">\n     <use xlink:href=\"#DejaVuSans-2d\"/>\n     <use xlink:href=\"#DejaVuSans-30\" x=\"36.083984\"/>\n     <use xlink:href=\"#DejaVuSans-2e\" x=\"99.707031\"/>\n     <use xlink:href=\"#DejaVuSans-30\" x=\"131.494141\"/>\n     <use xlink:href=\"#DejaVuSans-31\" x=\"195.117188\"/>\n    </g>\n   </g>\n   <g id=\"text_83\">\n    <!-- 0.0044 -->\n    <g style=\"fill: #262626\" transform=\"translate(202.596875 241.233594) scale(0.1 -0.1)\">\n     <use xlink:href=\"#DejaVuSans-30\"/>\n     <use xlink:href=\"#DejaVuSans-2e\" x=\"63.623047\"/>\n     <use xlink:href=\"#DejaVuSans-30\" x=\"95.410156\"/>\n     <use xlink:href=\"#DejaVuSans-30\" x=\"159.033203\"/>\n     <use xlink:href=\"#DejaVuSans-34\" x=\"222.65625\"/>\n     <use xlink:href=\"#DejaVuSans-34\" x=\"286.279297\"/>\n    </g>\n   </g>\n   <g id=\"text_84\">\n    <!-- 1 -->\n    <g style=\"fill: #ffffff\" transform=\"translate(258.760938 241.233594) scale(0.1 -0.1)\">\n     <use xlink:href=\"#DejaVuSans-31\"/>\n    </g>\n   </g>\n   <g id=\"text_85\">\n    <!-- 0.00078 -->\n    <g style=\"fill: #262626\" transform=\"translate(283.115625 241.233594) scale(0.1 -0.1)\">\n     <use xlink:href=\"#DejaVuSans-30\"/>\n     <use xlink:href=\"#DejaVuSans-2e\" x=\"63.623047\"/>\n     <use xlink:href=\"#DejaVuSans-30\" x=\"95.410156\"/>\n     <use xlink:href=\"#DejaVuSans-30\" x=\"159.033203\"/>\n     <use xlink:href=\"#DejaVuSans-30\" x=\"222.65625\"/>\n     <use xlink:href=\"#DejaVuSans-37\" x=\"286.279297\"/>\n     <use xlink:href=\"#DejaVuSans-38\" x=\"349.902344\"/>\n    </g>\n   </g>\n   <g id=\"text_86\">\n    <!-- -0.02 -->\n    <g style=\"fill: #262626\" transform=\"translate(332.705469 241.233594) scale(0.1 -0.1)\">\n     <use xlink:href=\"#DejaVuSans-2d\"/>\n     <use xlink:href=\"#DejaVuSans-30\" x=\"36.083984\"/>\n     <use xlink:href=\"#DejaVuSans-2e\" x=\"99.707031\"/>\n     <use xlink:href=\"#DejaVuSans-30\" x=\"131.494141\"/>\n     <use xlink:href=\"#DejaVuSans-32\" x=\"195.117188\"/>\n    </g>\n   </g>\n   <g id=\"text_87\">\n    <!-- -0.03 -->\n    <g style=\"fill: #262626\" transform=\"translate(374.555469 241.233594) scale(0.1 -0.1)\">\n     <use xlink:href=\"#DejaVuSans-2d\"/>\n     <use xlink:href=\"#DejaVuSans-30\" x=\"36.083984\"/>\n     <use xlink:href=\"#DejaVuSans-2e\" x=\"99.707031\"/>\n     <use xlink:href=\"#DejaVuSans-30\" x=\"131.494141\"/>\n     <use xlink:href=\"#DejaVuSans-33\" x=\"195.117188\"/>\n    </g>\n   </g>\n   <g id=\"text_88\">\n    <!-- -0.038 -->\n    <g style=\"fill: #262626\" transform=\"translate(413.224219 241.233594) scale(0.1 -0.1)\">\n     <use xlink:href=\"#DejaVuSans-2d\"/>\n     <use xlink:href=\"#DejaVuSans-30\" x=\"36.083984\"/>\n     <use xlink:href=\"#DejaVuSans-2e\" x=\"99.707031\"/>\n     <use xlink:href=\"#DejaVuSans-30\" x=\"131.494141\"/>\n     <use xlink:href=\"#DejaVuSans-33\" x=\"195.117188\"/>\n     <use xlink:href=\"#DejaVuSans-38\" x=\"258.740234\"/>\n    </g>\n   </g>\n   <g id=\"text_89\">\n    <!-- -0.076 -->\n    <g style=\"fill: #262626\" transform=\"translate(455.074219 241.233594) scale(0.1 -0.1)\">\n     <use xlink:href=\"#DejaVuSans-2d\"/>\n     <use xlink:href=\"#DejaVuSans-30\" x=\"36.083984\"/>\n     <use xlink:href=\"#DejaVuSans-2e\" x=\"99.707031\"/>\n     <use xlink:href=\"#DejaVuSans-30\" x=\"131.494141\"/>\n     <use xlink:href=\"#DejaVuSans-37\" x=\"195.117188\"/>\n     <use xlink:href=\"#DejaVuSans-36\" x=\"258.740234\"/>\n    </g>\n   </g>\n   <g id=\"text_90\">\n    <!-- -0.055 -->\n    <g style=\"fill: #262626\" transform=\"translate(496.924219 241.233594) scale(0.1 -0.1)\">\n     <use xlink:href=\"#DejaVuSans-2d\"/>\n     <use xlink:href=\"#DejaVuSans-30\" x=\"36.083984\"/>\n     <use xlink:href=\"#DejaVuSans-2e\" x=\"99.707031\"/>\n     <use xlink:href=\"#DejaVuSans-30\" x=\"131.494141\"/>\n     <use xlink:href=\"#DejaVuSans-35\" x=\"195.117188\"/>\n     <use xlink:href=\"#DejaVuSans-35\" x=\"258.740234\"/>\n    </g>\n   </g>\n   <g id=\"text_91\">\n    <!-- -0.024 -->\n    <g style=\"fill: #262626\" transform=\"translate(538.774219 241.233594) scale(0.1 -0.1)\">\n     <use xlink:href=\"#DejaVuSans-2d\"/>\n     <use xlink:href=\"#DejaVuSans-30\" x=\"36.083984\"/>\n     <use xlink:href=\"#DejaVuSans-2e\" x=\"99.707031\"/>\n     <use xlink:href=\"#DejaVuSans-30\" x=\"131.494141\"/>\n     <use xlink:href=\"#DejaVuSans-32\" x=\"195.117188\"/>\n     <use xlink:href=\"#DejaVuSans-34\" x=\"258.740234\"/>\n    </g>\n   </g>\n   <g id=\"text_92\">\n    <!-- -0.024 -->\n    <g style=\"fill: #262626\" transform=\"translate(580.624219 241.233594) scale(0.1 -0.1)\">\n     <use xlink:href=\"#DejaVuSans-2d\"/>\n     <use xlink:href=\"#DejaVuSans-30\" x=\"36.083984\"/>\n     <use xlink:href=\"#DejaVuSans-2e\" x=\"99.707031\"/>\n     <use xlink:href=\"#DejaVuSans-30\" x=\"131.494141\"/>\n     <use xlink:href=\"#DejaVuSans-32\" x=\"195.117188\"/>\n     <use xlink:href=\"#DejaVuSans-34\" x=\"258.740234\"/>\n    </g>\n   </g>\n   <g id=\"text_93\">\n    <!-- 0.074 -->\n    <g style=\"fill: #262626\" transform=\"translate(624.278125 241.233594) scale(0.1 -0.1)\">\n     <use xlink:href=\"#DejaVuSans-30\"/>\n     <use xlink:href=\"#DejaVuSans-2e\" x=\"63.623047\"/>\n     <use xlink:href=\"#DejaVuSans-30\" x=\"95.410156\"/>\n     <use xlink:href=\"#DejaVuSans-37\" x=\"159.033203\"/>\n     <use xlink:href=\"#DejaVuSans-34\" x=\"222.65625\"/>\n    </g>\n   </g>\n   <g id=\"text_94\">\n    <!-- -0.062 -->\n    <g style=\"fill: #262626\" transform=\"translate(664.324219 241.233594) scale(0.1 -0.1)\">\n     <use xlink:href=\"#DejaVuSans-2d\"/>\n     <use xlink:href=\"#DejaVuSans-30\" x=\"36.083984\"/>\n     <use xlink:href=\"#DejaVuSans-2e\" x=\"99.707031\"/>\n     <use xlink:href=\"#DejaVuSans-30\" x=\"131.494141\"/>\n     <use xlink:href=\"#DejaVuSans-36\" x=\"195.117188\"/>\n     <use xlink:href=\"#DejaVuSans-32\" x=\"258.740234\"/>\n    </g>\n   </g>\n   <g id=\"text_95\">\n    <!-- 0.012 -->\n    <g style=\"fill: #262626\" transform=\"translate(707.978125 241.233594) scale(0.1 -0.1)\">\n     <use xlink:href=\"#DejaVuSans-30\"/>\n     <use xlink:href=\"#DejaVuSans-2e\" x=\"63.623047\"/>\n     <use xlink:href=\"#DejaVuSans-30\" x=\"95.410156\"/>\n     <use xlink:href=\"#DejaVuSans-31\" x=\"159.033203\"/>\n     <use xlink:href=\"#DejaVuSans-32\" x=\"222.65625\"/>\n    </g>\n   </g>\n   <g id=\"text_96\">\n    <!-- -0.031 -->\n    <g style=\"fill: #262626\" transform=\"translate(748.024219 241.233594) scale(0.1 -0.1)\">\n     <use xlink:href=\"#DejaVuSans-2d\"/>\n     <use xlink:href=\"#DejaVuSans-30\" x=\"36.083984\"/>\n     <use xlink:href=\"#DejaVuSans-2e\" x=\"99.707031\"/>\n     <use xlink:href=\"#DejaVuSans-30\" x=\"131.494141\"/>\n     <use xlink:href=\"#DejaVuSans-33\" x=\"195.117188\"/>\n     <use xlink:href=\"#DejaVuSans-31\" x=\"258.740234\"/>\n    </g>\n   </g>\n   <g id=\"text_97\">\n    <!-- -0.014 -->\n    <g style=\"fill: #262626\" transform=\"translate(120.274219 283.083594) scale(0.1 -0.1)\">\n     <use xlink:href=\"#DejaVuSans-2d\"/>\n     <use xlink:href=\"#DejaVuSans-30\" x=\"36.083984\"/>\n     <use xlink:href=\"#DejaVuSans-2e\" x=\"99.707031\"/>\n     <use xlink:href=\"#DejaVuSans-30\" x=\"131.494141\"/>\n     <use xlink:href=\"#DejaVuSans-31\" x=\"195.117188\"/>\n     <use xlink:href=\"#DejaVuSans-34\" x=\"258.740234\"/>\n    </g>\n   </g>\n   <g id=\"text_98\">\n    <!-- -0.0078 -->\n    <g style=\"fill: #262626\" transform=\"translate(158.942969 283.083594) scale(0.1 -0.1)\">\n     <use xlink:href=\"#DejaVuSans-2d\"/>\n     <use xlink:href=\"#DejaVuSans-30\" x=\"36.083984\"/>\n     <use xlink:href=\"#DejaVuSans-2e\" x=\"99.707031\"/>\n     <use xlink:href=\"#DejaVuSans-30\" x=\"131.494141\"/>\n     <use xlink:href=\"#DejaVuSans-30\" x=\"195.117188\"/>\n     <use xlink:href=\"#DejaVuSans-37\" x=\"258.740234\"/>\n     <use xlink:href=\"#DejaVuSans-38\" x=\"322.363281\"/>\n    </g>\n   </g>\n   <g id=\"text_99\">\n    <!-- -0.0088 -->\n    <g style=\"fill: #262626\" transform=\"translate(200.792969 283.083594) scale(0.1 -0.1)\">\n     <use xlink:href=\"#DejaVuSans-2d\"/>\n     <use xlink:href=\"#DejaVuSans-30\" x=\"36.083984\"/>\n     <use xlink:href=\"#DejaVuSans-2e\" x=\"99.707031\"/>\n     <use xlink:href=\"#DejaVuSans-30\" x=\"131.494141\"/>\n     <use xlink:href=\"#DejaVuSans-30\" x=\"195.117188\"/>\n     <use xlink:href=\"#DejaVuSans-38\" x=\"258.740234\"/>\n     <use xlink:href=\"#DejaVuSans-38\" x=\"322.363281\"/>\n    </g>\n   </g>\n   <g id=\"text_100\">\n    <!-- 0.00078 -->\n    <g style=\"fill: #262626\" transform=\"translate(241.265625 283.083594) scale(0.1 -0.1)\">\n     <use xlink:href=\"#DejaVuSans-30\"/>\n     <use xlink:href=\"#DejaVuSans-2e\" x=\"63.623047\"/>\n     <use xlink:href=\"#DejaVuSans-30\" x=\"95.410156\"/>\n     <use xlink:href=\"#DejaVuSans-30\" x=\"159.033203\"/>\n     <use xlink:href=\"#DejaVuSans-30\" x=\"222.65625\"/>\n     <use xlink:href=\"#DejaVuSans-37\" x=\"286.279297\"/>\n     <use xlink:href=\"#DejaVuSans-38\" x=\"349.902344\"/>\n    </g>\n   </g>\n   <g id=\"text_101\">\n    <!-- 1 -->\n    <g style=\"fill: #ffffff\" transform=\"translate(300.610938 283.083594) scale(0.1 -0.1)\">\n     <use xlink:href=\"#DejaVuSans-31\"/>\n    </g>\n   </g>\n   <g id=\"text_102\">\n    <!-- 0.13 -->\n    <g style=\"fill: #262626\" transform=\"translate(334.509375 283.083594) scale(0.1 -0.1)\">\n     <use xlink:href=\"#DejaVuSans-30\"/>\n     <use xlink:href=\"#DejaVuSans-2e\" x=\"63.623047\"/>\n     <use xlink:href=\"#DejaVuSans-31\" x=\"95.410156\"/>\n     <use xlink:href=\"#DejaVuSans-33\" x=\"159.033203\"/>\n    </g>\n   </g>\n   <g id=\"text_103\">\n    <!-- 0.0032 -->\n    <g style=\"fill: #262626\" transform=\"translate(369.996875 283.083594) scale(0.1 -0.1)\">\n     <use xlink:href=\"#DejaVuSans-30\"/>\n     <use xlink:href=\"#DejaVuSans-2e\" x=\"63.623047\"/>\n     <use xlink:href=\"#DejaVuSans-30\" x=\"95.410156\"/>\n     <use xlink:href=\"#DejaVuSans-30\" x=\"159.033203\"/>\n     <use xlink:href=\"#DejaVuSans-33\" x=\"222.65625\"/>\n     <use xlink:href=\"#DejaVuSans-32\" x=\"286.279297\"/>\n    </g>\n   </g>\n   <g id=\"text_104\">\n    <!-- -0.017 -->\n    <g style=\"fill: #262626\" transform=\"translate(413.224219 283.083594) scale(0.1 -0.1)\">\n     <use xlink:href=\"#DejaVuSans-2d\"/>\n     <use xlink:href=\"#DejaVuSans-30\" x=\"36.083984\"/>\n     <use xlink:href=\"#DejaVuSans-2e\" x=\"99.707031\"/>\n     <use xlink:href=\"#DejaVuSans-30\" x=\"131.494141\"/>\n     <use xlink:href=\"#DejaVuSans-31\" x=\"195.117188\"/>\n     <use xlink:href=\"#DejaVuSans-37\" x=\"258.740234\"/>\n    </g>\n   </g>\n   <g id=\"text_105\">\n    <!-- 0.022 -->\n    <g style=\"fill: #262626\" transform=\"translate(456.878125 283.083594) scale(0.1 -0.1)\">\n     <use xlink:href=\"#DejaVuSans-30\"/>\n     <use xlink:href=\"#DejaVuSans-2e\" x=\"63.623047\"/>\n     <use xlink:href=\"#DejaVuSans-30\" x=\"95.410156\"/>\n     <use xlink:href=\"#DejaVuSans-32\" x=\"159.033203\"/>\n     <use xlink:href=\"#DejaVuSans-32\" x=\"222.65625\"/>\n    </g>\n   </g>\n   <g id=\"text_106\">\n    <!-- 0.035 -->\n    <g style=\"fill: #262626\" transform=\"translate(498.728125 283.083594) scale(0.1 -0.1)\">\n     <use xlink:href=\"#DejaVuSans-30\"/>\n     <use xlink:href=\"#DejaVuSans-2e\" x=\"63.623047\"/>\n     <use xlink:href=\"#DejaVuSans-30\" x=\"95.410156\"/>\n     <use xlink:href=\"#DejaVuSans-33\" x=\"159.033203\"/>\n     <use xlink:href=\"#DejaVuSans-35\" x=\"222.65625\"/>\n    </g>\n   </g>\n   <g id=\"text_107\">\n    <!-- -0.024 -->\n    <g style=\"fill: #262626\" transform=\"translate(538.774219 283.083594) scale(0.1 -0.1)\">\n     <use xlink:href=\"#DejaVuSans-2d\"/>\n     <use xlink:href=\"#DejaVuSans-30\" x=\"36.083984\"/>\n     <use xlink:href=\"#DejaVuSans-2e\" x=\"99.707031\"/>\n     <use xlink:href=\"#DejaVuSans-30\" x=\"131.494141\"/>\n     <use xlink:href=\"#DejaVuSans-32\" x=\"195.117188\"/>\n     <use xlink:href=\"#DejaVuSans-34\" x=\"258.740234\"/>\n    </g>\n   </g>\n   <g id=\"text_108\">\n    <!-- -0.024 -->\n    <g style=\"fill: #262626\" transform=\"translate(580.624219 283.083594) scale(0.1 -0.1)\">\n     <use xlink:href=\"#DejaVuSans-2d\"/>\n     <use xlink:href=\"#DejaVuSans-30\" x=\"36.083984\"/>\n     <use xlink:href=\"#DejaVuSans-2e\" x=\"99.707031\"/>\n     <use xlink:href=\"#DejaVuSans-30\" x=\"131.494141\"/>\n     <use xlink:href=\"#DejaVuSans-32\" x=\"195.117188\"/>\n     <use xlink:href=\"#DejaVuSans-34\" x=\"258.740234\"/>\n    </g>\n   </g>\n   <g id=\"text_109\">\n    <!-- 0.03 -->\n    <g style=\"fill: #262626\" transform=\"translate(627.459375 283.083594) scale(0.1 -0.1)\">\n     <use xlink:href=\"#DejaVuSans-30\"/>\n     <use xlink:href=\"#DejaVuSans-2e\" x=\"63.623047\"/>\n     <use xlink:href=\"#DejaVuSans-30\" x=\"95.410156\"/>\n     <use xlink:href=\"#DejaVuSans-33\" x=\"159.033203\"/>\n    </g>\n   </g>\n   <g id=\"text_110\">\n    <!-- 0.02 -->\n    <g style=\"fill: #262626\" transform=\"translate(669.309375 283.083594) scale(0.1 -0.1)\">\n     <use xlink:href=\"#DejaVuSans-30\"/>\n     <use xlink:href=\"#DejaVuSans-2e\" x=\"63.623047\"/>\n     <use xlink:href=\"#DejaVuSans-30\" x=\"95.410156\"/>\n     <use xlink:href=\"#DejaVuSans-32\" x=\"159.033203\"/>\n    </g>\n   </g>\n   <g id=\"text_111\">\n    <!-- -0.02 -->\n    <g style=\"fill: #262626\" transform=\"translate(709.355469 283.083594) scale(0.1 -0.1)\">\n     <use xlink:href=\"#DejaVuSans-2d\"/>\n     <use xlink:href=\"#DejaVuSans-30\" x=\"36.083984\"/>\n     <use xlink:href=\"#DejaVuSans-2e\" x=\"99.707031\"/>\n     <use xlink:href=\"#DejaVuSans-30\" x=\"131.494141\"/>\n     <use xlink:href=\"#DejaVuSans-32\" x=\"195.117188\"/>\n    </g>\n   </g>\n   <g id=\"text_112\">\n    <!-- 0.0078 -->\n    <g style=\"fill: #262626\" transform=\"translate(746.646875 283.083594) scale(0.1 -0.1)\">\n     <use xlink:href=\"#DejaVuSans-30\"/>\n     <use xlink:href=\"#DejaVuSans-2e\" x=\"63.623047\"/>\n     <use xlink:href=\"#DejaVuSans-30\" x=\"95.410156\"/>\n     <use xlink:href=\"#DejaVuSans-30\" x=\"159.033203\"/>\n     <use xlink:href=\"#DejaVuSans-37\" x=\"222.65625\"/>\n     <use xlink:href=\"#DejaVuSans-38\" x=\"286.279297\"/>\n    </g>\n   </g>\n   <g id=\"text_113\">\n    <!-- -0.02 -->\n    <g style=\"fill: #262626\" transform=\"translate(123.455469 324.933594) scale(0.1 -0.1)\">\n     <use xlink:href=\"#DejaVuSans-2d\"/>\n     <use xlink:href=\"#DejaVuSans-30\" x=\"36.083984\"/>\n     <use xlink:href=\"#DejaVuSans-2e\" x=\"99.707031\"/>\n     <use xlink:href=\"#DejaVuSans-30\" x=\"131.494141\"/>\n     <use xlink:href=\"#DejaVuSans-32\" x=\"195.117188\"/>\n    </g>\n   </g>\n   <g id=\"text_114\">\n    <!-- 0.21 -->\n    <g style=\"fill: #ffffff\" transform=\"translate(167.109375 324.933594) scale(0.1 -0.1)\">\n     <use xlink:href=\"#DejaVuSans-30\"/>\n     <use xlink:href=\"#DejaVuSans-2e\" x=\"63.623047\"/>\n     <use xlink:href=\"#DejaVuSans-32\" x=\"95.410156\"/>\n     <use xlink:href=\"#DejaVuSans-31\" x=\"159.033203\"/>\n    </g>\n   </g>\n   <g id=\"text_115\">\n    <!-- 0.015 -->\n    <g style=\"fill: #262626\" transform=\"translate(205.778125 324.933594) scale(0.1 -0.1)\">\n     <use xlink:href=\"#DejaVuSans-30\"/>\n     <use xlink:href=\"#DejaVuSans-2e\" x=\"63.623047\"/>\n     <use xlink:href=\"#DejaVuSans-30\" x=\"95.410156\"/>\n     <use xlink:href=\"#DejaVuSans-31\" x=\"159.033203\"/>\n     <use xlink:href=\"#DejaVuSans-35\" x=\"222.65625\"/>\n    </g>\n   </g>\n   <g id=\"text_116\">\n    <!-- -0.02 -->\n    <g style=\"fill: #262626\" transform=\"translate(249.005469 324.933594) scale(0.1 -0.1)\">\n     <use xlink:href=\"#DejaVuSans-2d\"/>\n     <use xlink:href=\"#DejaVuSans-30\" x=\"36.083984\"/>\n     <use xlink:href=\"#DejaVuSans-2e\" x=\"99.707031\"/>\n     <use xlink:href=\"#DejaVuSans-30\" x=\"131.494141\"/>\n     <use xlink:href=\"#DejaVuSans-32\" x=\"195.117188\"/>\n    </g>\n   </g>\n   <g id=\"text_117\">\n    <!-- 0.13 -->\n    <g style=\"fill: #262626\" transform=\"translate(292.659375 324.933594) scale(0.1 -0.1)\">\n     <use xlink:href=\"#DejaVuSans-30\"/>\n     <use xlink:href=\"#DejaVuSans-2e\" x=\"63.623047\"/>\n     <use xlink:href=\"#DejaVuSans-31\" x=\"95.410156\"/>\n     <use xlink:href=\"#DejaVuSans-33\" x=\"159.033203\"/>\n    </g>\n   </g>\n   <g id=\"text_118\">\n    <!-- 1 -->\n    <g style=\"fill: #ffffff\" transform=\"translate(342.460938 324.933594) scale(0.1 -0.1)\">\n     <use xlink:href=\"#DejaVuSans-31\"/>\n    </g>\n   </g>\n   <g id=\"text_119\">\n    <!-- 0.49 -->\n    <g style=\"fill: #ffffff\" transform=\"translate(376.359375 324.933594) scale(0.1 -0.1)\">\n     <use xlink:href=\"#DejaVuSans-30\"/>\n     <use xlink:href=\"#DejaVuSans-2e\" x=\"63.623047\"/>\n     <use xlink:href=\"#DejaVuSans-34\" x=\"95.410156\"/>\n     <use xlink:href=\"#DejaVuSans-39\" x=\"159.033203\"/>\n    </g>\n   </g>\n   <g id=\"text_120\">\n    <!-- 0.73 -->\n    <g style=\"fill: #ffffff\" transform=\"translate(418.209375 324.933594) scale(0.1 -0.1)\">\n     <use xlink:href=\"#DejaVuSans-30\"/>\n     <use xlink:href=\"#DejaVuSans-2e\" x=\"63.623047\"/>\n     <use xlink:href=\"#DejaVuSans-37\" x=\"95.410156\"/>\n     <use xlink:href=\"#DejaVuSans-33\" x=\"159.033203\"/>\n    </g>\n   </g>\n   <g id=\"text_121\">\n    <!-- 0.31 -->\n    <g style=\"fill: #ffffff\" transform=\"translate(460.059375 324.933594) scale(0.1 -0.1)\">\n     <use xlink:href=\"#DejaVuSans-30\"/>\n     <use xlink:href=\"#DejaVuSans-2e\" x=\"63.623047\"/>\n     <use xlink:href=\"#DejaVuSans-33\" x=\"95.410156\"/>\n     <use xlink:href=\"#DejaVuSans-31\" x=\"159.033203\"/>\n    </g>\n   </g>\n   <g id=\"text_122\">\n    <!-- 0.18 -->\n    <g style=\"fill: #262626\" transform=\"translate(501.909375 324.933594) scale(0.1 -0.1)\">\n     <use xlink:href=\"#DejaVuSans-30\"/>\n     <use xlink:href=\"#DejaVuSans-2e\" x=\"63.623047\"/>\n     <use xlink:href=\"#DejaVuSans-31\" x=\"95.410156\"/>\n     <use xlink:href=\"#DejaVuSans-38\" x=\"159.033203\"/>\n    </g>\n   </g>\n   <g id=\"text_123\">\n    <!-- 0.082 -->\n    <g style=\"fill: #262626\" transform=\"translate(540.578125 324.933594) scale(0.1 -0.1)\">\n     <use xlink:href=\"#DejaVuSans-30\"/>\n     <use xlink:href=\"#DejaVuSans-2e\" x=\"63.623047\"/>\n     <use xlink:href=\"#DejaVuSans-30\" x=\"95.410156\"/>\n     <use xlink:href=\"#DejaVuSans-38\" x=\"159.033203\"/>\n     <use xlink:href=\"#DejaVuSans-32\" x=\"222.65625\"/>\n    </g>\n   </g>\n   <g id=\"text_124\">\n    <!-- 0.082 -->\n    <g style=\"fill: #262626\" transform=\"translate(582.428125 324.933594) scale(0.1 -0.1)\">\n     <use xlink:href=\"#DejaVuSans-30\"/>\n     <use xlink:href=\"#DejaVuSans-2e\" x=\"63.623047\"/>\n     <use xlink:href=\"#DejaVuSans-30\" x=\"95.410156\"/>\n     <use xlink:href=\"#DejaVuSans-38\" x=\"159.033203\"/>\n     <use xlink:href=\"#DejaVuSans-32\" x=\"222.65625\"/>\n    </g>\n   </g>\n   <g id=\"text_125\">\n    <!-- -0.033 -->\n    <g style=\"fill: #262626\" transform=\"translate(622.474219 324.933594) scale(0.1 -0.1)\">\n     <use xlink:href=\"#DejaVuSans-2d\"/>\n     <use xlink:href=\"#DejaVuSans-30\" x=\"36.083984\"/>\n     <use xlink:href=\"#DejaVuSans-2e\" x=\"99.707031\"/>\n     <use xlink:href=\"#DejaVuSans-30\" x=\"131.494141\"/>\n     <use xlink:href=\"#DejaVuSans-33\" x=\"195.117188\"/>\n     <use xlink:href=\"#DejaVuSans-33\" x=\"258.740234\"/>\n    </g>\n   </g>\n   <g id=\"text_126\">\n    <!-- 0.26 -->\n    <g style=\"fill: #ffffff\" transform=\"translate(669.309375 324.933594) scale(0.1 -0.1)\">\n     <use xlink:href=\"#DejaVuSans-30\"/>\n     <use xlink:href=\"#DejaVuSans-2e\" x=\"63.623047\"/>\n     <use xlink:href=\"#DejaVuSans-32\" x=\"95.410156\"/>\n     <use xlink:href=\"#DejaVuSans-36\" x=\"159.033203\"/>\n    </g>\n   </g>\n   <g id=\"text_127\">\n    <!-- -0.02 -->\n    <g style=\"fill: #262626\" transform=\"translate(709.355469 324.933594) scale(0.1 -0.1)\">\n     <use xlink:href=\"#DejaVuSans-2d\"/>\n     <use xlink:href=\"#DejaVuSans-30\" x=\"36.083984\"/>\n     <use xlink:href=\"#DejaVuSans-2e\" x=\"99.707031\"/>\n     <use xlink:href=\"#DejaVuSans-30\" x=\"131.494141\"/>\n     <use xlink:href=\"#DejaVuSans-32\" x=\"195.117188\"/>\n    </g>\n   </g>\n   <g id=\"text_128\">\n    <!-- -0.19 -->\n    <g style=\"fill: #262626\" transform=\"translate(751.205469 324.933594) scale(0.1 -0.1)\">\n     <use xlink:href=\"#DejaVuSans-2d\"/>\n     <use xlink:href=\"#DejaVuSans-30\" x=\"36.083984\"/>\n     <use xlink:href=\"#DejaVuSans-2e\" x=\"99.707031\"/>\n     <use xlink:href=\"#DejaVuSans-31\" x=\"131.494141\"/>\n     <use xlink:href=\"#DejaVuSans-39\" x=\"195.117188\"/>\n    </g>\n   </g>\n   <g id=\"text_129\">\n    <!-- -0.023 -->\n    <g style=\"fill: #262626\" transform=\"translate(120.274219 366.783594) scale(0.1 -0.1)\">\n     <use xlink:href=\"#DejaVuSans-2d\"/>\n     <use xlink:href=\"#DejaVuSans-30\" x=\"36.083984\"/>\n     <use xlink:href=\"#DejaVuSans-2e\" x=\"99.707031\"/>\n     <use xlink:href=\"#DejaVuSans-30\" x=\"131.494141\"/>\n     <use xlink:href=\"#DejaVuSans-32\" x=\"195.117188\"/>\n     <use xlink:href=\"#DejaVuSans-33\" x=\"258.740234\"/>\n    </g>\n   </g>\n   <g id=\"text_130\">\n    <!-- 0.082 -->\n    <g style=\"fill: #262626\" transform=\"translate(163.928125 366.783594) scale(0.1 -0.1)\">\n     <use xlink:href=\"#DejaVuSans-30\"/>\n     <use xlink:href=\"#DejaVuSans-2e\" x=\"63.623047\"/>\n     <use xlink:href=\"#DejaVuSans-30\" x=\"95.410156\"/>\n     <use xlink:href=\"#DejaVuSans-38\" x=\"159.033203\"/>\n     <use xlink:href=\"#DejaVuSans-32\" x=\"222.65625\"/>\n    </g>\n   </g>\n   <g id=\"text_131\">\n    <!-- -0.046 -->\n    <g style=\"fill: #262626\" transform=\"translate(203.974219 366.783594) scale(0.1 -0.1)\">\n     <use xlink:href=\"#DejaVuSans-2d\"/>\n     <use xlink:href=\"#DejaVuSans-30\" x=\"36.083984\"/>\n     <use xlink:href=\"#DejaVuSans-2e\" x=\"99.707031\"/>\n     <use xlink:href=\"#DejaVuSans-30\" x=\"131.494141\"/>\n     <use xlink:href=\"#DejaVuSans-34\" x=\"195.117188\"/>\n     <use xlink:href=\"#DejaVuSans-36\" x=\"258.740234\"/>\n    </g>\n   </g>\n   <g id=\"text_132\">\n    <!-- -0.03 -->\n    <g style=\"fill: #262626\" transform=\"translate(249.005469 366.783594) scale(0.1 -0.1)\">\n     <use xlink:href=\"#DejaVuSans-2d\"/>\n     <use xlink:href=\"#DejaVuSans-30\" x=\"36.083984\"/>\n     <use xlink:href=\"#DejaVuSans-2e\" x=\"99.707031\"/>\n     <use xlink:href=\"#DejaVuSans-30\" x=\"131.494141\"/>\n     <use xlink:href=\"#DejaVuSans-33\" x=\"195.117188\"/>\n    </g>\n   </g>\n   <g id=\"text_133\">\n    <!-- 0.0032 -->\n    <g style=\"fill: #262626\" transform=\"translate(286.296875 366.783594) scale(0.1 -0.1)\">\n     <use xlink:href=\"#DejaVuSans-30\"/>\n     <use xlink:href=\"#DejaVuSans-2e\" x=\"63.623047\"/>\n     <use xlink:href=\"#DejaVuSans-30\" x=\"95.410156\"/>\n     <use xlink:href=\"#DejaVuSans-30\" x=\"159.033203\"/>\n     <use xlink:href=\"#DejaVuSans-33\" x=\"222.65625\"/>\n     <use xlink:href=\"#DejaVuSans-32\" x=\"286.279297\"/>\n    </g>\n   </g>\n   <g id=\"text_134\">\n    <!-- 0.49 -->\n    <g style=\"fill: #ffffff\" transform=\"translate(334.509375 366.783594) scale(0.1 -0.1)\">\n     <use xlink:href=\"#DejaVuSans-30\"/>\n     <use xlink:href=\"#DejaVuSans-2e\" x=\"63.623047\"/>\n     <use xlink:href=\"#DejaVuSans-34\" x=\"95.410156\"/>\n     <use xlink:href=\"#DejaVuSans-39\" x=\"159.033203\"/>\n    </g>\n   </g>\n   <g id=\"text_135\">\n    <!-- 1 -->\n    <g style=\"fill: #ffffff\" transform=\"translate(384.310938 366.783594) scale(0.1 -0.1)\">\n     <use xlink:href=\"#DejaVuSans-31\"/>\n    </g>\n   </g>\n   <g id=\"text_136\">\n    <!-- 0.71 -->\n    <g style=\"fill: #ffffff\" transform=\"translate(418.209375 366.783594) scale(0.1 -0.1)\">\n     <use xlink:href=\"#DejaVuSans-30\"/>\n     <use xlink:href=\"#DejaVuSans-2e\" x=\"63.623047\"/>\n     <use xlink:href=\"#DejaVuSans-37\" x=\"95.410156\"/>\n     <use xlink:href=\"#DejaVuSans-31\" x=\"159.033203\"/>\n    </g>\n   </g>\n   <g id=\"text_137\">\n    <!-- -0.15 -->\n    <g style=\"fill: #262626\" transform=\"translate(458.255469 366.783594) scale(0.1 -0.1)\">\n     <use xlink:href=\"#DejaVuSans-2d\"/>\n     <use xlink:href=\"#DejaVuSans-30\" x=\"36.083984\"/>\n     <use xlink:href=\"#DejaVuSans-2e\" x=\"99.707031\"/>\n     <use xlink:href=\"#DejaVuSans-31\" x=\"131.494141\"/>\n     <use xlink:href=\"#DejaVuSans-35\" x=\"195.117188\"/>\n    </g>\n   </g>\n   <g id=\"text_138\">\n    <!-- -0.18 -->\n    <g style=\"fill: #262626\" transform=\"translate(500.105469 366.783594) scale(0.1 -0.1)\">\n     <use xlink:href=\"#DejaVuSans-2d\"/>\n     <use xlink:href=\"#DejaVuSans-30\" x=\"36.083984\"/>\n     <use xlink:href=\"#DejaVuSans-2e\" x=\"99.707031\"/>\n     <use xlink:href=\"#DejaVuSans-31\" x=\"131.494141\"/>\n     <use xlink:href=\"#DejaVuSans-38\" x=\"195.117188\"/>\n    </g>\n   </g>\n   <g id=\"text_139\">\n    <!-- -0.083 -->\n    <g style=\"fill: #262626\" transform=\"translate(538.774219 366.783594) scale(0.1 -0.1)\">\n     <use xlink:href=\"#DejaVuSans-2d\"/>\n     <use xlink:href=\"#DejaVuSans-30\" x=\"36.083984\"/>\n     <use xlink:href=\"#DejaVuSans-2e\" x=\"99.707031\"/>\n     <use xlink:href=\"#DejaVuSans-30\" x=\"131.494141\"/>\n     <use xlink:href=\"#DejaVuSans-38\" x=\"195.117188\"/>\n     <use xlink:href=\"#DejaVuSans-33\" x=\"258.740234\"/>\n    </g>\n   </g>\n   <g id=\"text_140\">\n    <!-- -0.083 -->\n    <g style=\"fill: #262626\" transform=\"translate(580.624219 366.783594) scale(0.1 -0.1)\">\n     <use xlink:href=\"#DejaVuSans-2d\"/>\n     <use xlink:href=\"#DejaVuSans-30\" x=\"36.083984\"/>\n     <use xlink:href=\"#DejaVuSans-2e\" x=\"99.707031\"/>\n     <use xlink:href=\"#DejaVuSans-30\" x=\"131.494141\"/>\n     <use xlink:href=\"#DejaVuSans-38\" x=\"195.117188\"/>\n     <use xlink:href=\"#DejaVuSans-33\" x=\"258.740234\"/>\n    </g>\n   </g>\n   <g id=\"text_141\">\n    <!-- -0.19 -->\n    <g style=\"fill: #262626\" transform=\"translate(625.655469 366.783594) scale(0.1 -0.1)\">\n     <use xlink:href=\"#DejaVuSans-2d\"/>\n     <use xlink:href=\"#DejaVuSans-30\" x=\"36.083984\"/>\n     <use xlink:href=\"#DejaVuSans-2e\" x=\"99.707031\"/>\n     <use xlink:href=\"#DejaVuSans-31\" x=\"131.494141\"/>\n     <use xlink:href=\"#DejaVuSans-39\" x=\"195.117188\"/>\n    </g>\n   </g>\n   <g id=\"text_142\">\n    <!-- -0.18 -->\n    <g style=\"fill: #262626\" transform=\"translate(667.505469 366.783594) scale(0.1 -0.1)\">\n     <use xlink:href=\"#DejaVuSans-2d\"/>\n     <use xlink:href=\"#DejaVuSans-30\" x=\"36.083984\"/>\n     <use xlink:href=\"#DejaVuSans-2e\" x=\"99.707031\"/>\n     <use xlink:href=\"#DejaVuSans-31\" x=\"131.494141\"/>\n     <use xlink:href=\"#DejaVuSans-38\" x=\"195.117188\"/>\n    </g>\n   </g>\n   <g id=\"text_143\">\n    <!-- 0.0019 -->\n    <g style=\"fill: #262626\" transform=\"translate(704.796875 366.783594) scale(0.1 -0.1)\">\n     <use xlink:href=\"#DejaVuSans-30\"/>\n     <use xlink:href=\"#DejaVuSans-2e\" x=\"63.623047\"/>\n     <use xlink:href=\"#DejaVuSans-30\" x=\"95.410156\"/>\n     <use xlink:href=\"#DejaVuSans-30\" x=\"159.033203\"/>\n     <use xlink:href=\"#DejaVuSans-31\" x=\"222.65625\"/>\n     <use xlink:href=\"#DejaVuSans-39\" x=\"286.279297\"/>\n    </g>\n   </g>\n   <g id=\"text_144\">\n    <!-- 0.31 -->\n    <g style=\"fill: #ffffff\" transform=\"translate(753.009375 366.783594) scale(0.1 -0.1)\">\n     <use xlink:href=\"#DejaVuSans-30\"/>\n     <use xlink:href=\"#DejaVuSans-2e\" x=\"63.623047\"/>\n     <use xlink:href=\"#DejaVuSans-33\" x=\"95.410156\"/>\n     <use xlink:href=\"#DejaVuSans-31\" x=\"159.033203\"/>\n    </g>\n   </g>\n   <g id=\"text_145\">\n    <!-- -0.014 -->\n    <g style=\"fill: #262626\" transform=\"translate(120.274219 408.633594) scale(0.1 -0.1)\">\n     <use xlink:href=\"#DejaVuSans-2d\"/>\n     <use xlink:href=\"#DejaVuSans-30\" x=\"36.083984\"/>\n     <use xlink:href=\"#DejaVuSans-2e\" x=\"99.707031\"/>\n     <use xlink:href=\"#DejaVuSans-30\" x=\"131.494141\"/>\n     <use xlink:href=\"#DejaVuSans-31\" x=\"195.117188\"/>\n     <use xlink:href=\"#DejaVuSans-34\" x=\"258.740234\"/>\n    </g>\n   </g>\n   <g id=\"text_146\">\n    <!-- 0.25 -->\n    <g style=\"fill: #ffffff\" transform=\"translate(167.109375 408.633594) scale(0.1 -0.1)\">\n     <use xlink:href=\"#DejaVuSans-30\"/>\n     <use xlink:href=\"#DejaVuSans-2e\" x=\"63.623047\"/>\n     <use xlink:href=\"#DejaVuSans-32\" x=\"95.410156\"/>\n     <use xlink:href=\"#DejaVuSans-35\" x=\"159.033203\"/>\n    </g>\n   </g>\n   <g id=\"text_147\">\n    <!-- -0.0031 -->\n    <g style=\"fill: #262626\" transform=\"translate(200.792969 408.633594) scale(0.1 -0.1)\">\n     <use xlink:href=\"#DejaVuSans-2d\"/>\n     <use xlink:href=\"#DejaVuSans-30\" x=\"36.083984\"/>\n     <use xlink:href=\"#DejaVuSans-2e\" x=\"99.707031\"/>\n     <use xlink:href=\"#DejaVuSans-30\" x=\"131.494141\"/>\n     <use xlink:href=\"#DejaVuSans-30\" x=\"195.117188\"/>\n     <use xlink:href=\"#DejaVuSans-33\" x=\"258.740234\"/>\n     <use xlink:href=\"#DejaVuSans-31\" x=\"322.363281\"/>\n    </g>\n   </g>\n   <g id=\"text_148\">\n    <!-- -0.038 -->\n    <g style=\"fill: #262626\" transform=\"translate(245.824219 408.633594) scale(0.1 -0.1)\">\n     <use xlink:href=\"#DejaVuSans-2d\"/>\n     <use xlink:href=\"#DejaVuSans-30\" x=\"36.083984\"/>\n     <use xlink:href=\"#DejaVuSans-2e\" x=\"99.707031\"/>\n     <use xlink:href=\"#DejaVuSans-30\" x=\"131.494141\"/>\n     <use xlink:href=\"#DejaVuSans-33\" x=\"195.117188\"/>\n     <use xlink:href=\"#DejaVuSans-38\" x=\"258.740234\"/>\n    </g>\n   </g>\n   <g id=\"text_149\">\n    <!-- -0.017 -->\n    <g style=\"fill: #262626\" transform=\"translate(287.674219 408.633594) scale(0.1 -0.1)\">\n     <use xlink:href=\"#DejaVuSans-2d\"/>\n     <use xlink:href=\"#DejaVuSans-30\" x=\"36.083984\"/>\n     <use xlink:href=\"#DejaVuSans-2e\" x=\"99.707031\"/>\n     <use xlink:href=\"#DejaVuSans-30\" x=\"131.494141\"/>\n     <use xlink:href=\"#DejaVuSans-31\" x=\"195.117188\"/>\n     <use xlink:href=\"#DejaVuSans-37\" x=\"258.740234\"/>\n    </g>\n   </g>\n   <g id=\"text_150\">\n    <!-- 0.73 -->\n    <g style=\"fill: #ffffff\" transform=\"translate(334.509375 408.633594) scale(0.1 -0.1)\">\n     <use xlink:href=\"#DejaVuSans-30\"/>\n     <use xlink:href=\"#DejaVuSans-2e\" x=\"63.623047\"/>\n     <use xlink:href=\"#DejaVuSans-37\" x=\"95.410156\"/>\n     <use xlink:href=\"#DejaVuSans-33\" x=\"159.033203\"/>\n    </g>\n   </g>\n   <g id=\"text_151\">\n    <!-- 0.71 -->\n    <g style=\"fill: #ffffff\" transform=\"translate(376.359375 408.633594) scale(0.1 -0.1)\">\n     <use xlink:href=\"#DejaVuSans-30\"/>\n     <use xlink:href=\"#DejaVuSans-2e\" x=\"63.623047\"/>\n     <use xlink:href=\"#DejaVuSans-37\" x=\"95.410156\"/>\n     <use xlink:href=\"#DejaVuSans-31\" x=\"159.033203\"/>\n    </g>\n   </g>\n   <g id=\"text_152\">\n    <!-- 1 -->\n    <g style=\"fill: #ffffff\" transform=\"translate(426.160938 408.633594) scale(0.1 -0.1)\">\n     <use xlink:href=\"#DejaVuSans-31\"/>\n    </g>\n   </g>\n   <g id=\"text_153\">\n    <!-- 0.3 -->\n    <g style=\"fill: #ffffff\" transform=\"translate(463.240625 408.633594) scale(0.1 -0.1)\">\n     <use xlink:href=\"#DejaVuSans-30\"/>\n     <use xlink:href=\"#DejaVuSans-2e\" x=\"63.623047\"/>\n     <use xlink:href=\"#DejaVuSans-33\" x=\"95.410156\"/>\n    </g>\n   </g>\n   <g id=\"text_154\">\n    <!-- 0.1 -->\n    <g style=\"fill: #262626\" transform=\"translate(505.090625 408.633594) scale(0.1 -0.1)\">\n     <use xlink:href=\"#DejaVuSans-30\"/>\n     <use xlink:href=\"#DejaVuSans-2e\" x=\"63.623047\"/>\n     <use xlink:href=\"#DejaVuSans-31\" x=\"95.410156\"/>\n    </g>\n   </g>\n   <g id=\"text_155\">\n    <!-- 0.15 -->\n    <g style=\"fill: #262626\" transform=\"translate(543.759375 408.633594) scale(0.1 -0.1)\">\n     <use xlink:href=\"#DejaVuSans-30\"/>\n     <use xlink:href=\"#DejaVuSans-2e\" x=\"63.623047\"/>\n     <use xlink:href=\"#DejaVuSans-31\" x=\"95.410156\"/>\n     <use xlink:href=\"#DejaVuSans-35\" x=\"159.033203\"/>\n    </g>\n   </g>\n   <g id=\"text_156\">\n    <!-- 0.15 -->\n    <g style=\"fill: #262626\" transform=\"translate(585.609375 408.633594) scale(0.1 -0.1)\">\n     <use xlink:href=\"#DejaVuSans-30\"/>\n     <use xlink:href=\"#DejaVuSans-2e\" x=\"63.623047\"/>\n     <use xlink:href=\"#DejaVuSans-31\" x=\"95.410156\"/>\n     <use xlink:href=\"#DejaVuSans-35\" x=\"159.033203\"/>\n    </g>\n   </g>\n   <g id=\"text_157\">\n    <!-- -0.074 -->\n    <g style=\"fill: #262626\" transform=\"translate(622.474219 408.633594) scale(0.1 -0.1)\">\n     <use xlink:href=\"#DejaVuSans-2d\"/>\n     <use xlink:href=\"#DejaVuSans-30\" x=\"36.083984\"/>\n     <use xlink:href=\"#DejaVuSans-2e\" x=\"99.707031\"/>\n     <use xlink:href=\"#DejaVuSans-30\" x=\"131.494141\"/>\n     <use xlink:href=\"#DejaVuSans-37\" x=\"195.117188\"/>\n     <use xlink:href=\"#DejaVuSans-34\" x=\"258.740234\"/>\n    </g>\n   </g>\n   <g id=\"text_158\">\n    <!-- 0.25 -->\n    <g style=\"fill: #ffffff\" transform=\"translate(669.309375 408.633594) scale(0.1 -0.1)\">\n     <use xlink:href=\"#DejaVuSans-30\"/>\n     <use xlink:href=\"#DejaVuSans-2e\" x=\"63.623047\"/>\n     <use xlink:href=\"#DejaVuSans-32\" x=\"95.410156\"/>\n     <use xlink:href=\"#DejaVuSans-35\" x=\"159.033203\"/>\n    </g>\n   </g>\n   <g id=\"text_159\">\n    <!-- -0.039 -->\n    <g style=\"fill: #262626\" transform=\"translate(706.174219 408.633594) scale(0.1 -0.1)\">\n     <use xlink:href=\"#DejaVuSans-2d\"/>\n     <use xlink:href=\"#DejaVuSans-30\" x=\"36.083984\"/>\n     <use xlink:href=\"#DejaVuSans-2e\" x=\"99.707031\"/>\n     <use xlink:href=\"#DejaVuSans-30\" x=\"131.494141\"/>\n     <use xlink:href=\"#DejaVuSans-33\" x=\"195.117188\"/>\n     <use xlink:href=\"#DejaVuSans-39\" x=\"258.740234\"/>\n    </g>\n   </g>\n   <g id=\"text_160\">\n    <!-- -0.2 -->\n    <g style=\"fill: #262626\" transform=\"translate(754.386719 408.633594) scale(0.1 -0.1)\">\n     <use xlink:href=\"#DejaVuSans-2d\"/>\n     <use xlink:href=\"#DejaVuSans-30\" x=\"36.083984\"/>\n     <use xlink:href=\"#DejaVuSans-2e\" x=\"99.707031\"/>\n     <use xlink:href=\"#DejaVuSans-32\" x=\"131.494141\"/>\n    </g>\n   </g>\n   <g id=\"text_161\">\n    <!-- 0.026 -->\n    <g style=\"fill: #262626\" transform=\"translate(122.078125 450.483594) scale(0.1 -0.1)\">\n     <use xlink:href=\"#DejaVuSans-30\"/>\n     <use xlink:href=\"#DejaVuSans-2e\" x=\"63.623047\"/>\n     <use xlink:href=\"#DejaVuSans-30\" x=\"95.410156\"/>\n     <use xlink:href=\"#DejaVuSans-32\" x=\"159.033203\"/>\n     <use xlink:href=\"#DejaVuSans-36\" x=\"222.65625\"/>\n    </g>\n   </g>\n   <g id=\"text_162\">\n    <!-- 0.29 -->\n    <g style=\"fill: #ffffff\" transform=\"translate(167.109375 450.483594) scale(0.1 -0.1)\">\n     <use xlink:href=\"#DejaVuSans-30\"/>\n     <use xlink:href=\"#DejaVuSans-2e\" x=\"63.623047\"/>\n     <use xlink:href=\"#DejaVuSans-32\" x=\"95.410156\"/>\n     <use xlink:href=\"#DejaVuSans-39\" x=\"159.033203\"/>\n    </g>\n   </g>\n   <g id=\"text_163\">\n    <!-- 0.018 -->\n    <g style=\"fill: #262626\" transform=\"translate(205.778125 450.483594) scale(0.1 -0.1)\">\n     <use xlink:href=\"#DejaVuSans-30\"/>\n     <use xlink:href=\"#DejaVuSans-2e\" x=\"63.623047\"/>\n     <use xlink:href=\"#DejaVuSans-30\" x=\"95.410156\"/>\n     <use xlink:href=\"#DejaVuSans-31\" x=\"159.033203\"/>\n     <use xlink:href=\"#DejaVuSans-38\" x=\"222.65625\"/>\n    </g>\n   </g>\n   <g id=\"text_164\">\n    <!-- -0.076 -->\n    <g style=\"fill: #262626\" transform=\"translate(245.824219 450.483594) scale(0.1 -0.1)\">\n     <use xlink:href=\"#DejaVuSans-2d\"/>\n     <use xlink:href=\"#DejaVuSans-30\" x=\"36.083984\"/>\n     <use xlink:href=\"#DejaVuSans-2e\" x=\"99.707031\"/>\n     <use xlink:href=\"#DejaVuSans-30\" x=\"131.494141\"/>\n     <use xlink:href=\"#DejaVuSans-37\" x=\"195.117188\"/>\n     <use xlink:href=\"#DejaVuSans-36\" x=\"258.740234\"/>\n    </g>\n   </g>\n   <g id=\"text_165\">\n    <!-- 0.022 -->\n    <g style=\"fill: #262626\" transform=\"translate(289.478125 450.483594) scale(0.1 -0.1)\">\n     <use xlink:href=\"#DejaVuSans-30\"/>\n     <use xlink:href=\"#DejaVuSans-2e\" x=\"63.623047\"/>\n     <use xlink:href=\"#DejaVuSans-30\" x=\"95.410156\"/>\n     <use xlink:href=\"#DejaVuSans-32\" x=\"159.033203\"/>\n     <use xlink:href=\"#DejaVuSans-32\" x=\"222.65625\"/>\n    </g>\n   </g>\n   <g id=\"text_166\">\n    <!-- 0.31 -->\n    <g style=\"fill: #ffffff\" transform=\"translate(334.509375 450.483594) scale(0.1 -0.1)\">\n     <use xlink:href=\"#DejaVuSans-30\"/>\n     <use xlink:href=\"#DejaVuSans-2e\" x=\"63.623047\"/>\n     <use xlink:href=\"#DejaVuSans-33\" x=\"95.410156\"/>\n     <use xlink:href=\"#DejaVuSans-31\" x=\"159.033203\"/>\n    </g>\n   </g>\n   <g id=\"text_167\">\n    <!-- -0.15 -->\n    <g style=\"fill: #262626\" transform=\"translate(374.555469 450.483594) scale(0.1 -0.1)\">\n     <use xlink:href=\"#DejaVuSans-2d\"/>\n     <use xlink:href=\"#DejaVuSans-30\" x=\"36.083984\"/>\n     <use xlink:href=\"#DejaVuSans-2e\" x=\"99.707031\"/>\n     <use xlink:href=\"#DejaVuSans-31\" x=\"131.494141\"/>\n     <use xlink:href=\"#DejaVuSans-35\" x=\"195.117188\"/>\n    </g>\n   </g>\n   <g id=\"text_168\">\n    <!-- 0.3 -->\n    <g style=\"fill: #ffffff\" transform=\"translate(421.390625 450.483594) scale(0.1 -0.1)\">\n     <use xlink:href=\"#DejaVuSans-30\"/>\n     <use xlink:href=\"#DejaVuSans-2e\" x=\"63.623047\"/>\n     <use xlink:href=\"#DejaVuSans-33\" x=\"95.410156\"/>\n    </g>\n   </g>\n   <g id=\"text_169\">\n    <!-- 1 -->\n    <g style=\"fill: #ffffff\" transform=\"translate(468.010938 450.483594) scale(0.1 -0.1)\">\n     <use xlink:href=\"#DejaVuSans-31\"/>\n    </g>\n   </g>\n   <g id=\"text_170\">\n    <!-- 0.78 -->\n    <g style=\"fill: #ffffff\" transform=\"translate(501.909375 450.483594) scale(0.1 -0.1)\">\n     <use xlink:href=\"#DejaVuSans-30\"/>\n     <use xlink:href=\"#DejaVuSans-2e\" x=\"63.623047\"/>\n     <use xlink:href=\"#DejaVuSans-37\" x=\"95.410156\"/>\n     <use xlink:href=\"#DejaVuSans-38\" x=\"159.033203\"/>\n    </g>\n   </g>\n   <g id=\"text_171\">\n    <!-- 0.31 -->\n    <g style=\"fill: #ffffff\" transform=\"translate(543.759375 450.483594) scale(0.1 -0.1)\">\n     <use xlink:href=\"#DejaVuSans-30\"/>\n     <use xlink:href=\"#DejaVuSans-2e\" x=\"63.623047\"/>\n     <use xlink:href=\"#DejaVuSans-33\" x=\"95.410156\"/>\n     <use xlink:href=\"#DejaVuSans-31\" x=\"159.033203\"/>\n    </g>\n   </g>\n   <g id=\"text_172\">\n    <!-- 0.31 -->\n    <g style=\"fill: #ffffff\" transform=\"translate(585.609375 450.483594) scale(0.1 -0.1)\">\n     <use xlink:href=\"#DejaVuSans-30\"/>\n     <use xlink:href=\"#DejaVuSans-2e\" x=\"63.623047\"/>\n     <use xlink:href=\"#DejaVuSans-33\" x=\"95.410156\"/>\n     <use xlink:href=\"#DejaVuSans-31\" x=\"159.033203\"/>\n    </g>\n   </g>\n   <g id=\"text_173\">\n    <!-- 0.042 -->\n    <g style=\"fill: #262626\" transform=\"translate(624.278125 450.483594) scale(0.1 -0.1)\">\n     <use xlink:href=\"#DejaVuSans-30\"/>\n     <use xlink:href=\"#DejaVuSans-2e\" x=\"63.623047\"/>\n     <use xlink:href=\"#DejaVuSans-30\" x=\"95.410156\"/>\n     <use xlink:href=\"#DejaVuSans-34\" x=\"159.033203\"/>\n     <use xlink:href=\"#DejaVuSans-32\" x=\"222.65625\"/>\n    </g>\n   </g>\n   <g id=\"text_174\">\n    <!-- 0.9 -->\n    <g style=\"fill: #ffffff\" transform=\"translate(672.490625 450.483594) scale(0.1 -0.1)\">\n     <use xlink:href=\"#DejaVuSans-30\"/>\n     <use xlink:href=\"#DejaVuSans-2e\" x=\"63.623047\"/>\n     <use xlink:href=\"#DejaVuSans-39\" x=\"95.410156\"/>\n    </g>\n   </g>\n   <g id=\"text_175\">\n    <!-- -0.078 -->\n    <g style=\"fill: #262626\" transform=\"translate(706.174219 450.483594) scale(0.1 -0.1)\">\n     <use xlink:href=\"#DejaVuSans-2d\"/>\n     <use xlink:href=\"#DejaVuSans-30\" x=\"36.083984\"/>\n     <use xlink:href=\"#DejaVuSans-2e\" x=\"99.707031\"/>\n     <use xlink:href=\"#DejaVuSans-30\" x=\"131.494141\"/>\n     <use xlink:href=\"#DejaVuSans-37\" x=\"195.117188\"/>\n     <use xlink:href=\"#DejaVuSans-38\" x=\"258.740234\"/>\n    </g>\n   </g>\n   <g id=\"text_176\">\n    <!-- -0.54 -->\n    <g style=\"fill: #262626\" transform=\"translate(751.205469 450.483594) scale(0.1 -0.1)\">\n     <use xlink:href=\"#DejaVuSans-2d\"/>\n     <use xlink:href=\"#DejaVuSans-30\" x=\"36.083984\"/>\n     <use xlink:href=\"#DejaVuSans-2e\" x=\"99.707031\"/>\n     <use xlink:href=\"#DejaVuSans-35\" x=\"131.494141\"/>\n     <use xlink:href=\"#DejaVuSans-34\" x=\"195.117188\"/>\n    </g>\n   </g>\n   <g id=\"text_177\">\n    <!-- 0.017 -->\n    <g style=\"fill: #262626\" transform=\"translate(122.078125 492.333594) scale(0.1 -0.1)\">\n     <use xlink:href=\"#DejaVuSans-30\"/>\n     <use xlink:href=\"#DejaVuSans-2e\" x=\"63.623047\"/>\n     <use xlink:href=\"#DejaVuSans-30\" x=\"95.410156\"/>\n     <use xlink:href=\"#DejaVuSans-31\" x=\"159.033203\"/>\n     <use xlink:href=\"#DejaVuSans-37\" x=\"222.65625\"/>\n    </g>\n   </g>\n   <g id=\"text_178\">\n    <!-- 0.21 -->\n    <g style=\"fill: #ffffff\" transform=\"translate(167.109375 492.333594) scale(0.1 -0.1)\">\n     <use xlink:href=\"#DejaVuSans-30\"/>\n     <use xlink:href=\"#DejaVuSans-2e\" x=\"63.623047\"/>\n     <use xlink:href=\"#DejaVuSans-32\" x=\"95.410156\"/>\n     <use xlink:href=\"#DejaVuSans-31\" x=\"159.033203\"/>\n    </g>\n   </g>\n   <g id=\"text_179\">\n    <!-- 0.01 -->\n    <g style=\"fill: #262626\" transform=\"translate(208.959375 492.333594) scale(0.1 -0.1)\">\n     <use xlink:href=\"#DejaVuSans-30\"/>\n     <use xlink:href=\"#DejaVuSans-2e\" x=\"63.623047\"/>\n     <use xlink:href=\"#DejaVuSans-30\" x=\"95.410156\"/>\n     <use xlink:href=\"#DejaVuSans-31\" x=\"159.033203\"/>\n    </g>\n   </g>\n   <g id=\"text_180\">\n    <!-- -0.055 -->\n    <g style=\"fill: #262626\" transform=\"translate(245.824219 492.333594) scale(0.1 -0.1)\">\n     <use xlink:href=\"#DejaVuSans-2d\"/>\n     <use xlink:href=\"#DejaVuSans-30\" x=\"36.083984\"/>\n     <use xlink:href=\"#DejaVuSans-2e\" x=\"99.707031\"/>\n     <use xlink:href=\"#DejaVuSans-30\" x=\"131.494141\"/>\n     <use xlink:href=\"#DejaVuSans-35\" x=\"195.117188\"/>\n     <use xlink:href=\"#DejaVuSans-35\" x=\"258.740234\"/>\n    </g>\n   </g>\n   <g id=\"text_181\">\n    <!-- 0.035 -->\n    <g style=\"fill: #262626\" transform=\"translate(289.478125 492.333594) scale(0.1 -0.1)\">\n     <use xlink:href=\"#DejaVuSans-30\"/>\n     <use xlink:href=\"#DejaVuSans-2e\" x=\"63.623047\"/>\n     <use xlink:href=\"#DejaVuSans-30\" x=\"95.410156\"/>\n     <use xlink:href=\"#DejaVuSans-33\" x=\"159.033203\"/>\n     <use xlink:href=\"#DejaVuSans-35\" x=\"222.65625\"/>\n    </g>\n   </g>\n   <g id=\"text_182\">\n    <!-- 0.18 -->\n    <g style=\"fill: #262626\" transform=\"translate(334.509375 492.333594) scale(0.1 -0.1)\">\n     <use xlink:href=\"#DejaVuSans-30\"/>\n     <use xlink:href=\"#DejaVuSans-2e\" x=\"63.623047\"/>\n     <use xlink:href=\"#DejaVuSans-31\" x=\"95.410156\"/>\n     <use xlink:href=\"#DejaVuSans-38\" x=\"159.033203\"/>\n    </g>\n   </g>\n   <g id=\"text_183\">\n    <!-- -0.18 -->\n    <g style=\"fill: #262626\" transform=\"translate(374.555469 492.333594) scale(0.1 -0.1)\">\n     <use xlink:href=\"#DejaVuSans-2d\"/>\n     <use xlink:href=\"#DejaVuSans-30\" x=\"36.083984\"/>\n     <use xlink:href=\"#DejaVuSans-2e\" x=\"99.707031\"/>\n     <use xlink:href=\"#DejaVuSans-31\" x=\"131.494141\"/>\n     <use xlink:href=\"#DejaVuSans-38\" x=\"195.117188\"/>\n    </g>\n   </g>\n   <g id=\"text_184\">\n    <!-- 0.1 -->\n    <g style=\"fill: #262626\" transform=\"translate(421.390625 492.333594) scale(0.1 -0.1)\">\n     <use xlink:href=\"#DejaVuSans-30\"/>\n     <use xlink:href=\"#DejaVuSans-2e\" x=\"63.623047\"/>\n     <use xlink:href=\"#DejaVuSans-31\" x=\"95.410156\"/>\n    </g>\n   </g>\n   <g id=\"text_185\">\n    <!-- 0.78 -->\n    <g style=\"fill: #ffffff\" transform=\"translate(460.059375 492.333594) scale(0.1 -0.1)\">\n     <use xlink:href=\"#DejaVuSans-30\"/>\n     <use xlink:href=\"#DejaVuSans-2e\" x=\"63.623047\"/>\n     <use xlink:href=\"#DejaVuSans-37\" x=\"95.410156\"/>\n     <use xlink:href=\"#DejaVuSans-38\" x=\"159.033203\"/>\n    </g>\n   </g>\n   <g id=\"text_186\">\n    <!-- 1 -->\n    <g style=\"fill: #ffffff\" transform=\"translate(509.860938 492.333594) scale(0.1 -0.1)\">\n     <use xlink:href=\"#DejaVuSans-31\"/>\n    </g>\n   </g>\n   <g id=\"text_187\">\n    <!-- 0.32 -->\n    <g style=\"fill: #ffffff\" transform=\"translate(543.759375 492.333594) scale(0.1 -0.1)\">\n     <use xlink:href=\"#DejaVuSans-30\"/>\n     <use xlink:href=\"#DejaVuSans-2e\" x=\"63.623047\"/>\n     <use xlink:href=\"#DejaVuSans-33\" x=\"95.410156\"/>\n     <use xlink:href=\"#DejaVuSans-32\" x=\"159.033203\"/>\n    </g>\n   </g>\n   <g id=\"text_188\">\n    <!-- 0.32 -->\n    <g style=\"fill: #ffffff\" transform=\"translate(585.609375 492.333594) scale(0.1 -0.1)\">\n     <use xlink:href=\"#DejaVuSans-30\"/>\n     <use xlink:href=\"#DejaVuSans-2e\" x=\"63.623047\"/>\n     <use xlink:href=\"#DejaVuSans-33\" x=\"95.410156\"/>\n     <use xlink:href=\"#DejaVuSans-32\" x=\"159.033203\"/>\n    </g>\n   </g>\n   <g id=\"text_189\">\n    <!-- 0.0093 -->\n    <g style=\"fill: #262626\" transform=\"translate(621.096875 492.333594) scale(0.1 -0.1)\">\n     <use xlink:href=\"#DejaVuSans-30\"/>\n     <use xlink:href=\"#DejaVuSans-2e\" x=\"63.623047\"/>\n     <use xlink:href=\"#DejaVuSans-30\" x=\"95.410156\"/>\n     <use xlink:href=\"#DejaVuSans-30\" x=\"159.033203\"/>\n     <use xlink:href=\"#DejaVuSans-39\" x=\"222.65625\"/>\n     <use xlink:href=\"#DejaVuSans-33\" x=\"286.279297\"/>\n    </g>\n   </g>\n   <g id=\"text_190\">\n    <!-- 0.68 -->\n    <g style=\"fill: #ffffff\" transform=\"translate(669.309375 492.333594) scale(0.1 -0.1)\">\n     <use xlink:href=\"#DejaVuSans-30\"/>\n     <use xlink:href=\"#DejaVuSans-2e\" x=\"63.623047\"/>\n     <use xlink:href=\"#DejaVuSans-36\" x=\"95.410156\"/>\n     <use xlink:href=\"#DejaVuSans-38\" x=\"159.033203\"/>\n    </g>\n   </g>\n   <g id=\"text_191\">\n    <!-- -0.1 -->\n    <g style=\"fill: #262626\" transform=\"translate(712.536719 492.333594) scale(0.1 -0.1)\">\n     <use xlink:href=\"#DejaVuSans-2d\"/>\n     <use xlink:href=\"#DejaVuSans-30\" x=\"36.083984\"/>\n     <use xlink:href=\"#DejaVuSans-2e\" x=\"99.707031\"/>\n     <use xlink:href=\"#DejaVuSans-31\" x=\"131.494141\"/>\n    </g>\n   </g>\n   <g id=\"text_192\">\n    <!-- -0.33 -->\n    <g style=\"fill: #262626\" transform=\"translate(751.205469 492.333594) scale(0.1 -0.1)\">\n     <use xlink:href=\"#DejaVuSans-2d\"/>\n     <use xlink:href=\"#DejaVuSans-30\" x=\"36.083984\"/>\n     <use xlink:href=\"#DejaVuSans-2e\" x=\"99.707031\"/>\n     <use xlink:href=\"#DejaVuSans-33\" x=\"131.494141\"/>\n     <use xlink:href=\"#DejaVuSans-33\" x=\"195.117188\"/>\n    </g>\n   </g>\n   <g id=\"text_193\">\n    <!-- -0.015 -->\n    <g style=\"fill: #262626\" transform=\"translate(120.274219 534.183594) scale(0.1 -0.1)\">\n     <use xlink:href=\"#DejaVuSans-2d\"/>\n     <use xlink:href=\"#DejaVuSans-30\" x=\"36.083984\"/>\n     <use xlink:href=\"#DejaVuSans-2e\" x=\"99.707031\"/>\n     <use xlink:href=\"#DejaVuSans-30\" x=\"131.494141\"/>\n     <use xlink:href=\"#DejaVuSans-31\" x=\"195.117188\"/>\n     <use xlink:href=\"#DejaVuSans-35\" x=\"258.740234\"/>\n    </g>\n   </g>\n   <g id=\"text_194\">\n    <!-- 0.11 -->\n    <g style=\"fill: #262626\" transform=\"translate(167.109375 534.183594) scale(0.1 -0.1)\">\n     <use xlink:href=\"#DejaVuSans-30\"/>\n     <use xlink:href=\"#DejaVuSans-2e\" x=\"63.623047\"/>\n     <use xlink:href=\"#DejaVuSans-31\" x=\"95.410156\"/>\n     <use xlink:href=\"#DejaVuSans-31\" x=\"159.033203\"/>\n    </g>\n   </g>\n   <g id=\"text_195\">\n    <!-- 0.022 -->\n    <g style=\"fill: #262626\" transform=\"translate(205.778125 534.183594) scale(0.1 -0.1)\">\n     <use xlink:href=\"#DejaVuSans-30\"/>\n     <use xlink:href=\"#DejaVuSans-2e\" x=\"63.623047\"/>\n     <use xlink:href=\"#DejaVuSans-30\" x=\"95.410156\"/>\n     <use xlink:href=\"#DejaVuSans-32\" x=\"159.033203\"/>\n     <use xlink:href=\"#DejaVuSans-32\" x=\"222.65625\"/>\n    </g>\n   </g>\n   <g id=\"text_196\">\n    <!-- -0.024 -->\n    <g style=\"fill: #262626\" transform=\"translate(245.824219 534.183594) scale(0.1 -0.1)\">\n     <use xlink:href=\"#DejaVuSans-2d\"/>\n     <use xlink:href=\"#DejaVuSans-30\" x=\"36.083984\"/>\n     <use xlink:href=\"#DejaVuSans-2e\" x=\"99.707031\"/>\n     <use xlink:href=\"#DejaVuSans-30\" x=\"131.494141\"/>\n     <use xlink:href=\"#DejaVuSans-32\" x=\"195.117188\"/>\n     <use xlink:href=\"#DejaVuSans-34\" x=\"258.740234\"/>\n    </g>\n   </g>\n   <g id=\"text_197\">\n    <!-- -0.024 -->\n    <g style=\"fill: #262626\" transform=\"translate(287.674219 534.183594) scale(0.1 -0.1)\">\n     <use xlink:href=\"#DejaVuSans-2d\"/>\n     <use xlink:href=\"#DejaVuSans-30\" x=\"36.083984\"/>\n     <use xlink:href=\"#DejaVuSans-2e\" x=\"99.707031\"/>\n     <use xlink:href=\"#DejaVuSans-30\" x=\"131.494141\"/>\n     <use xlink:href=\"#DejaVuSans-32\" x=\"195.117188\"/>\n     <use xlink:href=\"#DejaVuSans-34\" x=\"258.740234\"/>\n    </g>\n   </g>\n   <g id=\"text_198\">\n    <!-- 0.082 -->\n    <g style=\"fill: #262626\" transform=\"translate(331.328125 534.183594) scale(0.1 -0.1)\">\n     <use xlink:href=\"#DejaVuSans-30\"/>\n     <use xlink:href=\"#DejaVuSans-2e\" x=\"63.623047\"/>\n     <use xlink:href=\"#DejaVuSans-30\" x=\"95.410156\"/>\n     <use xlink:href=\"#DejaVuSans-38\" x=\"159.033203\"/>\n     <use xlink:href=\"#DejaVuSans-32\" x=\"222.65625\"/>\n    </g>\n   </g>\n   <g id=\"text_199\">\n    <!-- -0.083 -->\n    <g style=\"fill: #262626\" transform=\"translate(371.374219 534.183594) scale(0.1 -0.1)\">\n     <use xlink:href=\"#DejaVuSans-2d\"/>\n     <use xlink:href=\"#DejaVuSans-30\" x=\"36.083984\"/>\n     <use xlink:href=\"#DejaVuSans-2e\" x=\"99.707031\"/>\n     <use xlink:href=\"#DejaVuSans-30\" x=\"131.494141\"/>\n     <use xlink:href=\"#DejaVuSans-38\" x=\"195.117188\"/>\n     <use xlink:href=\"#DejaVuSans-33\" x=\"258.740234\"/>\n    </g>\n   </g>\n   <g id=\"text_200\">\n    <!-- 0.15 -->\n    <g style=\"fill: #262626\" transform=\"translate(418.209375 534.183594) scale(0.1 -0.1)\">\n     <use xlink:href=\"#DejaVuSans-30\"/>\n     <use xlink:href=\"#DejaVuSans-2e\" x=\"63.623047\"/>\n     <use xlink:href=\"#DejaVuSans-31\" x=\"95.410156\"/>\n     <use xlink:href=\"#DejaVuSans-35\" x=\"159.033203\"/>\n    </g>\n   </g>\n   <g id=\"text_201\">\n    <!-- 0.31 -->\n    <g style=\"fill: #ffffff\" transform=\"translate(460.059375 534.183594) scale(0.1 -0.1)\">\n     <use xlink:href=\"#DejaVuSans-30\"/>\n     <use xlink:href=\"#DejaVuSans-2e\" x=\"63.623047\"/>\n     <use xlink:href=\"#DejaVuSans-33\" x=\"95.410156\"/>\n     <use xlink:href=\"#DejaVuSans-31\" x=\"159.033203\"/>\n    </g>\n   </g>\n   <g id=\"text_202\">\n    <!-- 0.32 -->\n    <g style=\"fill: #ffffff\" transform=\"translate(501.909375 534.183594) scale(0.1 -0.1)\">\n     <use xlink:href=\"#DejaVuSans-30\"/>\n     <use xlink:href=\"#DejaVuSans-2e\" x=\"63.623047\"/>\n     <use xlink:href=\"#DejaVuSans-33\" x=\"95.410156\"/>\n     <use xlink:href=\"#DejaVuSans-32\" x=\"159.033203\"/>\n    </g>\n   </g>\n   <g id=\"text_203\">\n    <!-- 1 -->\n    <g style=\"fill: #ffffff\" transform=\"translate(551.710938 534.183594) scale(0.1 -0.1)\">\n     <use xlink:href=\"#DejaVuSans-31\"/>\n    </g>\n   </g>\n   <g id=\"text_204\">\n    <!-- 1 -->\n    <g style=\"fill: #ffffff\" transform=\"translate(593.560938 534.183594) scale(0.1 -0.1)\">\n     <use xlink:href=\"#DejaVuSans-31\"/>\n    </g>\n   </g>\n   <g id=\"text_205\">\n    <!-- 0.0064 -->\n    <g style=\"fill: #262626\" transform=\"translate(621.096875 534.183594) scale(0.1 -0.1)\">\n     <use xlink:href=\"#DejaVuSans-30\"/>\n     <use xlink:href=\"#DejaVuSans-2e\" x=\"63.623047\"/>\n     <use xlink:href=\"#DejaVuSans-30\" x=\"95.410156\"/>\n     <use xlink:href=\"#DejaVuSans-30\" x=\"159.033203\"/>\n     <use xlink:href=\"#DejaVuSans-36\" x=\"222.65625\"/>\n     <use xlink:href=\"#DejaVuSans-34\" x=\"286.279297\"/>\n    </g>\n   </g>\n   <g id=\"text_206\">\n    <!-- 0.29 -->\n    <g style=\"fill: #ffffff\" transform=\"translate(669.309375 534.183594) scale(0.1 -0.1)\">\n     <use xlink:href=\"#DejaVuSans-30\"/>\n     <use xlink:href=\"#DejaVuSans-2e\" x=\"63.623047\"/>\n     <use xlink:href=\"#DejaVuSans-32\" x=\"95.410156\"/>\n     <use xlink:href=\"#DejaVuSans-39\" x=\"159.033203\"/>\n    </g>\n   </g>\n   <g id=\"text_207\">\n    <!-- -0.022 -->\n    <g style=\"fill: #262626\" transform=\"translate(706.174219 534.183594) scale(0.1 -0.1)\">\n     <use xlink:href=\"#DejaVuSans-2d\"/>\n     <use xlink:href=\"#DejaVuSans-30\" x=\"36.083984\"/>\n     <use xlink:href=\"#DejaVuSans-2e\" x=\"99.707031\"/>\n     <use xlink:href=\"#DejaVuSans-30\" x=\"131.494141\"/>\n     <use xlink:href=\"#DejaVuSans-32\" x=\"195.117188\"/>\n     <use xlink:href=\"#DejaVuSans-32\" x=\"258.740234\"/>\n    </g>\n   </g>\n   <g id=\"text_208\">\n    <!-- -0.09 -->\n    <g style=\"fill: #262626\" transform=\"translate(751.205469 534.183594) scale(0.1 -0.1)\">\n     <use xlink:href=\"#DejaVuSans-2d\"/>\n     <use xlink:href=\"#DejaVuSans-30\" x=\"36.083984\"/>\n     <use xlink:href=\"#DejaVuSans-2e\" x=\"99.707031\"/>\n     <use xlink:href=\"#DejaVuSans-30\" x=\"131.494141\"/>\n     <use xlink:href=\"#DejaVuSans-39\" x=\"195.117188\"/>\n    </g>\n   </g>\n   <g id=\"text_209\">\n    <!-- -0.015 -->\n    <g style=\"fill: #262626\" transform=\"translate(120.274219 576.033594) scale(0.1 -0.1)\">\n     <use xlink:href=\"#DejaVuSans-2d\"/>\n     <use xlink:href=\"#DejaVuSans-30\" x=\"36.083984\"/>\n     <use xlink:href=\"#DejaVuSans-2e\" x=\"99.707031\"/>\n     <use xlink:href=\"#DejaVuSans-30\" x=\"131.494141\"/>\n     <use xlink:href=\"#DejaVuSans-31\" x=\"195.117188\"/>\n     <use xlink:href=\"#DejaVuSans-35\" x=\"258.740234\"/>\n    </g>\n   </g>\n   <g id=\"text_210\">\n    <!-- 0.11 -->\n    <g style=\"fill: #262626\" transform=\"translate(167.109375 576.033594) scale(0.1 -0.1)\">\n     <use xlink:href=\"#DejaVuSans-30\"/>\n     <use xlink:href=\"#DejaVuSans-2e\" x=\"63.623047\"/>\n     <use xlink:href=\"#DejaVuSans-31\" x=\"95.410156\"/>\n     <use xlink:href=\"#DejaVuSans-31\" x=\"159.033203\"/>\n    </g>\n   </g>\n   <g id=\"text_211\">\n    <!-- 0.022 -->\n    <g style=\"fill: #262626\" transform=\"translate(205.778125 576.033594) scale(0.1 -0.1)\">\n     <use xlink:href=\"#DejaVuSans-30\"/>\n     <use xlink:href=\"#DejaVuSans-2e\" x=\"63.623047\"/>\n     <use xlink:href=\"#DejaVuSans-30\" x=\"95.410156\"/>\n     <use xlink:href=\"#DejaVuSans-32\" x=\"159.033203\"/>\n     <use xlink:href=\"#DejaVuSans-32\" x=\"222.65625\"/>\n    </g>\n   </g>\n   <g id=\"text_212\">\n    <!-- -0.024 -->\n    <g style=\"fill: #262626\" transform=\"translate(245.824219 576.033594) scale(0.1 -0.1)\">\n     <use xlink:href=\"#DejaVuSans-2d\"/>\n     <use xlink:href=\"#DejaVuSans-30\" x=\"36.083984\"/>\n     <use xlink:href=\"#DejaVuSans-2e\" x=\"99.707031\"/>\n     <use xlink:href=\"#DejaVuSans-30\" x=\"131.494141\"/>\n     <use xlink:href=\"#DejaVuSans-32\" x=\"195.117188\"/>\n     <use xlink:href=\"#DejaVuSans-34\" x=\"258.740234\"/>\n    </g>\n   </g>\n   <g id=\"text_213\">\n    <!-- -0.024 -->\n    <g style=\"fill: #262626\" transform=\"translate(287.674219 576.033594) scale(0.1 -0.1)\">\n     <use xlink:href=\"#DejaVuSans-2d\"/>\n     <use xlink:href=\"#DejaVuSans-30\" x=\"36.083984\"/>\n     <use xlink:href=\"#DejaVuSans-2e\" x=\"99.707031\"/>\n     <use xlink:href=\"#DejaVuSans-30\" x=\"131.494141\"/>\n     <use xlink:href=\"#DejaVuSans-32\" x=\"195.117188\"/>\n     <use xlink:href=\"#DejaVuSans-34\" x=\"258.740234\"/>\n    </g>\n   </g>\n   <g id=\"text_214\">\n    <!-- 0.082 -->\n    <g style=\"fill: #262626\" transform=\"translate(331.328125 576.033594) scale(0.1 -0.1)\">\n     <use xlink:href=\"#DejaVuSans-30\"/>\n     <use xlink:href=\"#DejaVuSans-2e\" x=\"63.623047\"/>\n     <use xlink:href=\"#DejaVuSans-30\" x=\"95.410156\"/>\n     <use xlink:href=\"#DejaVuSans-38\" x=\"159.033203\"/>\n     <use xlink:href=\"#DejaVuSans-32\" x=\"222.65625\"/>\n    </g>\n   </g>\n   <g id=\"text_215\">\n    <!-- -0.083 -->\n    <g style=\"fill: #262626\" transform=\"translate(371.374219 576.033594) scale(0.1 -0.1)\">\n     <use xlink:href=\"#DejaVuSans-2d\"/>\n     <use xlink:href=\"#DejaVuSans-30\" x=\"36.083984\"/>\n     <use xlink:href=\"#DejaVuSans-2e\" x=\"99.707031\"/>\n     <use xlink:href=\"#DejaVuSans-30\" x=\"131.494141\"/>\n     <use xlink:href=\"#DejaVuSans-38\" x=\"195.117188\"/>\n     <use xlink:href=\"#DejaVuSans-33\" x=\"258.740234\"/>\n    </g>\n   </g>\n   <g id=\"text_216\">\n    <!-- 0.15 -->\n    <g style=\"fill: #262626\" transform=\"translate(418.209375 576.033594) scale(0.1 -0.1)\">\n     <use xlink:href=\"#DejaVuSans-30\"/>\n     <use xlink:href=\"#DejaVuSans-2e\" x=\"63.623047\"/>\n     <use xlink:href=\"#DejaVuSans-31\" x=\"95.410156\"/>\n     <use xlink:href=\"#DejaVuSans-35\" x=\"159.033203\"/>\n    </g>\n   </g>\n   <g id=\"text_217\">\n    <!-- 0.31 -->\n    <g style=\"fill: #ffffff\" transform=\"translate(460.059375 576.033594) scale(0.1 -0.1)\">\n     <use xlink:href=\"#DejaVuSans-30\"/>\n     <use xlink:href=\"#DejaVuSans-2e\" x=\"63.623047\"/>\n     <use xlink:href=\"#DejaVuSans-33\" x=\"95.410156\"/>\n     <use xlink:href=\"#DejaVuSans-31\" x=\"159.033203\"/>\n    </g>\n   </g>\n   <g id=\"text_218\">\n    <!-- 0.32 -->\n    <g style=\"fill: #ffffff\" transform=\"translate(501.909375 576.033594) scale(0.1 -0.1)\">\n     <use xlink:href=\"#DejaVuSans-30\"/>\n     <use xlink:href=\"#DejaVuSans-2e\" x=\"63.623047\"/>\n     <use xlink:href=\"#DejaVuSans-33\" x=\"95.410156\"/>\n     <use xlink:href=\"#DejaVuSans-32\" x=\"159.033203\"/>\n    </g>\n   </g>\n   <g id=\"text_219\">\n    <!-- 1 -->\n    <g style=\"fill: #ffffff\" transform=\"translate(551.710938 576.033594) scale(0.1 -0.1)\">\n     <use xlink:href=\"#DejaVuSans-31\"/>\n    </g>\n   </g>\n   <g id=\"text_220\">\n    <!-- 1 -->\n    <g style=\"fill: #ffffff\" transform=\"translate(593.560938 576.033594) scale(0.1 -0.1)\">\n     <use xlink:href=\"#DejaVuSans-31\"/>\n    </g>\n   </g>\n   <g id=\"text_221\">\n    <!-- 0.0064 -->\n    <g style=\"fill: #262626\" transform=\"translate(621.096875 576.033594) scale(0.1 -0.1)\">\n     <use xlink:href=\"#DejaVuSans-30\"/>\n     <use xlink:href=\"#DejaVuSans-2e\" x=\"63.623047\"/>\n     <use xlink:href=\"#DejaVuSans-30\" x=\"95.410156\"/>\n     <use xlink:href=\"#DejaVuSans-30\" x=\"159.033203\"/>\n     <use xlink:href=\"#DejaVuSans-36\" x=\"222.65625\"/>\n     <use xlink:href=\"#DejaVuSans-34\" x=\"286.279297\"/>\n    </g>\n   </g>\n   <g id=\"text_222\">\n    <!-- 0.29 -->\n    <g style=\"fill: #ffffff\" transform=\"translate(669.309375 576.033594) scale(0.1 -0.1)\">\n     <use xlink:href=\"#DejaVuSans-30\"/>\n     <use xlink:href=\"#DejaVuSans-2e\" x=\"63.623047\"/>\n     <use xlink:href=\"#DejaVuSans-32\" x=\"95.410156\"/>\n     <use xlink:href=\"#DejaVuSans-39\" x=\"159.033203\"/>\n    </g>\n   </g>\n   <g id=\"text_223\">\n    <!-- -0.022 -->\n    <g style=\"fill: #262626\" transform=\"translate(706.174219 576.033594) scale(0.1 -0.1)\">\n     <use xlink:href=\"#DejaVuSans-2d\"/>\n     <use xlink:href=\"#DejaVuSans-30\" x=\"36.083984\"/>\n     <use xlink:href=\"#DejaVuSans-2e\" x=\"99.707031\"/>\n     <use xlink:href=\"#DejaVuSans-30\" x=\"131.494141\"/>\n     <use xlink:href=\"#DejaVuSans-32\" x=\"195.117188\"/>\n     <use xlink:href=\"#DejaVuSans-32\" x=\"258.740234\"/>\n    </g>\n   </g>\n   <g id=\"text_224\">\n    <!-- -0.09 -->\n    <g style=\"fill: #262626\" transform=\"translate(751.205469 576.033594) scale(0.1 -0.1)\">\n     <use xlink:href=\"#DejaVuSans-2d\"/>\n     <use xlink:href=\"#DejaVuSans-30\" x=\"36.083984\"/>\n     <use xlink:href=\"#DejaVuSans-2e\" x=\"99.707031\"/>\n     <use xlink:href=\"#DejaVuSans-30\" x=\"131.494141\"/>\n     <use xlink:href=\"#DejaVuSans-39\" x=\"195.117188\"/>\n    </g>\n   </g>\n   <g id=\"text_225\">\n    <!-- 0.022 -->\n    <g style=\"fill: #262626\" transform=\"translate(122.078125 617.883594) scale(0.1 -0.1)\">\n     <use xlink:href=\"#DejaVuSans-30\"/>\n     <use xlink:href=\"#DejaVuSans-2e\" x=\"63.623047\"/>\n     <use xlink:href=\"#DejaVuSans-30\" x=\"95.410156\"/>\n     <use xlink:href=\"#DejaVuSans-32\" x=\"159.033203\"/>\n     <use xlink:href=\"#DejaVuSans-32\" x=\"222.65625\"/>\n    </g>\n   </g>\n   <g id=\"text_226\">\n    <!-- 0.056 -->\n    <g style=\"fill: #262626\" transform=\"translate(163.928125 617.883594) scale(0.1 -0.1)\">\n     <use xlink:href=\"#DejaVuSans-30\"/>\n     <use xlink:href=\"#DejaVuSans-2e\" x=\"63.623047\"/>\n     <use xlink:href=\"#DejaVuSans-30\" x=\"95.410156\"/>\n     <use xlink:href=\"#DejaVuSans-35\" x=\"159.033203\"/>\n     <use xlink:href=\"#DejaVuSans-36\" x=\"222.65625\"/>\n    </g>\n   </g>\n   <g id=\"text_227\">\n    <!-- -0.034 -->\n    <g style=\"fill: #262626\" transform=\"translate(203.974219 617.883594) scale(0.1 -0.1)\">\n     <use xlink:href=\"#DejaVuSans-2d\"/>\n     <use xlink:href=\"#DejaVuSans-30\" x=\"36.083984\"/>\n     <use xlink:href=\"#DejaVuSans-2e\" x=\"99.707031\"/>\n     <use xlink:href=\"#DejaVuSans-30\" x=\"131.494141\"/>\n     <use xlink:href=\"#DejaVuSans-33\" x=\"195.117188\"/>\n     <use xlink:href=\"#DejaVuSans-34\" x=\"258.740234\"/>\n    </g>\n   </g>\n   <g id=\"text_228\">\n    <!-- 0.074 -->\n    <g style=\"fill: #262626\" transform=\"translate(247.628125 617.883594) scale(0.1 -0.1)\">\n     <use xlink:href=\"#DejaVuSans-30\"/>\n     <use xlink:href=\"#DejaVuSans-2e\" x=\"63.623047\"/>\n     <use xlink:href=\"#DejaVuSans-30\" x=\"95.410156\"/>\n     <use xlink:href=\"#DejaVuSans-37\" x=\"159.033203\"/>\n     <use xlink:href=\"#DejaVuSans-34\" x=\"222.65625\"/>\n    </g>\n   </g>\n   <g id=\"text_229\">\n    <!-- 0.03 -->\n    <g style=\"fill: #262626\" transform=\"translate(292.659375 617.883594) scale(0.1 -0.1)\">\n     <use xlink:href=\"#DejaVuSans-30\"/>\n     <use xlink:href=\"#DejaVuSans-2e\" x=\"63.623047\"/>\n     <use xlink:href=\"#DejaVuSans-30\" x=\"95.410156\"/>\n     <use xlink:href=\"#DejaVuSans-33\" x=\"159.033203\"/>\n    </g>\n   </g>\n   <g id=\"text_230\">\n    <!-- -0.033 -->\n    <g style=\"fill: #262626\" transform=\"translate(329.524219 617.883594) scale(0.1 -0.1)\">\n     <use xlink:href=\"#DejaVuSans-2d\"/>\n     <use xlink:href=\"#DejaVuSans-30\" x=\"36.083984\"/>\n     <use xlink:href=\"#DejaVuSans-2e\" x=\"99.707031\"/>\n     <use xlink:href=\"#DejaVuSans-30\" x=\"131.494141\"/>\n     <use xlink:href=\"#DejaVuSans-33\" x=\"195.117188\"/>\n     <use xlink:href=\"#DejaVuSans-33\" x=\"258.740234\"/>\n    </g>\n   </g>\n   <g id=\"text_231\">\n    <!-- -0.19 -->\n    <g style=\"fill: #262626\" transform=\"translate(374.555469 617.883594) scale(0.1 -0.1)\">\n     <use xlink:href=\"#DejaVuSans-2d\"/>\n     <use xlink:href=\"#DejaVuSans-30\" x=\"36.083984\"/>\n     <use xlink:href=\"#DejaVuSans-2e\" x=\"99.707031\"/>\n     <use xlink:href=\"#DejaVuSans-31\" x=\"131.494141\"/>\n     <use xlink:href=\"#DejaVuSans-39\" x=\"195.117188\"/>\n    </g>\n   </g>\n   <g id=\"text_232\">\n    <!-- -0.074 -->\n    <g style=\"fill: #262626\" transform=\"translate(413.224219 617.883594) scale(0.1 -0.1)\">\n     <use xlink:href=\"#DejaVuSans-2d\"/>\n     <use xlink:href=\"#DejaVuSans-30\" x=\"36.083984\"/>\n     <use xlink:href=\"#DejaVuSans-2e\" x=\"99.707031\"/>\n     <use xlink:href=\"#DejaVuSans-30\" x=\"131.494141\"/>\n     <use xlink:href=\"#DejaVuSans-37\" x=\"195.117188\"/>\n     <use xlink:href=\"#DejaVuSans-34\" x=\"258.740234\"/>\n    </g>\n   </g>\n   <g id=\"text_233\">\n    <!-- 0.042 -->\n    <g style=\"fill: #262626\" transform=\"translate(456.878125 617.883594) scale(0.1 -0.1)\">\n     <use xlink:href=\"#DejaVuSans-30\"/>\n     <use xlink:href=\"#DejaVuSans-2e\" x=\"63.623047\"/>\n     <use xlink:href=\"#DejaVuSans-30\" x=\"95.410156\"/>\n     <use xlink:href=\"#DejaVuSans-34\" x=\"159.033203\"/>\n     <use xlink:href=\"#DejaVuSans-32\" x=\"222.65625\"/>\n    </g>\n   </g>\n   <g id=\"text_234\">\n    <!-- 0.0093 -->\n    <g style=\"fill: #262626\" transform=\"translate(495.546875 617.883594) scale(0.1 -0.1)\">\n     <use xlink:href=\"#DejaVuSans-30\"/>\n     <use xlink:href=\"#DejaVuSans-2e\" x=\"63.623047\"/>\n     <use xlink:href=\"#DejaVuSans-30\" x=\"95.410156\"/>\n     <use xlink:href=\"#DejaVuSans-30\" x=\"159.033203\"/>\n     <use xlink:href=\"#DejaVuSans-39\" x=\"222.65625\"/>\n     <use xlink:href=\"#DejaVuSans-33\" x=\"286.279297\"/>\n    </g>\n   </g>\n   <g id=\"text_235\">\n    <!-- 0.0064 -->\n    <g style=\"fill: #262626\" transform=\"translate(537.396875 617.883594) scale(0.1 -0.1)\">\n     <use xlink:href=\"#DejaVuSans-30\"/>\n     <use xlink:href=\"#DejaVuSans-2e\" x=\"63.623047\"/>\n     <use xlink:href=\"#DejaVuSans-30\" x=\"95.410156\"/>\n     <use xlink:href=\"#DejaVuSans-30\" x=\"159.033203\"/>\n     <use xlink:href=\"#DejaVuSans-36\" x=\"222.65625\"/>\n     <use xlink:href=\"#DejaVuSans-34\" x=\"286.279297\"/>\n    </g>\n   </g>\n   <g id=\"text_236\">\n    <!-- 0.0064 -->\n    <g style=\"fill: #262626\" transform=\"translate(579.246875 617.883594) scale(0.1 -0.1)\">\n     <use xlink:href=\"#DejaVuSans-30\"/>\n     <use xlink:href=\"#DejaVuSans-2e\" x=\"63.623047\"/>\n     <use xlink:href=\"#DejaVuSans-30\" x=\"95.410156\"/>\n     <use xlink:href=\"#DejaVuSans-30\" x=\"159.033203\"/>\n     <use xlink:href=\"#DejaVuSans-36\" x=\"222.65625\"/>\n     <use xlink:href=\"#DejaVuSans-34\" x=\"286.279297\"/>\n    </g>\n   </g>\n   <g id=\"text_237\">\n    <!-- 1 -->\n    <g style=\"fill: #ffffff\" transform=\"translate(635.410938 617.883594) scale(0.1 -0.1)\">\n     <use xlink:href=\"#DejaVuSans-31\"/>\n    </g>\n   </g>\n   <g id=\"text_238\">\n    <!-- 0.026 -->\n    <g style=\"fill: #262626\" transform=\"translate(666.128125 617.883594) scale(0.1 -0.1)\">\n     <use xlink:href=\"#DejaVuSans-30\"/>\n     <use xlink:href=\"#DejaVuSans-2e\" x=\"63.623047\"/>\n     <use xlink:href=\"#DejaVuSans-30\" x=\"95.410156\"/>\n     <use xlink:href=\"#DejaVuSans-32\" x=\"159.033203\"/>\n     <use xlink:href=\"#DejaVuSans-36\" x=\"222.65625\"/>\n    </g>\n   </g>\n   <g id=\"text_239\">\n    <!-- -0.064 -->\n    <g style=\"fill: #262626\" transform=\"translate(706.174219 617.883594) scale(0.1 -0.1)\">\n     <use xlink:href=\"#DejaVuSans-2d\"/>\n     <use xlink:href=\"#DejaVuSans-30\" x=\"36.083984\"/>\n     <use xlink:href=\"#DejaVuSans-2e\" x=\"99.707031\"/>\n     <use xlink:href=\"#DejaVuSans-30\" x=\"131.494141\"/>\n     <use xlink:href=\"#DejaVuSans-36\" x=\"195.117188\"/>\n     <use xlink:href=\"#DejaVuSans-34\" x=\"258.740234\"/>\n    </g>\n   </g>\n   <g id=\"text_240\">\n    <!-- -0.25 -->\n    <g style=\"fill: #262626\" transform=\"translate(751.205469 617.883594) scale(0.1 -0.1)\">\n     <use xlink:href=\"#DejaVuSans-2d\"/>\n     <use xlink:href=\"#DejaVuSans-30\" x=\"36.083984\"/>\n     <use xlink:href=\"#DejaVuSans-2e\" x=\"99.707031\"/>\n     <use xlink:href=\"#DejaVuSans-32\" x=\"131.494141\"/>\n     <use xlink:href=\"#DejaVuSans-35\" x=\"195.117188\"/>\n    </g>\n   </g>\n   <g id=\"text_241\">\n    <!-- 0.026 -->\n    <g style=\"fill: #262626\" transform=\"translate(122.078125 659.733594) scale(0.1 -0.1)\">\n     <use xlink:href=\"#DejaVuSans-30\"/>\n     <use xlink:href=\"#DejaVuSans-2e\" x=\"63.623047\"/>\n     <use xlink:href=\"#DejaVuSans-30\" x=\"95.410156\"/>\n     <use xlink:href=\"#DejaVuSans-32\" x=\"159.033203\"/>\n     <use xlink:href=\"#DejaVuSans-36\" x=\"222.65625\"/>\n    </g>\n   </g>\n   <g id=\"text_242\">\n    <!-- 0.3 -->\n    <g style=\"fill: #ffffff\" transform=\"translate(170.290625 659.733594) scale(0.1 -0.1)\">\n     <use xlink:href=\"#DejaVuSans-30\"/>\n     <use xlink:href=\"#DejaVuSans-2e\" x=\"63.623047\"/>\n     <use xlink:href=\"#DejaVuSans-33\" x=\"95.410156\"/>\n    </g>\n   </g>\n   <g id=\"text_243\">\n    <!-- 0.02 -->\n    <g style=\"fill: #262626\" transform=\"translate(208.959375 659.733594) scale(0.1 -0.1)\">\n     <use xlink:href=\"#DejaVuSans-30\"/>\n     <use xlink:href=\"#DejaVuSans-2e\" x=\"63.623047\"/>\n     <use xlink:href=\"#DejaVuSans-30\" x=\"95.410156\"/>\n     <use xlink:href=\"#DejaVuSans-32\" x=\"159.033203\"/>\n    </g>\n   </g>\n   <g id=\"text_244\">\n    <!-- -0.062 -->\n    <g style=\"fill: #262626\" transform=\"translate(245.824219 659.733594) scale(0.1 -0.1)\">\n     <use xlink:href=\"#DejaVuSans-2d\"/>\n     <use xlink:href=\"#DejaVuSans-30\" x=\"36.083984\"/>\n     <use xlink:href=\"#DejaVuSans-2e\" x=\"99.707031\"/>\n     <use xlink:href=\"#DejaVuSans-30\" x=\"131.494141\"/>\n     <use xlink:href=\"#DejaVuSans-36\" x=\"195.117188\"/>\n     <use xlink:href=\"#DejaVuSans-32\" x=\"258.740234\"/>\n    </g>\n   </g>\n   <g id=\"text_245\">\n    <!-- 0.02 -->\n    <g style=\"fill: #262626\" transform=\"translate(292.659375 659.733594) scale(0.1 -0.1)\">\n     <use xlink:href=\"#DejaVuSans-30\"/>\n     <use xlink:href=\"#DejaVuSans-2e\" x=\"63.623047\"/>\n     <use xlink:href=\"#DejaVuSans-30\" x=\"95.410156\"/>\n     <use xlink:href=\"#DejaVuSans-32\" x=\"159.033203\"/>\n    </g>\n   </g>\n   <g id=\"text_246\">\n    <!-- 0.26 -->\n    <g style=\"fill: #ffffff\" transform=\"translate(334.509375 659.733594) scale(0.1 -0.1)\">\n     <use xlink:href=\"#DejaVuSans-30\"/>\n     <use xlink:href=\"#DejaVuSans-2e\" x=\"63.623047\"/>\n     <use xlink:href=\"#DejaVuSans-32\" x=\"95.410156\"/>\n     <use xlink:href=\"#DejaVuSans-36\" x=\"159.033203\"/>\n    </g>\n   </g>\n   <g id=\"text_247\">\n    <!-- -0.18 -->\n    <g style=\"fill: #262626\" transform=\"translate(374.555469 659.733594) scale(0.1 -0.1)\">\n     <use xlink:href=\"#DejaVuSans-2d\"/>\n     <use xlink:href=\"#DejaVuSans-30\" x=\"36.083984\"/>\n     <use xlink:href=\"#DejaVuSans-2e\" x=\"99.707031\"/>\n     <use xlink:href=\"#DejaVuSans-31\" x=\"131.494141\"/>\n     <use xlink:href=\"#DejaVuSans-38\" x=\"195.117188\"/>\n    </g>\n   </g>\n   <g id=\"text_248\">\n    <!-- 0.25 -->\n    <g style=\"fill: #ffffff\" transform=\"translate(418.209375 659.733594) scale(0.1 -0.1)\">\n     <use xlink:href=\"#DejaVuSans-30\"/>\n     <use xlink:href=\"#DejaVuSans-2e\" x=\"63.623047\"/>\n     <use xlink:href=\"#DejaVuSans-32\" x=\"95.410156\"/>\n     <use xlink:href=\"#DejaVuSans-35\" x=\"159.033203\"/>\n    </g>\n   </g>\n   <g id=\"text_249\">\n    <!-- 0.9 -->\n    <g style=\"fill: #ffffff\" transform=\"translate(463.240625 659.733594) scale(0.1 -0.1)\">\n     <use xlink:href=\"#DejaVuSans-30\"/>\n     <use xlink:href=\"#DejaVuSans-2e\" x=\"63.623047\"/>\n     <use xlink:href=\"#DejaVuSans-39\" x=\"95.410156\"/>\n    </g>\n   </g>\n   <g id=\"text_250\">\n    <!-- 0.68 -->\n    <g style=\"fill: #ffffff\" transform=\"translate(501.909375 659.733594) scale(0.1 -0.1)\">\n     <use xlink:href=\"#DejaVuSans-30\"/>\n     <use xlink:href=\"#DejaVuSans-2e\" x=\"63.623047\"/>\n     <use xlink:href=\"#DejaVuSans-36\" x=\"95.410156\"/>\n     <use xlink:href=\"#DejaVuSans-38\" x=\"159.033203\"/>\n    </g>\n   </g>\n   <g id=\"text_251\">\n    <!-- 0.29 -->\n    <g style=\"fill: #ffffff\" transform=\"translate(543.759375 659.733594) scale(0.1 -0.1)\">\n     <use xlink:href=\"#DejaVuSans-30\"/>\n     <use xlink:href=\"#DejaVuSans-2e\" x=\"63.623047\"/>\n     <use xlink:href=\"#DejaVuSans-32\" x=\"95.410156\"/>\n     <use xlink:href=\"#DejaVuSans-39\" x=\"159.033203\"/>\n    </g>\n   </g>\n   <g id=\"text_252\">\n    <!-- 0.29 -->\n    <g style=\"fill: #ffffff\" transform=\"translate(585.609375 659.733594) scale(0.1 -0.1)\">\n     <use xlink:href=\"#DejaVuSans-30\"/>\n     <use xlink:href=\"#DejaVuSans-2e\" x=\"63.623047\"/>\n     <use xlink:href=\"#DejaVuSans-32\" x=\"95.410156\"/>\n     <use xlink:href=\"#DejaVuSans-39\" x=\"159.033203\"/>\n    </g>\n   </g>\n   <g id=\"text_253\">\n    <!-- 0.026 -->\n    <g style=\"fill: #262626\" transform=\"translate(624.278125 659.733594) scale(0.1 -0.1)\">\n     <use xlink:href=\"#DejaVuSans-30\"/>\n     <use xlink:href=\"#DejaVuSans-2e\" x=\"63.623047\"/>\n     <use xlink:href=\"#DejaVuSans-30\" x=\"95.410156\"/>\n     <use xlink:href=\"#DejaVuSans-32\" x=\"159.033203\"/>\n     <use xlink:href=\"#DejaVuSans-36\" x=\"222.65625\"/>\n    </g>\n   </g>\n   <g id=\"text_254\">\n    <!-- 1 -->\n    <g style=\"fill: #ffffff\" transform=\"translate(677.260938 659.733594) scale(0.1 -0.1)\">\n     <use xlink:href=\"#DejaVuSans-31\"/>\n    </g>\n   </g>\n   <g id=\"text_255\">\n    <!-- -0.099 -->\n    <g style=\"fill: #262626\" transform=\"translate(706.174219 659.733594) scale(0.1 -0.1)\">\n     <use xlink:href=\"#DejaVuSans-2d\"/>\n     <use xlink:href=\"#DejaVuSans-30\" x=\"36.083984\"/>\n     <use xlink:href=\"#DejaVuSans-2e\" x=\"99.707031\"/>\n     <use xlink:href=\"#DejaVuSans-30\" x=\"131.494141\"/>\n     <use xlink:href=\"#DejaVuSans-39\" x=\"195.117188\"/>\n     <use xlink:href=\"#DejaVuSans-39\" x=\"258.740234\"/>\n    </g>\n   </g>\n   <g id=\"text_256\">\n    <!-- -0.56 -->\n    <g style=\"fill: #262626\" transform=\"translate(751.205469 659.733594) scale(0.1 -0.1)\">\n     <use xlink:href=\"#DejaVuSans-2d\"/>\n     <use xlink:href=\"#DejaVuSans-30\" x=\"36.083984\"/>\n     <use xlink:href=\"#DejaVuSans-2e\" x=\"99.707031\"/>\n     <use xlink:href=\"#DejaVuSans-35\" x=\"131.494141\"/>\n     <use xlink:href=\"#DejaVuSans-36\" x=\"195.117188\"/>\n    </g>\n   </g>\n   <g id=\"text_257\">\n    <!-- -0.034 -->\n    <g style=\"fill: #262626\" transform=\"translate(120.274219 701.583594) scale(0.1 -0.1)\">\n     <use xlink:href=\"#DejaVuSans-2d\"/>\n     <use xlink:href=\"#DejaVuSans-30\" x=\"36.083984\"/>\n     <use xlink:href=\"#DejaVuSans-2e\" x=\"99.707031\"/>\n     <use xlink:href=\"#DejaVuSans-30\" x=\"131.494141\"/>\n     <use xlink:href=\"#DejaVuSans-33\" x=\"195.117188\"/>\n     <use xlink:href=\"#DejaVuSans-34\" x=\"258.740234\"/>\n    </g>\n   </g>\n   <g id=\"text_258\">\n    <!-- -0.017 -->\n    <g style=\"fill: #262626\" transform=\"translate(162.124219 701.583594) scale(0.1 -0.1)\">\n     <use xlink:href=\"#DejaVuSans-2d\"/>\n     <use xlink:href=\"#DejaVuSans-30\" x=\"36.083984\"/>\n     <use xlink:href=\"#DejaVuSans-2e\" x=\"99.707031\"/>\n     <use xlink:href=\"#DejaVuSans-30\" x=\"131.494141\"/>\n     <use xlink:href=\"#DejaVuSans-31\" x=\"195.117188\"/>\n     <use xlink:href=\"#DejaVuSans-37\" x=\"258.740234\"/>\n    </g>\n   </g>\n   <g id=\"text_259\">\n    <!-- -0.015 -->\n    <g style=\"fill: #262626\" transform=\"translate(203.974219 701.583594) scale(0.1 -0.1)\">\n     <use xlink:href=\"#DejaVuSans-2d\"/>\n     <use xlink:href=\"#DejaVuSans-30\" x=\"36.083984\"/>\n     <use xlink:href=\"#DejaVuSans-2e\" x=\"99.707031\"/>\n     <use xlink:href=\"#DejaVuSans-30\" x=\"131.494141\"/>\n     <use xlink:href=\"#DejaVuSans-31\" x=\"195.117188\"/>\n     <use xlink:href=\"#DejaVuSans-35\" x=\"258.740234\"/>\n    </g>\n   </g>\n   <g id=\"text_260\">\n    <!-- 0.012 -->\n    <g style=\"fill: #262626\" transform=\"translate(247.628125 701.583594) scale(0.1 -0.1)\">\n     <use xlink:href=\"#DejaVuSans-30\"/>\n     <use xlink:href=\"#DejaVuSans-2e\" x=\"63.623047\"/>\n     <use xlink:href=\"#DejaVuSans-30\" x=\"95.410156\"/>\n     <use xlink:href=\"#DejaVuSans-31\" x=\"159.033203\"/>\n     <use xlink:href=\"#DejaVuSans-32\" x=\"222.65625\"/>\n    </g>\n   </g>\n   <g id=\"text_261\">\n    <!-- -0.02 -->\n    <g style=\"fill: #262626\" transform=\"translate(290.855469 701.583594) scale(0.1 -0.1)\">\n     <use xlink:href=\"#DejaVuSans-2d\"/>\n     <use xlink:href=\"#DejaVuSans-30\" x=\"36.083984\"/>\n     <use xlink:href=\"#DejaVuSans-2e\" x=\"99.707031\"/>\n     <use xlink:href=\"#DejaVuSans-30\" x=\"131.494141\"/>\n     <use xlink:href=\"#DejaVuSans-32\" x=\"195.117188\"/>\n    </g>\n   </g>\n   <g id=\"text_262\">\n    <!-- -0.02 -->\n    <g style=\"fill: #262626\" transform=\"translate(332.705469 701.583594) scale(0.1 -0.1)\">\n     <use xlink:href=\"#DejaVuSans-2d\"/>\n     <use xlink:href=\"#DejaVuSans-30\" x=\"36.083984\"/>\n     <use xlink:href=\"#DejaVuSans-2e\" x=\"99.707031\"/>\n     <use xlink:href=\"#DejaVuSans-30\" x=\"131.494141\"/>\n     <use xlink:href=\"#DejaVuSans-32\" x=\"195.117188\"/>\n    </g>\n   </g>\n   <g id=\"text_263\">\n    <!-- 0.0019 -->\n    <g style=\"fill: #262626\" transform=\"translate(369.996875 701.583594) scale(0.1 -0.1)\">\n     <use xlink:href=\"#DejaVuSans-30\"/>\n     <use xlink:href=\"#DejaVuSans-2e\" x=\"63.623047\"/>\n     <use xlink:href=\"#DejaVuSans-30\" x=\"95.410156\"/>\n     <use xlink:href=\"#DejaVuSans-30\" x=\"159.033203\"/>\n     <use xlink:href=\"#DejaVuSans-31\" x=\"222.65625\"/>\n     <use xlink:href=\"#DejaVuSans-39\" x=\"286.279297\"/>\n    </g>\n   </g>\n   <g id=\"text_264\">\n    <!-- -0.039 -->\n    <g style=\"fill: #262626\" transform=\"translate(413.224219 701.583594) scale(0.1 -0.1)\">\n     <use xlink:href=\"#DejaVuSans-2d\"/>\n     <use xlink:href=\"#DejaVuSans-30\" x=\"36.083984\"/>\n     <use xlink:href=\"#DejaVuSans-2e\" x=\"99.707031\"/>\n     <use xlink:href=\"#DejaVuSans-30\" x=\"131.494141\"/>\n     <use xlink:href=\"#DejaVuSans-33\" x=\"195.117188\"/>\n     <use xlink:href=\"#DejaVuSans-39\" x=\"258.740234\"/>\n    </g>\n   </g>\n   <g id=\"text_265\">\n    <!-- -0.078 -->\n    <g style=\"fill: #262626\" transform=\"translate(455.074219 701.583594) scale(0.1 -0.1)\">\n     <use xlink:href=\"#DejaVuSans-2d\"/>\n     <use xlink:href=\"#DejaVuSans-30\" x=\"36.083984\"/>\n     <use xlink:href=\"#DejaVuSans-2e\" x=\"99.707031\"/>\n     <use xlink:href=\"#DejaVuSans-30\" x=\"131.494141\"/>\n     <use xlink:href=\"#DejaVuSans-37\" x=\"195.117188\"/>\n     <use xlink:href=\"#DejaVuSans-38\" x=\"258.740234\"/>\n    </g>\n   </g>\n   <g id=\"text_266\">\n    <!-- -0.1 -->\n    <g style=\"fill: #262626\" transform=\"translate(503.286719 701.583594) scale(0.1 -0.1)\">\n     <use xlink:href=\"#DejaVuSans-2d\"/>\n     <use xlink:href=\"#DejaVuSans-30\" x=\"36.083984\"/>\n     <use xlink:href=\"#DejaVuSans-2e\" x=\"99.707031\"/>\n     <use xlink:href=\"#DejaVuSans-31\" x=\"131.494141\"/>\n    </g>\n   </g>\n   <g id=\"text_267\">\n    <!-- -0.022 -->\n    <g style=\"fill: #262626\" transform=\"translate(538.774219 701.583594) scale(0.1 -0.1)\">\n     <use xlink:href=\"#DejaVuSans-2d\"/>\n     <use xlink:href=\"#DejaVuSans-30\" x=\"36.083984\"/>\n     <use xlink:href=\"#DejaVuSans-2e\" x=\"99.707031\"/>\n     <use xlink:href=\"#DejaVuSans-30\" x=\"131.494141\"/>\n     <use xlink:href=\"#DejaVuSans-32\" x=\"195.117188\"/>\n     <use xlink:href=\"#DejaVuSans-32\" x=\"258.740234\"/>\n    </g>\n   </g>\n   <g id=\"text_268\">\n    <!-- -0.022 -->\n    <g style=\"fill: #262626\" transform=\"translate(580.624219 701.583594) scale(0.1 -0.1)\">\n     <use xlink:href=\"#DejaVuSans-2d\"/>\n     <use xlink:href=\"#DejaVuSans-30\" x=\"36.083984\"/>\n     <use xlink:href=\"#DejaVuSans-2e\" x=\"99.707031\"/>\n     <use xlink:href=\"#DejaVuSans-30\" x=\"131.494141\"/>\n     <use xlink:href=\"#DejaVuSans-32\" x=\"195.117188\"/>\n     <use xlink:href=\"#DejaVuSans-32\" x=\"258.740234\"/>\n    </g>\n   </g>\n   <g id=\"text_269\">\n    <!-- -0.064 -->\n    <g style=\"fill: #262626\" transform=\"translate(622.474219 701.583594) scale(0.1 -0.1)\">\n     <use xlink:href=\"#DejaVuSans-2d\"/>\n     <use xlink:href=\"#DejaVuSans-30\" x=\"36.083984\"/>\n     <use xlink:href=\"#DejaVuSans-2e\" x=\"99.707031\"/>\n     <use xlink:href=\"#DejaVuSans-30\" x=\"131.494141\"/>\n     <use xlink:href=\"#DejaVuSans-36\" x=\"195.117188\"/>\n     <use xlink:href=\"#DejaVuSans-34\" x=\"258.740234\"/>\n    </g>\n   </g>\n   <g id=\"text_270\">\n    <!-- -0.099 -->\n    <g style=\"fill: #262626\" transform=\"translate(664.324219 701.583594) scale(0.1 -0.1)\">\n     <use xlink:href=\"#DejaVuSans-2d\"/>\n     <use xlink:href=\"#DejaVuSans-30\" x=\"36.083984\"/>\n     <use xlink:href=\"#DejaVuSans-2e\" x=\"99.707031\"/>\n     <use xlink:href=\"#DejaVuSans-30\" x=\"131.494141\"/>\n     <use xlink:href=\"#DejaVuSans-39\" x=\"195.117188\"/>\n     <use xlink:href=\"#DejaVuSans-39\" x=\"258.740234\"/>\n    </g>\n   </g>\n   <g id=\"text_271\">\n    <!-- 1 -->\n    <g style=\"fill: #ffffff\" transform=\"translate(719.110938 701.583594) scale(0.1 -0.1)\">\n     <use xlink:href=\"#DejaVuSans-31\"/>\n    </g>\n   </g>\n   <g id=\"text_272\">\n    <!-- -0.086 -->\n    <g style=\"fill: #262626\" transform=\"translate(748.024219 701.583594) scale(0.1 -0.1)\">\n     <use xlink:href=\"#DejaVuSans-2d\"/>\n     <use xlink:href=\"#DejaVuSans-30\" x=\"36.083984\"/>\n     <use xlink:href=\"#DejaVuSans-2e\" x=\"99.707031\"/>\n     <use xlink:href=\"#DejaVuSans-30\" x=\"131.494141\"/>\n     <use xlink:href=\"#DejaVuSans-38\" x=\"195.117188\"/>\n     <use xlink:href=\"#DejaVuSans-36\" x=\"258.740234\"/>\n    </g>\n   </g>\n   <g id=\"text_273\">\n    <!-- -0.044 -->\n    <g style=\"fill: #262626\" transform=\"translate(120.274219 743.433594) scale(0.1 -0.1)\">\n     <use xlink:href=\"#DejaVuSans-2d\"/>\n     <use xlink:href=\"#DejaVuSans-30\" x=\"36.083984\"/>\n     <use xlink:href=\"#DejaVuSans-2e\" x=\"99.707031\"/>\n     <use xlink:href=\"#DejaVuSans-30\" x=\"131.494141\"/>\n     <use xlink:href=\"#DejaVuSans-34\" x=\"195.117188\"/>\n     <use xlink:href=\"#DejaVuSans-34\" x=\"258.740234\"/>\n    </g>\n   </g>\n   <g id=\"text_274\">\n    <!-- -0.3 -->\n    <g style=\"fill: #262626\" transform=\"translate(168.486719 743.433594) scale(0.1 -0.1)\">\n     <use xlink:href=\"#DejaVuSans-2d\"/>\n     <use xlink:href=\"#DejaVuSans-30\" x=\"36.083984\"/>\n     <use xlink:href=\"#DejaVuSans-2e\" x=\"99.707031\"/>\n     <use xlink:href=\"#DejaVuSans-33\" x=\"131.494141\"/>\n    </g>\n   </g>\n   <g id=\"text_275\">\n    <!-- -0.026 -->\n    <g style=\"fill: #262626\" transform=\"translate(203.974219 743.433594) scale(0.1 -0.1)\">\n     <use xlink:href=\"#DejaVuSans-2d\"/>\n     <use xlink:href=\"#DejaVuSans-30\" x=\"36.083984\"/>\n     <use xlink:href=\"#DejaVuSans-2e\" x=\"99.707031\"/>\n     <use xlink:href=\"#DejaVuSans-30\" x=\"131.494141\"/>\n     <use xlink:href=\"#DejaVuSans-32\" x=\"195.117188\"/>\n     <use xlink:href=\"#DejaVuSans-36\" x=\"258.740234\"/>\n    </g>\n   </g>\n   <g id=\"text_276\">\n    <!-- -0.031 -->\n    <g style=\"fill: #262626\" transform=\"translate(245.824219 743.433594) scale(0.1 -0.1)\">\n     <use xlink:href=\"#DejaVuSans-2d\"/>\n     <use xlink:href=\"#DejaVuSans-30\" x=\"36.083984\"/>\n     <use xlink:href=\"#DejaVuSans-2e\" x=\"99.707031\"/>\n     <use xlink:href=\"#DejaVuSans-30\" x=\"131.494141\"/>\n     <use xlink:href=\"#DejaVuSans-33\" x=\"195.117188\"/>\n     <use xlink:href=\"#DejaVuSans-31\" x=\"258.740234\"/>\n    </g>\n   </g>\n   <g id=\"text_277\">\n    <!-- 0.0078 -->\n    <g style=\"fill: #262626\" transform=\"translate(286.296875 743.433594) scale(0.1 -0.1)\">\n     <use xlink:href=\"#DejaVuSans-30\"/>\n     <use xlink:href=\"#DejaVuSans-2e\" x=\"63.623047\"/>\n     <use xlink:href=\"#DejaVuSans-30\" x=\"95.410156\"/>\n     <use xlink:href=\"#DejaVuSans-30\" x=\"159.033203\"/>\n     <use xlink:href=\"#DejaVuSans-37\" x=\"222.65625\"/>\n     <use xlink:href=\"#DejaVuSans-38\" x=\"286.279297\"/>\n    </g>\n   </g>\n   <g id=\"text_278\">\n    <!-- -0.19 -->\n    <g style=\"fill: #262626\" transform=\"translate(332.705469 743.433594) scale(0.1 -0.1)\">\n     <use xlink:href=\"#DejaVuSans-2d\"/>\n     <use xlink:href=\"#DejaVuSans-30\" x=\"36.083984\"/>\n     <use xlink:href=\"#DejaVuSans-2e\" x=\"99.707031\"/>\n     <use xlink:href=\"#DejaVuSans-31\" x=\"131.494141\"/>\n     <use xlink:href=\"#DejaVuSans-39\" x=\"195.117188\"/>\n    </g>\n   </g>\n   <g id=\"text_279\">\n    <!-- 0.31 -->\n    <g style=\"fill: #ffffff\" transform=\"translate(376.359375 743.433594) scale(0.1 -0.1)\">\n     <use xlink:href=\"#DejaVuSans-30\"/>\n     <use xlink:href=\"#DejaVuSans-2e\" x=\"63.623047\"/>\n     <use xlink:href=\"#DejaVuSans-33\" x=\"95.410156\"/>\n     <use xlink:href=\"#DejaVuSans-31\" x=\"159.033203\"/>\n    </g>\n   </g>\n   <g id=\"text_280\">\n    <!-- -0.2 -->\n    <g style=\"fill: #262626\" transform=\"translate(419.586719 743.433594) scale(0.1 -0.1)\">\n     <use xlink:href=\"#DejaVuSans-2d\"/>\n     <use xlink:href=\"#DejaVuSans-30\" x=\"36.083984\"/>\n     <use xlink:href=\"#DejaVuSans-2e\" x=\"99.707031\"/>\n     <use xlink:href=\"#DejaVuSans-32\" x=\"131.494141\"/>\n    </g>\n   </g>\n   <g id=\"text_281\">\n    <!-- -0.54 -->\n    <g style=\"fill: #262626\" transform=\"translate(458.255469 743.433594) scale(0.1 -0.1)\">\n     <use xlink:href=\"#DejaVuSans-2d\"/>\n     <use xlink:href=\"#DejaVuSans-30\" x=\"36.083984\"/>\n     <use xlink:href=\"#DejaVuSans-2e\" x=\"99.707031\"/>\n     <use xlink:href=\"#DejaVuSans-35\" x=\"131.494141\"/>\n     <use xlink:href=\"#DejaVuSans-34\" x=\"195.117188\"/>\n    </g>\n   </g>\n   <g id=\"text_282\">\n    <!-- -0.33 -->\n    <g style=\"fill: #262626\" transform=\"translate(500.105469 743.433594) scale(0.1 -0.1)\">\n     <use xlink:href=\"#DejaVuSans-2d\"/>\n     <use xlink:href=\"#DejaVuSans-30\" x=\"36.083984\"/>\n     <use xlink:href=\"#DejaVuSans-2e\" x=\"99.707031\"/>\n     <use xlink:href=\"#DejaVuSans-33\" x=\"131.494141\"/>\n     <use xlink:href=\"#DejaVuSans-33\" x=\"195.117188\"/>\n    </g>\n   </g>\n   <g id=\"text_283\">\n    <!-- -0.09 -->\n    <g style=\"fill: #262626\" transform=\"translate(541.955469 743.433594) scale(0.1 -0.1)\">\n     <use xlink:href=\"#DejaVuSans-2d\"/>\n     <use xlink:href=\"#DejaVuSans-30\" x=\"36.083984\"/>\n     <use xlink:href=\"#DejaVuSans-2e\" x=\"99.707031\"/>\n     <use xlink:href=\"#DejaVuSans-30\" x=\"131.494141\"/>\n     <use xlink:href=\"#DejaVuSans-39\" x=\"195.117188\"/>\n    </g>\n   </g>\n   <g id=\"text_284\">\n    <!-- -0.09 -->\n    <g style=\"fill: #262626\" transform=\"translate(583.805469 743.433594) scale(0.1 -0.1)\">\n     <use xlink:href=\"#DejaVuSans-2d\"/>\n     <use xlink:href=\"#DejaVuSans-30\" x=\"36.083984\"/>\n     <use xlink:href=\"#DejaVuSans-2e\" x=\"99.707031\"/>\n     <use xlink:href=\"#DejaVuSans-30\" x=\"131.494141\"/>\n     <use xlink:href=\"#DejaVuSans-39\" x=\"195.117188\"/>\n    </g>\n   </g>\n   <g id=\"text_285\">\n    <!-- -0.25 -->\n    <g style=\"fill: #262626\" transform=\"translate(625.655469 743.433594) scale(0.1 -0.1)\">\n     <use xlink:href=\"#DejaVuSans-2d\"/>\n     <use xlink:href=\"#DejaVuSans-30\" x=\"36.083984\"/>\n     <use xlink:href=\"#DejaVuSans-2e\" x=\"99.707031\"/>\n     <use xlink:href=\"#DejaVuSans-32\" x=\"131.494141\"/>\n     <use xlink:href=\"#DejaVuSans-35\" x=\"195.117188\"/>\n    </g>\n   </g>\n   <g id=\"text_286\">\n    <!-- -0.56 -->\n    <g style=\"fill: #262626\" transform=\"translate(667.505469 743.433594) scale(0.1 -0.1)\">\n     <use xlink:href=\"#DejaVuSans-2d\"/>\n     <use xlink:href=\"#DejaVuSans-30\" x=\"36.083984\"/>\n     <use xlink:href=\"#DejaVuSans-2e\" x=\"99.707031\"/>\n     <use xlink:href=\"#DejaVuSans-35\" x=\"131.494141\"/>\n     <use xlink:href=\"#DejaVuSans-36\" x=\"195.117188\"/>\n    </g>\n   </g>\n   <g id=\"text_287\">\n    <!-- -0.086 -->\n    <g style=\"fill: #262626\" transform=\"translate(706.174219 743.433594) scale(0.1 -0.1)\">\n     <use xlink:href=\"#DejaVuSans-2d\"/>\n     <use xlink:href=\"#DejaVuSans-30\" x=\"36.083984\"/>\n     <use xlink:href=\"#DejaVuSans-2e\" x=\"99.707031\"/>\n     <use xlink:href=\"#DejaVuSans-30\" x=\"131.494141\"/>\n     <use xlink:href=\"#DejaVuSans-38\" x=\"195.117188\"/>\n     <use xlink:href=\"#DejaVuSans-36\" x=\"258.740234\"/>\n    </g>\n   </g>\n   <g id=\"text_288\">\n    <!-- 1 -->\n    <g style=\"fill: #ffffff\" transform=\"translate(760.960938 743.433594) scale(0.1 -0.1)\">\n     <use xlink:href=\"#DejaVuSans-31\"/>\n    </g>\n   </g>\n  </g>\n  <g id=\"axes_2\">\n   <g id=\"patch_3\">\n    <path d=\"M 826.917188 842.599219 \nL 868.497188 842.599219 \nL 868.497188 10.999219 \nL 826.917188 10.999219 \nz\n\" style=\"fill: #ffffff\"/>\n   </g>\n   <image xlink:href=\"data:image/png;base64,\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\" id=\"image7154ff55fb\" transform=\"scale(1 -1) translate(0 -831.6)\" x=\"826.56\" y=\"-10.8\" width=\"41.76\" height=\"831.6\"/>\n   <g id=\"matplotlib.axis_3\"/>\n   <g id=\"matplotlib.axis_4\">\n    <g id=\"ytick_17\">\n     <g id=\"line2d_33\">\n      <defs>\n       <path id=\"m617dc7e31c\" d=\"M 0 0 \nL 3.5 0 \n\" style=\"stroke: #000000; stroke-width: 0.8\"/>\n      </defs>\n      <g>\n       <use xlink:href=\"#m617dc7e31c\" x=\"868.497188\" y=\"757.925996\" style=\"stroke: #000000; stroke-width: 0.8\"/>\n      </g>\n     </g>\n     <g id=\"text_289\">\n      <!-- −0.4 -->\n      <g transform=\"translate(875.497188 761.725214) scale(0.1 -0.1)\">\n       <defs>\n        <path id=\"DejaVuSans-2212\" d=\"M 678 2272 \nL 4684 2272 \nL 4684 1741 \nL 678 1741 \nL 678 2272 \nz\n\" transform=\"scale(0.015625)\"/>\n       </defs>\n       <use xlink:href=\"#DejaVuSans-2212\"/>\n       <use xlink:href=\"#DejaVuSans-30\" x=\"83.789062\"/>\n       <use xlink:href=\"#DejaVuSans-2e\" x=\"147.412109\"/>\n       <use xlink:href=\"#DejaVuSans-34\" x=\"179.199219\"/>\n      </g>\n     </g>\n    </g>\n    <g id=\"ytick_18\">\n     <g id=\"line2d_34\">\n      <g>\n       <use xlink:href=\"#m617dc7e31c\" x=\"868.497188\" y=\"651.22217\" style=\"stroke: #000000; stroke-width: 0.8\"/>\n      </g>\n     </g>\n     <g id=\"text_290\">\n      <!-- −0.2 -->\n      <g transform=\"translate(875.497188 655.021389) scale(0.1 -0.1)\">\n       <use xlink:href=\"#DejaVuSans-2212\"/>\n       <use xlink:href=\"#DejaVuSans-30\" x=\"83.789062\"/>\n       <use xlink:href=\"#DejaVuSans-2e\" x=\"147.412109\"/>\n       <use xlink:href=\"#DejaVuSans-32\" x=\"179.199219\"/>\n      </g>\n     </g>\n    </g>\n    <g id=\"ytick_19\">\n     <g id=\"line2d_35\">\n      <g>\n       <use xlink:href=\"#m617dc7e31c\" x=\"868.497188\" y=\"544.518345\" style=\"stroke: #000000; stroke-width: 0.8\"/>\n      </g>\n     </g>\n     <g id=\"text_291\">\n      <!-- 0.0 -->\n      <g transform=\"translate(875.497188 548.317564) scale(0.1 -0.1)\">\n       <use xlink:href=\"#DejaVuSans-30\"/>\n       <use xlink:href=\"#DejaVuSans-2e\" x=\"63.623047\"/>\n       <use xlink:href=\"#DejaVuSans-30\" x=\"95.410156\"/>\n      </g>\n     </g>\n    </g>\n    <g id=\"ytick_20\">\n     <g id=\"line2d_36\">\n      <g>\n       <use xlink:href=\"#m617dc7e31c\" x=\"868.497188\" y=\"437.81452\" style=\"stroke: #000000; stroke-width: 0.8\"/>\n      </g>\n     </g>\n     <g id=\"text_292\">\n      <!-- 0.2 -->\n      <g transform=\"translate(875.497188 441.613739) scale(0.1 -0.1)\">\n       <use xlink:href=\"#DejaVuSans-30\"/>\n       <use xlink:href=\"#DejaVuSans-2e\" x=\"63.623047\"/>\n       <use xlink:href=\"#DejaVuSans-32\" x=\"95.410156\"/>\n      </g>\n     </g>\n    </g>\n    <g id=\"ytick_21\">\n     <g id=\"line2d_37\">\n      <g>\n       <use xlink:href=\"#m617dc7e31c\" x=\"868.497188\" y=\"331.110695\" style=\"stroke: #000000; stroke-width: 0.8\"/>\n      </g>\n     </g>\n     <g id=\"text_293\">\n      <!-- 0.4 -->\n      <g transform=\"translate(875.497188 334.909913) scale(0.1 -0.1)\">\n       <use xlink:href=\"#DejaVuSans-30\"/>\n       <use xlink:href=\"#DejaVuSans-2e\" x=\"63.623047\"/>\n       <use xlink:href=\"#DejaVuSans-34\" x=\"95.410156\"/>\n      </g>\n     </g>\n    </g>\n    <g id=\"ytick_22\">\n     <g id=\"line2d_38\">\n      <g>\n       <use xlink:href=\"#m617dc7e31c\" x=\"868.497188\" y=\"224.406869\" style=\"stroke: #000000; stroke-width: 0.8\"/>\n      </g>\n     </g>\n     <g id=\"text_294\">\n      <!-- 0.6 -->\n      <g transform=\"translate(875.497188 228.206088) scale(0.1 -0.1)\">\n       <use xlink:href=\"#DejaVuSans-30\"/>\n       <use xlink:href=\"#DejaVuSans-2e\" x=\"63.623047\"/>\n       <use xlink:href=\"#DejaVuSans-36\" x=\"95.410156\"/>\n      </g>\n     </g>\n    </g>\n    <g id=\"ytick_23\">\n     <g id=\"line2d_39\">\n      <g>\n       <use xlink:href=\"#m617dc7e31c\" x=\"868.497188\" y=\"117.703044\" style=\"stroke: #000000; stroke-width: 0.8\"/>\n      </g>\n     </g>\n     <g id=\"text_295\">\n      <!-- 0.8 -->\n      <g transform=\"translate(875.497188 121.502263) scale(0.1 -0.1)\">\n       <use xlink:href=\"#DejaVuSans-30\"/>\n       <use xlink:href=\"#DejaVuSans-2e\" x=\"63.623047\"/>\n       <use xlink:href=\"#DejaVuSans-38\" x=\"95.410156\"/>\n      </g>\n     </g>\n    </g>\n    <g id=\"ytick_24\">\n     <g id=\"line2d_40\">\n      <g>\n       <use xlink:href=\"#m617dc7e31c\" x=\"868.497188\" y=\"10.999219\" style=\"stroke: #000000; stroke-width: 0.8\"/>\n      </g>\n     </g>\n     <g id=\"text_296\">\n      <!-- 1.0 -->\n      <g transform=\"translate(875.497188 14.798438) scale(0.1 -0.1)\">\n       <use xlink:href=\"#DejaVuSans-31\"/>\n       <use xlink:href=\"#DejaVuSans-2e\" x=\"63.623047\"/>\n       <use xlink:href=\"#DejaVuSans-30\" x=\"95.410156\"/>\n      </g>\n     </g>\n    </g>\n   </g>\n   <g id=\"LineCollection_1\"/>\n   <g id=\"patch_4\">\n    <path d=\"M 826.917188 842.599219 \nL 847.707188 842.599219 \nL 868.497188 842.599219 \nL 868.497188 10.999219 \nL 847.707188 10.999219 \nL 826.917188 10.999219 \nL 826.917188 842.599219 \nz\n\" style=\"fill: none\"/>\n   </g>\n  </g>\n </g>\n <defs>\n  <clipPath id=\"pe47c853fae\">\n   <rect x=\"115.467188\" y=\"91.999219\" width=\"669.6\" height=\"669.6\"/>\n  </clipPath>\n </defs>\n</svg>\n"
          },
          "metadata": {}
        }
      ]
    },
    {
      "cell_type": "code",
      "source": [
        "df_final.drop('Grade',axis=1,inplace=True)\n",
        "df_final.drop('Quarterly Rating',axis=1,inplace=True)\n",
        "df_final.drop('Total Business Value',axis=1,inplace=True)\n",
        "df_final.drop('Driver_ID',axis=1,inplace=True)\n",
        "#dropping grade and quaterly rating columns as they are have high correlation(0.8,0.71) with other factors"
      ],
      "metadata": {
        "id": "SN1uKrZ_2GT5"
      },
      "execution_count": null,
      "outputs": []
    },
    {
      "cell_type": "markdown",
      "source": [
        "#Model buliding"
      ],
      "metadata": {
        "id": "IKU2b9kXkHVU"
      }
    },
    {
      "cell_type": "code",
      "source": [
        "#separating target\n",
        "Y=df_final[\"Target\"].astype(int)\n",
        "X=df_final.drop(\"Target\",axis=1)\n",
        "\n",
        "columns=X.columns"
      ],
      "metadata": {
        "id": "Am0v0Gnj7xb3"
      },
      "execution_count": null,
      "outputs": []
    },
    {
      "cell_type": "code",
      "source": [
        "from sklearn.tree import DecisionTreeClassifier # Import Decision Tree Classifier\n",
        "from sklearn.model_selection import train_test_split # Import train_test_split function\n",
        "from sklearn import metrics\n",
        "X_train_val, X_test, y_train_val, y_test = train_test_split(X, Y, test_size=0.2, random_state=1)\n",
        "X_train, X_val, y_train, y_val = train_test_split(X_train_val, y_train_val, test_size=0.2, random_state=1)"
      ],
      "metadata": {
        "id": "Q67DfPzrmxDP"
      },
      "execution_count": null,
      "outputs": []
    },
    {
      "cell_type": "markdown",
      "source": [
        "**We dont need to do standardisation for decision tree models hence skipping standardisation**\n",
        "**Note that you may need to standardise data for other models**"
      ],
      "metadata": {
        "id": "Ls7sot3R-3RO"
      }
    },
    {
      "cell_type": "code",
      "source": [
        "# import the regressor\n",
        "from sklearn.tree import DecisionTreeRegressor\n",
        "\n",
        "# create a classifier object\n",
        "classifier = DecisionTreeClassifier(criterion=\"entropy\", max_depth=4)\n",
        "\n",
        "# fit the regressor with X and Y data\n",
        "train_scores = []\n",
        "val_scores = []\n",
        "\n",
        "for i in np.arange(1,20): # range of values of Lambda\n",
        "  regressor = DecisionTreeClassifier(class_weight=\"balanced\",criterion=\"entropy\", max_depth=i)\n",
        "  regressor.fit(X_train, y_train)\n",
        "  train_score = regressor.score(X_train, y_train)\n",
        "  val_score = regressor.score(X_val, y_val)\n",
        "  train_scores.append(train_score)\n",
        "  val_scores.append(val_score)\n"
      ],
      "metadata": {
        "id": "wAusZ7ChZeva"
      },
      "execution_count": null,
      "outputs": []
    },
    {
      "cell_type": "code",
      "source": [
        "plt.figure()\n",
        "plt.plot(list(np.arange(1,20)), train_scores, label=\"train\")\n",
        "plt.plot(list(np.arange(1,20)), val_scores, label=\"val\")\n",
        "plt.legend(loc='lower right')\n",
        "\n",
        "plt.xlabel(\"Max_depth\")\n",
        "plt.ylabel(\"Accuracy\")\n",
        "plt.grid()\n",
        "plt.show()"
      ],
      "metadata": {
        "colab": {
          "base_uri": "https://localhost:8080/",
          "height": 436
        },
        "id": "JATkecnBqwNu",
        "outputId": "c44f196b-31a0-4133-c585-1ac3ff79ece5"
      },
      "execution_count": null,
      "outputs": [
        {
          "output_type": "display_data",
          "data": {
            "text/plain": [
              "<Figure size 640x480 with 1 Axes>"
            ],
            "image/svg+xml": "<?xml version=\"1.0\" encoding=\"utf-8\" standalone=\"no\"?>\n<!DOCTYPE svg PUBLIC \"-//W3C//DTD SVG 1.1//EN\"\n  \"http://www.w3.org/Graphics/SVG/1.1/DTD/svg11.dtd\">\n<svg xmlns:xlink=\"http://www.w3.org/1999/xlink\" width=\"414.46375pt\" height=\"311.146375pt\" viewBox=\"0 0 414.46375 311.146375\" xmlns=\"http://www.w3.org/2000/svg\" version=\"1.1\">\n <metadata>\n  <rdf:RDF xmlns:dc=\"http://purl.org/dc/elements/1.1/\" xmlns:cc=\"http://creativecommons.org/ns#\" xmlns:rdf=\"http://www.w3.org/1999/02/22-rdf-syntax-ns#\">\n   <cc:Work>\n    <dc:type rdf:resource=\"http://purl.org/dc/dcmitype/StillImage\"/>\n    <dc:date>2023-07-12T06:34:15.506730</dc:date>\n    <dc:format>image/svg+xml</dc:format>\n    <dc:creator>\n     <cc:Agent>\n      <dc:title>Matplotlib v3.7.1, https://matplotlib.org/</dc:title>\n     </cc:Agent>\n    </dc:creator>\n   </cc:Work>\n  </rdf:RDF>\n </metadata>\n <defs>\n  <style type=\"text/css\">*{stroke-linejoin: round; stroke-linecap: butt}</style>\n </defs>\n <g id=\"figure_1\">\n  <g id=\"patch_1\">\n   <path d=\"M 0 311.146375 \nL 414.46375 311.146375 \nL 414.46375 0 \nL 0 0 \nz\n\" style=\"fill: #ffffff\"/>\n  </g>\n  <g id=\"axes_1\">\n   <g id=\"patch_2\">\n    <path d=\"M 50.14375 273.312 \nL 407.26375 273.312 \nL 407.26375 7.2 \nL 50.14375 7.2 \nz\n\" style=\"fill: #ffffff\"/>\n   </g>\n   <g id=\"matplotlib.axis_1\">\n    <g id=\"xtick_1\">\n     <g id=\"line2d_1\">\n      <path d=\"M 93.431023 273.312 \nL 93.431023 7.2 \n\" clip-path=\"url(#p9e41a0f44d)\" style=\"fill: none; stroke: #b0b0b0; stroke-width: 0.8; stroke-linecap: square\"/>\n     </g>\n     <g id=\"line2d_2\">\n      <defs>\n       <path id=\"m9b68a0fd7d\" d=\"M 0 0 \nL 0 3.5 \n\" style=\"stroke: #000000; stroke-width: 0.8\"/>\n      </defs>\n      <g>\n       <use xlink:href=\"#m9b68a0fd7d\" x=\"93.431023\" y=\"273.312\" style=\"stroke: #000000; stroke-width: 0.8\"/>\n      </g>\n     </g>\n     <g id=\"text_1\">\n      <!-- 2.5 -->\n      <g transform=\"translate(85.47946 287.910437) scale(0.1 -0.1)\">\n       <defs>\n        <path id=\"DejaVuSans-32\" d=\"M 1228 531 \nL 3431 531 \nL 3431 0 \nL 469 0 \nL 469 531 \nQ 828 903 1448 1529 \nQ 2069 2156 2228 2338 \nQ 2531 2678 2651 2914 \nQ 2772 3150 2772 3378 \nQ 2772 3750 2511 3984 \nQ 2250 4219 1831 4219 \nQ 1534 4219 1204 4116 \nQ 875 4013 500 3803 \nL 500 4441 \nQ 881 4594 1212 4672 \nQ 1544 4750 1819 4750 \nQ 2544 4750 2975 4387 \nQ 3406 4025 3406 3419 \nQ 3406 3131 3298 2873 \nQ 3191 2616 2906 2266 \nQ 2828 2175 2409 1742 \nQ 1991 1309 1228 531 \nz\n\" transform=\"scale(0.015625)\"/>\n        <path id=\"DejaVuSans-2e\" d=\"M 684 794 \nL 1344 794 \nL 1344 0 \nL 684 0 \nL 684 794 \nz\n\" transform=\"scale(0.015625)\"/>\n        <path id=\"DejaVuSans-35\" d=\"M 691 4666 \nL 3169 4666 \nL 3169 4134 \nL 1269 4134 \nL 1269 2991 \nQ 1406 3038 1543 3061 \nQ 1681 3084 1819 3084 \nQ 2600 3084 3056 2656 \nQ 3513 2228 3513 1497 \nQ 3513 744 3044 326 \nQ 2575 -91 1722 -91 \nQ 1428 -91 1123 -41 \nQ 819 9 494 109 \nL 494 744 \nQ 775 591 1075 516 \nQ 1375 441 1709 441 \nQ 2250 441 2565 725 \nQ 2881 1009 2881 1497 \nQ 2881 1984 2565 2268 \nQ 2250 2553 1709 2553 \nQ 1456 2553 1204 2497 \nQ 953 2441 691 2322 \nL 691 4666 \nz\n\" transform=\"scale(0.015625)\"/>\n       </defs>\n       <use xlink:href=\"#DejaVuSans-32\"/>\n       <use xlink:href=\"#DejaVuSans-2e\" x=\"63.623047\"/>\n       <use xlink:href=\"#DejaVuSans-35\" x=\"95.410156\"/>\n      </g>\n     </g>\n    </g>\n    <g id=\"xtick_2\">\n     <g id=\"line2d_3\">\n      <path d=\"M 138.521932 273.312 \nL 138.521932 7.2 \n\" clip-path=\"url(#p9e41a0f44d)\" style=\"fill: none; stroke: #b0b0b0; stroke-width: 0.8; stroke-linecap: square\"/>\n     </g>\n     <g id=\"line2d_4\">\n      <g>\n       <use xlink:href=\"#m9b68a0fd7d\" x=\"138.521932\" y=\"273.312\" style=\"stroke: #000000; stroke-width: 0.8\"/>\n      </g>\n     </g>\n     <g id=\"text_2\">\n      <!-- 5.0 -->\n      <g transform=\"translate(130.570369 287.910437) scale(0.1 -0.1)\">\n       <defs>\n        <path id=\"DejaVuSans-30\" d=\"M 2034 4250 \nQ 1547 4250 1301 3770 \nQ 1056 3291 1056 2328 \nQ 1056 1369 1301 889 \nQ 1547 409 2034 409 \nQ 2525 409 2770 889 \nQ 3016 1369 3016 2328 \nQ 3016 3291 2770 3770 \nQ 2525 4250 2034 4250 \nz\nM 2034 4750 \nQ 2819 4750 3233 4129 \nQ 3647 3509 3647 2328 \nQ 3647 1150 3233 529 \nQ 2819 -91 2034 -91 \nQ 1250 -91 836 529 \nQ 422 1150 422 2328 \nQ 422 3509 836 4129 \nQ 1250 4750 2034 4750 \nz\n\" transform=\"scale(0.015625)\"/>\n       </defs>\n       <use xlink:href=\"#DejaVuSans-35\"/>\n       <use xlink:href=\"#DejaVuSans-2e\" x=\"63.623047\"/>\n       <use xlink:href=\"#DejaVuSans-30\" x=\"95.410156\"/>\n      </g>\n     </g>\n    </g>\n    <g id=\"xtick_3\">\n     <g id=\"line2d_5\">\n      <path d=\"M 183.612841 273.312 \nL 183.612841 7.2 \n\" clip-path=\"url(#p9e41a0f44d)\" style=\"fill: none; stroke: #b0b0b0; stroke-width: 0.8; stroke-linecap: square\"/>\n     </g>\n     <g id=\"line2d_6\">\n      <g>\n       <use xlink:href=\"#m9b68a0fd7d\" x=\"183.612841\" y=\"273.312\" style=\"stroke: #000000; stroke-width: 0.8\"/>\n      </g>\n     </g>\n     <g id=\"text_3\">\n      <!-- 7.5 -->\n      <g transform=\"translate(175.661278 287.910437) scale(0.1 -0.1)\">\n       <defs>\n        <path id=\"DejaVuSans-37\" d=\"M 525 4666 \nL 3525 4666 \nL 3525 4397 \nL 1831 0 \nL 1172 0 \nL 2766 4134 \nL 525 4134 \nL 525 4666 \nz\n\" transform=\"scale(0.015625)\"/>\n       </defs>\n       <use xlink:href=\"#DejaVuSans-37\"/>\n       <use xlink:href=\"#DejaVuSans-2e\" x=\"63.623047\"/>\n       <use xlink:href=\"#DejaVuSans-35\" x=\"95.410156\"/>\n      </g>\n     </g>\n    </g>\n    <g id=\"xtick_4\">\n     <g id=\"line2d_7\">\n      <path d=\"M 228.70375 273.312 \nL 228.70375 7.2 \n\" clip-path=\"url(#p9e41a0f44d)\" style=\"fill: none; stroke: #b0b0b0; stroke-width: 0.8; stroke-linecap: square\"/>\n     </g>\n     <g id=\"line2d_8\">\n      <g>\n       <use xlink:href=\"#m9b68a0fd7d\" x=\"228.70375\" y=\"273.312\" style=\"stroke: #000000; stroke-width: 0.8\"/>\n      </g>\n     </g>\n     <g id=\"text_4\">\n      <!-- 10.0 -->\n      <g transform=\"translate(217.570938 287.910437) scale(0.1 -0.1)\">\n       <defs>\n        <path id=\"DejaVuSans-31\" d=\"M 794 531 \nL 1825 531 \nL 1825 4091 \nL 703 3866 \nL 703 4441 \nL 1819 4666 \nL 2450 4666 \nL 2450 531 \nL 3481 531 \nL 3481 0 \nL 794 0 \nL 794 531 \nz\n\" transform=\"scale(0.015625)\"/>\n       </defs>\n       <use xlink:href=\"#DejaVuSans-31\"/>\n       <use xlink:href=\"#DejaVuSans-30\" x=\"63.623047\"/>\n       <use xlink:href=\"#DejaVuSans-2e\" x=\"127.246094\"/>\n       <use xlink:href=\"#DejaVuSans-30\" x=\"159.033203\"/>\n      </g>\n     </g>\n    </g>\n    <g id=\"xtick_5\">\n     <g id=\"line2d_9\">\n      <path d=\"M 273.794659 273.312 \nL 273.794659 7.2 \n\" clip-path=\"url(#p9e41a0f44d)\" style=\"fill: none; stroke: #b0b0b0; stroke-width: 0.8; stroke-linecap: square\"/>\n     </g>\n     <g id=\"line2d_10\">\n      <g>\n       <use xlink:href=\"#m9b68a0fd7d\" x=\"273.794659\" y=\"273.312\" style=\"stroke: #000000; stroke-width: 0.8\"/>\n      </g>\n     </g>\n     <g id=\"text_5\">\n      <!-- 12.5 -->\n      <g transform=\"translate(262.661847 287.910437) scale(0.1 -0.1)\">\n       <use xlink:href=\"#DejaVuSans-31\"/>\n       <use xlink:href=\"#DejaVuSans-32\" x=\"63.623047\"/>\n       <use xlink:href=\"#DejaVuSans-2e\" x=\"127.246094\"/>\n       <use xlink:href=\"#DejaVuSans-35\" x=\"159.033203\"/>\n      </g>\n     </g>\n    </g>\n    <g id=\"xtick_6\">\n     <g id=\"line2d_11\">\n      <path d=\"M 318.885568 273.312 \nL 318.885568 7.2 \n\" clip-path=\"url(#p9e41a0f44d)\" style=\"fill: none; stroke: #b0b0b0; stroke-width: 0.8; stroke-linecap: square\"/>\n     </g>\n     <g id=\"line2d_12\">\n      <g>\n       <use xlink:href=\"#m9b68a0fd7d\" x=\"318.885568\" y=\"273.312\" style=\"stroke: #000000; stroke-width: 0.8\"/>\n      </g>\n     </g>\n     <g id=\"text_6\">\n      <!-- 15.0 -->\n      <g transform=\"translate(307.752756 287.910437) scale(0.1 -0.1)\">\n       <use xlink:href=\"#DejaVuSans-31\"/>\n       <use xlink:href=\"#DejaVuSans-35\" x=\"63.623047\"/>\n       <use xlink:href=\"#DejaVuSans-2e\" x=\"127.246094\"/>\n       <use xlink:href=\"#DejaVuSans-30\" x=\"159.033203\"/>\n      </g>\n     </g>\n    </g>\n    <g id=\"xtick_7\">\n     <g id=\"line2d_13\">\n      <path d=\"M 363.976477 273.312 \nL 363.976477 7.2 \n\" clip-path=\"url(#p9e41a0f44d)\" style=\"fill: none; stroke: #b0b0b0; stroke-width: 0.8; stroke-linecap: square\"/>\n     </g>\n     <g id=\"line2d_14\">\n      <g>\n       <use xlink:href=\"#m9b68a0fd7d\" x=\"363.976477\" y=\"273.312\" style=\"stroke: #000000; stroke-width: 0.8\"/>\n      </g>\n     </g>\n     <g id=\"text_7\">\n      <!-- 17.5 -->\n      <g transform=\"translate(352.843665 287.910437) scale(0.1 -0.1)\">\n       <use xlink:href=\"#DejaVuSans-31\"/>\n       <use xlink:href=\"#DejaVuSans-37\" x=\"63.623047\"/>\n       <use xlink:href=\"#DejaVuSans-2e\" x=\"127.246094\"/>\n       <use xlink:href=\"#DejaVuSans-35\" x=\"159.033203\"/>\n      </g>\n     </g>\n    </g>\n    <g id=\"text_8\">\n     <!-- Max_depth -->\n     <g transform=\"translate(201.312344 301.588562) scale(0.1 -0.1)\">\n      <defs>\n       <path id=\"DejaVuSans-4d\" d=\"M 628 4666 \nL 1569 4666 \nL 2759 1491 \nL 3956 4666 \nL 4897 4666 \nL 4897 0 \nL 4281 0 \nL 4281 4097 \nL 3078 897 \nL 2444 897 \nL 1241 4097 \nL 1241 0 \nL 628 0 \nL 628 4666 \nz\n\" transform=\"scale(0.015625)\"/>\n       <path id=\"DejaVuSans-61\" d=\"M 2194 1759 \nQ 1497 1759 1228 1600 \nQ 959 1441 959 1056 \nQ 959 750 1161 570 \nQ 1363 391 1709 391 \nQ 2188 391 2477 730 \nQ 2766 1069 2766 1631 \nL 2766 1759 \nL 2194 1759 \nz\nM 3341 1997 \nL 3341 0 \nL 2766 0 \nL 2766 531 \nQ 2569 213 2275 61 \nQ 1981 -91 1556 -91 \nQ 1019 -91 701 211 \nQ 384 513 384 1019 \nQ 384 1609 779 1909 \nQ 1175 2209 1959 2209 \nL 2766 2209 \nL 2766 2266 \nQ 2766 2663 2505 2880 \nQ 2244 3097 1772 3097 \nQ 1472 3097 1187 3025 \nQ 903 2953 641 2809 \nL 641 3341 \nQ 956 3463 1253 3523 \nQ 1550 3584 1831 3584 \nQ 2591 3584 2966 3190 \nQ 3341 2797 3341 1997 \nz\n\" transform=\"scale(0.015625)\"/>\n       <path id=\"DejaVuSans-78\" d=\"M 3513 3500 \nL 2247 1797 \nL 3578 0 \nL 2900 0 \nL 1881 1375 \nL 863 0 \nL 184 0 \nL 1544 1831 \nL 300 3500 \nL 978 3500 \nL 1906 2253 \nL 2834 3500 \nL 3513 3500 \nz\n\" transform=\"scale(0.015625)\"/>\n       <path id=\"DejaVuSans-5f\" d=\"M 3263 -1063 \nL 3263 -1509 \nL -63 -1509 \nL -63 -1063 \nL 3263 -1063 \nz\n\" transform=\"scale(0.015625)\"/>\n       <path id=\"DejaVuSans-64\" d=\"M 2906 2969 \nL 2906 4863 \nL 3481 4863 \nL 3481 0 \nL 2906 0 \nL 2906 525 \nQ 2725 213 2448 61 \nQ 2172 -91 1784 -91 \nQ 1150 -91 751 415 \nQ 353 922 353 1747 \nQ 353 2572 751 3078 \nQ 1150 3584 1784 3584 \nQ 2172 3584 2448 3432 \nQ 2725 3281 2906 2969 \nz\nM 947 1747 \nQ 947 1113 1208 752 \nQ 1469 391 1925 391 \nQ 2381 391 2643 752 \nQ 2906 1113 2906 1747 \nQ 2906 2381 2643 2742 \nQ 2381 3103 1925 3103 \nQ 1469 3103 1208 2742 \nQ 947 2381 947 1747 \nz\n\" transform=\"scale(0.015625)\"/>\n       <path id=\"DejaVuSans-65\" d=\"M 3597 1894 \nL 3597 1613 \nL 953 1613 \nQ 991 1019 1311 708 \nQ 1631 397 2203 397 \nQ 2534 397 2845 478 \nQ 3156 559 3463 722 \nL 3463 178 \nQ 3153 47 2828 -22 \nQ 2503 -91 2169 -91 \nQ 1331 -91 842 396 \nQ 353 884 353 1716 \nQ 353 2575 817 3079 \nQ 1281 3584 2069 3584 \nQ 2775 3584 3186 3129 \nQ 3597 2675 3597 1894 \nz\nM 3022 2063 \nQ 3016 2534 2758 2815 \nQ 2500 3097 2075 3097 \nQ 1594 3097 1305 2825 \nQ 1016 2553 972 2059 \nL 3022 2063 \nz\n\" transform=\"scale(0.015625)\"/>\n       <path id=\"DejaVuSans-70\" d=\"M 1159 525 \nL 1159 -1331 \nL 581 -1331 \nL 581 3500 \nL 1159 3500 \nL 1159 2969 \nQ 1341 3281 1617 3432 \nQ 1894 3584 2278 3584 \nQ 2916 3584 3314 3078 \nQ 3713 2572 3713 1747 \nQ 3713 922 3314 415 \nQ 2916 -91 2278 -91 \nQ 1894 -91 1617 61 \nQ 1341 213 1159 525 \nz\nM 3116 1747 \nQ 3116 2381 2855 2742 \nQ 2594 3103 2138 3103 \nQ 1681 3103 1420 2742 \nQ 1159 2381 1159 1747 \nQ 1159 1113 1420 752 \nQ 1681 391 2138 391 \nQ 2594 391 2855 752 \nQ 3116 1113 3116 1747 \nz\n\" transform=\"scale(0.015625)\"/>\n       <path id=\"DejaVuSans-74\" d=\"M 1172 4494 \nL 1172 3500 \nL 2356 3500 \nL 2356 3053 \nL 1172 3053 \nL 1172 1153 \nQ 1172 725 1289 603 \nQ 1406 481 1766 481 \nL 2356 481 \nL 2356 0 \nL 1766 0 \nQ 1100 0 847 248 \nQ 594 497 594 1153 \nL 594 3053 \nL 172 3053 \nL 172 3500 \nL 594 3500 \nL 594 4494 \nL 1172 4494 \nz\n\" transform=\"scale(0.015625)\"/>\n       <path id=\"DejaVuSans-68\" d=\"M 3513 2113 \nL 3513 0 \nL 2938 0 \nL 2938 2094 \nQ 2938 2591 2744 2837 \nQ 2550 3084 2163 3084 \nQ 1697 3084 1428 2787 \nQ 1159 2491 1159 1978 \nL 1159 0 \nL 581 0 \nL 581 4863 \nL 1159 4863 \nL 1159 2956 \nQ 1366 3272 1645 3428 \nQ 1925 3584 2291 3584 \nQ 2894 3584 3203 3211 \nQ 3513 2838 3513 2113 \nz\n\" transform=\"scale(0.015625)\"/>\n      </defs>\n      <use xlink:href=\"#DejaVuSans-4d\"/>\n      <use xlink:href=\"#DejaVuSans-61\" x=\"86.279297\"/>\n      <use xlink:href=\"#DejaVuSans-78\" x=\"147.558594\"/>\n      <use xlink:href=\"#DejaVuSans-5f\" x=\"206.738281\"/>\n      <use xlink:href=\"#DejaVuSans-64\" x=\"256.738281\"/>\n      <use xlink:href=\"#DejaVuSans-65\" x=\"320.214844\"/>\n      <use xlink:href=\"#DejaVuSans-70\" x=\"381.738281\"/>\n      <use xlink:href=\"#DejaVuSans-74\" x=\"445.214844\"/>\n      <use xlink:href=\"#DejaVuSans-68\" x=\"484.423828\"/>\n     </g>\n    </g>\n   </g>\n   <g id=\"matplotlib.axis_2\">\n    <g id=\"ytick_1\">\n     <g id=\"line2d_15\">\n      <path d=\"M 50.14375 252.052364 \nL 407.26375 252.052364 \n\" clip-path=\"url(#p9e41a0f44d)\" style=\"fill: none; stroke: #b0b0b0; stroke-width: 0.8; stroke-linecap: square\"/>\n     </g>\n     <g id=\"line2d_16\">\n      <defs>\n       <path id=\"m727a09a7a1\" d=\"M 0 0 \nL -3.5 0 \n\" style=\"stroke: #000000; stroke-width: 0.8\"/>\n      </defs>\n      <g>\n       <use xlink:href=\"#m727a09a7a1\" x=\"50.14375\" y=\"252.052364\" style=\"stroke: #000000; stroke-width: 0.8\"/>\n      </g>\n     </g>\n     <g id=\"text_9\">\n      <!-- 0.75 -->\n      <g transform=\"translate(20.878125 255.851582) scale(0.1 -0.1)\">\n       <use xlink:href=\"#DejaVuSans-30\"/>\n       <use xlink:href=\"#DejaVuSans-2e\" x=\"63.623047\"/>\n       <use xlink:href=\"#DejaVuSans-37\" x=\"95.410156\"/>\n       <use xlink:href=\"#DejaVuSans-35\" x=\"159.033203\"/>\n      </g>\n     </g>\n    </g>\n    <g id=\"ytick_2\">\n     <g id=\"line2d_17\">\n      <path d=\"M 50.14375 205.501091 \nL 407.26375 205.501091 \n\" clip-path=\"url(#p9e41a0f44d)\" style=\"fill: none; stroke: #b0b0b0; stroke-width: 0.8; stroke-linecap: square\"/>\n     </g>\n     <g id=\"line2d_18\">\n      <g>\n       <use xlink:href=\"#m727a09a7a1\" x=\"50.14375\" y=\"205.501091\" style=\"stroke: #000000; stroke-width: 0.8\"/>\n      </g>\n     </g>\n     <g id=\"text_10\">\n      <!-- 0.80 -->\n      <g transform=\"translate(20.878125 209.30031) scale(0.1 -0.1)\">\n       <defs>\n        <path id=\"DejaVuSans-38\" d=\"M 2034 2216 \nQ 1584 2216 1326 1975 \nQ 1069 1734 1069 1313 \nQ 1069 891 1326 650 \nQ 1584 409 2034 409 \nQ 2484 409 2743 651 \nQ 3003 894 3003 1313 \nQ 3003 1734 2745 1975 \nQ 2488 2216 2034 2216 \nz\nM 1403 2484 \nQ 997 2584 770 2862 \nQ 544 3141 544 3541 \nQ 544 4100 942 4425 \nQ 1341 4750 2034 4750 \nQ 2731 4750 3128 4425 \nQ 3525 4100 3525 3541 \nQ 3525 3141 3298 2862 \nQ 3072 2584 2669 2484 \nQ 3125 2378 3379 2068 \nQ 3634 1759 3634 1313 \nQ 3634 634 3220 271 \nQ 2806 -91 2034 -91 \nQ 1263 -91 848 271 \nQ 434 634 434 1313 \nQ 434 1759 690 2068 \nQ 947 2378 1403 2484 \nz\nM 1172 3481 \nQ 1172 3119 1398 2916 \nQ 1625 2713 2034 2713 \nQ 2441 2713 2670 2916 \nQ 2900 3119 2900 3481 \nQ 2900 3844 2670 4047 \nQ 2441 4250 2034 4250 \nQ 1625 4250 1398 4047 \nQ 1172 3844 1172 3481 \nz\n\" transform=\"scale(0.015625)\"/>\n       </defs>\n       <use xlink:href=\"#DejaVuSans-30\"/>\n       <use xlink:href=\"#DejaVuSans-2e\" x=\"63.623047\"/>\n       <use xlink:href=\"#DejaVuSans-38\" x=\"95.410156\"/>\n       <use xlink:href=\"#DejaVuSans-30\" x=\"159.033203\"/>\n      </g>\n     </g>\n    </g>\n    <g id=\"ytick_3\">\n     <g id=\"line2d_19\">\n      <path d=\"M 50.14375 158.949818 \nL 407.26375 158.949818 \n\" clip-path=\"url(#p9e41a0f44d)\" style=\"fill: none; stroke: #b0b0b0; stroke-width: 0.8; stroke-linecap: square\"/>\n     </g>\n     <g id=\"line2d_20\">\n      <g>\n       <use xlink:href=\"#m727a09a7a1\" x=\"50.14375\" y=\"158.949818\" style=\"stroke: #000000; stroke-width: 0.8\"/>\n      </g>\n     </g>\n     <g id=\"text_11\">\n      <!-- 0.85 -->\n      <g transform=\"translate(20.878125 162.749037) scale(0.1 -0.1)\">\n       <use xlink:href=\"#DejaVuSans-30\"/>\n       <use xlink:href=\"#DejaVuSans-2e\" x=\"63.623047\"/>\n       <use xlink:href=\"#DejaVuSans-38\" x=\"95.410156\"/>\n       <use xlink:href=\"#DejaVuSans-35\" x=\"159.033203\"/>\n      </g>\n     </g>\n    </g>\n    <g id=\"ytick_4\">\n     <g id=\"line2d_21\">\n      <path d=\"M 50.14375 112.398545 \nL 407.26375 112.398545 \n\" clip-path=\"url(#p9e41a0f44d)\" style=\"fill: none; stroke: #b0b0b0; stroke-width: 0.8; stroke-linecap: square\"/>\n     </g>\n     <g id=\"line2d_22\">\n      <g>\n       <use xlink:href=\"#m727a09a7a1\" x=\"50.14375\" y=\"112.398545\" style=\"stroke: #000000; stroke-width: 0.8\"/>\n      </g>\n     </g>\n     <g id=\"text_12\">\n      <!-- 0.90 -->\n      <g transform=\"translate(20.878125 116.197764) scale(0.1 -0.1)\">\n       <defs>\n        <path id=\"DejaVuSans-39\" d=\"M 703 97 \nL 703 672 \nQ 941 559 1184 500 \nQ 1428 441 1663 441 \nQ 2288 441 2617 861 \nQ 2947 1281 2994 2138 \nQ 2813 1869 2534 1725 \nQ 2256 1581 1919 1581 \nQ 1219 1581 811 2004 \nQ 403 2428 403 3163 \nQ 403 3881 828 4315 \nQ 1253 4750 1959 4750 \nQ 2769 4750 3195 4129 \nQ 3622 3509 3622 2328 \nQ 3622 1225 3098 567 \nQ 2575 -91 1691 -91 \nQ 1453 -91 1209 -44 \nQ 966 3 703 97 \nz\nM 1959 2075 \nQ 2384 2075 2632 2365 \nQ 2881 2656 2881 3163 \nQ 2881 3666 2632 3958 \nQ 2384 4250 1959 4250 \nQ 1534 4250 1286 3958 \nQ 1038 3666 1038 3163 \nQ 1038 2656 1286 2365 \nQ 1534 2075 1959 2075 \nz\n\" transform=\"scale(0.015625)\"/>\n       </defs>\n       <use xlink:href=\"#DejaVuSans-30\"/>\n       <use xlink:href=\"#DejaVuSans-2e\" x=\"63.623047\"/>\n       <use xlink:href=\"#DejaVuSans-39\" x=\"95.410156\"/>\n       <use xlink:href=\"#DejaVuSans-30\" x=\"159.033203\"/>\n      </g>\n     </g>\n    </g>\n    <g id=\"ytick_5\">\n     <g id=\"line2d_23\">\n      <path d=\"M 50.14375 65.847273 \nL 407.26375 65.847273 \n\" clip-path=\"url(#p9e41a0f44d)\" style=\"fill: none; stroke: #b0b0b0; stroke-width: 0.8; stroke-linecap: square\"/>\n     </g>\n     <g id=\"line2d_24\">\n      <g>\n       <use xlink:href=\"#m727a09a7a1\" x=\"50.14375\" y=\"65.847273\" style=\"stroke: #000000; stroke-width: 0.8\"/>\n      </g>\n     </g>\n     <g id=\"text_13\">\n      <!-- 0.95 -->\n      <g transform=\"translate(20.878125 69.646491) scale(0.1 -0.1)\">\n       <use xlink:href=\"#DejaVuSans-30\"/>\n       <use xlink:href=\"#DejaVuSans-2e\" x=\"63.623047\"/>\n       <use xlink:href=\"#DejaVuSans-39\" x=\"95.410156\"/>\n       <use xlink:href=\"#DejaVuSans-35\" x=\"159.033203\"/>\n      </g>\n     </g>\n    </g>\n    <g id=\"ytick_6\">\n     <g id=\"line2d_25\">\n      <path d=\"M 50.14375 19.296 \nL 407.26375 19.296 \n\" clip-path=\"url(#p9e41a0f44d)\" style=\"fill: none; stroke: #b0b0b0; stroke-width: 0.8; stroke-linecap: square\"/>\n     </g>\n     <g id=\"line2d_26\">\n      <g>\n       <use xlink:href=\"#m727a09a7a1\" x=\"50.14375\" y=\"19.296\" style=\"stroke: #000000; stroke-width: 0.8\"/>\n      </g>\n     </g>\n     <g id=\"text_14\">\n      <!-- 1.00 -->\n      <g transform=\"translate(20.878125 23.095219) scale(0.1 -0.1)\">\n       <use xlink:href=\"#DejaVuSans-31\"/>\n       <use xlink:href=\"#DejaVuSans-2e\" x=\"63.623047\"/>\n       <use xlink:href=\"#DejaVuSans-30\" x=\"95.410156\"/>\n       <use xlink:href=\"#DejaVuSans-30\" x=\"159.033203\"/>\n      </g>\n     </g>\n    </g>\n    <g id=\"text_15\">\n     <!-- Accuracy -->\n     <g transform=\"translate(14.798438 163.084125) rotate(-90) scale(0.1 -0.1)\">\n      <defs>\n       <path id=\"DejaVuSans-41\" d=\"M 2188 4044 \nL 1331 1722 \nL 3047 1722 \nL 2188 4044 \nz\nM 1831 4666 \nL 2547 4666 \nL 4325 0 \nL 3669 0 \nL 3244 1197 \nL 1141 1197 \nL 716 0 \nL 50 0 \nL 1831 4666 \nz\n\" transform=\"scale(0.015625)\"/>\n       <path id=\"DejaVuSans-63\" d=\"M 3122 3366 \nL 3122 2828 \nQ 2878 2963 2633 3030 \nQ 2388 3097 2138 3097 \nQ 1578 3097 1268 2742 \nQ 959 2388 959 1747 \nQ 959 1106 1268 751 \nQ 1578 397 2138 397 \nQ 2388 397 2633 464 \nQ 2878 531 3122 666 \nL 3122 134 \nQ 2881 22 2623 -34 \nQ 2366 -91 2075 -91 \nQ 1284 -91 818 406 \nQ 353 903 353 1747 \nQ 353 2603 823 3093 \nQ 1294 3584 2113 3584 \nQ 2378 3584 2631 3529 \nQ 2884 3475 3122 3366 \nz\n\" transform=\"scale(0.015625)\"/>\n       <path id=\"DejaVuSans-75\" d=\"M 544 1381 \nL 544 3500 \nL 1119 3500 \nL 1119 1403 \nQ 1119 906 1312 657 \nQ 1506 409 1894 409 \nQ 2359 409 2629 706 \nQ 2900 1003 2900 1516 \nL 2900 3500 \nL 3475 3500 \nL 3475 0 \nL 2900 0 \nL 2900 538 \nQ 2691 219 2414 64 \nQ 2138 -91 1772 -91 \nQ 1169 -91 856 284 \nQ 544 659 544 1381 \nz\nM 1991 3584 \nL 1991 3584 \nz\n\" transform=\"scale(0.015625)\"/>\n       <path id=\"DejaVuSans-72\" d=\"M 2631 2963 \nQ 2534 3019 2420 3045 \nQ 2306 3072 2169 3072 \nQ 1681 3072 1420 2755 \nQ 1159 2438 1159 1844 \nL 1159 0 \nL 581 0 \nL 581 3500 \nL 1159 3500 \nL 1159 2956 \nQ 1341 3275 1631 3429 \nQ 1922 3584 2338 3584 \nQ 2397 3584 2469 3576 \nQ 2541 3569 2628 3553 \nL 2631 2963 \nz\n\" transform=\"scale(0.015625)\"/>\n       <path id=\"DejaVuSans-79\" d=\"M 2059 -325 \nQ 1816 -950 1584 -1140 \nQ 1353 -1331 966 -1331 \nL 506 -1331 \nL 506 -850 \nL 844 -850 \nQ 1081 -850 1212 -737 \nQ 1344 -625 1503 -206 \nL 1606 56 \nL 191 3500 \nL 800 3500 \nL 1894 763 \nL 2988 3500 \nL 3597 3500 \nL 2059 -325 \nz\n\" transform=\"scale(0.015625)\"/>\n      </defs>\n      <use xlink:href=\"#DejaVuSans-41\"/>\n      <use xlink:href=\"#DejaVuSans-63\" x=\"66.658203\"/>\n      <use xlink:href=\"#DejaVuSans-63\" x=\"121.638672\"/>\n      <use xlink:href=\"#DejaVuSans-75\" x=\"176.619141\"/>\n      <use xlink:href=\"#DejaVuSans-72\" x=\"239.998047\"/>\n      <use xlink:href=\"#DejaVuSans-61\" x=\"281.111328\"/>\n      <use xlink:href=\"#DejaVuSans-63\" x=\"342.390625\"/>\n      <use xlink:href=\"#DejaVuSans-79\" x=\"397.371094\"/>\n     </g>\n    </g>\n   </g>\n   <g id=\"line2d_27\">\n    <path d=\"M 66.376477 232.031954 \nL 84.412841 216.137889 \nL 102.449205 245.480779 \nL 120.485568 124.441357 \nL 138.521932 123.218736 \nL 156.558295 84.706193 \nL 174.594659 71.257368 \nL 192.631023 59.031164 \nL 210.667386 50.472821 \nL 228.70375 43.137098 \nL 246.740114 31.522204 \nL 264.776477 25.409102 \nL 282.812841 24.186482 \nL 300.849205 21.129931 \nL 318.885568 20.51862 \nL 336.921932 19.296 \nL 354.958295 19.296 \nL 372.994659 19.296 \nL 391.031023 19.296 \n\" clip-path=\"url(#p9e41a0f44d)\" style=\"fill: none; stroke: #1f77b4; stroke-width: 1.5; stroke-linecap: square\"/>\n   </g>\n   <g id=\"line2d_28\">\n    <path d=\"M 66.376477 261.216 \nL 84.412841 187.906909 \nL 102.449205 212.343273 \nL 120.485568 114.597818 \nL 138.521932 119.485091 \nL 156.558295 92.605091 \nL 174.594659 90.161455 \nL 192.631023 107.266909 \nL 210.667386 97.492364 \nL 228.70375 104.823273 \nL 246.740114 109.710545 \nL 264.776477 112.154182 \nL 282.812841 107.266909 \nL 300.849205 117.041455 \nL 318.885568 107.266909 \nL 336.921932 119.485091 \nL 354.958295 117.041455 \nL 372.994659 119.485091 \nL 391.031023 114.597818 \n\" clip-path=\"url(#p9e41a0f44d)\" style=\"fill: none; stroke: #ff7f0e; stroke-width: 1.5; stroke-linecap: square\"/>\n   </g>\n   <g id=\"patch_3\">\n    <path d=\"M 50.14375 273.312 \nL 50.14375 7.2 \n\" style=\"fill: none; stroke: #000000; stroke-width: 0.8; stroke-linejoin: miter; stroke-linecap: square\"/>\n   </g>\n   <g id=\"patch_4\">\n    <path d=\"M 407.26375 273.312 \nL 407.26375 7.2 \n\" style=\"fill: none; stroke: #000000; stroke-width: 0.8; stroke-linejoin: miter; stroke-linecap: square\"/>\n   </g>\n   <g id=\"patch_5\">\n    <path d=\"M 50.14375 273.312 \nL 407.26375 273.312 \n\" style=\"fill: none; stroke: #000000; stroke-width: 0.8; stroke-linejoin: miter; stroke-linecap: square\"/>\n   </g>\n   <g id=\"patch_6\">\n    <path d=\"M 50.14375 7.2 \nL 407.26375 7.2 \n\" style=\"fill: none; stroke: #000000; stroke-width: 0.8; stroke-linejoin: miter; stroke-linecap: square\"/>\n   </g>\n   <g id=\"legend_1\">\n    <g id=\"patch_7\">\n     <path d=\"M 344.98875 268.312 \nL 400.26375 268.312 \nQ 402.26375 268.312 402.26375 266.312 \nL 402.26375 237.95575 \nQ 402.26375 235.95575 400.26375 235.95575 \nL 344.98875 235.95575 \nQ 342.98875 235.95575 342.98875 237.95575 \nL 342.98875 266.312 \nQ 342.98875 268.312 344.98875 268.312 \nz\n\" style=\"fill: #ffffff; opacity: 0.8; stroke: #cccccc; stroke-linejoin: miter\"/>\n    </g>\n    <g id=\"line2d_29\">\n     <path d=\"M 346.98875 244.054187 \nL 356.98875 244.054187 \nL 366.98875 244.054187 \n\" style=\"fill: none; stroke: #1f77b4; stroke-width: 1.5; stroke-linecap: square\"/>\n    </g>\n    <g id=\"text_16\">\n     <!-- train -->\n     <g transform=\"translate(374.98875 247.554187) scale(0.1 -0.1)\">\n      <defs>\n       <path id=\"DejaVuSans-69\" d=\"M 603 3500 \nL 1178 3500 \nL 1178 0 \nL 603 0 \nL 603 3500 \nz\nM 603 4863 \nL 1178 4863 \nL 1178 4134 \nL 603 4134 \nL 603 4863 \nz\n\" transform=\"scale(0.015625)\"/>\n       <path id=\"DejaVuSans-6e\" d=\"M 3513 2113 \nL 3513 0 \nL 2938 0 \nL 2938 2094 \nQ 2938 2591 2744 2837 \nQ 2550 3084 2163 3084 \nQ 1697 3084 1428 2787 \nQ 1159 2491 1159 1978 \nL 1159 0 \nL 581 0 \nL 581 3500 \nL 1159 3500 \nL 1159 2956 \nQ 1366 3272 1645 3428 \nQ 1925 3584 2291 3584 \nQ 2894 3584 3203 3211 \nQ 3513 2838 3513 2113 \nz\n\" transform=\"scale(0.015625)\"/>\n      </defs>\n      <use xlink:href=\"#DejaVuSans-74\"/>\n      <use xlink:href=\"#DejaVuSans-72\" x=\"39.208984\"/>\n      <use xlink:href=\"#DejaVuSans-61\" x=\"80.322266\"/>\n      <use xlink:href=\"#DejaVuSans-69\" x=\"141.601562\"/>\n      <use xlink:href=\"#DejaVuSans-6e\" x=\"169.384766\"/>\n     </g>\n    </g>\n    <g id=\"line2d_30\">\n     <path d=\"M 346.98875 258.732312 \nL 356.98875 258.732312 \nL 366.98875 258.732312 \n\" style=\"fill: none; stroke: #ff7f0e; stroke-width: 1.5; stroke-linecap: square\"/>\n    </g>\n    <g id=\"text_17\">\n     <!-- val -->\n     <g transform=\"translate(374.98875 262.232312) scale(0.1 -0.1)\">\n      <defs>\n       <path id=\"DejaVuSans-76\" d=\"M 191 3500 \nL 800 3500 \nL 1894 563 \nL 2988 3500 \nL 3597 3500 \nL 2284 0 \nL 1503 0 \nL 191 3500 \nz\n\" transform=\"scale(0.015625)\"/>\n       <path id=\"DejaVuSans-6c\" d=\"M 603 4863 \nL 1178 4863 \nL 1178 0 \nL 603 0 \nL 603 4863 \nz\n\" transform=\"scale(0.015625)\"/>\n      </defs>\n      <use xlink:href=\"#DejaVuSans-76\"/>\n      <use xlink:href=\"#DejaVuSans-61\" x=\"59.179688\"/>\n      <use xlink:href=\"#DejaVuSans-6c\" x=\"120.458984\"/>\n     </g>\n    </g>\n   </g>\n  </g>\n </g>\n <defs>\n  <clipPath id=\"p9e41a0f44d\">\n   <rect x=\"50.14375\" y=\"7.2\" width=\"357.12\" height=\"266.112\"/>\n  </clipPath>\n </defs>\n</svg>\n"
          },
          "metadata": {}
        }
      ]
    },
    {
      "cell_type": "code",
      "source": [
        "Best_val=val_scores[np.argmax(val_scores)]##best validation score\n",
        "best_max_depth=1+np.argmax(val_scores)\n",
        "print(f\"Best Max depth with Simple decision Tree is at {best_max_depth} with a validation accuracy of {Best_val}\")"
      ],
      "metadata": {
        "colab": {
          "base_uri": "https://localhost:8080/"
        },
        "id": "yCQnqEj7uMET",
        "outputId": "45f4a8af-38fe-44ef-e116-7a4a09847f06"
      },
      "execution_count": null,
      "outputs": [
        {
          "output_type": "stream",
          "name": "stdout",
          "text": [
            "Best Max depth with Simple decision Tree is at 7 with a validation accuracy of 0.9238845144356955\n"
          ]
        }
      ]
    },
    {
      "cell_type": "code",
      "source": [
        "imp=regressor.feature_importances_\n",
        "feat_imp={}\n",
        "for i,j in zip(columns,imp):\n",
        "  feat_imp[i]=j\n",
        "\n",
        "dict(sorted(feat_imp.items(), key=lambda item: item[1],reverse=True))#we can drop columns with less importance i.e income decrease and grade decrease"
      ],
      "metadata": {
        "colab": {
          "base_uri": "https://localhost:8080/"
        },
        "id": "rugtYJCdwGni",
        "outputId": "03e27720-0991-4c23-e72c-7bd8f32653a6"
      },
      "execution_count": null,
      "outputs": [
        {
          "output_type": "execute_result",
          "data": {
            "text/plain": [
              "{'number_month': 0.3577066003646637,\n",
              " 'year_of_join': 0.26725869613033537,\n",
              " 'month_of_join': 0.10432999209015818,\n",
              " 'Income': 0.0753041451360196,\n",
              " 'City': 0.059569157983259,\n",
              " 'Age': 0.05429621219010287,\n",
              " 'Rating_increase': 0.03925751569658349,\n",
              " 'Education_Level': 0.0177092466753685,\n",
              " 'Gender': 0.012539241858293944,\n",
              " 'Joining Designation': 0.012029191875215381,\n",
              " 'Income_decrease': 0.0,\n",
              " 'Grade_decrease': 0.0}"
            ]
          },
          "metadata": {},
          "execution_count": 48
        }
      ]
    },
    {
      "cell_type": "code",
      "source": [
        "df_final.drop(['Income_decrease',\"Grade_decrease\"],axis=1,inplace=True)#dropped two columns as stated above\n",
        "regressor = DecisionTreeClassifier(class_weight=\"balanced\",criterion=\"entropy\", max_depth=6)#checking accuracy after dropping columns with max depth 6\n",
        "regressor.fit(X_train, y_train)\n",
        "train_score = regressor.score(X_train, y_train)\n",
        "val_score = regressor.score(X_val, y_val)\n",
        "test_score=regressor.score(X_test, y_test)\n",
        "print(f\"After dropping two less important columns the validation accuracy comes out to be {val_score} and test accuracy of {test_score}\")"
      ],
      "metadata": {
        "colab": {
          "base_uri": "https://localhost:8080/"
        },
        "id": "SVauZQB83La3",
        "outputId": "f4edd7b4-e2ff-439e-ddef-1a127c61b600"
      },
      "execution_count": null,
      "outputs": [
        {
          "output_type": "stream",
          "name": "stdout",
          "text": [
            "After dropping two less important columns the validation accuracy comes out to be 0.9212598425196851 and test accuracy of 0.9308176100628931\n"
          ]
        }
      ]
    },
    {
      "cell_type": "code",
      "source": [
        "# importing random forest classifier from assemble module\n",
        "from sklearn.ensemble import RandomForestClassifier\n",
        "clf = RandomForestClassifier(n_estimators = 100)\n",
        "clf.fit(X_train,y_train)\n",
        "train_score_rf=clf.score(X_train,y_train)\n",
        "test_score_rf=clf.score(X_test,y_test)\n",
        "print(f\"using a simple random forest without any tuning we get a train score of {train_score_rf} & test score of {test_score_rf}\")\n",
        "#as the difference is significant this might be over fitting"
      ],
      "metadata": {
        "colab": {
          "base_uri": "https://localhost:8080/"
        },
        "id": "oY0bLA1pxqOi",
        "outputId": "237b6587-4b90-48dc-83c5-eba2ff7fb33c"
      },
      "execution_count": null,
      "outputs": [
        {
          "output_type": "stream",
          "name": "stdout",
          "text": [
            "using a simple random forest without any tuning we get a train score of 1.0 & test score of 0.9287211740041929\n"
          ]
        }
      ]
    },
    {
      "cell_type": "code",
      "source": [
        "#tuning for RF\n",
        "from sklearn.model_selection import RandomizedSearchCV\n",
        "# Number of trees in random forest\n",
        "n_estimators = [int(x) for x in np.linspace(start = 200, stop = 2000, num = 10)]\n",
        "# Number of features to consider at every split\n",
        "max_features = ['auto', 'sqrt']\n",
        "# Maximum number of levels in tree\n",
        "max_depth = [int(x) for x in np.linspace(10, 110, num = 11)]\n",
        "max_depth.append(None)\n",
        "# Minimum number of samples required to split a node\n",
        "min_samples_split = [2, 5, 10]\n",
        "# Minimum number of samples required at each leaf node\n",
        "min_samples_leaf = [1, 2, 4]\n",
        "# Method of selecting samples for training each tree\n",
        "bootstrap = [True, False]\n",
        "# Create the random grid\n",
        "random_grid = {'n_estimators': n_estimators,\n",
        "               'max_features': max_features,\n",
        "               'max_depth': max_depth,\n",
        "               'min_samples_split': min_samples_split,\n",
        "               'min_samples_leaf': min_samples_leaf,\n",
        "               'bootstrap': bootstrap,\n",
        "               'class_weight':['balanced']}\n",
        "# Use the random grid to search for best hyperparameters\n",
        "# First create the base model to tune\n",
        "rf = RandomForestClassifier()\n",
        "# Random search of parameters, using 3 fold cross validation,\n",
        "# search across 100 different combinations, and use all available cores\n",
        "rf_random = RandomizedSearchCV(estimator = rf, param_distributions = random_grid, n_iter = 25, cv = 3, verbose=2, random_state=42, n_jobs = -1)\n",
        "# Fit the random search model\n",
        "rf_random.fit(X_train, y_train)"
      ],
      "metadata": {
        "id": "74v5pwG-5U_z",
        "colab": {
          "base_uri": "https://localhost:8080/",
          "height": 363
        },
        "outputId": "cefe5f0f-1f15-429f-831c-1525f4a1ac92"
      },
      "execution_count": null,
      "outputs": [
        {
          "output_type": "stream",
          "name": "stdout",
          "text": [
            "Fitting 3 folds for each of 25 candidates, totalling 75 fits\n"
          ]
        },
        {
          "output_type": "error",
          "ename": "KeyboardInterrupt",
          "evalue": "ignored",
          "traceback": [
            "\u001b[0;31m---------------------------------------------------------------------------\u001b[0m",
            "\u001b[0;31mKeyboardInterrupt\u001b[0m                         Traceback (most recent call last)",
            "\u001b[0;32m<ipython-input-51-9ca5c221ede2>\u001b[0m in \u001b[0;36m<cell line: 31>\u001b[0;34m()\u001b[0m\n\u001b[1;32m     29\u001b[0m \u001b[0mrf_random\u001b[0m \u001b[0;34m=\u001b[0m \u001b[0mRandomizedSearchCV\u001b[0m\u001b[0;34m(\u001b[0m\u001b[0mestimator\u001b[0m \u001b[0;34m=\u001b[0m \u001b[0mrf\u001b[0m\u001b[0;34m,\u001b[0m \u001b[0mparam_distributions\u001b[0m \u001b[0;34m=\u001b[0m \u001b[0mrandom_grid\u001b[0m\u001b[0;34m,\u001b[0m \u001b[0mn_iter\u001b[0m \u001b[0;34m=\u001b[0m \u001b[0;36m25\u001b[0m\u001b[0;34m,\u001b[0m \u001b[0mcv\u001b[0m \u001b[0;34m=\u001b[0m \u001b[0;36m3\u001b[0m\u001b[0;34m,\u001b[0m \u001b[0mverbose\u001b[0m\u001b[0;34m=\u001b[0m\u001b[0;36m2\u001b[0m\u001b[0;34m,\u001b[0m \u001b[0mrandom_state\u001b[0m\u001b[0;34m=\u001b[0m\u001b[0;36m42\u001b[0m\u001b[0;34m,\u001b[0m \u001b[0mn_jobs\u001b[0m \u001b[0;34m=\u001b[0m \u001b[0;34m-\u001b[0m\u001b[0;36m1\u001b[0m\u001b[0;34m)\u001b[0m\u001b[0;34m\u001b[0m\u001b[0;34m\u001b[0m\u001b[0m\n\u001b[1;32m     30\u001b[0m \u001b[0;31m# Fit the random search model\u001b[0m\u001b[0;34m\u001b[0m\u001b[0;34m\u001b[0m\u001b[0m\n\u001b[0;32m---> 31\u001b[0;31m \u001b[0mrf_random\u001b[0m\u001b[0;34m.\u001b[0m\u001b[0mfit\u001b[0m\u001b[0;34m(\u001b[0m\u001b[0mX_train\u001b[0m\u001b[0;34m,\u001b[0m \u001b[0my_train\u001b[0m\u001b[0;34m)\u001b[0m\u001b[0;34m\u001b[0m\u001b[0;34m\u001b[0m\u001b[0m\n\u001b[0m",
            "\u001b[0;32m/usr/local/lib/python3.10/dist-packages/sklearn/model_selection/_search.py\u001b[0m in \u001b[0;36mfit\u001b[0;34m(self, X, y, groups, **fit_params)\u001b[0m\n\u001b[1;32m    872\u001b[0m                 \u001b[0;32mreturn\u001b[0m \u001b[0mresults\u001b[0m\u001b[0;34m\u001b[0m\u001b[0;34m\u001b[0m\u001b[0m\n\u001b[1;32m    873\u001b[0m \u001b[0;34m\u001b[0m\u001b[0m\n\u001b[0;32m--> 874\u001b[0;31m             \u001b[0mself\u001b[0m\u001b[0;34m.\u001b[0m\u001b[0m_run_search\u001b[0m\u001b[0;34m(\u001b[0m\u001b[0mevaluate_candidates\u001b[0m\u001b[0;34m)\u001b[0m\u001b[0;34m\u001b[0m\u001b[0;34m\u001b[0m\u001b[0m\n\u001b[0m\u001b[1;32m    875\u001b[0m \u001b[0;34m\u001b[0m\u001b[0m\n\u001b[1;32m    876\u001b[0m             \u001b[0;31m# multimetric is determined here because in the case of a callable\u001b[0m\u001b[0;34m\u001b[0m\u001b[0;34m\u001b[0m\u001b[0m\n",
            "\u001b[0;32m/usr/local/lib/python3.10/dist-packages/sklearn/model_selection/_search.py\u001b[0m in \u001b[0;36m_run_search\u001b[0;34m(self, evaluate_candidates)\u001b[0m\n\u001b[1;32m   1766\u001b[0m     \u001b[0;32mdef\u001b[0m \u001b[0m_run_search\u001b[0m\u001b[0;34m(\u001b[0m\u001b[0mself\u001b[0m\u001b[0;34m,\u001b[0m \u001b[0mevaluate_candidates\u001b[0m\u001b[0;34m)\u001b[0m\u001b[0;34m:\u001b[0m\u001b[0;34m\u001b[0m\u001b[0;34m\u001b[0m\u001b[0m\n\u001b[1;32m   1767\u001b[0m         \u001b[0;34m\"\"\"Search n_iter candidates from param_distributions\"\"\"\u001b[0m\u001b[0;34m\u001b[0m\u001b[0;34m\u001b[0m\u001b[0m\n\u001b[0;32m-> 1768\u001b[0;31m         evaluate_candidates(\n\u001b[0m\u001b[1;32m   1769\u001b[0m             ParameterSampler(\n\u001b[1;32m   1770\u001b[0m                 \u001b[0mself\u001b[0m\u001b[0;34m.\u001b[0m\u001b[0mparam_distributions\u001b[0m\u001b[0;34m,\u001b[0m \u001b[0mself\u001b[0m\u001b[0;34m.\u001b[0m\u001b[0mn_iter\u001b[0m\u001b[0;34m,\u001b[0m \u001b[0mrandom_state\u001b[0m\u001b[0;34m=\u001b[0m\u001b[0mself\u001b[0m\u001b[0;34m.\u001b[0m\u001b[0mrandom_state\u001b[0m\u001b[0;34m\u001b[0m\u001b[0;34m\u001b[0m\u001b[0m\n",
            "\u001b[0;32m/usr/local/lib/python3.10/dist-packages/sklearn/model_selection/_search.py\u001b[0m in \u001b[0;36mevaluate_candidates\u001b[0;34m(candidate_params, cv, more_results)\u001b[0m\n\u001b[1;32m    819\u001b[0m                     )\n\u001b[1;32m    820\u001b[0m \u001b[0;34m\u001b[0m\u001b[0m\n\u001b[0;32m--> 821\u001b[0;31m                 out = parallel(\n\u001b[0m\u001b[1;32m    822\u001b[0m                     delayed(_fit_and_score)(\n\u001b[1;32m    823\u001b[0m                         \u001b[0mclone\u001b[0m\u001b[0;34m(\u001b[0m\u001b[0mbase_estimator\u001b[0m\u001b[0;34m)\u001b[0m\u001b[0;34m,\u001b[0m\u001b[0;34m\u001b[0m\u001b[0;34m\u001b[0m\u001b[0m\n",
            "\u001b[0;32m/usr/local/lib/python3.10/dist-packages/sklearn/utils/parallel.py\u001b[0m in \u001b[0;36m__call__\u001b[0;34m(self, iterable)\u001b[0m\n\u001b[1;32m     61\u001b[0m             \u001b[0;32mfor\u001b[0m \u001b[0mdelayed_func\u001b[0m\u001b[0;34m,\u001b[0m \u001b[0margs\u001b[0m\u001b[0;34m,\u001b[0m \u001b[0mkwargs\u001b[0m \u001b[0;32min\u001b[0m \u001b[0miterable\u001b[0m\u001b[0;34m\u001b[0m\u001b[0;34m\u001b[0m\u001b[0m\n\u001b[1;32m     62\u001b[0m         )\n\u001b[0;32m---> 63\u001b[0;31m         \u001b[0;32mreturn\u001b[0m \u001b[0msuper\u001b[0m\u001b[0;34m(\u001b[0m\u001b[0;34m)\u001b[0m\u001b[0;34m.\u001b[0m\u001b[0m__call__\u001b[0m\u001b[0;34m(\u001b[0m\u001b[0miterable_with_config\u001b[0m\u001b[0;34m)\u001b[0m\u001b[0;34m\u001b[0m\u001b[0;34m\u001b[0m\u001b[0m\n\u001b[0m\u001b[1;32m     64\u001b[0m \u001b[0;34m\u001b[0m\u001b[0m\n\u001b[1;32m     65\u001b[0m \u001b[0;34m\u001b[0m\u001b[0m\n",
            "\u001b[0;32m/usr/local/lib/python3.10/dist-packages/joblib/parallel.py\u001b[0m in \u001b[0;36m__call__\u001b[0;34m(self, iterable)\u001b[0m\n\u001b[1;32m   1942\u001b[0m         \u001b[0mnext\u001b[0m\u001b[0;34m(\u001b[0m\u001b[0moutput\u001b[0m\u001b[0;34m)\u001b[0m\u001b[0;34m\u001b[0m\u001b[0;34m\u001b[0m\u001b[0m\n\u001b[1;32m   1943\u001b[0m \u001b[0;34m\u001b[0m\u001b[0m\n\u001b[0;32m-> 1944\u001b[0;31m         \u001b[0;32mreturn\u001b[0m \u001b[0moutput\u001b[0m \u001b[0;32mif\u001b[0m \u001b[0mself\u001b[0m\u001b[0;34m.\u001b[0m\u001b[0mreturn_generator\u001b[0m \u001b[0;32melse\u001b[0m \u001b[0mlist\u001b[0m\u001b[0;34m(\u001b[0m\u001b[0moutput\u001b[0m\u001b[0;34m)\u001b[0m\u001b[0;34m\u001b[0m\u001b[0;34m\u001b[0m\u001b[0m\n\u001b[0m\u001b[1;32m   1945\u001b[0m \u001b[0;34m\u001b[0m\u001b[0m\n\u001b[1;32m   1946\u001b[0m     \u001b[0;32mdef\u001b[0m \u001b[0m__repr__\u001b[0m\u001b[0;34m(\u001b[0m\u001b[0mself\u001b[0m\u001b[0;34m)\u001b[0m\u001b[0;34m:\u001b[0m\u001b[0;34m\u001b[0m\u001b[0;34m\u001b[0m\u001b[0m\n",
            "\u001b[0;32m/usr/local/lib/python3.10/dist-packages/joblib/parallel.py\u001b[0m in \u001b[0;36m_get_outputs\u001b[0;34m(self, iterator, pre_dispatch)\u001b[0m\n\u001b[1;32m   1585\u001b[0m \u001b[0;34m\u001b[0m\u001b[0m\n\u001b[1;32m   1586\u001b[0m             \u001b[0;32mwith\u001b[0m \u001b[0mself\u001b[0m\u001b[0;34m.\u001b[0m\u001b[0m_backend\u001b[0m\u001b[0;34m.\u001b[0m\u001b[0mretrieval_context\u001b[0m\u001b[0;34m(\u001b[0m\u001b[0;34m)\u001b[0m\u001b[0;34m:\u001b[0m\u001b[0;34m\u001b[0m\u001b[0;34m\u001b[0m\u001b[0m\n\u001b[0;32m-> 1587\u001b[0;31m                 \u001b[0;32myield\u001b[0m \u001b[0;32mfrom\u001b[0m \u001b[0mself\u001b[0m\u001b[0;34m.\u001b[0m\u001b[0m_retrieve\u001b[0m\u001b[0;34m(\u001b[0m\u001b[0;34m)\u001b[0m\u001b[0;34m\u001b[0m\u001b[0;34m\u001b[0m\u001b[0m\n\u001b[0m\u001b[1;32m   1588\u001b[0m \u001b[0;34m\u001b[0m\u001b[0m\n\u001b[1;32m   1589\u001b[0m         \u001b[0;32mexcept\u001b[0m \u001b[0mGeneratorExit\u001b[0m\u001b[0;34m:\u001b[0m\u001b[0;34m\u001b[0m\u001b[0;34m\u001b[0m\u001b[0m\n",
            "\u001b[0;32m/usr/local/lib/python3.10/dist-packages/joblib/parallel.py\u001b[0m in \u001b[0;36m_retrieve\u001b[0;34m(self)\u001b[0m\n\u001b[1;32m   1697\u001b[0m                 (self._jobs[0].get_status(\n\u001b[1;32m   1698\u001b[0m                     timeout=self.timeout) == TASK_PENDING)):\n\u001b[0;32m-> 1699\u001b[0;31m                 \u001b[0mtime\u001b[0m\u001b[0;34m.\u001b[0m\u001b[0msleep\u001b[0m\u001b[0;34m(\u001b[0m\u001b[0;36m0.01\u001b[0m\u001b[0;34m)\u001b[0m\u001b[0;34m\u001b[0m\u001b[0;34m\u001b[0m\u001b[0m\n\u001b[0m\u001b[1;32m   1700\u001b[0m                 \u001b[0;32mcontinue\u001b[0m\u001b[0;34m\u001b[0m\u001b[0;34m\u001b[0m\u001b[0m\n\u001b[1;32m   1701\u001b[0m \u001b[0;34m\u001b[0m\u001b[0m\n",
            "\u001b[0;31mKeyboardInterrupt\u001b[0m: "
          ]
        }
      ]
    },
    {
      "cell_type": "code",
      "source": [
        "rf_random.best_params_#checking the best params"
      ],
      "metadata": {
        "id": "8RHy2_sK7Chg"
      },
      "execution_count": null,
      "outputs": []
    },
    {
      "cell_type": "code",
      "source": [
        "rf = RandomForestClassifier(**rf_random.best_params_)\n",
        "rf.fit(X_train,y_train)\n",
        "train_score_rf=rf.score(X_train,y_train)\n",
        "test_score_rf=rf.score(X_test,y_test)\n",
        "print(f\"using a first level tuned random forest we get a train score of {train_score_rf} & test score of {test_score_rf}\")"
      ],
      "metadata": {
        "id": "acdvCDCIlBFA"
      },
      "execution_count": null,
      "outputs": []
    },
    {
      "cell_type": "code",
      "source": [
        "random_grid = {'n_estimators': np.arange(1900,2100,10),\n",
        "               'max_features': ['auto'],\n",
        "               'max_depth':np.arange(40,60,1),\n",
        "               'min_samples_split': [2],\n",
        "               'min_samples_leaf': [2],\n",
        "               'bootstrap': ['False'],\n",
        "               'class_weight':['balanced']}\n",
        "# Use the random grid to search for best hyperparameters\n",
        "# First create the base model to tune\n",
        "rf = RandomForestClassifier()\n",
        "# Random search of parameters, using 3 fold cross validation,\n",
        "# search across 100 different combinations, and use all available cores\n",
        "rf_random = RandomizedSearchCV(estimator = rf, param_distributions = random_grid, n_iter = 25, cv = 3, verbose=2, random_state=42, n_jobs = -1)\n",
        "# Fit the random search model\n",
        "rf_random.fit(X_train, y_train)"
      ],
      "metadata": {
        "id": "lgvrRjdyL-kR"
      },
      "execution_count": null,
      "outputs": []
    },
    {
      "cell_type": "code",
      "source": [
        "rf_best=rf_random.best_params_#checking the best params\n",
        "rf_best"
      ],
      "metadata": {
        "id": "fX90US4oMpQ5"
      },
      "execution_count": null,
      "outputs": []
    },
    {
      "cell_type": "code",
      "source": [
        "rf = RandomForestClassifier(**rf_best)\n",
        "rf.fit(X_train,y_train)\n",
        "train_score_rf=rf.score(X_train,y_train)\n",
        "test_score_rf=rf.score(X_test,y_test)\n",
        "print(f\"using a tuned random forest we get a train score of {train_score_rf} & test score of {test_score_rf}\")\n"
      ],
      "metadata": {
        "id": "s0k0P8WW9o27"
      },
      "execution_count": null,
      "outputs": []
    },
    {
      "cell_type": "code",
      "source": [
        "#lets check the confusion matrix ,precision ,recall, AUROC and AUPR\n",
        "from sklearn.metrics import precision_score,recall_score,roc_auc_score,RocCurveDisplay,precision_recall_curve,confusion_matrix,ConfusionMatrixDisplay,average_precision_score,f1_score\n",
        "y_pred_rf=rf.predict(X_test)\n",
        "pre_rf=precision_score(y_test,y_pred_rf)\n",
        "re_rf=recall_score(y_test,y_pred_rf)\n",
        "print(f\"The precision and recall for our tuned random forest are {pre_rf} & {re_rf}\")"
      ],
      "metadata": {
        "id": "FXws4X1IBW5T"
      },
      "execution_count": null,
      "outputs": []
    },
    {
      "cell_type": "code",
      "source": [
        "cm = confusion_matrix(y_test, y_pred_rf, normalize='all')\n",
        "cmd = ConfusionMatrixDisplay(cm, display_labels=['Churn','no_Churn'])\n",
        "cmd.plot()\n",
        "# we in this case tried to maximise the accuracy instead of any one of the scores like accuracy or recall as we need maximum accuracy and I dont think any one of the metrics is more important"
      ],
      "metadata": {
        "id": "i3ESZOzRC56z"
      },
      "execution_count": null,
      "outputs": []
    },
    {
      "cell_type": "code",
      "source": [
        "fpr, tpr, _ = metrics.roc_curve(y_test,y_pred_rf)\n",
        "auc = metrics.roc_auc_score(y_test, y_pred_rf)\n",
        "plt.plot(fpr,tpr,label=\"data 1, auc=\"+str(auc))\n",
        "plt.legend(loc=4)\n",
        "plt.show()\n"
      ],
      "metadata": {
        "id": "3xDAA2gjEfeo"
      },
      "execution_count": null,
      "outputs": []
    },
    {
      "cell_type": "code",
      "source": [
        "fpr, tpr, _ = metrics.precision_recall_curve(y_test,y_pred_rf)\n",
        "auc = metrics.average_precision_score(y_test, y_pred_rf)\n",
        "plt.plot(fpr,tpr,label=\"data 1, auc=\"+str(auc))\n",
        "plt.legend(loc=4)\n",
        "plt.show()"
      ],
      "metadata": {
        "id": "V0PibqopFcNr"
      },
      "execution_count": null,
      "outputs": []
    },
    {
      "cell_type": "code",
      "source": [
        "# Lets try using a boosting technique\n",
        "#i am chosing xgboost for this\n",
        "from xgboost import XGBClassifier\n",
        "clf = XGBClassifier(n_estimators = 100,class_weights=\"balanced\")\n",
        "clf.fit(X_train,y_train)\n",
        "train_score_rf=clf.score(X_train,y_train)\n",
        "test_score_rf=clf.score(X_test,y_test)\n",
        "print(f\"using a simple XGboost without any tuning we get a train score of {train_score_rf} & test score of {test_score_rf}\")\n"
      ],
      "metadata": {
        "id": "xTdH9r75941W"
      },
      "execution_count": null,
      "outputs": []
    },
    {
      "cell_type": "code",
      "source": [
        "# XGB_tuning\n",
        "params = {'max_depth': [3, 6, 10, 15],\n",
        "              'learning_rate': [0.01, 0.1, 0.2, 0.3, 0.4],\n",
        "              'subsample': np.arange(0.5, 1.0, 0.1),\n",
        "              'colsample_bytree': np.arange(0.5, 1.0, 0.1),\n",
        "              'colsample_bylevel': np.arange(0.5, 1.0, 0.1),\n",
        "              'n_estimators': [100, 250, 500, 750],\n",
        "              \"class_weight\":[\"balanced\"]\n",
        "              }\n",
        "\n",
        "xgbclf = XGBClassifier(objective=\"binary:logistic\", tree_method='hist')\n",
        "clf = RandomizedSearchCV(estimator=xgbclf,\n",
        "                        param_distributions=params,\n",
        "                        scoring='accuracy',\n",
        "                        n_iter=25,\n",
        "                         cv=3,\n",
        "                        n_jobs=-1,\n",
        "                        verbose=1)\n",
        "\n",
        "clf.fit(X_train, y_train)"
      ],
      "metadata": {
        "id": "pG3ghdf-_sOr"
      },
      "execution_count": null,
      "outputs": []
    },
    {
      "cell_type": "code",
      "source": [
        "best_param_xgb=clf.best_params_\n",
        "best_param_xgb['objective']=\"binary:logistic\"\n",
        "best_param_xgb['tree_method']=\"hist\"\n",
        "best_param_xgb"
      ],
      "metadata": {
        "id": "89G57PdSDDMG"
      },
      "execution_count": null,
      "outputs": []
    },
    {
      "cell_type": "code",
      "source": [
        "# XGB_tuning_2nd step to look close to the values of the previous best results\n",
        "\n",
        "params = {'max_depth': [3],\n",
        "              'learning_rate': np.arange(0.05,0.15,0.010),\n",
        "              'subsample': [0.9],\n",
        "              'colsample_bytree': np.arange(0.5, 0.7, 0.05),\n",
        "              'colsample_bylevel':[0.9],\n",
        "              'n_estimators': np.arange(80,120,1),\n",
        "              \"class_weight\":[\"balanced\"]\n",
        "              }\n",
        "\n",
        "xgbclf = XGBClassifier(objective=\"binary:logistic\", tree_method='hist')\n",
        "clf = RandomizedSearchCV(estimator=xgbclf,\n",
        "                        param_distributions=params,\n",
        "                        scoring='accuracy',n_iter=25,\n",
        "                        cv=3,\n",
        "                        n_jobs=-1,\n",
        "                        verbose=1)\n",
        "clf.fit(X_train, y_train)"
      ],
      "metadata": {
        "id": "tyo4nT_2IBKJ"
      },
      "execution_count": null,
      "outputs": []
    },
    {
      "cell_type": "code",
      "source": [
        "best_param_xgb=clf.best_params_\n",
        "best_param_xgb['objective']=\"binary:logistic\"\n",
        "best_param_xgb['tree_method']=\"hist\"\n",
        "best_param_xgb"
      ],
      "metadata": {
        "id": "FhmeCCm7JPvd"
      },
      "execution_count": null,
      "outputs": []
    },
    {
      "cell_type": "code",
      "source": [
        "xgb_tun=XGBClassifier(**best_param_xgb)\n",
        "xgb_tun.fit(X_train,y_train)\n",
        "train_score_xgb=xgb_tun.score(X_train,y_train)\n",
        "test_score_xgb=xgb_tun.score(X_test,y_test)\n",
        "print(f\"using a XGboost with tuning we get a train score of {train_score_xgb} & test score of {test_score_xgb}\")"
      ],
      "metadata": {
        "id": "nRNwnUdjHBbz"
      },
      "execution_count": null,
      "outputs": []
    },
    {
      "cell_type": "code",
      "source": [
        "#lets check the confusion matrix ,precision ,recall, AUROC and AUPR\n",
        "y_pred_xgb=xgb_tun.predict(X_test)\n",
        "pre_xgb=precision_score(y_test,y_pred_xgb)\n",
        "re_xgb=recall_score(y_test,y_pred_xgb)\n",
        "print(f\"The precision and recall for our tuned  xgboost are {pre_xgb} & {re_xgb}\")"
      ],
      "metadata": {
        "id": "dZT4LiX4K7vz"
      },
      "execution_count": null,
      "outputs": []
    },
    {
      "cell_type": "code",
      "source": [
        "cm = confusion_matrix(y_test, y_pred_xgb, normalize='all')\n",
        "cmd = ConfusionMatrixDisplay(cm, display_labels=['Churn','no_Churn'])\n",
        "cmd.plot()\n",
        "# we in this case tried to maximise the accuracy instead of any one of the scores like accuracy or recall as we need maximum accuracy and I dont think any one of the metrics is more important"
      ],
      "metadata": {
        "id": "HIoRmQuGLV_m"
      },
      "execution_count": null,
      "outputs": []
    },
    {
      "cell_type": "code",
      "source": [
        "fpr, tpr, _ = metrics.roc_curve(y_test,y_pred_xgb)\n",
        "auc = metrics.roc_auc_score(y_test, y_pred_xgb)\n",
        "plt.plot(fpr,tpr,label=\"data 1, auc=\"+str(auc))\n",
        "plt.legend(loc=4)\n",
        "plt.show()\n"
      ],
      "metadata": {
        "id": "IixyqjyhLc8t"
      },
      "execution_count": null,
      "outputs": []
    },
    {
      "cell_type": "code",
      "source": [
        "fpr, tpr, _ = metrics.precision_recall_curve(y_test,y_pred_xgb)\n",
        "auc = metrics.average_precision_score(y_test, y_pred_xgb)\n",
        "plt.plot(fpr,tpr,label=\"data 1, auc=\"+str(auc))\n",
        "plt.legend(loc=4)\n",
        "plt.show()"
      ],
      "metadata": {
        "id": "90_0Hb5lLnJe"
      },
      "execution_count": null,
      "outputs": []
    },
    {
      "cell_type": "code",
      "source": [
        "#Comparing the scores from XGboost and random forest\n",
        "cm = confusion_matrix(y_test, y_pred_rf, normalize='all')\n",
        "cmd = ConfusionMatrixDisplay(cm, display_labels=['Churn','no_Churn'])\n",
        "\n",
        "cmd.plot()\n",
        "cm = confusion_matrix(y_test, y_pred_xgb, normalize='all')\n",
        "cmd = ConfusionMatrixDisplay(cm, display_labels=['Churn','no_Churn'])\n",
        "cmd.plot()"
      ],
      "metadata": {
        "id": "g3K5H5oFPluU"
      },
      "execution_count": null,
      "outputs": []
    },
    {
      "cell_type": "markdown",
      "source": [
        "We can see that both of our tuned models give us similar scores for precision and recall with slightly better scores from the random forest"
      ],
      "metadata": {
        "id": "CVk8SVOEQBoj"
      }
    },
    {
      "cell_type": "code",
      "source": [
        "fpr_1, tpr_1, _ = metrics.roc_curve(y_test,y_pred_rf)\n",
        "auc_1 = metrics.roc_auc_score(y_test, y_pred_rf)\n",
        "plt.plot(fpr_1,tpr_1,label=\"Random forest, auc=\"+str(auc_1))\n",
        "fpr, tpr, _ = metrics.roc_curve(y_test,y_pred_xgb)\n",
        "auc = metrics.roc_auc_score(y_test, y_pred_xgb)\n",
        "plt.plot(fpr,tpr,label=\"Xgboost, auc=\"+str(auc))\n",
        "plt.legend(loc=4)\n",
        "plt.show()\n"
      ],
      "metadata": {
        "id": "SZgnd23HS8ZF"
      },
      "execution_count": null,
      "outputs": []
    },
    {
      "cell_type": "code",
      "source": [
        "fpr_2, tpr_2, _ = metrics.precision_recall_curve(y_test,y_pred_rf)\n",
        "auc_2 = metrics.average_precision_score(y_test, y_pred_rf)\n",
        "plt.plot(fpr_2, tpr_2,label=\"Random forest PR, auc=\"+str(auc_2))\n",
        "fpr_3, tpr_3, _ = metrics.precision_recall_curve(y_test,y_pred_xgb)\n",
        "auc_3 = metrics.average_precision_score(y_test, y_pred_xgb)\n",
        "plt.plot(fpr_3, tpr_3,label=\"XGBoost PR, auc=\"+str(auc_3))\n",
        "plt.legend(loc=4)\n",
        "plt.show()"
      ],
      "metadata": {
        "id": "C3TzMiqZTY4B"
      },
      "execution_count": null,
      "outputs": []
    },
    {
      "cell_type": "code",
      "source": [
        "#lets try lightGBM as well\n",
        "from lightgbm import LGBMClassifier\n",
        "Lgbm = LGBMClassifier(n_estimators = 100,class_weights=\"balanced\")\n",
        "Lgbm.fit(X_train,y_train)\n",
        "train_score_Lgbm=Lgbm.score(X_train,y_train)\n",
        "test_score_Lgbm=Lgbm.score(X_test,y_test)\n",
        "print(f\"using a simple lightgbm without any tuning we get a train score of {train_score_Lgbm} & test score of {test_score_Lgbm}\")"
      ],
      "metadata": {
        "colab": {
          "base_uri": "https://localhost:8080/"
        },
        "id": "Y6DrtRbdE_T3",
        "outputId": "cf2280cb-3d67-43d9-e582-71b116b78ee8"
      },
      "execution_count": null,
      "outputs": [
        {
          "output_type": "stream",
          "name": "stdout",
          "text": [
            "[LightGBM] [Warning] Unknown parameter: class_weights\n",
            "using a simple lightgbm without any tuning we get a train score of 1.0 & test score of 0.9329140461215933\n"
          ]
        }
      ]
    },
    {
      "cell_type": "code",
      "source": [
        "params = {'max_depth': np.arange(1,10,1),\n",
        "              'learning_rate': np.arange(0.05,0.15,0.010),\n",
        "              'n_estimators': np.arange(50,100,10),\n",
        "              \"class_weight\":[\"balanced\"]\n",
        "              }\n",
        "\n",
        "LGBM = LGBMClassifier()\n",
        "LGBM_R = RandomizedSearchCV(estimator=LGBM,\n",
        "                        param_distributions=params,\n",
        "                        scoring='accuracy',n_iter=25,\n",
        "                        cv=3,\n",
        "                        n_jobs=-1,\n",
        "                        verbose=1)\n",
        "LGBM_R.fit(X_train, y_train)"
      ],
      "metadata": {
        "id": "Q-M83i0XKG9w",
        "colab": {
          "base_uri": "https://localhost:8080/",
          "height": 135
        },
        "outputId": "7ed6a36e-14e8-4282-febb-2122296df8bf"
      },
      "execution_count": null,
      "outputs": [
        {
          "output_type": "stream",
          "name": "stdout",
          "text": [
            "Fitting 3 folds for each of 25 candidates, totalling 75 fits\n"
          ]
        },
        {
          "output_type": "execute_result",
          "data": {
            "text/plain": [
              "RandomizedSearchCV(cv=3, estimator=LGBMClassifier(), n_iter=25, n_jobs=-1,\n",
              "                   param_distributions={'class_weight': ['balanced'],\n",
              "                                        'learning_rate': array([0.05, 0.06, 0.07, 0.08, 0.09, 0.1 , 0.11, 0.12, 0.13, 0.14]),\n",
              "                                        'max_depth': array([1, 2, 3, 4, 5, 6, 7, 8, 9]),\n",
              "                                        'n_estimators': array([50, 60, 70, 80, 90])},\n",
              "                   scoring='accuracy', verbose=1)"
            ],
            "text/html": [
              "<style>#sk-container-id-1 {color: black;background-color: white;}#sk-container-id-1 pre{padding: 0;}#sk-container-id-1 div.sk-toggleable {background-color: white;}#sk-container-id-1 label.sk-toggleable__label {cursor: pointer;display: block;width: 100%;margin-bottom: 0;padding: 0.3em;box-sizing: border-box;text-align: center;}#sk-container-id-1 label.sk-toggleable__label-arrow:before {content: \"▸\";float: left;margin-right: 0.25em;color: #696969;}#sk-container-id-1 label.sk-toggleable__label-arrow:hover:before {color: black;}#sk-container-id-1 div.sk-estimator:hover label.sk-toggleable__label-arrow:before {color: black;}#sk-container-id-1 div.sk-toggleable__content {max-height: 0;max-width: 0;overflow: hidden;text-align: left;background-color: #f0f8ff;}#sk-container-id-1 div.sk-toggleable__content pre {margin: 0.2em;color: black;border-radius: 0.25em;background-color: #f0f8ff;}#sk-container-id-1 input.sk-toggleable__control:checked~div.sk-toggleable__content {max-height: 200px;max-width: 100%;overflow: auto;}#sk-container-id-1 input.sk-toggleable__control:checked~label.sk-toggleable__label-arrow:before {content: \"▾\";}#sk-container-id-1 div.sk-estimator input.sk-toggleable__control:checked~label.sk-toggleable__label {background-color: #d4ebff;}#sk-container-id-1 div.sk-label input.sk-toggleable__control:checked~label.sk-toggleable__label {background-color: #d4ebff;}#sk-container-id-1 input.sk-hidden--visually {border: 0;clip: rect(1px 1px 1px 1px);clip: rect(1px, 1px, 1px, 1px);height: 1px;margin: -1px;overflow: hidden;padding: 0;position: absolute;width: 1px;}#sk-container-id-1 div.sk-estimator {font-family: monospace;background-color: #f0f8ff;border: 1px dotted black;border-radius: 0.25em;box-sizing: border-box;margin-bottom: 0.5em;}#sk-container-id-1 div.sk-estimator:hover {background-color: #d4ebff;}#sk-container-id-1 div.sk-parallel-item::after {content: \"\";width: 100%;border-bottom: 1px solid gray;flex-grow: 1;}#sk-container-id-1 div.sk-label:hover label.sk-toggleable__label {background-color: #d4ebff;}#sk-container-id-1 div.sk-serial::before {content: \"\";position: absolute;border-left: 1px solid gray;box-sizing: border-box;top: 0;bottom: 0;left: 50%;z-index: 0;}#sk-container-id-1 div.sk-serial {display: flex;flex-direction: column;align-items: center;background-color: white;padding-right: 0.2em;padding-left: 0.2em;position: relative;}#sk-container-id-1 div.sk-item {position: relative;z-index: 1;}#sk-container-id-1 div.sk-parallel {display: flex;align-items: stretch;justify-content: center;background-color: white;position: relative;}#sk-container-id-1 div.sk-item::before, #sk-container-id-1 div.sk-parallel-item::before {content: \"\";position: absolute;border-left: 1px solid gray;box-sizing: border-box;top: 0;bottom: 0;left: 50%;z-index: -1;}#sk-container-id-1 div.sk-parallel-item {display: flex;flex-direction: column;z-index: 1;position: relative;background-color: white;}#sk-container-id-1 div.sk-parallel-item:first-child::after {align-self: flex-end;width: 50%;}#sk-container-id-1 div.sk-parallel-item:last-child::after {align-self: flex-start;width: 50%;}#sk-container-id-1 div.sk-parallel-item:only-child::after {width: 0;}#sk-container-id-1 div.sk-dashed-wrapped {border: 1px dashed gray;margin: 0 0.4em 0.5em 0.4em;box-sizing: border-box;padding-bottom: 0.4em;background-color: white;}#sk-container-id-1 div.sk-label label {font-family: monospace;font-weight: bold;display: inline-block;line-height: 1.2em;}#sk-container-id-1 div.sk-label-container {text-align: center;}#sk-container-id-1 div.sk-container {/* jupyter's `normalize.less` sets `[hidden] { display: none; }` but bootstrap.min.css set `[hidden] { display: none !important; }` so we also need the `!important` here to be able to override the default hidden behavior on the sphinx rendered scikit-learn.org. See: https://github.com/scikit-learn/scikit-learn/issues/21755 */display: inline-block !important;position: relative;}#sk-container-id-1 div.sk-text-repr-fallback {display: none;}</style><div id=\"sk-container-id-1\" class=\"sk-top-container\"><div class=\"sk-text-repr-fallback\"><pre>RandomizedSearchCV(cv=3, estimator=LGBMClassifier(), n_iter=25, n_jobs=-1,\n",
              "                   param_distributions={&#x27;class_weight&#x27;: [&#x27;balanced&#x27;],\n",
              "                                        &#x27;learning_rate&#x27;: array([0.05, 0.06, 0.07, 0.08, 0.09, 0.1 , 0.11, 0.12, 0.13, 0.14]),\n",
              "                                        &#x27;max_depth&#x27;: array([1, 2, 3, 4, 5, 6, 7, 8, 9]),\n",
              "                                        &#x27;n_estimators&#x27;: array([50, 60, 70, 80, 90])},\n",
              "                   scoring=&#x27;accuracy&#x27;, verbose=1)</pre><b>In a Jupyter environment, please rerun this cell to show the HTML representation or trust the notebook. <br />On GitHub, the HTML representation is unable to render, please try loading this page with nbviewer.org.</b></div><div class=\"sk-container\" hidden><div class=\"sk-item sk-dashed-wrapped\"><div class=\"sk-label-container\"><div class=\"sk-label sk-toggleable\"><input class=\"sk-toggleable__control sk-hidden--visually\" id=\"sk-estimator-id-1\" type=\"checkbox\" ><label for=\"sk-estimator-id-1\" class=\"sk-toggleable__label sk-toggleable__label-arrow\">RandomizedSearchCV</label><div class=\"sk-toggleable__content\"><pre>RandomizedSearchCV(cv=3, estimator=LGBMClassifier(), n_iter=25, n_jobs=-1,\n",
              "                   param_distributions={&#x27;class_weight&#x27;: [&#x27;balanced&#x27;],\n",
              "                                        &#x27;learning_rate&#x27;: array([0.05, 0.06, 0.07, 0.08, 0.09, 0.1 , 0.11, 0.12, 0.13, 0.14]),\n",
              "                                        &#x27;max_depth&#x27;: array([1, 2, 3, 4, 5, 6, 7, 8, 9]),\n",
              "                                        &#x27;n_estimators&#x27;: array([50, 60, 70, 80, 90])},\n",
              "                   scoring=&#x27;accuracy&#x27;, verbose=1)</pre></div></div></div><div class=\"sk-parallel\"><div class=\"sk-parallel-item\"><div class=\"sk-item\"><div class=\"sk-label-container\"><div class=\"sk-label sk-toggleable\"><input class=\"sk-toggleable__control sk-hidden--visually\" id=\"sk-estimator-id-2\" type=\"checkbox\" ><label for=\"sk-estimator-id-2\" class=\"sk-toggleable__label sk-toggleable__label-arrow\">estimator: LGBMClassifier</label><div class=\"sk-toggleable__content\"><pre>LGBMClassifier()</pre></div></div></div><div class=\"sk-serial\"><div class=\"sk-item\"><div class=\"sk-estimator sk-toggleable\"><input class=\"sk-toggleable__control sk-hidden--visually\" id=\"sk-estimator-id-3\" type=\"checkbox\" ><label for=\"sk-estimator-id-3\" class=\"sk-toggleable__label sk-toggleable__label-arrow\">LGBMClassifier</label><div class=\"sk-toggleable__content\"><pre>LGBMClassifier()</pre></div></div></div></div></div></div></div></div></div></div>"
            ]
          },
          "metadata": {},
          "execution_count": 53
        }
      ]
    },
    {
      "cell_type": "code",
      "source": [
        "LGBM_tun=LGBMClassifier(**LGBM_R.best_params_)\n",
        "LGBM_tun.fit(X_train,y_train)\n",
        "train_score_LGB=LGBM_tun.score(X_train,y_train)\n",
        "test_score_LGB=LGBM_tun.score(X_test,y_test)\n",
        "print(f\"using a LGB with tuning we get a train score of {train_score_LGB} & test score of {test_score_LGB}\")"
      ],
      "metadata": {
        "colab": {
          "base_uri": "https://localhost:8080/"
        },
        "id": "XEIYROWpO8un",
        "outputId": "d9a9e939-ddbf-42a8-bfb1-5f8c3fab4373"
      },
      "execution_count": null,
      "outputs": [
        {
          "output_type": "stream",
          "name": "stdout",
          "text": [
            "using a LGB with tuning we get a train score of 0.9448456992777413 & test score of 0.9371069182389937\n"
          ]
        }
      ]
    },
    {
      "cell_type": "code",
      "source": [
        "y_pred_LGB=LGBM_tun.predict(X_test)\n",
        "pre_LGB=precision_score(y_test,y_pred_LGB)\n",
        "re_LGB=recall_score(y_test,y_pred_LGB)\n",
        "print(f\"The precision and recall for our tuned  LightGBM are {pre_LGB} & {re_LGB}\")"
      ],
      "metadata": {
        "colab": {
          "base_uri": "https://localhost:8080/",
          "height": 217
        },
        "id": "0cXUxTOsnji9",
        "outputId": "ee52d639-f0db-417c-ecbb-e42a6e86486c"
      },
      "execution_count": null,
      "outputs": [
        {
          "output_type": "error",
          "ename": "NameError",
          "evalue": "ignored",
          "traceback": [
            "\u001b[0;31m---------------------------------------------------------------------------\u001b[0m",
            "\u001b[0;31mNameError\u001b[0m                                 Traceback (most recent call last)",
            "\u001b[0;32m<ipython-input-55-84a12014efff>\u001b[0m in \u001b[0;36m<cell line: 2>\u001b[0;34m()\u001b[0m\n\u001b[1;32m      1\u001b[0m \u001b[0my_pred_LGB\u001b[0m\u001b[0;34m=\u001b[0m\u001b[0mLGBM_tun\u001b[0m\u001b[0;34m.\u001b[0m\u001b[0mpredict\u001b[0m\u001b[0;34m(\u001b[0m\u001b[0mX_test\u001b[0m\u001b[0;34m)\u001b[0m\u001b[0;34m\u001b[0m\u001b[0;34m\u001b[0m\u001b[0m\n\u001b[0;32m----> 2\u001b[0;31m \u001b[0mpre_LGB\u001b[0m\u001b[0;34m=\u001b[0m\u001b[0mprecision_score\u001b[0m\u001b[0;34m(\u001b[0m\u001b[0my_test\u001b[0m\u001b[0;34m,\u001b[0m\u001b[0my_pred_LGB\u001b[0m\u001b[0;34m)\u001b[0m\u001b[0;34m\u001b[0m\u001b[0;34m\u001b[0m\u001b[0m\n\u001b[0m\u001b[1;32m      3\u001b[0m \u001b[0mre_LGB\u001b[0m\u001b[0;34m=\u001b[0m\u001b[0mrecall_score\u001b[0m\u001b[0;34m(\u001b[0m\u001b[0my_test\u001b[0m\u001b[0;34m,\u001b[0m\u001b[0my_pred_LGB\u001b[0m\u001b[0;34m)\u001b[0m\u001b[0;34m\u001b[0m\u001b[0;34m\u001b[0m\u001b[0m\n\u001b[1;32m      4\u001b[0m \u001b[0mprint\u001b[0m\u001b[0;34m(\u001b[0m\u001b[0;34mf\"The precision and recall for our tuned  LightGBM are {pre_LGB} & {re_LGB}\"\u001b[0m\u001b[0;34m)\u001b[0m\u001b[0;34m\u001b[0m\u001b[0;34m\u001b[0m\u001b[0m\n",
            "\u001b[0;31mNameError\u001b[0m: name 'precision_score' is not defined"
          ]
        }
      ]
    },
    {
      "cell_type": "code",
      "source": [
        "cm = confusion_matrix(y_test, y_pred_LGB, normalize='all')\n",
        "cmd = ConfusionMatrixDisplay(cm, display_labels=['Churn','no_Churn'])\n",
        "cmd.plot()"
      ],
      "metadata": {
        "id": "5LtcRKe6PPqI"
      },
      "execution_count": null,
      "outputs": []
    },
    {
      "cell_type": "code",
      "source": [
        "#the Light GBM above gives us slight better precision as compared to the other models"
      ],
      "metadata": {
        "id": "rwwSfHy6n3k1"
      },
      "execution_count": null,
      "outputs": []
    },
    {
      "cell_type": "code",
      "source": [
        "# deploying the model using pickle\n",
        "import pickle\n",
        "pickle.dump(LGBM_tun,open(\"model.pkl\",\"wb\"))"
      ],
      "metadata": {
        "id": "C43u0tUxo31B"
      },
      "execution_count": null,
      "outputs": []
    },
    {
      "cell_type": "code",
      "source": [
        "X_train"
      ],
      "metadata": {
        "colab": {
          "base_uri": "https://localhost:8080/",
          "height": 424
        },
        "id": "ic8l_bBJ0Uwb",
        "outputId": "aa27a930-838f-4dd2-b046-b0ed8563b2da"
      },
      "execution_count": null,
      "outputs": [
        {
          "output_type": "execute_result",
          "data": {
            "text/plain": [
              "       Age  Gender      City  Education_Level  Income  Joining Designation  \\\n",
              "260   34.0     0.0  0.595377                0   26047                    2   \n",
              "635   36.0     0.0  0.709261                0   73273                    2   \n",
              "984   34.0     0.0  0.709261                2   50547                    3   \n",
              "2098  26.0     1.0  0.654376                2   36191                    1   \n",
              "1110  35.0     0.0  0.774067                0   55638                    3   \n",
              "...    ...     ...       ...              ...     ...                  ...   \n",
              "981   31.0     0.0  0.674162                1   46239                    1   \n",
              "2033  28.0     1.0  0.706553                0   14820                    1   \n",
              "1906  49.0     1.0  0.634237                0   53572                    1   \n",
              "158   34.0     1.0  0.607789                2   62199                    2   \n",
              "1198  25.0     0.0  0.600195                2   44061                    1   \n",
              "\n",
              "      Income_decrease  Grade_decrease  Rating_increase  number_month  \\\n",
              "260                 0               0                0           7.0   \n",
              "635                 0               0                0           5.0   \n",
              "984                 0               0               -1           5.0   \n",
              "2098                0               0                0           6.0   \n",
              "1110                0               0                0           1.0   \n",
              "...               ...             ...              ...           ...   \n",
              "981                 0               0                0           5.0   \n",
              "2033                0               0                1           5.0   \n",
              "1906                0               0                1           5.0   \n",
              "158                 0               0                1           4.0   \n",
              "1198                0               0                0           5.0   \n",
              "\n",
              "      month_of_join  year_of_join  \n",
              "260               3          2020  \n",
              "635               1          2020  \n",
              "984               8          2020  \n",
              "2098              5          2020  \n",
              "1110              5          2019  \n",
              "...             ...           ...  \n",
              "981               9          2018  \n",
              "2033              7          2020  \n",
              "1906              8          2015  \n",
              "158               4          2020  \n",
              "1198              7          2020  \n",
              "\n",
              "[1523 rows x 12 columns]"
            ],
            "text/html": [
              "\n",
              "\n",
              "  <div id=\"df-adc3c41d-2bd9-407f-95bb-55281c552b6d\">\n",
              "    <div class=\"colab-df-container\">\n",
              "      <div>\n",
              "<style scoped>\n",
              "    .dataframe tbody tr th:only-of-type {\n",
              "        vertical-align: middle;\n",
              "    }\n",
              "\n",
              "    .dataframe tbody tr th {\n",
              "        vertical-align: top;\n",
              "    }\n",
              "\n",
              "    .dataframe thead th {\n",
              "        text-align: right;\n",
              "    }\n",
              "</style>\n",
              "<table border=\"1\" class=\"dataframe\">\n",
              "  <thead>\n",
              "    <tr style=\"text-align: right;\">\n",
              "      <th></th>\n",
              "      <th>Age</th>\n",
              "      <th>Gender</th>\n",
              "      <th>City</th>\n",
              "      <th>Education_Level</th>\n",
              "      <th>Income</th>\n",
              "      <th>Joining Designation</th>\n",
              "      <th>Income_decrease</th>\n",
              "      <th>Grade_decrease</th>\n",
              "      <th>Rating_increase</th>\n",
              "      <th>number_month</th>\n",
              "      <th>month_of_join</th>\n",
              "      <th>year_of_join</th>\n",
              "    </tr>\n",
              "  </thead>\n",
              "  <tbody>\n",
              "    <tr>\n",
              "      <th>260</th>\n",
              "      <td>34.0</td>\n",
              "      <td>0.0</td>\n",
              "      <td>0.595377</td>\n",
              "      <td>0</td>\n",
              "      <td>26047</td>\n",
              "      <td>2</td>\n",
              "      <td>0</td>\n",
              "      <td>0</td>\n",
              "      <td>0</td>\n",
              "      <td>7.0</td>\n",
              "      <td>3</td>\n",
              "      <td>2020</td>\n",
              "    </tr>\n",
              "    <tr>\n",
              "      <th>635</th>\n",
              "      <td>36.0</td>\n",
              "      <td>0.0</td>\n",
              "      <td>0.709261</td>\n",
              "      <td>0</td>\n",
              "      <td>73273</td>\n",
              "      <td>2</td>\n",
              "      <td>0</td>\n",
              "      <td>0</td>\n",
              "      <td>0</td>\n",
              "      <td>5.0</td>\n",
              "      <td>1</td>\n",
              "      <td>2020</td>\n",
              "    </tr>\n",
              "    <tr>\n",
              "      <th>984</th>\n",
              "      <td>34.0</td>\n",
              "      <td>0.0</td>\n",
              "      <td>0.709261</td>\n",
              "      <td>2</td>\n",
              "      <td>50547</td>\n",
              "      <td>3</td>\n",
              "      <td>0</td>\n",
              "      <td>0</td>\n",
              "      <td>-1</td>\n",
              "      <td>5.0</td>\n",
              "      <td>8</td>\n",
              "      <td>2020</td>\n",
              "    </tr>\n",
              "    <tr>\n",
              "      <th>2098</th>\n",
              "      <td>26.0</td>\n",
              "      <td>1.0</td>\n",
              "      <td>0.654376</td>\n",
              "      <td>2</td>\n",
              "      <td>36191</td>\n",
              "      <td>1</td>\n",
              "      <td>0</td>\n",
              "      <td>0</td>\n",
              "      <td>0</td>\n",
              "      <td>6.0</td>\n",
              "      <td>5</td>\n",
              "      <td>2020</td>\n",
              "    </tr>\n",
              "    <tr>\n",
              "      <th>1110</th>\n",
              "      <td>35.0</td>\n",
              "      <td>0.0</td>\n",
              "      <td>0.774067</td>\n",
              "      <td>0</td>\n",
              "      <td>55638</td>\n",
              "      <td>3</td>\n",
              "      <td>0</td>\n",
              "      <td>0</td>\n",
              "      <td>0</td>\n",
              "      <td>1.0</td>\n",
              "      <td>5</td>\n",
              "      <td>2019</td>\n",
              "    </tr>\n",
              "    <tr>\n",
              "      <th>...</th>\n",
              "      <td>...</td>\n",
              "      <td>...</td>\n",
              "      <td>...</td>\n",
              "      <td>...</td>\n",
              "      <td>...</td>\n",
              "      <td>...</td>\n",
              "      <td>...</td>\n",
              "      <td>...</td>\n",
              "      <td>...</td>\n",
              "      <td>...</td>\n",
              "      <td>...</td>\n",
              "      <td>...</td>\n",
              "    </tr>\n",
              "    <tr>\n",
              "      <th>981</th>\n",
              "      <td>31.0</td>\n",
              "      <td>0.0</td>\n",
              "      <td>0.674162</td>\n",
              "      <td>1</td>\n",
              "      <td>46239</td>\n",
              "      <td>1</td>\n",
              "      <td>0</td>\n",
              "      <td>0</td>\n",
              "      <td>0</td>\n",
              "      <td>5.0</td>\n",
              "      <td>9</td>\n",
              "      <td>2018</td>\n",
              "    </tr>\n",
              "    <tr>\n",
              "      <th>2033</th>\n",
              "      <td>28.0</td>\n",
              "      <td>1.0</td>\n",
              "      <td>0.706553</td>\n",
              "      <td>0</td>\n",
              "      <td>14820</td>\n",
              "      <td>1</td>\n",
              "      <td>0</td>\n",
              "      <td>0</td>\n",
              "      <td>1</td>\n",
              "      <td>5.0</td>\n",
              "      <td>7</td>\n",
              "      <td>2020</td>\n",
              "    </tr>\n",
              "    <tr>\n",
              "      <th>1906</th>\n",
              "      <td>49.0</td>\n",
              "      <td>1.0</td>\n",
              "      <td>0.634237</td>\n",
              "      <td>0</td>\n",
              "      <td>53572</td>\n",
              "      <td>1</td>\n",
              "      <td>0</td>\n",
              "      <td>0</td>\n",
              "      <td>1</td>\n",
              "      <td>5.0</td>\n",
              "      <td>8</td>\n",
              "      <td>2015</td>\n",
              "    </tr>\n",
              "    <tr>\n",
              "      <th>158</th>\n",
              "      <td>34.0</td>\n",
              "      <td>1.0</td>\n",
              "      <td>0.607789</td>\n",
              "      <td>2</td>\n",
              "      <td>62199</td>\n",
              "      <td>2</td>\n",
              "      <td>0</td>\n",
              "      <td>0</td>\n",
              "      <td>1</td>\n",
              "      <td>4.0</td>\n",
              "      <td>4</td>\n",
              "      <td>2020</td>\n",
              "    </tr>\n",
              "    <tr>\n",
              "      <th>1198</th>\n",
              "      <td>25.0</td>\n",
              "      <td>0.0</td>\n",
              "      <td>0.600195</td>\n",
              "      <td>2</td>\n",
              "      <td>44061</td>\n",
              "      <td>1</td>\n",
              "      <td>0</td>\n",
              "      <td>0</td>\n",
              "      <td>0</td>\n",
              "      <td>5.0</td>\n",
              "      <td>7</td>\n",
              "      <td>2020</td>\n",
              "    </tr>\n",
              "  </tbody>\n",
              "</table>\n",
              "<p>1523 rows × 12 columns</p>\n",
              "</div>\n",
              "      <button class=\"colab-df-convert\" onclick=\"convertToInteractive('df-adc3c41d-2bd9-407f-95bb-55281c552b6d')\"\n",
              "              title=\"Convert this dataframe to an interactive table.\"\n",
              "              style=\"display:none;\">\n",
              "\n",
              "  <svg xmlns=\"http://www.w3.org/2000/svg\" height=\"24px\"viewBox=\"0 0 24 24\"\n",
              "       width=\"24px\">\n",
              "    <path d=\"M0 0h24v24H0V0z\" fill=\"none\"/>\n",
              "    <path d=\"M18.56 5.44l.94 2.06.94-2.06 2.06-.94-2.06-.94-.94-2.06-.94 2.06-2.06.94zm-11 1L8.5 8.5l.94-2.06 2.06-.94-2.06-.94L8.5 2.5l-.94 2.06-2.06.94zm10 10l.94 2.06.94-2.06 2.06-.94-2.06-.94-.94-2.06-.94 2.06-2.06.94z\"/><path d=\"M17.41 7.96l-1.37-1.37c-.4-.4-.92-.59-1.43-.59-.52 0-1.04.2-1.43.59L10.3 9.45l-7.72 7.72c-.78.78-.78 2.05 0 2.83L4 21.41c.39.39.9.59 1.41.59.51 0 1.02-.2 1.41-.59l7.78-7.78 2.81-2.81c.8-.78.8-2.07 0-2.86zM5.41 20L4 18.59l7.72-7.72 1.47 1.35L5.41 20z\"/>\n",
              "  </svg>\n",
              "      </button>\n",
              "\n",
              "\n",
              "\n",
              "    <div id=\"df-da28ebef-4029-48f2-adc7-36c3b00aa6d4\">\n",
              "      <button class=\"colab-df-quickchart\" onclick=\"quickchart('df-da28ebef-4029-48f2-adc7-36c3b00aa6d4')\"\n",
              "              title=\"Suggest charts.\"\n",
              "              style=\"display:none;\">\n",
              "\n",
              "<svg xmlns=\"http://www.w3.org/2000/svg\" height=\"24px\"viewBox=\"0 0 24 24\"\n",
              "     width=\"24px\">\n",
              "    <g>\n",
              "        <path d=\"M19 3H5c-1.1 0-2 .9-2 2v14c0 1.1.9 2 2 2h14c1.1 0 2-.9 2-2V5c0-1.1-.9-2-2-2zM9 17H7v-7h2v7zm4 0h-2V7h2v10zm4 0h-2v-4h2v4z\"/>\n",
              "    </g>\n",
              "</svg>\n",
              "      </button>\n",
              "    </div>\n",
              "\n",
              "<style>\n",
              "  .colab-df-quickchart {\n",
              "    background-color: #E8F0FE;\n",
              "    border: none;\n",
              "    border-radius: 50%;\n",
              "    cursor: pointer;\n",
              "    display: none;\n",
              "    fill: #1967D2;\n",
              "    height: 32px;\n",
              "    padding: 0 0 0 0;\n",
              "    width: 32px;\n",
              "  }\n",
              "\n",
              "  .colab-df-quickchart:hover {\n",
              "    background-color: #E2EBFA;\n",
              "    box-shadow: 0px 1px 2px rgba(60, 64, 67, 0.3), 0px 1px 3px 1px rgba(60, 64, 67, 0.15);\n",
              "    fill: #174EA6;\n",
              "  }\n",
              "\n",
              "  [theme=dark] .colab-df-quickchart {\n",
              "    background-color: #3B4455;\n",
              "    fill: #D2E3FC;\n",
              "  }\n",
              "\n",
              "  [theme=dark] .colab-df-quickchart:hover {\n",
              "    background-color: #434B5C;\n",
              "    box-shadow: 0px 1px 3px 1px rgba(0, 0, 0, 0.15);\n",
              "    filter: drop-shadow(0px 1px 2px rgba(0, 0, 0, 0.3));\n",
              "    fill: #FFFFFF;\n",
              "  }\n",
              "</style>\n",
              "\n",
              "    <script>\n",
              "      async function quickchart(key) {\n",
              "        const containerElement = document.querySelector('#' + key);\n",
              "        const charts = await google.colab.kernel.invokeFunction(\n",
              "            'suggestCharts', [key], {});\n",
              "      }\n",
              "    </script>\n",
              "\n",
              "      <script>\n",
              "\n",
              "function displayQuickchartButton(domScope) {\n",
              "  let quickchartButtonEl =\n",
              "    domScope.querySelector('#df-da28ebef-4029-48f2-adc7-36c3b00aa6d4 button.colab-df-quickchart');\n",
              "  quickchartButtonEl.style.display =\n",
              "    google.colab.kernel.accessAllowed ? 'block' : 'none';\n",
              "}\n",
              "\n",
              "        displayQuickchartButton(document);\n",
              "      </script>\n",
              "      <style>\n",
              "    .colab-df-container {\n",
              "      display:flex;\n",
              "      flex-wrap:wrap;\n",
              "      gap: 12px;\n",
              "    }\n",
              "\n",
              "    .colab-df-convert {\n",
              "      background-color: #E8F0FE;\n",
              "      border: none;\n",
              "      border-radius: 50%;\n",
              "      cursor: pointer;\n",
              "      display: none;\n",
              "      fill: #1967D2;\n",
              "      height: 32px;\n",
              "      padding: 0 0 0 0;\n",
              "      width: 32px;\n",
              "    }\n",
              "\n",
              "    .colab-df-convert:hover {\n",
              "      background-color: #E2EBFA;\n",
              "      box-shadow: 0px 1px 2px rgba(60, 64, 67, 0.3), 0px 1px 3px 1px rgba(60, 64, 67, 0.15);\n",
              "      fill: #174EA6;\n",
              "    }\n",
              "\n",
              "    [theme=dark] .colab-df-convert {\n",
              "      background-color: #3B4455;\n",
              "      fill: #D2E3FC;\n",
              "    }\n",
              "\n",
              "    [theme=dark] .colab-df-convert:hover {\n",
              "      background-color: #434B5C;\n",
              "      box-shadow: 0px 1px 3px 1px rgba(0, 0, 0, 0.15);\n",
              "      filter: drop-shadow(0px 1px 2px rgba(0, 0, 0, 0.3));\n",
              "      fill: #FFFFFF;\n",
              "    }\n",
              "  </style>\n",
              "\n",
              "      <script>\n",
              "        const buttonEl =\n",
              "          document.querySelector('#df-adc3c41d-2bd9-407f-95bb-55281c552b6d button.colab-df-convert');\n",
              "        buttonEl.style.display =\n",
              "          google.colab.kernel.accessAllowed ? 'block' : 'none';\n",
              "\n",
              "        async function convertToInteractive(key) {\n",
              "          const element = document.querySelector('#df-adc3c41d-2bd9-407f-95bb-55281c552b6d');\n",
              "          const dataTable =\n",
              "            await google.colab.kernel.invokeFunction('convertToInteractive',\n",
              "                                                     [key], {});\n",
              "          if (!dataTable) return;\n",
              "\n",
              "          const docLinkHtml = 'Like what you see? Visit the ' +\n",
              "            '<a target=\"_blank\" href=https://colab.research.google.com/notebooks/data_table.ipynb>data table notebook</a>'\n",
              "            + ' to learn more about interactive tables.';\n",
              "          element.innerHTML = '';\n",
              "          dataTable['output_type'] = 'display_data';\n",
              "          await google.colab.output.renderOutput(dataTable, element);\n",
              "          const docLink = document.createElement('div');\n",
              "          docLink.innerHTML = docLinkHtml;\n",
              "          element.appendChild(docLink);\n",
              "        }\n",
              "      </script>\n",
              "    </div>\n",
              "  </div>\n"
            ]
          },
          "metadata": {},
          "execution_count": 58
        }
      ]
    },
    {
      "cell_type": "code",
      "source": [],
      "metadata": {
        "id": "IWfdAsrG7i64"
      },
      "execution_count": null,
      "outputs": []
    }
  ]
}